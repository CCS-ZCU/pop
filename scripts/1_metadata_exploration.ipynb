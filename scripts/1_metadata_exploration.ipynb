{
 "cells": [
  {
   "cell_type": "code",
   "execution_count": 1,
   "outputs": [],
   "source": [
    "import nltk\n",
    "import numpy as np\n",
    "import pandas as pd\n",
    "import os\n",
    "import unicodedata\n",
    "\n",
    "import google_conf"
   ],
   "metadata": {
    "collapsed": false,
    "ExecuteTime": {
     "start_time": "2023-04-01T08:43:45.314326Z",
     "end_time": "2023-04-01T08:43:45.718985Z"
    }
   }
  },
  {
   "cell_type": "code",
   "execution_count": 39,
   "outputs": [],
   "source": [],
   "metadata": {
    "collapsed": false
   }
  },
  {
   "cell_type": "code",
   "execution_count": 52,
   "outputs": [],
   "source": [
    "# uncomment to establish a connection with google sheet\n",
    "# pop_data = google_conf.setup(sheet_url=\"https://docs.google.com/spreadsheets/d/1o8L0Rt4CzQ_DcYdaKgCdige4nJs0sydlTGiMBSstQtc/edit?usp=sharing\", service_account_path=\"../../ServiceAccountsKey.json\")\n"
   ],
   "metadata": {
    "collapsed": false
   }
  },
  {
   "cell_type": "code",
   "execution_count": 171,
   "outputs": [
    {
     "data": {
      "text/plain": "   year                 authors                            journal  \\\n0  2011              Bos et al.            Political Communication   \n1  2019         Blassnig et al.            Political Communication   \n2  2017                Caramani  American Political Science Review   \n3  2020  Wuttke,Schimpf, Schoen  American Political Science Review   \n4  2014                   Treib  Journal of European Public Policy   \n\n                                               title     type pdf? keywords  \\\n0  How the Media Shape Perceptions of Right-Wing ...  article    y        y   \n1  Hitting a Nerve: Populist News Articles Lead t...  article    y        y   \n2  Will vs. Reason: The Populist and Technocratic...  article    y        y   \n3  When the Whole Is Greater than the Sum of Its ...  article    y        y   \n4  The voter says no, but nobody listens: causes ...  article    y        y   \n\n  keywords_online? notes  \n0                y   NaN  \n1                y   NaN  \n2              NaN   NaN  \n3              NaN   NaN  \n4              NaN   NaN  ",
      "text/html": "<div>\n<style scoped>\n    .dataframe tbody tr th:only-of-type {\n        vertical-align: middle;\n    }\n\n    .dataframe tbody tr th {\n        vertical-align: top;\n    }\n\n    .dataframe thead th {\n        text-align: right;\n    }\n</style>\n<table border=\"1\" class=\"dataframe\">\n  <thead>\n    <tr style=\"text-align: right;\">\n      <th></th>\n      <th>year</th>\n      <th>authors</th>\n      <th>journal</th>\n      <th>title</th>\n      <th>type</th>\n      <th>pdf?</th>\n      <th>keywords</th>\n      <th>keywords_online?</th>\n      <th>notes</th>\n    </tr>\n  </thead>\n  <tbody>\n    <tr>\n      <th>0</th>\n      <td>2011</td>\n      <td>Bos et al.</td>\n      <td>Political Communication</td>\n      <td>How the Media Shape Perceptions of Right-Wing ...</td>\n      <td>article</td>\n      <td>y</td>\n      <td>y</td>\n      <td>y</td>\n      <td>NaN</td>\n    </tr>\n    <tr>\n      <th>1</th>\n      <td>2019</td>\n      <td>Blassnig et al.</td>\n      <td>Political Communication</td>\n      <td>Hitting a Nerve: Populist News Articles Lead t...</td>\n      <td>article</td>\n      <td>y</td>\n      <td>y</td>\n      <td>y</td>\n      <td>NaN</td>\n    </tr>\n    <tr>\n      <th>2</th>\n      <td>2017</td>\n      <td>Caramani</td>\n      <td>American Political Science Review</td>\n      <td>Will vs. Reason: The Populist and Technocratic...</td>\n      <td>article</td>\n      <td>y</td>\n      <td>y</td>\n      <td>NaN</td>\n      <td>NaN</td>\n    </tr>\n    <tr>\n      <th>3</th>\n      <td>2020</td>\n      <td>Wuttke,Schimpf, Schoen</td>\n      <td>American Political Science Review</td>\n      <td>When the Whole Is Greater than the Sum of Its ...</td>\n      <td>article</td>\n      <td>y</td>\n      <td>y</td>\n      <td>NaN</td>\n      <td>NaN</td>\n    </tr>\n    <tr>\n      <th>4</th>\n      <td>2014</td>\n      <td>Treib</td>\n      <td>Journal of European Public Policy</td>\n      <td>The voter says no, but nobody listens: causes ...</td>\n      <td>article</td>\n      <td>y</td>\n      <td>y</td>\n      <td>NaN</td>\n      <td>NaN</td>\n    </tr>\n  </tbody>\n</table>\n</div>"
     },
     "execution_count": 171,
     "metadata": {},
     "output_type": "execute_result"
    }
   ],
   "source": [
    "articles_metadata = pd.read_csv(\"../data/articles_metadata_INPUT.csv\")\n",
    "articles_metadata.head(5)"
   ],
   "metadata": {
    "collapsed": false
   }
  },
  {
   "cell_type": "code",
   "execution_count": 172,
   "outputs": [
    {
     "data": {
      "text/plain": "541"
     },
     "execution_count": 172,
     "metadata": {},
     "output_type": "execute_result"
    }
   ],
   "source": [
    "len(articles_metadata)"
   ],
   "metadata": {
    "collapsed": false
   }
  },
  {
   "cell_type": "code",
   "execution_count": 173,
   "outputs": [
    {
     "data": {
      "text/plain": "     year    authors                               journal  \\\n52   2018     Gamboa                  Journal of Democracy   \n461  2020  Schoenman  Communist and Post-Communist Studies   \n\n                                                 title     type pdf? keywords  \\\n52   Latin America’s Shifting Politics: The Peace P...  article    n        y   \n461  Old Wine in New Bottles? New Parties and Polic...  article    n        y   \n\n    keywords_online?                           notes  \n52                 y  NEJDE STÁHNOUT - NEMÁM PŘÍSTUP  \n461              NaN  NEJDE STÁHNOUT - NEMÁM PŘÍSTUP  ",
      "text/html": "<div>\n<style scoped>\n    .dataframe tbody tr th:only-of-type {\n        vertical-align: middle;\n    }\n\n    .dataframe tbody tr th {\n        vertical-align: top;\n    }\n\n    .dataframe thead th {\n        text-align: right;\n    }\n</style>\n<table border=\"1\" class=\"dataframe\">\n  <thead>\n    <tr style=\"text-align: right;\">\n      <th></th>\n      <th>year</th>\n      <th>authors</th>\n      <th>journal</th>\n      <th>title</th>\n      <th>type</th>\n      <th>pdf?</th>\n      <th>keywords</th>\n      <th>keywords_online?</th>\n      <th>notes</th>\n    </tr>\n  </thead>\n  <tbody>\n    <tr>\n      <th>52</th>\n      <td>2018</td>\n      <td>Gamboa</td>\n      <td>Journal of Democracy</td>\n      <td>Latin America’s Shifting Politics: The Peace P...</td>\n      <td>article</td>\n      <td>n</td>\n      <td>y</td>\n      <td>y</td>\n      <td>NEJDE STÁHNOUT - NEMÁM PŘÍSTUP</td>\n    </tr>\n    <tr>\n      <th>461</th>\n      <td>2020</td>\n      <td>Schoenman</td>\n      <td>Communist and Post-Communist Studies</td>\n      <td>Old Wine in New Bottles? New Parties and Polic...</td>\n      <td>article</td>\n      <td>n</td>\n      <td>y</td>\n      <td>NaN</td>\n      <td>NEJDE STÁHNOUT - NEMÁM PŘÍSTUP</td>\n    </tr>\n  </tbody>\n</table>\n</div>"
     },
     "execution_count": 173,
     "metadata": {},
     "output_type": "execute_result"
    }
   ],
   "source": [
    "articles_metadata[~(articles_metadata[\"pdf?\"]==\"y\")]"
   ],
   "metadata": {
    "collapsed": false
   }
  },
  {
   "cell_type": "code",
   "execution_count": 174,
   "outputs": [
    {
     "data": {
      "text/plain": "539"
     },
     "execution_count": 174,
     "metadata": {},
     "output_type": "execute_result"
    }
   ],
   "source": [
    "articles_metadata = articles_metadata[articles_metadata[\"pdf?\"]==\"y\"].copy()\n",
    "len(articles_metadata)"
   ],
   "metadata": {
    "collapsed": false
   }
  },
  {
   "cell_type": "code",
   "execution_count": 175,
   "outputs": [],
   "source": [
    "# Collect paths"
   ],
   "metadata": {
    "collapsed": false
   }
  },
  {
   "cell_type": "code",
   "execution_count": 176,
   "outputs": [
    {
     "data": {
      "text/plain": "['American Political Science Review/2017 - Caramani - Will vs. Reason_The Populist and Technocratic Forms of Political Representation and Their Critique to Party Government.pdf',\n 'American Political Science Review/2020 - Wuttke, Schimpf, Schoen - When the Whole Is Greater than the Sum of Its Parts.pdf',\n 'Political Research Quarterly/2020 - Castanho Silva et al. - An Empirical Comparison of Seven Populist Attitudes Scales.pdf',\n 'Political Research Quarterly/2018 - Peel - The Populist Theory of the State in Early American Political Thought.pdf',\n 'Political Research Quarterly/2020 - Kenny - “The Enemy of the People”_Populists and Press Freedom.pdf',\n 'Political Research Quarterly/2018 - Fumurescu - The People’s Two Bodies_An Alternative Perspective on Populism and Elitism.pdf',\n 'Political Research Quarterly/2016 - Spruyt et al. - Who Supports Populism and What Attracts People to It.pdf',\n 'Political Research Quarterly/2018 - Love, Windsor - Populism and Popular Support_Vertical Accountability, Exogenous Events, and Leader Discourse in Venezuela.pdf',\n 'Political Research Quarterly/2019 - Sagarzazu, Thies - The Foreign Policy Rhetoric of Populism_Chávez, Oil, and Anti-imperialism.pdf',\n 'Contemporary Politics/2020 - Miao - Can China be populist_Grassroot populist narratives in the Chinese cyberspace.pdf']"
     },
     "execution_count": 176,
     "metadata": {},
     "output_type": "execute_result"
    }
   ],
   "source": [
    "# the corpus of PDF articles used within this project is under copy ritht. Therefore we cannot make this data publicly avaialable.\n",
    "\n",
    "filepaths = []\n",
    "for root, dir, files in os.walk(\"../data/large_data/articles\"):\n",
    "    journal = root.rpartition(\"/\")[2]\n",
    "    filepaths.extend([journal + \"/\" + fname for fname in files if \".pdf\" in fname])\n",
    "filepaths[:10]"
   ],
   "metadata": {
    "collapsed": false
   }
  },
  {
   "cell_type": "code",
   "execution_count": 177,
   "outputs": [],
   "source": [
    "def get_file_path(row):\n",
    "    # first start from title & author & year\n",
    "    title_candidates = [fp for fp in filepaths if (row[\"title\"].lower()[:11] in unicodedata.normalize(\"NFC\", fp.lower())) & (row[\"authors\"].lower() in unicodedata.normalize(\"NFC\", fp.lower())) & (str(row[\"year\"]) in fp.lower())]\n",
    "    # start with title only\n",
    "    #if len(title_candidates) == 0:\n",
    "    #    title_candidates = [fp for fp in filepaths if row[\"title\"].lower()[:15] in unicodedata.normalize(\"NFC\", fp.lower())]\n",
    "    #    if len(title_candidates) > 1:\n",
    "    #        title_candidates = [fp for fp in title_candidates if row[\"authors\"].lower() in unicodedata.normalize(\"NFC\", fp.lower())]\n",
    "    #        #title_candidates = [fp for fp in title_candidates if row[\"authors\"].split(\",\")[0].lower() in unicodedata.normalize(\"NFC\", fp.lower())]\n",
    "    #    if len(title_candidates) > 1:\n",
    "    #        title_candidates = [fp for fp in title_candidates if str(row[\"year\"]) in fp.lower()]\n",
    "    #    if len(title_candidates) > 1:\n",
    "    #        title_candidates = [fp for fp in title_candidates if (row[\"journal\"].lower()[:10]) in unicodedata.normalize(\"NFC\", fp.lower())]\n",
    "    # start again from author\n",
    "    if len(title_candidates) == 0:\n",
    "        title_candidates = [fp for fp in filepaths if row[\"authors\"].split(\",\")[0].lower() in unicodedata.normalize(\"NFC\", fp.lower())]\n",
    "        if len(title_candidates) > 1:\n",
    "            title_candidates = [fp for fp in title_candidates if str(row[\"year\"]) in fp.lower()]\n",
    "        if len(title_candidates) > 1:\n",
    "            title_candidates = [fp for fp in title_candidates if (row[\"journal\"].lower()[:10]) in unicodedata.normalize(\"NFC\", fp.lower())]\n",
    "        if len(title_candidates) > 1:\n",
    "            title_candidates = [fp for fp in title_candidates if row[\"title\"].lower()[:8] in unicodedata.normalize(\"NFC\", fp.lower())]\n",
    "        if len(title_candidates) > 1:\n",
    "            title_candidates = [fp for fp in title_candidates if row[\"title\"].lower()[-8:] in unicodedata.normalize(\"NFC\", fp.lower())]\n",
    "    # if still unsuccessful, then start with journal title\n",
    "    if len(title_candidates) == 0:\n",
    "        title_candidates = [fp for fp in filepaths if row[\"journal\"].lower() in unicodedata.normalize(\"NFC\", fp.lower())]\n",
    "        if len(title_candidates) > 1:\n",
    "            title_candidates = [fp for fp in title_candidates if str(row[\"year\"]) in fp]\n",
    "        if len(title_candidates) > 1:\n",
    "            title_candidates = [fp for fp in title_candidates if row[\"title\"].lower()[:6] in unicodedata.normalize(\"NFC\", fp.lower())]\n",
    "        if len(title_candidates) > 1:\n",
    "            title_candidates = [fp for fp in title_candidates if row[\"authors\"].lower()[:8] in unicodedata.normalize(\"NFC\", fp.lower())]\n",
    "    return title_candidates\n",
    "    #if bool(title_candidates):\n",
    "    #    return title_candidates[0]\n",
    "    #else:\n",
    "    #    return np.nan\n",
    "\n",
    "articles_metadata[\"filepath\"] = articles_metadata.apply(lambda row: get_file_path(row), axis=1)"
   ],
   "metadata": {
    "collapsed": false
   }
  },
  {
   "cell_type": "code",
   "execution_count": 178,
   "outputs": [
    {
     "data": {
      "text/plain": "0"
     },
     "execution_count": 178,
     "metadata": {},
     "output_type": "execute_result"
    }
   ],
   "source": [
    "(articles_metadata[\"filepath\"].apply(len) ==0).sum()"
   ],
   "metadata": {
    "collapsed": false
   }
  },
  {
   "cell_type": "code",
   "execution_count": 186,
   "outputs": [
    {
     "data": {
      "text/plain": "     pop_id  year          authors                  journal      title  \\\n393     393  2017  Breuilly et al.  Nations and Nationalism  Editorial   \n396     396  2019  Breuilly et al.  Nations and Nationalism  Editorial   \n\n          type                                           filepath  \n393  editorial  Nations and Nationalism/2017 - Breuilly et al....  \n396  editorial  Nations and Nationalism/2019 - Breuilly et al....  ",
      "text/html": "<div>\n<style scoped>\n    .dataframe tbody tr th:only-of-type {\n        vertical-align: middle;\n    }\n\n    .dataframe tbody tr th {\n        vertical-align: top;\n    }\n\n    .dataframe thead th {\n        text-align: right;\n    }\n</style>\n<table border=\"1\" class=\"dataframe\">\n  <thead>\n    <tr style=\"text-align: right;\">\n      <th></th>\n      <th>pop_id</th>\n      <th>year</th>\n      <th>authors</th>\n      <th>journal</th>\n      <th>title</th>\n      <th>type</th>\n      <th>filepath</th>\n    </tr>\n  </thead>\n  <tbody>\n    <tr>\n      <th>393</th>\n      <td>393</td>\n      <td>2017</td>\n      <td>Breuilly et al.</td>\n      <td>Nations and Nationalism</td>\n      <td>Editorial</td>\n      <td>editorial</td>\n      <td>Nations and Nationalism/2017 - Breuilly et al....</td>\n    </tr>\n    <tr>\n      <th>396</th>\n      <td>396</td>\n      <td>2019</td>\n      <td>Breuilly et al.</td>\n      <td>Nations and Nationalism</td>\n      <td>Editorial</td>\n      <td>editorial</td>\n      <td>Nations and Nationalism/2019 - Breuilly et al....</td>\n    </tr>\n  </tbody>\n</table>\n</div>"
     },
     "execution_count": 186,
     "metadata": {},
     "output_type": "execute_result"
    }
   ],
   "source": [
    "articles_metadata[articles_metadata[\"authors\"].str.contains(\"Breuilly\")]"
   ],
   "metadata": {
    "collapsed": false
   }
  },
  {
   "cell_type": "code",
   "execution_count": 179,
   "outputs": [],
   "source": [
    "articles_metadata[\"filepath\"] = articles_metadata[\"filepath\"].apply(lambda x: x[0])"
   ],
   "metadata": {
    "collapsed": false
   }
  },
  {
   "cell_type": "code",
   "execution_count": 180,
   "outputs": [],
   "source": [
    "#export to googlesheets for visual inspection\n",
    "#google_conf.set_with_dataframe(pop_data.add_worksheet(\"articles_metadata_paths\", 1,1), articles_metadata)"
   ],
   "metadata": {
    "collapsed": false
   }
  },
  {
   "cell_type": "code",
   "execution_count": 181,
   "outputs": [
    {
     "data": {
      "text/plain": "Empty DataFrame\nColumns: [year, authors, journal, title, type, pdf?, keywords, keywords_online?, notes, filepath]\nIndex: []",
      "text/html": "<div>\n<style scoped>\n    .dataframe tbody tr th:only-of-type {\n        vertical-align: middle;\n    }\n\n    .dataframe tbody tr th {\n        vertical-align: top;\n    }\n\n    .dataframe thead th {\n        text-align: right;\n    }\n</style>\n<table border=\"1\" class=\"dataframe\">\n  <thead>\n    <tr style=\"text-align: right;\">\n      <th></th>\n      <th>year</th>\n      <th>authors</th>\n      <th>journal</th>\n      <th>title</th>\n      <th>type</th>\n      <th>pdf?</th>\n      <th>keywords</th>\n      <th>keywords_online?</th>\n      <th>notes</th>\n      <th>filepath</th>\n    </tr>\n  </thead>\n  <tbody>\n  </tbody>\n</table>\n</div>"
     },
     "execution_count": 181,
     "metadata": {},
     "output_type": "execute_result"
    }
   ],
   "source": [
    "missing = articles_metadata[articles_metadata[\"filepath\"].apply(len) ==0]\n",
    "missing"
   ],
   "metadata": {
    "collapsed": false
   }
  },
  {
   "cell_type": "code",
   "execution_count": 187,
   "outputs": [],
   "source": [
    "articles_metadata[\"pop_id\"] = articles_metadata.index"
   ],
   "metadata": {
    "collapsed": false
   }
  },
  {
   "cell_type": "code",
   "execution_count": 188,
   "outputs": [],
   "source": [
    "articles_metadata = articles_metadata[['pop_id', 'year', 'authors', 'journal', 'title', 'type', 'filepath']]"
   ],
   "metadata": {
    "collapsed": false
   }
  },
  {
   "cell_type": "code",
   "execution_count": 189,
   "outputs": [],
   "source": [
    "articles_metadata.to_json(\"../data/article_metadata.json\")\n",
    "articles_metadata.to_csv(\"../data/article_metadata.csv\")"
   ],
   "metadata": {
    "collapsed": false
   }
  },
  {
   "cell_type": "code",
   "execution_count": null,
   "outputs": [],
   "source": [],
   "metadata": {
    "collapsed": false
   }
  }
 ],
 "metadata": {
  "kernelspec": {
   "name": "conda_base",
   "language": "python",
   "display_name": "conda_base"
  },
  "language_info": {
   "codemirror_mode": {
    "name": "ipython",
    "version": 2
   },
   "file_extension": ".py",
   "mimetype": "text/x-python",
   "name": "python",
   "nbconvert_exporter": "python",
   "pygments_lexer": "ipython2",
   "version": "2.7.6"
  }
 },
 "nbformat": 4,
 "nbformat_minor": 0
}
