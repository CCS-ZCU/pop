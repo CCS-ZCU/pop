{
 "cells": [
  {
   "cell_type": "code",
   "execution_count": 1,
   "metadata": {
    "collapsed": true
   },
   "outputs": [],
   "source": [
    "import os\n",
    "import spacy\n",
    "import pickle\n",
    "import re\n",
    "import nltk\n",
    "from nltk.stem import WordNetLemmatizer"
   ]
  },
  {
   "cell_type": "code",
   "execution_count": 2,
   "outputs": [],
   "source": [
    "# using linked entities based on https://github.com/egerber/spaCy-entity-linker"
   ],
   "metadata": {
    "collapsed": false
   }
  },
  {
   "cell_type": "code",
   "execution_count": 3,
   "outputs": [
    {
     "data": {
      "text/plain": "<spacy_entity_linker.EntityLinker.EntityLinker at 0x2b231fee0>"
     },
     "execution_count": 3,
     "metadata": {},
     "output_type": "execute_result"
    }
   ],
   "source": [
    "raw_text = 'Hello, world. Here are two sentences.'\n",
    "nlp_md = spacy.load('en_core_web_md')\n",
    "nlp_md.add_pipe('sentencizer')\n",
    "nlp_md.add_pipe(\"entityLinker\", last=True)"
   ],
   "metadata": {
    "collapsed": false
   }
  },
  {
   "cell_type": "code",
   "execution_count": 4,
   "outputs": [
    {
     "name": "stdout",
     "output_type": "stream",
     "text": [
      "['mother-in-law']\n"
     ]
    }
   ],
   "source": [
    "from spacy.util import compile_infix_regex\n",
    "from spacy.lang.char_classes import ALPHA, ALPHA_LOWER, ALPHA_UPPER\n",
    "from spacy.lang.char_classes import CONCAT_QUOTES, LIST_ELLIPSES, LIST_ICONS\n",
    "\n",
    "infixes = (\n",
    "        LIST_ELLIPSES\n",
    "        + LIST_ICONS\n",
    "        + [\n",
    "            r\"(?<=[0-9])[+\\-\\*^](?=[0-9-])\",\n",
    "            r\"(?<=[{al}{q}])\\.(?=[{au}{q}])\".format(\n",
    "                al=ALPHA_LOWER, au=ALPHA_UPPER, q=CONCAT_QUOTES\n",
    "            ),\n",
    "            r\"(?<=[{a}]),(?=[{a}])\".format(a=ALPHA),\n",
    "            # ✅ Commented out regex that splits on hyphens between letters:\n",
    "            # r\"(?<=[{a}])(?:{h})(?=[{a}])\".format(a=ALPHA, h=HYPHENS),\n",
    "            r\"(?<=[{a}0-9])[:<>=/](?=[{a}])\".format(a=ALPHA),\n",
    "        ]\n",
    ")\n",
    "\n",
    "infix_re = compile_infix_regex(infixes)\n",
    "nlp_md.tokenizer.infix_finditer = infix_re.finditer\n",
    "doc = nlp_md(\"mother-in-law\")\n",
    "print([t.text for t in doc]) # ['mother-in-law']"
   ],
   "metadata": {
    "collapsed": false
   }
  },
  {
   "cell_type": "code",
   "execution_count": 5,
   "outputs": [
    {
     "data": {
      "text/plain": "[['hello', ',', 'world', '.'], ['here', 'be', 'two', 'sentence', '.']]"
     },
     "execution_count": 5,
     "metadata": {},
     "output_type": "execute_result"
    }
   ],
   "source": [
    "doc = nlp_md(raw_text)\n",
    "[[t.lemma_ for t in sent] for sent in doc.sents]"
   ],
   "metadata": {
    "collapsed": false
   }
  },
  {
   "cell_type": "code",
   "execution_count": 8,
   "outputs": [
    {
     "data": {
      "text/plain": "['he', 'be', 'a', 'left-we', 'populist']"
     },
     "execution_count": 8,
     "metadata": {},
     "output_type": "execute_result"
    }
   ],
   "source": [
    "[t.lemma_ for t in nlp_md(\"He is a left-wing populist\")]"
   ],
   "metadata": {
    "collapsed": false
   }
  },
  {
   "cell_type": "code",
   "execution_count": 9,
   "outputs": [],
   "source": [
    "# test with one document"
   ],
   "metadata": {
    "collapsed": false
   }
  },
  {
   "cell_type": "code",
   "execution_count": 10,
   "outputs": [
    {
     "data": {
      "text/plain": "'../data/large_data/articles_filteredtexts/filteredtext_pop_id_17.txt'"
     },
     "execution_count": 10,
     "metadata": {},
     "output_type": "execute_result"
    }
   ],
   "source": [
    "pop_id = 17\n",
    "path = \"../data/large_data/articles_filteredtexts/\"\n",
    "file = \"filteredtext_pop_id_{}.txt\".format(str(pop_id))\n",
    "filepath = path + file\n",
    "filepath"
   ],
   "metadata": {
    "collapsed": false
   }
  },
  {
   "cell_type": "code",
   "execution_count": 11,
   "outputs": [],
   "source": [
    "with open(filepath, \"r\") as f:\n",
    "    filteredtext = f.read()\n",
    "    filteredtext = filteredtext.replace(\"\\n\", \" \")"
   ],
   "metadata": {
    "collapsed": false
   }
  },
  {
   "cell_type": "code",
   "execution_count": 12,
   "outputs": [],
   "source": [
    "doc = nlp_md(filteredtext)"
   ],
   "metadata": {
    "collapsed": false
   }
  },
  {
   "cell_type": "code",
   "execution_count": 13,
   "outputs": [
    {
     "data": {
      "text/plain": "(15,\n Utrecht University,\n Utrecht,\n Netherlands,\n Western European,\n 15,\n 11,\n Western European,\n Eurosceptic,\n Western European,\n one,\n the United Kingdom Independence Party,\n Britain,\n the Front National,\n National Front,\n France,\n the Partij voor de Vrijheid,\n Netherlands,\n Podemos,\n Spain,\n Germany,\n Five Star Movement,\n Italy,\n Weyland,\n 2001,\n Mudde,\n 2004,\n 2002a,\n Albertazzi,\n McDonnell,\n 2008,\n Akkerman et al.,\n 2014,\n Pauwels,\n 2011b,\n Mueller,\n 2013,\n Mudde,\n Rovira Kaltwasser,\n 2012,\n European Political Science Review,\n 2018,\n 10,\n 351–368,\n © European Consortium for Political Research,\n First,\n 20 June 2017,\n 351,\n University of West Bohemia,\n 08 Feb 2022,\n 11,\n Stanley,\n 2008,\n Van der Brug et al.,\n 2000,\n 2005,\n Lubbers et al.,\n 2002,\n Ivarsﬂaten,\n 2008,\n Zhirkov,\n 2014,\n Scheepers,\n 2007,\n Visser et al.,\n 2014,\n Ramiro,\n 2016,\n Mudde,\n 2004,\n Stanley, 2008,\n Hawkins,\n 2010,\n Rovira Kaltwasser,\n 2012,\n Taggart,\n 2000,\n Rooduijn et al.,\n 2014,\n only one,\n Pauwels,\n 2014,\n Western European,\n only three,\n EU,\n Kriesi,\n 2006,\n Kriesi et al,\n 2008,\n 2002,\n Eurosceptic,\n Werts et al.,\n 2013,\n Visser et al.,\n 2014,\n Ramiro,\n 2016,\n Eurosceptic,\n the European Social Survey,\n 2002–12,\n 11,\n Western Europe,\n 15,\n 1,\n Elchardus,\n Spruyt,\n 2016,\n Flanders,\n 352,\n University of West Bohemia,\n 08 Feb 2022,\n 11,\n two,\n First,\n Second,\n Western European,\n Marine Le Pen,\n France,\n Western European,\n the Lega Nord,\n Northern League,\n LN,\n Italy,\n Die Linke,\n Germany,\n third,\n two,\n 2004,\n 543,\n Hawkins,\n Manichean,\n 2009,\n 1,\n 2,\n 353,\n University of West Bohemia,\n 08 Feb 2022,\n 11,\n 2,\n 2012,\n Taggart,\n 2000,\n Canovan,\n 1981,\n Canovan,\n 2002,\n Laclau, 2005,\n Barr,\n 2009,\n Walgrave,\n 2007,\n 2012,\n Taggart,\n 2000,\n two,\n 1,\n 2,\n Kriesi et al,\n 2006,\n 2008,\n Western European,\n Kriesi et al,\n Western European,\n 2008,\n 19,\n 354,\n University of West Bohemia,\n 08 Feb 2022,\n 11,\n 2002,\n Arzheimer,\n 2009,\n Bovens,\n Wille,\n 2010,\n Van der Brug et al.,\n 2000,\n Arzheimer,\n Carter,\n 2006,\n Van der Brug et al.,\n 2000,\n Lubbers et al.,\n 2002,\n Kriesi et al,\n 2006, 2008,\n Visser et al.,\n 2014,\n Lubbers,\n Scheepers,\n 2007,\n Ramiro,\n 2016,\n solidarity,\n Pauwels,\n 2014,\n Belgium,\n Germany,\n Netherlands,\n HYPOTHESIS,\n First,\n Kriesi et al,\n 2006, 2008,\n Eurosceptic,\n 355,\n University of West Bohemia,\n 08 Feb 2022,\n 11,\n European,\n Eastern European,\n Eurosceptic,\n Harmsen,\n 2010,\n two,\n 1,\n Brussels,\n Brussels,\n 2,\n European,\n EU,\n Eurosceptic,\n Hooghe et al.,\n 2002,\n De Vries,\n Edwards,\n 2009,\n Halikiopoulou et al.,\n 2012,\n Eurosceptic,\n Scheepers,\n 2007,\n Werts et al.,\n 2013,\n Visser et al.,\n 2014,\n Ramiro,\n 2016,\n HYPOTHESIS,\n Eurosceptic,\n Second,\n EU,\n Bernauer,\n Vatter,\n 2012,\n Betz,\n 1994,\n Swyngedouw,\n 2001,\n Bélanger,\n 2006,\n Bergh,\n 2004,\n Bergh,\n 2004,\n 385,\n Schumacher,\n Rooduijn,\n 2013,\n 356,\n University of West Bohemia,\n 08 Feb 2022,\n 11,\n Ramiro,\n 2016,\n Doyle,\n 2011,\n Hooghe et al.,\n 2013,\n Pauwels,\n 2014,\n third,\n HYPOTHESIS,\n third,\n Webb,\n 2013,\n 2014,\n 59,\n 2002b,\n 13,\n Canovan,\n 1981,\n Taggart,\n 2000,\n HYPOTHESIS,\n 15,\n 11,\n Western European,\n Austria,\n Austria,\n Heinisch,\n 2008,\n the Vlaams Blok/Vlaams Belang,\n Flemish,\n Pauwels,\n 2011a,\n Lijst Dedecker/Libertair,\n Direct,\n Democratisch,\n Direct,\n Democratic,\n Pauwels,\n 2010,\n Belgium,\n the Schweizerische Volkspartei,\n Swiss People’s Party,\n Switzerland,\n Albertazzi,\n 2008,\n Die Linke,\n Germany,\n March, 2007,\n 3,\n 4,\n Europe,\n Van Kessel,\n 2015,\n 357,\n University of West Bohemia,\n 08 Feb 2022,\n 11,\n Dansk Folkeparti,\n Danish,\n Denmark,\n Rydgren,\n 2004,\n Perussuomalaiset,\n the Finns Party,\n Finland,\n Arter,\n 2010,\n France,\n Surel,\n 2002,\n Forza Italia,\n Italy,\n FI,\n Tarchi,\n 2008,\n M5S,\n Ruzza,\n 2013,\n Italy,\n the Lijst Pim Fortuyn,\n Van Kessel,\n 2011,\n the Socialistische Partij (Socialist Party,\n SP,\n March, 2011,\n PVV,\n Vossen,\n 2011,\n Netherlands,\n the Fremskrittspartiet (Progress Party,\n Norway,\n Jupskas,\n 2015,\n Sverigedemokraterna,\n Sweden,\n Democrats,\n Sweden,\n Jungar,\n 2015,\n SP,\n FI,\n 1,\n 2,\n 12,\n 15,\n Western Europe,\n Rooduijn,\n Akkerman,\n 2017,\n FI,\n Italy,\n two,\n First,\n 5,\n the United Kingdom,\n the Bündnis Zukunft Österreich,\n Austria,\n Belgium,\n Republikaner,\n Germany,\n LN,\n Italy,\n Sinn Féin,\n Ireland,\n National Democratic Party of Germany,\n Germany,\n Alleanza Nazionale,\n National Alliance,\n Italy,\n 6,\n European,\n March (2011,\n Germany,\n Dutch,\n the Scottish Socialist Party,\n 7,\n 358 M,\n University of West Bohemia,\n 08 Feb 2022,\n 11,\n Second,\n three,\n ESS,\n 2002–12,\n one,\n democratic,\n Christian,\n Erikson et al.,\n 1979,\n 0,\n 1,\n 1,\n 2,\n 3,\n 4,\n 5,\n tertiary,\n European,\n 10,\n Political distrust11,\n two,\n two,\n 8,\n 1,\n democratic,\n Christian,\n 11,\n six,\n 1,\n 2,\n 3,\n 4,\n 5,\n 6,\n 10,\n ESS,\n 11,\n Bergh,\n 2004,\n 12,\n ESS,\n 359,\n University of West Bohemia,\n 08 Feb 2022,\n 11,\n 0,\n 10,\n Cronbach,\n 0,\n 10,\n 0,\n 10,\n 0,\n 10,\n 0,\n 10,\n 1,\n 4,\n 1,\n 4,\n 1,\n 4,\n 0,\n 1,\n 10,\n 1,\n years,\n ESS,\n Bonferroni,\n the Online Appendix Tables 1–4,\n 13,\n ESS,\n University of West Bohemia,\n 08 Feb 2022,\n 11,\n only 5,\n 15,\n 3,\n 15,\n Hypothesis 1,\n 6,\n 10,\n 6,\n 15,\n only three,\n 5,\n 15,\n 1,\n Radical right Radical,\n FPÖ,\n DF PS FN LPF PVV,\n FrP SD Linke SP LDD,\n 1,\n 2,\n 3,\n Freiheitliche Partei,\n Österreichs (Freedom Party of Austria,\n Flemish,\n Flemish Interest,\n Schweizerische Volkspartei,\n Swiss People’s Party,\n DF,\n Dansk Folkeparti,\n Danish,\n Party,\n PS,\n the Finns Party,\n FN = Front National,\n National Front,\n PVV,\n FrP = Fremskrittspartiet (Progress Party,\n Sverigedemokraterna,\n Sweden,\n Democrats,\n SP = Socialistische Partij (Socialist Party,\n Lijst Dedecker/Libertair,\n Direct,\n Democratisch,\n Direct,\n Democratic,\n FI,\n Forza Italia,\n Italy,\n Movimento,\n Cinque Stelle,\n Five Star Movement,\n second,\n Gray,\n 361,\n University of West Bohemia,\n 08 Feb 2022,\n 11,\n second,\n 8,\n 15,\n Hypothesis 3,\n 15,\n a third and,\n fourth,\n 2,\n 15,\n Hypothesis 2,\n only 1,\n 12,\n Hypothesis 4,\n 2,\n Bonferroni,\n only one,\n 14,\n 15,\n 3,\n ESS,\n 28,\n 61,\n three,\n 1,\n three,\n Bonferroni,\n three,\n 3,\n 14,\n 362 M,\n University of West Bohemia,\n 08 Feb 2022,\n 11,\n 11,\n Van der Brug et al.,\n 2000,\n Lubbers et al.,\n 2002,\n Ivarsﬂaten,\n 2008,\n Zhirkov,\n 2014,\n Scheepers,\n 2007,\n Visser et al.,\n 2014,\n Ramiro,\n 2016,\n Pauwels,\n 2014,\n 2,\n Radical right Radical,\n FPÖ,\n DF PS FN LPF PVV,\n FrP SD Linke SP LDD,\n 1,\n 2,\n 3,\n Freiheitliche Partei,\n Österreichs (Freedom Party of Austria,\n Flemish,\n Flemish Interest,\n Schweizerische Volkspartei,\n Swiss People’s Party,\n DF,\n Dansk Folkeparti,\n Danish,\n Party,\n PS,\n the Finns Party,\n FN = Front National,\n National Front,\n PVV,\n FrP = Fremskrittspartiet (Progress Party,\n Sverigedemokraterna,\n Sweden,\n Democrats,\n SP = Socialistische Partij (Socialist Party,\n Lijst Dedecker/Libertair,\n Direct,\n Democratisch,\n Direct,\n Democratic,\n FI,\n Forza Italia,\n Italy,\n Movimento,\n Cinque Stelle,\n Five Star Movement,\n second,\n Gray,\n 363,\n University of West Bohemia,\n 08 Feb 2022,\n 11,\n Western Europe,\n Rooduijn,\n 2014,\n Western Europe,\n Taggart,\n 2000,\n Mudde,\n 2004,\n Eurosceptic,\n Kriesi,\n 2006,\n 2008,\n 15,\n 11,\n Western European,\n Mudde,\n 2007,\n 12,\n 15,\n three,\n FPÖ,\n DF PS FN LPF PVV,\n FrP SD Linke SP LDD,\n 2002,\n 2004,\n 2006,\n 2008,\n 2010,\n 2012,\n Freiheitliche Partei,\n Österreichs (Freedom Party of Austria,\n Flemish,\n Flemish Interest,\n Schweizerische Volkspartei,\n Swiss People’s Party,\n DF,\n Dansk Folkeparti,\n Danish,\n Party,\n PS,\n the Finns Party,\n FN = Front National,\n National Front,\n PVV,\n FrP = Fremskrittspartiet (Progress Party,\n Sverigedemokraterna,\n Sweden,\n Democrats,\n SP = Socialistische Partij (Socialist Party,\n Lijst Dedecker/Libertair,\n Direct,\n Democratisch,\n Direct,\n Democratic,\n FI,\n Forza Italia,\n Italy,\n Movimento,\n Cinque Stelle,\n Five Star Movement,\n 0,\n University of West Bohemia,\n 08 Feb 2022,\n 11,\n Western Europe,\n Eastern Europe,\n One,\n Akkerman et al,\n 2014,\n Dutch,\n Western European,\n Bakker et al,\n 2016,\n PVV,\n Netherlands,\n Germany,\n the Tea Party,\n the United States,\n two,\n three,\n First,\n Second,\n Eurosceptic,\n third)"
     },
     "execution_count": 13,
     "metadata": {},
     "output_type": "execute_result"
    }
   ],
   "source": [
    "doc.ents"
   ],
   "metadata": {
    "collapsed": false
   }
  },
  {
   "cell_type": "code",
   "execution_count": 14,
   "outputs": [
    {
     "data": {
      "text/plain": "[bases,\n populist parties,\n electorates,\n populist parties,\n H,\n R,\n D,\n U,\n I,\n J,\n N,\n *,\n Sociology,\n Utrecht University,\n Utrecht,\n scholars,\n Netherlands,\n populist parties,\n parties,\n ideologies,\n forms,\n styles,\n set,\n ideas,\n relationship,\n people,\n elite,\n knowledge,\n parties,\n voters,\n bases,\n populist parties,\n question,\n electorates,\n populist parties,\n countries,\n contrast,\n beliefs,\n electorates,\n populist parties,\n individuals,\n losers,\n globalization,\n attitudes,\n levels,\n trust,\n preferences,\n direct democracy,\n voter,\n Keywords,\n populism,\n voting behavior,\n politics,\n explosion,\n studies,\n populism,\n fact,\n countries,\n part,\n world,\n upsurge,\n populist parties,\n United Kingdom Independence Party,\n UKIP,\n Britain,\n Front National,\n National Front,\n FN,\n France,\n Party,\n Freedom,\n PVV,\n Netherlands,\n Podemos,\n Spain,\n Linke,\n Left,\n Germany,\n Movimento Cinque Stelle,\n Five Star Movement,\n M5S,\n Italy,\n successes,\n parties,\n upsurge,\n Surel,\n Albertazzi,\n McDonnell,\n studies,\n populism,\n Weyland,\n parties,\n public opinion,\n al,\n .,\n Pauwels,\n making,\n Albertazzi,\n Mueller,\n liberal democracy,\n Rovira,\n studies,\n assumption,\n populist parties,\n terms,\n ideologies,\n leadership,\n styles,\n core,\n E-mail,\n European Political Science Review,\n Consortium,\n Political,\n June,\n .,\n University of West Bohemia,\n Bohemia,\n Feb,\n attention,\n parties,\n bases,\n populist parties,\n cases,\n lack,\n attention,\n question,\n order,\n successes,\n populist parties,\n backgrounds,\n support,\n al,\n deal,\n parties,\n Van der,\n al,\n .,\n .,\n Zhirkov,\n supporters,\n radical left parties,\n Lubbers,\n Scheepers,\n al,\n .,\n Ramiro,\n bases,\n category,\n populist parties,\n message,\n good people,\n elite,\n Stanley,\n Hawkins,\n Rovira,\n ideologies,\n Taggart,\n parties,\n radical right,\n radical left,\n parties,\n parties,\n message,\n al,\n .,\n analysis,\n bases,\n populist parties,\n parties,\n message,\n radical right,\n knowledge,\n study,\n Pauwels,\n question,\n populist parties,\n cases,\n study,\n bases,\n populist parties,\n countries,\n order,\n question,\n electorates,\n populist parties,\n cases,\n parties,\n countries,\n belief,\n populists,\n position,\n losers,\n globalization,\n politics,\n level,\n al,\n .,\n Kriesi,\n al,\n .,\n Studies,\n voters,\n radical right,\n positions,\n al,\n .,\n al,\n .,\n studies,\n supporters,\n radical left,\n Ramiro,\n conclusions,\n al,\n .,\n question,\n bases,\n kinds,\n populist parties,\n individuals,\n losers,\n globalization,\n attitudes,\n levels,\n trust,\n preferences,\n direct democracy,\n parties,\n analysis,\n data,\n attitudes,\n voting behavior,\n European Social Survey,\n ESS,\n political systems,\n Western Europe,\n bases,\n populist parties,\n case,\n study,\n Spruyt,\n support,\n populism,\n voting behavior,\n case,\n Flanders,\n H,\n S,\n R,\n O,\n .,\n University of West Bohemia,\n Bohemia,\n Feb,\n terms of use,\n use,\n implications,\n electorates,\n kinds,\n populist parties,\n voter,\n voters,\n parties,\n base,\n populist parties,\n aim,\n inferences,\n electorates,\n populist parties,\n analysis,\n radical left,\n radical right,\n conclusions,\n literature,\n public debate,\n analyses,\n successes,\n populist parties,\n order,\n rise,\n parties,\n changes,\n supply,\n success,\n populists,\n demand,\n market,\n success,\n instance,\n Marine Le Pen,\n FN,\n France,\n leadership style,\n ideology,\n party,\n party,\n motivations,\n phenomenon,\n populism,\n voters,\n parties,\n Lega Nord,\n Northern League,\n LN,\n Italy,\n Linke,\n Germany,\n paper,\n sections,\n concepts,\n populism,\n reasons,\n populist party,\n part,\n paper,\n case,\n measurements,\n method,\n section,\n part,\n paper,\n literature,\n attention,\n shortcomings,\n study,\n strategies,\n research,\n Populism,\n concept,\n populism,\n concept,\n scholars,\n term,\n populism,\n ideology,\n society,\n groups,\n people,\n elite,\n politics,\n expression,\n people,\n Hawkins,\n populism,\n discourse,\n will,\n people,\n Evil,\n elite,\n relationship,\n Populism,\n ideology,\n ideologies,\n liberalism,\n socialism,\n conservatism,\n ideologies,\n views,\n world,\n ideologies,\n range,\n concepts,\n Populism,\n relationship,\n elite,\n people,\n bases,\n populist parties,\n .,\n University of West Bohemia,\n Bohemia,\n Feb,\n populism,\n set,\n ideas,\n al,\n .,\n Populists,\n people,\n entity,\n will,\n people,\n point,\n departure,\n decision-making,\n Taggart,\n term,\n people,\n nation,\n electorate,\n peasants,\n proletariat,\n Populists,\n elite,\n Barr,\n critique,\n elites,\n elites,\n elites,\n elites,\n Walgrave,\n populism,\n rhetoric,\n style,\n strategy,\n Populism,\n message,\n set,\n ideas,\n al,\n .,\n set,\n ideas,\n populism,\n ideologies,\n Populism,\n chameleon,\n color,\n environment,\n Taggart,\n studies,\n bases,\n radical right,\n radical left,\n inferences,\n electorates,\n populist parties,\n studies,\n conclusions,\n reasons,\n analyses,\n parties,\n message,\n analysis,\n analyses,\n positions,\n voters,\n families,\n attitudes,\n parties,\n attitudes,\n redistribution,\n radical left parties,\n populist,\n al,\n landscape,\n cleavage,\n winners,\n losers,\n globalization,\n winners,\n competition,\n entrepreneurs,\n losers,\n opening,\n borders,\n employees,\n sectors,\n al,\n .,\n transformation,\n landscape,\n terms,\n supply,\n behavior,\n countries,\n parties,\n right,\n package,\n losers,\n economic transformations,\n cultural diversity,\n result,\n positions,\n parties,\n studies,\n H,\n S,\n R,\n O,\n .,\n University of West Bohemia,\n Bohemia,\n Feb,\n Bovens,\n Wille,\n parties,\n al,\n .,\n Carter,\n Lubbers,\n al,\n .,\n voters,\n social classes,\n al,\n .,\n al,\n .,\n al,\n attention,\n populist parties,\n radical right,\n losers,\n globalization,\n parties,\n populist parties,\n ideologies,\n populists,\n center,\n citizens,\n elite,\n positions,\n category,\n citizens,\n common man,\n message,\n victims,\n behavior,\n elite,\n incomes,\n ideologies,\n al,\n .,\n Lubbers,\n Scheepers,\n positions,\n radical left parties,\n parties,\n Ramiro,\n working class,\n radical left,\n studies,\n relationship,\n education,\n support,\n education,\n effect,\n voting,\n higher education,\n values,\n radical left parties,\n solidarity,\n equality,\n line,\n Pauwels,\n populist parties,\n Belgium,\n Germany,\n Netherlands,\n education,\n effect,\n position,\n education,\n effect,\n voting,\n hypothesis,\n HYPOTHESIS,\n bases,\n populist parties,\n individuals,\n parties,\n positions,\n lower classes,\n incomes,\n position,\n populist party,\n individuals,\n positions,\n attitudes,\n reason,\n words,\n relationship,\n position,\n inclination,\n attitudes,\n relationship,\n position,\n voting,\n Euroscepticism,\n al,\n losers,\n globalization,\n winners,\n bases,\n populist parties,\n .,\n University of West Bohemia,\n Bohemia,\n Feb,\n instance,\n immigrants,\n countries,\n jobs,\n Harmsen,\n case,\n reasons,\n elite,\n Brussels,\n message,\n Brussels,\n ordinary people,\n member states,\n populists,\n elite,\n elite,\n power,\n EU,\n studies,\n populist parties,\n fringes,\n political spectrum,\n attitudes,\n al,\n .,\n De Vries,\n Edwards,\n al,\n .,\n supporters,\n parties,\n Lubbers,\n Scheepers,\n al,\n .,\n al,\n .,\n Ramiro,\n HYPOTHESIS,\n bases,\n populist parties,\n individuals,\n parties,\n relationship,\n position,\n voting,\n attitudes,\n EU,\n distrust,\n politics,\n studies,\n incomes,\n Bernauer,\n establishment,\n position,\n Research,\n parties,\n politics,\n Betz,\n Bélanger,\n Aarts,\n vote,\n parties,\n attitude,\n politics,\n parties,\n ideas,\n Bergh,\n distrust,\n political system,\n radical right,\n distrust,\n elites,\n system,\n sense,\n message,\n system,\n elites,\n populist,\n distrust,\n protest,\n Bergh,\n protest,\n act,\n political party,\n means,\n distrust,\n extent,\n supporters,\n party,\n protest,\n effect,\n distrust,\n support,\n party,\n literature,\n radical right,\n protest,\n parties,\n message,\n Schumacher,\n support,\n radical right,\n protest,\n ideology,\n party,\n message,\n party,\n H,\n R,\n O,\n .,\n University of West Bohemia,\n Bohemia,\n Feb,\n Support,\n populist party,\n party,\n message,\n protest,\n Ramiro,\n studies,\n distrust,\n effect,\n populists,\n Doyle,\n al,\n .,\n Pauwels,\n hypothesis,\n HYPOTHESIS,\n bases,\n populist parties,\n individuals,\n parties,\n levels,\n trust,\n attitude,\n voting,\n ideas,\n direct democracy,\n populists,\n politicians,\n institutions,\n suspicion,\n innovations,\n Webb,\n silent majority,\n taxes,\n welfare,\n law,\n Pauwels,\n populists,\n primacy,\n people,\n favor,\n tools,\n direct democracy,\n popular initiatives,\n referendums,\n idea,\n political system,\n regime,\n people,\n word,\n Surel,\n Populism,\n direct democracy,\n scholars,\n Taggart,\n party,\n favor,\n direct democracy,\n viewpoint,\n HYPOTHESIS,\n bases,\n populist parties,\n individuals,\n parties,\n favor,\n measures,\n direct democracy,\n Case,\n measurements,\n method,\n electorates,\n populist parties,\n bases,\n populist parties,\n countries,\n parties,\n Freiheitliche Partei Österreichs,\n Freedom Party,\n Austria,\n Austria,\n Vlaams Belang,\n Blok,\n Flemish Interest,\n Pauwels,\n Dedecker,\n Direct,\n List Dedecker,\n Direct,\n LDD,\n Pauwels,\n Belgium,\n Party,\n Swiss People,\n Switzerland,\n Albertazzi,\n Linke,\n Germany,\n March,\n Note,\n attitude,\n relationship,\n position,\n voting,\n reason,\n positions,\n favor,\n direct democracy,\n Van Kessel,\n populist parties,\n Europe,\n bases,\n populist parties,\n .,\n University of West Bohemia,\n Bohemia,\n Feb,\n Perussuomalaiset,\n Finns Party,\n Finland,\n Arter,\n FN,\n France,\n Surel,\n Forza Italia,\n Italy,\n FI,\n M5S,\n Fella,\n Italy,\n Lijst Pim Fortuyn,\n List Pim Fortuyn,\n Van Kessel,\n Socialist Party,\n SP,\n March,\n PVV,\n Vossen,\n Netherlands,\n Fremskrittspartiet,\n Progress Party,\n Norway,\n Sweden Democrats,\n Sweden,\n majority,\n parties,\n parties,\n Linke,\n SP,\n radical left parties,\n LDD,\n FI,\n M5S,\n left,\n radical right,\n bases,\n kinds,\n populist parties,\n criteria,\n case,\n parties,\n country,\n variation,\n parties,\n terms,\n ideologies,\n criteria,\n shortcoming,\n selection,\n cases,\n majority,\n parties,\n populism,\n radicalism,\n reason,\n parties,\n radical parties,\n populist parties,\n Western Europe,\n radical parties,\n Akkerman,\n populist parties,\n ones,\n right,\n FI,\n M5S,\n Italy,\n populist parties,\n case,\n populist parties,\n results,\n parties,\n populism,\n large number,\n radical parties,\n ways,\n electorates,\n parties,\n words,\n pooled analysis,\n regressions,\n party,\n reason,\n effects,\n pooled analysis,\n features,\n types,\n populist parties,\n populism,\n instance,\n pooled analysis,\n attitudes,\n populists,\n number,\n respondents,\n parties,\n parties,\n UKIP,\n United Kingdom,\n Österreich,\n Austria,\n FN,\n Belgium,\n Germany,\n LN,\n Italy,\n Sinn Féin,\n Ireland,\n Nationaldemokratische Partei Deutschlands,\n National Democratic Party,\n Germany,\n Germany,\n National Alliance,\n Italy,\n scholars,\n parties,\n Note,\n radical left parties,\n March,\n Die,\n Germany,\n SP,\n Scottish Socialist Party,\n list,\n populist parties,\n knowledge,\n selection,\n populist parties,\n study,\n voting behavior,\n H,\n S,\n R,\n O,\n .,\n University of West Bohemia,\n Bohemia,\n Feb,\n effect,\n nature,\n majority,\n parties,\n analysis,\n types,\n populists,\n pooled analysis,\n answer,\n question,\n bases,\n populist parties,\n cases,\n order,\n question,\n bases,\n populist parties,\n bases,\n populist parties,\n order,\n populism,\n radicalism,\n populist parties,\n section,\n Findings,\n data,\n study,\n ESS,\n variable,\n respondent,\n party,\n election,\n variable,\n respondent,\n populist party,\n parties,\n Parties,\n mainstream,\n ...]"
     },
     "execution_count": 14,
     "metadata": {},
     "output_type": "execute_result"
    }
   ],
   "source": [
    "[lent.span for lent in doc._.linkedEntities]"
   ],
   "metadata": {
    "collapsed": false
   }
  },
  {
   "cell_type": "code",
   "execution_count": 15,
   "outputs": [
    {
     "data": {
      "text/plain": "[(0, What unites the voter bases of populist parties?),\n (1, Comparing the electorates of 15 populist parties  M A T T H),\n (6,\n  I J N*  Department of Sociology, Utrecht University, Utrecht, The Netherlands  Various scholars have argued and demonstrated that Western European populist parties have something in common.),\n (8,\n  Yet despite our increasing knowledge about these parties, so far we know only very little about populist voters.),\n (9, Do the voter bases of populist parties also have something in common?),\n (10,\n  To answer that question, I focus on the electorates of 15 prototypical populist parties from 11 Western European countries.),\n (11,\n  I show that, in contrast with widely held beliefs, the electorates of populist parties do not always consist of individuals who are more likely to be ‘losers of globalization’ with Eurosceptic attitudes, low levels of political trust, and preferences for (more) direct democracy.),\n (12, This suggests that ‘the’ populist voter does not exist.  ),\n (13,\n  Keywords: populism; voting behavior; comparative politics  Introduction  There has been an explosion of studies on Western European populism.),\n (14,\n  This is hardly remarkable considering the fact that many countries in this part of the world have recently witnessed the upsurge of one or more allegedly populist parties.),\n (17,\n  The electoral successes of these parties have inspired studies on how populism can best be deﬁned (Weyland, 2001; Mudde, 2004), how the populist upsurge can be explained (Mény and Surel, 2002a; Albertazzi and McDonnell, 2008), and on how it affects public opinion (Akkerman et al., 2014), parties (Pauwels, 2011b), policy making (Albertazzi and Mueller, 2013), and liberal democracy (Mudde and Rovira Kaltwasser, 2012).),\n (18,\n  Almost all of these studies depart from the assumption that although populist parties strongly differ from each other in terms of their main ideologies, their leadership strategies, and the political styles they employ, they also have some core  *),\n (22,\n  Do the voter bases of populist parties also have something in common across cases?),\n (24,\n  After all, in order to understand the recent successes of populist parties coming from diverging ideological backgrounds, it is of essential importance to know what their support bases look like.),\n (26,\n  We know only very little, however, about what the voter bases of the more general category of populist parties have in common.),\n (27,\n  The populist message – which basically argues that the good people is betrayed by an evil elite (Mudde, 2004; Stanley, 2008; Hawkins, 2010; Rovira Kaltwasser, 2012) – can be combined with different ideologies (Taggart, 2000), and can therefore be employed by parties on both the radical right and the radical left.),\n (28,\n  Moreover, also other parties, including mainstream parties, can endorse the populist message (Rooduijn et al., 2014).),\n (29,\n  An analysis of the voter bases of populist parties should therefore focus on all parties that express a populist message – and not only on the radical left and/or radical right.),\n (30,\n  To the best of my knowledge up till now only one study (Pauwels, 2014) has focused on the question what those who vote for Western European populist parties have in common across cases.),\n (31,\n  However, this seminal study focuses on the speciﬁc electoral bases of populist parties in only three countries.),\n (32,\n  In order to answer the more general question what the electorates of populist parties have in common across cases, it is of essential importance to include more parties and countries.  ),\n (33,\n  There exists a widely held belief that those who vote for populists are those with a lower socioeconomic position – the so-called ‘losers of globalization’ – who are radical and dissatisﬁed with politics at the national and EU level (Kriesi et al., 2006; Kriesi et al., 2008).),\n (34,\n  Studies have shown that voters for the populist radical right indeed have low socioeconomic positions (Lubbers et al., 2002) and are Eurosceptic (Werts et al., 2013).),\n (36,\n  This raises the question if the voter bases of different kinds of populist parties have in common that they consist of individuals who are more likely to be ‘losers of globalization’ with Eurosceptic attitudes, low levels of political trust, and preferences for (more) direct democracy than those who vote for mainstream parties.),\n (37,\n  Based on an analysis of individual-level data on socio-demographics, attitudes and voting behavior [coming from the European Social Survey (ESS), 2002–12] in 11 political systems in Western Europe, and concerning the voter bases of 15 prototypical populist parties, I show that this is not the case.  ),\n (39,\n  In a recent study, Elchardus and Spruyt (2016) look at support for populism as well.),\n (46,\n  First, it shows that the electorates of different kinds of populist parties have only very little in common.),\n (47, ‘The’ populist voter does not seem to exist.),\n (48,\n  Second, it implies that we should be very careful when we generalize ﬁndings about voters for either radical left or radical right parties to the voter base of populist parties in general.),\n (49,\n  If the aim is to draw inferences about what the electorates of populist parties in general have in common, it is important to make sure that the analysis is not ‘contaminated’ by speciﬁcities which are unique to only the radical left or the radical right.),\n (51,\n  The Western European public debate is replete with analyses of the increasing successes of populist parties.),\n (53,\n  The success of populists is just as much shaped by the demand side of the electoral market.),\n (55,\n  Moreover, to better understand the wider phenomenon of Western European populism, we should compare these voters with those who vote for parties like the Lega Nord (Northern League, LN) in Italy and Die Linke in Germany.),\n (57,\n  In the following sections I discuss the concepts of populism and the reasons why someone would vote for a populist party.),\n (62,\n  Although the concept of populism is a highly contested concept, scholars increasingly agree about an appropriate deﬁnition of the term.),\n (63,\n  Mudde deﬁnes populism as ‘an ideology that considers society to be ultimately separated into two homogeneous and antagonistic groups, “the pure people” versus “the corrupt elite”, and which argues that politics should be an expression of the volonté générale (general will) of the people’ (2004: 543).),\n (64,\n  Hawkins proposes a highly similar deﬁnition: populism is, according to him, ‘a Manichean discourse that identiﬁes Good with a uniﬁed will of the people and Evil with a conspiring elite’ (2009: 1042).),\n (69, What unites the voter bases of populist parties?),\n (71,\n  University of West Bohemia, on 08 Feb 2022 at 11::, subject to the Cambridge Core terms of use, available at between the good people and the evil elite; and (2) they conceive of populism as a set of ideas (Hawkins et al., 2012).),\n (78,\n  They also share with each other that they perceive populism as more than merely a particular rhetoric, style, or strategy.),\n (80,\n  As a set of ideas, populism can be attached to different ideologies, ranging from left-wing to right-wing and from progressive to conservative.),\n (82,\n  Most previous studies on populist voter bases focused on either the radical right or the radical left.),\n (83,\n  If we aim at making inferences about what the electorates of populist parties in general have in common, however, relying on these studies will lead to ﬂawed conclusions for two main reasons: (1) these analyses are not inclusive enough because many other (non-radical) parties that might also express a populist message are excluded from the analysis; and (2) these analyses are contaminated by the speciﬁc ideological positions of the voters for these particular party families (e.g. anti-immigrant attitudes when it comes to radical right parties and attitudes toward welfare redistribution when it comes to radical left parties).  ),\n (84, Who votes for a populist?  ),\n (88,\n  Kriesi et al. argue that the transformation of the Western European societal landscape is also represented in terms of political supply and electoral behavior: ‘In most countries, it is [the] parties of the populist right who have been able to formulate a highly attractive ideological package for the “losers” of economic transformations and cultural diversity’ (2008: 19).),\n (89,\n  As a result, it might be expected that those with lower socioeconomic positions are likely to vote for populist radical right parties.),\n (96,\n  To start with, it has been shown that those who vote for populist radical right parties tend to be lower educated (Lubbers et al., 2002; Arzheimer, 2009; Bovens and Wille, 2010).),\n (98,\n  However, Kriesi et al. (2006, 2008) pay almost no attention to populist parties that are not radical right.),\n (99,\n  This is remarkable because it might be expected that the losers of globalization are not only inclined to vote for populist radical right parties, but also for populist parties with other ideologies.),\n (100,\n  After all, populists from left, right, and center all claim that they stand up for ‘ordinary citizens’ who, according to them, are neglected and betrayed by a condescending political and/or economic elite.),\n (103,\n  Moreover, Lubbers and Scheepers (2007) have shown that those with lower class positions are more likely to vote for populist radical left parties than for other parties, and Ramiro (2016) has demonstrated that those who identify with the working class are likely to vote for the radical left.),\n (107,\n  In line with this ﬁnding, Pauwels (2014) has shown that when it comes to voting for populist parties in Belgium, Germany, and the Netherlands, education does not exert an overall negative effect.),\n (108,\n  I therefore expect that someone’s socioeconomic position – but not education – has a negative effect on populist voting.),\n (109,\n  This leads to the following hypothesis:  HYPOTHESIS 1: The voter bases of populist parties have in common that they consist of individuals who are more likely than those who vote for mainstream parties to hold lower socioeconomic positions (i.e. to come from lower classes, to be unemployed, and to have lower incomes).  ),\n (110,\n  But why exactly would a low socioeconomic position lead to voting for a populist party?),\n (111,\n  In general, I expect that individuals with lower socioeconomic positions will be more likely to hold certain attitudes, and will, for that reason, be inclined to vote populist.),\n (112,\n  In other words, I expect the relationship between someone’s socioeconomic position and his or her inclination to vote populist to be mediated by various political attitudes.),\n (113,\n  First, the relationship between someone’s socioeconomic position and populist voting might be mediated by Euroscepticism.),\n (114,\n  Kriesi et al. (2006, 2008) argue that the losers of globalization tend to be more Eurosceptic than the winners, because  What unites the voter bases of populist parties?),\n (118,\n  Those who are Eurosceptic might in turn feel attracted to the populist message because populism and Euroscepticism are often closely related (Harmsen, 2010).),\n (119,\n  This might be the case for two reasons: (1) those who despise the political elite in Brussels will tend to agree with the populist message that ‘Brussels’ does not listen to ordinary people in the member states anymore; and (2) Eurosceptics might also vote for populists not because they criticize the European elite, but because they accuse the national political elite of transferring too much power to the EU.),\n (120,\n  Various studies have indeed found that populist parties positioned at the fringes of the political spectrum tend to express Eurosceptic attitudes (Hooghe et al., 2002; De Vries and Edwards, 2009; Halikiopoulou et al., 2012), and that supporters of such parties (both left- and right-wing) tend to be rather Eurosceptic as well (Lubbers and Scheepers, 2007; Werts et al., 2013; Visser et al., 2014; Ramiro, 2016).),\n (121,\n  I therefore expect that:  HYPOTHESIS 2: The voter bases of populist parties have in common that they consist of individuals who are more likely than those who vote for mainstream parties to be Eurosceptic.  ),\n (122,\n  Second, it might be expected that the relationship between someone’s socioeconomic position and populist voting is not only mediated by negative attitudes toward the EU, but also by distrust toward politics in general.),\n (124,\n  Research has also shown that those voting for populist radical right parties tend to be distrustful toward politics (Betz, 1994;),\n (126,\n  It is likely that the politically discontented vote for populist radical right parties because the negative attitude toward politics of these parties is congruent with their own ideas.),\n (127,\n  Bergh (2004) has shown that it is not so much distrust toward the entire political system that predicts voting for the populist radical right, but distrust toward the political elites within that system.),\n (128,\n  This makes sense as the populist message is not directed against the system, but against the corrupted elites.),\n (129,\n  I label those who vote populist out of political distrust ‘protest voters’.),\n (132,\n  Although the literature focuses on voting for the radical right, it could be expected that protest voting also holds for other parties that express a populist message (see Schumacher and Rooduijn, 2013).),\n (138,\n  Support for a left-wing populist party or any other party that expresses such a message might just as well be explained by protest voting (Ramiro, 2016).),\n (139,\n  Some studies have indeed shown that political distrust exerts a positive effect on voting for populists (Doyle, 2011; Hooghe et al., 2013; Pauwels, 2014).),\n (140,\n  This leads to the third hypothesis:  HYPOTHESIS 3: The voter bases of populist parties have in common that they consist of individuals who are more likely than those who vote for mainstream parties to hold low levels of political trust.  ),\n (141,\n  A third political attitude that might positively affect populist voting is someone’s ideas about direct democracy.),\n (142,\n  Because populists regard politicians and representative institutions with suspicion, they often demand institutional innovations (Webb, 2013).),\n (144,\n  It has therefore been claimed that populists want to restore the primacy of the people and are often in favor of introducing more tools of direct democracy, such as popular initiatives and referendums.),\n (147,\n  I therefore expect that:  HYPOTHESIS 4: The voter bases of populist parties have in common that they consist of individuals who are more likely than those who vote for mainstream parties to be in favor of (more) measures of direct democracy.  ),\n (148,\n  Case selection, measurements, and method  To assess what the electorates of populist parties have in common, I focus on the voter bases of 15 prototypical populist parties in 11 Western European countries.  ),\n (149,\n  I included the following parties: the Freiheitliche Partei Österreichs (Freedom Party of Austria) in Austria (see Heinisch, 2008); the Vlaams Blok/Vlaams Belang (Flemish Block/Flemish Interest) (see Pauwels, 2011a) and Lijst Dedecker/Libertair, Direct, Democratisch (List Dedecker/Libertarian, Direct, Democratic, LDD) (see Pauwels, 2010) in Belgium; the Schweizerische Volkspartei (Swiss People’s Party) in Switzerland (see Albertazzi, 2008); Die Linke in Germany (see March, 2007); the  3 Note that it is unlikely that this attitude mediates the relationship between someone’s socioeconomic position and populist voting as there is no reason to expect that those with either higher or lower socioeconomic positions will be more likely to be in favor of (more) direct democracy.),\n (150,\n  4 See for an overview of prototypical populist parties in Europe: Van Kessel (2015).  ),\n (151, What unites the voter bases of populist parties?),\n (154,\n  A large majority of these parties can be categorized as populist radical right parties.),\n (155, Only Die Linke and the SP are populist radical left parties.),\n (157,\n  Because I am interested in assessing what the voter bases of different kinds of populist parties have in common, the most essential criteria for my case selection are: (1) that the included parties are prototypically populist (meaning that most country experts agree that they can be categorized as populist); and (2) that there is sufﬁcient variation between the selected parties in terms of their ideologies.),\n (159,\n  A shortcoming of this selection of cases is that a large majority of parties (12 out of 15) is not only populist but also radical.),\n (160, This makes it rather difﬁcult to disentangle populism and radicalism.),\n (161,\n  The reason that so many of the selected parties are radical parties is that most populist parties in Western Europe are also radical parties (Rooduijn and Akkerman, 2017).),\n (162, However, that does not mean that all populist parties are radical.),\n (164,\n  Excluding such non-radical populist parties from our case selection would be problematic.),\n (165,\n  Not only because we would then miss out on some highly successful populist parties, but also – and this is probably even more important – because the results could then be driven by these parties’ radicalness instead of their populism.),\n (169,\n  The reason is that the found effects in a pooled analysis could be due to some speciﬁc features of certain types of populist parties and not to populism as such.),\n (170,\n  For instance, a pooled analysis shows that those who hold radical attitudes are more likely to vote for  5 Various prototypical populists have not been included because the number of respondents voting for these parties was insufﬁcient.),\n (172,\n  Sinn Féin from Ireland, the Nationaldemokratische Partei Deutschlands (National Democratic Party of Germany) from Germany, and Alleanza Nazionale (National Alliance) from Italy have not been included because scholars do not agree whether or not these parties should be labeled populist.),\n (173,\n  6 Note that most European radical left parties are usually not labeled as populist.),\n (175, 7 The list of included populist parties is not exhaustive.),\n (176,\n  However, to the best of my knowledge, it is the most extensive selection of prototypical populist parties in a study of populist voting behavior.  ),\n (181,\n  University of West Bohemia, on 08 Feb 2022 at 11::, subject to the Cambridge Core terms of use, available at populists.),\n (183,\n  However, those who vote for other types of populists might not be radical at all.),\n (184,\n  Hence, a pooled analysis does not provide us with an answer to the question what unites voter bases of populist parties across cases.),\n (185,\n  Hence, in order to answer the question what unites the voter bases of populist parties in general, we should investigate the voter bases of all the populist parties separately.),\n (186,\n  Second, in order to disentangle populism from radicalism, I have also focused more speciﬁcally on the three selected populist parties that are not radical.),\n (190,\n  I recoded this variable so that a respondent scores a ‘1’ if he or she voted for a populist party and a ‘0’ if he or she voted for one of the mainstream parties.),\n (197,\n  The two items are summed up and  8 I decided to focus on the reference category of mainstream parties because populist parties typically attack the political mainstream.),\n (199,\n  Instead of positioning those who vote for populist parties against those who vote for mainstream parties, I have positioned those who vote for populist parties (1) against those who vote for other parties (0).),\n (201,\n  Not only those who vote for liberal, social democratic, Christian democratic and conservative parties have been included, but also those who vote for other non-populist political parties.),\n (210,\n  The ‘trust in parties’ variable is, however, strongly correlated  What unites the voter bases of populist parties?),\n (218,\n  I conducted separate logistic regression analyses per populist party (DV = voted for either a populist party [1] or a non-populist party [0]), and included year-ﬁxed effects to take into account that respondents are nested within years.),\n (238,\n  Income is negatively related to populist voting in 3 out of the 15 cases, and in none of the cases is employment status signiﬁcantly related to populist voting.),\n (239,\n  This all indicates that Hypothesis 1 should be rejected: the voter bases of different kinds of populist parties have not in common that they consist of individuals who are more likely to hold lower socioeconomic positions.),\n (241,\n  When it comes to voting for other populist parties, however, education does not exert a statistically signiﬁcant effect.),\n (242,\n  Age is negatively related to populist voting in 6 out of the 15 cases under analysis.),\n (243, In only three cases gender is negatively related to populist voting.),\n (244,\n  In 5 out of the 15 cases under study religiosity exerts a negative effect on populist voting.  Table 1.),\n (245,\n  Logistic regression analyses explaining voting for a populist party compared to voting for a mainstream party (with Bonferroni adjustments)  ),\n (258, What unites the voter bases of populist parties?),\n (261,\n  Political distrust turns out to exert a positive and statistically signiﬁcant effect on populist voting in 8 out of the 15 cases under analysis.),\n (264,\n  Those who hold negative attitudes toward immigrants are more likely to vote populist only when it comes to populist radical right parties.),\n (265,\n  Political interest is negatively related to populist voting in none out of the 15 cases under analysis.),\n (274,\n  However, subsequent analyses indicate that even if we neglect the correction for multiple testing, we reach the same substantive conclusion that the voter bases of populist parties do not have much in common.),\n (283, Let us now focus on the three non-radical populist parties only.),\n (290,\n  This suggests that although the effects of sociodemographic variables on populist voting are mediated by political attitudes, these political attitudes cannot fully account for the sociodemographic differences.  ),\n (295,\n  University of West Bohemia, on 08 Feb 2022 at 11::, subject to the Cambridge Core terms of use, available at In the main analyses those who vote for a populist party are compared to mainstream parties.),\n (297,\n  Table 11 in the Online Appendix displays the results of an analysis based on a comparison of those who vote for populist parties with those who vote for non-populist parties – that is, not only mainstream parties, but also other non-populist parties (like, for instance, some single issue, green, or regional parties).),\n (300,\n  We know only very little, however, about the voter bases of the more general category of populist parties (but see Pauwels, 2014).),\n (302,\n  Logistic regression analyses explaining voting for a populist party compared to voting for a mainstream party (without Bonferroni adjustments)  ),\n (322, What unites the voter bases of populist parties?),\n (324,\n  University of West Bohemia, on 08 Feb 2022 at 11::, subject to the Cambridge Core terms of use, available at populist parties on both the left and the right are increasingly successful in Western Europe, and the populist message expressed by these parties has become more and more widespread in the public debate (Rooduijn, 2014).),\n (325,\n  To the best of my knowledge, the present study is the most inclusive investigation of populist voting in Western Europe so far.),\n (326,\n  It has been argued and shown that populist parties have something in common (e.g. Taggart, 2000; Mudde, 2004).),\n (329,\n  Based on an analysis of the electoral bases of 15 prototypical populist parties in 11 Western European democracies I show that this is not the case.),\n (330,\n  There is no consistent proof that the voter bases of populist parties consist of individuals who are more likely to be unemployed, have lower incomes, come from lower classes, or hold a lower education.),\n (331,\n  Moreover, neither Euroscepticism, nor political distrust and attitudes toward direct democracy turn out to be attitudes that unify the voter bases of populist parties.),\n (332,\n  Although the populist set of ideas might easily be combined with these attitudes, the ﬁndings in this paper demonstrate that they need not always go hand in hand (see also Mudde, 2007).),\n (333,\n  It is important to emphasize that 12 out of the 15 selected populist parties are radical parties.),\n (334,\n  However, the ﬁndings suggest that even the voter bases of the three selected non-radical populist parties do not have much in common.),\n (336,\n  The effects of political distrust on voting for a populist party for each wave separately (sociodemographic and attitudinal variables controlled for but not displayed)  Radical right Radical left Other  FPÖ VB SVP DF PS FN LPF PVV FrP SD Linke SP LDD FI M5S  Political distrust 2002 + X + X + X + X X Political distrust 2004 + + + X + X + X + X Political distrust 2006 + + + X + X + X X X Political distrust 2008 X + + + + X X + + X + + X X Political distrust 2010 X + + + X X + + + X X X Political distrust 2012 X + + X X + +  FPÖ = Freiheitliche Partei Österreichs (Freedom Party of Austria); VB = Vlaams Blok/Vlaams Belang (Flemish Block/  Flemish Interest); SVP = Schweizerische Volkspartei (Swiss People’s Party);),\n (338,\n  Displayed are only the effects of political distrust on populist voting.),\n (345,\n  University of West Bohemia, on 08 Feb 2022 at 11::, subject to the Cambridge Core terms of use, available at future studies might well want to focus on non-radical populist parties like, for instance, the M5S. What uniﬁes the voter bases of such parties across cases and over time?),\n (347,\n  Although this study has assessed many of the characteristics that the voter bases of populist parties could be expected to have in common, it could, of course, still be that my analysis has missed some important variables.),\n (348, One of those variables could consist of ‘populist attitudes’.),\n (349,\n  Akkerman et al. (2014) have shown that it is possible to measure populist attitudes at the individual level and that these attitudes also explain preferences for populist parties.),\n (350,\n  Unfortunately, however, because this study is based on the Dutch case only, and as present comparative data on this topic are not available, it was not possible to assess to what extent such populist attitudes explain populist voting across Western European cases.),\n (351,\n  Future investigations might well focus on measuring populist attitudes in other national contexts as well.),\n (352,\n  Moreover, Bakker et al. (2016) have demonstrated that populist voting is related to a person’s personality.),\n (353,\n  They argue that those who score low on the personality trait Agreeableness tend to agree with the anti-establishment message of a populist party and are therefore likely to also vote populist.),\n (355,\n  Future studies might well focus on the question to what extent political distrust mediates the effect of Agreeableness on populist voting.),\n (356,\n  Finally, future studies should also investigate how individuals who vote for populist parties differ from those who abstain from voting.),\n (358,\n  What are the main differences between those who do not vote and those who support a populist party?),\n (360, First, it is the most encompassing study of populist voting to date.),\n (361,\n  Second, it has demonstrated that, despite a widely held belief, the electorates of populist parties do not always consist of individuals who are more likely to be ‘losers of globalization’ with Eurosceptic attitudes, low levels of political trust, and preferences for (more) direct democracy.),\n (362,\n  And third, this study has demonstrated that the voting bases of different kinds of populist parties strongly differ from each other.),\n (363, This suggests that ‘the’ populist voter does not exist.)]"
     },
     "execution_count": 15,
     "metadata": {},
     "output_type": "execute_result"
    }
   ],
   "source": [
    "[(i, sent) for i, sent in enumerate(doc.sents) if re.search(\"populis\", str(sent))]"
   ],
   "metadata": {
    "collapsed": false
   }
  },
  {
   "cell_type": "code",
   "execution_count": 16,
   "outputs": [
    {
     "data": {
      "text/plain": "[(80,\n  As a set of ideas, populism can be attached to different ideologies, ranging from left-wing to right-wing and from progressive to conservative.),\n (120,\n  Various studies have indeed found that populist parties positioned at the fringes of the political spectrum tend to express Eurosceptic attitudes (Hooghe et al., 2002; De Vries and Edwards, 2009; Halikiopoulou et al., 2012), and that supporters of such parties (both left- and right-wing) tend to be rather Eurosceptic as well (Lubbers and Scheepers, 2007; Werts et al., 2013; Visser et al., 2014; Ramiro, 2016).)]"
     },
     "execution_count": 16,
     "metadata": {},
     "output_type": "execute_result"
    }
   ],
   "source": [
    "[(i, sent) for i, sent in enumerate(doc.sents) if re.search(\"right-wing\", str(sent))]"
   ],
   "metadata": {
    "collapsed": false
   }
  },
  {
   "cell_type": "code",
   "execution_count": 17,
   "outputs": [
    {
     "data": {
      "text/plain": "Populists are anti-elitist because they accuse the elite of being incompetent, arrogant, and/or selﬁsh (Canovan, 2002; Laclau, 2005; Barr, 2009)."
     },
     "execution_count": 17,
     "metadata": {},
     "output_type": "execute_result"
    }
   ],
   "source": [
    "sent = list(doc.sents)[75]\n",
    "sent"
   ],
   "metadata": {
    "collapsed": false
   }
  },
  {
   "cell_type": "markdown",
   "source": [
    "# Filtering lemmata\n",
    "(originally part of the next script...)"
   ],
   "metadata": {
    "collapsed": false
   }
  },
  {
   "cell_type": "code",
   "execution_count": 22,
   "outputs": [],
   "source": [
    "from nltk.stem import WordNetLemmatizer\n",
    "lemmatizer = WordNetLemmatizer()"
   ],
   "metadata": {
    "collapsed": false
   }
  },
  {
   "cell_type": "code",
   "execution_count": 23,
   "outputs": [],
   "source": [
    "# postags = [\"PROPN\", \"NOUN\", \"VERB\", ]\n",
    "def lemmata(spacyobject, filtered=True):\n",
    "    if filtered==True:\n",
    "        lemmata_list = []\n",
    "        for t in spacyobject:\n",
    "            if (t.is_stop==False) & (t.pos_ != \"PROPN\"):\n",
    "                if (t.is_alpha==True):\n",
    "                    lemmata_list.append(t.lemma_)\n",
    "                else:\n",
    "                    if \"-\" in t.text:\n",
    "                        start, hyphen, end = str(t.text).rpartition(\"-\")\n",
    "                        new_lemma = \"-\".join([start, lemmatizer.lemmatize(end)]).lower()\n",
    "                        lemmata_list.append(new_lemma)\n",
    "        return  lemmata_list\n",
    "    else:\n",
    "        return  [t.lemma_ for t in spacyobject]\n",
    "    # return [t.lemma_.lower() if t.pos==\"PROPN\" else t.lemma_ for t in spacyobject if (t.is_stop==False) & (t.is_alpha==True)]"
   ],
   "metadata": {
    "collapsed": false
   }
  },
  {
   "cell_type": "code",
   "execution_count": 26,
   "outputs": [
    {
     "data": {
      "text/plain": "Populists are anti-elitist because they accuse the elite of being incompetent, arrogant, and/or selﬁsh (Canovan, 2002; Laclau, 2005; Barr, 2009)."
     },
     "execution_count": 26,
     "metadata": {},
     "output_type": "execute_result"
    }
   ],
   "source": [
    "sent"
   ],
   "metadata": {
    "collapsed": false
   }
  },
  {
   "cell_type": "code",
   "execution_count": 25,
   "outputs": [
    {
     "data": {
      "text/plain": "['populist',\n 'anti-elitist',\n 'accuse',\n 'elite',\n 'incompetent',\n 'arrogant',\n 'selﬁsh']"
     },
     "execution_count": 25,
     "metadata": {},
     "output_type": "execute_result"
    }
   ],
   "source": [
    "lemmata(sent)"
   ],
   "metadata": {
    "collapsed": false
   }
  },
  {
   "cell_type": "markdown",
   "source": [
    "# apply to all documents"
   ],
   "metadata": {
    "collapsed": false
   }
  },
  {
   "cell_type": "code",
   "execution_count": 27,
   "outputs": [
    {
     "data": {
      "text/plain": "['filteredtext_pop_id_249.txt',\n 'filteredtext_pop_id_261.txt',\n 'filteredtext_pop_id_507.txt',\n 'filteredtext_pop_id_513.txt',\n 'filteredtext_pop_id_275.txt',\n 'filteredtext_pop_id_18.txt',\n 'filteredtext_pop_id_24.txt',\n 'filteredtext_pop_id_30.txt',\n 'filteredtext_pop_id_117.txt',\n 'filteredtext_pop_id_103.txt']"
     },
     "execution_count": 27,
     "metadata": {},
     "output_type": "execute_result"
    }
   ],
   "source": [
    "filenames = [f for f in os.listdir(\"../data/large_data/articles_filteredtexts\") if \".txt\" in f]\n",
    "filenames[:10]"
   ],
   "metadata": {
    "collapsed": false
   }
  },
  {
   "cell_type": "code",
   "execution_count": 33,
   "outputs": [
    {
     "data": {
      "text/plain": "332"
     },
     "execution_count": 33,
     "metadata": {},
     "output_type": "execute_result"
    }
   ],
   "source": [
    "destfiles_ready = [f for f in os.listdir(\"../data/large_data/articles_lemmata_min\") if \".txt\" in f]\n",
    "len(destfiles_ready)"
   ],
   "metadata": {
    "collapsed": false
   }
  },
  {
   "cell_type": "code",
   "execution_count": 35,
   "outputs": [
    {
     "data": {
      "text/plain": "['lemmata_pop_id_277.txt',\n 'lemmata_pop_id_511.txt',\n 'lemmata_pop_id_505.txt',\n 'lemmata_pop_id_263.txt',\n 'lemmata_pop_id_539.txt']"
     },
     "execution_count": 35,
     "metadata": {},
     "output_type": "execute_result"
    }
   ],
   "source": [
    "destfiles_ready[:5]"
   ],
   "metadata": {
    "collapsed": false
   }
  },
  {
   "cell_type": "code",
   "execution_count": 36,
   "outputs": [
    {
     "data": {
      "text/plain": "542"
     },
     "execution_count": 36,
     "metadata": {},
     "output_type": "execute_result"
    }
   ],
   "source": [
    "len(filenames)"
   ],
   "metadata": {
    "collapsed": false
   }
  },
  {
   "cell_type": "code",
   "execution_count": 37,
   "outputs": [],
   "source": [
    "#!mkdir ../data/large_data/articles_spacydocs\n",
    "#!mkdir ../data/large_data/articles_lemmata_min"
   ],
   "metadata": {
    "collapsed": false
   }
  },
  {
   "cell_type": "code",
   "execution_count": 38,
   "outputs": [
    {
     "name": "stdout",
     "output_type": "stream",
     "text": [
      "lemmata_pop_id_48.txt\n",
      "lemmata_pop_id_184.txt\n",
      "lemmata_pop_id_190.txt\n",
      "lemmata_pop_id_147.txt\n",
      "lemmata_pop_id_153.txt\n",
      "lemmata_pop_id_386.txt\n",
      "lemmata_pop_id_392.txt\n",
      "lemmata_pop_id_345.txt\n",
      "lemmata_pop_id_423.txt\n",
      "lemmata_pop_id_437.txt\n",
      "lemmata_pop_id_351.txt\n",
      "lemmata_pop_id_379.txt\n",
      "lemmata_pop_id_378.txt\n",
      "lemmata_pop_id_436.txt\n",
      "lemmata_pop_id_350.txt\n",
      "lemmata_pop_id_344.txt\n",
      "lemmata_pop_id_422.txt\n",
      "lemmata_pop_id_393.txt\n",
      "lemmata_pop_id_387.txt\n",
      "lemmata_pop_id_152.txt\n",
      "lemmata_pop_id_146.txt\n",
      "lemmata_pop_id_191.txt\n",
      "lemmata_pop_id_185.txt\n",
      "lemmata_pop_id_49.txt\n",
      "lemmata_pop_id_61.txt\n",
      "lemmata_pop_id_75.txt\n",
      "lemmata_pop_id_218.txt\n",
      "lemmata_pop_id_224.txt\n",
      "lemmata_pop_id_230.txt\n",
      "lemmata_pop_id_226.txt\n",
      "lemmata_pop_id_540.txt\n",
      "lemmata_pop_id_232.txt\n",
      "lemmata_pop_id_88.txt\n",
      "lemmata_pop_id_63.txt\n",
      "lemmata_pop_id_77.txt\n",
      "lemmata_pop_id_193.txt\n",
      "lemmata_pop_id_187.txt\n",
      "lemmata_pop_id_150.txt\n",
      "lemmata_pop_id_144.txt\n",
      "lemmata_pop_id_178.txt\n",
      "lemmata_pop_id_391.txt\n",
      "lemmata_pop_id_385.txt\n",
      "lemmata_pop_id_352.txt\n",
      "lemmata_pop_id_434.txt\n",
      "lemmata_pop_id_420.txt\n",
      "lemmata_pop_id_346.txt\n",
      "lemmata_pop_id_408.txt\n",
      "lemmata_pop_id_409.txt\n",
      "lemmata_pop_id_421.txt\n",
      "lemmata_pop_id_347.txt\n",
      "lemmata_pop_id_353.txt\n",
      "lemmata_pop_id_435.txt\n",
      "lemmata_pop_id_384.txt\n",
      "lemmata_pop_id_390.txt\n",
      "lemmata_pop_id_179.txt\n",
      "lemmata_pop_id_145.txt\n",
      "lemmata_pop_id_151.txt\n",
      "lemmata_pop_id_186.txt\n",
      "lemmata_pop_id_192.txt\n",
      "lemmata_pop_id_76.txt\n",
      "lemmata_pop_id_62.txt\n",
      "lemmata_pop_id_89.txt\n",
      "lemmata_pop_id_233.txt\n",
      "lemmata_pop_id_227.txt\n",
      "lemmata_pop_id_541.txt\n",
      "lemmata_pop_id_283.txt\n",
      "lemmata_pop_id_297.txt\n",
      "lemmata_pop_id_268.txt\n",
      "lemmata_pop_id_240.txt\n",
      "lemmata_pop_id_526.txt\n",
      "lemmata_pop_id_532.txt\n",
      "lemmata_pop_id_254.txt\n",
      "lemmata_pop_id_39.txt\n",
      "lemmata_pop_id_11.txt\n",
      "lemmata_pop_id_136.txt\n",
      "lemmata_pop_id_122.txt\n",
      "lemmata_pop_id_491.txt\n",
      "lemmata_pop_id_485.txt\n",
      "lemmata_pop_id_308.txt\n",
      "lemmata_pop_id_334.txt\n",
      "lemmata_pop_id_452.txt\n",
      "lemmata_pop_id_446.txt\n",
      "lemmata_pop_id_320.txt\n",
      "lemmata_pop_id_447.txt\n",
      "lemmata_pop_id_321.txt\n",
      "lemmata_pop_id_335.txt\n",
      "lemmata_pop_id_453.txt\n",
      "lemmata_pop_id_309.txt\n",
      "lemmata_pop_id_484.txt\n",
      "lemmata_pop_id_490.txt\n",
      "lemmata_pop_id_123.txt\n",
      "lemmata_pop_id_137.txt\n",
      "lemmata_pop_id_10.txt\n",
      "lemmata_pop_id_38.txt\n",
      "lemmata_pop_id_533.txt\n",
      "lemmata_pop_id_255.txt\n",
      "lemmata_pop_id_241.txt\n",
      "lemmata_pop_id_527.txt\n",
      "lemmata_pop_id_269.txt\n",
      "lemmata_pop_id_296.txt\n",
      "lemmata_pop_id_282.txt\n",
      "lemmata_pop_id_294.txt\n",
      "lemmata_pop_id_280.txt\n",
      "lemmata_pop_id_519.txt\n",
      "lemmata_pop_id_257.txt\n",
      "lemmata_pop_id_531.txt\n",
      "lemmata_pop_id_525.txt\n",
      "lemmata_pop_id_243.txt\n",
      "lemmata_pop_id_12.txt\n",
      "lemmata_pop_id_109.txt\n",
      "lemmata_pop_id_121.txt\n",
      "lemmata_pop_id_135.txt\n",
      "lemmata_pop_id_486.txt\n",
      "lemmata_pop_id_492.txt\n",
      "lemmata_pop_id_479.txt\n",
      "lemmata_pop_id_323.txt\n",
      "lemmata_pop_id_445.txt\n",
      "lemmata_pop_id_451.txt\n",
      "lemmata_pop_id_337.txt\n",
      "lemmata_pop_id_450.txt\n",
      "lemmata_pop_id_336.txt\n",
      "lemmata_pop_id_322.txt\n",
      "lemmata_pop_id_444.txt\n",
      "lemmata_pop_id_478.txt\n",
      "lemmata_pop_id_493.txt\n",
      "lemmata_pop_id_487.txt\n",
      "lemmata_pop_id_134.txt\n",
      "lemmata_pop_id_120.txt\n",
      "lemmata_pop_id_108.txt\n",
      "lemmata_pop_id_13.txt\n",
      "lemmata_pop_id_524.txt\n",
      "lemmata_pop_id_242.txt\n",
      "lemmata_pop_id_256.txt\n",
      "lemmata_pop_id_530.txt\n",
      "lemmata_pop_id_518.txt\n",
      "lemmata_pop_id_281.txt\n",
      "lemmata_pop_id_295.txt\n",
      "lemmata_pop_id_291.txt\n",
      "lemmata_pop_id_285.txt\n",
      "lemmata_pop_id_534.txt\n",
      "lemmata_pop_id_252.txt\n",
      "lemmata_pop_id_246.txt\n",
      "lemmata_pop_id_520.txt\n",
      "lemmata_pop_id_508.txt\n",
      "lemmata_pop_id_17.txt\n",
      "lemmata_pop_id_124.txt\n",
      "lemmata_pop_id_130.txt\n",
      "lemmata_pop_id_118.txt\n",
      "lemmata_pop_id_483.txt\n",
      "lemmata_pop_id_497.txt\n",
      "lemmata_pop_id_440.txt\n",
      "lemmata_pop_id_326.txt\n",
      "lemmata_pop_id_332.txt\n",
      "lemmata_pop_id_454.txt\n",
      "lemmata_pop_id_468.txt\n",
      "lemmata_pop_id_333.txt\n",
      "lemmata_pop_id_455.txt\n",
      "lemmata_pop_id_441.txt\n",
      "lemmata_pop_id_327.txt\n",
      "lemmata_pop_id_496.txt\n",
      "lemmata_pop_id_482.txt\n",
      "lemmata_pop_id_119.txt\n",
      "lemmata_pop_id_131.txt\n",
      "lemmata_pop_id_125.txt\n",
      "lemmata_pop_id_16.txt\n",
      "lemmata_pop_id_509.txt\n",
      "lemmata_pop_id_247.txt\n",
      "lemmata_pop_id_521.txt\n",
      "lemmata_pop_id_535.txt\n",
      "lemmata_pop_id_253.txt\n",
      "lemmata_pop_id_284.txt\n",
      "lemmata_pop_id_290.txt\n",
      "lemmata_pop_id_286.txt\n",
      "lemmata_pop_id_292.txt\n",
      "lemmata_pop_id_523.txt\n",
      "lemmata_pop_id_245.txt\n",
      "lemmata_pop_id_251.txt\n",
      "lemmata_pop_id_537.txt\n",
      "lemmata_pop_id_279.txt\n",
      "lemmata_pop_id_14.txt\n",
      "lemmata_pop_id_28.txt\n",
      "lemmata_pop_id_133.txt\n",
      "lemmata_pop_id_127.txt\n",
      "lemmata_pop_id_494.txt\n",
      "lemmata_pop_id_480.txt\n",
      "lemmata_pop_id_457.txt\n",
      "lemmata_pop_id_331.txt\n",
      "lemmata_pop_id_325.txt\n",
      "lemmata_pop_id_443.txt\n",
      "lemmata_pop_id_319.txt\n",
      "lemmata_pop_id_318.txt\n",
      "lemmata_pop_id_324.txt\n",
      "lemmata_pop_id_442.txt\n",
      "lemmata_pop_id_456.txt\n",
      "lemmata_pop_id_330.txt\n",
      "lemmata_pop_id_481.txt\n",
      "lemmata_pop_id_495.txt\n",
      "lemmata_pop_id_126.txt\n",
      "lemmata_pop_id_132.txt\n",
      "lemmata_pop_id_29.txt\n",
      "lemmata_pop_id_15.txt\n",
      "lemmata_pop_id_278.txt\n",
      "lemmata_pop_id_250.txt\n",
      "lemmata_pop_id_536.txt\n",
      "lemmata_pop_id_522.txt\n",
      "lemmata_pop_id_244.txt\n",
      "lemmata_pop_id_293.txt\n",
      "lemmata_pop_id_287.txt\n",
      "CPU times: user 5min 56s, sys: 12.4 s, total: 6min 9s\n",
      "Wall time: 6min 25s\n"
     ]
    }
   ],
   "source": [
    "%%time\n",
    "sourcepath = \"../data/large_data/articles_filteredtexts/\"\n",
    "#destpath = \"../data/large_data/articles_spacydocs/\"\n",
    "destpath = \"../data/large_data/articles_lemmata_min/\"\n",
    "\n",
    "issues = []\n",
    "for filename in filenames:\n",
    "    destfile_name = filename.replace(\"filteredtext\", \"lemmata\")\n",
    "    if destfile_name not in destfiles_ready:\n",
    "        try:\n",
    "            filepath = sourcepath + filename\n",
    "            with open(filepath, \"r\") as f:\n",
    "                filteredtext = f.read()\n",
    "            filteredtext = filteredtext.replace(\"\\n\", \" \")\n",
    "            doc = nlp_md(filteredtext)\n",
    "            lemmatized_sents = [\" \".join(lemmata(sent)) for sent in doc.sents]\n",
    "            with open(destpath + destfile_name, \"w\") as f:\n",
    "                f.writelines(\"\\n\".join(lemmatized_sents))\n",
    "            print(destfile_name)\n",
    "        except:\n",
    "            issues.append(filename)"
   ],
   "metadata": {
    "collapsed": false
   }
  },
  {
   "cell_type": "code",
   "execution_count": 39,
   "outputs": [
    {
     "data": {
      "text/plain": "2"
     },
     "execution_count": 39,
     "metadata": {},
     "output_type": "execute_result"
    }
   ],
   "source": [
    "len(issues)"
   ],
   "metadata": {
    "collapsed": false
   }
  },
  {
   "cell_type": "code",
   "execution_count": 40,
   "outputs": [
    {
     "data": {
      "text/plain": "['filteredtext_pop_id_60.txt', 'filteredtext_pop_id_469.txt']"
     },
     "execution_count": 40,
     "metadata": {},
     "output_type": "execute_result"
    }
   ],
   "source": [
    "issues"
   ],
   "metadata": {
    "collapsed": false
   }
  },
  {
   "cell_type": "code",
   "execution_count": 43,
   "outputs": [],
   "source": [
    "filename = issues[0]\n",
    "filepath = sourcepath + filename\n",
    "with open(filepath, \"r\") as f:\n",
    "    filteredtext = f.read()\n",
    "filteredtext = filteredtext.replace(\"\\n\", \" \")\n",
    "#doc = nlp_md(filteredtext)\n",
    "#lemmatized_sents = [\" \".join(lemmata(sent)) for sent in doc.sents]\n",
    "#with open(destpath + destfile_name, \"w\") as f:\n",
    "#    f.writelines(\"\\n\".join(lemmatized_sents))\n"
   ],
   "metadata": {
    "collapsed": false
   }
  },
  {
   "cell_type": "code",
   "execution_count": 44,
   "outputs": [
    {
     "data": {
      "text/plain": "'Journal of Democracy, Volume 30, Number 4, October 2019, pp. 35-47 (Article)  Published by Johns Hopkins University Press DOI:  For additional information about this article  Access provided at 15 Oct 2019 08: GMT with no institutional affiliation  https://doi.org/10./jod.. Anna Grzymala-Busse is Michelle and Kevin Douglas Professor of  International Studies at Stanford University and senior fellow at Stanford’s Freeman Spogli Institute for International Studies. She is author, most recently, of Nations Under God: How Churches Use Moral  Authority to Influence Policy (2015).  Populists are everywhere. They win elections and found successful  new political parties; they are the subject of hand-wringing by newspaper columnists and pundits; and they are the focus of a cottage industry  of academic experts and analysts that mushroomed after the 2016 Brexit  vote and the election of U.S. president Donald Trump. After a wave of  support for populists swept across Europe in the 2010s, analysts scrambled to identify the causes. They found them in the economic crises that  began in 2008; in rising income and wealth inequality; and in racism, a  backlash against immigration, and the grievances of a forgotten working class.  Yet these factors are neither individually necessary nor jointly sufficient causes. What is missing is the story of how political elites across  the ideological spectrum failed the voters. Mainstream parties on both  the center-left and the center-right have failed to articulate distinct policy alternatives that responded to the concerns of the electorate in Europe  over the past decades. This not only created political opportunities for  populists, but also validated their claims that elites had grown unresponsive and that the public and its concerns needed better representation.  As if that were not enough, traditional party electorates and newer constituencies began finding themselves at odds on a range of issues, and  mainstream parties on both the left and the right now face internal tensions that only compound their inability to articulate coherent policies.  Populist parties and movements make two claims: first, that political  elites are self-serving, indistinguishable, and indifferent; and, second,  that populists, partly in order to rectify this situation, need to represent   Journal of Democracy  Volume 30,  Number 4  October 2019 © 2019 National Endowment for Democracy and Johns Hopkins University Press an organic “people” or nation rather than specific interests or groups.  In Cas Mudde’s widely used definition, populism “considers society to  be ultimately separated into two homogeneous and antagonistic groups,  ‘the pure people’ versus ‘the corrupt elite’, and . . . argues that politics  should be an expression of the volonté générale (general will) of the  people.”1 Populist parties thus assume that the “people” have a common  interest, a general will whose realization ought to be the aim of politics.  Accordingly, populists demand popular sovereignty and direct democracy rather than interest mediation through democratic institutions such  as parliaments or parties. Examples of populists range from parties of  the nativist right, such as Fidesz in Hungary and Italy’s Lega, to forces  on the redistributionist left, including Syriza in Greece and the vast majority of populist movements in Latin America. It is populism’s ability to articulate a variety of demands, from nativism to redistribution,  that makes populist arguments so appealing to many politicians—and so  powerful and convincing for many voters. In Europe, populist parties are as diverse as they are ubiquitous. They  range from the conservative and culturally traditional Law and Justice  party in Poland, to the Sweden Democrats in a country that had long  been a social-democratic stronghold, to the Alternative for Germany  (AfD), which traveled a surprisingly quick path from its pro-austerity  origins to electoral success as an anti-immigrant and right-wing–populist party (polling at nearly 13 percent in the 2017 federal elections).  Populist parties also include Italy’s governing Five Star Movement, an  ideologically amorphous but strongly anti-immigrant party, and the leftwing Syriza in Greece, which rose to power in 2015 on the basis of its  opposition to the austerity imposed by the EU after the Greek debt crisis  began in 2009. In developed democracies, populist parties have recently spiked in  popularity (see the Figure below). They have more than doubled their  support in the older democracies of Europe, from less than 5 percent up  to 1990 to more than 15 percent by 2018. In the newer postcommunist  democracies, populist support began at much higher levels, averaging  15 percent in 1990, and soared to well over 30 percent by 2017. While  Western Europe’s populists generally remain in the minority, and in the  opposition, their counterparts have won parliamentary elections in Bulgaria, the Czech Republic, Hungary, Poland, Romania, and Slovakia.   Causes of the Populist Wave  What caused this rise? Analysts have pointed the finger at familiar  economic and cultural factors. Economic crises and rising income inequality swelled the ranks of an impoverished and disaffected electorate  that represented a potential constituency for populists. Greece was roiled  by massive protests against the extraordinary economic pain brought  on by the debt crisis (as well as against the EU-prescribed “cure” of  austerity); Syriza was a direct beneficiary. In Hungary, both an economic crisis that had been unfolding for years and the dishonesty of  the incumbent Socialist government contributed to Fidesz being voted  into power in 2010. As Dani Rodrik points out, globalization has led to  economic anxiety and struggles over distribution that have made voters vulnerable to populist appeals. This has been especially true among  blue-collar workers, who were more likely to experience a slowdown in  wage growth due to newly liberalized trade and competition.  Cultural explanations for the rise of populism have focused on the  populist electorate: older, male, more religious, less educated, and  above all likely to espouse traditional cultural values, nationalism, and  the rejection of “outsiders.”3 Deeply skeptical about the real interests  and policies of the elites who claim to represent them, resentful of being  manipulated and condescended to, such voters look back to a time when  life was more predictable and their social status more secure. These voters exhibit “societal pessimism,” a belief that society is in decline.  Here, the topic of immigration melds economic anxieties regarding  competition and lowered wages together with fears of cultural dilution      0  5  10  15  20  25  30  35  1950 1955 1960 1965 1970 1975 1980 1985 1990 1995 2000 2005 2010 2015 2019  Postcommunist Democracies European Average  Developed Democracies  Figure—PoPulist-Party Vote share in  national Parliaments across euroPe, 1950–2019  % Vote in Parliament  Source: Data are from Stanford University’s Global Populisms Project, https://fsi.stanford. edu/global-populisms/global-populisms. Parties are coded as populist if they fulfill both of  Cas Mudde’s criteria (anti-elite statements and claims to represent the nation).  Postcommunist Democracies are Bulgaria, Croatia, the Czech Republic, Estonia, Hungary,  Latvia, Lithuania, Poland, Romania, Serbia, Slovakia, and Slovenia. Developed Democracies are Austria, Belgium, Denmark, Finland, France, Germany,  Greece, Ireland, Italy, Netherlands, Portugal, Spain, Sweden, and the United Kingdom. in a politically explosive mix. Immigration, in particular the wave of  refugees that entered Europe in 2015, has been both a catalyst for the  rise of right-wing populist parties and a target for their rhetoric. Not surprisingly, these parties espouse nativism, and their voters express similar preferences. Nativist appeals have proved a potent political weapon:  By inveighing against immigration, populists can redefine the “people”  to suit their political ends and cast themselves as defending national  cultural, political, and economic interests against an onslaught of foreigners.  Part of the fear on which populists play is the notion that immigration is “uncontrollable” and has swamped the polity’s ability to cope.  Immigration in the twenty-first century has come in multinational  waves, and individual countries have been less able to manage it using  the tools that were available to them earlier. European integration has  meant greater labor mobility, facilitating immigration from within as  well as from outside the EU (an estimated one-million Poles live in the  United Kingdom), and this has in turn produced a backlash against the  perceived inability of national governments to manage and control the  flow of people across borders. Francis Fukuyama has argued that where  immigration is more stringently regulated, as in Canada or Japan, it cannot serve as fodder for populist politicians. Populist movements have  failed to take off in these countries. In Europe and in the United States,  Fukuyama contends, unregulated immigration has led to a rise in support for populists.  Anti-immigrant sentiment is one of the biggest predictors of support  for all the populist parties in Europe, on both the left and the right.  Among other strategies, populist parties have successfully portrayed immigration as a threat to a treasured and vulnerable aspect of European  society: the dense network of public services and welfare provisions established after the Second World War. Many voters see this safety net as  already fraying, and they fear it will be strained to the breaking point by  waves of new potential claimants to education, training, health services,  housing, and welfare benefits. Accordingly, welfare chauvinism—an  insistence on restricting the goods provided by the welfare state to the  native-born population—has been a powerful rallying cry for populists,  combining economic fears with cultural anxieties over the dilution of  national identities. This suggests that explanations for the populist wave  that try to isolate either “cultural” or “economic” drivers may miss the  point. Yet while economic anxiety, the alienation of the working class, and  immigration all provide fodder for populist politicians and parties, they  are neither necessary nor sufficient to explain the surge in populist support. Populist parties have succeeded both where the global financial and  ensuing Eurozone crises brought about a near-collapse of the national  economy (Greece) and in countries untouched by these crises (Poland  or Finland). Conversely, no populist parties arose in countries such as  Ireland or Portugal, where the crisis was severe. Indeed, in certain polities, including Belgium, Denmark, Norway, and Poland, populist parties  lost electoral support in 2011–13. Following a major financial crash in  August 2011, the populist Smer-SD won Slovakia’s March 2012 parliamentary elections, but the liberal Civic Platform won the legislative  election in Poland in October 2011.  This is not to say that the economic crises had no effect: In Italy and  Greece, populists gained in power on the strength of their critique of the  EU response. But the impact was not consistent across countries, and  economic factors fail to explain why support for populists is greater in  the EU’s newer postcommunist member states. Economic inequality  and economic crises exacerbate popular grievances, but by themselves  they do not translate into a surge of support for populists, much less the  collapse of democracy.  Nor is the relationship between immigration and the rise of populism straightforward. Taking Europe as a whole, the pattern has been  that populists gain greater support as migrant populations increase. But  the distribution of populist votes both among and within countries suggests that direct contact with migrants did not drive this rise in support.  Populist parties have won votes both where immigration has soared in  recent years (Germany) and where it is almost entirely absent (the Czech  Republic). And within Germany, areas that have had the least contact  with refugees showed the greatest support for the anti-immigration AfD.  This suggests that it is not simply the presence of immigrants that leads  voters to support populists, but the active exploitation or even creation  by politicians of popular fears and anxieties. Challenges of the kind that  Europe has experienced in recent years do not translate into populist  electoral victories all by themselves. These patterns suggest that to understand the rise of populism, we  should focus on the political response to Europe’s crises rather than on  the crises themselves. The anxieties of democratic societies, whether  over the economy or over immigration, require articulation and mediation by political parties. Such parties are responsible for aggregating  individual preferences, representing societal interests, and responding  with policies for which they are then held accountable. When these  parties fail to perform this role, they open up space for populist alternatives.    The Fading of the Mainstream  When elite party competition fails—when established parties prove  unable to address voters’ economic and cultural concerns—populist parties have a chance to move into the breach and draw new support. In the  years leading up to the recent populist wave, European mainstream parties had failed to represent constituencies, to articulate their needs, and  to propose distinct policy solutions. This situation enabled populists to  sway voters with claims that the status quo amounted to rule by a corrupt, self-serving elite cartel and that only radical solutions could ensure  real representation of “the people.”  The mainstream parties in question are the centrist “natural” parties  of government: the Christian Democrats and Social Democrats who  dominated politics in twentieth-century Europe. As noted above, these  parties faced two recent challenges: the economic crises that began in  2008 and the refugee crisis of 2015. Mainstream parties and elites failed  to address these crises by openly evaluating tradeoffs, presenting distinct policy alternatives, and demonstrating responsiveness to voters.  The mainstream parties were unable to articulate competing policy solutions—partly because the differences between center-left and centerright had become blurred over time, and partly because these parties  were already riven by internal tensions. As the democratic mainstream  parties increasingly proved unable to meet their electoral challenges,  new opportunities arose for populist parties eager to take up the unaddressed grievances and anxieties of voters.  This pattern is not new, and it is not merely a product of the recent  crises. The center-left has been blamed for its failure to represent workers and defend those most affected by Europe’s economic and cultural  challenges. But the right has also failed to contain the populist threat,  especially in its nativist and xenophobic far-right version. Both sides are  thus responsible, if in very different ways.  The Indistinct Center-Left. The center-left has made two controversial moves: First, after the end of les trente glorieuses, the “thirty glorious” postwar years of European growth and stability, it turned away  from representing worker interests and defending the welfare state.  Instead, it ceded the ground to new neoliberal solutions. The “Third  Way” triangulations of Prime Minister Tony Blair (1997–2007) in the  United Kingdom, Chancellor Gerhard Schröder (1998–2005) in Germany, and President Bill Clinton (1993–2001) in the United States further  muddied the differences between the center-left and the center-right, as  broad elite support for free-market, security-state solutions decreased  the range of choices available to the voters. Largely ignored were the  traditional trade-union and labor constituencies of the center-left. Instead, an elite consensus on the desirability of international economic  integration came to shape the terms of debate, with far less attention  paid to those left behind.  The blurring of political dividing lines meant that the center-left  could no longer offer a clear and credible alternative to the emerging  neoliberal consensus. As Sheri Berman has argued, when parties failed  to respond to voters in the 1930s, the result was fascism. Amid the  milder economic, identity, and welfare-state crises of the twenty-first  century, when center-left parties forsook their traditional role of uniting  the working class by offering both strong welfare states and economic  growth, the outcome was populism.  These changes enervated competition and opened up political space  for populist elites, who did not hesitate to weaponize economic anxiety,  xenophobia, and threats to national sovereignty in order to amass political power. Populists used welfare chauvinism to deepen the anxieties  of a working-class electorate that already found itself in a precarious  position.   The Irresponsible Center-Right. Berman’s account of political negligence on the part of the center-left is a critical part of the story. Yet  the center-right bears just as much responsibility for enabling the rise  of populism. In at least three ways, the democratic commitment and  electoral strength of the center-right have historically been critical to the  functioning of liberal democracy. Where the center-right fails, populists  benefit.  First, since conservative parties represent wealthy establishments  that can squelch the democratic aspirations of the poor and politically  weak, it is especially vital that such parties accept their democratic  responsibility. For democracies to function, these parties must uphold the sanctity of elections, even when (and especially when) they  lose. They must buttress informal norms of forbearance, toleration,  and equality before the law—precisely because their constituents often  have the wherewithal to ignore these norms and obtain favorable policy outcomes by lobbying, securing preferential access, and asserting  status and privilege in their dealings with the legal system. Conservative parties also support tradition and view change as desirable only  when strictly necessary. They thus act as a bulwark against radicalism  of any stripe. When they fail to live up to these responsibilities, the  result, as Daniel Ziblatt has shown, is intense polarization and even the  failure of democracy.  Second, where the center-right holds fast in its commitment to democratic norms, it hinders far-right extremists from winning majorities and  governing. As Takis Pappas notes, “impeded as they are by large center-right parties, nativists find it impossible to win electoral majorities  and govern single-handedly. . . . Even junior-partner status is out of the  question in France, Germany, and Sweden, where the center-right locks  nativist parties completely out of government as a matter of course.”13 In  contrast, when center-right parties attempt to accommodate nativist and  right-wing extremists by adopting similar positions or forming alliances  with the far right, the center-right loses votes. Appeasing extremeright populists and nativists only strengthens them, a history lesson conservative parties should have learned long ago.  Third, among mainstream political forces, the center-right is most  likely to give in to the temptations of the populist extreme right. In Europe at least, it is the right-wing populists, in their nativist, authoritarian, and xenophobic incarnations, who currently pose the greatest threat  to democracy. Populist and extremist voices of this ilk can take over  center-right parties if these parties are already weak. Etiolated centerright parties were unable to stop the rise of a candidate that party elites  did not want in the United States and resorted to feckless promises of  plebiscitary democracy in the United Kingdom. Center-right parties can  also deliberately set a course toward populism and authoritarianism: In  Hungary, for instance, Fidesz quickly made the journey from liberal  democracy to conservative nationalism over the course of the 1990s,  then fully embraced (and implemented) an illiberal populist program in  the following decades. Similarly, the German AfD, which originally focused on criticizing the EU’s bailout of Greece, soon came to be dominated by a strongly anti-immigrant political current that gave the party  its xenophobic and extreme-right reputation. These transformations are  a departure from the previous European pattern of extreme–right-wing  parties being founded as such.  In short, the center-left alone is not to blame. Both the center-right  and center-left have failed to fulfill their democratic responsibility to  articulate voter concerns and offer distinct and coherent policy solutions. The populists have benefited—and, as the rising popularity of the  German Greens shows, so have other parties outside the centrist mainstream.  These electoral failures both were caused partly by and then exacerbated the mainstream parties’ internal tensions and contradictions,  which may weaken these parties even further in the longer run. On  the center-left, traditional working-class constituencies are facing increasingly limited employment and life opportunities, even as a more  diverse group of newer progressives demands approaches that sometimes run counter to the perceived interests of these traditional constituencies: liberalizing immigration policies, expanding eligibility  for welfare-state benefits, and so on. On the center-right, free-market  conservatives now have to contend with a new isolationist and nativist  streak among activists and voters, who express increasing suspicion  of and opposition to full freedom of movement for people and goods  within the European Union.  To see what this looks like in practice, one need go no further than the  United Kingdom. There, Labour is now split between the post-Blairite  center-left and the jumbled ideology of the dominant Momentum faction  associated with current party leader Jeremy Corbyn. The Conservatives,  for their part, are divided between small-“l” liberals and a powerful faction that, having rallied around an extreme version of traditional Tory  Euroskepticism, is now issuing isolationist demands for a no-deal Brexit (meaning the United Kingdom would leave without any negotiated  agreement to soften the impact on trade and other areas).   The EU as Scapegoat and the Weakness of Party Competition.  Brexit illustrates a distinctly European problem: the perception that the  EU brooks no alternative and its influence on mainstream party competition. In the newer member countries, this perception centered on the  elite consensus among mainstream parties over accession. The populists  seemed to be the only critics, a position that eventually worked to their  political advantage. Across member states more broadly, this perception has meant resentment at EU policies seen as serving the interests  of others. This resentment grew over decades as mainstream politicians  blithely blamed “the European Union” for pushing unpopular policies  and sidestepping controversial issues. As Peter Mair argued, the European Union itself deliberately depoliticized the developed democracies,  assigning a swath of issues to regulatory agencies rather than parliaments and thus precluding domestic political debates—a situation many  domestic governments found all too convenient as they happily ceded  controversial (and thus electorally costly) policy domains to the EU.  In the newer postcommunist member states, EU accession inadvertently catalyzed the rise of populism. During the most recent waves of  accessions in 2004–13, the EU demanded that candidate countries accept a raft of regulatory and institutional policies and standards. This  left little room for negotiation, and it stifled domestic debates over the  desirability of these changes. Now many of these regulations are being  challenged by populist governments, which cast them as a threat to national sovereignty and also often see them as an unwelcome barrier to  officeholders’ self-enrichment. Beyond these policy mandates, the EU  indirectly promoted an elite consensus within the candidate countries on  the benefits of membership, relegating opposition to the political margins. In the run-up to accession, populist and extremist parties became  the only critics of the European project, and these critics grew in popularity as other elites failed to engage with popular concerns. Elite policy  consensus and the muting of domestic policy debates embolden populist  critics, who gain votes and credibility. More broadly, the EU’s critics charge that the transnational body has  ignored the domestic policies and electoral concerns of member states  when making such major decisions as the imposition of austerity in  Greece and the adoption of national refugee quotas. Following the 2008  economic crisis, the periphery states of Greece, Ireland, Italy, Portugal,  and Spain had to accept Eurozone policies that did not allow for any  democratic input and indeed undermined these countries’ democratic  institutions. The stern lectures on austerity of Wolfgang Schaüble,  then the German minister of finance, alienated not only Greek voters,  but also others who pointed out that the boom experienced by Germany  itself since the mid-2000s had been at least partly due to the adoption of  the euro as a common currency, which effectively subsidized German  exports.  Subsequently, after Chancellor Angela Merkel welcomed refugees  to Germany in 2015, she sought to distribute them across the EU through national resettlement quotas, which she  insisted that all EU countries adopt.  The result is that while most Europeans support taking in refugees, they  also disapprove of the way the EU has  handled the issue. The irony is that  the politicians who now resent Germany’s dominance previously reaped  political dividends from being able to  blame “Brussels” for taking matters  out of their hands.  The upshot of these events is that the EU has become a favored scapegoat both for mainstream parties, who could blame the EU instead of  confronting difficult policy questions, and for many populists, who have  successfully exploited immigration, resentment of technocratic rule, and  the purported threat that “Brussels” poses to national sovereignty. Much  as with anti-immigration rhetoric, the beauty of the populist critique of  the EU is that it mixes cultural and economic fears, faulting EU regulation both for taking away national sovereignty and for failing to respect  local cultural and political needs. By blaming the European Union and  avoiding domestic political debates, mainstream political parties made  credible this populist critique. In effect, they reified the claim that politics no longer responded to popular interests and instead worked to the  benefit of a narrow elite.  Two other related factors contributed to the failure of mainstream  party competition: structural pressures on the political parties and their  subsequent decisions to abandon mass party politics. Once the postwar  welfare state began to fray, the parties’ room to maneuver contracted.  The primacy of technocratic, neoliberal policy solutions meant both the  abandonment by the center-left of its former policy commitments and  constituencies, and silence from the center-right when confronted by  the new challenges of immigration, cultural and identity transformations, economic inequality, and voter alienation. These structural problems were compounded by organizational shifts within the parties, away  from a reliance on mass membership (and individual dues) and toward  a greater dependence on state funding in various forms. Parties began to  rely on costly media campaigns rather than individual mobilization in  their electoral efforts. This both alienated traditional constituencies and  created the appearance of “you scratch my back and I will scratch yours”   The weakness and  negligence of mainstream  parties have made  populists credible critics  of policy, whether  on EU membership,  immigration, or the  welfare state.  agreements among the political parties. The result was that neither the  center-left nor the center-right mainstream parties could articulate distinct policy solutions, reassure their voters, or erect an effective cordon  sanitaire against the rise of nativist populism in Europe.   The Populist Critique  Democratic political parties have a fundamental obligation to respond  to voter concerns with clear, distinct, and credible policy alternatives.  This is the precondition of electoral accountability. When mainstream  parties appear unable to present such alternatives and respond to popular  priorities, populist parties benefit. The perception that mainstream parties have failed to seriously address immigration and other issues helps  to drive populist support.  The perceived convergence and unresponsiveness of center-left and  center-right parties have created a situation in which the populist message starts to ring true: The elites are an undifferentiated and selfserving cartel, and the populace has gone unrepresented. Populists offer a powerful critique of mainstream parties as self-serving, relying  on state resources to survive and entrench themselves, and part of a  collusive arrangement whereby the center-left and center-right offer  similar (and similarly ineffective) policy solutions. In Europe, rightwing populists credibly criticize the mainstream consensus and claim  that they have better answers to popular anxieties about immigration,  economic troubles, and social dissatisfaction. The weakness of mainstream political parties on both the left and the  right further explains why populists are so popular in postcommunist  democracies: Strong mainstream parties with clear and distinct policy  orientations never emerged in these polities in the first place. The mainstream parties in postcommunist Europe did not develop strong links to  voters or come to represent clear social cleavages. As a result, they were  part of a broader pattern of political churn in which new democratic  parties arose and died constantly. Moreover, these parties hewed to a  broad set of promarket policies, differentiating themselves by their competence in carrying out these policies rather than by distinct stances that  would have made the choice a tangible one for voters. Even nominally  leftist parties faithfully followed the dictates of free-market reforms.  The limitations of both the center-left and the center-right, in newer  as well as older European democracies, have given rise to the perception that there is a general consensus on policy. They thereby have enabled the rise of populists, who have been both the main critics and the  electoral beneficiaries of this perceived consensus. The weakness and  negligence of mainstream parties have made populists credible critics of  policy, whether on EU membership, immigration, or the welfare state.  Centrist parties are now paying the electoral price.  '"
     },
     "execution_count": 44,
     "metadata": {},
     "output_type": "execute_result"
    }
   ],
   "source": [
    "filteredtext"
   ],
   "metadata": {
    "collapsed": false
   }
  },
  {
   "cell_type": "code",
   "execution_count": 47,
   "outputs": [
    {
     "data": {
      "text/plain": "'Journal of Democracy, Volume 30, Number 4, October 2019, pp. 35-47 (Article)  Published by Johns Hopkins University Press DOI:  For additional information about this article  Access provided at 15 Oct 2019 08: GMT with no institutional affiliation  https://doi.org/10./jod.. Anna Grzymala-Busse is Michelle and Kevin Douglas Professor of  International Studies at Stanford University and senior fellow at Stanford’s Freeman Spogli Institute for International Studies. She is author, most recently, of Nations Under God: How Churches Use Moral  Authority to Influence Policy (2015).  Populists are everywhere. They win elections and found successful  new political parties; they are the subject of hand-wringing by newspaper columnists and pundits; and they are the focus of a cottage industry  of academic experts and analysts that mushroomed after the 2016 Brexit  vote and the election of U.S. president Donald Trump. After a wave of  support for populists swept across Europe in the 2010s, analysts scrambled to identify the causes. They found them in the economic crises that  began in 2008; in rising income and wealth inequality; and in racism, a  backlash against immigration, and the grievances of a forgotten working class.  Yet these factors are neither individually necessary nor jointly sufficient causes. What is missing is the story of how political elites across  the ideological spectrum failed the voters. Mainstream parties on both  the center-left and the center-right have failed to articulate distinct policy alternatives that responded to the concerns of the electorate in Europe  over the past decades. This not only created political opportunities for  populists, but also validated their claims that elites had grown unresponsive and that the public and its concerns needed better representation.  As if that were not enough, traditional party electorates and newer constituencies began finding themselves at odds on a range of issues, and  mainstream parties on both the left and the right now face internal tensions that only compound their inability to articulate coherent policies.  Populist parties and movements make two claims: first, that political  elites are self-serving, indistinguishable, and indifferent; and, second,  that populists, partly in order to rectify this situation, need to represent   Journal of Democracy  Volume 30,  Number 4  October 2019 © 2019 National Endowment for Democracy and Johns Hopkins University Press an organic “people” or nation rather than specific interests or groups.  In Cas Mudde’s widely used definition, populism “considers society to  be ultimately separated into two homogeneous and antagonistic groups,  ‘the pure people’ versus ‘the corrupt elite’, and . . . argues that politics  should be an expression of the volonté générale (general will) of the  people.”1 Populist parties thus assume that the “people” have a common  interest, a general will whose realization ought to be the aim of politics.  Accordingly, populists demand popular sovereignty and direct democracy rather than interest mediation through democratic institutions such  as parliaments or parties. Examples of populists range from parties of  the nativist right, such as Fidesz in Hungary and Italy’s Lega, to forces  on the redistributionist left, including Syriza in Greece and the vast majority of populist movements in Latin America. It is populism’s ability to articulate a variety of demands, from nativism to redistribution,  that makes populist arguments so appealing to many politicians—and so  powerful and convincing for many voters. In Europe, populist parties are as diverse as they are ubiquitous. They  range from the conservative and culturally traditional Law and Justice  party in Poland, to the Sweden Democrats in a country that had long  been a social-democratic stronghold, to the Alternative for Germany  (AfD), which traveled a surprisingly quick path from its pro-austerity  origins to electoral success as an anti-immigrant and right-wing–populist party (polling at nearly 13 percent in the 2017 federal elections).  Populist parties also include Italy’s governing Five Star Movement, an  ideologically amorphous but strongly anti-immigrant party, and the leftwing Syriza in Greece, which rose to power in 2015 on the basis of its  opposition to the austerity imposed by the EU after the Greek debt crisis  began in 2009. In developed democracies, populist parties have recently spiked in  popularity (see the Figure below). They have more than doubled their  support in the older democracies of Europe, from less than 5 percent up  to 1990 to more than 15 percent by 2018. In the newer postcommunist  democracies, populist support began at much higher levels, averaging  15 percent in 1990, and soared to well over 30 percent by 2017. While  Western Europe’s populists generally remain in the minority, and in the  opposition, their counterparts have won parliamentary elections in Bulgaria, the Czech Republic, Hungary, Poland, Romania, and Slovakia.   Causes of the Populist Wave  What caused this rise? Analysts have pointed the finger at familiar  economic and cultural factors. Economic crises and rising income inequality swelled the ranks of an impoverished and disaffected electorate  that represented a potential constituency for populists. Greece was roiled  by massive protests against the extraordinary economic pain brought  on by the debt crisis (as well as against the EU-prescribed “cure” of  austerity); Syriza was a direct beneficiary. In Hungary, both an economic crisis that had been unfolding for years and the dishonesty of  the incumbent Socialist government contributed to Fidesz being voted  into power in 2010. As Dani Rodrik points out, globalization has led to  economic anxiety and struggles over distribution that have made voters vulnerable to populist appeals. This has been especially true among  blue-collar workers, who were more likely to experience a slowdown in  wage growth due to newly liberalized trade and competition.  Cultural explanations for the rise of populism have focused on the  populist electorate: older, male, more religious, less educated, and  above all likely to espouse traditional cultural values, nationalism, and  the rejection of “outsiders.”3 Deeply skeptical about the real interests  and policies of the elites who claim to represent them, resentful of being  manipulated and condescended to, such voters look back to a time when  life was more predictable and their social status more secure. These voters exhibit “societal pessimism,” a belief that society is in decline.  Here, the topic of immigration melds economic anxieties regarding  competition and lowered wages together with fears of cultural dilution      0  5  10  15  20  25  30  35  1950 1955 1960 1965 1970 1975 1980 1985 1990 1995 2000 2005 2010 2015 2019  Postcommunist Democracies European Average  Developed Democracies  Figure—PoPulist-Party Vote share in  national Parliaments across euroPe, 1950–2019  % Vote in Parliament  Source: Data are from Stanford University’s Global Populisms Project, https://fsi.stanford. edu/global-populisms/global-populisms. Parties are coded as populist if they fulfill both of  Cas Mudde’s criteria (anti-elite statements and claims to represent the nation).  Postcommunist Democracies are Bulgaria, Croatia, the Czech Republic, Estonia, Hungary,  Latvia, Lithuania, Poland, Romania, Serbia, Slovakia, and Slovenia. Developed Democracies are Austria, Belgium, Denmark, Finland, France, Germany,  Greece, Ireland, Italy, Netherlands, Portugal, Spain, Sweden, and the United Kingdom. in a politically explosive mix. Immigration, in particular the wave of  refugees that entered Europe in 2015, has been both a catalyst for the  rise of right-wing populist parties and a target for their rhetoric. Not surprisingly, these parties espouse nativism, and their voters express similar preferences. Nativist appeals have proved a potent political weapon:  By inveighing against immigration, populists can redefine the “people”  to suit their political ends and cast themselves as defending national  cultural, political, and economic interests against an onslaught of foreigners.  Part of the fear on which populists play is the notion that immigration is “uncontrollable” and has swamped the polity’s ability to cope.  Immigration in the twenty-first century has come in multinational  waves, and individual countries have been less able to manage it using  the tools that were available to them earlier. European integration has  meant greater labor mobility, facilitating immigration from within as  well as from outside the EU (an estimated one-million Poles live in the  United Kingdom), and this has in turn produced a backlash against the  perceived inability of national governments to manage and control the  flow of people across borders. Francis Fukuyama has argued that where  immigration is more stringently regulated, as in Canada or Japan, it cannot serve as fodder for populist politicians. Populist movements have  failed to take off in these countries. In Europe and in the United States,  Fukuyama contends, unregulated immigration has led to a rise in support for populists.  Anti-immigrant sentiment is one of the biggest predictors of support  for all the populist parties in Europe, on both the left and the right.  Among other strategies, populist parties have successfully portrayed immigration as a threat to a treasured and vulnerable aspect of European  society: the dense network of public services and welfare provisions established after the Second World War. Many voters see this safety net as  already fraying, and they fear it will be strained to the breaking point by  waves of new potential claimants to education, training, health services,  housing, and welfare benefits. Accordingly, welfare chauvinism—an  insistence on restricting the goods provided by the welfare state to the  native-born population—has been a powerful rallying cry for populists,  combining economic fears with cultural anxieties over the dilution of  national identities. This suggests that explanations for the populist wave  that try to isolate either “cultural” or “economic” drivers may miss the  point. Yet while economic anxiety, the alienation of the working class, and  immigration all provide fodder for populist politicians and parties, they  are neither necessary nor sufficient to explain the surge in populist support. Populist parties have succeeded both where the global financial and  ensuing Eurozone crises brought about a near-collapse of the national  economy (Greece) and in countries untouched by these crises (Poland  or Finland). Conversely, no populist parties arose in countries such as  Ireland or Portugal, where the crisis was severe. Indeed, in certain polities, including Belgium, Denmark, Norway, and Poland, populist parties  lost electoral support in 2011–13. Following a major financial crash in  August 2011, the populist Smer-SD won Slovakia’s March 2012 parliamentary elections, but the liberal Civic Platform won the legislative  election in Poland in October 2011.  This is not to say that the economic crises had no effect: In Italy and  Greece, populists gained in power on the strength of their critique of the  EU response. But the impact was not consistent across countries, and  economic factors fail to explain why support for populists is greater in  the EU’s newer postcommunist member states. Economic inequality  and economic crises exacerbate popular grievances, but by themselves  they do not translate into a surge of support for populists, much less the  collapse of democracy.  Nor is the relationship between immigration and the rise of populism straightforward. Taking Europe as a whole, the pattern has been  that populists gain greater support as migrant populations increase. But  the distribution of populist votes both among and within countries suggests that direct contact with migrants did not drive this rise in support.  Populist parties have won votes both where immigration has soared in  recent years (Germany) and where it is almost entirely absent (the Czech  Republic). And within Germany, areas that have had the least contact  with refugees showed the greatest support for the anti-immigration AfD.  This suggests that it is not simply the presence of immigrants that leads  voters to support populists, but the active exploitation or even creation  by politicians of popular fears and anxieties. Challenges of the kind that  Europe has experienced in recent years do not translate into populist  electoral victories all by themselves. These patterns suggest that to understand the rise of populism, we  should focus on the political response to Europe’s crises rather than on  the crises themselves. The anxieties of democratic societies, whether  over the economy or over immigration, require articulation and mediation by political parties. Such parties are responsible for aggregating  individual preferences, representing societal interests, and responding  with policies for which they are then held accountable. When these  parties fail to perform this role, they open up space for populist alternatives.    The Fading of the Mainstream  When elite party competition fails—when established parties prove  unable to address voters’ economic and cultural concerns—populist parties have a chance to move into the breach and draw new support. In the  years leading up to the recent populist wave, European mainstream parties had failed to represent constituencies, to articulate their needs, and  to propose distinct policy solutions. This situation enabled populists to  sway voters with claims that the status quo amounted to rule by a corrupt, self-serving elite cartel and that only radical solutions could ensure  real representation of “the people.”  The mainstream parties in question are the centrist “natural” parties  of government: the Christian Democrats and Social Democrats who  dominated politics in twentieth-century Europe. As noted above, these  parties faced two recent challenges: the economic crises that began in  2008 and the refugee crisis of 2015. Mainstream parties and elites failed  to address these crises by openly evaluating tradeoffs, presenting distinct policy alternatives, and demonstrating responsiveness to voters.  The mainstream parties were unable to articulate competing policy solutions—partly because the differences between center-left and centerright had become blurred over time, and partly because these parties  were already riven by internal tensions. As the democratic mainstream  parties increasingly proved unable to meet their electoral challenges,  new opportunities arose for populist parties eager to take up the unaddressed grievances and anxieties of voters.  This pattern is not new, and it is not merely a product of the recent  crises. The center-left has been blamed for its failure to represent workers and defend those most affected by Europe’s economic and cultural  challenges. But the right has also failed to contain the populist threat,  especially in its nativist and xenophobic far-right version. Both sides are  thus responsible, if in very different ways.  The Indistinct Center-Left. The center-left has made two controversial moves: First, after the end of les trente glorieuses, the “thirty glorious” postwar years of European growth and stability, it turned away  from representing worker interests and defending the welfare state.  Instead, it ceded the ground to new neoliberal solutions. The “Third  Way” triangulations of Prime Minister Tony Blair (1997–2007) in the  United Kingdom, Chancellor Gerhard Schröder (1998–2005) in Germany, and President Bill Clinton (1993–2001) in the United States further  muddied the differences between the center-left and the center-right, as  broad elite support for free-market, security-state solutions decreased  the range of choices available to the voters. Largely ignored were the  traditional trade-union and labor constituencies of the center-left. Instead, an elite consensus on the desirability of international economic  integration came to shape the terms of debate, with far less attention  paid to those left behind.  The blurring of political dividing lines meant that the center-left  could no longer offer a clear and credible alternative to the emerging  neoliberal consensus. As Sheri Berman has argued, when parties failed  to respond to voters in the 1930s, the result was fascism. Amid the  milder economic, identity, and welfare-state crises of the twenty-first  century, when center-left parties forsook their traditional role of uniting  the working class by offering both strong welfare states and economic  growth, the outcome was populism.  These changes enervated competition and opened up political space  for populist elites, who did not hesitate to weaponize economic anxiety,  xenophobia, and threats to national sovereignty in order to amass political power. Populists used welfare chauvinism to deepen the anxieties  of a working-class electorate that already found itself in a precarious  position.   The Irresponsible Center-Right. Berman’s account of political negligence on the part of the center-left is a critical part of the story. Yet  the center-right bears just as much responsibility for enabling the rise  of populism. In at least three ways, the democratic commitment and  electoral strength of the center-right have historically been critical to the  functioning of liberal democracy. Where the center-right fails, populists  benefit.  First, since conservative parties represent wealthy establishments  that can squelch the democratic aspirations of the poor and politically  weak, it is especially vital that such parties accept their democratic  responsibility. For democracies to function, these parties must uphold the sanctity of elections, even when (and especially when) they  lose. They must buttress informal norms of forbearance, toleration,  and equality before the law—precisely because their constituents often  have the wherewithal to ignore these norms and obtain favorable policy outcomes by lobbying, securing preferential access, and asserting  status and privilege in their dealings with the legal system. Conservative parties also support tradition and view change as desirable only  when strictly necessary. They thus act as a bulwark against radicalism  of any stripe. When they fail to live up to these responsibilities, the  result, as Daniel Ziblatt has shown, is intense polarization and even the  failure of democracy.  Second, where the center-right holds fast in its commitment to democratic norms, it hinders far-right extremists from winning majorities and  governing. As Takis Pappas notes, “impeded as they are by large center-right parties, nativists find it impossible to win electoral majorities  and govern single-handedly. . . . Even junior-partner status is out of the  question in France, Germany, and Sweden, where the center-right locks  nativist parties completely out of government as a matter of course.”13 In  contrast, when center-right parties attempt to accommodate nativist and  right-wing extremists by adopting similar positions or forming alliances  with the far right, the center-right loses votes. Appeasing extremeright populists and nativists only strengthens them, a history lesson conservative parties should have learned long ago.  Third, among mainstream political forces, the center-right is most  likely to give in to the temptations of the populist extreme right. In Europe at least, it is the right-wing populists, in their nativist, authoritarian, and xenophobic incarnations, who currently pose the greatest threat  to democracy. Populist and extremist voices of this ilk can take over  center-right parties if these parties are already weak. Etiolated centerright parties were unable to stop the rise of a candidate that party elites  did not want in the United States and resorted to feckless promises of  plebiscitary democracy in the United Kingdom. Center-right parties can  also deliberately set a course toward populism and authoritarianism: In  Hungary, for instance, Fidesz quickly made the journey from liberal  democracy to conservative nationalism over the course of the 1990s,  then fully embraced (and implemented) an illiberal populist program in  the following decades. Similarly, the German AfD, which originally focused on criticizing the EU’s bailout of Greece, soon came to be dominated by a strongly anti-immigrant political current that gave the party  its xenophobic and extreme-right reputation. These transformations are  a departure from the previous European pattern of extreme–right-wing  parties being founded as such.  In short, the center-left alone is not to blame. Both the center-right  and center-left have failed to fulfill their democratic responsibility to  articulate voter concerns and offer distinct and coherent policy solutions. The populists have benefited—and, as the rising popularity of the  German Greens shows, so have other parties outside the centrist mainstream.  These electoral failures both were caused partly by and then exacerbated the mainstream parties’ internal tensions and contradictions,  which may weaken these parties even further in the longer run. On  the center-left, traditional working-class constituencies are facing increasingly limited employment and life opportunities, even as a more  diverse group of newer progressives demands approaches that sometimes run counter to the perceived interests of these traditional constituencies: liberalizing immigration policies, expanding eligibility  for welfare-state benefits, and so on. On the center-right, free-market  conservatives now have to contend with a new isolationist and nativist  streak among activists and voters, who express increasing suspicion  of and opposition to full freedom of movement for people and goods  within the European Union.  To see what this looks like in practice, one need go no further than the  United Kingdom. There, Labour is now split between the post-Blairite  center-left and the jumbled ideology of the dominant Momentum faction  associated with current party leader Jeremy Corbyn. The Conservatives,  for their part, are divided between small-“l” liberals and a powerful faction that, having rallied around an extreme version of traditional Tory  Euroskepticism, is now issuing isolationist demands for a no-deal Brexit (meaning the United Kingdom would leave without any negotiated  agreement to soften the impact on trade and other areas).   The EU as Scapegoat and the Weakness of Party Competition.  Brexit illustrates a distinctly European problem: the perception that the  EU brooks no alternative and its influence on mainstream party competition. In the newer member countries, this perception centered on the  elite consensus among mainstream parties over accession. The populists  seemed to be the only critics, a position that eventually worked to their  political advantage. Across member states more broadly, this perception has meant resentment at EU policies seen as serving the interests  of others. This resentment grew over decades as mainstream politicians  blithely blamed “the European Union” for pushing unpopular policies  and sidestepping controversial issues. As Peter Mair argued, the European Union itself deliberately depoliticized the developed democracies,  assigning a swath of issues to regulatory agencies rather than parliaments and thus precluding domestic political debates—a situation many  domestic governments found all too convenient as they happily ceded  controversial (and thus electorally costly) policy domains to the EU.  In the newer postcommunist member states, EU accession inadvertently catalyzed the rise of populism. During the most recent waves of  accessions in 2004–13, the EU demanded that candidate countries accept a raft of regulatory and institutional policies and standards. This  left little room for negotiation, and it stifled domestic debates over the  desirability of these changes. Now many of these regulations are being  challenged by populist governments, which cast them as a threat to national sovereignty and also often see them as an unwelcome barrier to  officeholders’ self-enrichment. Beyond these policy mandates, the EU  indirectly promoted an elite consensus within the candidate countries on  the benefits of membership, relegating opposition to the political margins. In the run-up to accession, populist and extremist parties became  the only critics of the European project, and these critics grew in popularity as other elites failed to engage with popular concerns. Elite policy  consensus and the muting of domestic policy debates embolden populist  critics, who gain votes and credibility. More broadly, the EU’s critics charge that the transnational body has  ignored the domestic policies and electoral concerns of member states  when making such major decisions as the imposition of austerity in  Greece and the adoption of national refugee quotas. Following the 2008  economic crisis, the periphery states of Greece, Ireland, Italy, Portugal,  and Spain had to accept Eurozone policies that did not allow for any  democratic input and indeed undermined these countries’ democratic  institutions. The stern lectures on austerity of Wolfgang Schaüble,  then the German minister of finance, alienated not only Greek voters,  but also others who pointed out that the boom experienced by Germany  itself since the mid-2000s had been at least partly due to the adoption of  the euro as a common currency, which effectively subsidized German  exports.  Subsequently, after Chancellor Angela Merkel welcomed refugees  to Germany in 2015, she sought to distribute them across the EU through national resettlement quotas, which she  insisted that all EU countries adopt.  The result is that while most Europeans support taking in refugees, they  also disapprove of the way the EU has  handled the issue. The irony is that  the politicians who now resent Germany’s dominance previously reaped  political dividends from being able to  blame “Brussels” for taking matters  out of their hands.  The upshot of these events is that the EU has become a favored scapegoat both for mainstream parties, who could blame the EU instead of  confronting difficult policy questions, and for many populists, who have  successfully exploited immigration, resentment of technocratic rule, and  the purported threat that “Brussels” poses to national sovereignty. Much  as with anti-immigration rhetoric, the beauty of the populist critique of  the EU is that it mixes cultural and economic fears, faulting EU regulation both for taking away national sovereignty and for failing to respect  local cultural and political needs. By blaming the European Union and  avoiding domestic political debates, mainstream political parties made  credible this populist critique. In effect, they reified the claim that politics no longer responded to popular interests and instead worked to the  benefit of a narrow elite.  Two other related factors contributed to the failure of mainstream  party competition: structural pressures on the political parties and their  subsequent decisions to abandon mass party politics. Once the postwar  welfare state began to fray, the parties’ room to maneuver contracted.  The primacy of technocratic, neoliberal policy solutions meant both the  abandonment by the center-left of its former policy commitments and  constituencies, and silence from the center-right when confronted by  the new challenges of immigration, cultural and identity transformations, economic inequality, and voter alienation. These structural problems were compounded by organizational shifts within the parties, away  from a reliance on mass membership (and individual dues) and toward  a greater dependence on state funding in various forms. Parties began to  rely on costly media campaigns rather than individual mobilization in  their electoral efforts. This both alienated traditional constituencies and  created the appearance of “you scratch my back and I will scratch yours”   The weakness and  negligence of mainstream  parties have made  populists credible critics  of policy, whether  on EU membership,  immigration, or the  welfare state.  agreements among the political parties. The result was that neither the  center-left nor the center-right mainstream parties could articulate distinct policy solutions, reassure their voters, or erect an effective cordon  sanitaire against the rise of nativist populism in Europe.   The Populist Critique  Democratic political parties have a fundamental obligation to respond  to voter concerns with clear, distinct, and credible policy alternatives.  This is the precondition of electoral accountability. When mainstream  parties appear unable to present such alternatives and respond to popular  priorities, populist parties benefit. The perception that mainstream parties have failed to seriously address immigration and other issues helps  to drive populist support.  The perceived convergence and unresponsiveness of center-left and  center-right parties have created a situation in which the populist message starts to ring true: The elites are an undifferentiated and selfserving cartel, and the populace has gone unrepresented. Populists offer a powerful critique of mainstream parties as self-serving, relying  on state resources to survive and entrench themselves, and part of a  collusive arrangement whereby the center-left and center-right offer  similar (and similarly ineffective) policy solutions. In Europe, rightwing populists credibly criticize the mainstream consensus and claim  that they have better answers to popular anxieties about immigration,  economic troubles, and social dissatisfaction. The weakness of mainstream political parties on both the left and the  right further explains why populists are so popular in postcommunist  democracies: Strong mainstream parties with clear and distinct policy  orientations never emerged in these polities in the first place. The mainstream parties in postcommunist Europe did not develop strong links to  voters or come to represent clear social cleavages. As a result, they were  part of a broader pattern of political churn in which new democratic  parties arose and died constantly. Moreover, these parties hewed to a  broad set of promarket policies, differentiating themselves by their competence in carrying out these policies rather than by distinct stances that  would have made the choice a tangible one for voters. Even nominally  leftist parties faithfully followed the dictates of free-market reforms.  The limitations of both the center-left and the center-right, in newer  as well as older European democracies, have given rise to the perception that there is a general consensus on policy. They thereby have enabled the rise of populists, who have been both the main critics and the  electoral beneficiaries of this perceived consensus. The weakness and  negligence of mainstream parties have made populists credible critics of  policy, whether on EU membership, immigration, or the welfare state.  Centrist parties are now paying the electoral price.  '"
     },
     "execution_count": 47,
     "metadata": {},
     "output_type": "execute_result"
    }
   ],
   "source": [
    "filteredtext"
   ],
   "metadata": {
    "collapsed": false
   }
  },
  {
   "cell_type": "code",
   "execution_count": 45,
   "outputs": [
    {
     "ename": "IndexError",
     "evalue": "list index out of range",
     "output_type": "error",
     "traceback": [
      "\u001B[0;31m---------------------------------------------------------------------------\u001B[0m",
      "\u001B[0;31mIndexError\u001B[0m                                Traceback (most recent call last)",
      "Input \u001B[0;32mIn [45]\u001B[0m, in \u001B[0;36m<cell line: 1>\u001B[0;34m()\u001B[0m\n\u001B[0;32m----> 1\u001B[0m doc \u001B[38;5;241m=\u001B[39m \u001B[43mnlp_md\u001B[49m\u001B[43m(\u001B[49m\u001B[43mfilteredtext\u001B[49m\u001B[43m)\u001B[49m\n",
      "File \u001B[0;32m/opt/homebrew/Caskroom/miniconda/base/lib/python3.9/site-packages/spacy/language.py:1016\u001B[0m, in \u001B[0;36mLanguage.__call__\u001B[0;34m(self, text, disable, component_cfg)\u001B[0m\n\u001B[1;32m   1014\u001B[0m     \u001B[38;5;28;01mraise\u001B[39;00m \u001B[38;5;167;01mValueError\u001B[39;00m(Errors\u001B[38;5;241m.\u001B[39mE109\u001B[38;5;241m.\u001B[39mformat(name\u001B[38;5;241m=\u001B[39mname)) \u001B[38;5;28;01mfrom\u001B[39;00m \u001B[38;5;21;01me\u001B[39;00m\n\u001B[1;32m   1015\u001B[0m \u001B[38;5;28;01mexcept\u001B[39;00m \u001B[38;5;167;01mException\u001B[39;00m \u001B[38;5;28;01mas\u001B[39;00m e:\n\u001B[0;32m-> 1016\u001B[0m     \u001B[43merror_handler\u001B[49m\u001B[43m(\u001B[49m\u001B[43mname\u001B[49m\u001B[43m,\u001B[49m\u001B[43m \u001B[49m\u001B[43mproc\u001B[49m\u001B[43m,\u001B[49m\u001B[43m \u001B[49m\u001B[43m[\u001B[49m\u001B[43mdoc\u001B[49m\u001B[43m]\u001B[49m\u001B[43m,\u001B[49m\u001B[43m \u001B[49m\u001B[43me\u001B[49m\u001B[43m)\u001B[49m\n\u001B[1;32m   1017\u001B[0m \u001B[38;5;28;01mif\u001B[39;00m \u001B[38;5;129;01mnot\u001B[39;00m \u001B[38;5;28misinstance\u001B[39m(doc, Doc):\n\u001B[1;32m   1018\u001B[0m     \u001B[38;5;28;01mraise\u001B[39;00m \u001B[38;5;167;01mValueError\u001B[39;00m(Errors\u001B[38;5;241m.\u001B[39mE005\u001B[38;5;241m.\u001B[39mformat(name\u001B[38;5;241m=\u001B[39mname, returned_type\u001B[38;5;241m=\u001B[39m\u001B[38;5;28mtype\u001B[39m(doc)))\n",
      "File \u001B[0;32m/opt/homebrew/Caskroom/miniconda/base/lib/python3.9/site-packages/spacy/util.py:1672\u001B[0m, in \u001B[0;36mraise_error\u001B[0;34m(proc_name, proc, docs, e)\u001B[0m\n\u001B[1;32m   1671\u001B[0m \u001B[38;5;28;01mdef\u001B[39;00m \u001B[38;5;21mraise_error\u001B[39m(proc_name, proc, docs, e):\n\u001B[0;32m-> 1672\u001B[0m     \u001B[38;5;28;01mraise\u001B[39;00m e\n",
      "File \u001B[0;32m/opt/homebrew/Caskroom/miniconda/base/lib/python3.9/site-packages/spacy/language.py:1011\u001B[0m, in \u001B[0;36mLanguage.__call__\u001B[0;34m(self, text, disable, component_cfg)\u001B[0m\n\u001B[1;32m   1009\u001B[0m     error_handler \u001B[38;5;241m=\u001B[39m proc\u001B[38;5;241m.\u001B[39mget_error_handler()\n\u001B[1;32m   1010\u001B[0m \u001B[38;5;28;01mtry\u001B[39;00m:\n\u001B[0;32m-> 1011\u001B[0m     doc \u001B[38;5;241m=\u001B[39m \u001B[43mproc\u001B[49m\u001B[43m(\u001B[49m\u001B[43mdoc\u001B[49m\u001B[43m,\u001B[49m\u001B[43m \u001B[49m\u001B[38;5;241;43m*\u001B[39;49m\u001B[38;5;241;43m*\u001B[39;49m\u001B[43mcomponent_cfg\u001B[49m\u001B[38;5;241;43m.\u001B[39;49m\u001B[43mget\u001B[49m\u001B[43m(\u001B[49m\u001B[43mname\u001B[49m\u001B[43m,\u001B[49m\u001B[43m \u001B[49m\u001B[43m{\u001B[49m\u001B[43m}\u001B[49m\u001B[43m)\u001B[49m\u001B[43m)\u001B[49m  \u001B[38;5;66;03m# type: ignore[call-arg]\u001B[39;00m\n\u001B[1;32m   1012\u001B[0m \u001B[38;5;28;01mexcept\u001B[39;00m \u001B[38;5;167;01mKeyError\u001B[39;00m \u001B[38;5;28;01mas\u001B[39;00m e:\n\u001B[1;32m   1013\u001B[0m     \u001B[38;5;66;03m# This typically happens if a component is not initialized\u001B[39;00m\n\u001B[1;32m   1014\u001B[0m     \u001B[38;5;28;01mraise\u001B[39;00m \u001B[38;5;167;01mValueError\u001B[39;00m(Errors\u001B[38;5;241m.\u001B[39mE109\u001B[38;5;241m.\u001B[39mformat(name\u001B[38;5;241m=\u001B[39mname)) \u001B[38;5;28;01mfrom\u001B[39;00m \u001B[38;5;21;01me\u001B[39;00m\n",
      "File \u001B[0;32m/opt/homebrew/Caskroom/miniconda/base/lib/python3.9/site-packages/spacy_entity_linker/EntityLinker.py:23\u001B[0m, in \u001B[0;36mEntityLinker.__call__\u001B[0;34m(self, doc)\u001B[0m\n\u001B[1;32m     20\u001B[0m     sent\u001B[38;5;241m.\u001B[39m_\u001B[38;5;241m.\u001B[39mlinkedEntities \u001B[38;5;241m=\u001B[39m EntityCollection([])\n\u001B[1;32m     22\u001B[0m entities \u001B[38;5;241m=\u001B[39m []\n\u001B[0;32m---> 23\u001B[0m \u001B[38;5;28;01mfor\u001B[39;00m termCandidates \u001B[38;5;129;01min\u001B[39;00m tce:\n\u001B[1;32m     24\u001B[0m     entityCandidates \u001B[38;5;241m=\u001B[39m termCandidates\u001B[38;5;241m.\u001B[39mget_entity_candidates()\n\u001B[1;32m     25\u001B[0m     \u001B[38;5;28;01mif\u001B[39;00m \u001B[38;5;28mlen\u001B[39m(entityCandidates) \u001B[38;5;241m>\u001B[39m \u001B[38;5;241m0\u001B[39m:\n",
      "File \u001B[0;32m/opt/homebrew/Caskroom/miniconda/base/lib/python3.9/site-packages/spacy_entity_linker/TermCandidateExtractor.py:10\u001B[0m, in \u001B[0;36mTermCandidateExtractor.__iter__\u001B[0;34m(self)\u001B[0m\n\u001B[1;32m      8\u001B[0m \u001B[38;5;28;01mdef\u001B[39;00m \u001B[38;5;21m__iter__\u001B[39m(\u001B[38;5;28mself\u001B[39m):\n\u001B[1;32m      9\u001B[0m     \u001B[38;5;28;01mfor\u001B[39;00m sent \u001B[38;5;129;01min\u001B[39;00m \u001B[38;5;28mself\u001B[39m\u001B[38;5;241m.\u001B[39mdoc\u001B[38;5;241m.\u001B[39msents:\n\u001B[0;32m---> 10\u001B[0m         \u001B[38;5;28;01mfor\u001B[39;00m candidate \u001B[38;5;129;01min\u001B[39;00m \u001B[38;5;28;43mself\u001B[39;49m\u001B[38;5;241;43m.\u001B[39;49m\u001B[43m_get_candidates_in_sent\u001B[49m\u001B[43m(\u001B[49m\u001B[43msent\u001B[49m\u001B[43m,\u001B[49m\u001B[43m \u001B[49m\u001B[38;5;28;43mself\u001B[39;49m\u001B[38;5;241;43m.\u001B[39;49m\u001B[43mdoc\u001B[49m\u001B[43m)\u001B[49m:\n\u001B[1;32m     11\u001B[0m             \u001B[38;5;28;01myield\u001B[39;00m candidate\n",
      "File \u001B[0;32m/opt/homebrew/Caskroom/miniconda/base/lib/python3.9/site-packages/spacy_entity_linker/TermCandidateExtractor.py:14\u001B[0m, in \u001B[0;36mTermCandidateExtractor._get_candidates_in_sent\u001B[0;34m(self, sent, doc)\u001B[0m\n\u001B[1;32m     13\u001B[0m \u001B[38;5;28;01mdef\u001B[39;00m \u001B[38;5;21m_get_candidates_in_sent\u001B[39m(\u001B[38;5;28mself\u001B[39m, sent, doc):\n\u001B[0;32m---> 14\u001B[0m     root \u001B[38;5;241m=\u001B[39m \u001B[38;5;28;43mlist\u001B[39;49m\u001B[43m(\u001B[49m\u001B[38;5;28;43mfilter\u001B[39;49m\u001B[43m(\u001B[49m\u001B[38;5;28;43;01mlambda\u001B[39;49;00m\u001B[43m \u001B[49m\u001B[43mtoken\u001B[49m\u001B[43m:\u001B[49m\u001B[43m \u001B[49m\u001B[43mtoken\u001B[49m\u001B[38;5;241;43m.\u001B[39;49m\u001B[43mdep_\u001B[49m\u001B[43m \u001B[49m\u001B[38;5;241;43m==\u001B[39;49m\u001B[43m \u001B[49m\u001B[38;5;124;43m\"\u001B[39;49m\u001B[38;5;124;43mROOT\u001B[39;49m\u001B[38;5;124;43m\"\u001B[39;49m\u001B[43m,\u001B[49m\u001B[43m \u001B[49m\u001B[43msent\u001B[49m\u001B[43m)\u001B[49m\u001B[43m)\u001B[49m\u001B[43m[\u001B[49m\u001B[38;5;241;43m0\u001B[39;49m\u001B[43m]\u001B[49m\n\u001B[1;32m     16\u001B[0m     excluded_children \u001B[38;5;241m=\u001B[39m []\n\u001B[1;32m     17\u001B[0m     candidates \u001B[38;5;241m=\u001B[39m []\n",
      "\u001B[0;31mIndexError\u001B[0m: list index out of range"
     ]
    }
   ],
   "source": [
    "doc = nlp_md(filteredtext)"
   ],
   "metadata": {
    "collapsed": false
   }
  },
  {
   "cell_type": "code",
   "execution_count": null,
   "outputs": [],
   "source": [],
   "metadata": {
    "collapsed": false
   }
  }
 ],
 "metadata": {
  "kernelspec": {
   "name": "conda_base",
   "language": "python",
   "display_name": "conda_base"
  },
  "language_info": {
   "codemirror_mode": {
    "name": "ipython",
    "version": 2
   },
   "file_extension": ".py",
   "mimetype": "text/x-python",
   "name": "python",
   "nbconvert_exporter": "python",
   "pygments_lexer": "ipython2",
   "version": "2.7.6"
  }
 },
 "nbformat": 4,
 "nbformat_minor": 0
}
