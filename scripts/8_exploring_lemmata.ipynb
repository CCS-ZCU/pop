{
 "cells": [
  {
   "cell_type": "code",
   "execution_count": 61,
   "outputs": [],
   "source": [
    "import pandas as pd\n",
    "import re\n",
    "import nltk\n",
    "import os"
   ],
   "metadata": {
    "collapsed": false
   }
  },
  {
   "cell_type": "code",
   "execution_count": 80,
   "outputs": [
    {
     "data": {
      "text/plain": "   year                 authors                            journal  \\\n0  2011              Bos et al.            Political Communication   \n1  2019         Blassnig et al.            Political Communication   \n2  2017                Caramani  American Political Science Review   \n3  2020  Wuttke,Schimpf, Schoen  American Political Science Review   \n4  2014                   Treib  Journal of European Public Policy   \n\n                                               title     type pdf? keywords  \\\n0  How the Media Shape Perceptions of Right-Wing ...  article    y        y   \n1  Hitting a Nerve: Populist News Articles Lead t...  article    y        y   \n2  Will vs. Reason: The Populist and Technocratic...  article    y        y   \n3  When the Whole Is Greater than the Sum of Its ...  article    y        y   \n4  The voter says no, but nobody listens: causes ...  article    y        y   \n\n  keywords_online? notes                                           filepath  \\\n0                y  None  [Political Communication/2011 - Bos et al. - H...   \n1                y  None  [Political Communication/2019 - Blassing et al...   \n2             None  None  [American Political Science Review/2017 - Cara...   \n3             None  None  [American Political Science Review/2020 - Wutt...   \n4             None  None  [Journal of European Public Policy/2014 - Trei...   \n\n   pop_id  \n0       0  \n1       1  \n2       2  \n3       3  \n4       4  ",
      "text/html": "<div>\n<style scoped>\n    .dataframe tbody tr th:only-of-type {\n        vertical-align: middle;\n    }\n\n    .dataframe tbody tr th {\n        vertical-align: top;\n    }\n\n    .dataframe thead th {\n        text-align: right;\n    }\n</style>\n<table border=\"1\" class=\"dataframe\">\n  <thead>\n    <tr style=\"text-align: right;\">\n      <th></th>\n      <th>year</th>\n      <th>authors</th>\n      <th>journal</th>\n      <th>title</th>\n      <th>type</th>\n      <th>pdf?</th>\n      <th>keywords</th>\n      <th>keywords_online?</th>\n      <th>notes</th>\n      <th>filepath</th>\n      <th>pop_id</th>\n    </tr>\n  </thead>\n  <tbody>\n    <tr>\n      <th>0</th>\n      <td>2011</td>\n      <td>Bos et al.</td>\n      <td>Political Communication</td>\n      <td>How the Media Shape Perceptions of Right-Wing ...</td>\n      <td>article</td>\n      <td>y</td>\n      <td>y</td>\n      <td>y</td>\n      <td>None</td>\n      <td>[Political Communication/2011 - Bos et al. - H...</td>\n      <td>0</td>\n    </tr>\n    <tr>\n      <th>1</th>\n      <td>2019</td>\n      <td>Blassnig et al.</td>\n      <td>Political Communication</td>\n      <td>Hitting a Nerve: Populist News Articles Lead t...</td>\n      <td>article</td>\n      <td>y</td>\n      <td>y</td>\n      <td>y</td>\n      <td>None</td>\n      <td>[Political Communication/2019 - Blassing et al...</td>\n      <td>1</td>\n    </tr>\n    <tr>\n      <th>2</th>\n      <td>2017</td>\n      <td>Caramani</td>\n      <td>American Political Science Review</td>\n      <td>Will vs. Reason: The Populist and Technocratic...</td>\n      <td>article</td>\n      <td>y</td>\n      <td>y</td>\n      <td>None</td>\n      <td>None</td>\n      <td>[American Political Science Review/2017 - Cara...</td>\n      <td>2</td>\n    </tr>\n    <tr>\n      <th>3</th>\n      <td>2020</td>\n      <td>Wuttke,Schimpf, Schoen</td>\n      <td>American Political Science Review</td>\n      <td>When the Whole Is Greater than the Sum of Its ...</td>\n      <td>article</td>\n      <td>y</td>\n      <td>y</td>\n      <td>None</td>\n      <td>None</td>\n      <td>[American Political Science Review/2020 - Wutt...</td>\n      <td>3</td>\n    </tr>\n    <tr>\n      <th>4</th>\n      <td>2014</td>\n      <td>Treib</td>\n      <td>Journal of European Public Policy</td>\n      <td>The voter says no, but nobody listens: causes ...</td>\n      <td>article</td>\n      <td>y</td>\n      <td>y</td>\n      <td>None</td>\n      <td>None</td>\n      <td>[Journal of European Public Policy/2014 - Trei...</td>\n      <td>4</td>\n    </tr>\n  </tbody>\n</table>\n</div>"
     },
     "execution_count": 80,
     "metadata": {},
     "output_type": "execute_result"
    }
   ],
   "source": [
    "articles_metadata = pd.read_json(\"../data/article_metadata_with_filepaths.json\")\n",
    "articles_metadata.head(5)"
   ],
   "metadata": {
    "collapsed": false
   }
  },
  {
   "cell_type": "code",
   "execution_count": 81,
   "outputs": [
    {
     "data": {
      "text/plain": "   year                 authors                            journal  \\\n0  2011              Bos et al.            Political Communication   \n1  2019         Blassnig et al.            Political Communication   \n2  2017                Caramani  American Political Science Review   \n3  2020  Wuttke,Schimpf, Schoen  American Political Science Review   \n4  2014                   Treib  Journal of European Public Policy   \n\n                                               title     type pdf? keywords  \\\n0  How the Media Shape Perceptions of Right-Wing ...  article    y        y   \n1  Hitting a Nerve: Populist News Articles Lead t...  article    y        y   \n2  Will vs. Reason: The Populist and Technocratic...  article    y        y   \n3  When the Whole Is Greater than the Sum of Its ...  article    y        y   \n4  The voter says no, but nobody listens: causes ...  article    y        y   \n\n  keywords_online? notes                                           filepath  \\\n0                y  None  [Political Communication/2011 - Bos et al. - H...   \n1                y  None  [Political Communication/2019 - Blassing et al...   \n2             None  None  [American Political Science Review/2017 - Cara...   \n3             None  None  [American Political Science Review/2020 - Wutt...   \n4             None  None  [Journal of European Public Policy/2014 - Trei...   \n\n   pop_id  \n0       0  \n1       1  \n2       2  \n3       3  \n4       4  ",
      "text/html": "<div>\n<style scoped>\n    .dataframe tbody tr th:only-of-type {\n        vertical-align: middle;\n    }\n\n    .dataframe tbody tr th {\n        vertical-align: top;\n    }\n\n    .dataframe thead th {\n        text-align: right;\n    }\n</style>\n<table border=\"1\" class=\"dataframe\">\n  <thead>\n    <tr style=\"text-align: right;\">\n      <th></th>\n      <th>year</th>\n      <th>authors</th>\n      <th>journal</th>\n      <th>title</th>\n      <th>type</th>\n      <th>pdf?</th>\n      <th>keywords</th>\n      <th>keywords_online?</th>\n      <th>notes</th>\n      <th>filepath</th>\n      <th>pop_id</th>\n    </tr>\n  </thead>\n  <tbody>\n    <tr>\n      <th>0</th>\n      <td>2011</td>\n      <td>Bos et al.</td>\n      <td>Political Communication</td>\n      <td>How the Media Shape Perceptions of Right-Wing ...</td>\n      <td>article</td>\n      <td>y</td>\n      <td>y</td>\n      <td>y</td>\n      <td>None</td>\n      <td>[Political Communication/2011 - Bos et al. - H...</td>\n      <td>0</td>\n    </tr>\n    <tr>\n      <th>1</th>\n      <td>2019</td>\n      <td>Blassnig et al.</td>\n      <td>Political Communication</td>\n      <td>Hitting a Nerve: Populist News Articles Lead t...</td>\n      <td>article</td>\n      <td>y</td>\n      <td>y</td>\n      <td>y</td>\n      <td>None</td>\n      <td>[Political Communication/2019 - Blassing et al...</td>\n      <td>1</td>\n    </tr>\n    <tr>\n      <th>2</th>\n      <td>2017</td>\n      <td>Caramani</td>\n      <td>American Political Science Review</td>\n      <td>Will vs. Reason: The Populist and Technocratic...</td>\n      <td>article</td>\n      <td>y</td>\n      <td>y</td>\n      <td>None</td>\n      <td>None</td>\n      <td>[American Political Science Review/2017 - Cara...</td>\n      <td>2</td>\n    </tr>\n    <tr>\n      <th>3</th>\n      <td>2020</td>\n      <td>Wuttke,Schimpf, Schoen</td>\n      <td>American Political Science Review</td>\n      <td>When the Whole Is Greater than the Sum of Its ...</td>\n      <td>article</td>\n      <td>y</td>\n      <td>y</td>\n      <td>None</td>\n      <td>None</td>\n      <td>[American Political Science Review/2020 - Wutt...</td>\n      <td>3</td>\n    </tr>\n    <tr>\n      <th>4</th>\n      <td>2014</td>\n      <td>Treib</td>\n      <td>Journal of European Public Policy</td>\n      <td>The voter says no, but nobody listens: causes ...</td>\n      <td>article</td>\n      <td>y</td>\n      <td>y</td>\n      <td>None</td>\n      <td>None</td>\n      <td>[Journal of European Public Policy/2014 - Trei...</td>\n      <td>4</td>\n    </tr>\n  </tbody>\n</table>\n</div>"
     },
     "execution_count": 81,
     "metadata": {},
     "output_type": "execute_result"
    }
   ],
   "source": [
    "articles_metadata.head(5)"
   ],
   "metadata": {
    "collapsed": false
   }
  },
  {
   "cell_type": "code",
   "execution_count": 82,
   "outputs": [],
   "source": [
    "pop_id = 62"
   ],
   "metadata": {
    "collapsed": false
   }
  },
  {
   "cell_type": "code",
   "execution_count": 83,
   "outputs": [],
   "source": [
    "path = \"../data/large_data/articles_lemmata/\"\n",
    "filename = \"lemmata_pop_id_{}.txt\".format(str(pop_id))\n",
    "filepath = path + filename\n",
    "with open(filepath, \"r\") as f:\n",
    "    lemmatized_sentences = f.readlines()"
   ],
   "metadata": {
    "collapsed": false
   }
  },
  {
   "cell_type": "code",
   "execution_count": 84,
   "outputs": [
    {
     "data": {
      "text/plain": "['Chamorel research scholar the_Center_on_Democracy_,_ _Development the_Rule_of_Law Stanford_University_’s Freeman_ _Spogli_Institute_for_International_Studies\\n',\n 'May_2017 ’s victory far right leader Marine Le_Pen runoff french presidency global symbol democratic resilience face populism promise political renewal France Europe\\n',\n 'mere eighteen_month_later France shake momentous unexpected event between_ _November_2018 May_2019 country face social uprising political crisis student revolt May_1968 rock the_Fifth_Republic threaten unseat President Gaulle\\n',\n 'trigger seemingly benign ecological tax diesel fuel powerful grassroots insurrection see ten_of_thousand ordinary worker retiree occupy rond point traffic circle clock edge small midsized town\\n',\n 'protester badge highvisibility yellow emergency vest gilet jaune french law require motor vehicle carry\\n']"
     },
     "execution_count": 84,
     "metadata": {},
     "output_type": "execute_result"
    }
   ],
   "source": [
    "lemmatized_sentences[:5]"
   ],
   "metadata": {
    "collapsed": false
   }
  },
  {
   "cell_type": "code",
   "execution_count": 85,
   "outputs": [
    {
     "data": {
      "text/plain": "<re.Match object; span=(48, 56), match=' populis'>"
     },
     "execution_count": 85,
     "metadata": {},
     "output_type": "execute_result"
    }
   ],
   "source": [
    "sent = \"cxcxpopulis agree dichotomy progressive national populist\"\n",
    "re.search(r\"^populis|\\spopulis\", sent)"
   ],
   "metadata": {
    "collapsed": false
   }
  },
  {
   "cell_type": "code",
   "execution_count": 86,
   "outputs": [
    {
     "data": {
      "text/plain": "['May_2017 ’s victory far right leader Marine Le_Pen runoff french presidency global symbol democratic resilience face populism promise political renewal France Europe\\n',\n 'compare contemporary populist movement Europe United_States\\n',\n 'crisis erupt long historic presidential election bring unprecedented political change massively reject populist option offer Marine_Le_Pen\\n',\n 'distrust fuel rise populist party drive voter abstention unprecedented level especially challenge new globalize economy\\n',\n 'displacement traditional right versus leave cleavage divide separate Macron_’s merge center right center leave populist far right major sociological implication\\n',\n 'importantly discredit Yellow_Vest movement Macron discredit opposition economic liberalization cultural liberalism immigration attempt reframe entire crisis illustration divide democrats populist\\n',\n 'Vest crisis accelerate bipolarization french politic Macron_’s elitist center Le_Pen_’s populist far right underlie sociological divide grow deeply\\n',\n 'Macron Le_Pen_’s agree dichotomy progressive national populist one reflection sociological ideological realignment underway french politic\\n',\n 'Macron Elite Populism populist protest movement emerge suddenly spectacularly eighteen_month Macron decisive electoral victory\\n',\n 'Marine_Le_Pen_’s severe defeat interpret defeat populism\\n',\n 'fact public mood hostile political establishment candidate resort populist rhetoric demagogic promise\\n',\n 'novice politic found political movement carry revolution Macron position antiestablishment candidate one instigator main beneficiary populist wave roll France\\n',\n 'antidote populism Macron embody populism elite concept popular pollster\\n',\n 'Yellow Vests appear populist response Macron perceive elitism Brexit ’s Trump ’s ’s\\n',\n 'Macron having rise putative antidote populism instead enabler\\n',\n 'Yellow Vests populism evoke Boulangisme the_1880 mixture socialist nationalist theme Yellow Vests mild expression patriotism bear little resemblance Boulangists aggressive nationalism extremism espouse far right league the_1930\\n',\n 'Yellow Vests display similarity populist movement recently spring Europe the_United_States singularity\\n',\n 'populist uprising lead permanent political organization political party\\n']"
     },
     "execution_count": 86,
     "metadata": {},
     "output_type": "execute_result"
    }
   ],
   "source": [
    "[sent for sent in lemmatized_sentences if re.search(r\"^populis|\\spopulis\", sent)]"
   ],
   "metadata": {
    "collapsed": false
   }
  },
  {
   "cell_type": "code",
   "execution_count": 87,
   "outputs": [],
   "source": [
    "def read_lemmatized_sents(pop_id):\n",
    "    path = \"../data/large_data/articles_lemmata/\"\n",
    "    filename = \"lemmata_pop_id_{}.txt\".format(str(pop_id))\n",
    "    filepath = path + filename\n",
    "    with open(filepath, \"r\") as f:\n",
    "        lemmatized_sentences = f.readlines()\n",
    "    return lemmatized_sentences"
   ],
   "metadata": {
    "collapsed": false
   }
  },
  {
   "cell_type": "code",
   "execution_count": 88,
   "outputs": [],
   "source": [
    "def extract_populis_sents(pop_id):\n",
    "    lemmatized_sentences = read_lemmatized_sents(pop_id)\n",
    "    populis_sents = [sent for sent in lemmatized_sentences if re.search(r\"^populis|\\spopulis\", sent)]\n",
    "    return populis_sents"
   ],
   "metadata": {
    "collapsed": false
   }
  },
  {
   "cell_type": "code",
   "execution_count": 89,
   "outputs": [
    {
     "data": {
      "text/plain": "['May_2017 ’s victory far right leader Marine Le_Pen runoff french presidency global symbol democratic resilience face populism promise political renewal France Europe\\n',\n 'compare contemporary populist movement Europe United_States\\n',\n 'crisis erupt long historic presidential election bring unprecedented political change massively reject populist option offer Marine_Le_Pen\\n',\n 'distrust fuel rise populist party drive voter abstention unprecedented level especially challenge new globalize economy\\n',\n 'displacement traditional right versus leave cleavage divide separate Macron_’s merge center right center leave populist far right major sociological implication\\n',\n 'importantly discredit Yellow_Vest movement Macron discredit opposition economic liberalization cultural liberalism immigration attempt reframe entire crisis illustration divide democrats populist\\n',\n 'Vest crisis accelerate bipolarization french politic Macron_’s elitist center Le_Pen_’s populist far right underlie sociological divide grow deeply\\n',\n 'Macron Le_Pen_’s agree dichotomy progressive national populist one reflection sociological ideological realignment underway french politic\\n',\n 'Macron Elite Populism populist protest movement emerge suddenly spectacularly eighteen_month Macron decisive electoral victory\\n',\n 'Marine_Le_Pen_’s severe defeat interpret defeat populism\\n',\n 'fact public mood hostile political establishment candidate resort populist rhetoric demagogic promise\\n',\n 'novice politic found political movement carry revolution Macron position antiestablishment candidate one instigator main beneficiary populist wave roll France\\n',\n 'antidote populism Macron embody populism elite concept popular pollster\\n',\n 'Yellow Vests appear populist response Macron perceive elitism Brexit ’s Trump ’s ’s\\n',\n 'Macron having rise putative antidote populism instead enabler\\n',\n 'Yellow Vests populism evoke Boulangisme the_1880 mixture socialist nationalist theme Yellow Vests mild expression patriotism bear little resemblance Boulangists aggressive nationalism extremism espouse far right league the_1930\\n',\n 'Yellow Vests display similarity populist movement recently spring Europe the_United_States singularity\\n',\n 'populist uprising lead permanent political organization political party\\n']"
     },
     "execution_count": 89,
     "metadata": {},
     "output_type": "execute_result"
    }
   ],
   "source": [
    "extract_populis_sents(62)"
   ],
   "metadata": {
    "collapsed": false
   }
  },
  {
   "cell_type": "code",
   "execution_count": 90,
   "outputs": [],
   "source": [
    "def freq_dict_from_sents(lemmatized_sentences):\n",
    "    sents_tokenized = [sent.split() for sent in lemmatized_sentences]\n",
    "    flat_lemmata = [t for sent in sents_tokenized for t in sent]\n",
    "    freq_dict = dict(nltk.FreqDist(flat_lemmata).most_common())\n",
    "    return freq_dict"
   ],
   "metadata": {
    "collapsed": false
   }
  },
  {
   "cell_type": "code",
   "execution_count": 91,
   "outputs": [
    {
     "data": {
      "text/plain": "{'populist': 13,\n 'Macron': 8,\n 'right': 6,\n 'populism': 6,\n 'political': 6,\n 'movement': 5,\n '’s': 4,\n 'far': 4,\n 'Yellow': 4,\n 'Vests': 4,\n 'french': 3,\n 'Europe': 3,\n 'crisis': 3,\n 'divide': 3,\n 'center': 3,\n 'sociological': 3,\n 'politic': 3,\n 'victory': 2,\n 'promise': 2,\n 'France': 2,\n 'unprecedented': 2,\n 'rise': 2,\n 'party': 2,\n 'leave': 2,\n 'Macron_’s': 2,\n 'discredit': 2,\n 'Le_Pen_’s': 2,\n 'one': 2,\n 'defeat': 2,\n 'candidate': 2,\n 'antidote': 2,\n 'May_2017': 1,\n 'leader': 1,\n 'Marine': 1,\n 'Le_Pen': 1,\n 'runoff': 1,\n 'presidency': 1,\n 'global': 1,\n 'symbol': 1,\n 'democratic': 1,\n 'resilience': 1,\n 'face': 1,\n 'renewal': 1,\n 'compare': 1,\n 'contemporary': 1,\n 'United_States': 1,\n 'erupt': 1,\n 'long': 1,\n 'historic': 1,\n 'presidential': 1,\n 'election': 1,\n 'bring': 1,\n 'change': 1,\n 'massively': 1,\n 'reject': 1,\n 'option': 1,\n 'offer': 1,\n 'Marine_Le_Pen': 1,\n 'distrust': 1,\n 'fuel': 1,\n 'drive': 1,\n 'voter': 1,\n 'abstention': 1,\n 'level': 1,\n 'especially': 1,\n 'challenge': 1,\n 'new': 1,\n 'globalize': 1,\n 'economy': 1,\n 'displacement': 1,\n 'traditional': 1,\n 'versus': 1,\n 'cleavage': 1,\n 'separate': 1,\n 'merge': 1,\n 'major': 1,\n 'implication': 1,\n 'importantly': 1,\n 'Yellow_Vest': 1,\n 'opposition': 1,\n 'economic': 1,\n 'liberalization': 1,\n 'cultural': 1,\n 'liberalism': 1,\n 'immigration': 1,\n 'attempt': 1,\n 'reframe': 1,\n 'entire': 1,\n 'illustration': 1,\n 'democrats': 1,\n 'Vest': 1,\n 'accelerate': 1,\n 'bipolarization': 1,\n 'elitist': 1,\n 'underlie': 1,\n 'grow': 1,\n 'deeply': 1,\n 'agree': 1,\n 'dichotomy': 1,\n 'progressive': 1,\n 'national': 1,\n 'reflection': 1,\n 'ideological': 1,\n 'realignment': 1,\n 'underway': 1,\n 'Elite': 1,\n 'Populism': 1,\n 'protest': 1,\n 'emerge': 1,\n 'suddenly': 1,\n 'spectacularly': 1,\n 'eighteen_month': 1,\n 'decisive': 1,\n 'electoral': 1,\n 'Marine_Le_Pen_’s': 1,\n 'severe': 1,\n 'interpret': 1,\n 'fact': 1,\n 'public': 1,\n 'mood': 1,\n 'hostile': 1,\n 'establishment': 1,\n 'resort': 1,\n 'rhetoric': 1,\n 'demagogic': 1,\n 'novice': 1,\n 'found': 1,\n 'carry': 1,\n 'revolution': 1,\n 'position': 1,\n 'antiestablishment': 1,\n 'instigator': 1,\n 'main': 1,\n 'beneficiary': 1,\n 'wave': 1,\n 'roll': 1,\n 'embody': 1,\n 'elite': 1,\n 'concept': 1,\n 'popular': 1,\n 'pollster': 1,\n 'appear': 1,\n 'response': 1,\n 'perceive': 1,\n 'elitism': 1,\n 'Brexit': 1,\n 'Trump': 1,\n 'having': 1,\n 'putative': 1,\n 'instead': 1,\n 'enabler': 1,\n 'evoke': 1,\n 'Boulangisme': 1,\n 'the_1880': 1,\n 'mixture': 1,\n 'socialist': 1,\n 'nationalist': 1,\n 'theme': 1,\n 'mild': 1,\n 'expression': 1,\n 'patriotism': 1,\n 'bear': 1,\n 'little': 1,\n 'resemblance': 1,\n 'Boulangists': 1,\n 'aggressive': 1,\n 'nationalism': 1,\n 'extremism': 1,\n 'espouse': 1,\n 'league': 1,\n 'the_1930': 1,\n 'display': 1,\n 'similarity': 1,\n 'recently': 1,\n 'spring': 1,\n 'the_United_States': 1,\n 'singularity': 1,\n 'uprising': 1,\n 'lead': 1,\n 'permanent': 1,\n 'organization': 1}"
     },
     "execution_count": 91,
     "metadata": {},
     "output_type": "execute_result"
    }
   ],
   "source": [
    "freq_dict_from_sents(extract_populis_sents(62))"
   ],
   "metadata": {
    "collapsed": false
   }
  },
  {
   "cell_type": "code",
   "execution_count": 91,
   "outputs": [],
   "source": [],
   "metadata": {
    "collapsed": false
   }
  },
  {
   "cell_type": "markdown",
   "source": [
    "# extract populis* sentences"
   ],
   "metadata": {
    "collapsed": false
   }
  },
  {
   "cell_type": "code",
   "execution_count": 92,
   "outputs": [],
   "source": [
    "destpath = \"../data/large_data/populis_sents/\"\n",
    "try:\n",
    "    os.mkdir(\"../data/large_data/populis_sents\")\n",
    "except:\n",
    "    pass\n",
    "sourcepath = \"../data/large_data/articles_lemmata/\"\n",
    "for filename in os.listdir(sourcepath):\n",
    "    if \".txt\" in filename:\n",
    "        filepath = sourcepath + filename\n",
    "        with open(filepath, \"r\") as f:\n",
    "            lemmatized_sentences = f.readlines()\n",
    "        populis_sents = [sent for sent in lemmatized_sentences if re.search(r\"^populis|\\spopulis\", sent)]\n",
    "        with open(destpath + filename.replace(\"lemmata\", \"populis_sents\"), \"w\") as f:\n",
    "            f.writelines(populis_sents)"
   ],
   "metadata": {
    "collapsed": false
   }
  },
  {
   "cell_type": "markdown",
   "source": [
    "# extract concordances"
   ],
   "metadata": {
    "collapsed": false
   }
  },
  {
   "cell_type": "code",
   "execution_count": 93,
   "outputs": [],
   "source": [
    "def read_flat_lemmata(pop_id):\n",
    "    path = \"../data/large_data/articles_lemmata/\"\n",
    "    filename = \"lemmata_pop_id_{}.txt\".format(str(pop_id))\n",
    "    filepath = path + filename\n",
    "    with open(filepath, \"r\") as f:\n",
    "        lemmata= f.read()\n",
    "    lemmata_list = lemmata.split()\n",
    "    return lemmata_list"
   ],
   "metadata": {
    "collapsed": false
   }
  },
  {
   "cell_type": "code",
   "execution_count": 94,
   "outputs": [
    {
     "data": {
      "text/plain": "['Chamorel',\n 'research',\n 'scholar',\n 'the_Center_on_Democracy_,_',\n '_Development',\n 'the_Rule_of_Law',\n 'Stanford_University_’s',\n 'Freeman_',\n '_Spogli_Institute_for_International_Studies',\n 'May_2017',\n '’s',\n 'victory',\n 'far',\n 'right',\n 'leader',\n 'Marine',\n 'Le_Pen',\n 'runoff',\n 'french',\n 'presidency']"
     },
     "execution_count": 94,
     "metadata": {},
     "output_type": "execute_result"
    }
   ],
   "source": [
    "lemmata_list = read_flat_lemmata(62)\n",
    "lemmata_list[:20]"
   ],
   "metadata": {
    "collapsed": false
   }
  },
  {
   "cell_type": "code",
   "execution_count": 95,
   "outputs": [
    {
     "data": {
      "text/plain": "[25, 143, 169, 241, 377, 1964, 2160, 2174, 2185, 2186]"
     },
     "execution_count": 95,
     "metadata": {},
     "output_type": "execute_result"
    }
   ],
   "source": [
    "inxs = [t[0] for t in enumerate(lemmata_list) if re.search(\"populis\", t[1], re.IGNORECASE)]\n",
    "inxs[:10]"
   ],
   "metadata": {
    "collapsed": false
   }
  },
  {
   "cell_type": "code",
   "execution_count": 96,
   "outputs": [],
   "source": [
    "def get_concordance(lemmata_list, inxs, left=1, right=1):\n",
    "    conc_data = [\" \".join(lemmata_list[i-left: i+right+1]) for i in inxs]\n",
    "    return conc_data"
   ],
   "metadata": {
    "collapsed": false
   }
  },
  {
   "cell_type": "code",
   "execution_count": 97,
   "outputs": [
    {
     "data": {
      "text/plain": "['global symbol democratic resilience face populism promise political renewal France Europe',\n 'uprising political crisis compare contemporary populist movement Europe United_States Yellow Vests',\n 'unprecedented political change massively reject populist option offer Marine_Le_Pen the_Yellow_Vests uprising',\n 'permeate society distrust fuel rise populist party drive voter abstention unprecedented',\n 'merge center right center leave populist far right major sociological implication',\n 'entire crisis illustration divide democrats populist May_2019 European_Parliament election present opportunity',\n 'politic Macron_’s elitist center Le_Pen_’s populist far right underlie sociological divide',\n 'Le_Pen_’s agree dichotomy progressive national populist one reflection sociological ideological realignment',\n 'underway french politic Macron Elite Populism populist protest movement emerge suddenly',\n 'french politic Macron Elite Populism populist protest movement emerge suddenly spectacularly']"
     },
     "execution_count": 97,
     "metadata": {},
     "output_type": "execute_result"
    }
   ],
   "source": [
    "get_concordance(lemmata_list, inxs[:10], 5,5)"
   ],
   "metadata": {
    "collapsed": false
   }
  },
  {
   "cell_type": "code",
   "execution_count": 98,
   "outputs": [],
   "source": [
    "destpath = \"../data/large_data/populis_conc5/\"\n",
    "try:\n",
    "    os.mkdir(destpath)\n",
    "except:\n",
    "    pass\n",
    "sourcepath = \"../data/large_data/articles_lemmata/\"\n",
    "for filename in os.listdir(sourcepath):\n",
    "    if \".txt\" in filename:\n",
    "        filepath = sourcepath + filename\n",
    "        with open(filepath, \"r\") as f:\n",
    "            lemmata = f.read()\n",
    "        lemmata_list = lemmata.split()\n",
    "        inxs = [t[0] for t in enumerate(lemmata_list) if re.search(\"populis\", t[1], re.IGNORECASE)]\n",
    "        conc_data = get_concordance(lemmata_list, inxs, 5,5)\n",
    "        with open(destpath + filename.replace(\"lemmata\", \"populis_conc5\"), \"w\") as f:\n",
    "            f.writelines(\"\\n\".join(conc_data))"
   ],
   "metadata": {
    "collapsed": false
   }
  }
 ],
 "metadata": {
  "kernelspec": {
   "name": "conda_base",
   "language": "python",
   "display_name": "conda_base"
  },
  "language_info": {
   "codemirror_mode": {
    "name": "ipython",
    "version": 2
   },
   "file_extension": ".py",
   "mimetype": "text/x-python",
   "name": "python",
   "nbconvert_exporter": "python",
   "pygments_lexer": "ipython2",
   "version": "2.7.6"
  }
 },
 "nbformat": 4,
 "nbformat_minor": 0
}
