{
 "cells": [
  {
   "cell_type": "code",
   "execution_count": 1,
   "outputs": [],
   "source": [
    "import pandas as pd\n",
    "import re\n",
    "import nltk\n",
    "import os"
   ],
   "metadata": {
    "collapsed": false
   }
  },
  {
   "cell_type": "code",
   "execution_count": 2,
   "outputs": [
    {
     "data": {
      "text/plain": "   year                 authors                            journal  \\\n0  2011              Bos et al.            Political Communication   \n1  2019         Blassnig et al.            Political Communication   \n2  2017                Caramani  American Political Science Review   \n3  2020  Wuttke,Schimpf, Schoen  American Political Science Review   \n4  2014                   Treib  Journal of European Public Policy   \n\n                                               title     type pdf? keywords  \\\n0  How the Media Shape Perceptions of Right-Wing ...  article    y        y   \n1  Hitting a Nerve: Populist News Articles Lead t...  article    y        y   \n2  Will vs. Reason: The Populist and Technocratic...  article    y        y   \n3  When the Whole Is Greater than the Sum of Its ...  article    y        y   \n4  The voter says no, but nobody listens: causes ...  article    y        y   \n\n  keywords_online? notes                                           filepath  \\\n0                y  None  [Political Communication/2011 - Bos et al. - H...   \n1                y  None  [Political Communication/2019 - Blassing et al...   \n2             None  None  [American Political Science Review/2017 - Cara...   \n3             None  None  [American Political Science Review/2020 - Wutt...   \n4             None  None  [Journal of European Public Policy/2014 - Trei...   \n\n   pop_id  \n0       0  \n1       1  \n2       2  \n3       3  \n4       4  ",
      "text/html": "<div>\n<style scoped>\n    .dataframe tbody tr th:only-of-type {\n        vertical-align: middle;\n    }\n\n    .dataframe tbody tr th {\n        vertical-align: top;\n    }\n\n    .dataframe thead th {\n        text-align: right;\n    }\n</style>\n<table border=\"1\" class=\"dataframe\">\n  <thead>\n    <tr style=\"text-align: right;\">\n      <th></th>\n      <th>year</th>\n      <th>authors</th>\n      <th>journal</th>\n      <th>title</th>\n      <th>type</th>\n      <th>pdf?</th>\n      <th>keywords</th>\n      <th>keywords_online?</th>\n      <th>notes</th>\n      <th>filepath</th>\n      <th>pop_id</th>\n    </tr>\n  </thead>\n  <tbody>\n    <tr>\n      <th>0</th>\n      <td>2011</td>\n      <td>Bos et al.</td>\n      <td>Political Communication</td>\n      <td>How the Media Shape Perceptions of Right-Wing ...</td>\n      <td>article</td>\n      <td>y</td>\n      <td>y</td>\n      <td>y</td>\n      <td>None</td>\n      <td>[Political Communication/2011 - Bos et al. - H...</td>\n      <td>0</td>\n    </tr>\n    <tr>\n      <th>1</th>\n      <td>2019</td>\n      <td>Blassnig et al.</td>\n      <td>Political Communication</td>\n      <td>Hitting a Nerve: Populist News Articles Lead t...</td>\n      <td>article</td>\n      <td>y</td>\n      <td>y</td>\n      <td>y</td>\n      <td>None</td>\n      <td>[Political Communication/2019 - Blassing et al...</td>\n      <td>1</td>\n    </tr>\n    <tr>\n      <th>2</th>\n      <td>2017</td>\n      <td>Caramani</td>\n      <td>American Political Science Review</td>\n      <td>Will vs. Reason: The Populist and Technocratic...</td>\n      <td>article</td>\n      <td>y</td>\n      <td>y</td>\n      <td>None</td>\n      <td>None</td>\n      <td>[American Political Science Review/2017 - Cara...</td>\n      <td>2</td>\n    </tr>\n    <tr>\n      <th>3</th>\n      <td>2020</td>\n      <td>Wuttke,Schimpf, Schoen</td>\n      <td>American Political Science Review</td>\n      <td>When the Whole Is Greater than the Sum of Its ...</td>\n      <td>article</td>\n      <td>y</td>\n      <td>y</td>\n      <td>None</td>\n      <td>None</td>\n      <td>[American Political Science Review/2020 - Wutt...</td>\n      <td>3</td>\n    </tr>\n    <tr>\n      <th>4</th>\n      <td>2014</td>\n      <td>Treib</td>\n      <td>Journal of European Public Policy</td>\n      <td>The voter says no, but nobody listens: causes ...</td>\n      <td>article</td>\n      <td>y</td>\n      <td>y</td>\n      <td>None</td>\n      <td>None</td>\n      <td>[Journal of European Public Policy/2014 - Trei...</td>\n      <td>4</td>\n    </tr>\n  </tbody>\n</table>\n</div>"
     },
     "execution_count": 2,
     "metadata": {},
     "output_type": "execute_result"
    }
   ],
   "source": [
    "articles_metadata = pd.read_json(\"../data/article_metadata_with_filepaths.json\")\n",
    "articles_metadata.head(5)"
   ],
   "metadata": {
    "collapsed": false
   }
  },
  {
   "cell_type": "code",
   "execution_count": 3,
   "outputs": [
    {
     "data": {
      "text/plain": "   year                 authors                            journal  \\\n0  2011              Bos et al.            Political Communication   \n1  2019         Blassnig et al.            Political Communication   \n2  2017                Caramani  American Political Science Review   \n3  2020  Wuttke,Schimpf, Schoen  American Political Science Review   \n4  2014                   Treib  Journal of European Public Policy   \n\n                                               title     type pdf? keywords  \\\n0  How the Media Shape Perceptions of Right-Wing ...  article    y        y   \n1  Hitting a Nerve: Populist News Articles Lead t...  article    y        y   \n2  Will vs. Reason: The Populist and Technocratic...  article    y        y   \n3  When the Whole Is Greater than the Sum of Its ...  article    y        y   \n4  The voter says no, but nobody listens: causes ...  article    y        y   \n\n  keywords_online? notes                                           filepath  \\\n0                y  None  [Political Communication/2011 - Bos et al. - H...   \n1                y  None  [Political Communication/2019 - Blassing et al...   \n2             None  None  [American Political Science Review/2017 - Cara...   \n3             None  None  [American Political Science Review/2020 - Wutt...   \n4             None  None  [Journal of European Public Policy/2014 - Trei...   \n\n   pop_id  \n0       0  \n1       1  \n2       2  \n3       3  \n4       4  ",
      "text/html": "<div>\n<style scoped>\n    .dataframe tbody tr th:only-of-type {\n        vertical-align: middle;\n    }\n\n    .dataframe tbody tr th {\n        vertical-align: top;\n    }\n\n    .dataframe thead th {\n        text-align: right;\n    }\n</style>\n<table border=\"1\" class=\"dataframe\">\n  <thead>\n    <tr style=\"text-align: right;\">\n      <th></th>\n      <th>year</th>\n      <th>authors</th>\n      <th>journal</th>\n      <th>title</th>\n      <th>type</th>\n      <th>pdf?</th>\n      <th>keywords</th>\n      <th>keywords_online?</th>\n      <th>notes</th>\n      <th>filepath</th>\n      <th>pop_id</th>\n    </tr>\n  </thead>\n  <tbody>\n    <tr>\n      <th>0</th>\n      <td>2011</td>\n      <td>Bos et al.</td>\n      <td>Political Communication</td>\n      <td>How the Media Shape Perceptions of Right-Wing ...</td>\n      <td>article</td>\n      <td>y</td>\n      <td>y</td>\n      <td>y</td>\n      <td>None</td>\n      <td>[Political Communication/2011 - Bos et al. - H...</td>\n      <td>0</td>\n    </tr>\n    <tr>\n      <th>1</th>\n      <td>2019</td>\n      <td>Blassnig et al.</td>\n      <td>Political Communication</td>\n      <td>Hitting a Nerve: Populist News Articles Lead t...</td>\n      <td>article</td>\n      <td>y</td>\n      <td>y</td>\n      <td>y</td>\n      <td>None</td>\n      <td>[Political Communication/2019 - Blassing et al...</td>\n      <td>1</td>\n    </tr>\n    <tr>\n      <th>2</th>\n      <td>2017</td>\n      <td>Caramani</td>\n      <td>American Political Science Review</td>\n      <td>Will vs. Reason: The Populist and Technocratic...</td>\n      <td>article</td>\n      <td>y</td>\n      <td>y</td>\n      <td>None</td>\n      <td>None</td>\n      <td>[American Political Science Review/2017 - Cara...</td>\n      <td>2</td>\n    </tr>\n    <tr>\n      <th>3</th>\n      <td>2020</td>\n      <td>Wuttke,Schimpf, Schoen</td>\n      <td>American Political Science Review</td>\n      <td>When the Whole Is Greater than the Sum of Its ...</td>\n      <td>article</td>\n      <td>y</td>\n      <td>y</td>\n      <td>None</td>\n      <td>None</td>\n      <td>[American Political Science Review/2020 - Wutt...</td>\n      <td>3</td>\n    </tr>\n    <tr>\n      <th>4</th>\n      <td>2014</td>\n      <td>Treib</td>\n      <td>Journal of European Public Policy</td>\n      <td>The voter says no, but nobody listens: causes ...</td>\n      <td>article</td>\n      <td>y</td>\n      <td>y</td>\n      <td>None</td>\n      <td>None</td>\n      <td>[Journal of European Public Policy/2014 - Trei...</td>\n      <td>4</td>\n    </tr>\n  </tbody>\n</table>\n</div>"
     },
     "execution_count": 3,
     "metadata": {},
     "output_type": "execute_result"
    }
   ],
   "source": [
    "articles_metadata.head(5)"
   ],
   "metadata": {
    "collapsed": false
   }
  },
  {
   "cell_type": "code",
   "execution_count": 4,
   "outputs": [],
   "source": [
    "pop_id = 62"
   ],
   "metadata": {
    "collapsed": false
   }
  },
  {
   "cell_type": "code",
   "execution_count": 5,
   "outputs": [],
   "source": [
    "path = \"../data/large_data/articles_lemmata/\"\n",
    "filename = \"lemmata_pop_id_{}.txt\".format(str(pop_id))\n",
    "filepath = path + filename\n",
    "with open(filepath, \"r\") as f:\n",
    "    lemmatized_sentences = f.readlines()"
   ],
   "metadata": {
    "collapsed": false
   }
  },
  {
   "cell_type": "code",
   "execution_count": 6,
   "outputs": [
    {
     "data": {
      "text/plain": "['Chamorel research scholar the_Center_on_Democracy_,_ _Development the_Rule_of_Law Stanford_University_’s Freeman_ _Spogli_Institute_for_International_Studies\\n',\n 'May_2017 ’s victory far right leader Marine Le_Pen runoff french presidency global symbol democratic resilience face populism promise political renewal France Europe\\n',\n 'mere eighteen_month_later France shake momentous unexpected event between_ _November_2018 May_2019 country face social uprising political crisis student revolt May_1968 rock the_Fifth_Republic threaten unseat President Gaulle\\n',\n 'trigger seemingly benign ecological tax diesel fuel powerful grassroots insurrection see ten_of_thousand ordinary worker retiree occupy rond point traffic circle clock edge small midsized town\\n',\n 'protester badge highvisibility yellow emergency vest gilet jaune french law require motor vehicle carry\\n']"
     },
     "execution_count": 6,
     "metadata": {},
     "output_type": "execute_result"
    }
   ],
   "source": [
    "lemmatized_sentences[:5]"
   ],
   "metadata": {
    "collapsed": false
   }
  },
  {
   "cell_type": "code",
   "execution_count": 7,
   "outputs": [
    {
     "data": {
      "text/plain": "<re.Match object; span=(48, 56), match=' populis'>"
     },
     "execution_count": 7,
     "metadata": {},
     "output_type": "execute_result"
    }
   ],
   "source": [
    "sent = \"cxcxpopulis agree dichotomy progressive national populist\"\n",
    "re.search(r\"^populis|\\spopulis\", sent)"
   ],
   "metadata": {
    "collapsed": false
   }
  },
  {
   "cell_type": "code",
   "execution_count": 8,
   "outputs": [
    {
     "data": {
      "text/plain": "['May_2017 ’s victory far right leader Marine Le_Pen runoff french presidency global symbol democratic resilience face populism promise political renewal France Europe\\n',\n 'compare contemporary populist movement Europe United_States\\n',\n 'crisis erupt long historic presidential election bring unprecedented political change massively reject populist option offer Marine_Le_Pen\\n',\n 'distrust fuel rise populist party drive voter abstention unprecedented level especially challenge new globalize economy\\n',\n 'displacement traditional right versus leave cleavage divide separate Macron_’s merge center right center leave populist far right major sociological implication\\n',\n 'importantly discredit Yellow_Vest movement Macron discredit opposition economic liberalization cultural liberalism immigration attempt reframe entire crisis illustration divide democrats populist\\n',\n 'Vest crisis accelerate bipolarization french politic Macron_’s elitist center Le_Pen_’s populist far right underlie sociological divide grow deeply\\n',\n 'Macron Le_Pen_’s agree dichotomy progressive national populist one reflection sociological ideological realignment underway french politic\\n',\n 'Macron Elite Populism populist protest movement emerge suddenly spectacularly eighteen_month Macron decisive electoral victory\\n',\n 'Marine_Le_Pen_’s severe defeat interpret defeat populism\\n',\n 'fact public mood hostile political establishment candidate resort populist rhetoric demagogic promise\\n',\n 'novice politic found political movement carry revolution Macron position antiestablishment candidate one instigator main beneficiary populist wave roll France\\n',\n 'antidote populism Macron embody populism elite concept popular pollster\\n',\n 'Yellow Vests appear populist response Macron perceive elitism Brexit ’s Trump ’s ’s\\n',\n 'Macron having rise putative antidote populism instead enabler\\n',\n 'Yellow Vests populism evoke Boulangisme the_1880 mixture socialist nationalist theme Yellow Vests mild expression patriotism bear little resemblance Boulangists aggressive nationalism extremism espouse far right league the_1930\\n',\n 'Yellow Vests display similarity populist movement recently spring Europe the_United_States singularity\\n',\n 'populist uprising lead permanent political organization political party\\n']"
     },
     "execution_count": 8,
     "metadata": {},
     "output_type": "execute_result"
    }
   ],
   "source": [
    "[sent for sent in lemmatized_sentences if re.search(r\"^populis|\\spopulis\", sent)]"
   ],
   "metadata": {
    "collapsed": false
   }
  },
  {
   "cell_type": "code",
   "execution_count": 9,
   "outputs": [],
   "source": [
    "def read_lemmatized_sents(pop_id):\n",
    "    path = \"../data/large_data/articles_lemmata/\"\n",
    "    filename = \"lemmata_pop_id_{}.txt\".format(str(pop_id))\n",
    "    filepath = path + filename\n",
    "    with open(filepath, \"r\") as f:\n",
    "        lemmatized_sentences = f.readlines()\n",
    "    return lemmatized_sentences"
   ],
   "metadata": {
    "collapsed": false
   }
  },
  {
   "cell_type": "code",
   "execution_count": 10,
   "outputs": [],
   "source": [
    "def extract_populis_sents(pop_id):\n",
    "    lemmatized_sentences = read_lemmatized_sents(pop_id)\n",
    "    populis_sents = [sent for sent in lemmatized_sentences if re.search(r\"^populis|\\spopulis\", sent)]\n",
    "    return populis_sents"
   ],
   "metadata": {
    "collapsed": false
   }
  },
  {
   "cell_type": "code",
   "execution_count": 11,
   "outputs": [
    {
     "data": {
      "text/plain": "['May_2017 ’s victory far right leader Marine Le_Pen runoff french presidency global symbol democratic resilience face populism promise political renewal France Europe\\n',\n 'compare contemporary populist movement Europe United_States\\n',\n 'crisis erupt long historic presidential election bring unprecedented political change massively reject populist option offer Marine_Le_Pen\\n',\n 'distrust fuel rise populist party drive voter abstention unprecedented level especially challenge new globalize economy\\n',\n 'displacement traditional right versus leave cleavage divide separate Macron_’s merge center right center leave populist far right major sociological implication\\n',\n 'importantly discredit Yellow_Vest movement Macron discredit opposition economic liberalization cultural liberalism immigration attempt reframe entire crisis illustration divide democrats populist\\n',\n 'Vest crisis accelerate bipolarization french politic Macron_’s elitist center Le_Pen_’s populist far right underlie sociological divide grow deeply\\n',\n 'Macron Le_Pen_’s agree dichotomy progressive national populist one reflection sociological ideological realignment underway french politic\\n',\n 'Macron Elite Populism populist protest movement emerge suddenly spectacularly eighteen_month Macron decisive electoral victory\\n',\n 'Marine_Le_Pen_’s severe defeat interpret defeat populism\\n',\n 'fact public mood hostile political establishment candidate resort populist rhetoric demagogic promise\\n',\n 'novice politic found political movement carry revolution Macron position antiestablishment candidate one instigator main beneficiary populist wave roll France\\n',\n 'antidote populism Macron embody populism elite concept popular pollster\\n',\n 'Yellow Vests appear populist response Macron perceive elitism Brexit ’s Trump ’s ’s\\n',\n 'Macron having rise putative antidote populism instead enabler\\n',\n 'Yellow Vests populism evoke Boulangisme the_1880 mixture socialist nationalist theme Yellow Vests mild expression patriotism bear little resemblance Boulangists aggressive nationalism extremism espouse far right league the_1930\\n',\n 'Yellow Vests display similarity populist movement recently spring Europe the_United_States singularity\\n',\n 'populist uprising lead permanent political organization political party\\n']"
     },
     "execution_count": 11,
     "metadata": {},
     "output_type": "execute_result"
    }
   ],
   "source": [
    "extract_populis_sents(62)"
   ],
   "metadata": {
    "collapsed": false
   }
  },
  {
   "cell_type": "code",
   "execution_count": 12,
   "outputs": [],
   "source": [
    "def freq_dict_from_sents(lemmatized_sentences):\n",
    "    sents_tokenized = [sent.split() for sent in lemmatized_sentences]\n",
    "    flat_lemmata = [t for sent in sents_tokenized for t in sent]\n",
    "    freq_dict = dict(nltk.FreqDist(flat_lemmata).most_common())\n",
    "    return freq_dict"
   ],
   "metadata": {
    "collapsed": false
   }
  },
  {
   "cell_type": "code",
   "execution_count": 13,
   "outputs": [
    {
     "data": {
      "text/plain": "{'populist': 13,\n 'Macron': 8,\n 'right': 6,\n 'populism': 6,\n 'political': 6,\n 'movement': 5,\n '’s': 4,\n 'far': 4,\n 'Yellow': 4,\n 'Vests': 4,\n 'french': 3,\n 'Europe': 3,\n 'crisis': 3,\n 'divide': 3,\n 'center': 3,\n 'sociological': 3,\n 'politic': 3,\n 'victory': 2,\n 'promise': 2,\n 'France': 2,\n 'unprecedented': 2,\n 'rise': 2,\n 'party': 2,\n 'leave': 2,\n 'Macron_’s': 2,\n 'discredit': 2,\n 'Le_Pen_’s': 2,\n 'one': 2,\n 'defeat': 2,\n 'candidate': 2,\n 'antidote': 2,\n 'May_2017': 1,\n 'leader': 1,\n 'Marine': 1,\n 'Le_Pen': 1,\n 'runoff': 1,\n 'presidency': 1,\n 'global': 1,\n 'symbol': 1,\n 'democratic': 1,\n 'resilience': 1,\n 'face': 1,\n 'renewal': 1,\n 'compare': 1,\n 'contemporary': 1,\n 'United_States': 1,\n 'erupt': 1,\n 'long': 1,\n 'historic': 1,\n 'presidential': 1,\n 'election': 1,\n 'bring': 1,\n 'change': 1,\n 'massively': 1,\n 'reject': 1,\n 'option': 1,\n 'offer': 1,\n 'Marine_Le_Pen': 1,\n 'distrust': 1,\n 'fuel': 1,\n 'drive': 1,\n 'voter': 1,\n 'abstention': 1,\n 'level': 1,\n 'especially': 1,\n 'challenge': 1,\n 'new': 1,\n 'globalize': 1,\n 'economy': 1,\n 'displacement': 1,\n 'traditional': 1,\n 'versus': 1,\n 'cleavage': 1,\n 'separate': 1,\n 'merge': 1,\n 'major': 1,\n 'implication': 1,\n 'importantly': 1,\n 'Yellow_Vest': 1,\n 'opposition': 1,\n 'economic': 1,\n 'liberalization': 1,\n 'cultural': 1,\n 'liberalism': 1,\n 'immigration': 1,\n 'attempt': 1,\n 'reframe': 1,\n 'entire': 1,\n 'illustration': 1,\n 'democrats': 1,\n 'Vest': 1,\n 'accelerate': 1,\n 'bipolarization': 1,\n 'elitist': 1,\n 'underlie': 1,\n 'grow': 1,\n 'deeply': 1,\n 'agree': 1,\n 'dichotomy': 1,\n 'progressive': 1,\n 'national': 1,\n 'reflection': 1,\n 'ideological': 1,\n 'realignment': 1,\n 'underway': 1,\n 'Elite': 1,\n 'Populism': 1,\n 'protest': 1,\n 'emerge': 1,\n 'suddenly': 1,\n 'spectacularly': 1,\n 'eighteen_month': 1,\n 'decisive': 1,\n 'electoral': 1,\n 'Marine_Le_Pen_’s': 1,\n 'severe': 1,\n 'interpret': 1,\n 'fact': 1,\n 'public': 1,\n 'mood': 1,\n 'hostile': 1,\n 'establishment': 1,\n 'resort': 1,\n 'rhetoric': 1,\n 'demagogic': 1,\n 'novice': 1,\n 'found': 1,\n 'carry': 1,\n 'revolution': 1,\n 'position': 1,\n 'antiestablishment': 1,\n 'instigator': 1,\n 'main': 1,\n 'beneficiary': 1,\n 'wave': 1,\n 'roll': 1,\n 'embody': 1,\n 'elite': 1,\n 'concept': 1,\n 'popular': 1,\n 'pollster': 1,\n 'appear': 1,\n 'response': 1,\n 'perceive': 1,\n 'elitism': 1,\n 'Brexit': 1,\n 'Trump': 1,\n 'having': 1,\n 'putative': 1,\n 'instead': 1,\n 'enabler': 1,\n 'evoke': 1,\n 'Boulangisme': 1,\n 'the_1880': 1,\n 'mixture': 1,\n 'socialist': 1,\n 'nationalist': 1,\n 'theme': 1,\n 'mild': 1,\n 'expression': 1,\n 'patriotism': 1,\n 'bear': 1,\n 'little': 1,\n 'resemblance': 1,\n 'Boulangists': 1,\n 'aggressive': 1,\n 'nationalism': 1,\n 'extremism': 1,\n 'espouse': 1,\n 'league': 1,\n 'the_1930': 1,\n 'display': 1,\n 'similarity': 1,\n 'recently': 1,\n 'spring': 1,\n 'the_United_States': 1,\n 'singularity': 1,\n 'uprising': 1,\n 'lead': 1,\n 'permanent': 1,\n 'organization': 1}"
     },
     "execution_count": 13,
     "metadata": {},
     "output_type": "execute_result"
    }
   ],
   "source": [
    "freq_dict_from_sents(extract_populis_sents(62))"
   ],
   "metadata": {
    "collapsed": false
   }
  },
  {
   "cell_type": "markdown",
   "source": [
    "# extract populis* sentences"
   ],
   "metadata": {
    "collapsed": false
   }
  },
  {
   "cell_type": "code",
   "execution_count": 92,
   "outputs": [],
   "source": [
    "destpath = \"../data/large_data/populis_sents/\"\n",
    "try:\n",
    "    os.mkdir(\"../data/large_data/populis_sents\")\n",
    "except:\n",
    "    pass\n",
    "sourcepath = \"../data/large_data/articles_lemmata/\"\n",
    "for filename in os.listdir(sourcepath):\n",
    "    if \".txt\" in filename:\n",
    "        filepath = sourcepath + filename\n",
    "        with open(filepath, \"r\") as f:\n",
    "            lemmatized_sentences = f.readlines()\n",
    "        populis_sents = [sent for sent in lemmatized_sentences if re.search(r\"^populis|\\spopulis\", sent)]\n",
    "        with open(destpath + filename.replace(\"lemmata\", \"populis_sents\"), \"w\") as f:\n",
    "            f.writelines(populis_sents)"
   ],
   "metadata": {
    "collapsed": false
   }
  },
  {
   "cell_type": "markdown",
   "source": [
    "# extract concordances"
   ],
   "metadata": {
    "collapsed": false
   }
  },
  {
   "cell_type": "code",
   "execution_count": 14,
   "outputs": [],
   "source": [
    "def read_flat_lemmata(pop_id):\n",
    "    path = \"../data/large_data/articles_lemmata/\"\n",
    "    filename = \"lemmata_pop_id_{}.txt\".format(str(pop_id))\n",
    "    filepath = path + filename\n",
    "    with open(filepath, \"r\") as f:\n",
    "        lemmata= f.read()\n",
    "    lemmata_list = lemmata.split()\n",
    "    return lemmata_list"
   ],
   "metadata": {
    "collapsed": false
   }
  },
  {
   "cell_type": "code",
   "execution_count": 15,
   "outputs": [
    {
     "data": {
      "text/plain": "['Chamorel',\n 'research',\n 'scholar',\n 'the_Center_on_Democracy_,_',\n '_Development',\n 'the_Rule_of_Law',\n 'Stanford_University_’s',\n 'Freeman_',\n '_Spogli_Institute_for_International_Studies',\n 'May_2017',\n '’s',\n 'victory',\n 'far',\n 'right',\n 'leader',\n 'Marine',\n 'Le_Pen',\n 'runoff',\n 'french',\n 'presidency']"
     },
     "execution_count": 15,
     "metadata": {},
     "output_type": "execute_result"
    }
   ],
   "source": [
    "lemmata_list = read_flat_lemmata(62)\n",
    "lemmata_list[:20]"
   ],
   "metadata": {
    "collapsed": false
   }
  },
  {
   "cell_type": "code",
   "execution_count": 16,
   "outputs": [
    {
     "data": {
      "text/plain": "[25, 143, 169, 241, 377, 1964, 2160, 2174, 2185, 2186]"
     },
     "execution_count": 16,
     "metadata": {},
     "output_type": "execute_result"
    }
   ],
   "source": [
    "inxs = [t[0] for t in enumerate(lemmata_list) if re.search(\"populis\", t[1], re.IGNORECASE)]\n",
    "inxs[:10]"
   ],
   "metadata": {
    "collapsed": false
   }
  },
  {
   "cell_type": "code",
   "execution_count": 17,
   "outputs": [],
   "source": [
    "def get_concordance(lemmata_list, inxs, left=1, right=1):\n",
    "    conc_data = [\" \".join(lemmata_list[i-left: i+right+1]) for i in inxs]\n",
    "    return conc_data"
   ],
   "metadata": {
    "collapsed": false
   }
  },
  {
   "cell_type": "code",
   "execution_count": 18,
   "outputs": [
    {
     "data": {
      "text/plain": "['global symbol democratic resilience face populism promise political renewal France Europe',\n 'uprising political crisis compare contemporary populist movement Europe United_States Yellow Vests',\n 'unprecedented political change massively reject populist option offer Marine_Le_Pen the_Yellow_Vests uprising',\n 'permeate society distrust fuel rise populist party drive voter abstention unprecedented',\n 'merge center right center leave populist far right major sociological implication',\n 'entire crisis illustration divide democrats populist May_2019 European_Parliament election present opportunity',\n 'politic Macron_’s elitist center Le_Pen_’s populist far right underlie sociological divide',\n 'Le_Pen_’s agree dichotomy progressive national populist one reflection sociological ideological realignment',\n 'underway french politic Macron Elite Populism populist protest movement emerge suddenly',\n 'french politic Macron Elite Populism populist protest movement emerge suddenly spectacularly']"
     },
     "execution_count": 18,
     "metadata": {},
     "output_type": "execute_result"
    }
   ],
   "source": [
    "get_concordance(lemmata_list, inxs[:10], 5,5)"
   ],
   "metadata": {
    "collapsed": false
   }
  },
  {
   "cell_type": "code",
   "execution_count": 98,
   "outputs": [],
   "source": [
    "destpath = \"../data/large_data/populis_conc5/\"\n",
    "try:\n",
    "    os.mkdir(destpath)\n",
    "except:\n",
    "    pass\n",
    "sourcepath = \"../data/large_data/articles_lemmata/\"\n",
    "for filename in os.listdir(sourcepath):\n",
    "    if \".txt\" in filename:\n",
    "        filepath = sourcepath + filename\n",
    "        with open(filepath, \"r\") as f:\n",
    "            lemmata = f.read()\n",
    "        lemmata_list = lemmata.split()\n",
    "        inxs = [t[0] for t in enumerate(lemmata_list) if re.search(\"populis\", t[1], re.IGNORECASE)]\n",
    "        conc_data = get_concordance(lemmata_list, inxs, 5,5)\n",
    "        with open(destpath + filename.replace(\"lemmata\", \"populis_conc5\"), \"w\") as f:\n",
    "            f.writelines(\"\\n\".join(conc_data))"
   ],
   "metadata": {
    "collapsed": false
   }
  },
  {
   "cell_type": "markdown",
   "source": [
    " # Extract populis* types"
   ],
   "metadata": {
    "collapsed": false
   }
  },
  {
   "cell_type": "code",
   "execution_count": 23,
   "outputs": [],
   "source": [
    "# all in one\n",
    "populism_types_raw = []\n",
    "sourcepath = \"../data/large_data/articles_lemmata/\"\n",
    "for filename in os.listdir(sourcepath):\n",
    "    if \".txt\" in filename:\n",
    "        filepath = sourcepath + filename\n",
    "        with open(filepath, \"r\") as f:\n",
    "            lemmata = f.read()\n",
    "        lemmata_list = lemmata.split()\n",
    "        inxs = [t[0] for t in enumerate(lemmata_list) if re.search(\"populis\", t[1], re.IGNORECASE)]\n",
    "        conc_data = get_concordance(lemmata_list, inxs, 2,0)\n",
    "    populism_types_raw.extend(conc_data)"
   ],
   "metadata": {
    "collapsed": false
   }
  },
  {
   "cell_type": "code",
   "execution_count": 24,
   "outputs": [
    {
     "data": {
      "text/plain": "[('right wing populist', 1129),\n ('right wing populism', 402),\n ('left wing populist', 231),\n ('radical right populist', 133),\n ('left wing populism', 126),\n ('populist non populist', 78),\n ('political efficacy populist', 66),\n ('electoral success populist', 61),\n ('populism anti populism', 44),\n ('radical left populist', 40),\n ('populist party populist', 36),\n ('radical right populism', 33),\n ('likely vote populist', 32),\n ('nativism authoritarianism populism', 31),\n ('populist anti populist', 30),\n ('high level populist', 29),\n ('minimal deﬁnition populism', 29),\n ('populist attitude populist', 29),\n ('mainstream party populist', 28),\n ('high level populism', 27),\n ('ideational approach populism', 27),\n ('left right populism', 25),\n ('far right populist', 25),\n ('voter support populist', 23),\n ('left right populist', 21),\n ('elect non populist', 21),\n ('voter basis populist', 20),\n ('Laclau theory populism', 20),\n ('', 19),\n ('vote share populist', 18),\n ('individual strong populist', 18),\n ('different type populist', 17),\n ('explain voting populist', 17),\n ('core component populism', 17),\n ('high pretreatment populist', 17),\n ('electoral support populist', 16),\n ('0 0 populist', 16),\n ('approach study populism', 16),\n ('different type populism', 15),\n ('party adopt populist', 15),\n ('core element populism', 15),\n ('minimal definition populism', 15),\n ('party use populist', 15),\n ('low pretreatment populist', 15),\n ('far right populism', 14),\n ('right party populist', 14),\n ('high degree populism', 14),\n ('extreme right populist', 14),\n ('political party populism', 14),\n ('key feature populism', 14),\n ('populist content populist', 14),\n ('affect degree populism', 13),\n ('key element populism', 13),\n ('political trust populist', 13),\n ('core feature populism', 13),\n ('populist movement populist', 13),\n ('thin ideology populism', 12),\n ('anti elitist populism', 12),\n ('probability vote populist', 12),\n ('comparative research populism', 12),\n ('key element populist', 12),\n ('anti establishment populist', 12),\n ('party consider populist', 12),\n ('use term populism', 12),\n ('ECONOMIC consequence populist', 12),\n ('left lean populist', 12),\n ('political party populist', 12),\n ('come power populist', 12),\n ('study japanese populism', 12),\n ('liberal democracy populism', 11),\n ('negative effect populist', 11),\n ('negative effect populism', 11),\n ('neo liberal populist', 11),\n ('increase support populist', 11),\n ('likely support populist', 11),\n ('populist party populism', 10),\n ('direct democracy populist', 10),\n ('foreign policy populism', 10),\n ('fertile ground populist', 10),\n ('leftist rightist populist', 10),\n ('foreign policy populist', 10),\n ('anti establishment populism', 10),\n ('political discontent populist', 10),\n ('low level populism', 10),\n ('comparative analysis populist', 10),\n ('level support populist', 10),\n ('core element populist', 10),\n ('populist rhetoric populist', 10),\n ('issue position populist', 10),\n ('internal efficacy populist', 10),\n ('party degree populism', 9),\n ('vote non populist', 9),\n ('discursive approach populism', 9),\n ('point view populism', 9),\n ('reason first populist', 9),\n ('people vote populist', 9),\n ('breeding ground populist', 9),\n ('vote three populist', 9),\n ('positive effect populist', 9),\n ('comparative study populism', 9),\n ('anti elitism populism', 9),\n ('far leave populism', 9),\n ('populist style populist', 9),\n ('party classify populist', 9),\n ('individual level populist', 9),\n ('secular nationalist populism', 9),\n ('term populism populist', 9),\n ('right orient populism', 9),\n ('voter elect populist', 9),\n ('wing populism populism', 8),\n ('global rise populism', 8),\n ('key feature populist', 8),\n ('different kind populist', 8),\n ('actor use populist', 8),\n ('comparative analysis populism', 8),\n ('party include populist', 8),\n ('strongly exhibit populist', 8),\n ('item measure populist', 8),\n ('predictor support populist', 8),\n ('measure degree populism', 8),\n ('party employ populist', 8),\n ('explain success populist', 8),\n ('core characteristic populism', 8),\n ('party system populist', 8),\n ('anti elite populism', 8),\n ('explain support populist', 8),\n ('predictor vote populist', 8),\n ('likely hold populist', 8),\n ('ambivalent relationship populism', 8),\n ('measure support populism', 8),\n ('party leader populist', 8),\n ('Probability_ _1_2_3_4 populist', 8),\n ('pre exist populist', 8),\n ('ideological thickening populism', 8),\n ('host ideology populist', 8),\n ('military contestation populist', 8),\n ('present surge populism', 7),\n ('right leave populist', 7),\n ('effect degree populism', 7),\n ('inclusionary exclusionary populism', 7),\n ('party non populist', 7),\n ('emergence new populist', 7),\n ('necessary condition populist', 7),\n ('explain rise populism', 7),\n ('Laclau account populism', 7),\n ('citizen support populist', 7),\n ('political actor populist', 7),\n ('dependent variable populist', 7),\n ('individual level populism', 7),\n ('associate support populist', 7),\n ('gap vote populist', 7),\n ('woman vote populist', 7),\n ('centre ideology populism', 7),\n ('0 0 populism', 7),\n ('likelihood vote populist', 7),\n ('intention vote populist', 7),\n ('attitude vote populist', 7),\n ('concern preference populist', 7),\n ('complex relationship populism', 7),\n ('study relationship populism', 7),\n ('framework study populism', 7),\n ('political space populist', 7),\n ('positive effect populism', 7),\n ('party increasingly populist', 7),\n ('probability support populist', 7),\n ('ideational deﬁnition populism', 7),\n ('liberal democracy populist', 7),\n ('wing form populism', 7),\n ('Venezuela Chavismo Populism', 7),\n ('non populist populist', 7),\n ('word populism populist', 7),\n ('condition anti populist', 7),\n ('hard case populism', 7),\n ('two subtype populism', 7),\n ('responsibility orient populism', 7),\n ('democratic quality populist', 7),\n ('immigrant statement populist', 7),\n ('voter vote populist', 7),\n ('boom non populist', 7),\n ('article argue populist', 6),\n ('recent rise populism', 6),\n ('party label populist', 6),\n ('case study populist', 6),\n ('party express populist', 6),\n ('radical party populist', 6),\n ('assess extent populist', 6),\n ('political elite populist', 6),\n ('average level populism', 6),\n ('actor label populist', 6),\n ('ideational definition populism', 6),\n ('anti elitism populist', 6),\n ('concept authoritarian populism', 6),\n ('rise authoritarian populism', 6),\n ('exhibit strong populist', 6),\n ('approach argue populism', 6),\n ('rise new populist', 6),\n ('likely support populism', 6),\n ('anti elitist populist', 6),\n ('ideal type populism', 6),\n ('elitist component populism', 6),\n ('populist right populist', 6),\n ('scale measure populist', 6),\n ('popular sovereignty populist', 6),\n ('radical left populism', 6),\n ('electoral strength populist', 6),\n ('dependent variable populism', 6),\n ('right lean populist', 6),\n ('al 2017 populist', 6),\n ('support rightwe populist', 6),\n ('marginal effect populist', 6),\n ('party populist populist', 6),\n ('nativist authoritarian populist', 6),\n ('core concept populism', 6),\n ('rise nationalist populism', 6),\n ('use concept populism', 6),\n ('common denominator populist', 6),\n ('populist actor populist', 6),\n ('approach understand populism', 6),\n ('social basis populist', 6),\n ('country strong populist', 6),\n ('jager Walgrave populism', 6),\n ('supply national populism', 6),\n ('different degree populism', 6),\n ('right orient populist', 6),\n ('decline class populism', 6),\n ('demand supply populism', 5),\n ('host ideology populism', 5),\n ('supply demand populism', 5),\n ('public debate populist', 5),\n ('populist degree populism', 5),\n ('inclusionary exclusionary populist', 5),\n ('political opportunity populist', 5),\n ('recent success populist', 5),\n ('show vote populist', 5),\n ('signiﬁcant effect populist', 5),\n ('individual vote populist', 5),\n ('allow understand populism', 5),\n ('attempt deﬁne populism', 5),\n ('social basis populism', 5),\n ('support protectionism populist', 5),\n ('protectionist view populist', 5),\n ('different form populism', 5),\n ('represent people populist', 5),\n ('research show populist', 5),\n ('approach measure populism', 5),\n ('anti elite populist', 5),\n ('populist ideology populist', 5),\n ('raise question populism', 5),\n ('affect support populist', 5),\n ('economic perception populist', 5),\n ('help explain populist', 5),\n ('center ideology populism', 5),\n ('populist voting populist', 5),\n ('new form populism', 5),\n ('fertile ground populism', 5),\n ('Left rise Populism', 5),\n ('keywords populism populist', 5),\n ('identify party populist', 5),\n ('Kessel 2018 populist', 5),\n ('theoretical relationship populism', 5),\n ('vote choice populist', 5),\n ('key component populism', 5),\n ('article argue populism', 5),\n ('Europe inclusionary populism', 5),\n ('Mudde_’s deﬁnition populism', 5),\n ('political representation populism', 5),\n ('policy making populist', 5),\n ('wing populist populist', 5),\n ('leave right populist', 5),\n ('rise nativist populism', 5),\n ('populist leader populist', 5),\n ('0 non populist', 5),\n ('core aspect populism', 5),\n ('positive relationship populist', 5),\n ('significant effect populism', 5),\n ('people elite populist', 5),\n ('political power populist', 5),\n ('citizen vote populist', 5),\n ('thick ideology populism', 5),\n ('interaction effect populist', 5),\n ('party use populism', 5),\n ('electoral rise populist', 5),\n ('attack accommodate populist', 5),\n ('wing party populist', 5),\n ('Panizza ed Populism', 5),\n ('average level populist', 5),\n ('success failure populist', 5),\n ('three dimension populism', 5),\n ('Concept Structures Populist', 5),\n ('et al populism', 5),\n ('analysis demonstrate populist', 5),\n ('party inclined populist', 5),\n ('party turn populist', 5),\n ('success radical populist', 5),\n ('statement contain populism', 5),\n ('analyse degree populism', 5),\n ('early work populism', 5),\n ('anti immigrant populist', 5),\n ('question deal populist', 5),\n ('populism policy populism', 5),\n ('political discourse populist', 5),\n ('observe form populism', 5),\n ('rise fall populism', 5),\n ('theory ideational populism', 5),\n ('deliver non populist', 5),\n ('ideological feature populism', 5),\n ('competitive anti populist', 5),\n ('apply concept populism', 5),\n ('exclusive category populist', 5),\n ('level abstraction populism', 5),\n ('QoG support populist', 5),\n ('associate support populism', 5),\n ('SYRIZA constitute populist', 5),\n ('0 0 Populism', 5),\n ('language class populism', 5),\n ('democratic class populism', 5),\n ('capture institution populist', 5),\n ('populist bust populist', 5),\n ('subgame non populist', 5),\n ('capture non populist', 5),\n ('current surge populism', 4),\n ('tabloid medium populist', 4),\n ('assess degree populism', 4),\n ('variable degree populism', 4),\n ('grow strength populist', 4),\n ('time crisis populist', 4),\n ('approach deﬁne populism', 4),\n ('15 prototypical populist', 4),\n ('Mudde 2004 populist', 4),\n ('discuss concept populism', 4),\n ('reason vote populist', 4),\n ('Mudde deﬁne populism', 4),\n ('pay attention populist', 4),\n ('study find populist', 4),\n ('predict vote populist', 4),\n ('make sense populist', 4),\n ('non radical populist', 4),\n ('use available populist', 4),\n ('position vote populist', 4),\n ('negatively relate populist', 4),\n ('attitude explain populist', 4),\n ('conceptual deﬁnition populism', 4),\n ('recent scholarship populism', 4),\n ('capture essence populism', 4),\n ('commonly label populist', 4),\n ('overall level populist', 4),\n ('1 introduction Populism', 4),\n ('Laclau argue populism', 4),\n ('approach consider populism', 4),\n ('measure level populism', 4),\n ('’s deﬁnition populism', 4),\n ('academic debate populism', 4),\n ('populism non populist', 4),\n ('make clear populism', 4),\n ('relate vote populist', 4),\n ('powerful tool populist', 4),\n ('small non populist', 4),\n ('postmaterialist non populist', 4),\n ('major party populist', 4),\n ('answer question populist', 4),\n ('important element populism', 4),\n ('explanation rise populism', 4),\n ('ideal target populist', 4),\n ('factor analysis populist', 4),\n ('political ideology populist', 4),\n ('argue party populist', 4),\n ('key characteristic populism', 4),\n ('populism form populism', 4),\n ('one way populist', 4),\n ('symptomatic problem populist', 4),\n ('help understand populism', 4),\n ('overall level populism', 4),\n ('inclusionary type populism', 4),\n ('ideational theory populism', 4),\n ('electoral success populism', 4),\n ('central feature populist', 4),\n ('breeding ground populism', 4),\n ('gender gap populist', 4),\n ('result suggest populist', 4),\n ('vote rightwe populist', 4),\n ('thin definition populism', 4),\n ('propose typology populism', 4),\n ('exist literature populism', 4),\n ('similarity difference populism', 4),\n ('electoral system populist', 4),\n ('recent surge populism', 4),\n ('party democracy populist', 4),\n ('right Wing Populism', 4),\n ('associate voting populist', 4),\n ('three component populism', 4),\n ('Political Efficacy Populist', 4),\n ('center nature populism', 4),\n ('indicator vote populist', 4),\n ('people centeredness populism', 4),\n ('seek explain populist', 4),\n ('code vote populist', 4),\n ('efficacy high populist', 4),\n ('explain vote populist', 4),\n ('party explain populist', 4),\n ('voting three populist', 4),\n ('voting rightwe populist', 4),\n ('implication study populism', 4),\n ('continued success populist', 4),\n ('rise support populist', 4),\n ('scholar view populism', 4),\n ('different manifestation populism', 4),\n ('wing version populism', 4),\n ('minority right populist', 4),\n ('new wave populism', 4),\n ('populism agrarian populism', 4),\n ('leader adopt populist', 4),\n ('suggest rise populism', 4),\n ('candidate level populist', 4),\n ('party Western_Europe populist', 4),\n ('populist government populist', 4),\n ('research suggest populist', 4),\n ('hold non populist', 4),\n ('test effect populism', 4),\n ('redistribute non populist', 4),\n ('european context populism', 4),\n ('exchange rate populism', 4),\n ('general people populist', 4),\n ('great support populist', 4),\n ('contribute rise populism', 4),\n ('independent variable populist', 4),\n ('previous election populist', 4),\n ('welfare chauvinism populist', 4),\n ('political establishment populist', 4),\n ('long tradition populist', 4),\n ('charismatic leadership populist', 4),\n ('study show populist', 4),\n ('ideological spectrum populist', 4),\n ('vote relatively populist', 4),\n ('authoritarianism nativism populism', 4),\n ('characterise strong populist', 4),\n ('party family populism', 4),\n ('party expect populist', 4),\n ('party strong populist', 4),\n ('future research populist', 4),\n ('cause consequence populist', 4),\n ('party associate populism', 4),\n ('populism first populism', 4),\n ('ed democracy the_Populist_Challenge', 4),\n ('low level populist', 4),\n ('hegemonic theory populism', 4),\n ('tell story populist', 4),\n ('article analyse populist', 4),\n ('ﬁnding suggest populist', 4),\n ('frame reference populist', 4),\n ('literature nationalism populism', 4),\n ('level degree populism', 4),\n ('average degree populism', 4),\n ('relationship democracy populism', 4),\n ('Erdo gan populist', 4),\n ('relationship nationalism populism', 4),\n ('southern european populist', 4),\n ('ideological nature populism', 4),\n ('literature relationship populism', 4),\n ('use word populism', 4),\n ('understand relationship populist', 4),\n ('political identity populism', 4),\n ('academic research populism', 4),\n ('general people populism', 4),\n ('play role populist', 4),\n ('populist politic populist', 4),\n ('circumscribed universe populist', 4),\n ('minimalist deﬁnition populism', 4),\n ('regard relationship populism', 4),\n ('issue associate populism', 4),\n ('propensity vote populist', 4),\n ('representative claim populist', 4),\n ('civil society populist', 4),\n ('political process populist', 4),\n ('wide range populist', 4),\n ('come deal populist', 4),\n ('theory new populism', 4),\n ('leave right populism', 4),\n ('Oxford Handbook Populism', 4),\n ('define feature populism', 4),\n ('internal efficacy populism', 4),\n ('political spectrum populist', 4),\n ('populism non populism', 4),\n ('trust people populism', 4),\n ('study european populism', 4),\n ('research japanese populism', 4),\n ('literature japanese populism', 4),\n ('include exclude populist', 4),\n ('compete form populism', 4),\n ('comparative literature populism', 4),\n ('medium coverage populist', 4),\n ('discourse clearly populist', 4),\n ('strong anti populist', 4),\n ('extreme right populism', 4),\n ('party anti populist', 4),\n ('simple language populist', 4),\n ('exclusive association populism', 4),\n ('element american populism', 4),\n ('form catch populism', 4),\n ('contain word populism', 4),\n ('the_European_Union Age Populism', 4),\n ('responsibility orient populist', 4),\n ('specifically modern populist', 4),\n ('discursive nature populism', 4),\n ('al 2014 populist', 4),\n ('consensus democracy populist', 4),\n ('effectively distinguish populist', 4),\n ('ideology trump populism', 4),\n ('form rational populism', 4),\n ('republican interpretation populism', 4),\n ('position non populist', 4),\n ('prefer non populist', 4),\n ('switch non populist', 4),\n ('β ˇ populist', 4),\n ('conceptual distinction populism', 4),\n ('authoritarian weak populist', 4),\n ('present rise populism', 3),\n ('pave way populist', 3),\n ('ideational account populism', 3),\n ('political distrust populist', 3),\n ('easy target populist', 3),\n ('populism leave populism', 3),\n ('populism right populism', 3),\n ('Mudde Kaltwasser populism', 3),\n ('party rise populism', 3),\n ('central element populist', 3),\n ('populist message populist', 3),\n ('area sustained populist', 3),\n ('party success populist', 3),\n ('party identiﬁe populist', 3),\n ('opinion article populist', 3),\n ('variation degree populism', 3),\n ('rise global populism', 3),\n ('charismatic leader populist', 3),\n ('Rummens 2007 populism', 3),\n ('see rise populist', 3),\n ('different variant populism', 3),\n ('notion exclusionary populism', 3),\n ('future research Populism', 3),\n ('al 2012 populist', 3),\n ('set idea populism', 3),\n ('socioeconomic position populist', 3),\n ('label vote populist', 3),\n ('party categorize populist', 3),\n ('usually label populist', 3),\n ('analysis vote populist', 3),\n ('establishment message populist', 3),\n ('burgeon literature populism', 3),\n ('rise national populism', 3),\n ('raise question populist', 3),\n ('moral dimension populism', 3),\n ('support hypothesis populist', 3),\n ('party family populist', 3),\n ('La razón populista', 3),\n ('democratic erosion populism', 3),\n ('party new populist', 3),\n ('rise nationalism populism', 3),\n ('high score populist', 3),\n ('first hypothesis populist', 3),\n ('high degree populist', 3),\n ('term economic populism', 3),\n ('ideological position populism', 3),\n ('argue rise populism', 3),\n ('play hand populist', 3),\n ('case contemporary populism', 3),\n ('literature latin_american populism', 3),\n ('populism literature populism', 3),\n ('emphasis original populism', 3),\n ('boundary nationalism populism', 3),\n ('social medium populist', 3),\n ('big non populist', 3),\n ('understanding relationship populism', 3),\n ('populism neo populism', 3),\n ('inherent tension populism', 3),\n ('able tame populist', 3),\n ('political context populist', 3),\n ('long history populism', 3),\n ('left libertarian populist', 3),\n ('recent literature populism', 3),\n ('individual citizen populist', 3),\n ('approach argue populist', 3),\n ('assess association populist', 3),\n ('attitude measurement populist', 3),\n ('grey level populist', 3),\n ('climate change populist', 3),\n ('reason first populism', 3),\n ('Ernesto_Laclau_’s theory populism', 3),\n ('identity politic populism', 3),\n ('Laclau conception populism', 3),\n ('theory practice populism', 3),\n ('populism argue populist', 3),\n ('introduction rise populist', 3),\n ('approach define populism', 3),\n ('center periphery populism', 3),\n ('Laclau understand populism', 3),\n ('different form populist', 3),\n ('empirical analysis populist', 3),\n ('democratic system populism', 3),\n ('inclusive form populism', 3),\n ('key understand populism', 3),\n ('important contribution populism', 3),\n ('Laclau see populism', 3),\n ('call ethno populism', 3),\n ('different kind populism', 3),\n ('co opt populist', 3),\n ('political force populist', 3),\n ('substantive content populist', 3),\n ('main feature populist', 3),\n ('al 2017 populism', 3),\n ('analysis suggest populist', 3),\n ('take place populist', 3),\n ('rhetorical element populist', 3),\n ('communication style populist', 3),\n ('two element populist', 3),\n ('elitist type populism', 3),\n ('nationally orient populism', 3),\n ('central feature populism', 3),\n ('rise success populist', 3),\n ('divide characterize populism', 3),\n ('people central populism', 3),\n ('citizen technocrat populist', 3),\n ('attitude support populist', 3),\n ('party social populist', 3),\n ('party general populist', 3),\n ('deﬁne element populism', 3),\n ('relate support populism', 3),\n ('change level populism', 3),\n ('electoral performance populist', 3),\n ('political theory populism', 3),\n ('political institution populist', 3),\n ('vote behaviour populist', 3),\n ('grow success populist', 3),\n ('reason support populist', 3),\n ('centre nature populism', 3),\n ('left party populist', 3),\n ('thin centre populist', 3),\n ('allow examine populist', 3),\n ('positively relate populist', 3),\n ('explain variation populist', 3),\n ('voice suppression populist', 3),\n ('share rightwe populist', 3),\n ('new wave populist', 3),\n ('populism politician populism', 3),\n ('emergence type populism', 3),\n ('clear distinction populism', 3),\n ('modern national populism', 3),\n ('recent research populism', 3),\n ('wing party populism', 3),\n ('new type populism', 3),\n ('minimalist definition populism', 3),\n ('public support populist', 3),\n ('understand rise populism', 3),\n ('science literature populism', 3),\n ('support populism populist', 3),\n ('apply study populism', 3),\n ('Kessel 2018 populism', 3),\n ('concept suggest populist', 3),\n ('543 define populism', 3),\n ('link concept populism', 3),\n ('political discontent populism', 3),\n ('political efficacy populism', 3),\n ('distinguish support populism', 3),\n ('discontent frustration populism', 3),\n ('Populist Attitudes Populism', 3),\n ('test relationship populist', 3),\n ('well disentangle populism', 3),\n ('define component populism', 3),\n ('model explain populist', 3),\n ('item measure Populist', 3),\n ('latent construct populist', 3),\n ('party effect populist', 3),\n ('strong effect populist', 3),\n ('question hold populist', 3),\n ('common feature populism', 3),\n ('find presence populist', 3),\n ('robust predictor populist', 3),\n ('test relevance populist', 3),\n ('vote intention populist', 3),\n ('majoritarian interpretation populist', 3),\n ('citizen preference populist', 3),\n ('contribute rise populist', 3),\n ('justice concern populist', 3),\n ('allow test populist', 3),\n ('people support populist', 3),\n ('link rise populism', 3),\n ('explain rise populist', 3),\n ('scholar argue populism', 3),\n ('mirror image populism', 3),\n ('corrupt elite populist', 3),\n ('support idea populist', 3),\n ('challenge notion populism', 3),\n ('advance study populism', 3),\n ('time time populist', 3),\n ('political communication populism', 3),\n ('contemporary european populism', 3),\n ('two dimension populism', 3),\n ('fundamental component populist', 3),\n ('previous form populism', 3),\n ('consensus deﬁnition populism', 3),\n ('contribute literature populism', 3),\n ('contribute research populism', 3),\n ('populism distinguish populism', 3),\n ('core deﬁnition populism', 3),\n ('party left populist', 3),\n ('two new populist', 3),\n ('party tend populist', 3),\n ('well understanding populist', 3),\n ('understand contemporary populism', 3),\n ('scholar agree populism', 3),\n ('party share populist', 3),\n ('relate core populism', 3),\n ('share common populist', 3),\n ('populist rhetoric populism', 3),\n ('empirical evidence populist', 3),\n ('demonstrate support populism', 3),\n ('study support populism', 3),\n ('variation support populism', 3),\n ('latent demand populism', 3),\n ('sharp distinction populism', 3),\n ('core message populist', 3),\n ('result indicate populist', 3),\n ('populist voter populist', 3),\n ('government include populist', 3),\n ('2012 argue populism', 3),\n ('test effect populist', 3),\n ('organizational structure populist', 3),\n ('empirical analysis populism', 3),\n ('populist rule populist', 3),\n ('vary degree populist', 3),\n ('compare non populist', 3),\n ('violent conﬂict populist', 3),\n ('effect left populist', 3),\n ('Europe Latin_America populist', 3),\n ('latin_american european populism', 3),\n ('certain degree populism', 3),\n ('clear deﬁnition populism', 3),\n ('example exclusionary populism', 3),\n ('research effect populist', 3),\n ('particularly prone populist', 3),\n ('cognition immigrant populist', 3),\n ('reader comment populist', 3),\n ('refer people populist', 3),\n ('wing nationalist populist', 3),\n ('scholar agree populist', 3),\n ('important role populist', 3),\n ('mobilization allow populist', 3),\n ('electorally successful populist', 3),\n ('multi level populism', 3),\n ('populist support populist', 3),\n ('large presence populist', 3),\n ('1 show populist', 3),\n ('literature see populism', 3),\n ('support radical populist', 3),\n ('advance understanding populism', 3),\n ('Weyland 2001 populist', 3),\n ('strong party populist', 3),\n ('Morales movement populist', 3),\n ('similar level populist', 3),\n ('empirical study populism', 3),\n ('moderate effect populist', 3),\n ('measure level populist', 3),\n ('measure latent populist', 3),\n ('find effect populist', 3),\n ('necessarily prerogative populist', 3),\n ('party likely populist', 3),\n ('Taggart 2000 populist', 3),\n ('party rise populist', 3),\n ('non mainstream populist', 3),\n ('response success populist', 3),\n ('electoral growth populist', 3),\n ('label party populist', 3),\n ('party respond populist', 3),\n ('social policy populist', 3),\n ('case suggest populist', 3),\n ('trust People Populism', 3),\n ('absence relevant populist', 3),\n ('clear cut populist', 3),\n ('base idea populism', 3),\n ('difference degree populism', 3),\n ('negative impact populist', 3),\n ('distinctive feature populism', 3),\n ('anti political populism', 3),\n ('law order populism', 3),\n ('new form populist', 3),\n ('distinctive feature populist', 3),\n ('opposition party populist', 3),\n ('crisis bring populist', 3),\n ('political debate populist', 3),\n ('combine left populist', 3),\n ('constitutive feature populism', 3),\n ('hand find populist', 3),\n ('attitude strong populist', 3),\n ('individual weak populist', 3),\n ('independent effect populist', 3),\n ('unit increase populist', 3),\n ('support argument populist', 3),\n ('current debate populism', 3),\n ('Kaltwasser 2012 populism', 3),\n ('study anti populism', 3),\n ('anti populism populism', 3),\n ('compare contemporary populist', 3),\n ('center leave populist', 3),\n ('explore relationship populist', 3),\n ('conspiracy theory populism', 3),\n ('factor explain populist', 3),\n ('central aspect populist', 3),\n ('central concept populism', 3),\n ('thin thick populism', 3),\n ('conceptual value populist', 3),\n ('assign high populism', 3),\n ('individual hold populist', 3),\n ('consider non populist', 3),\n ('personality trait populism', 3),\n ('risk propensity populist', 3),\n ('leader use populist', 3),\n ('populism hand populism', 3),\n ('extent party populist', 3),\n ('focus concept populism', 3),\n ('political process populism', 3),\n ('party incline populist', 3),\n ('likely employ populist', 3),\n ('combination nativism populism', 3),\n ('give rise populism', 3),\n ('populist movement populism', 3),\n ('party movement populist', 3),\n ('crucial element populist', 3),\n ('moderate level populist', 3),\n ('left lean populism', 3),\n ('root cause populism', 3),\n ('anti system populist', 3),\n ('article examine populist', 3),\n ('key issue populist', 3),\n ('interaction mainstream populist', 3),\n ('similarity difference populist', 3),\n ('contextual feature populism', 3),\n ('core feature populist', 3),\n ('ideational core populism', 3),\n ('ideological core populism', 3),\n ('structural quality populist', 3),\n ('primarily interested populism', 3),\n ('central constitutive populist', 3),\n ('formal approach populism', 3),\n ('liberalism nationalism populism', 3),\n ('note percentage populist', 3),\n ('political concept populism', 3),\n ('ontological insecurity populism', 3),\n ('Trump_’s brand populism', 3),\n ('perfect target populist', 3),\n ('electoral coalition populist', 3),\n ('notion people populist', 3),\n ('populist opposition populist', 3),\n ('accord approach populism', 3),\n ('framework analysis populism', 3),\n ('Müller 2016 populism', 3),\n ('clear definition populism', 3),\n ('one two populist', 3),\n ('type populism populist', 3),\n ('study focus populist', 3),\n ('overall effect populism', 3),\n ('core component populist', 3),\n ('effect right populist', 3),\n ('allow identify populist', 3),\n ('examine relationship populism', 3),\n ('0 strongly populist', 3),\n ('party embrace populist', 3),\n ('widely recognise populist', 3),\n ('new left populist', 3),\n ('economic nativism populism', 3),\n ('public interest populism', 3),\n ('wave radical populist', 3),\n ('ideational study populism', 3),\n ('two major populist', 3),\n ('country experience populist', 3),\n ('party combine populism', 3),\n ('Mudde 2007 populist', 3),\n ('right supporter Populist', 3),\n ('latent variable populism', 3),\n ('research measure populism', 3),\n ('research show populism', 3),\n ('european crisis populist', 3),\n ('indirect effect populist', 3),\n ('political system populism', 3),\n ('grow support populist', 3),\n ('response challenge populist', 3),\n ('people sense populism', 3),\n ('general expectation populist', 3),\n ('develop typology populist', 3),\n ('inclusionary form populism', 3),\n ('political leader populist', 3),\n ('regime use populist', 3),\n ('new party populist', 3),\n ('leave wing populist', 3),\n ('scholarly debate populism', 3),\n ('vary degree populism', 3),\n ('conceptual account populism', 3),\n ('populism concept populism', 3),\n ('hypothesis expect populist', 3),\n ('strong presence populist', 3),\n ('democracy rise populism', 3),\n ('populism Introduction Populism', 3),\n ('nationalist form populism', 3),\n ('radical rightwe populism', 3),\n ('personality voting populist', 3),\n ('make use populist', 3),\n ('value indicate populist', 3),\n ('argue successful populism', 3),\n ('democracy power populist', 3),\n ('political arena populist', 3),\n ('like fascist populist', 3),\n ('way rise populism', 3),\n ('ideological type populist', 3),\n ('main feature populism', 3),\n ('evidence show populist', 3),\n ('expect rightwe populist', 3),\n ('determine effect populist', 3),\n ('look interaction populist', 3),\n ('2016 deal populist', 3),\n ('study deal populist', 3),\n ('case anti populist', 3),\n ('civil society populism', 3),\n ('social movement populist', 3),\n ('research agenda populism', 3),\n ('lead rise populism', 3),\n ('steady rise populist', 3),\n ('direct effect populist', 3),\n ('relate support populist', 3),\n ('people hold populist', 3),\n ('framework analysis populist', 3),\n ('social medium populism', 3),\n ('challenger party populist', 3),\n ('leader catalyse populist', 3),\n ('Venezuela Chavismo Populism_in_Comparative_Perspective', 3),\n ('ideological content populism', 3),\n ('western european populism', 3),\n ('political practice populist', 3),\n ('find literature populism', 3),\n ('populism neoliberal populism', 3),\n ('populism national populism', 3),\n ('literature european populism', 3),\n ('great use populism', 3),\n ('positively correlate populism', 3),\n ('hybrid regime populist', 3),\n ('two type populism', 3),\n ('easy confuse populism', 3),\n ('question extent populist', 3),\n ('party need populist', 3),\n ('state mean populism', 3),\n ('political style populist', 3),\n ('non establishment populist', 3),\n ('challenge anti populist', 3),\n ('contemporary european populist', 3),\n ('shed light populist', 3),\n ('non contestation populist', 3),\n ('contestation latin_american populist', 3),\n ('draw opposite populism', 3),\n ('conceptual hierarchy populism', 3),\n ('necessary condition populism', 3),\n ('issue eurosceptic populist', 3),\n ('show distinctiveness populist', 3),\n ('contemporary link populism', 3),\n ('similar pattern populist', 3),\n ('analyze relationship populism', 3),\n ('application term populism', 3),\n ('potential universe populist', 3),\n ('ladder abstraction populist', 3),\n ('explicitly deﬁne populism', 3),\n ('actor associate populism', 3),\n ('recent critique populism', 3),\n ('propensity support populist', 3),\n ('mean probability populist', 3),\n ('attitude authoritarianism populism', 3),\n ('relationship QoG populist', 3),\n ('share vote populist', 3),\n ('quarrel republicanism populism', 3),\n ('give rise populist', 3),\n ('political elite populism', 3),\n ('latent construct populism', 3),\n ('Trump Perfect Populist', 3),\n ('group target populist', 3),\n ('populism inclusionary populism', 3),\n ('link issue populism', 3),\n ('Stanford_University direct the_Global_Populisms_Project', 3),\n ('conspiracy theory populist', 3),\n ('right base populism', 3),\n ('theoretical literature populism', 3),\n ('exist scholarship populism', 3),\n ('recent rise populist', 3),\n ('methodology ﬁeld populism', 3),\n ('dimensional structure populist', 3),\n ('instrument measure populist', 3),\n ('constituent power populist', 3),\n ('wing exclusionist populism', 3),\n ('opportunity structure populist', 3),\n ('antipolitical elite populist', 3),\n ('wing complete populism', 3),\n ('country successful populist', 3),\n ('cue effect populist', 3),\n ('question modern populist', 3),\n ('significant difference populist', 3),\n ('good bad populist', 3),\n ('Mudde conceive populism', 3),\n ...]"
     },
     "execution_count": 24,
     "metadata": {},
     "output_type": "execute_result"
    }
   ],
   "source": [
    "nltk.FreqDist(populism_types_raw).most_common()"
   ],
   "metadata": {
    "collapsed": false
   }
  },
  {
   "cell_type": "code",
   "execution_count": null,
   "outputs": [],
   "source": [
    "destpath = \"../data/large_data/populis_conc5/\"\n",
    "try:\n",
    "    os.mkdir(destpath)\n",
    "except:\n",
    "    pass\n",
    "sourcepath = \"../data/large_data/articles_lemmata/\"\n",
    "for filename in os.listdir(sourcepath):\n",
    "    if \".txt\" in filename:\n",
    "        filepath = sourcepath + filename\n",
    "        with open(filepath, \"r\") as f:\n",
    "            lemmata = f.read()\n",
    "        lemmata_list = lemmata.split()\n",
    "        inxs = [t[0] for t in enumerate(lemmata_list) if re.search(\"populis\", t[1], re.IGNORECASE)]\n",
    "        conc_data = get_concordance(lemmata_list, inxs, 5,5)\n",
    "        with open(destpath + filename.replace(\"lemmata\", \"populis_conc5\"), \"w\") as f:\n",
    "            f.writelines(\"\\n\".join(conc_data))"
   ],
   "metadata": {
    "collapsed": false
   }
  }
 ],
 "metadata": {
  "kernelspec": {
   "name": "conda_base",
   "language": "python",
   "display_name": "conda_base"
  },
  "language_info": {
   "codemirror_mode": {
    "name": "ipython",
    "version": 2
   },
   "file_extension": ".py",
   "mimetype": "text/x-python",
   "name": "python",
   "nbconvert_exporter": "python",
   "pygments_lexer": "ipython2",
   "version": "2.7.6"
  }
 },
 "nbformat": 4,
 "nbformat_minor": 0
}
