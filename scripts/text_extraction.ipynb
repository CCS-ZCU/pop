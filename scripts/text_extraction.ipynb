{
 "cells": [
  {
   "cell_type": "code",
   "execution_count": 14,
   "metadata": {
    "collapsed": true
   },
   "outputs": [],
   "source": [
    "import pandas as pd\n",
    "import PyPDF2\n",
    "import PyMu"
   ]
  },
  {
   "cell_type": "code",
   "execution_count": 41,
   "outputs": [
    {
     "name": "stdout",
     "output_type": "stream",
     "text": [
      "\n",
      "PyMuPDF 1.21.0: Python bindings for the MuPDF 1.21.0 library.\n",
      "Version date: 2022-11-08 00:00:01.\n",
      "Built for Python 3.9 on darwin (64-bit).\n",
      "\n"
     ]
    }
   ],
   "source": [
    "import fitz\n",
    "print(fitz.__doc__)"
   ],
   "metadata": {
    "collapsed": false
   }
  },
  {
   "cell_type": "code",
   "execution_count": 23,
   "outputs": [
    {
     "data": {
      "text/plain": "   year                 authors                            journal  \\\n0  2011              Bos et al.            Political Communication   \n1  2019         Blassnig et al.            Political Communication   \n2  2017                Caramani  American Political Science Review   \n3  2020  Wuttke,Schimpf, Schoen  American Political Science Review   \n4  2014                   Treib  Journal of European Public Policy   \n\n                                               title     type pdf? keywords  \\\n0  How the Media Shape Perceptions of Right-Wing ...  article    y        y   \n1  Hitting a Nerve: Populist News Articles Lead t...  article    y        y   \n2  Will vs. Reason: The Populist and Technocratic...  article    y        y   \n3  When the Whole Is Greater than the Sum of Its ...  article    y        y   \n4  The voter says no, but nobody listens: causes ...  article    y        y   \n\n  keywords_online? notes                                           filepath  \n0                y  None  [Political Communication/2011 - Bos et al. - H...  \n1                y  None  [Political Communication/2019 - Blassing et al...  \n2             None  None  [American Political Science Review/2017 - Cara...  \n3             None  None  [American Political Science Review/2020 - Wutt...  \n4             None  None  [Journal of European Public Policy/2014 - Trei...  ",
      "text/html": "<div>\n<style scoped>\n    .dataframe tbody tr th:only-of-type {\n        vertical-align: middle;\n    }\n\n    .dataframe tbody tr th {\n        vertical-align: top;\n    }\n\n    .dataframe thead th {\n        text-align: right;\n    }\n</style>\n<table border=\"1\" class=\"dataframe\">\n  <thead>\n    <tr style=\"text-align: right;\">\n      <th></th>\n      <th>year</th>\n      <th>authors</th>\n      <th>journal</th>\n      <th>title</th>\n      <th>type</th>\n      <th>pdf?</th>\n      <th>keywords</th>\n      <th>keywords_online?</th>\n      <th>notes</th>\n      <th>filepath</th>\n    </tr>\n  </thead>\n  <tbody>\n    <tr>\n      <th>0</th>\n      <td>2011</td>\n      <td>Bos et al.</td>\n      <td>Political Communication</td>\n      <td>How the Media Shape Perceptions of Right-Wing ...</td>\n      <td>article</td>\n      <td>y</td>\n      <td>y</td>\n      <td>y</td>\n      <td>None</td>\n      <td>[Political Communication/2011 - Bos et al. - H...</td>\n    </tr>\n    <tr>\n      <th>1</th>\n      <td>2019</td>\n      <td>Blassnig et al.</td>\n      <td>Political Communication</td>\n      <td>Hitting a Nerve: Populist News Articles Lead t...</td>\n      <td>article</td>\n      <td>y</td>\n      <td>y</td>\n      <td>y</td>\n      <td>None</td>\n      <td>[Political Communication/2019 - Blassing et al...</td>\n    </tr>\n    <tr>\n      <th>2</th>\n      <td>2017</td>\n      <td>Caramani</td>\n      <td>American Political Science Review</td>\n      <td>Will vs. Reason: The Populist and Technocratic...</td>\n      <td>article</td>\n      <td>y</td>\n      <td>y</td>\n      <td>None</td>\n      <td>None</td>\n      <td>[American Political Science Review/2017 - Cara...</td>\n    </tr>\n    <tr>\n      <th>3</th>\n      <td>2020</td>\n      <td>Wuttke,Schimpf, Schoen</td>\n      <td>American Political Science Review</td>\n      <td>When the Whole Is Greater than the Sum of Its ...</td>\n      <td>article</td>\n      <td>y</td>\n      <td>y</td>\n      <td>None</td>\n      <td>None</td>\n      <td>[American Political Science Review/2020 - Wutt...</td>\n    </tr>\n    <tr>\n      <th>4</th>\n      <td>2014</td>\n      <td>Treib</td>\n      <td>Journal of European Public Policy</td>\n      <td>The voter says no, but nobody listens: causes ...</td>\n      <td>article</td>\n      <td>y</td>\n      <td>y</td>\n      <td>None</td>\n      <td>None</td>\n      <td>[Journal of European Public Policy/2014 - Trei...</td>\n    </tr>\n  </tbody>\n</table>\n</div>"
     },
     "execution_count": 23,
     "metadata": {},
     "output_type": "execute_result"
    }
   ],
   "source": [
    "articles_metadata = pd.read_json(\"../data/article_metadata_with_filepaths.json\")\n",
    "articles_metadata.head(5)"
   ],
   "metadata": {
    "collapsed": false
   }
  },
  {
   "cell_type": "code",
   "execution_count": 24,
   "outputs": [],
   "source": [
    "# filter for articles with identified files\n",
    "articles_metadata = articles_metadata[articles_metadata[\"filepath\"].apply(bool)].copy()"
   ],
   "metadata": {
    "collapsed": false
   }
  },
  {
   "cell_type": "code",
   "execution_count": 25,
   "outputs": [],
   "source": [
    "filepath_str = articles_metadata[\"filepath\"].apply(lambda x: x[0])\n",
    "articles_metadata[\"filepath\"] = filepath_str"
   ],
   "metadata": {
    "collapsed": false
   }
  },
  {
   "cell_type": "markdown",
   "source": [
    "# test with one document"
   ],
   "metadata": {
    "collapsed": false
   }
  },
  {
   "cell_type": "code",
   "execution_count": 26,
   "outputs": [
    {
     "data": {
      "text/plain": "     year                 authors                                journal  \\\n0    2011              Bos et al.                Political Communication   \n1    2019         Blassnig et al.                Political Communication   \n2    2017                Caramani      American Political Science Review   \n3    2020  Wuttke,Schimpf, Schoen      American Political Science Review   \n4    2014                   Treib      Journal of European Public Policy   \n..    ...                     ...                                    ...   \n537  2018          Grzymala-Busse                        Current History   \n538  2017             Eichengreen                        Current History   \n539  2014                   Mudde                        Current History   \n540  2020                    Cano             European History Quarterly   \n541  2015                Lindgren  Japanese Journal of Political Science   \n\n                                                 title     type pdf? keywords  \\\n0    How the Media Shape Perceptions of Right-Wing ...  article    y        y   \n1    Hitting a Nerve: Populist News Articles Lead t...  article    y        y   \n2    Will vs. Reason: The Populist and Technocratic...  article    y        y   \n3    When the Whole Is Greater than the Sum of Its ...  article    y        y   \n4    The voter says no, but nobody listens: causes ...  article    y        y   \n..                                                 ...      ...  ...      ...   \n537                      Poland’s Path to Illiberalism  article    y        y   \n538             The Populist Turn in American Politics  article    y        y   \n539           The Far Right and the European Elections  article    y        y   \n540                                Printing the People  article    y        y   \n541  Developing Japanese Populism Research through ...  article    y        y   \n\n    keywords_online? notes                                           filepath  \n0                  y  None  Political Communication/2011 - Bos et al. - Ho...  \n1                  y  None  Political Communication/2019 - Blassing et al....  \n2               None  None  American Political Science Review/2017 - Caram...  \n3               None  None  American Political Science Review/2020 - Wuttk...  \n4               None  None  Journal of European Public Policy/2014 - Treib...  \n..               ...   ...                                                ...  \n537             None  None  Current History/2018 - Grzymala-Busse - Poland...  \n538             None  None  Current History/2017 - Eichengreen - The Popul...  \n539             None  None  Current History/2014 - Mudde - The Far Right a...  \n540             None  None  European History Quarterly/2020 - Cano - Print...  \n541             None  None  Japanese Journal of Political Science/2015 - L...  \n\n[537 rows x 10 columns]",
      "text/html": "<div>\n<style scoped>\n    .dataframe tbody tr th:only-of-type {\n        vertical-align: middle;\n    }\n\n    .dataframe tbody tr th {\n        vertical-align: top;\n    }\n\n    .dataframe thead th {\n        text-align: right;\n    }\n</style>\n<table border=\"1\" class=\"dataframe\">\n  <thead>\n    <tr style=\"text-align: right;\">\n      <th></th>\n      <th>year</th>\n      <th>authors</th>\n      <th>journal</th>\n      <th>title</th>\n      <th>type</th>\n      <th>pdf?</th>\n      <th>keywords</th>\n      <th>keywords_online?</th>\n      <th>notes</th>\n      <th>filepath</th>\n    </tr>\n  </thead>\n  <tbody>\n    <tr>\n      <th>0</th>\n      <td>2011</td>\n      <td>Bos et al.</td>\n      <td>Political Communication</td>\n      <td>How the Media Shape Perceptions of Right-Wing ...</td>\n      <td>article</td>\n      <td>y</td>\n      <td>y</td>\n      <td>y</td>\n      <td>None</td>\n      <td>Political Communication/2011 - Bos et al. - Ho...</td>\n    </tr>\n    <tr>\n      <th>1</th>\n      <td>2019</td>\n      <td>Blassnig et al.</td>\n      <td>Political Communication</td>\n      <td>Hitting a Nerve: Populist News Articles Lead t...</td>\n      <td>article</td>\n      <td>y</td>\n      <td>y</td>\n      <td>y</td>\n      <td>None</td>\n      <td>Political Communication/2019 - Blassing et al....</td>\n    </tr>\n    <tr>\n      <th>2</th>\n      <td>2017</td>\n      <td>Caramani</td>\n      <td>American Political Science Review</td>\n      <td>Will vs. Reason: The Populist and Technocratic...</td>\n      <td>article</td>\n      <td>y</td>\n      <td>y</td>\n      <td>None</td>\n      <td>None</td>\n      <td>American Political Science Review/2017 - Caram...</td>\n    </tr>\n    <tr>\n      <th>3</th>\n      <td>2020</td>\n      <td>Wuttke,Schimpf, Schoen</td>\n      <td>American Political Science Review</td>\n      <td>When the Whole Is Greater than the Sum of Its ...</td>\n      <td>article</td>\n      <td>y</td>\n      <td>y</td>\n      <td>None</td>\n      <td>None</td>\n      <td>American Political Science Review/2020 - Wuttk...</td>\n    </tr>\n    <tr>\n      <th>4</th>\n      <td>2014</td>\n      <td>Treib</td>\n      <td>Journal of European Public Policy</td>\n      <td>The voter says no, but nobody listens: causes ...</td>\n      <td>article</td>\n      <td>y</td>\n      <td>y</td>\n      <td>None</td>\n      <td>None</td>\n      <td>Journal of European Public Policy/2014 - Treib...</td>\n    </tr>\n    <tr>\n      <th>...</th>\n      <td>...</td>\n      <td>...</td>\n      <td>...</td>\n      <td>...</td>\n      <td>...</td>\n      <td>...</td>\n      <td>...</td>\n      <td>...</td>\n      <td>...</td>\n      <td>...</td>\n    </tr>\n    <tr>\n      <th>537</th>\n      <td>2018</td>\n      <td>Grzymala-Busse</td>\n      <td>Current History</td>\n      <td>Poland’s Path to Illiberalism</td>\n      <td>article</td>\n      <td>y</td>\n      <td>y</td>\n      <td>None</td>\n      <td>None</td>\n      <td>Current History/2018 - Grzymala-Busse - Poland...</td>\n    </tr>\n    <tr>\n      <th>538</th>\n      <td>2017</td>\n      <td>Eichengreen</td>\n      <td>Current History</td>\n      <td>The Populist Turn in American Politics</td>\n      <td>article</td>\n      <td>y</td>\n      <td>y</td>\n      <td>None</td>\n      <td>None</td>\n      <td>Current History/2017 - Eichengreen - The Popul...</td>\n    </tr>\n    <tr>\n      <th>539</th>\n      <td>2014</td>\n      <td>Mudde</td>\n      <td>Current History</td>\n      <td>The Far Right and the European Elections</td>\n      <td>article</td>\n      <td>y</td>\n      <td>y</td>\n      <td>None</td>\n      <td>None</td>\n      <td>Current History/2014 - Mudde - The Far Right a...</td>\n    </tr>\n    <tr>\n      <th>540</th>\n      <td>2020</td>\n      <td>Cano</td>\n      <td>European History Quarterly</td>\n      <td>Printing the People</td>\n      <td>article</td>\n      <td>y</td>\n      <td>y</td>\n      <td>None</td>\n      <td>None</td>\n      <td>European History Quarterly/2020 - Cano - Print...</td>\n    </tr>\n    <tr>\n      <th>541</th>\n      <td>2015</td>\n      <td>Lindgren</td>\n      <td>Japanese Journal of Political Science</td>\n      <td>Developing Japanese Populism Research through ...</td>\n      <td>article</td>\n      <td>y</td>\n      <td>y</td>\n      <td>None</td>\n      <td>None</td>\n      <td>Japanese Journal of Political Science/2015 - L...</td>\n    </tr>\n  </tbody>\n</table>\n<p>537 rows × 10 columns</p>\n</div>"
     },
     "execution_count": 26,
     "metadata": {},
     "output_type": "execute_result"
    }
   ],
   "source": [
    "articles_metadata"
   ],
   "metadata": {
    "collapsed": false
   }
  },
  {
   "cell_type": "code",
   "execution_count": 27,
   "outputs": [],
   "source": [
    "filepath = articles_metadata[\"filepath\"].tolist()[0]"
   ],
   "metadata": {
    "collapsed": false
   }
  },
  {
   "cell_type": "code",
   "execution_count": 31,
   "outputs": [],
   "source": [
    "basepath = \"../data/large_data/articles/\""
   ],
   "metadata": {
    "collapsed": false
   }
  },
  {
   "cell_type": "code",
   "execution_count": 32,
   "outputs": [
    {
     "data": {
      "text/plain": "'../data/large_data/articles/Political Communication/2011 - Bos et al. - How the Media Shape Perceptions of Right Wing Populist Leaders.pdf'"
     },
     "execution_count": 32,
     "metadata": {},
     "output_type": "execute_result"
    }
   ],
   "source": [
    "basepath+filepath"
   ],
   "metadata": {
    "collapsed": false
   }
  },
  {
   "cell_type": "markdown",
   "source": [
    "# Testing PyPDF"
   ],
   "metadata": {
    "collapsed": false
   }
  },
  {
   "cell_type": "code",
   "execution_count": 33,
   "outputs": [],
   "source": [
    "# creating a pdf file object\n",
    "file = open(basepath+filepath, 'rb')"
   ],
   "metadata": {
    "collapsed": false
   }
  },
  {
   "cell_type": "code",
   "execution_count": 34,
   "outputs": [],
   "source": [
    "# creating a pdf reader object\n",
    "pdfReader = PyPDF2.PdfFileReader(file)"
   ],
   "metadata": {
    "collapsed": false
   }
  },
  {
   "cell_type": "code",
   "execution_count": 35,
   "outputs": [
    {
     "name": "stdout",
     "output_type": "stream",
     "text": [
      "26\n"
     ]
    }
   ],
   "source": [
    "# printing number of pages in pdf file\n",
    "print(pdfReader.numPages)"
   ],
   "metadata": {
    "collapsed": false
   }
  },
  {
   "cell_type": "code",
   "execution_count": 39,
   "outputs": [],
   "source": [
    "# creating a page object\n",
    "pageObj = pdfReader.getPage(1)"
   ],
   "metadata": {
    "collapsed": false
   }
  },
  {
   "cell_type": "code",
   "execution_count": 40,
   "outputs": [
    {
     "name": "stdout",
     "output_type": "stream",
     "text": [
      "Political Communication , 28:182–206, 2011\n",
      "Copyright © Taylor & Francis Group, LLCISSN: 1058-4609 print / 1091-7675 onlineDOI: 10.1080/10584609.2011.564605\n",
      "How the Media Shape Perceptions of Right-Wing\n",
      "Populist Leaders\n",
      "LINDA BOS, WOUTER V AN DER BRUG, and CLAES DE VREESE\n",
      "It is often argued that right-wing populist party leaders are dependent on the media\n",
      "for their public image, which in turn is key for their electoral success. This study teststhis assumption by comparing the effects of the media coverage of 2 Dutch right-wingpopulist leaders with the effects of the coverage of leaders of established parties, in areal-life setting, by tracking campaign developments in the Dutch 2006 national elec-tion campaign. We combine panel survey data ( n=401) with repeated measurements\n",
      "of the party leaders’ public images with a systematic content analysis of 17 media out-lets (with a total of 1,001 stories), on the basis of the media consumption of individualrespondents. Our results show signiﬁcant effects of the content of media coverage onthe public image of political leaders. However, only in 1 case (out of 10) is there asigniﬁcant difference between right-wing populist party leaders and leaders of otherparties in the strength of media effects. It thus seems that leaders of right-wing populistparties are just as dependent upon the media as leaders of other parties. The ﬁndingsare discussed in the light of extant research on right-wing populist parties and mediapopulism.\n",
      "Keywords populism, media effects, leadership, right-wing populist parties, electoral\n",
      "behavior\n",
      "Party leaders play an important role for all political parties. They are the most visible\n",
      "representative of the party in the media, and as such they determine to a large extent their\n",
      "party’s image among the public and other politicians. While this is true of all parties, thereare two theoretical reasons to expect that party leaders are particularly important for right-\n",
      "wing populist parties. The ﬁrst reason is that these parties are new. Within the context of\n",
      "the mediatization (Mazzoleni & Schulz, 1999) and popularization of politics, leaders ofnew parties are even more dependent upon the media to provide them with a platform than\n",
      "leaders of more established parties that are better known by the public. Through image\n",
      "management (McNair, 1995) and adaptation to the media logic, right-wing populist partyleaders seek the attention of the media, especially in the insurgent phase of their party\n",
      "(Stewart, Mazzoleni, & Horsﬁeld, 2003).\n",
      "A second, somewhat related reason is that these parties are very loosely organized\n",
      "around the central leader. Many of these parties do not even organize formally as parties,\n",
      "Linda Bos is a PhD candidate in the Amsterdam School of Communication Research at\n",
      "the University of Amsterdam. Wouter van der Brug is Professor of Political Science in theDepartment of Political Science at the University of Amsterdam. Claes de Vreese is Professor ofPolitical Communication in the Amsterdam School of Communication Research at the University ofAmsterdam.\n",
      "Address correspondence to Linda Bos, Amsterdam School of Communication Research,\n",
      "University of Amsterdam, Kloveniersburgwal 48, 1012 CX, Amsterdam, The Netherlands. E-mail:L.Bos@uva.nl\n",
      "182\n"
     ]
    }
   ],
   "source": [
    "# extracting text from page\n",
    "print(pageObj.extractText())"
   ],
   "metadata": {
    "collapsed": false
   }
  },
  {
   "cell_type": "code",
   "execution_count": null,
   "outputs": [],
   "source": [
    "print(pageObj.extractText())"
   ],
   "metadata": {
    "collapsed": false
   }
  },
  {
   "cell_type": "markdown",
   "source": [
    "# Testing PyMUpdf (fitz)"
   ],
   "metadata": {
    "collapsed": false
   }
  },
  {
   "cell_type": "code",
   "execution_count": 42,
   "outputs": [],
   "source": [
    "doc = fitz.open(basepath+filepath)  # or fitz.Document(filename)"
   ],
   "metadata": {
    "collapsed": false
   }
  },
  {
   "cell_type": "code",
   "execution_count": 43,
   "outputs": [
    {
     "data": {
      "text/plain": "Document('../data/large_data/articles/Political Communication/2011 - Bos et al. - How the Media Shape Perceptions of Right Wing Populist Leaders.pdf')"
     },
     "execution_count": 43,
     "metadata": {},
     "output_type": "execute_result"
    }
   ],
   "source": [
    "doc"
   ],
   "metadata": {
    "collapsed": false
   }
  },
  {
   "cell_type": "code",
   "execution_count": 44,
   "outputs": [
    {
     "data": {
      "text/plain": "26"
     },
     "execution_count": 44,
     "metadata": {},
     "output_type": "execute_result"
    }
   ],
   "source": [
    "doc.page_count"
   ],
   "metadata": {
    "collapsed": false
   }
  },
  {
   "cell_type": "code",
   "execution_count": 50,
   "outputs": [],
   "source": [
    "# tutorial: https://pymupdf.readthedocs.io/en/latest/tutorial.html\n",
    "# iteration:\n",
    "# for page in doc:\n",
    "## do something"
   ],
   "metadata": {
    "collapsed": false
   }
  },
  {
   "cell_type": "code",
   "execution_count": 55,
   "outputs": [],
   "source": [
    "page = doc.load_page(2)"
   ],
   "metadata": {
    "collapsed": false
   }
  },
  {
   "cell_type": "code",
   "execution_count": 57,
   "outputs": [
    {
     "data": {
      "text/plain": "'Perceptions of Right-Wing Populist Leaders\\n183\\nwhich is in line with their antiparty rhetoric (e.g., Mudde, 2007; Taggart, 2000). Due to the\\noftentimes ad hoc formation of these parties, their political programs are usually limited\\nand their party organizations weak and highly centralized. Consequently, these parties need\\na strong leader not only to lead the party internally, but also to bring across the message\\nand image of the party (e.g., Carter, 2005; Eatwell, 2003; Kitschelt, 2007; Pappas, 2008;\\nWeyland, 2001). In order to be successful electorally, these right-wing populist party lead-\\ners do not only have to be known by the public, they also need voters to have a positive\\nimage of them (Bos & van der Brug, 2010); they need to be perceived to be effective and\\nlegitimate.\\nIn order to get media attention, leaders of right-wing populist parties have to be some-\\nwhat extraordinary in their behavior, style, or in their messages: “It is a truism that the\\nmedia simply cannot ignore what is newsworthy, and clearly newsworthy are the politicians\\nwho defy the existing order, with their abrasive language, public protests, and emotive\\nissues” (Mazzoleni, 2003, pp. 6–7). Thus, on the one hand, they might employ populist\\nrhetoric or a populist style (Jagers & Walgrave, 2007). On the other hand, these lead-\\ners also have to appear authoritative by displaying their knowledge on issues addressed.\\nRecent research has indicated that successful right-wing populist leaders have managed to\\nreach a delicate balance between appearing unusual and populist, or anti-establishment, to\\ngain news value and still appear authoritative (Bos, van der Brug, & de Vreese, 2010).\\nHowever, whether right-wing populists really are dependent upon the media for their\\npublic image, and whether they differ from mainstream party leaders in this respect, has\\nnever directly been tested. In this article, we address this scientiﬁc gap by testing the effects\\nof the media coverage of right-wing populist leaders on changes in the perception of these\\nleaders in a dynamic setting by tracking campaign developments. We contribute to extant\\nresearch in several respects. First of all, we add to the growing research ﬁeld on right-\\nwing populist parties by taking a closer look at media effects on perceptions of leaders\\nof these parties. Second, we do not only look at one speciﬁc aspect in the coverage of\\nthese leaders, such as prominence, visibility, or tone of coverage, but build a parsimonious\\nmodel including three dimensions in the depiction of these leaders: their prominence, their\\nauthoritativeness—which refers to how knowledgeable a politician appears to be—and the\\nextent to which they use a populist style or adhere to populist ideology.\\nThird, we draw on previous research on the public image of right-wing populist leaders\\nin which two aspects were found that are important for their electoral success: effectiveness\\nand legitimacy (Bos & van der Brug, 2010). All (new) party leaders, right-wing populist\\nor mainstream, have to be perceived to be effective (i.e., able to affect policies or inﬂu-\\nence the public debate) in order to be seen as a serious political contestant. However,\\nright-wing populists also need to be perceived to be legitimate, not posing a threat to\\ndemocracy, because they in particular run the risk of being identiﬁed with the extreme\\nright. In this article, we use effectiveness and legitimacy as dependent variables and explain\\nover-time variations by looking at media coverage. And ﬁnally, by connecting the results\\nof an extensive content analysis with panel survey data, we test media effects in a real-life\\nsetting by studying people as they encounter information on a daily basis (de Vreese &\\nSemetko, 2004).\\nIn sum, in this article we answer the following research question: To what extent are\\nperceptions of right-wing populist party leaders, in terms of their perceived effectiveness\\nand legitimacy, affected by the media coverage of these leaders, in terms of prominence,\\npopulism, and authoritativeness? The conceptual model is shown in Figure 1.\\nAs a research venue, we use the Dutch national parliamentary elections of 2006, in\\nwhich several right-wing populist parties participated. We employ panel survey data in\\n'"
     },
     "execution_count": 57,
     "metadata": {},
     "output_type": "execute_result"
    }
   ],
   "source": [
    "page.get_text()"
   ],
   "metadata": {
    "collapsed": false
   }
  },
  {
   "cell_type": "code",
   "execution_count": 58,
   "outputs": [
    {
     "data": {
      "text/plain": "[(156.49200439453125,\n  43.012901306152344,\n  430.26226806640625,\n  53.97175979614258,\n  'Perceptions of Right-Wing Populist Leaders\\n183\\n',\n  0,\n  0),\n (71.61363983154297,\n  66.77667236328125,\n  430.302978515625,\n  651.7496337890625,\n  'which is in line with their antiparty rhetoric (e.g., Mudde, 2007; Taggart, 2000). Due to the\\noftentimes ad hoc formation of these parties, their political programs are usually limited\\nand their party organizations weak and highly centralized. Consequently, these parties need\\na strong leader not only to lead the party internally, but also to bring across the message\\nand image of the party (e.g., Carter, 2005; Eatwell, 2003; Kitschelt, 2007; Pappas, 2008;\\nWeyland, 2001). In order to be successful electorally, these right-wing populist party lead-\\ners do not only have to be known by the public, they also need voters to have a positive\\nimage of them (Bos & van der Brug, 2010); they need to be perceived to be effective and\\nlegitimate.\\nIn order to get media attention, leaders of right-wing populist parties have to be some-\\nwhat extraordinary in their behavior, style, or in their messages: “It is a truism that the\\nmedia simply cannot ignore what is newsworthy, and clearly newsworthy are the politicians\\nwho defy the existing order, with their abrasive language, public protests, and emotive\\nissues” (Mazzoleni, 2003, pp. 6–7). Thus, on the one hand, they might employ populist\\nrhetoric or a populist style (Jagers & Walgrave, 2007). On the other hand, these lead-\\ners also have to appear authoritative by displaying their knowledge on issues addressed.\\nRecent research has indicated that successful right-wing populist leaders have managed to\\nreach a delicate balance between appearing unusual and populist, or anti-establishment, to\\ngain news value and still appear authoritative (Bos, van der Brug, & de Vreese, 2010).\\nHowever, whether right-wing populists really are dependent upon the media for their\\npublic image, and whether they differ from mainstream party leaders in this respect, has\\nnever directly been tested. In this article, we address this scientiﬁc gap by testing the effects\\nof the media coverage of right-wing populist leaders on changes in the perception of these\\nleaders in a dynamic setting by tracking campaign developments. We contribute to extant\\nresearch in several respects. First of all, we add to the growing research ﬁeld on right-\\nwing populist parties by taking a closer look at media effects on perceptions of leaders\\nof these parties. Second, we do not only look at one speciﬁc aspect in the coverage of\\nthese leaders, such as prominence, visibility, or tone of coverage, but build a parsimonious\\nmodel including three dimensions in the depiction of these leaders: their prominence, their\\nauthoritativeness—which refers to how knowledgeable a politician appears to be—and the\\nextent to which they use a populist style or adhere to populist ideology.\\nThird, we draw on previous research on the public image of right-wing populist leaders\\nin which two aspects were found that are important for their electoral success: effectiveness\\nand legitimacy (Bos & van der Brug, 2010). All (new) party leaders, right-wing populist\\nor mainstream, have to be perceived to be effective (i.e., able to affect policies or inﬂu-\\nence the public debate) in order to be seen as a serious political contestant. However,\\nright-wing populists also need to be perceived to be legitimate, not posing a threat to\\ndemocracy, because they in particular run the risk of being identiﬁed with the extreme\\nright. In this article, we use effectiveness and legitimacy as dependent variables and explain\\nover-time variations by looking at media coverage. And ﬁnally, by connecting the results\\nof an extensive content analysis with panel survey data, we test media effects in a real-life\\nsetting by studying people as they encounter information on a daily basis (de Vreese &\\nSemetko, 2004).\\nIn sum, in this article we answer the following research question: To what extent are\\nperceptions of right-wing populist party leaders, in terms of their perceived effectiveness\\nand legitimacy, affected by the media coverage of these leaders, in terms of prominence,\\npopulism, and authoritativeness? The conceptual model is shown in Figure 1.\\nAs a research venue, we use the Dutch national parliamentary elections of 2006, in\\nwhich several right-wing populist parties participated. We employ panel survey data in\\n',\n  1,\n  0)]"
     },
     "execution_count": 58,
     "metadata": {},
     "output_type": "execute_result"
    }
   ],
   "source": [
    "page.get_text_blocks()\n"
   ],
   "metadata": {
    "collapsed": false
   }
  },
  {
   "cell_type": "code",
   "execution_count": null,
   "outputs": [],
   "source": [],
   "metadata": {
    "collapsed": false
   }
  }
 ],
 "metadata": {
  "kernelspec": {
   "display_name": "Python 3",
   "language": "python",
   "name": "python3"
  },
  "language_info": {
   "codemirror_mode": {
    "name": "ipython",
    "version": 2
   },
   "file_extension": ".py",
   "mimetype": "text/x-python",
   "name": "python",
   "nbconvert_exporter": "python",
   "pygments_lexer": "ipython2",
   "version": "2.7.6"
  }
 },
 "nbformat": 4,
 "nbformat_minor": 0
}
