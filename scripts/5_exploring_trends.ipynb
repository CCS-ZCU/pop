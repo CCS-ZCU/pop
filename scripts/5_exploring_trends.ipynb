{
 "cells": [
  {
   "cell_type": "code",
   "execution_count": 52,
   "metadata": {
    "collapsed": true
   },
   "outputs": [],
   "source": [
    "import pandas as pd\n",
    "import re\n",
    "import nltk\n",
    "import string\n",
    "import google_conf\n",
    "from importlib import reload"
   ]
  },
  {
   "cell_type": "code",
   "execution_count": 53,
   "outputs": [],
   "source": [
    "pop_data = google_conf.setup(sheet_url=\"https://docs.google.com/spreadsheets/d/1o8L0Rt4CzQ_DcYdaKgCdige4nJs0sydlTGiMBSstQtc/edit?usp=sharing\", service_account_path=\"../../ServiceAccountsKey.json\")"
   ],
   "metadata": {
    "collapsed": false
   }
  },
  {
   "cell_type": "code",
   "execution_count": 54,
   "outputs": [
    {
     "data": {
      "text/plain": "   year                 authors                            journal  \\\n0  2011              Bos et al.            Political Communication   \n1  2019         Blassnig et al.            Political Communication   \n2  2017                Caramani  American Political Science Review   \n3  2020  Wuttke,Schimpf, Schoen  American Political Science Review   \n4  2014                   Treib  Journal of European Public Policy   \n\n                                               title     type pdf? keywords  \\\n0  How the Media Shape Perceptions of Right-Wing ...  article    y        y   \n1  Hitting a Nerve: Populist News Articles Lead t...  article    y        y   \n2  Will vs. Reason: The Populist and Technocratic...  article    y        y   \n3  When the Whole Is Greater than the Sum of Its ...  article    y        y   \n4  The voter says no, but nobody listens: causes ...  article    y        y   \n\n  keywords_online? notes                                           filepath  \\\n0                y  None  [Political Communication/2011 - Bos et al. - H...   \n1                y  None  [Political Communication/2019 - Blassing et al...   \n2             None  None  [American Political Science Review/2017 - Cara...   \n3             None  None  [American Political Science Review/2020 - Wutt...   \n4             None  None  [Journal of European Public Policy/2014 - Trei...   \n\n   pop_id  \n0       0  \n1       1  \n2       2  \n3       3  \n4       4  ",
      "text/html": "<div>\n<style scoped>\n    .dataframe tbody tr th:only-of-type {\n        vertical-align: middle;\n    }\n\n    .dataframe tbody tr th {\n        vertical-align: top;\n    }\n\n    .dataframe thead th {\n        text-align: right;\n    }\n</style>\n<table border=\"1\" class=\"dataframe\">\n  <thead>\n    <tr style=\"text-align: right;\">\n      <th></th>\n      <th>year</th>\n      <th>authors</th>\n      <th>journal</th>\n      <th>title</th>\n      <th>type</th>\n      <th>pdf?</th>\n      <th>keywords</th>\n      <th>keywords_online?</th>\n      <th>notes</th>\n      <th>filepath</th>\n      <th>pop_id</th>\n    </tr>\n  </thead>\n  <tbody>\n    <tr>\n      <th>0</th>\n      <td>2011</td>\n      <td>Bos et al.</td>\n      <td>Political Communication</td>\n      <td>How the Media Shape Perceptions of Right-Wing ...</td>\n      <td>article</td>\n      <td>y</td>\n      <td>y</td>\n      <td>y</td>\n      <td>None</td>\n      <td>[Political Communication/2011 - Bos et al. - H...</td>\n      <td>0</td>\n    </tr>\n    <tr>\n      <th>1</th>\n      <td>2019</td>\n      <td>Blassnig et al.</td>\n      <td>Political Communication</td>\n      <td>Hitting a Nerve: Populist News Articles Lead t...</td>\n      <td>article</td>\n      <td>y</td>\n      <td>y</td>\n      <td>y</td>\n      <td>None</td>\n      <td>[Political Communication/2019 - Blassing et al...</td>\n      <td>1</td>\n    </tr>\n    <tr>\n      <th>2</th>\n      <td>2017</td>\n      <td>Caramani</td>\n      <td>American Political Science Review</td>\n      <td>Will vs. Reason: The Populist and Technocratic...</td>\n      <td>article</td>\n      <td>y</td>\n      <td>y</td>\n      <td>None</td>\n      <td>None</td>\n      <td>[American Political Science Review/2017 - Cara...</td>\n      <td>2</td>\n    </tr>\n    <tr>\n      <th>3</th>\n      <td>2020</td>\n      <td>Wuttke,Schimpf, Schoen</td>\n      <td>American Political Science Review</td>\n      <td>When the Whole Is Greater than the Sum of Its ...</td>\n      <td>article</td>\n      <td>y</td>\n      <td>y</td>\n      <td>None</td>\n      <td>None</td>\n      <td>[American Political Science Review/2020 - Wutt...</td>\n      <td>3</td>\n    </tr>\n    <tr>\n      <th>4</th>\n      <td>2014</td>\n      <td>Treib</td>\n      <td>Journal of European Public Policy</td>\n      <td>The voter says no, but nobody listens: causes ...</td>\n      <td>article</td>\n      <td>y</td>\n      <td>y</td>\n      <td>None</td>\n      <td>None</td>\n      <td>[Journal of European Public Policy/2014 - Trei...</td>\n      <td>4</td>\n    </tr>\n  </tbody>\n</table>\n</div>"
     },
     "execution_count": 54,
     "metadata": {},
     "output_type": "execute_result"
    }
   ],
   "source": [
    "articles_metadata = pd.read_json(\"../data/article_metadata_with_filepaths.json\")\n",
    "articles_metadata.head(5)"
   ],
   "metadata": {
    "collapsed": false
   }
  },
  {
   "cell_type": "code",
   "execution_count": 55,
   "outputs": [],
   "source": [
    "articles_metadata = articles_metadata[articles_metadata[\"filepath\"].apply(bool)].copy()"
   ],
   "metadata": {
    "collapsed": false
   }
  },
  {
   "cell_type": "code",
   "execution_count": 56,
   "outputs": [],
   "source": [
    "sample_pop_ids = [62, 377, 188, 364, 499, 228, 376, 90, 227, 330]"
   ],
   "metadata": {
    "collapsed": false
   }
  },
  {
   "cell_type": "markdown",
   "source": [
    "# Test with one document"
   ],
   "metadata": {
    "collapsed": false
   }
  },
  {
   "cell_type": "code",
   "execution_count": 57,
   "outputs": [],
   "source": [
    "pop_id = 90\n",
    "path = \"../data/large_data/articles_filteredtexts/\"\n",
    "filename = \"filteredtext_pop_id_{}.txt\".format(str(pop_id))"
   ],
   "metadata": {
    "collapsed": false
   }
  },
  {
   "cell_type": "code",
   "execution_count": 58,
   "outputs": [],
   "source": [
    "with open(path + filename, \"r\") as f:\n",
    "    filteredtext = f.read()"
   ],
   "metadata": {
    "collapsed": false
   }
  },
  {
   "cell_type": "code",
   "execution_count": 59,
   "outputs": [
    {
     "name": "stdout",
     "output_type": "stream",
     "text": [
      "['Abstract.', 'As', 'a', 'result', 'of', 'the', 'steady', 'rise', 'of', 'populist', 'parties', 'and', 'politicians', 'all', 'over', 'the', 'world', '–', 'and', 'particularly', 'since', 'the', 'Brexit', 'referendum', 'and', 'the', 'election', 'of', 'Donald', 'Trump', '–', 'populism', 'research', 'has', 'become', 'increasingly', 'popular', 'and', 'widespread.', 'The', 'field,', 'however,', 'also', 'faces', 'some', 'tricky', 'challenges.', 'First,', 'it', 'is', 'easy', 'to', 'confuse', 'populism', 'with', 'related', 'concepts', 'like,', 'for', 'instance,', '‘nativism’', 'and', '‘Euroscepticism’.', 'This', 'brings', 'the', 'risk', 'of', 'sloppy', 'conceptualisation,', 'and,', 'as', 'a', 'result,', 'invalid', 'inferences.', 'Second,', 'populism', 'research', 'remains', 'relatively', 'detached', 'from', 'adjacent', 'fields,and', 'fruitful', 'fertilisation', 'across', 'literatures', 'is', 'still', 'rather', 'uncommon.In', 'order', 'to', 'deal', 'with', 'these', 'challenges,populism', 'research']\n"
     ]
    }
   ],
   "source": [
    "test_str_list = filteredtext.split()[:100]\n",
    "print(test_str_list)"
   ],
   "metadata": {
    "collapsed": false
   }
  },
  {
   "cell_type": "code",
   "execution_count": 60,
   "outputs": [
    {
     "data": {
      "text/plain": "[9,\n 31,\n 53,\n 77,\n 98,\n 129,\n 171,\n 181,\n 183,\n 222,\n 224,\n 253,\n 294,\n 306,\n 331,\n 333,\n 378,\n 387,\n 408,\n 474,\n 498,\n 506,\n 515,\n 524,\n 551,\n 597,\n 608,\n 625,\n 649,\n 664,\n 678,\n 741,\n 770,\n 838,\n 858,\n 865,\n 882,\n 945,\n 968,\n 1012,\n 1026,\n 1048,\n 1057,\n 1100,\n 1143,\n 1157,\n 1162,\n 1174,\n 1196,\n 1241,\n 1280,\n 1289,\n 1326,\n 1339,\n 1346,\n 1379,\n 1402,\n 1415,\n 1418,\n 1439,\n 1457,\n 1526,\n 1569,\n 1588,\n 1603,\n 1618,\n 1636,\n 1657,\n 1698,\n 1755,\n 1770,\n 1818,\n 1841,\n 1851,\n 1875,\n 1889,\n 1925,\n 1939,\n 1959,\n 2025,\n 2036,\n 2088,\n 2117,\n 2139,\n 2157,\n 2177,\n 2186,\n 2192,\n 2249,\n 2259,\n 2288,\n 2367,\n 2460,\n 2495,\n 2525,\n 2561,\n 2653,\n 2663,\n 2684,\n 2695,\n 2714,\n 2726,\n 2762,\n 2827,\n 2923,\n 2947,\n 2979,\n 3001,\n 3020,\n 3113,\n 3120,\n 3172,\n 3237,\n 3269,\n 3280,\n 3299,\n 3343,\n 3352,\n 3528,\n 3544,\n 3592,\n 3651,\n 3711,\n 3753,\n 3776,\n 3787,\n 3811,\n 3854,\n 3892,\n 3916,\n 3957,\n 3978,\n 4006,\n 4019,\n 4047,\n 4085]"
     },
     "execution_count": 60,
     "metadata": {},
     "output_type": "execute_result"
    }
   ],
   "source": [
    "# gather indeces:\n",
    "filteredtext_split = filteredtext.split()\n",
    "inxs = [t[0] for t in enumerate(filteredtext_split) if re.search(\"populis\", t[1], re.IGNORECASE)]\n",
    "inxs"
   ],
   "metadata": {
    "collapsed": false
   }
  },
  {
   "cell_type": "code",
   "execution_count": 61,
   "outputs": [
    {
     "name": "stdout",
     "output_type": "stream",
     "text": [
      "['rise', 'of', 'populist', 'parties', 'and']\n",
      "['Trump', '–', 'populism', 'research', 'has']\n",
      "['to', 'confuse', 'populism', 'with', 'related']\n",
      "['inferences.', 'Second,', 'populism', 'research', 'remains']\n",
      "['with', 'these', 'challenges,populism', 'research', 'should']\n",
      "['other', 'researchers,', 'populism', 'scholars', 'should']\n",
      "['can', 'inspire', 'populism', 'scholars', 'to']\n",
      "['expectations.', 'Keyword:', 'populism', 'Introduction', 'Populism']\n",
      "['populism', 'Introduction', 'Populism', 'is', 'sexy.Particularly']\n",
      "['the', 'terms', '‘populism’', 'or', '‘populist’']\n",
      "['‘populism’', 'or', '‘populist’', '671', 'times.']\n",
      "['in', '2017', '‘populism’', 'was', 'declared']\n",
      "['rise', 'of', 'populist', 'parties', 'and']\n",
      "['appeal', 'of', 'populism', 'is', 'also']\n",
      "['the', 'words', '‘populism’', 'or', '‘populist’']\n",
      "['‘populism’', 'or', '‘populist’', 'in', 'the']\n",
      "['devoted', 'to', 'populism!', 'It', 'seems']\n",
      "['research', 'on', 'populism', 'has', 'become']\n",
      "['literature', 'on', 'populism,', 'thereby', 'mainly']\n",
      "['to', 'the', 'populism', 'literature,', 'and']\n",
      "['learn', 'from', 'populism', 'research,', 'and']\n",
      "['way', 'around)', 'populism', 'scholars', 'can']\n",
      "['adjacent', 'topics.', 'Populism', 'research', 'so']\n",
      "['the', 'term', '‘populism’', 'had', 'already']\n",
      "['to', 'discuss', 'populism', '–', 'a']\n",
      "['exactly', 'is', 'populism?', 'what', 'are']\n",
      "['histories', 'of', 'populism', 'in', 'various']\n",
      "['to', 'define', 'populism.', 'Almost', '15']\n",
      "['instances', 'of', 'populism', 'across', 'cases']\n",
      "['types', 'of', 'populism.', 'Yet', 'she']\n",
      "['categories', 'of', 'populism', 'had', 'in']\n",
      "['to', 'the', 'populism', 'literature.', 'Yet']\n",
      "['rise', 'of', 'populism', 'studies', 'with']\n",
      "['instances', 'of', 'populism', 'by', 'means']\n",
      "['leaders', 'were', 'populist', 'and', 'considered']\n",
      "['of', 'why', 'populist', 'actors', 'had']\n",
      "['explosion', 'of', 'populism', 'studies', 'in']\n",
      "['work', 'on', 'populism', 'in', 'various']\n",
      "['defined.', 'Although', 'populism', 'is', 'still']\n",
      "['a', 'concept,', 'populism', 'thus', 'consists']\n",
      "['scholars', 'define', 'populism', 'as', 'a']\n",
      "['share', 'of', 'populism', 'scholars', 'endorsing']\n",
      "['agrees', 'that', 'populism', 'is', 'a']\n",
      "['genus', 'of', 'populism.', 'As', 'a']\n",
      "['on', 'conceptualising', 'populism', 'has', 'made']\n",
      "['approach', 'to', 'populism', '(i.e.,', 'the']\n",
      "['belief', 'that', 'populism', 'is', 'a']\n",
      "['can', 'endorse', 'populism', 'to', 'a']\n",
      "['politicians', 'express', 'populist', 'messages', '–']\n",
      "['degree', 'of', 'populism', 'of', 'parties']\n",
      "['assess', 'how', 'populist', 'politicians', 'are.']\n",
      "['to', 'measuring', 'populism,', 'a', 'lot']\n",
      "['order', 'for', 'populism', 'to', 'be']\n",
      "['research', 'on', 'populism', 'differs', 'from']\n",
      "['is', 'that', 'populism', 'studies', 'nowadays']\n",
      "['voters', 'for', 'populist', 'parties', 'have']\n",
      "['of', 'right-wing', 'populist', 'parties,', 'we']\n",
      "['for', 'left-wing', 'populist', 'parties', 'or']\n",
      "['parties', 'or', 'populist', 'parties', 'in']\n",
      "['citizens', 'have', 'populist', 'ideas.', 'Hawkins']\n",
      "['demonstrate', 'that', 'populism', 'can', 'also']\n",
      "['voting', 'for', 'populists', 'has', 'psychological']\n",
      "['that', 'the', 'populist', 'attitude', 'really']\n",
      "['is', 'the', 'populist', 'attitude', 'not']\n",
      "['contributions', 'to', 'populism', 'research', 'have']\n",
      "['of', 'ideas,', 'populism', 'is', 'also']\n",
      "['what', 'extent', 'populist', 'messages', 'in']\n",
      "['that', 'the', 'populist', 'set', 'of']\n",
      "['respond', 'to', 'populist', 'messages.', 'Yet']\n",
      "['increasingly', 'assess', 'populism', 'in', 'power.']\n",
      "['recent', 'years', 'populist', 'parties', '(at']\n",
      "['what', 'extent', 'populists', 'are', 'able']\n",
      "['to', 'which', 'populists', 'harm', 'liberal']\n",
      "['relationship', 'between', 'populism', 'and', '(liberal)']\n",
      "['consequences', 'of', 'populism', 'for', 'how']\n",
      "['2016).', 'Hence,', 'populism', 'research', 'is']\n",
      "['to', 'confuse', 'populism', 'with', 'related']\n",
      "['this', 'article,', 'populism', 'has', 'become']\n",
      "['characterised', 'as', 'populist', '(e.g.,', 'Trump,']\n",
      "['characteristics', 'of', 'populism.', 'This', 'conclusion']\n",
      "['of', 'confusing', 'populism', 'with', 'a']\n",
      "['19).', 'Where', 'populism', 'concerns', 'the']\n",
      "['2005).', 'Conflating', 'populism', 'with', 'nativism']\n",
      "['vote', 'for', 'populists?', 'Certainly', 'not.']\n",
      "['radical', 'right-wing', 'populists', '–', 'who']\n",
      "['voting', 'for', 'populists', 'in', 'general.']\n",
      "['category', 'of', '‘populists', 'in', 'general’']\n",
      "['includes', 'left-wing', 'populists', 'like', 'Syriza']\n",
      "['radical', 'right-wing', 'populist', 'parties', 'has']\n",
      "['these', 'parties’', 'populism.', 'Most', 'likely']\n",
      "['carefully', 'conceptualise', 'populism,', 'building', 'on']\n",
      "['of', 'parties', '(populist,', 'far', 'right,']\n",
      "['that:(1)', 'a', 'populist', 'party', 'need']\n",
      "['be', 'a', 'populist', 'party', '(KKE']\n",
      "['be', 'a', 'populist', 'party', '(SEL']\n",
      "['be', 'a', 'populist', 'party', '(SEL,']\n",
      "['than', 'on', 'populism.', 'After', 'all,']\n",
      "['not', 'their', 'populism', 'that', 'can']\n",
      "['concept', 'of', 'populism', 'just', 'because']\n",
      "['Challenge', '2:', 'Populism', 'research', 'remains']\n",
      "['imply', 'that', 'populism', 'researchers', 'should']\n",
      "['that', 'the', 'populism', 'literature', 'should']\n",
      "['concept', 'of', 'populism', 'is', 'that']\n",
      "['realise', 'that', 'populism', 'was', 'by']\n",
      "['that', 'although', 'populism', 'helps', 'us']\n",
      "['assess', 'how', 'populism', 'is', 'associated']\n",
      "['of', 'contemporary', 'populism', 'research', 'is']\n",
      "['how', 'exactly', 'populism', 'relates', 'to']\n",
      "['hypotheses', 'in', 'populism', 'research', 'to']\n",
      "['nowadays', 'conceptualise', 'populist', 'parties.', 'The']\n",
      "['is', 'that', 'populism', 'is', 'a']\n",
      "['informative', 'for', 'populism', 'research.', 'It']\n",
      "['alone', 'that', 'populist', 'parties', 'will']\n",
      "['classified', 'as', '‘populist’', '–', 'the']\n",
      "['tailored', 'to', 'populist', 'parties', 'and']\n",
      "['the', 'more', 'populist', 'a', 'party’s']\n",
      "['rarely', 'informs', 'populism', 'studies', 'is']\n",
      "['in-group/out-group', 'thinking.', 'Populism', 'is', 'an']\n",
      "['comes', 'to', 'populism.', 'Therefore,', 'research']\n",
      "['inspiration', 'for', 'populism', 'scholars', '(see']\n",
      "['to', 'which', 'populism', 'and', 'nativism']\n",
      "['easily', 'implemented):', 'populism', 'scholars', '(and']\n",
      "['literature', 'on', 'populism', 'has', 'exploded']\n",
      "['overview', 'of', 'populism', 'research', 'so']\n",
      "['literature', 'on', 'populism.', 'The', 'first']\n",
      "['to', 'confuse', 'populism', 'with', 'related']\n",
      "['drawing', 'invalid', 'conclusions.Second,populism', 'research', 'has']\n",
      "['focus', 'within', 'populism', 'studies.', 'How']\n",
      "['other', 'researchers,', 'populism', 'scholars', 'should']\n",
      "['stick', 'to', 'populism', 'studies,and', 'turn']\n",
      "['hypotheses', 'about', 'populism.', 'Hence,', 'when']\n",
      "['open', 'mind-set.', 'Populism', 'research', 'can']\n",
      "['hypotheses', 'about', 'populism.', 'At', 'the']\n",
      "['lot', 'from', 'populism', 'research.', 'In']\n",
      "['understanding', 'of', 'populism.', 'Unfortunately,', 'however,']\n",
      "['sexiness', 'of', 'populism', 'is', 'an']\n"
     ]
    }
   ],
   "source": [
    "for i in inxs:\n",
    "    print(filteredtext_split[i-2:i+3])\n"
   ],
   "metadata": {
    "collapsed": false
   }
  },
  {
   "cell_type": "code",
   "execution_count": 62,
   "outputs": [],
   "source": [
    "def extract_indeces(pop_id):\n",
    "    path = \"../data/large_data/articles_filteredtexts/\"\n",
    "    filename = \"filteredtext_pop_id_{}.txt\".format(str(pop_id))\n",
    "    with open(path + filename, \"r\") as f:\n",
    "        filteredtext = f.read()\n",
    "    filteredtext_split = filteredtext.split()\n",
    "    inxs = [t[0] for t in enumerate(filteredtext_split) if re.search(\"populis\", t[1], re.IGNORECASE)]\n",
    "    return inxs\n",
    "articles_metadata[\"populism_inxs\"] = articles_metadata[\"pop_id\"].apply(extract_indeces)"
   ],
   "metadata": {
    "collapsed": false
   }
  },
  {
   "cell_type": "code",
   "execution_count": 63,
   "outputs": [
    {
     "data": {
      "text/plain": "0      [23, 37, 75, 178, 199, 225, 229, 231, 236, 302...\n1      [17, 26, 40, 49, 104, 128, 144, 145, 161, 223,...\n2      [4, 19, 59, 100, 125, 339, 466, 541, 633, 673,...\n3      [65, 125, 142, 195, 225, 254, 282, 304, 313, 3...\n4              [249, 2269, 3843, 3951, 4395, 4437, 4558]\n                             ...                        \n537                               [133, 216, 2402, 3622]\n538    [483, 493, 501, 523, 687, 1104, 1138, 1151, 11...\n539    [20, 66, 285, 355, 361, 421, 609, 620, 680, 72...\n540    [41, 177, 199, 240, 828, 855, 974, 1515, 2746,...\n541    [2, 8, 12, 66, 81, 95, 100, 117, 139, 148, 178...\nName: populism_inxs, Length: 537, dtype: object"
     },
     "execution_count": 63,
     "metadata": {},
     "output_type": "execute_result"
    }
   ],
   "source": [
    "articles_metadata[\"populism_inxs\"]"
   ],
   "metadata": {
    "collapsed": false
   }
  },
  {
   "cell_type": "code",
   "execution_count": 64,
   "outputs": [],
   "source": [
    "articles_metadata[\"populis*_N\"] = articles_metadata[\"populism_inxs\"].apply(len)"
   ],
   "metadata": {
    "collapsed": false
   }
  },
  {
   "cell_type": "code",
   "execution_count": 65,
   "outputs": [
    {
     "data": {
      "text/plain": "41084"
     },
     "execution_count": 65,
     "metadata": {},
     "output_type": "execute_result"
    }
   ],
   "source": [
    "articles_metadata[\"populis*_N\"].sum()"
   ],
   "metadata": {
    "collapsed": false
   }
  },
  {
   "cell_type": "code",
   "execution_count": 127,
   "outputs": [],
   "source": [
    "replace_tups = [\n",
    "    (\"populists\", \"populis*\"),\n",
    "    (\"populisms\", \"populis*\"),\n",
    "    (\"populist\", \"populis*\"),\n",
    "    (\"populism\", \"populis*\"),\n",
    "]\n",
    "def clean_conc(conc_string):\n",
    "    conc_cleaned = \" \".join([re.sub(\"\\W\", \"\", w, count=10) for w in conc_string.lower().split()])\n",
    "    conc_cleaned = re.sub(\"\\d+\", \"\", conc_cleaned, count=10)\n",
    "    #conc_cleaned = conc_cleaned.lower().translate(str.maketrans(\"\", \"\", string.punctuation))\n",
    "    for tup in replace_tups:\n",
    "        conc_cleaned = conc_cleaned.replace(tup[0], tup[1])\n",
    "    return conc_cleaned"
   ],
   "metadata": {
    "collapsed": false
   }
  },
  {
   "cell_type": "code",
   "execution_count": 128,
   "outputs": [
    {
     "data": {
      "text/plain": "'rightwing populis*'"
     },
     "execution_count": 128,
     "metadata": {},
     "output_type": "execute_result"
    }
   ],
   "source": [
    "clean_conc(\"4right-wing populists.12@#`^&\")"
   ],
   "metadata": {
    "collapsed": false
   }
  },
  {
   "cell_type": "code",
   "execution_count": 129,
   "outputs": [],
   "source": [
    "def get_concordance(row, left=1, right=1):\n",
    "    pop_id = row[\"pop_id\"]\n",
    "    path = \"../data/large_data/articles_filteredtexts/\"\n",
    "    filename = \"filteredtext_pop_id_{}.txt\".format(str(pop_id))\n",
    "    with open(path + filename, \"r\") as f:\n",
    "        filteredtext = f.read()\n",
    "    filteredtext_split = filteredtext.split()\n",
    "    inxs = row[\"populism_inxs\"]\n",
    "    conc_data = [clean_conc(\" \".join(filteredtext_split[i-left: i+right+1])) for i in inxs]\n",
    "    return conc_data"
   ],
   "metadata": {
    "collapsed": false
   }
  },
  {
   "cell_type": "code",
   "execution_count": 130,
   "outputs": [],
   "source": [
    "articles_metadata[\"conc_left1\"] = articles_metadata.apply(lambda row: get_concordance(row, left=1, right=0), axis=1)\n",
    "articles_metadata[\"conc_right1\"] = articles_metadata.apply(lambda row: get_concordance(row, left=0, right=1), axis=1)"
   ],
   "metadata": {
    "collapsed": false
   }
  },
  {
   "cell_type": "code",
   "execution_count": 131,
   "outputs": [
    {
     "data": {
      "text/plain": "     year                 authors                                journal  \\\n0    2011              Bos et al.                Political Communication   \n1    2019         Blassnig et al.                Political Communication   \n2    2017                Caramani      American Political Science Review   \n3    2020  Wuttke,Schimpf, Schoen      American Political Science Review   \n4    2014                   Treib      Journal of European Public Policy   \n..    ...                     ...                                    ...   \n537  2018          Grzymala-Busse                        Current History   \n538  2017             Eichengreen                        Current History   \n539  2014                   Mudde                        Current History   \n540  2020                    Cano             European History Quarterly   \n541  2015                Lindgren  Japanese Journal of Political Science   \n\n                                                 title     type pdf? keywords  \\\n0    How the Media Shape Perceptions of Right-Wing ...  article    y        y   \n1    Hitting a Nerve: Populist News Articles Lead t...  article    y        y   \n2    Will vs. Reason: The Populist and Technocratic...  article    y        y   \n3    When the Whole Is Greater than the Sum of Its ...  article    y        y   \n4    The voter says no, but nobody listens: causes ...  article    y        y   \n..                                                 ...      ...  ...      ...   \n537                      Poland’s Path to Illiberalism  article    y        y   \n538             The Populist Turn in American Politics  article    y        y   \n539           The Far Right and the European Elections  article    y        y   \n540                                Printing the People  article    y        y   \n541  Developing Japanese Populism Research through ...  article    y        y   \n\n    keywords_online? notes                                           filepath  \\\n0                  y  None  [Political Communication/2011 - Bos et al. - H...   \n1                  y  None  [Political Communication/2019 - Blassing et al...   \n2               None  None  [American Political Science Review/2017 - Cara...   \n3               None  None  [American Political Science Review/2020 - Wutt...   \n4               None  None  [Journal of European Public Policy/2014 - Trei...   \n..               ...   ...                                                ...   \n537             None  None  [Current History/2018 - Grzymala-Busse - Polan...   \n538             None  None  [Current History/2017 - Eichengreen - The Popu...   \n539             None  None  [Current History/2014 - Mudde - The Far Right ...   \n540             None  None  [European History Quarterly/2020 - Cano - Prin...   \n541             None  None  [Japanese Journal of Political Science/2015 - ...   \n\n     pop_id                                      populism_inxs  populis*_N  \\\n0         0  [23, 37, 75, 178, 199, 225, 229, 231, 236, 302...         199   \n1         1  [17, 26, 40, 49, 104, 128, 144, 145, 161, 223,...         222   \n2         2  [4, 19, 59, 100, 125, 339, 466, 541, 633, 673,...         117   \n3         3  [65, 125, 142, 195, 225, 254, 282, 304, 313, 3...         296   \n4         4          [249, 2269, 3843, 3951, 4395, 4437, 4558]           7   \n..      ...                                                ...         ...   \n537     537                             [133, 216, 2402, 3622]           4   \n538     538  [483, 493, 501, 523, 687, 1104, 1138, 1151, 11...          20   \n539     539  [20, 66, 285, 355, 361, 421, 609, 620, 680, 72...          17   \n540     540  [41, 177, 199, 240, 828, 855, 974, 1515, 2746,...          39   \n541     541  [2, 8, 12, 66, 81, 95, 100, 117, 139, 148, 178...         282   \n\n                                            conc_left1  \\\n0    [rightwing populis*, rightwing populis*, right...   \n1    [nerve populis*, more populis*, of populis*, h...   \n2    [analytically populis*, that populis*, both po...   \n3    [of populis*, both conceptuallyandempiricallyt...   \n4    [euroscepticism populis*, on populis*, on popu...   \n..                                                 ...   \n537  [illiberal populis*, of populis*, often populi...   \n538  [new populis*, old populis*, the populis*,  po...   \n539  [antieuropean populis*, european populis*, ant...   \n540  [this populis*, nationalism populis*, photogra...   \n541  [japanese populis*, european populis*, studies...   \n\n                                           conc_right1  \\\n0    [populis* leaders, populis* party, populis* le...   \n1    [populis* news, populis* reader, populis* comm...   \n2    [populis* and, populis* and, populis* and, pop...   \n3    [populis* attitudes, conceptuallyandempiricall...   \n4    [populis* secondorder, populis* and, populis* ...   \n..                                                 ...   \n537  [populis* it, populis* pis, populis* and, popu...   \n538  [populis* bears, populis* of, populis* revolt,...   \n539  [populis* in, populis* backlash, populis* are,...   \n540  [populis* nationalism, populis* and, populis* ...   \n541  [populis* research, populis* radical, populis*...   \n\n                                conc_left1_interesting  \n0    {'rightwing populis*': 109, 'leftwing populis*...  \n1    {'rightwing populis*': 3, 'leftwing populis*':...  \n2    {'rightwing populis*': 2, 'leftwing populis*':...  \n3    {'rightwing populis*': 0, 'leftwing populis*':...  \n4    {'rightwing populis*': 0, 'leftwing populis*':...  \n..                                                 ...  \n537  {'rightwing populis*': 0, 'leftwing populis*':...  \n538  {'rightwing populis*': 0, 'leftwing populis*':...  \n539  {'rightwing populis*': 0, 'leftwing populis*':...  \n540  {'rightwing populis*': 0, 'leftwing populis*':...  \n541  {'rightwing populis*': 6, 'leftwing populis*':...  \n\n[537 rows x 16 columns]",
      "text/html": "<div>\n<style scoped>\n    .dataframe tbody tr th:only-of-type {\n        vertical-align: middle;\n    }\n\n    .dataframe tbody tr th {\n        vertical-align: top;\n    }\n\n    .dataframe thead th {\n        text-align: right;\n    }\n</style>\n<table border=\"1\" class=\"dataframe\">\n  <thead>\n    <tr style=\"text-align: right;\">\n      <th></th>\n      <th>year</th>\n      <th>authors</th>\n      <th>journal</th>\n      <th>title</th>\n      <th>type</th>\n      <th>pdf?</th>\n      <th>keywords</th>\n      <th>keywords_online?</th>\n      <th>notes</th>\n      <th>filepath</th>\n      <th>pop_id</th>\n      <th>populism_inxs</th>\n      <th>populis*_N</th>\n      <th>conc_left1</th>\n      <th>conc_right1</th>\n      <th>conc_left1_interesting</th>\n    </tr>\n  </thead>\n  <tbody>\n    <tr>\n      <th>0</th>\n      <td>2011</td>\n      <td>Bos et al.</td>\n      <td>Political Communication</td>\n      <td>How the Media Shape Perceptions of Right-Wing ...</td>\n      <td>article</td>\n      <td>y</td>\n      <td>y</td>\n      <td>y</td>\n      <td>None</td>\n      <td>[Political Communication/2011 - Bos et al. - H...</td>\n      <td>0</td>\n      <td>[23, 37, 75, 178, 199, 225, 229, 231, 236, 302...</td>\n      <td>199</td>\n      <td>[rightwing populis*, rightwing populis*, right...</td>\n      <td>[populis* leaders, populis* party, populis* le...</td>\n      <td>{'rightwing populis*': 109, 'leftwing populis*...</td>\n    </tr>\n    <tr>\n      <th>1</th>\n      <td>2019</td>\n      <td>Blassnig et al.</td>\n      <td>Political Communication</td>\n      <td>Hitting a Nerve: Populist News Articles Lead t...</td>\n      <td>article</td>\n      <td>y</td>\n      <td>y</td>\n      <td>y</td>\n      <td>None</td>\n      <td>[Political Communication/2019 - Blassing et al...</td>\n      <td>1</td>\n      <td>[17, 26, 40, 49, 104, 128, 144, 145, 161, 223,...</td>\n      <td>222</td>\n      <td>[nerve populis*, more populis*, of populis*, h...</td>\n      <td>[populis* news, populis* reader, populis* comm...</td>\n      <td>{'rightwing populis*': 3, 'leftwing populis*':...</td>\n    </tr>\n    <tr>\n      <th>2</th>\n      <td>2017</td>\n      <td>Caramani</td>\n      <td>American Political Science Review</td>\n      <td>Will vs. Reason: The Populist and Technocratic...</td>\n      <td>article</td>\n      <td>y</td>\n      <td>y</td>\n      <td>None</td>\n      <td>None</td>\n      <td>[American Political Science Review/2017 - Cara...</td>\n      <td>2</td>\n      <td>[4, 19, 59, 100, 125, 339, 466, 541, 633, 673,...</td>\n      <td>117</td>\n      <td>[analytically populis*, that populis*, both po...</td>\n      <td>[populis* and, populis* and, populis* and, pop...</td>\n      <td>{'rightwing populis*': 2, 'leftwing populis*':...</td>\n    </tr>\n    <tr>\n      <th>3</th>\n      <td>2020</td>\n      <td>Wuttke,Schimpf, Schoen</td>\n      <td>American Political Science Review</td>\n      <td>When the Whole Is Greater than the Sum of Its ...</td>\n      <td>article</td>\n      <td>y</td>\n      <td>y</td>\n      <td>None</td>\n      <td>None</td>\n      <td>[American Political Science Review/2020 - Wutt...</td>\n      <td>3</td>\n      <td>[65, 125, 142, 195, 225, 254, 282, 304, 313, 3...</td>\n      <td>296</td>\n      <td>[of populis*, both conceptuallyandempiricallyt...</td>\n      <td>[populis* attitudes, conceptuallyandempiricall...</td>\n      <td>{'rightwing populis*': 0, 'leftwing populis*':...</td>\n    </tr>\n    <tr>\n      <th>4</th>\n      <td>2014</td>\n      <td>Treib</td>\n      <td>Journal of European Public Policy</td>\n      <td>The voter says no, but nobody listens: causes ...</td>\n      <td>article</td>\n      <td>y</td>\n      <td>y</td>\n      <td>None</td>\n      <td>None</td>\n      <td>[Journal of European Public Policy/2014 - Trei...</td>\n      <td>4</td>\n      <td>[249, 2269, 3843, 3951, 4395, 4437, 4558]</td>\n      <td>7</td>\n      <td>[euroscepticism populis*, on populis*, on popu...</td>\n      <td>[populis* secondorder, populis* and, populis* ...</td>\n      <td>{'rightwing populis*': 0, 'leftwing populis*':...</td>\n    </tr>\n    <tr>\n      <th>...</th>\n      <td>...</td>\n      <td>...</td>\n      <td>...</td>\n      <td>...</td>\n      <td>...</td>\n      <td>...</td>\n      <td>...</td>\n      <td>...</td>\n      <td>...</td>\n      <td>...</td>\n      <td>...</td>\n      <td>...</td>\n      <td>...</td>\n      <td>...</td>\n      <td>...</td>\n      <td>...</td>\n    </tr>\n    <tr>\n      <th>537</th>\n      <td>2018</td>\n      <td>Grzymala-Busse</td>\n      <td>Current History</td>\n      <td>Poland’s Path to Illiberalism</td>\n      <td>article</td>\n      <td>y</td>\n      <td>y</td>\n      <td>None</td>\n      <td>None</td>\n      <td>[Current History/2018 - Grzymala-Busse - Polan...</td>\n      <td>537</td>\n      <td>[133, 216, 2402, 3622]</td>\n      <td>4</td>\n      <td>[illiberal populis*, of populis*, often populi...</td>\n      <td>[populis* it, populis* pis, populis* and, popu...</td>\n      <td>{'rightwing populis*': 0, 'leftwing populis*':...</td>\n    </tr>\n    <tr>\n      <th>538</th>\n      <td>2017</td>\n      <td>Eichengreen</td>\n      <td>Current History</td>\n      <td>The Populist Turn in American Politics</td>\n      <td>article</td>\n      <td>y</td>\n      <td>y</td>\n      <td>None</td>\n      <td>None</td>\n      <td>[Current History/2017 - Eichengreen - The Popu...</td>\n      <td>538</td>\n      <td>[483, 493, 501, 523, 687, 1104, 1138, 1151, 11...</td>\n      <td>20</td>\n      <td>[new populis*, old populis*, the populis*,  po...</td>\n      <td>[populis* bears, populis* of, populis* revolt,...</td>\n      <td>{'rightwing populis*': 0, 'leftwing populis*':...</td>\n    </tr>\n    <tr>\n      <th>539</th>\n      <td>2014</td>\n      <td>Mudde</td>\n      <td>Current History</td>\n      <td>The Far Right and the European Elections</td>\n      <td>article</td>\n      <td>y</td>\n      <td>y</td>\n      <td>None</td>\n      <td>None</td>\n      <td>[Current History/2014 - Mudde - The Far Right ...</td>\n      <td>539</td>\n      <td>[20, 66, 285, 355, 361, 421, 609, 620, 680, 72...</td>\n      <td>17</td>\n      <td>[antieuropean populis*, european populis*, ant...</td>\n      <td>[populis* in, populis* backlash, populis* are,...</td>\n      <td>{'rightwing populis*': 0, 'leftwing populis*':...</td>\n    </tr>\n    <tr>\n      <th>540</th>\n      <td>2020</td>\n      <td>Cano</td>\n      <td>European History Quarterly</td>\n      <td>Printing the People</td>\n      <td>article</td>\n      <td>y</td>\n      <td>y</td>\n      <td>None</td>\n      <td>None</td>\n      <td>[European History Quarterly/2020 - Cano - Prin...</td>\n      <td>540</td>\n      <td>[41, 177, 199, 240, 828, 855, 974, 1515, 2746,...</td>\n      <td>39</td>\n      <td>[this populis*, nationalism populis*, photogra...</td>\n      <td>[populis* nationalism, populis* and, populis* ...</td>\n      <td>{'rightwing populis*': 0, 'leftwing populis*':...</td>\n    </tr>\n    <tr>\n      <th>541</th>\n      <td>2015</td>\n      <td>Lindgren</td>\n      <td>Japanese Journal of Political Science</td>\n      <td>Developing Japanese Populism Research through ...</td>\n      <td>article</td>\n      <td>y</td>\n      <td>y</td>\n      <td>None</td>\n      <td>None</td>\n      <td>[Japanese Journal of Political Science/2015 - ...</td>\n      <td>541</td>\n      <td>[2, 8, 12, 66, 81, 95, 100, 117, 139, 148, 178...</td>\n      <td>282</td>\n      <td>[japanese populis*, european populis*, studies...</td>\n      <td>[populis* research, populis* radical, populis*...</td>\n      <td>{'rightwing populis*': 6, 'leftwing populis*':...</td>\n    </tr>\n  </tbody>\n</table>\n<p>537 rows × 16 columns</p>\n</div>"
     },
     "execution_count": 131,
     "metadata": {},
     "output_type": "execute_result"
    }
   ],
   "source": [
    "articles_metadata"
   ],
   "metadata": {
    "collapsed": false
   }
  },
  {
   "cell_type": "code",
   "execution_count": 132,
   "outputs": [],
   "source": [
    "conc_left1_all = []\n",
    "for conc_list in articles_metadata[\"conc_left1\"]:\n",
    "    conc_left1_all.extend(conc_list)"
   ],
   "metadata": {
    "collapsed": false
   }
  },
  {
   "cell_type": "code",
   "execution_count": 133,
   "outputs": [
    {
     "data": {
      "text/plain": "41084"
     },
     "execution_count": 133,
     "metadata": {},
     "output_type": "execute_result"
    }
   ],
   "source": [
    "len(conc_left1_all)"
   ],
   "metadata": {
    "collapsed": false
   }
  },
  {
   "cell_type": "code",
   "execution_count": 134,
   "outputs": [
    {
     "data": {
      "text/plain": "                     conc  count\n0             of populis*   7486\n1            the populis*   3217\n2      rightwing populis*   1680\n3           that populis*   1415\n4              a populis*   1382\n..                    ...    ...\n95       however populis*     37\n96     illiberal populis*     37\n97          such populis*     36\n98           but populis*     36\n99  pretreatment populis*     36\n\n[100 rows x 2 columns]",
      "text/html": "<div>\n<style scoped>\n    .dataframe tbody tr th:only-of-type {\n        vertical-align: middle;\n    }\n\n    .dataframe tbody tr th {\n        vertical-align: top;\n    }\n\n    .dataframe thead th {\n        text-align: right;\n    }\n</style>\n<table border=\"1\" class=\"dataframe\">\n  <thead>\n    <tr style=\"text-align: right;\">\n      <th></th>\n      <th>conc</th>\n      <th>count</th>\n    </tr>\n  </thead>\n  <tbody>\n    <tr>\n      <th>0</th>\n      <td>of populis*</td>\n      <td>7486</td>\n    </tr>\n    <tr>\n      <th>1</th>\n      <td>the populis*</td>\n      <td>3217</td>\n    </tr>\n    <tr>\n      <th>2</th>\n      <td>rightwing populis*</td>\n      <td>1680</td>\n    </tr>\n    <tr>\n      <th>3</th>\n      <td>that populis*</td>\n      <td>1415</td>\n    </tr>\n    <tr>\n      <th>4</th>\n      <td>a populis*</td>\n      <td>1382</td>\n    </tr>\n    <tr>\n      <th>...</th>\n      <td>...</td>\n      <td>...</td>\n    </tr>\n    <tr>\n      <th>95</th>\n      <td>however populis*</td>\n      <td>37</td>\n    </tr>\n    <tr>\n      <th>96</th>\n      <td>illiberal populis*</td>\n      <td>37</td>\n    </tr>\n    <tr>\n      <th>97</th>\n      <td>such populis*</td>\n      <td>36</td>\n    </tr>\n    <tr>\n      <th>98</th>\n      <td>but populis*</td>\n      <td>36</td>\n    </tr>\n    <tr>\n      <th>99</th>\n      <td>pretreatment populis*</td>\n      <td>36</td>\n    </tr>\n  </tbody>\n</table>\n<p>100 rows × 2 columns</p>\n</div>"
     },
     "execution_count": 134,
     "metadata": {},
     "output_type": "execute_result"
    }
   ],
   "source": [
    "conc_left1_all_df = pd.DataFrame(nltk.FreqDist(conc_left1_all).most_common(), columns=[\"conc\", \"count\"])\n",
    "conc_left1_all_df[:100]"
   ],
   "metadata": {
    "collapsed": false
   }
  },
  {
   "cell_type": "code",
   "execution_count": 137,
   "outputs": [],
   "source": [
    "google_conf.set_with_dataframe(pop_data.add_worksheet(\"conc_left1_v3\", 1,1), conc_left1_all_df)"
   ],
   "metadata": {
    "collapsed": false
   }
  },
  {
   "cell_type": "code",
   "execution_count": 138,
   "outputs": [
    {
     "data": {
      "text/plain": "['rightwing populis*',\n 'leftwing populis*',\n 'right populis*',\n 'american populis*',\n 'left populis*',\n 'new populis*',\n 'european populis*',\n 'contemporary populis*',\n 'radical populis*',\n 'authoritarian populis*',\n 'class populis*',\n 'strong populis*',\n 'exclusionary populis*',\n 'economic populis*',\n 'leftist populis*',\n 'political populis*',\n 'radicalright populis*',\n 'japanese populis*']"
     },
     "execution_count": 138,
     "metadata": {},
     "output_type": "execute_result"
    }
   ],
   "source": [
    "conc_left1_interesting = ['rightwing populis*', 'leftwing populis*', 'right populis*', 'american populis*', 'left populis*', 'new populis*', 'european populis*', 'contemporary populis*', 'radical populis*', 'authoritarian populis*', 'class populis*', 'strong populis*', 'exclusionary populis*', 'economic populis*', 'leftist populis*', 'political populis*', 'radicalright populis*', 'japanese populis*']\n",
    "conc_left1_interesting"
   ],
   "metadata": {
    "collapsed": false
   }
  },
  {
   "cell_type": "code",
   "execution_count": 139,
   "outputs": [
    {
     "data": {
      "text/plain": "                      conc  count\n2       rightwing populis*   1680\n14       leftwing populis*    388\n16          right populis*    223\n17       american populis*    221\n21            new populis*    165\n22           left populis*    160\n25       european populis*    130\n26   contemporary populis*    126\n35  authoritarian populis*     96\n40        radical populis*     85\n44   exclusionary populis*     80\n55          class populis*     71\n57       economic populis*     65\n62         strong populis*     61\n65        leftist populis*     60\n68      political populis*     57\n77   radicalright populis*     50\n78       japanese populis*     50",
      "text/html": "<div>\n<style scoped>\n    .dataframe tbody tr th:only-of-type {\n        vertical-align: middle;\n    }\n\n    .dataframe tbody tr th {\n        vertical-align: top;\n    }\n\n    .dataframe thead th {\n        text-align: right;\n    }\n</style>\n<table border=\"1\" class=\"dataframe\">\n  <thead>\n    <tr style=\"text-align: right;\">\n      <th></th>\n      <th>conc</th>\n      <th>count</th>\n    </tr>\n  </thead>\n  <tbody>\n    <tr>\n      <th>2</th>\n      <td>rightwing populis*</td>\n      <td>1680</td>\n    </tr>\n    <tr>\n      <th>14</th>\n      <td>leftwing populis*</td>\n      <td>388</td>\n    </tr>\n    <tr>\n      <th>16</th>\n      <td>right populis*</td>\n      <td>223</td>\n    </tr>\n    <tr>\n      <th>17</th>\n      <td>american populis*</td>\n      <td>221</td>\n    </tr>\n    <tr>\n      <th>21</th>\n      <td>new populis*</td>\n      <td>165</td>\n    </tr>\n    <tr>\n      <th>22</th>\n      <td>left populis*</td>\n      <td>160</td>\n    </tr>\n    <tr>\n      <th>25</th>\n      <td>european populis*</td>\n      <td>130</td>\n    </tr>\n    <tr>\n      <th>26</th>\n      <td>contemporary populis*</td>\n      <td>126</td>\n    </tr>\n    <tr>\n      <th>35</th>\n      <td>authoritarian populis*</td>\n      <td>96</td>\n    </tr>\n    <tr>\n      <th>40</th>\n      <td>radical populis*</td>\n      <td>85</td>\n    </tr>\n    <tr>\n      <th>44</th>\n      <td>exclusionary populis*</td>\n      <td>80</td>\n    </tr>\n    <tr>\n      <th>55</th>\n      <td>class populis*</td>\n      <td>71</td>\n    </tr>\n    <tr>\n      <th>57</th>\n      <td>economic populis*</td>\n      <td>65</td>\n    </tr>\n    <tr>\n      <th>62</th>\n      <td>strong populis*</td>\n      <td>61</td>\n    </tr>\n    <tr>\n      <th>65</th>\n      <td>leftist populis*</td>\n      <td>60</td>\n    </tr>\n    <tr>\n      <th>68</th>\n      <td>political populis*</td>\n      <td>57</td>\n    </tr>\n    <tr>\n      <th>77</th>\n      <td>radicalright populis*</td>\n      <td>50</td>\n    </tr>\n    <tr>\n      <th>78</th>\n      <td>japanese populis*</td>\n      <td>50</td>\n    </tr>\n  </tbody>\n</table>\n</div>"
     },
     "execution_count": 139,
     "metadata": {},
     "output_type": "execute_result"
    }
   ],
   "source": [
    "conc_left1_interesting_df = conc_left1_all_df[conc_left1_all_df[\"conc\"].isin(conc_left1_interesting)]\n",
    "conc_left1_interesting_df"
   ],
   "metadata": {
    "collapsed": false
   }
  },
  {
   "cell_type": "code",
   "execution_count": 141,
   "outputs": [],
   "source": [
    "google_conf.set_with_dataframe(pop_data.add_worksheet(\"conc_left1_interesting_v2\",1,1), conc_left1_interesting_df)"
   ],
   "metadata": {
    "collapsed": false
   }
  },
  {
   "cell_type": "code",
   "execution_count": 142,
   "outputs": [],
   "source": [
    "def ectract_counts_of_interesting(list_of_concs):\n",
    "    conc_count_dict = dict([(conc, list_of_concs.count(conc)) for conc in conc_left1_interesting])\n",
    "    return conc_count_dict\n",
    "articles_metadata[\"conc_left1_interesting\"] = articles_metadata[\"conc_left1\"].apply(ectract_counts_of_interesting)"
   ],
   "metadata": {
    "collapsed": false
   }
  },
  {
   "cell_type": "code",
   "execution_count": 143,
   "outputs": [
    {
     "data": {
      "text/plain": "    year                 authors                                      journal  \\\n0   2011              Bos et al.                      Political Communication   \n1   2019         Blassnig et al.                      Political Communication   \n2   2017                Caramani            American Political Science Review   \n3   2020  Wuttke,Schimpf, Schoen            American Political Science Review   \n4   2014                   Treib            Journal of European Public Policy   \n5   2016                  Hobolt            Journal of European Public Policy   \n6   2018          Kreuder-Sonnen            Journal of European Public Policy   \n7   2019       McDonnell, Werner            Journal of European Public Policy   \n8   2019                 Schmidt            Journal of European Public Policy   \n9   2020           Bakker et al.            Journal of European Public Policy   \n10  2020           Bisbee et al.            Journal of European Public Policy   \n11  2020                Escartin            Journal of European Public Policy   \n12  2020      Spencer, Oppermann            Journal of European Public Policy   \n13  2018                Lockwood                       Environmental Politics   \n14  2020                   Huber                       Environmental Politics   \n15  2018                 Hurrell               Ethics & International Affairs   \n16  2015        Verbeek, Zaslove            European Political Science Review   \n17  2018                Rooduijn            European Political Science Review   \n18  2018                 Micozzi            European Political Science Review   \n19  2018            Bobba et al.  The International Journal of Press/Politics   \n\n                                                title     type pdf? keywords  \\\n0   How the Media Shape Perceptions of Right-Wing ...  article    y        y   \n1   Hitting a Nerve: Populist News Articles Lead t...  article    y        y   \n2   Will vs. Reason: The Populist and Technocratic...  article    y        y   \n3   When the Whole Is Greater than the Sum of Its ...  article    y        y   \n4   The voter says no, but nobody listens: causes ...  article    y        y   \n5   The Brexit vote: a divided nation, a divided c...  article    y        y   \n6   An authoritarian turn in Europe and European S...  article    y        y   \n7   Differently Eurosceptic: radical right populis...  article    y        y   \n8   Politicization in the EU: between national pol...  article    y        y   \n9   Multidimensional incongruence, political disaf...  article    y        y   \n10  Decompensating domestically: the political eco...  article    y        y   \n11  Populist challenges to EU foreign policy in th...  article    y        y   \n12  Narrative genres of Brexit: the Leave campaign...  article    y        y   \n13  Right-wing populism and the climate change age...  article    y        y   \n14  The role of populist attitudes in explaining c...  article    y        y   \n15  Beyond the BRICS: Power, Pluralism, and the Fu...  article    y        y   \n16  The impact of populist radical right parties o...  article    y        y   \n17  What unites the voter bases of populist partie...  article    y        y   \n18  Division or Union of Labor?Analyzing Workers’ ...  article    y        y   \n19  Populism and the Gender Gap: Comparing Digital...  article    y        y   \n\n   keywords_online? notes                                           filepath  \\\n0                 y  None  [Political Communication/2011 - Bos et al. - H...   \n1                 y  None  [Political Communication/2019 - Blassing et al...   \n2              None  None  [American Political Science Review/2017 - Cara...   \n3              None  None  [American Political Science Review/2020 - Wutt...   \n4              None  None  [Journal of European Public Policy/2014 - Trei...   \n5              None  None  [Journal of European Public Policy/2016 - Hobo...   \n6              None  None  [Journal of European Public Policy/2018 - Kreu...   \n7              None  None  [Journal of European Public Policy/2019 - McDo...   \n8              None  None  [Journal of European Public Policy/2019 - Schm...   \n9              None  None  [Journal of European Public Policy/2020 - Bakk...   \n10             None  None  [Journal of European Public Policy/2020 - Bisb...   \n11             None  None  [Journal of European Public Policy/2020 - Esca...   \n12             None  None  [Journal of European Public Policy/2020 - Spen...   \n13             None  None  [Environmental Politics/2018 - Lockwood - Righ...   \n14             None  None  [Environmental Politics/2020 - Huber - The rol...   \n15                y  None  [Ethics & International Affairs/2018 - Hurrell...   \n16             None  None  [European Political Science Review/2014 - Verb...   \n17             None  None  [European Political Science Review/2018 - Rood...   \n18             None  None  [European Political Science Review/2018 - Mico...   \n19             None  None  [International Journal of Press-Politics/2018 ...   \n\n    pop_id                                      populism_inxs  populis*_N  \\\n0        0  [23, 37, 75, 178, 199, 225, 229, 231, 236, 302...         199   \n1        1  [17, 26, 40, 49, 104, 128, 144, 145, 161, 223,...         222   \n2        2  [4, 19, 59, 100, 125, 339, 466, 541, 633, 673,...         117   \n3        3  [65, 125, 142, 195, 225, 254, 282, 304, 313, 3...         296   \n4        4          [249, 2269, 3843, 3951, 4395, 4437, 4558]           7   \n5        5  [153, 515, 717, 923, 3225, 3259, 3816, 4125, 4...          17   \n6        6  [121, 183, 518, 529, 648, 678, 1712, 2347, 249...          25   \n7        7  [14, 35, 186, 199, 249, 286, 396, 517, 563, 76...          23   \n8        8  [52, 212, 423, 593, 1470, 1968, 2056, 2123, 24...          14   \n9        9  [197, 1043, 1473, 1595, 1664, 3255, 3287, 3295...          13   \n10      10  [102, 225, 523, 857, 1387, 1401, 1456, 1538, 1...          11   \n11      11  [8, 33, 80, 114, 162, 193, 211, 294, 2020, 216...          14   \n12      12  [189, 195, 208, 6382, 6424, 6437, 6448, 6474, ...          12   \n13      13  [8, 28, 83, 95, 176, 183, 414, 498, 629, 650, ...          50   \n14      14  [11, 81, 89, 139, 150, 630, 695, 712, 723, 746...         137   \n15      15  [995, 2301, 2798, 2825, 3074, 3104, 3233, 3267...           9   \n16      16  [2, 251, 252, 261, 748, 1186, 1298, 1299, 1347...          23   \n17      17  [9, 63, 70, 89, 108, 143, 149, 165, 192, 260, ...         185   \n18      18  [56, 100, 138, 345, 363, 674, 2065, 2087, 2184...          18   \n19      19  [23, 32, 34, 61, 89, 91, 164, 170, 173, 179, 1...         229   \n\n                                           conc_left1  \\\n0   [rightwing populis*, rightwing populis*, right...   \n1   [nerve populis*, more populis*, of populis*, h...   \n2   [analytically populis*, that populis*, both po...   \n3   [of populis*, both conceptuallyandempiricallyt...   \n4   [euroscepticism populis*, on populis*, on popu...   \n5   [euroscepticism populis*, of populis*, the pop...   \n6   [nationalist populis*, legitimacy populis*, na...   \n7   [right populis*, right populis*, right populis...   \n8   [euroskeptic populis*, commission populis*, by...   \n9   [representation populis*, for populis*, for po...   \n10  [of populis*, keywords populis*, farright popu...   \n11  [ populis*, abstract populis*, extent populis*...   \n12  [and populis*, enables populis*, brexit populi...   \n13  [rightwing populis*, rightwing populis*, on po...   \n14  [of populis*, between populis*, protection pop...   \n15  [and populis*, propelled populis*nationalism, ...   \n16  [the populis*, policy populis*, populis* popul...   \n17  [european populis*, about populis*, of populis...   \n18  [broad populis*, the populis*, argentina popul...   \n19  [article populis*, with populis*, and nonpopul...   \n\n                                          conc_right1  \\\n0   [populis* leaders, populis* party, populis* le...   \n1   [populis* news, populis* reader, populis* comm...   \n2   [populis* and, populis* and, populis* and, pop...   \n3   [populis* attitudes, conceptuallyandempiricall...   \n4   [populis* secondorder, populis* and, populis* ...   \n5   [populis* referendum, populis* parties, populi...   \n6   [populis* have, populis* introduction, populis...   \n7   [populis* parties, populis* rrp, populis* intr...   \n8   [populis* or, populis* eurozone, populis* chal...   \n9   [populis* research, populis* radical, populis*...   \n10  [populis* across, populis* free, populis* part...   \n11  [populis* challenges, populis* parties, populi...   \n12  [populis* narratives, populis* to, populis* it...   \n13  [populis* and, populis* rwp, populis* one, pop...   \n14  [populis* attitudes, populis* climate, populis...   \n15  [populis* nationalism, populis*nationalism and...   \n16  [populis* radical, populis* populis*, populis*...   \n17  [populis* parties, populis* voters, populis* p...   \n18  [populis* party, populis* party, populis* repr...   \n19  [populis* and, populis* and, nonpopulis* faceb...   \n\n                               conc_left1_interesting  \n0   {'rightwing populis*': 111, 'leftwing populis*...  \n1   {'rightwing populis*': 3, 'leftwing populis*':...  \n2   {'rightwing populis*': 2, 'leftwing populis*':...  \n3   {'rightwing populis*': 0, 'leftwing populis*':...  \n4   {'rightwing populis*': 0, 'leftwing populis*':...  \n5   {'rightwing populis*': 0, 'leftwing populis*':...  \n6   {'rightwing populis*': 2, 'leftwing populis*':...  \n7   {'rightwing populis*': 1, 'leftwing populis*':...  \n8   {'rightwing populis*': 0, 'leftwing populis*':...  \n9   {'rightwing populis*': 0, 'leftwing populis*':...  \n10  {'rightwing populis*': 5, 'leftwing populis*':...  \n11  {'rightwing populis*': 1, 'leftwing populis*':...  \n12  {'rightwing populis*': 0, 'leftwing populis*':...  \n13  {'rightwing populis*': 6, 'leftwing populis*':...  \n14  {'rightwing populis*': 6, 'leftwing populis*':...  \n15  {'rightwing populis*': 0, 'leftwing populis*':...  \n16  {'rightwing populis*': 0, 'leftwing populis*':...  \n17  {'rightwing populis*': 0, 'leftwing populis*':...  \n18  {'rightwing populis*': 0, 'leftwing populis*':...  \n19  {'rightwing populis*': 4, 'leftwing populis*':...  ",
      "text/html": "<div>\n<style scoped>\n    .dataframe tbody tr th:only-of-type {\n        vertical-align: middle;\n    }\n\n    .dataframe tbody tr th {\n        vertical-align: top;\n    }\n\n    .dataframe thead th {\n        text-align: right;\n    }\n</style>\n<table border=\"1\" class=\"dataframe\">\n  <thead>\n    <tr style=\"text-align: right;\">\n      <th></th>\n      <th>year</th>\n      <th>authors</th>\n      <th>journal</th>\n      <th>title</th>\n      <th>type</th>\n      <th>pdf?</th>\n      <th>keywords</th>\n      <th>keywords_online?</th>\n      <th>notes</th>\n      <th>filepath</th>\n      <th>pop_id</th>\n      <th>populism_inxs</th>\n      <th>populis*_N</th>\n      <th>conc_left1</th>\n      <th>conc_right1</th>\n      <th>conc_left1_interesting</th>\n    </tr>\n  </thead>\n  <tbody>\n    <tr>\n      <th>0</th>\n      <td>2011</td>\n      <td>Bos et al.</td>\n      <td>Political Communication</td>\n      <td>How the Media Shape Perceptions of Right-Wing ...</td>\n      <td>article</td>\n      <td>y</td>\n      <td>y</td>\n      <td>y</td>\n      <td>None</td>\n      <td>[Political Communication/2011 - Bos et al. - H...</td>\n      <td>0</td>\n      <td>[23, 37, 75, 178, 199, 225, 229, 231, 236, 302...</td>\n      <td>199</td>\n      <td>[rightwing populis*, rightwing populis*, right...</td>\n      <td>[populis* leaders, populis* party, populis* le...</td>\n      <td>{'rightwing populis*': 111, 'leftwing populis*...</td>\n    </tr>\n    <tr>\n      <th>1</th>\n      <td>2019</td>\n      <td>Blassnig et al.</td>\n      <td>Political Communication</td>\n      <td>Hitting a Nerve: Populist News Articles Lead t...</td>\n      <td>article</td>\n      <td>y</td>\n      <td>y</td>\n      <td>y</td>\n      <td>None</td>\n      <td>[Political Communication/2019 - Blassing et al...</td>\n      <td>1</td>\n      <td>[17, 26, 40, 49, 104, 128, 144, 145, 161, 223,...</td>\n      <td>222</td>\n      <td>[nerve populis*, more populis*, of populis*, h...</td>\n      <td>[populis* news, populis* reader, populis* comm...</td>\n      <td>{'rightwing populis*': 3, 'leftwing populis*':...</td>\n    </tr>\n    <tr>\n      <th>2</th>\n      <td>2017</td>\n      <td>Caramani</td>\n      <td>American Political Science Review</td>\n      <td>Will vs. Reason: The Populist and Technocratic...</td>\n      <td>article</td>\n      <td>y</td>\n      <td>y</td>\n      <td>None</td>\n      <td>None</td>\n      <td>[American Political Science Review/2017 - Cara...</td>\n      <td>2</td>\n      <td>[4, 19, 59, 100, 125, 339, 466, 541, 633, 673,...</td>\n      <td>117</td>\n      <td>[analytically populis*, that populis*, both po...</td>\n      <td>[populis* and, populis* and, populis* and, pop...</td>\n      <td>{'rightwing populis*': 2, 'leftwing populis*':...</td>\n    </tr>\n    <tr>\n      <th>3</th>\n      <td>2020</td>\n      <td>Wuttke,Schimpf, Schoen</td>\n      <td>American Political Science Review</td>\n      <td>When the Whole Is Greater than the Sum of Its ...</td>\n      <td>article</td>\n      <td>y</td>\n      <td>y</td>\n      <td>None</td>\n      <td>None</td>\n      <td>[American Political Science Review/2020 - Wutt...</td>\n      <td>3</td>\n      <td>[65, 125, 142, 195, 225, 254, 282, 304, 313, 3...</td>\n      <td>296</td>\n      <td>[of populis*, both conceptuallyandempiricallyt...</td>\n      <td>[populis* attitudes, conceptuallyandempiricall...</td>\n      <td>{'rightwing populis*': 0, 'leftwing populis*':...</td>\n    </tr>\n    <tr>\n      <th>4</th>\n      <td>2014</td>\n      <td>Treib</td>\n      <td>Journal of European Public Policy</td>\n      <td>The voter says no, but nobody listens: causes ...</td>\n      <td>article</td>\n      <td>y</td>\n      <td>y</td>\n      <td>None</td>\n      <td>None</td>\n      <td>[Journal of European Public Policy/2014 - Trei...</td>\n      <td>4</td>\n      <td>[249, 2269, 3843, 3951, 4395, 4437, 4558]</td>\n      <td>7</td>\n      <td>[euroscepticism populis*, on populis*, on popu...</td>\n      <td>[populis* secondorder, populis* and, populis* ...</td>\n      <td>{'rightwing populis*': 0, 'leftwing populis*':...</td>\n    </tr>\n    <tr>\n      <th>5</th>\n      <td>2016</td>\n      <td>Hobolt</td>\n      <td>Journal of European Public Policy</td>\n      <td>The Brexit vote: a divided nation, a divided c...</td>\n      <td>article</td>\n      <td>y</td>\n      <td>y</td>\n      <td>None</td>\n      <td>None</td>\n      <td>[Journal of European Public Policy/2016 - Hobo...</td>\n      <td>5</td>\n      <td>[153, 515, 717, 923, 3225, 3259, 3816, 4125, 4...</td>\n      <td>17</td>\n      <td>[euroscepticism populis*, of populis*, the pop...</td>\n      <td>[populis* referendum, populis* parties, populi...</td>\n      <td>{'rightwing populis*': 0, 'leftwing populis*':...</td>\n    </tr>\n    <tr>\n      <th>6</th>\n      <td>2018</td>\n      <td>Kreuder-Sonnen</td>\n      <td>Journal of European Public Policy</td>\n      <td>An authoritarian turn in Europe and European S...</td>\n      <td>article</td>\n      <td>y</td>\n      <td>y</td>\n      <td>None</td>\n      <td>None</td>\n      <td>[Journal of European Public Policy/2018 - Kreu...</td>\n      <td>6</td>\n      <td>[121, 183, 518, 529, 648, 678, 1712, 2347, 249...</td>\n      <td>25</td>\n      <td>[nationalist populis*, legitimacy populis*, na...</td>\n      <td>[populis* have, populis* introduction, populis...</td>\n      <td>{'rightwing populis*': 2, 'leftwing populis*':...</td>\n    </tr>\n    <tr>\n      <th>7</th>\n      <td>2019</td>\n      <td>McDonnell, Werner</td>\n      <td>Journal of European Public Policy</td>\n      <td>Differently Eurosceptic: radical right populis...</td>\n      <td>article</td>\n      <td>y</td>\n      <td>y</td>\n      <td>None</td>\n      <td>None</td>\n      <td>[Journal of European Public Policy/2019 - McDo...</td>\n      <td>7</td>\n      <td>[14, 35, 186, 199, 249, 286, 396, 517, 563, 76...</td>\n      <td>23</td>\n      <td>[right populis*, right populis*, right populis...</td>\n      <td>[populis* parties, populis* rrp, populis* intr...</td>\n      <td>{'rightwing populis*': 1, 'leftwing populis*':...</td>\n    </tr>\n    <tr>\n      <th>8</th>\n      <td>2019</td>\n      <td>Schmidt</td>\n      <td>Journal of European Public Policy</td>\n      <td>Politicization in the EU: between national pol...</td>\n      <td>article</td>\n      <td>y</td>\n      <td>y</td>\n      <td>None</td>\n      <td>None</td>\n      <td>[Journal of European Public Policy/2019 - Schm...</td>\n      <td>8</td>\n      <td>[52, 212, 423, 593, 1470, 1968, 2056, 2123, 24...</td>\n      <td>14</td>\n      <td>[euroskeptic populis*, commission populis*, by...</td>\n      <td>[populis* or, populis* eurozone, populis* chal...</td>\n      <td>{'rightwing populis*': 0, 'leftwing populis*':...</td>\n    </tr>\n    <tr>\n      <th>9</th>\n      <td>2020</td>\n      <td>Bakker et al.</td>\n      <td>Journal of European Public Policy</td>\n      <td>Multidimensional incongruence, political disaf...</td>\n      <td>article</td>\n      <td>y</td>\n      <td>y</td>\n      <td>None</td>\n      <td>None</td>\n      <td>[Journal of European Public Policy/2020 - Bakk...</td>\n      <td>9</td>\n      <td>[197, 1043, 1473, 1595, 1664, 3255, 3287, 3295...</td>\n      <td>13</td>\n      <td>[representation populis*, for populis*, for po...</td>\n      <td>[populis* research, populis* radical, populis*...</td>\n      <td>{'rightwing populis*': 0, 'leftwing populis*':...</td>\n    </tr>\n    <tr>\n      <th>10</th>\n      <td>2020</td>\n      <td>Bisbee et al.</td>\n      <td>Journal of European Public Policy</td>\n      <td>Decompensating domestically: the political eco...</td>\n      <td>article</td>\n      <td>y</td>\n      <td>y</td>\n      <td>None</td>\n      <td>None</td>\n      <td>[Journal of European Public Policy/2020 - Bisb...</td>\n      <td>10</td>\n      <td>[102, 225, 523, 857, 1387, 1401, 1456, 1538, 1...</td>\n      <td>11</td>\n      <td>[of populis*, keywords populis*, farright popu...</td>\n      <td>[populis* across, populis* free, populis* part...</td>\n      <td>{'rightwing populis*': 5, 'leftwing populis*':...</td>\n    </tr>\n    <tr>\n      <th>11</th>\n      <td>2020</td>\n      <td>Escartin</td>\n      <td>Journal of European Public Policy</td>\n      <td>Populist challenges to EU foreign policy in th...</td>\n      <td>article</td>\n      <td>y</td>\n      <td>y</td>\n      <td>None</td>\n      <td>None</td>\n      <td>[Journal of European Public Policy/2020 - Esca...</td>\n      <td>11</td>\n      <td>[8, 33, 80, 114, 162, 193, 211, 294, 2020, 216...</td>\n      <td>14</td>\n      <td>[ populis*, abstract populis*, extent populis*...</td>\n      <td>[populis* challenges, populis* parties, populi...</td>\n      <td>{'rightwing populis*': 1, 'leftwing populis*':...</td>\n    </tr>\n    <tr>\n      <th>12</th>\n      <td>2020</td>\n      <td>Spencer, Oppermann</td>\n      <td>Journal of European Public Policy</td>\n      <td>Narrative genres of Brexit: the Leave campaign...</td>\n      <td>article</td>\n      <td>y</td>\n      <td>y</td>\n      <td>None</td>\n      <td>None</td>\n      <td>[Journal of European Public Policy/2020 - Spen...</td>\n      <td>12</td>\n      <td>[189, 195, 208, 6382, 6424, 6437, 6448, 6474, ...</td>\n      <td>12</td>\n      <td>[and populis*, enables populis*, brexit populi...</td>\n      <td>[populis* narratives, populis* to, populis* it...</td>\n      <td>{'rightwing populis*': 0, 'leftwing populis*':...</td>\n    </tr>\n    <tr>\n      <th>13</th>\n      <td>2018</td>\n      <td>Lockwood</td>\n      <td>Environmental Politics</td>\n      <td>Right-wing populism and the climate change age...</td>\n      <td>article</td>\n      <td>y</td>\n      <td>y</td>\n      <td>None</td>\n      <td>None</td>\n      <td>[Environmental Politics/2018 - Lockwood - Righ...</td>\n      <td>13</td>\n      <td>[8, 28, 83, 95, 176, 183, 414, 498, 629, 650, ...</td>\n      <td>50</td>\n      <td>[rightwing populis*, rightwing populis*, on po...</td>\n      <td>[populis* and, populis* rwp, populis* one, pop...</td>\n      <td>{'rightwing populis*': 6, 'leftwing populis*':...</td>\n    </tr>\n    <tr>\n      <th>14</th>\n      <td>2020</td>\n      <td>Huber</td>\n      <td>Environmental Politics</td>\n      <td>The role of populist attitudes in explaining c...</td>\n      <td>article</td>\n      <td>y</td>\n      <td>y</td>\n      <td>None</td>\n      <td>None</td>\n      <td>[Environmental Politics/2020 - Huber - The rol...</td>\n      <td>14</td>\n      <td>[11, 81, 89, 139, 150, 630, 695, 712, 723, 746...</td>\n      <td>137</td>\n      <td>[of populis*, between populis*, protection pop...</td>\n      <td>[populis* attitudes, populis* climate, populis...</td>\n      <td>{'rightwing populis*': 6, 'leftwing populis*':...</td>\n    </tr>\n    <tr>\n      <th>15</th>\n      <td>2018</td>\n      <td>Hurrell</td>\n      <td>Ethics &amp; International Affairs</td>\n      <td>Beyond the BRICS: Power, Pluralism, and the Fu...</td>\n      <td>article</td>\n      <td>y</td>\n      <td>y</td>\n      <td>y</td>\n      <td>None</td>\n      <td>[Ethics &amp; International Affairs/2018 - Hurrell...</td>\n      <td>15</td>\n      <td>[995, 2301, 2798, 2825, 3074, 3104, 3233, 3267...</td>\n      <td>9</td>\n      <td>[and populis*, propelled populis*nationalism, ...</td>\n      <td>[populis* nationalism, populis*nationalism and...</td>\n      <td>{'rightwing populis*': 0, 'leftwing populis*':...</td>\n    </tr>\n    <tr>\n      <th>16</th>\n      <td>2015</td>\n      <td>Verbeek, Zaslove</td>\n      <td>European Political Science Review</td>\n      <td>The impact of populist radical right parties o...</td>\n      <td>article</td>\n      <td>y</td>\n      <td>y</td>\n      <td>None</td>\n      <td>None</td>\n      <td>[European Political Science Review/2014 - Verb...</td>\n      <td>16</td>\n      <td>[2, 251, 252, 261, 748, 1186, 1298, 1299, 1347...</td>\n      <td>23</td>\n      <td>[the populis*, policy populis*, populis* popul...</td>\n      <td>[populis* radical, populis* populis*, populis*...</td>\n      <td>{'rightwing populis*': 0, 'leftwing populis*':...</td>\n    </tr>\n    <tr>\n      <th>17</th>\n      <td>2018</td>\n      <td>Rooduijn</td>\n      <td>European Political Science Review</td>\n      <td>What unites the voter bases of populist partie...</td>\n      <td>article</td>\n      <td>y</td>\n      <td>y</td>\n      <td>None</td>\n      <td>None</td>\n      <td>[European Political Science Review/2018 - Rood...</td>\n      <td>17</td>\n      <td>[9, 63, 70, 89, 108, 143, 149, 165, 192, 260, ...</td>\n      <td>185</td>\n      <td>[european populis*, about populis*, of populis...</td>\n      <td>[populis* parties, populis* voters, populis* p...</td>\n      <td>{'rightwing populis*': 0, 'leftwing populis*':...</td>\n    </tr>\n    <tr>\n      <th>18</th>\n      <td>2018</td>\n      <td>Micozzi</td>\n      <td>European Political Science Review</td>\n      <td>Division or Union of Labor?Analyzing Workers’ ...</td>\n      <td>article</td>\n      <td>y</td>\n      <td>y</td>\n      <td>None</td>\n      <td>None</td>\n      <td>[European Political Science Review/2018 - Mico...</td>\n      <td>18</td>\n      <td>[56, 100, 138, 345, 363, 674, 2065, 2087, 2184...</td>\n      <td>18</td>\n      <td>[broad populis*, the populis*, argentina popul...</td>\n      <td>[populis* party, populis* party, populis* repr...</td>\n      <td>{'rightwing populis*': 0, 'leftwing populis*':...</td>\n    </tr>\n    <tr>\n      <th>19</th>\n      <td>2018</td>\n      <td>Bobba et al.</td>\n      <td>The International Journal of Press/Politics</td>\n      <td>Populism and the Gender Gap: Comparing Digital...</td>\n      <td>article</td>\n      <td>y</td>\n      <td>y</td>\n      <td>None</td>\n      <td>None</td>\n      <td>[International Journal of Press-Politics/2018 ...</td>\n      <td>19</td>\n      <td>[23, 32, 34, 61, 89, 91, 164, 170, 173, 179, 1...</td>\n      <td>229</td>\n      <td>[article populis*, with populis*, and nonpopul...</td>\n      <td>[populis* and, populis* and, nonpopulis* faceb...</td>\n      <td>{'rightwing populis*': 4, 'leftwing populis*':...</td>\n    </tr>\n  </tbody>\n</table>\n</div>"
     },
     "execution_count": 143,
     "metadata": {},
     "output_type": "execute_result"
    }
   ],
   "source": [
    "articles_metadata.head(20)"
   ],
   "metadata": {
    "collapsed": false
   }
  },
  {
   "cell_type": "code",
   "execution_count": null,
   "outputs": [],
   "source": [],
   "metadata": {
    "collapsed": false
   }
  }
 ],
 "metadata": {
  "kernelspec": {
   "name": "conda_base",
   "language": "python",
   "display_name": "conda_base"
  },
  "language_info": {
   "codemirror_mode": {
    "name": "ipython",
    "version": 2
   },
   "file_extension": ".py",
   "mimetype": "text/x-python",
   "name": "python",
   "nbconvert_exporter": "python",
   "pygments_lexer": "ipython2",
   "version": "2.7.6"
  }
 },
 "nbformat": 4,
 "nbformat_minor": 0
}
