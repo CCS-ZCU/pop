{
 "cells": [
  {
   "cell_type": "code",
   "execution_count": 21,
   "metadata": {
    "collapsed": true
   },
   "outputs": [],
   "source": [
    "import pandas as pd\n",
    "import re\n",
    "import nltk\n",
    "import string"
   ]
  },
  {
   "cell_type": "code",
   "execution_count": 3,
   "outputs": [
    {
     "data": {
      "text/plain": "   year                 authors                            journal  \\\n0  2011              Bos et al.            Political Communication   \n1  2019         Blassnig et al.            Political Communication   \n2  2017                Caramani  American Political Science Review   \n3  2020  Wuttke,Schimpf, Schoen  American Political Science Review   \n4  2014                   Treib  Journal of European Public Policy   \n\n                                               title     type pdf? keywords  \\\n0  How the Media Shape Perceptions of Right-Wing ...  article    y        y   \n1  Hitting a Nerve: Populist News Articles Lead t...  article    y        y   \n2  Will vs. Reason: The Populist and Technocratic...  article    y        y   \n3  When the Whole Is Greater than the Sum of Its ...  article    y        y   \n4  The voter says no, but nobody listens: causes ...  article    y        y   \n\n  keywords_online? notes                                           filepath  \\\n0                y  None  [Political Communication/2011 - Bos et al. - H...   \n1                y  None  [Political Communication/2019 - Blassing et al...   \n2             None  None  [American Political Science Review/2017 - Cara...   \n3             None  None  [American Political Science Review/2020 - Wutt...   \n4             None  None  [Journal of European Public Policy/2014 - Trei...   \n\n   pop_id  \n0       0  \n1       1  \n2       2  \n3       3  \n4       4  ",
      "text/html": "<div>\n<style scoped>\n    .dataframe tbody tr th:only-of-type {\n        vertical-align: middle;\n    }\n\n    .dataframe tbody tr th {\n        vertical-align: top;\n    }\n\n    .dataframe thead th {\n        text-align: right;\n    }\n</style>\n<table border=\"1\" class=\"dataframe\">\n  <thead>\n    <tr style=\"text-align: right;\">\n      <th></th>\n      <th>year</th>\n      <th>authors</th>\n      <th>journal</th>\n      <th>title</th>\n      <th>type</th>\n      <th>pdf?</th>\n      <th>keywords</th>\n      <th>keywords_online?</th>\n      <th>notes</th>\n      <th>filepath</th>\n      <th>pop_id</th>\n    </tr>\n  </thead>\n  <tbody>\n    <tr>\n      <th>0</th>\n      <td>2011</td>\n      <td>Bos et al.</td>\n      <td>Political Communication</td>\n      <td>How the Media Shape Perceptions of Right-Wing ...</td>\n      <td>article</td>\n      <td>y</td>\n      <td>y</td>\n      <td>y</td>\n      <td>None</td>\n      <td>[Political Communication/2011 - Bos et al. - H...</td>\n      <td>0</td>\n    </tr>\n    <tr>\n      <th>1</th>\n      <td>2019</td>\n      <td>Blassnig et al.</td>\n      <td>Political Communication</td>\n      <td>Hitting a Nerve: Populist News Articles Lead t...</td>\n      <td>article</td>\n      <td>y</td>\n      <td>y</td>\n      <td>y</td>\n      <td>None</td>\n      <td>[Political Communication/2019 - Blassing et al...</td>\n      <td>1</td>\n    </tr>\n    <tr>\n      <th>2</th>\n      <td>2017</td>\n      <td>Caramani</td>\n      <td>American Political Science Review</td>\n      <td>Will vs. Reason: The Populist and Technocratic...</td>\n      <td>article</td>\n      <td>y</td>\n      <td>y</td>\n      <td>None</td>\n      <td>None</td>\n      <td>[American Political Science Review/2017 - Cara...</td>\n      <td>2</td>\n    </tr>\n    <tr>\n      <th>3</th>\n      <td>2020</td>\n      <td>Wuttke,Schimpf, Schoen</td>\n      <td>American Political Science Review</td>\n      <td>When the Whole Is Greater than the Sum of Its ...</td>\n      <td>article</td>\n      <td>y</td>\n      <td>y</td>\n      <td>None</td>\n      <td>None</td>\n      <td>[American Political Science Review/2020 - Wutt...</td>\n      <td>3</td>\n    </tr>\n    <tr>\n      <th>4</th>\n      <td>2014</td>\n      <td>Treib</td>\n      <td>Journal of European Public Policy</td>\n      <td>The voter says no, but nobody listens: causes ...</td>\n      <td>article</td>\n      <td>y</td>\n      <td>y</td>\n      <td>None</td>\n      <td>None</td>\n      <td>[Journal of European Public Policy/2014 - Trei...</td>\n      <td>4</td>\n    </tr>\n  </tbody>\n</table>\n</div>"
     },
     "execution_count": 3,
     "metadata": {},
     "output_type": "execute_result"
    }
   ],
   "source": [
    "articles_metadata = pd.read_json(\"../data/article_metadata_with_filepaths.json\")\n",
    "articles_metadata.head(5)"
   ],
   "metadata": {
    "collapsed": false
   }
  },
  {
   "cell_type": "code",
   "execution_count": 4,
   "outputs": [],
   "source": [
    "articles_metadata = articles_metadata[articles_metadata[\"filepath\"].apply(bool)].copy()"
   ],
   "metadata": {
    "collapsed": false
   }
  },
  {
   "cell_type": "code",
   "execution_count": 5,
   "outputs": [],
   "source": [
    "sample_pop_ids = [62, 377, 188, 364, 499, 228, 376, 90, 227, 330]"
   ],
   "metadata": {
    "collapsed": false
   }
  },
  {
   "cell_type": "markdown",
   "source": [
    "# Test with one document"
   ],
   "metadata": {
    "collapsed": false
   }
  },
  {
   "cell_type": "code",
   "execution_count": 6,
   "outputs": [],
   "source": [
    "pop_id = 90\n",
    "path = \"../data/large_data/articles_filteredtexts/\"\n",
    "filename = \"filteredtext_pop_id_{}.txt\".format(str(pop_id))"
   ],
   "metadata": {
    "collapsed": false
   }
  },
  {
   "cell_type": "code",
   "execution_count": 7,
   "outputs": [],
   "source": [
    "with open(path + filename, \"r\") as f:\n",
    "    filteredtext = f.read()"
   ],
   "metadata": {
    "collapsed": false
   }
  },
  {
   "cell_type": "code",
   "execution_count": 8,
   "outputs": [
    {
     "name": "stdout",
     "output_type": "stream",
     "text": [
      "['Abstract.', 'As', 'a', 'result', 'of', 'the', 'steady', 'rise', 'of', 'populist', 'parties', 'and', 'politicians', 'all', 'over', 'the', 'world', '–', 'and', 'particularly', 'since', 'the', 'Brexit', 'referendum', 'and', 'the', 'election', 'of', 'Donald', 'Trump', '–', 'populism', 'research', 'has', 'become', 'increasingly', 'popular', 'and', 'widespread.', 'The', 'field,', 'however,', 'also', 'faces', 'some', 'tricky', 'challenges.', 'First,', 'it', 'is', 'easy', 'to', 'confuse', 'populism', 'with', 'related', 'concepts', 'like,', 'for', 'instance,', '‘nativism’', 'and', '‘Euroscepticism’.', 'This', 'brings', 'the', 'risk', 'of', 'sloppy', 'conceptualisation,', 'and,', 'as', 'a', 'result,', 'invalid', 'inferences.', 'Second,', 'populism', 'research', 'remains', 'relatively', 'detached', 'from', 'adjacent', 'fields,and', 'fruitful', 'fertilisation', 'across', 'literatures', 'is', 'still', 'rather', 'uncommon.In', 'order', 'to', 'deal', 'with', 'these', 'challenges,populism', 'research']\n"
     ]
    }
   ],
   "source": [
    "test_str_list = filteredtext.split()[:100]\n",
    "print(test_str_list)"
   ],
   "metadata": {
    "collapsed": false
   }
  },
  {
   "cell_type": "code",
   "execution_count": 9,
   "outputs": [
    {
     "data": {
      "text/plain": "[9,\n 31,\n 53,\n 77,\n 98,\n 129,\n 171,\n 181,\n 183,\n 222,\n 224,\n 253,\n 294,\n 306,\n 331,\n 333,\n 378,\n 387,\n 408,\n 474,\n 498,\n 506,\n 515,\n 524,\n 551,\n 597,\n 608,\n 625,\n 649,\n 664,\n 678,\n 741,\n 770,\n 838,\n 858,\n 865,\n 882,\n 945,\n 968,\n 1012,\n 1026,\n 1048,\n 1057,\n 1100,\n 1143,\n 1157,\n 1162,\n 1174,\n 1196,\n 1241,\n 1280,\n 1289,\n 1326,\n 1339,\n 1346,\n 1379,\n 1402,\n 1415,\n 1418,\n 1439,\n 1457,\n 1526,\n 1569,\n 1588,\n 1603,\n 1618,\n 1636,\n 1657,\n 1698,\n 1755,\n 1770,\n 1818,\n 1841,\n 1851,\n 1875,\n 1889,\n 1925,\n 1939,\n 1959,\n 2025,\n 2036,\n 2088,\n 2117,\n 2139,\n 2157,\n 2177,\n 2186,\n 2192,\n 2249,\n 2259,\n 2288,\n 2367,\n 2460,\n 2495,\n 2525,\n 2561,\n 2653,\n 2663,\n 2684,\n 2695,\n 2714,\n 2726,\n 2762,\n 2827,\n 2923,\n 2947,\n 2979,\n 3001,\n 3020,\n 3113,\n 3120,\n 3172,\n 3237,\n 3269,\n 3280,\n 3299,\n 3343,\n 3352,\n 3528,\n 3544,\n 3592,\n 3651,\n 3711,\n 3753,\n 3776,\n 3787,\n 3811,\n 3854,\n 3892,\n 3916,\n 3957,\n 3978,\n 4006,\n 4019,\n 4047,\n 4085]"
     },
     "execution_count": 9,
     "metadata": {},
     "output_type": "execute_result"
    }
   ],
   "source": [
    "# gather indeces:\n",
    "filteredtext_split = filteredtext.split()\n",
    "inxs = [t[0] for t in enumerate(filteredtext_split) if re.search(\"populis\", t[1], re.IGNORECASE)]\n",
    "inxs"
   ],
   "metadata": {
    "collapsed": false
   }
  },
  {
   "cell_type": "code",
   "execution_count": 10,
   "outputs": [
    {
     "name": "stdout",
     "output_type": "stream",
     "text": [
      "['rise', 'of', 'populist', 'parties', 'and']\n",
      "['Trump', '–', 'populism', 'research', 'has']\n",
      "['to', 'confuse', 'populism', 'with', 'related']\n",
      "['inferences.', 'Second,', 'populism', 'research', 'remains']\n",
      "['with', 'these', 'challenges,populism', 'research', 'should']\n",
      "['other', 'researchers,', 'populism', 'scholars', 'should']\n",
      "['can', 'inspire', 'populism', 'scholars', 'to']\n",
      "['expectations.', 'Keyword:', 'populism', 'Introduction', 'Populism']\n",
      "['populism', 'Introduction', 'Populism', 'is', 'sexy.Particularly']\n",
      "['the', 'terms', '‘populism’', 'or', '‘populist’']\n",
      "['‘populism’', 'or', '‘populist’', '671', 'times.']\n",
      "['in', '2017', '‘populism’', 'was', 'declared']\n",
      "['rise', 'of', 'populist', 'parties', 'and']\n",
      "['appeal', 'of', 'populism', 'is', 'also']\n",
      "['the', 'words', '‘populism’', 'or', '‘populist’']\n",
      "['‘populism’', 'or', '‘populist’', 'in', 'the']\n",
      "['devoted', 'to', 'populism!', 'It', 'seems']\n",
      "['research', 'on', 'populism', 'has', 'become']\n",
      "['literature', 'on', 'populism,', 'thereby', 'mainly']\n",
      "['to', 'the', 'populism', 'literature,', 'and']\n",
      "['learn', 'from', 'populism', 'research,', 'and']\n",
      "['way', 'around)', 'populism', 'scholars', 'can']\n",
      "['adjacent', 'topics.', 'Populism', 'research', 'so']\n",
      "['the', 'term', '‘populism’', 'had', 'already']\n",
      "['to', 'discuss', 'populism', '–', 'a']\n",
      "['exactly', 'is', 'populism?', 'what', 'are']\n",
      "['histories', 'of', 'populism', 'in', 'various']\n",
      "['to', 'define', 'populism.', 'Almost', '15']\n",
      "['instances', 'of', 'populism', 'across', 'cases']\n",
      "['types', 'of', 'populism.', 'Yet', 'she']\n",
      "['categories', 'of', 'populism', 'had', 'in']\n",
      "['to', 'the', 'populism', 'literature.', 'Yet']\n",
      "['rise', 'of', 'populism', 'studies', 'with']\n",
      "['instances', 'of', 'populism', 'by', 'means']\n",
      "['leaders', 'were', 'populist', 'and', 'considered']\n",
      "['of', 'why', 'populist', 'actors', 'had']\n",
      "['explosion', 'of', 'populism', 'studies', 'in']\n",
      "['work', 'on', 'populism', 'in', 'various']\n",
      "['defined.', 'Although', 'populism', 'is', 'still']\n",
      "['a', 'concept,', 'populism', 'thus', 'consists']\n",
      "['scholars', 'define', 'populism', 'as', 'a']\n",
      "['share', 'of', 'populism', 'scholars', 'endorsing']\n",
      "['agrees', 'that', 'populism', 'is', 'a']\n",
      "['genus', 'of', 'populism.', 'As', 'a']\n",
      "['on', 'conceptualising', 'populism', 'has', 'made']\n",
      "['approach', 'to', 'populism', '(i.e.,', 'the']\n",
      "['belief', 'that', 'populism', 'is', 'a']\n",
      "['can', 'endorse', 'populism', 'to', 'a']\n",
      "['politicians', 'express', 'populist', 'messages', '–']\n",
      "['degree', 'of', 'populism', 'of', 'parties']\n",
      "['assess', 'how', 'populist', 'politicians', 'are.']\n",
      "['to', 'measuring', 'populism,', 'a', 'lot']\n",
      "['order', 'for', 'populism', 'to', 'be']\n",
      "['research', 'on', 'populism', 'differs', 'from']\n",
      "['is', 'that', 'populism', 'studies', 'nowadays']\n",
      "['voters', 'for', 'populist', 'parties', 'have']\n",
      "['of', 'right-wing', 'populist', 'parties,', 'we']\n",
      "['for', 'left-wing', 'populist', 'parties', 'or']\n",
      "['parties', 'or', 'populist', 'parties', 'in']\n",
      "['citizens', 'have', 'populist', 'ideas.', 'Hawkins']\n",
      "['demonstrate', 'that', 'populism', 'can', 'also']\n",
      "['voting', 'for', 'populists', 'has', 'psychological']\n",
      "['that', 'the', 'populist', 'attitude', 'really']\n",
      "['is', 'the', 'populist', 'attitude', 'not']\n",
      "['contributions', 'to', 'populism', 'research', 'have']\n",
      "['of', 'ideas,', 'populism', 'is', 'also']\n",
      "['what', 'extent', 'populist', 'messages', 'in']\n",
      "['that', 'the', 'populist', 'set', 'of']\n",
      "['respond', 'to', 'populist', 'messages.', 'Yet']\n",
      "['increasingly', 'assess', 'populism', 'in', 'power.']\n",
      "['recent', 'years', 'populist', 'parties', '(at']\n",
      "['what', 'extent', 'populists', 'are', 'able']\n",
      "['to', 'which', 'populists', 'harm', 'liberal']\n",
      "['relationship', 'between', 'populism', 'and', '(liberal)']\n",
      "['consequences', 'of', 'populism', 'for', 'how']\n",
      "['2016).', 'Hence,', 'populism', 'research', 'is']\n",
      "['to', 'confuse', 'populism', 'with', 'related']\n",
      "['this', 'article,', 'populism', 'has', 'become']\n",
      "['characterised', 'as', 'populist', '(e.g.,', 'Trump,']\n",
      "['characteristics', 'of', 'populism.', 'This', 'conclusion']\n",
      "['of', 'confusing', 'populism', 'with', 'a']\n",
      "['19).', 'Where', 'populism', 'concerns', 'the']\n",
      "['2005).', 'Conflating', 'populism', 'with', 'nativism']\n",
      "['vote', 'for', 'populists?', 'Certainly', 'not.']\n",
      "['radical', 'right-wing', 'populists', '–', 'who']\n",
      "['voting', 'for', 'populists', 'in', 'general.']\n",
      "['category', 'of', '‘populists', 'in', 'general’']\n",
      "['includes', 'left-wing', 'populists', 'like', 'Syriza']\n",
      "['radical', 'right-wing', 'populist', 'parties', 'has']\n",
      "['these', 'parties’', 'populism.', 'Most', 'likely']\n",
      "['carefully', 'conceptualise', 'populism,', 'building', 'on']\n",
      "['of', 'parties', '(populist,', 'far', 'right,']\n",
      "['that:(1)', 'a', 'populist', 'party', 'need']\n",
      "['be', 'a', 'populist', 'party', '(KKE']\n",
      "['be', 'a', 'populist', 'party', '(SEL']\n",
      "['be', 'a', 'populist', 'party', '(SEL,']\n",
      "['than', 'on', 'populism.', 'After', 'all,']\n",
      "['not', 'their', 'populism', 'that', 'can']\n",
      "['concept', 'of', 'populism', 'just', 'because']\n",
      "['Challenge', '2:', 'Populism', 'research', 'remains']\n",
      "['imply', 'that', 'populism', 'researchers', 'should']\n",
      "['that', 'the', 'populism', 'literature', 'should']\n",
      "['concept', 'of', 'populism', 'is', 'that']\n",
      "['realise', 'that', 'populism', 'was', 'by']\n",
      "['that', 'although', 'populism', 'helps', 'us']\n",
      "['assess', 'how', 'populism', 'is', 'associated']\n",
      "['of', 'contemporary', 'populism', 'research', 'is']\n",
      "['how', 'exactly', 'populism', 'relates', 'to']\n",
      "['hypotheses', 'in', 'populism', 'research', 'to']\n",
      "['nowadays', 'conceptualise', 'populist', 'parties.', 'The']\n",
      "['is', 'that', 'populism', 'is', 'a']\n",
      "['informative', 'for', 'populism', 'research.', 'It']\n",
      "['alone', 'that', 'populist', 'parties', 'will']\n",
      "['classified', 'as', '‘populist’', '–', 'the']\n",
      "['tailored', 'to', 'populist', 'parties', 'and']\n",
      "['the', 'more', 'populist', 'a', 'party’s']\n",
      "['rarely', 'informs', 'populism', 'studies', 'is']\n",
      "['in-group/out-group', 'thinking.', 'Populism', 'is', 'an']\n",
      "['comes', 'to', 'populism.', 'Therefore,', 'research']\n",
      "['inspiration', 'for', 'populism', 'scholars', '(see']\n",
      "['to', 'which', 'populism', 'and', 'nativism']\n",
      "['easily', 'implemented):', 'populism', 'scholars', '(and']\n",
      "['literature', 'on', 'populism', 'has', 'exploded']\n",
      "['overview', 'of', 'populism', 'research', 'so']\n",
      "['literature', 'on', 'populism.', 'The', 'first']\n",
      "['to', 'confuse', 'populism', 'with', 'related']\n",
      "['drawing', 'invalid', 'conclusions.Second,populism', 'research', 'has']\n",
      "['focus', 'within', 'populism', 'studies.', 'How']\n",
      "['other', 'researchers,', 'populism', 'scholars', 'should']\n",
      "['stick', 'to', 'populism', 'studies,and', 'turn']\n",
      "['hypotheses', 'about', 'populism.', 'Hence,', 'when']\n",
      "['open', 'mind-set.', 'Populism', 'research', 'can']\n",
      "['hypotheses', 'about', 'populism.', 'At', 'the']\n",
      "['lot', 'from', 'populism', 'research.', 'In']\n",
      "['understanding', 'of', 'populism.', 'Unfortunately,', 'however,']\n",
      "['sexiness', 'of', 'populism', 'is', 'an']\n"
     ]
    }
   ],
   "source": [
    "for i in inxs:\n",
    "    print(filteredtext_split[i-2:i+3])\n"
   ],
   "metadata": {
    "collapsed": false
   }
  },
  {
   "cell_type": "code",
   "execution_count": 11,
   "outputs": [],
   "source": [
    "def extract_indeces(pop_id):\n",
    "    path = \"../data/large_data/articles_filteredtexts/\"\n",
    "    filename = \"filteredtext_pop_id_{}.txt\".format(str(pop_id))\n",
    "    with open(path + filename, \"r\") as f:\n",
    "        filteredtext = f.read()\n",
    "    filteredtext_split = filteredtext.split()\n",
    "    inxs = [t[0] for t in enumerate(filteredtext_split) if re.search(\"populis\", t[1], re.IGNORECASE)]\n",
    "    return inxs\n",
    "articles_metadata[\"populism_inxs\"] = articles_metadata[\"pop_id\"].apply(extract_indeces)"
   ],
   "metadata": {
    "collapsed": false
   }
  },
  {
   "cell_type": "code",
   "execution_count": 12,
   "outputs": [
    {
     "data": {
      "text/plain": "0      [23, 37, 75, 178, 199, 225, 229, 231, 236, 302...\n1      [17, 26, 40, 49, 104, 128, 144, 145, 161, 223,...\n2      [4, 19, 59, 100, 125, 339, 466, 541, 633, 673,...\n3      [65, 125, 142, 195, 225, 254, 282, 304, 313, 3...\n4              [249, 2269, 3843, 3951, 4395, 4437, 4558]\n                             ...                        \n537                               [133, 216, 2402, 3622]\n538    [483, 493, 501, 523, 687, 1104, 1138, 1151, 11...\n539    [20, 66, 285, 355, 361, 421, 609, 620, 680, 72...\n540    [41, 177, 199, 240, 828, 855, 974, 1515, 2746,...\n541    [2, 8, 12, 66, 81, 95, 100, 117, 139, 148, 178...\nName: populism_inxs, Length: 537, dtype: object"
     },
     "execution_count": 12,
     "metadata": {},
     "output_type": "execute_result"
    }
   ],
   "source": [
    "articles_metadata[\"populism_inxs\"]"
   ],
   "metadata": {
    "collapsed": false
   }
  },
  {
   "cell_type": "code",
   "execution_count": 13,
   "outputs": [],
   "source": [
    "articles_metadata[\"populis*_N\"] = articles_metadata[\"populism_inxs\"].apply(len)"
   ],
   "metadata": {
    "collapsed": false
   }
  },
  {
   "cell_type": "code",
   "execution_count": 14,
   "outputs": [
    {
     "data": {
      "text/plain": "41084"
     },
     "execution_count": 14,
     "metadata": {},
     "output_type": "execute_result"
    }
   ],
   "source": [
    "articles_metadata[\"populis*_N\"].sum()"
   ],
   "metadata": {
    "collapsed": false
   }
  },
  {
   "cell_type": "code",
   "execution_count": 36,
   "outputs": [],
   "source": [
    "replace_tups = [\n",
    "    (\"populists\", \"populis*\"),\n",
    "    (\"populist's\", \"populis*\"),\n",
    "    (\"populisms\", \"populis*\"),\n",
    "    (\"populist\", \"populis*\"),\n",
    "    (\"populism\", \"populis*\"),\n",
    "]\n",
    "def clean_conc(conc_string):\n",
    "    conc_cleaned = conc_string.lower().translate(str.maketrans(\"\", \"\", string.punctuation))\n",
    "    for tup in replace_tups:\n",
    "        conc_cleaned = conc_cleaned.replace(tup[0], tup[1])\n",
    "    return conc_cleaned"
   ],
   "metadata": {
    "collapsed": false
   }
  },
  {
   "cell_type": "code",
   "execution_count": 37,
   "outputs": [
    {
     "data": {
      "text/plain": "'rightwing populis*'"
     },
     "execution_count": 37,
     "metadata": {},
     "output_type": "execute_result"
    }
   ],
   "source": [
    "clean_conc(\"right-wing populists.\")"
   ],
   "metadata": {
    "collapsed": false
   }
  },
  {
   "cell_type": "code",
   "execution_count": 38,
   "outputs": [],
   "source": [
    "def get_concordance(row, left=1, right=1):\n",
    "    pop_id = row[\"pop_id\"]\n",
    "    path = \"../data/large_data/articles_filteredtexts/\"\n",
    "    filename = \"filteredtext_pop_id_{}.txt\".format(str(pop_id))\n",
    "    with open(path + filename, \"r\") as f:\n",
    "        filteredtext = f.read()\n",
    "    filteredtext_split = filteredtext.split()\n",
    "    inxs = row[\"populism_inxs\"]\n",
    "    conc_data = [clean_conc(\" \".join(filteredtext_split[i-left: i+right+1])) for i in inxs]\n",
    "    return conc_data"
   ],
   "metadata": {
    "collapsed": false
   }
  },
  {
   "cell_type": "code",
   "execution_count": 39,
   "outputs": [],
   "source": [
    "articles_metadata[\"conc_left1\"] = articles_metadata.apply(lambda row: get_concordance(row, left=1, right=0), axis=1)\n",
    "articles_metadata[\"conc_right1\"] = articles_metadata.apply(lambda row: get_concordance(row, left=0, right=1), axis=1)"
   ],
   "metadata": {
    "collapsed": false
   }
  },
  {
   "cell_type": "code",
   "execution_count": 40,
   "outputs": [
    {
     "data": {
      "text/plain": "     year                 authors                                journal  \\\n0    2011              Bos et al.                Political Communication   \n1    2019         Blassnig et al.                Political Communication   \n2    2017                Caramani      American Political Science Review   \n3    2020  Wuttke,Schimpf, Schoen      American Political Science Review   \n4    2014                   Treib      Journal of European Public Policy   \n..    ...                     ...                                    ...   \n537  2018          Grzymala-Busse                        Current History   \n538  2017             Eichengreen                        Current History   \n539  2014                   Mudde                        Current History   \n540  2020                    Cano             European History Quarterly   \n541  2015                Lindgren  Japanese Journal of Political Science   \n\n                                                 title     type pdf? keywords  \\\n0    How the Media Shape Perceptions of Right-Wing ...  article    y        y   \n1    Hitting a Nerve: Populist News Articles Lead t...  article    y        y   \n2    Will vs. Reason: The Populist and Technocratic...  article    y        y   \n3    When the Whole Is Greater than the Sum of Its ...  article    y        y   \n4    The voter says no, but nobody listens: causes ...  article    y        y   \n..                                                 ...      ...  ...      ...   \n537                      Poland’s Path to Illiberalism  article    y        y   \n538             The Populist Turn in American Politics  article    y        y   \n539           The Far Right and the European Elections  article    y        y   \n540                                Printing the People  article    y        y   \n541  Developing Japanese Populism Research through ...  article    y        y   \n\n    keywords_online? notes                                           filepath  \\\n0                  y  None  [Political Communication/2011 - Bos et al. - H...   \n1                  y  None  [Political Communication/2019 - Blassing et al...   \n2               None  None  [American Political Science Review/2017 - Cara...   \n3               None  None  [American Political Science Review/2020 - Wutt...   \n4               None  None  [Journal of European Public Policy/2014 - Trei...   \n..               ...   ...                                                ...   \n537             None  None  [Current History/2018 - Grzymala-Busse - Polan...   \n538             None  None  [Current History/2017 - Eichengreen - The Popu...   \n539             None  None  [Current History/2014 - Mudde - The Far Right ...   \n540             None  None  [European History Quarterly/2020 - Cano - Prin...   \n541             None  None  [Japanese Journal of Political Science/2015 - ...   \n\n     pop_id                                      populism_inxs  populis*_N  \\\n0         0  [23, 37, 75, 178, 199, 225, 229, 231, 236, 302...         199   \n1         1  [17, 26, 40, 49, 104, 128, 144, 145, 161, 223,...         222   \n2         2  [4, 19, 59, 100, 125, 339, 466, 541, 633, 673,...         117   \n3         3  [65, 125, 142, 195, 225, 254, 282, 304, 313, 3...         296   \n4         4          [249, 2269, 3843, 3951, 4395, 4437, 4558]           7   \n..      ...                                                ...         ...   \n537     537                             [133, 216, 2402, 3622]           4   \n538     538  [483, 493, 501, 523, 687, 1104, 1138, 1151, 11...          20   \n539     539  [20, 66, 285, 355, 361, 421, 609, 620, 680, 72...          17   \n540     540  [41, 177, 199, 240, 828, 855, 974, 1515, 2746,...          39   \n541     541  [2, 8, 12, 66, 81, 95, 100, 117, 139, 148, 178...         282   \n\n                                            conc_left1  \\\n0    [rightwing populis*, rightwing populis*, right...   \n1    [nerve populis*, more populis*, of populis*, h...   \n2    [analytically populis*, that populis*, both po...   \n3    [of populis*, both conceptuallyandempiricallyt...   \n4    [euroscepticism populis*, on populis*, on popu...   \n..                                                 ...   \n537  [illiberal populis*, of populis*, often populi...   \n538  [new populis*, old populis*, the populis*, 193...   \n539  [antieuropean populis*”, “european populis*, “...   \n540  [this populis*, nationalism populis*, photogra...   \n541  [japanese populis*, european populis*, studies...   \n\n                                           conc_right1  \n0    [populis* leaders, populis* party, populis* le...  \n1    [populis* news, populis* reader, populis* comm...  \n2    [populis* and, populis* and, populis* and, pop...  \n3    [populis* attitudes, conceptuallyandempiricall...  \n4    [populis* secondorder, populis* and, populis* ...  \n..                                                 ...  \n537  [populis* it, populis* pis, populis* and, popu...  \n538  [populis* bears, populis* of, populis* revolt,...  \n539  [populis*” in, populis* backlash”, populis*” a...  \n540  [populis* nationalism, populis* and, populis* ...  \n541  [populis* research, populis* radical, populis*...  \n\n[537 rows x 15 columns]",
      "text/html": "<div>\n<style scoped>\n    .dataframe tbody tr th:only-of-type {\n        vertical-align: middle;\n    }\n\n    .dataframe tbody tr th {\n        vertical-align: top;\n    }\n\n    .dataframe thead th {\n        text-align: right;\n    }\n</style>\n<table border=\"1\" class=\"dataframe\">\n  <thead>\n    <tr style=\"text-align: right;\">\n      <th></th>\n      <th>year</th>\n      <th>authors</th>\n      <th>journal</th>\n      <th>title</th>\n      <th>type</th>\n      <th>pdf?</th>\n      <th>keywords</th>\n      <th>keywords_online?</th>\n      <th>notes</th>\n      <th>filepath</th>\n      <th>pop_id</th>\n      <th>populism_inxs</th>\n      <th>populis*_N</th>\n      <th>conc_left1</th>\n      <th>conc_right1</th>\n    </tr>\n  </thead>\n  <tbody>\n    <tr>\n      <th>0</th>\n      <td>2011</td>\n      <td>Bos et al.</td>\n      <td>Political Communication</td>\n      <td>How the Media Shape Perceptions of Right-Wing ...</td>\n      <td>article</td>\n      <td>y</td>\n      <td>y</td>\n      <td>y</td>\n      <td>None</td>\n      <td>[Political Communication/2011 - Bos et al. - H...</td>\n      <td>0</td>\n      <td>[23, 37, 75, 178, 199, 225, 229, 231, 236, 302...</td>\n      <td>199</td>\n      <td>[rightwing populis*, rightwing populis*, right...</td>\n      <td>[populis* leaders, populis* party, populis* le...</td>\n    </tr>\n    <tr>\n      <th>1</th>\n      <td>2019</td>\n      <td>Blassnig et al.</td>\n      <td>Political Communication</td>\n      <td>Hitting a Nerve: Populist News Articles Lead t...</td>\n      <td>article</td>\n      <td>y</td>\n      <td>y</td>\n      <td>y</td>\n      <td>None</td>\n      <td>[Political Communication/2019 - Blassing et al...</td>\n      <td>1</td>\n      <td>[17, 26, 40, 49, 104, 128, 144, 145, 161, 223,...</td>\n      <td>222</td>\n      <td>[nerve populis*, more populis*, of populis*, h...</td>\n      <td>[populis* news, populis* reader, populis* comm...</td>\n    </tr>\n    <tr>\n      <th>2</th>\n      <td>2017</td>\n      <td>Caramani</td>\n      <td>American Political Science Review</td>\n      <td>Will vs. Reason: The Populist and Technocratic...</td>\n      <td>article</td>\n      <td>y</td>\n      <td>y</td>\n      <td>None</td>\n      <td>None</td>\n      <td>[American Political Science Review/2017 - Cara...</td>\n      <td>2</td>\n      <td>[4, 19, 59, 100, 125, 339, 466, 541, 633, 673,...</td>\n      <td>117</td>\n      <td>[analytically populis*, that populis*, both po...</td>\n      <td>[populis* and, populis* and, populis* and, pop...</td>\n    </tr>\n    <tr>\n      <th>3</th>\n      <td>2020</td>\n      <td>Wuttke,Schimpf, Schoen</td>\n      <td>American Political Science Review</td>\n      <td>When the Whole Is Greater than the Sum of Its ...</td>\n      <td>article</td>\n      <td>y</td>\n      <td>y</td>\n      <td>None</td>\n      <td>None</td>\n      <td>[American Political Science Review/2020 - Wutt...</td>\n      <td>3</td>\n      <td>[65, 125, 142, 195, 225, 254, 282, 304, 313, 3...</td>\n      <td>296</td>\n      <td>[of populis*, both conceptuallyandempiricallyt...</td>\n      <td>[populis* attitudes, conceptuallyandempiricall...</td>\n    </tr>\n    <tr>\n      <th>4</th>\n      <td>2014</td>\n      <td>Treib</td>\n      <td>Journal of European Public Policy</td>\n      <td>The voter says no, but nobody listens: causes ...</td>\n      <td>article</td>\n      <td>y</td>\n      <td>y</td>\n      <td>None</td>\n      <td>None</td>\n      <td>[Journal of European Public Policy/2014 - Trei...</td>\n      <td>4</td>\n      <td>[249, 2269, 3843, 3951, 4395, 4437, 4558]</td>\n      <td>7</td>\n      <td>[euroscepticism populis*, on populis*, on popu...</td>\n      <td>[populis* secondorder, populis* and, populis* ...</td>\n    </tr>\n    <tr>\n      <th>...</th>\n      <td>...</td>\n      <td>...</td>\n      <td>...</td>\n      <td>...</td>\n      <td>...</td>\n      <td>...</td>\n      <td>...</td>\n      <td>...</td>\n      <td>...</td>\n      <td>...</td>\n      <td>...</td>\n      <td>...</td>\n      <td>...</td>\n      <td>...</td>\n      <td>...</td>\n    </tr>\n    <tr>\n      <th>537</th>\n      <td>2018</td>\n      <td>Grzymala-Busse</td>\n      <td>Current History</td>\n      <td>Poland’s Path to Illiberalism</td>\n      <td>article</td>\n      <td>y</td>\n      <td>y</td>\n      <td>None</td>\n      <td>None</td>\n      <td>[Current History/2018 - Grzymala-Busse - Polan...</td>\n      <td>537</td>\n      <td>[133, 216, 2402, 3622]</td>\n      <td>4</td>\n      <td>[illiberal populis*, of populis*, often populi...</td>\n      <td>[populis* it, populis* pis, populis* and, popu...</td>\n    </tr>\n    <tr>\n      <th>538</th>\n      <td>2017</td>\n      <td>Eichengreen</td>\n      <td>Current History</td>\n      <td>The Populist Turn in American Politics</td>\n      <td>article</td>\n      <td>y</td>\n      <td>y</td>\n      <td>None</td>\n      <td>None</td>\n      <td>[Current History/2017 - Eichengreen - The Popu...</td>\n      <td>538</td>\n      <td>[483, 493, 501, 523, 687, 1104, 1138, 1151, 11...</td>\n      <td>20</td>\n      <td>[new populis*, old populis*, the populis*, 193...</td>\n      <td>[populis* bears, populis* of, populis* revolt,...</td>\n    </tr>\n    <tr>\n      <th>539</th>\n      <td>2014</td>\n      <td>Mudde</td>\n      <td>Current History</td>\n      <td>The Far Right and the European Elections</td>\n      <td>article</td>\n      <td>y</td>\n      <td>y</td>\n      <td>None</td>\n      <td>None</td>\n      <td>[Current History/2014 - Mudde - The Far Right ...</td>\n      <td>539</td>\n      <td>[20, 66, 285, 355, 361, 421, 609, 620, 680, 72...</td>\n      <td>17</td>\n      <td>[antieuropean populis*”, “european populis*, “...</td>\n      <td>[populis*” in, populis* backlash”, populis*” a...</td>\n    </tr>\n    <tr>\n      <th>540</th>\n      <td>2020</td>\n      <td>Cano</td>\n      <td>European History Quarterly</td>\n      <td>Printing the People</td>\n      <td>article</td>\n      <td>y</td>\n      <td>y</td>\n      <td>None</td>\n      <td>None</td>\n      <td>[European History Quarterly/2020 - Cano - Prin...</td>\n      <td>540</td>\n      <td>[41, 177, 199, 240, 828, 855, 974, 1515, 2746,...</td>\n      <td>39</td>\n      <td>[this populis*, nationalism populis*, photogra...</td>\n      <td>[populis* nationalism, populis* and, populis* ...</td>\n    </tr>\n    <tr>\n      <th>541</th>\n      <td>2015</td>\n      <td>Lindgren</td>\n      <td>Japanese Journal of Political Science</td>\n      <td>Developing Japanese Populism Research through ...</td>\n      <td>article</td>\n      <td>y</td>\n      <td>y</td>\n      <td>None</td>\n      <td>None</td>\n      <td>[Japanese Journal of Political Science/2015 - ...</td>\n      <td>541</td>\n      <td>[2, 8, 12, 66, 81, 95, 100, 117, 139, 148, 178...</td>\n      <td>282</td>\n      <td>[japanese populis*, european populis*, studies...</td>\n      <td>[populis* research, populis* radical, populis*...</td>\n    </tr>\n  </tbody>\n</table>\n<p>537 rows × 15 columns</p>\n</div>"
     },
     "execution_count": 40,
     "metadata": {},
     "output_type": "execute_result"
    }
   ],
   "source": [
    "articles_metadata"
   ],
   "metadata": {
    "collapsed": false
   }
  },
  {
   "cell_type": "code",
   "execution_count": 41,
   "outputs": [],
   "source": [
    "conc_left1_all = []\n",
    "for conc_list in articles_metadata[\"conc_left1\"]:\n",
    "    conc_left1_all.extend(conc_list)"
   ],
   "metadata": {
    "collapsed": false
   }
  },
  {
   "cell_type": "code",
   "execution_count": 42,
   "outputs": [
    {
     "data": {
      "text/plain": "41084"
     },
     "execution_count": 42,
     "metadata": {},
     "output_type": "execute_result"
    }
   ],
   "source": [
    "len(conc_left1_all)"
   ],
   "metadata": {
    "collapsed": false
   }
  },
  {
   "cell_type": "code",
   "execution_count": 43,
   "outputs": [
    {
     "data": {
      "text/plain": "[('of populis*', 7196),\n ('the populis*', 2973),\n ('rightwing populis*', 1632),\n ('that populis*', 1347),\n ('a populis*', 1305),\n ('for populis*', 1066),\n ('and populis*', 1052),\n ('to populis*', 725),\n ('on populis*', 719),\n ('between populis*', 529),\n ('with populis*', 426),\n ('as populis*', 403),\n ('leftwing populis*', 375),\n ('in populis*', 375),\n ('by populis*', 298),\n ('right populis*', 213),\n ('american populis*', 210),\n ('more populis*', 208),\n ('how populis*', 178),\n ('which populis*', 175),\n ('left populis*', 147),\n ('new populis*', 143),\n ('their populis*', 140),\n ('european populis*', 127),\n ('keywords populis*', 121),\n ('contemporary populis*', 120),\n ('is populis*', 118),\n ('if populis*', 107),\n ('from populis*', 106),\n ('whether populis*', 106),\n ('when populis*', 102),\n ('its populis*', 97),\n ('this populis*', 95),\n ('other populis*', 92),\n ('where populis*', 88),\n ('while populis*', 87),\n ('all populis*', 85),\n ('the nonpopulis*', 84),\n ('and nonpopulis*', 80),\n ('about populis*', 80),\n ('radical populis*', 79),\n ('measure populis*', 76),\n ('authoritarian populis*', 75),\n ('support populis*', 74),\n ('populis* populis*', 72),\n ('these populis*', 71),\n ('because populis*', 71),\n ('successful populis*', 71),\n ('class populis*', 71),\n ('some populis*', 70),\n ('use populis*', 69),\n ('both populis*', 69),\n ('be populis*', 66),\n ('or populis*', 63),\n ('of populis*’s', 62),\n ('less populis*', 62),\n ('the populis*’s', 61),\n ('strong populis*', 61),\n ('exclusionary populis*', 61),\n ('why populis*', 60),\n ('economic populis*', 59),\n ('leftist populis*', 59),\n ('measuring populis*', 56),\n ('although populis*', 55),\n ('the populis*’', 53),\n ('many populis*', 53),\n ('parties populis*', 53),\n ('most populis*', 52),\n ('not populis*', 52),\n ('political populis*', 52),\n ('are populis*', 51),\n ('than populis*', 51),\n ('radicalright populis*', 50),\n ('and antipopulis*', 50),\n ('japanese populis*', 50),\n ('his populis*', 49),\n ('of populis*’', 48),\n ('of ‘populis*’', 48),\n ('people populis*', 45),\n ('what populis*', 44),\n ('neoliberal populis*', 44),\n ('politics populis*', 43),\n ('into populis*', 42),\n ('thus populis*', 41),\n ('since populis*', 41),\n ('democracy populis*', 41),\n ('nationalist populis*', 41),\n ('two populis*', 41),\n ('policy populis*', 40),\n ('among populis*', 39),\n ('of ‘populis*', 39),\n ('as ‘populis*’', 39),\n ('under populis*', 38),\n ('different populis*', 38),\n ('first populis*', 38),\n ('against populis*', 38),\n ('the ‘populis*', 38),\n ('inclusionary populis*', 38),\n ('using populis*', 37),\n ('however populis*', 37)]"
     },
     "execution_count": 43,
     "metadata": {},
     "output_type": "execute_result"
    }
   ],
   "source": [
    "nltk.FreqDist(conc_left1_all).most_common()[:100]"
   ],
   "metadata": {
    "collapsed": false
   }
  },
  {
   "cell_type": "code",
   "execution_count": 45,
   "outputs": [
    {
     "data": {
      "text/plain": "['rightwing populis*',\n 'leftwing populis*',\n 'right populis*',\n 'american populis*',\n 'left populis*',\n 'new populis*',\n 'european populis*',\n 'contemporary populis*',\n 'radical populis*',\n 'authoritarian populis*',\n 'class populis*',\n 'strong populis*',\n 'exclusionary populis*',\n 'economic populis*',\n 'leftist populis*',\n 'political populis*',\n 'radicalright populis*',\n 'japanese populis*']"
     },
     "execution_count": 45,
     "metadata": {},
     "output_type": "execute_result"
    }
   ],
   "source": [
    "conc_left1_interesting = ['rightwing populis*', 'leftwing populis*', 'right populis*', 'american populis*', 'left populis*', 'new populis*', 'european populis*', 'contemporary populis*', 'radical populis*', 'authoritarian populis*', 'class populis*', 'strong populis*', 'exclusionary populis*', 'economic populis*', 'leftist populis*', 'political populis*', 'radicalright populis*', 'japanese populis*']\n",
    "conc_left1_interesting"
   ],
   "metadata": {
    "collapsed": false
   }
  },
  {
   "cell_type": "code",
   "execution_count": null,
   "outputs": [],
   "source": [],
   "metadata": {
    "collapsed": false
   }
  }
 ],
 "metadata": {
  "kernelspec": {
   "name": "conda_base",
   "language": "python",
   "display_name": "conda_base"
  },
  "language_info": {
   "codemirror_mode": {
    "name": "ipython",
    "version": 2
   },
   "file_extension": ".py",
   "mimetype": "text/x-python",
   "name": "python",
   "nbconvert_exporter": "python",
   "pygments_lexer": "ipython2",
   "version": "2.7.6"
  }
 },
 "nbformat": 4,
 "nbformat_minor": 0
}
