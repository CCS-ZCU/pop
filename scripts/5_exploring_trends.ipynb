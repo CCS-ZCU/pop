{
 "cells": [
  {
   "cell_type": "code",
   "execution_count": 52,
   "metadata": {
    "collapsed": true
   },
   "outputs": [],
   "source": [
    "import pandas as pd\n",
    "import re\n",
    "import nltk\n",
    "import string\n",
    "import google_conf\n",
    "from importlib import reload"
   ]
  },
  {
   "cell_type": "code",
   "execution_count": 53,
   "outputs": [],
   "source": [
    "pop_data = google_conf.setup(sheet_url=\"https://docs.google.com/spreadsheets/d/1o8L0Rt4CzQ_DcYdaKgCdige4nJs0sydlTGiMBSstQtc/edit?usp=sharing\", service_account_path=\"../../ServiceAccountsKey.json\")"
   ],
   "metadata": {
    "collapsed": false
   }
  },
  {
   "cell_type": "code",
   "execution_count": 54,
   "outputs": [
    {
     "data": {
      "text/plain": "   year                 authors                            journal  \\\n0  2011              Bos et al.            Political Communication   \n1  2019         Blassnig et al.            Political Communication   \n2  2017                Caramani  American Political Science Review   \n3  2020  Wuttke,Schimpf, Schoen  American Political Science Review   \n4  2014                   Treib  Journal of European Public Policy   \n\n                                               title     type pdf? keywords  \\\n0  How the Media Shape Perceptions of Right-Wing ...  article    y        y   \n1  Hitting a Nerve: Populist News Articles Lead t...  article    y        y   \n2  Will vs. Reason: The Populist and Technocratic...  article    y        y   \n3  When the Whole Is Greater than the Sum of Its ...  article    y        y   \n4  The voter says no, but nobody listens: causes ...  article    y        y   \n\n  keywords_online? notes                                           filepath  \\\n0                y  None  [Political Communication/2011 - Bos et al. - H...   \n1                y  None  [Political Communication/2019 - Blassing et al...   \n2             None  None  [American Political Science Review/2017 - Cara...   \n3             None  None  [American Political Science Review/2020 - Wutt...   \n4             None  None  [Journal of European Public Policy/2014 - Trei...   \n\n   pop_id  \n0       0  \n1       1  \n2       2  \n3       3  \n4       4  ",
      "text/html": "<div>\n<style scoped>\n    .dataframe tbody tr th:only-of-type {\n        vertical-align: middle;\n    }\n\n    .dataframe tbody tr th {\n        vertical-align: top;\n    }\n\n    .dataframe thead th {\n        text-align: right;\n    }\n</style>\n<table border=\"1\" class=\"dataframe\">\n  <thead>\n    <tr style=\"text-align: right;\">\n      <th></th>\n      <th>year</th>\n      <th>authors</th>\n      <th>journal</th>\n      <th>title</th>\n      <th>type</th>\n      <th>pdf?</th>\n      <th>keywords</th>\n      <th>keywords_online?</th>\n      <th>notes</th>\n      <th>filepath</th>\n      <th>pop_id</th>\n    </tr>\n  </thead>\n  <tbody>\n    <tr>\n      <th>0</th>\n      <td>2011</td>\n      <td>Bos et al.</td>\n      <td>Political Communication</td>\n      <td>How the Media Shape Perceptions of Right-Wing ...</td>\n      <td>article</td>\n      <td>y</td>\n      <td>y</td>\n      <td>y</td>\n      <td>None</td>\n      <td>[Political Communication/2011 - Bos et al. - H...</td>\n      <td>0</td>\n    </tr>\n    <tr>\n      <th>1</th>\n      <td>2019</td>\n      <td>Blassnig et al.</td>\n      <td>Political Communication</td>\n      <td>Hitting a Nerve: Populist News Articles Lead t...</td>\n      <td>article</td>\n      <td>y</td>\n      <td>y</td>\n      <td>y</td>\n      <td>None</td>\n      <td>[Political Communication/2019 - Blassing et al...</td>\n      <td>1</td>\n    </tr>\n    <tr>\n      <th>2</th>\n      <td>2017</td>\n      <td>Caramani</td>\n      <td>American Political Science Review</td>\n      <td>Will vs. Reason: The Populist and Technocratic...</td>\n      <td>article</td>\n      <td>y</td>\n      <td>y</td>\n      <td>None</td>\n      <td>None</td>\n      <td>[American Political Science Review/2017 - Cara...</td>\n      <td>2</td>\n    </tr>\n    <tr>\n      <th>3</th>\n      <td>2020</td>\n      <td>Wuttke,Schimpf, Schoen</td>\n      <td>American Political Science Review</td>\n      <td>When the Whole Is Greater than the Sum of Its ...</td>\n      <td>article</td>\n      <td>y</td>\n      <td>y</td>\n      <td>None</td>\n      <td>None</td>\n      <td>[American Political Science Review/2020 - Wutt...</td>\n      <td>3</td>\n    </tr>\n    <tr>\n      <th>4</th>\n      <td>2014</td>\n      <td>Treib</td>\n      <td>Journal of European Public Policy</td>\n      <td>The voter says no, but nobody listens: causes ...</td>\n      <td>article</td>\n      <td>y</td>\n      <td>y</td>\n      <td>None</td>\n      <td>None</td>\n      <td>[Journal of European Public Policy/2014 - Trei...</td>\n      <td>4</td>\n    </tr>\n  </tbody>\n</table>\n</div>"
     },
     "execution_count": 54,
     "metadata": {},
     "output_type": "execute_result"
    }
   ],
   "source": [
    "articles_metadata = pd.read_json(\"../data/article_metadata_with_filepaths.json\")\n",
    "articles_metadata.head(5)"
   ],
   "metadata": {
    "collapsed": false
   }
  },
  {
   "cell_type": "code",
   "execution_count": 55,
   "outputs": [],
   "source": [
    "articles_metadata = articles_metadata[articles_metadata[\"filepath\"].apply(bool)].copy()"
   ],
   "metadata": {
    "collapsed": false
   }
  },
  {
   "cell_type": "code",
   "execution_count": 56,
   "outputs": [],
   "source": [
    "sample_pop_ids = [62, 377, 188, 364, 499, 228, 376, 90, 227, 330]"
   ],
   "metadata": {
    "collapsed": false
   }
  },
  {
   "cell_type": "markdown",
   "source": [
    "# Test with one document"
   ],
   "metadata": {
    "collapsed": false
   }
  },
  {
   "cell_type": "code",
   "execution_count": 57,
   "outputs": [],
   "source": [
    "pop_id = 90\n",
    "path = \"../data/large_data/articles_filteredtexts/\"\n",
    "filename = \"filteredtext_pop_id_{}.txt\".format(str(pop_id))"
   ],
   "metadata": {
    "collapsed": false
   }
  },
  {
   "cell_type": "code",
   "execution_count": 58,
   "outputs": [],
   "source": [
    "with open(path + filename, \"r\") as f:\n",
    "    filteredtext = f.read()"
   ],
   "metadata": {
    "collapsed": false
   }
  },
  {
   "cell_type": "code",
   "execution_count": 59,
   "outputs": [
    {
     "name": "stdout",
     "output_type": "stream",
     "text": [
      "['Abstract.', 'As', 'a', 'result', 'of', 'the', 'steady', 'rise', 'of', 'populist', 'parties', 'and', 'politicians', 'all', 'over', 'the', 'world', '–', 'and', 'particularly', 'since', 'the', 'Brexit', 'referendum', 'and', 'the', 'election', 'of', 'Donald', 'Trump', '–', 'populism', 'research', 'has', 'become', 'increasingly', 'popular', 'and', 'widespread.', 'The', 'field,', 'however,', 'also', 'faces', 'some', 'tricky', 'challenges.', 'First,', 'it', 'is', 'easy', 'to', 'confuse', 'populism', 'with', 'related', 'concepts', 'like,', 'for', 'instance,', '‘nativism’', 'and', '‘Euroscepticism’.', 'This', 'brings', 'the', 'risk', 'of', 'sloppy', 'conceptualisation,', 'and,', 'as', 'a', 'result,', 'invalid', 'inferences.', 'Second,', 'populism', 'research', 'remains', 'relatively', 'detached', 'from', 'adjacent', 'fields,and', 'fruitful', 'fertilisation', 'across', 'literatures', 'is', 'still', 'rather', 'uncommon.In', 'order', 'to', 'deal', 'with', 'these', 'challenges,populism', 'research']\n"
     ]
    }
   ],
   "source": [
    "test_str_list = filteredtext.split()[:100]\n",
    "print(test_str_list)"
   ],
   "metadata": {
    "collapsed": false
   }
  },
  {
   "cell_type": "code",
   "execution_count": 60,
   "outputs": [
    {
     "data": {
      "text/plain": "[9,\n 31,\n 53,\n 77,\n 98,\n 129,\n 171,\n 181,\n 183,\n 222,\n 224,\n 253,\n 294,\n 306,\n 331,\n 333,\n 378,\n 387,\n 408,\n 474,\n 498,\n 506,\n 515,\n 524,\n 551,\n 597,\n 608,\n 625,\n 649,\n 664,\n 678,\n 741,\n 770,\n 838,\n 858,\n 865,\n 882,\n 945,\n 968,\n 1012,\n 1026,\n 1048,\n 1057,\n 1100,\n 1143,\n 1157,\n 1162,\n 1174,\n 1196,\n 1241,\n 1280,\n 1289,\n 1326,\n 1339,\n 1346,\n 1379,\n 1402,\n 1415,\n 1418,\n 1439,\n 1457,\n 1526,\n 1569,\n 1588,\n 1603,\n 1618,\n 1636,\n 1657,\n 1698,\n 1755,\n 1770,\n 1818,\n 1841,\n 1851,\n 1875,\n 1889,\n 1925,\n 1939,\n 1959,\n 2025,\n 2036,\n 2088,\n 2117,\n 2139,\n 2157,\n 2177,\n 2186,\n 2192,\n 2249,\n 2259,\n 2288,\n 2367,\n 2460,\n 2495,\n 2525,\n 2561,\n 2653,\n 2663,\n 2684,\n 2695,\n 2714,\n 2726,\n 2762,\n 2827,\n 2923,\n 2947,\n 2979,\n 3001,\n 3020,\n 3113,\n 3120,\n 3172,\n 3237,\n 3269,\n 3280,\n 3299,\n 3343,\n 3352,\n 3528,\n 3544,\n 3592,\n 3651,\n 3711,\n 3753,\n 3776,\n 3787,\n 3811,\n 3854,\n 3892,\n 3916,\n 3957,\n 3978,\n 4006,\n 4019,\n 4047,\n 4085]"
     },
     "execution_count": 60,
     "metadata": {},
     "output_type": "execute_result"
    }
   ],
   "source": [
    "# gather indeces:\n",
    "filteredtext_split = filteredtext.split()\n",
    "inxs = [t[0] for t in enumerate(filteredtext_split) if re.search(\"populis\", t[1], re.IGNORECASE)]\n",
    "inxs"
   ],
   "metadata": {
    "collapsed": false
   }
  },
  {
   "cell_type": "code",
   "execution_count": 61,
   "outputs": [
    {
     "name": "stdout",
     "output_type": "stream",
     "text": [
      "['rise', 'of', 'populist', 'parties', 'and']\n",
      "['Trump', '–', 'populism', 'research', 'has']\n",
      "['to', 'confuse', 'populism', 'with', 'related']\n",
      "['inferences.', 'Second,', 'populism', 'research', 'remains']\n",
      "['with', 'these', 'challenges,populism', 'research', 'should']\n",
      "['other', 'researchers,', 'populism', 'scholars', 'should']\n",
      "['can', 'inspire', 'populism', 'scholars', 'to']\n",
      "['expectations.', 'Keyword:', 'populism', 'Introduction', 'Populism']\n",
      "['populism', 'Introduction', 'Populism', 'is', 'sexy.Particularly']\n",
      "['the', 'terms', '‘populism’', 'or', '‘populist’']\n",
      "['‘populism’', 'or', '‘populist’', '671', 'times.']\n",
      "['in', '2017', '‘populism’', 'was', 'declared']\n",
      "['rise', 'of', 'populist', 'parties', 'and']\n",
      "['appeal', 'of', 'populism', 'is', 'also']\n",
      "['the', 'words', '‘populism’', 'or', '‘populist’']\n",
      "['‘populism’', 'or', '‘populist’', 'in', 'the']\n",
      "['devoted', 'to', 'populism!', 'It', 'seems']\n",
      "['research', 'on', 'populism', 'has', 'become']\n",
      "['literature', 'on', 'populism,', 'thereby', 'mainly']\n",
      "['to', 'the', 'populism', 'literature,', 'and']\n",
      "['learn', 'from', 'populism', 'research,', 'and']\n",
      "['way', 'around)', 'populism', 'scholars', 'can']\n",
      "['adjacent', 'topics.', 'Populism', 'research', 'so']\n",
      "['the', 'term', '‘populism’', 'had', 'already']\n",
      "['to', 'discuss', 'populism', '–', 'a']\n",
      "['exactly', 'is', 'populism?', 'what', 'are']\n",
      "['histories', 'of', 'populism', 'in', 'various']\n",
      "['to', 'define', 'populism.', 'Almost', '15']\n",
      "['instances', 'of', 'populism', 'across', 'cases']\n",
      "['types', 'of', 'populism.', 'Yet', 'she']\n",
      "['categories', 'of', 'populism', 'had', 'in']\n",
      "['to', 'the', 'populism', 'literature.', 'Yet']\n",
      "['rise', 'of', 'populism', 'studies', 'with']\n",
      "['instances', 'of', 'populism', 'by', 'means']\n",
      "['leaders', 'were', 'populist', 'and', 'considered']\n",
      "['of', 'why', 'populist', 'actors', 'had']\n",
      "['explosion', 'of', 'populism', 'studies', 'in']\n",
      "['work', 'on', 'populism', 'in', 'various']\n",
      "['defined.', 'Although', 'populism', 'is', 'still']\n",
      "['a', 'concept,', 'populism', 'thus', 'consists']\n",
      "['scholars', 'define', 'populism', 'as', 'a']\n",
      "['share', 'of', 'populism', 'scholars', 'endorsing']\n",
      "['agrees', 'that', 'populism', 'is', 'a']\n",
      "['genus', 'of', 'populism.', 'As', 'a']\n",
      "['on', 'conceptualising', 'populism', 'has', 'made']\n",
      "['approach', 'to', 'populism', '(i.e.,', 'the']\n",
      "['belief', 'that', 'populism', 'is', 'a']\n",
      "['can', 'endorse', 'populism', 'to', 'a']\n",
      "['politicians', 'express', 'populist', 'messages', '–']\n",
      "['degree', 'of', 'populism', 'of', 'parties']\n",
      "['assess', 'how', 'populist', 'politicians', 'are.']\n",
      "['to', 'measuring', 'populism,', 'a', 'lot']\n",
      "['order', 'for', 'populism', 'to', 'be']\n",
      "['research', 'on', 'populism', 'differs', 'from']\n",
      "['is', 'that', 'populism', 'studies', 'nowadays']\n",
      "['voters', 'for', 'populist', 'parties', 'have']\n",
      "['of', 'right-wing', 'populist', 'parties,', 'we']\n",
      "['for', 'left-wing', 'populist', 'parties', 'or']\n",
      "['parties', 'or', 'populist', 'parties', 'in']\n",
      "['citizens', 'have', 'populist', 'ideas.', 'Hawkins']\n",
      "['demonstrate', 'that', 'populism', 'can', 'also']\n",
      "['voting', 'for', 'populists', 'has', 'psychological']\n",
      "['that', 'the', 'populist', 'attitude', 'really']\n",
      "['is', 'the', 'populist', 'attitude', 'not']\n",
      "['contributions', 'to', 'populism', 'research', 'have']\n",
      "['of', 'ideas,', 'populism', 'is', 'also']\n",
      "['what', 'extent', 'populist', 'messages', 'in']\n",
      "['that', 'the', 'populist', 'set', 'of']\n",
      "['respond', 'to', 'populist', 'messages.', 'Yet']\n",
      "['increasingly', 'assess', 'populism', 'in', 'power.']\n",
      "['recent', 'years', 'populist', 'parties', '(at']\n",
      "['what', 'extent', 'populists', 'are', 'able']\n",
      "['to', 'which', 'populists', 'harm', 'liberal']\n",
      "['relationship', 'between', 'populism', 'and', '(liberal)']\n",
      "['consequences', 'of', 'populism', 'for', 'how']\n",
      "['2016).', 'Hence,', 'populism', 'research', 'is']\n",
      "['to', 'confuse', 'populism', 'with', 'related']\n",
      "['this', 'article,', 'populism', 'has', 'become']\n",
      "['characterised', 'as', 'populist', '(e.g.,', 'Trump,']\n",
      "['characteristics', 'of', 'populism.', 'This', 'conclusion']\n",
      "['of', 'confusing', 'populism', 'with', 'a']\n",
      "['19).', 'Where', 'populism', 'concerns', 'the']\n",
      "['2005).', 'Conflating', 'populism', 'with', 'nativism']\n",
      "['vote', 'for', 'populists?', 'Certainly', 'not.']\n",
      "['radical', 'right-wing', 'populists', '–', 'who']\n",
      "['voting', 'for', 'populists', 'in', 'general.']\n",
      "['category', 'of', '‘populists', 'in', 'general’']\n",
      "['includes', 'left-wing', 'populists', 'like', 'Syriza']\n",
      "['radical', 'right-wing', 'populist', 'parties', 'has']\n",
      "['these', 'parties’', 'populism.', 'Most', 'likely']\n",
      "['carefully', 'conceptualise', 'populism,', 'building', 'on']\n",
      "['of', 'parties', '(populist,', 'far', 'right,']\n",
      "['that:(1)', 'a', 'populist', 'party', 'need']\n",
      "['be', 'a', 'populist', 'party', '(KKE']\n",
      "['be', 'a', 'populist', 'party', '(SEL']\n",
      "['be', 'a', 'populist', 'party', '(SEL,']\n",
      "['than', 'on', 'populism.', 'After', 'all,']\n",
      "['not', 'their', 'populism', 'that', 'can']\n",
      "['concept', 'of', 'populism', 'just', 'because']\n",
      "['Challenge', '2:', 'Populism', 'research', 'remains']\n",
      "['imply', 'that', 'populism', 'researchers', 'should']\n",
      "['that', 'the', 'populism', 'literature', 'should']\n",
      "['concept', 'of', 'populism', 'is', 'that']\n",
      "['realise', 'that', 'populism', 'was', 'by']\n",
      "['that', 'although', 'populism', 'helps', 'us']\n",
      "['assess', 'how', 'populism', 'is', 'associated']\n",
      "['of', 'contemporary', 'populism', 'research', 'is']\n",
      "['how', 'exactly', 'populism', 'relates', 'to']\n",
      "['hypotheses', 'in', 'populism', 'research', 'to']\n",
      "['nowadays', 'conceptualise', 'populist', 'parties.', 'The']\n",
      "['is', 'that', 'populism', 'is', 'a']\n",
      "['informative', 'for', 'populism', 'research.', 'It']\n",
      "['alone', 'that', 'populist', 'parties', 'will']\n",
      "['classified', 'as', '‘populist’', '–', 'the']\n",
      "['tailored', 'to', 'populist', 'parties', 'and']\n",
      "['the', 'more', 'populist', 'a', 'party’s']\n",
      "['rarely', 'informs', 'populism', 'studies', 'is']\n",
      "['in-group/out-group', 'thinking.', 'Populism', 'is', 'an']\n",
      "['comes', 'to', 'populism.', 'Therefore,', 'research']\n",
      "['inspiration', 'for', 'populism', 'scholars', '(see']\n",
      "['to', 'which', 'populism', 'and', 'nativism']\n",
      "['easily', 'implemented):', 'populism', 'scholars', '(and']\n",
      "['literature', 'on', 'populism', 'has', 'exploded']\n",
      "['overview', 'of', 'populism', 'research', 'so']\n",
      "['literature', 'on', 'populism.', 'The', 'first']\n",
      "['to', 'confuse', 'populism', 'with', 'related']\n",
      "['drawing', 'invalid', 'conclusions.Second,populism', 'research', 'has']\n",
      "['focus', 'within', 'populism', 'studies.', 'How']\n",
      "['other', 'researchers,', 'populism', 'scholars', 'should']\n",
      "['stick', 'to', 'populism', 'studies,and', 'turn']\n",
      "['hypotheses', 'about', 'populism.', 'Hence,', 'when']\n",
      "['open', 'mind-set.', 'Populism', 'research', 'can']\n",
      "['hypotheses', 'about', 'populism.', 'At', 'the']\n",
      "['lot', 'from', 'populism', 'research.', 'In']\n",
      "['understanding', 'of', 'populism.', 'Unfortunately,', 'however,']\n",
      "['sexiness', 'of', 'populism', 'is', 'an']\n"
     ]
    }
   ],
   "source": [
    "for i in inxs:\n",
    "    print(filteredtext_split[i-2:i+3])\n"
   ],
   "metadata": {
    "collapsed": false
   }
  },
  {
   "cell_type": "code",
   "execution_count": 62,
   "outputs": [],
   "source": [
    "def extract_indeces(pop_id):\n",
    "    path = \"../data/large_data/articles_filteredtexts/\"\n",
    "    filename = \"filteredtext_pop_id_{}.txt\".format(str(pop_id))\n",
    "    with open(path + filename, \"r\") as f:\n",
    "        filteredtext = f.read()\n",
    "    filteredtext_split = filteredtext.split()\n",
    "    inxs = [t[0] for t in enumerate(filteredtext_split) if re.search(\"populis\", t[1], re.IGNORECASE)]\n",
    "    return inxs\n",
    "articles_metadata[\"populism_inxs\"] = articles_metadata[\"pop_id\"].apply(extract_indeces)"
   ],
   "metadata": {
    "collapsed": false
   }
  },
  {
   "cell_type": "code",
   "execution_count": 63,
   "outputs": [
    {
     "data": {
      "text/plain": "0      [23, 37, 75, 178, 199, 225, 229, 231, 236, 302...\n1      [17, 26, 40, 49, 104, 128, 144, 145, 161, 223,...\n2      [4, 19, 59, 100, 125, 339, 466, 541, 633, 673,...\n3      [65, 125, 142, 195, 225, 254, 282, 304, 313, 3...\n4              [249, 2269, 3843, 3951, 4395, 4437, 4558]\n                             ...                        \n537                               [133, 216, 2402, 3622]\n538    [483, 493, 501, 523, 687, 1104, 1138, 1151, 11...\n539    [20, 66, 285, 355, 361, 421, 609, 620, 680, 72...\n540    [41, 177, 199, 240, 828, 855, 974, 1515, 2746,...\n541    [2, 8, 12, 66, 81, 95, 100, 117, 139, 148, 178...\nName: populism_inxs, Length: 537, dtype: object"
     },
     "execution_count": 63,
     "metadata": {},
     "output_type": "execute_result"
    }
   ],
   "source": [
    "articles_metadata[\"populism_inxs\"]"
   ],
   "metadata": {
    "collapsed": false
   }
  },
  {
   "cell_type": "code",
   "execution_count": 64,
   "outputs": [],
   "source": [
    "articles_metadata[\"populis*_N\"] = articles_metadata[\"populism_inxs\"].apply(len)"
   ],
   "metadata": {
    "collapsed": false
   }
  },
  {
   "cell_type": "code",
   "execution_count": 65,
   "outputs": [
    {
     "data": {
      "text/plain": "41084"
     },
     "execution_count": 65,
     "metadata": {},
     "output_type": "execute_result"
    }
   ],
   "source": [
    "articles_metadata[\"populis*_N\"].sum()"
   ],
   "metadata": {
    "collapsed": false
   }
  },
  {
   "cell_type": "code",
   "execution_count": 144,
   "outputs": [],
   "source": [
    "replace_tups = [\n",
    "    (\"populists\", \"populis*\"),\n",
    "    (\"populisms\", \"populis*\"),\n",
    "    (\"populist\", \"populis*\"),\n",
    "    (\"populism\", \"populis*\"),\n",
    "]\n",
    "def clean_conc(conc_string):\n",
    "    conc_cleaned = \" \".join([re.sub(\"\\W\", \"\", w, count=10) for w in conc_string.lower().split()])\n",
    "    conc_cleaned = re.sub(\"\\d+\", \"\", conc_cleaned, count=10)\n",
    "    #conc_cleaned = conc_cleaned.lower().translate(str.maketrans(\"\", \"\", string.punctuation))\n",
    "    for tup in replace_tups:\n",
    "        conc_cleaned = conc_cleaned.replace(tup[0], tup[1])\n",
    "    return conc_cleaned"
   ],
   "metadata": {
    "collapsed": false
   }
  },
  {
   "cell_type": "code",
   "execution_count": 145,
   "outputs": [
    {
     "data": {
      "text/plain": "'rightwing populis*'"
     },
     "execution_count": 145,
     "metadata": {},
     "output_type": "execute_result"
    }
   ],
   "source": [
    "clean_conc(\"4right-wing populists.12@#`^&\")"
   ],
   "metadata": {
    "collapsed": false
   }
  },
  {
   "cell_type": "code",
   "execution_count": 146,
   "outputs": [],
   "source": [
    "def get_concordance(row, left=1, right=1):\n",
    "    pop_id = row[\"pop_id\"]\n",
    "    path = \"../data/large_data/articles_filteredtexts/\"\n",
    "    filename = \"filteredtext_pop_id_{}.txt\".format(str(pop_id))\n",
    "    with open(path + filename, \"r\") as f:\n",
    "        filteredtext = f.read()\n",
    "    filteredtext_split = filteredtext.split()\n",
    "    inxs = row[\"populism_inxs\"]\n",
    "    conc_data = [clean_conc(\" \".join(filteredtext_split[i-left: i+right+1])) for i in inxs]\n",
    "    return conc_data"
   ],
   "metadata": {
    "collapsed": false
   }
  },
  {
   "cell_type": "code",
   "execution_count": 147,
   "outputs": [],
   "source": [
    "articles_metadata[\"conc_left1\"] = articles_metadata.apply(lambda row: get_concordance(row, left=1, right=0), axis=1)\n",
    "articles_metadata[\"conc_right1\"] = articles_metadata.apply(lambda row: get_concordance(row, left=0, right=1), axis=1)"
   ],
   "metadata": {
    "collapsed": false
   }
  },
  {
   "cell_type": "code",
   "execution_count": 148,
   "outputs": [
    {
     "data": {
      "text/plain": "     year                 authors                                journal  \\\n0    2011              Bos et al.                Political Communication   \n1    2019         Blassnig et al.                Political Communication   \n2    2017                Caramani      American Political Science Review   \n3    2020  Wuttke,Schimpf, Schoen      American Political Science Review   \n4    2014                   Treib      Journal of European Public Policy   \n..    ...                     ...                                    ...   \n537  2018          Grzymala-Busse                        Current History   \n538  2017             Eichengreen                        Current History   \n539  2014                   Mudde                        Current History   \n540  2020                    Cano             European History Quarterly   \n541  2015                Lindgren  Japanese Journal of Political Science   \n\n                                                 title     type pdf? keywords  \\\n0    How the Media Shape Perceptions of Right-Wing ...  article    y        y   \n1    Hitting a Nerve: Populist News Articles Lead t...  article    y        y   \n2    Will vs. Reason: The Populist and Technocratic...  article    y        y   \n3    When the Whole Is Greater than the Sum of Its ...  article    y        y   \n4    The voter says no, but nobody listens: causes ...  article    y        y   \n..                                                 ...      ...  ...      ...   \n537                      Poland’s Path to Illiberalism  article    y        y   \n538             The Populist Turn in American Politics  article    y        y   \n539           The Far Right and the European Elections  article    y        y   \n540                                Printing the People  article    y        y   \n541  Developing Japanese Populism Research through ...  article    y        y   \n\n    keywords_online? notes                                           filepath  \\\n0                  y  None  [Political Communication/2011 - Bos et al. - H...   \n1                  y  None  [Political Communication/2019 - Blassing et al...   \n2               None  None  [American Political Science Review/2017 - Cara...   \n3               None  None  [American Political Science Review/2020 - Wutt...   \n4               None  None  [Journal of European Public Policy/2014 - Trei...   \n..               ...   ...                                                ...   \n537             None  None  [Current History/2018 - Grzymala-Busse - Polan...   \n538             None  None  [Current History/2017 - Eichengreen - The Popu...   \n539             None  None  [Current History/2014 - Mudde - The Far Right ...   \n540             None  None  [European History Quarterly/2020 - Cano - Prin...   \n541             None  None  [Japanese Journal of Political Science/2015 - ...   \n\n     pop_id                                      populism_inxs  populis*_N  \\\n0         0  [23, 37, 75, 178, 199, 225, 229, 231, 236, 302...         199   \n1         1  [17, 26, 40, 49, 104, 128, 144, 145, 161, 223,...         222   \n2         2  [4, 19, 59, 100, 125, 339, 466, 541, 633, 673,...         117   \n3         3  [65, 125, 142, 195, 225, 254, 282, 304, 313, 3...         296   \n4         4          [249, 2269, 3843, 3951, 4395, 4437, 4558]           7   \n..      ...                                                ...         ...   \n537     537                             [133, 216, 2402, 3622]           4   \n538     538  [483, 493, 501, 523, 687, 1104, 1138, 1151, 11...          20   \n539     539  [20, 66, 285, 355, 361, 421, 609, 620, 680, 72...          17   \n540     540  [41, 177, 199, 240, 828, 855, 974, 1515, 2746,...          39   \n541     541  [2, 8, 12, 66, 81, 95, 100, 117, 139, 148, 178...         282   \n\n                                            conc_left1  \\\n0    [rightwing populis*, rightwing populis*, right...   \n1    [nerve populis*, more populis*, of populis*, h...   \n2    [analytically populis*, that populis*, both po...   \n3    [of populis*, both conceptuallyandempiricallyt...   \n4    [euroscepticism populis*, on populis*, on popu...   \n..                                                 ...   \n537  [illiberal populis*, of populis*, often populi...   \n538  [new populis*, old populis*, the populis*,  po...   \n539  [antieuropean populis*, european populis*, ant...   \n540  [this populis*, nationalism populis*, photogra...   \n541  [japanese populis*, european populis*, studies...   \n\n                                           conc_right1  \\\n0    [populis* leaders, populis* party, populis* le...   \n1    [populis* news, populis* reader, populis* comm...   \n2    [populis* and, populis* and, populis* and, pop...   \n3    [populis* attitudes, conceptuallyandempiricall...   \n4    [populis* secondorder, populis* and, populis* ...   \n..                                                 ...   \n537  [populis* it, populis* pis, populis* and, popu...   \n538  [populis* bears, populis* of, populis* revolt,...   \n539  [populis* in, populis* backlash, populis* are,...   \n540  [populis* nationalism, populis* and, populis* ...   \n541  [populis* research, populis* radical, populis*...   \n\n                                conc_left1_interesting  \n0    {'rightwing populis*': 111, 'leftwing populis*...  \n1    {'rightwing populis*': 3, 'leftwing populis*':...  \n2    {'rightwing populis*': 2, 'leftwing populis*':...  \n3    {'rightwing populis*': 0, 'leftwing populis*':...  \n4    {'rightwing populis*': 0, 'leftwing populis*':...  \n..                                                 ...  \n537  {'rightwing populis*': 0, 'leftwing populis*':...  \n538  {'rightwing populis*': 0, 'leftwing populis*':...  \n539  {'rightwing populis*': 1, 'leftwing populis*':...  \n540  {'rightwing populis*': 0, 'leftwing populis*':...  \n541  {'rightwing populis*': 6, 'leftwing populis*':...  \n\n[537 rows x 16 columns]",
      "text/html": "<div>\n<style scoped>\n    .dataframe tbody tr th:only-of-type {\n        vertical-align: middle;\n    }\n\n    .dataframe tbody tr th {\n        vertical-align: top;\n    }\n\n    .dataframe thead th {\n        text-align: right;\n    }\n</style>\n<table border=\"1\" class=\"dataframe\">\n  <thead>\n    <tr style=\"text-align: right;\">\n      <th></th>\n      <th>year</th>\n      <th>authors</th>\n      <th>journal</th>\n      <th>title</th>\n      <th>type</th>\n      <th>pdf?</th>\n      <th>keywords</th>\n      <th>keywords_online?</th>\n      <th>notes</th>\n      <th>filepath</th>\n      <th>pop_id</th>\n      <th>populism_inxs</th>\n      <th>populis*_N</th>\n      <th>conc_left1</th>\n      <th>conc_right1</th>\n      <th>conc_left1_interesting</th>\n    </tr>\n  </thead>\n  <tbody>\n    <tr>\n      <th>0</th>\n      <td>2011</td>\n      <td>Bos et al.</td>\n      <td>Political Communication</td>\n      <td>How the Media Shape Perceptions of Right-Wing ...</td>\n      <td>article</td>\n      <td>y</td>\n      <td>y</td>\n      <td>y</td>\n      <td>None</td>\n      <td>[Political Communication/2011 - Bos et al. - H...</td>\n      <td>0</td>\n      <td>[23, 37, 75, 178, 199, 225, 229, 231, 236, 302...</td>\n      <td>199</td>\n      <td>[rightwing populis*, rightwing populis*, right...</td>\n      <td>[populis* leaders, populis* party, populis* le...</td>\n      <td>{'rightwing populis*': 111, 'leftwing populis*...</td>\n    </tr>\n    <tr>\n      <th>1</th>\n      <td>2019</td>\n      <td>Blassnig et al.</td>\n      <td>Political Communication</td>\n      <td>Hitting a Nerve: Populist News Articles Lead t...</td>\n      <td>article</td>\n      <td>y</td>\n      <td>y</td>\n      <td>y</td>\n      <td>None</td>\n      <td>[Political Communication/2019 - Blassing et al...</td>\n      <td>1</td>\n      <td>[17, 26, 40, 49, 104, 128, 144, 145, 161, 223,...</td>\n      <td>222</td>\n      <td>[nerve populis*, more populis*, of populis*, h...</td>\n      <td>[populis* news, populis* reader, populis* comm...</td>\n      <td>{'rightwing populis*': 3, 'leftwing populis*':...</td>\n    </tr>\n    <tr>\n      <th>2</th>\n      <td>2017</td>\n      <td>Caramani</td>\n      <td>American Political Science Review</td>\n      <td>Will vs. Reason: The Populist and Technocratic...</td>\n      <td>article</td>\n      <td>y</td>\n      <td>y</td>\n      <td>None</td>\n      <td>None</td>\n      <td>[American Political Science Review/2017 - Cara...</td>\n      <td>2</td>\n      <td>[4, 19, 59, 100, 125, 339, 466, 541, 633, 673,...</td>\n      <td>117</td>\n      <td>[analytically populis*, that populis*, both po...</td>\n      <td>[populis* and, populis* and, populis* and, pop...</td>\n      <td>{'rightwing populis*': 2, 'leftwing populis*':...</td>\n    </tr>\n    <tr>\n      <th>3</th>\n      <td>2020</td>\n      <td>Wuttke,Schimpf, Schoen</td>\n      <td>American Political Science Review</td>\n      <td>When the Whole Is Greater than the Sum of Its ...</td>\n      <td>article</td>\n      <td>y</td>\n      <td>y</td>\n      <td>None</td>\n      <td>None</td>\n      <td>[American Political Science Review/2020 - Wutt...</td>\n      <td>3</td>\n      <td>[65, 125, 142, 195, 225, 254, 282, 304, 313, 3...</td>\n      <td>296</td>\n      <td>[of populis*, both conceptuallyandempiricallyt...</td>\n      <td>[populis* attitudes, conceptuallyandempiricall...</td>\n      <td>{'rightwing populis*': 0, 'leftwing populis*':...</td>\n    </tr>\n    <tr>\n      <th>4</th>\n      <td>2014</td>\n      <td>Treib</td>\n      <td>Journal of European Public Policy</td>\n      <td>The voter says no, but nobody listens: causes ...</td>\n      <td>article</td>\n      <td>y</td>\n      <td>y</td>\n      <td>None</td>\n      <td>None</td>\n      <td>[Journal of European Public Policy/2014 - Trei...</td>\n      <td>4</td>\n      <td>[249, 2269, 3843, 3951, 4395, 4437, 4558]</td>\n      <td>7</td>\n      <td>[euroscepticism populis*, on populis*, on popu...</td>\n      <td>[populis* secondorder, populis* and, populis* ...</td>\n      <td>{'rightwing populis*': 0, 'leftwing populis*':...</td>\n    </tr>\n    <tr>\n      <th>...</th>\n      <td>...</td>\n      <td>...</td>\n      <td>...</td>\n      <td>...</td>\n      <td>...</td>\n      <td>...</td>\n      <td>...</td>\n      <td>...</td>\n      <td>...</td>\n      <td>...</td>\n      <td>...</td>\n      <td>...</td>\n      <td>...</td>\n      <td>...</td>\n      <td>...</td>\n      <td>...</td>\n    </tr>\n    <tr>\n      <th>537</th>\n      <td>2018</td>\n      <td>Grzymala-Busse</td>\n      <td>Current History</td>\n      <td>Poland’s Path to Illiberalism</td>\n      <td>article</td>\n      <td>y</td>\n      <td>y</td>\n      <td>None</td>\n      <td>None</td>\n      <td>[Current History/2018 - Grzymala-Busse - Polan...</td>\n      <td>537</td>\n      <td>[133, 216, 2402, 3622]</td>\n      <td>4</td>\n      <td>[illiberal populis*, of populis*, often populi...</td>\n      <td>[populis* it, populis* pis, populis* and, popu...</td>\n      <td>{'rightwing populis*': 0, 'leftwing populis*':...</td>\n    </tr>\n    <tr>\n      <th>538</th>\n      <td>2017</td>\n      <td>Eichengreen</td>\n      <td>Current History</td>\n      <td>The Populist Turn in American Politics</td>\n      <td>article</td>\n      <td>y</td>\n      <td>y</td>\n      <td>None</td>\n      <td>None</td>\n      <td>[Current History/2017 - Eichengreen - The Popu...</td>\n      <td>538</td>\n      <td>[483, 493, 501, 523, 687, 1104, 1138, 1151, 11...</td>\n      <td>20</td>\n      <td>[new populis*, old populis*, the populis*,  po...</td>\n      <td>[populis* bears, populis* of, populis* revolt,...</td>\n      <td>{'rightwing populis*': 0, 'leftwing populis*':...</td>\n    </tr>\n    <tr>\n      <th>539</th>\n      <td>2014</td>\n      <td>Mudde</td>\n      <td>Current History</td>\n      <td>The Far Right and the European Elections</td>\n      <td>article</td>\n      <td>y</td>\n      <td>y</td>\n      <td>None</td>\n      <td>None</td>\n      <td>[Current History/2014 - Mudde - The Far Right ...</td>\n      <td>539</td>\n      <td>[20, 66, 285, 355, 361, 421, 609, 620, 680, 72...</td>\n      <td>17</td>\n      <td>[antieuropean populis*, european populis*, ant...</td>\n      <td>[populis* in, populis* backlash, populis* are,...</td>\n      <td>{'rightwing populis*': 1, 'leftwing populis*':...</td>\n    </tr>\n    <tr>\n      <th>540</th>\n      <td>2020</td>\n      <td>Cano</td>\n      <td>European History Quarterly</td>\n      <td>Printing the People</td>\n      <td>article</td>\n      <td>y</td>\n      <td>y</td>\n      <td>None</td>\n      <td>None</td>\n      <td>[European History Quarterly/2020 - Cano - Prin...</td>\n      <td>540</td>\n      <td>[41, 177, 199, 240, 828, 855, 974, 1515, 2746,...</td>\n      <td>39</td>\n      <td>[this populis*, nationalism populis*, photogra...</td>\n      <td>[populis* nationalism, populis* and, populis* ...</td>\n      <td>{'rightwing populis*': 0, 'leftwing populis*':...</td>\n    </tr>\n    <tr>\n      <th>541</th>\n      <td>2015</td>\n      <td>Lindgren</td>\n      <td>Japanese Journal of Political Science</td>\n      <td>Developing Japanese Populism Research through ...</td>\n      <td>article</td>\n      <td>y</td>\n      <td>y</td>\n      <td>None</td>\n      <td>None</td>\n      <td>[Japanese Journal of Political Science/2015 - ...</td>\n      <td>541</td>\n      <td>[2, 8, 12, 66, 81, 95, 100, 117, 139, 148, 178...</td>\n      <td>282</td>\n      <td>[japanese populis*, european populis*, studies...</td>\n      <td>[populis* research, populis* radical, populis*...</td>\n      <td>{'rightwing populis*': 6, 'leftwing populis*':...</td>\n    </tr>\n  </tbody>\n</table>\n<p>537 rows × 16 columns</p>\n</div>"
     },
     "execution_count": 148,
     "metadata": {},
     "output_type": "execute_result"
    }
   ],
   "source": [
    "articles_metadata"
   ],
   "metadata": {
    "collapsed": false
   }
  },
  {
   "cell_type": "code",
   "execution_count": 149,
   "outputs": [],
   "source": [
    "conc_left1_all = []\n",
    "for conc_list in articles_metadata[\"conc_left1\"]:\n",
    "    conc_left1_all.extend(conc_list)"
   ],
   "metadata": {
    "collapsed": false
   }
  },
  {
   "cell_type": "code",
   "execution_count": 150,
   "outputs": [
    {
     "data": {
      "text/plain": "41084"
     },
     "execution_count": 150,
     "metadata": {},
     "output_type": "execute_result"
    }
   ],
   "source": [
    "len(conc_left1_all)"
   ],
   "metadata": {
    "collapsed": false
   }
  },
  {
   "cell_type": "code",
   "execution_count": 151,
   "outputs": [
    {
     "data": {
      "text/plain": "                     conc  count\n0             of populis*   7486\n1            the populis*   3217\n2      rightwing populis*   1680\n3           that populis*   1415\n4              a populis*   1382\n..                    ...    ...\n95       however populis*     37\n96     illiberal populis*     37\n97          such populis*     36\n98           but populis*     36\n99  pretreatment populis*     36\n\n[100 rows x 2 columns]",
      "text/html": "<div>\n<style scoped>\n    .dataframe tbody tr th:only-of-type {\n        vertical-align: middle;\n    }\n\n    .dataframe tbody tr th {\n        vertical-align: top;\n    }\n\n    .dataframe thead th {\n        text-align: right;\n    }\n</style>\n<table border=\"1\" class=\"dataframe\">\n  <thead>\n    <tr style=\"text-align: right;\">\n      <th></th>\n      <th>conc</th>\n      <th>count</th>\n    </tr>\n  </thead>\n  <tbody>\n    <tr>\n      <th>0</th>\n      <td>of populis*</td>\n      <td>7486</td>\n    </tr>\n    <tr>\n      <th>1</th>\n      <td>the populis*</td>\n      <td>3217</td>\n    </tr>\n    <tr>\n      <th>2</th>\n      <td>rightwing populis*</td>\n      <td>1680</td>\n    </tr>\n    <tr>\n      <th>3</th>\n      <td>that populis*</td>\n      <td>1415</td>\n    </tr>\n    <tr>\n      <th>4</th>\n      <td>a populis*</td>\n      <td>1382</td>\n    </tr>\n    <tr>\n      <th>...</th>\n      <td>...</td>\n      <td>...</td>\n    </tr>\n    <tr>\n      <th>95</th>\n      <td>however populis*</td>\n      <td>37</td>\n    </tr>\n    <tr>\n      <th>96</th>\n      <td>illiberal populis*</td>\n      <td>37</td>\n    </tr>\n    <tr>\n      <th>97</th>\n      <td>such populis*</td>\n      <td>36</td>\n    </tr>\n    <tr>\n      <th>98</th>\n      <td>but populis*</td>\n      <td>36</td>\n    </tr>\n    <tr>\n      <th>99</th>\n      <td>pretreatment populis*</td>\n      <td>36</td>\n    </tr>\n  </tbody>\n</table>\n<p>100 rows × 2 columns</p>\n</div>"
     },
     "execution_count": 151,
     "metadata": {},
     "output_type": "execute_result"
    }
   ],
   "source": [
    "conc_left1_all_df = pd.DataFrame(nltk.FreqDist(conc_left1_all).most_common(), columns=[\"conc\", \"count\"])\n",
    "conc_left1_all_df[:100]"
   ],
   "metadata": {
    "collapsed": false
   }
  },
  {
   "cell_type": "code",
   "execution_count": 153,
   "outputs": [
    {
     "ename": "ReadTimeout",
     "evalue": "HTTPSConnectionPool(host='sheets.googleapis.com', port=443): Read timed out. (read timeout=None)",
     "output_type": "error",
     "traceback": [
      "\u001B[0;31m---------------------------------------------------------------------------\u001B[0m",
      "\u001B[0;31mTimeoutError\u001B[0m                              Traceback (most recent call last)",
      "File \u001B[0;32m/opt/homebrew/Caskroom/miniconda/base/lib/python3.9/site-packages/urllib3/connectionpool.py:449\u001B[0m, in \u001B[0;36mHTTPConnectionPool._make_request\u001B[0;34m(self, conn, method, url, timeout, chunked, **httplib_request_kw)\u001B[0m\n\u001B[1;32m    445\u001B[0m         \u001B[38;5;28;01mexcept\u001B[39;00m \u001B[38;5;167;01mBaseException\u001B[39;00m \u001B[38;5;28;01mas\u001B[39;00m e:\n\u001B[1;32m    446\u001B[0m             \u001B[38;5;66;03m# Remove the TypeError from the exception chain in\u001B[39;00m\n\u001B[1;32m    447\u001B[0m             \u001B[38;5;66;03m# Python 3 (including for exceptions like SystemExit).\u001B[39;00m\n\u001B[1;32m    448\u001B[0m             \u001B[38;5;66;03m# Otherwise it looks like a bug in the code.\u001B[39;00m\n\u001B[0;32m--> 449\u001B[0m             \u001B[43msix\u001B[49m\u001B[38;5;241;43m.\u001B[39;49m\u001B[43mraise_from\u001B[49m\u001B[43m(\u001B[49m\u001B[43me\u001B[49m\u001B[43m,\u001B[49m\u001B[43m \u001B[49m\u001B[38;5;28;43;01mNone\u001B[39;49;00m\u001B[43m)\u001B[49m\n\u001B[1;32m    450\u001B[0m \u001B[38;5;28;01mexcept\u001B[39;00m (SocketTimeout, BaseSSLError, SocketError) \u001B[38;5;28;01mas\u001B[39;00m e:\n",
      "File \u001B[0;32m<string>:3\u001B[0m, in \u001B[0;36mraise_from\u001B[0;34m(value, from_value)\u001B[0m\n",
      "File \u001B[0;32m/opt/homebrew/Caskroom/miniconda/base/lib/python3.9/site-packages/urllib3/connectionpool.py:444\u001B[0m, in \u001B[0;36mHTTPConnectionPool._make_request\u001B[0;34m(self, conn, method, url, timeout, chunked, **httplib_request_kw)\u001B[0m\n\u001B[1;32m    443\u001B[0m \u001B[38;5;28;01mtry\u001B[39;00m:\n\u001B[0;32m--> 444\u001B[0m     httplib_response \u001B[38;5;241m=\u001B[39m \u001B[43mconn\u001B[49m\u001B[38;5;241;43m.\u001B[39;49m\u001B[43mgetresponse\u001B[49m\u001B[43m(\u001B[49m\u001B[43m)\u001B[49m\n\u001B[1;32m    445\u001B[0m \u001B[38;5;28;01mexcept\u001B[39;00m \u001B[38;5;167;01mBaseException\u001B[39;00m \u001B[38;5;28;01mas\u001B[39;00m e:\n\u001B[1;32m    446\u001B[0m     \u001B[38;5;66;03m# Remove the TypeError from the exception chain in\u001B[39;00m\n\u001B[1;32m    447\u001B[0m     \u001B[38;5;66;03m# Python 3 (including for exceptions like SystemExit).\u001B[39;00m\n\u001B[1;32m    448\u001B[0m     \u001B[38;5;66;03m# Otherwise it looks like a bug in the code.\u001B[39;00m\n",
      "File \u001B[0;32m/opt/homebrew/Caskroom/miniconda/base/lib/python3.9/http/client.py:1377\u001B[0m, in \u001B[0;36mHTTPConnection.getresponse\u001B[0;34m(self)\u001B[0m\n\u001B[1;32m   1376\u001B[0m \u001B[38;5;28;01mtry\u001B[39;00m:\n\u001B[0;32m-> 1377\u001B[0m     \u001B[43mresponse\u001B[49m\u001B[38;5;241;43m.\u001B[39;49m\u001B[43mbegin\u001B[49m\u001B[43m(\u001B[49m\u001B[43m)\u001B[49m\n\u001B[1;32m   1378\u001B[0m \u001B[38;5;28;01mexcept\u001B[39;00m \u001B[38;5;167;01mConnectionError\u001B[39;00m:\n",
      "File \u001B[0;32m/opt/homebrew/Caskroom/miniconda/base/lib/python3.9/http/client.py:320\u001B[0m, in \u001B[0;36mHTTPResponse.begin\u001B[0;34m(self)\u001B[0m\n\u001B[1;32m    319\u001B[0m \u001B[38;5;28;01mwhile\u001B[39;00m \u001B[38;5;28;01mTrue\u001B[39;00m:\n\u001B[0;32m--> 320\u001B[0m     version, status, reason \u001B[38;5;241m=\u001B[39m \u001B[38;5;28;43mself\u001B[39;49m\u001B[38;5;241;43m.\u001B[39;49m\u001B[43m_read_status\u001B[49m\u001B[43m(\u001B[49m\u001B[43m)\u001B[49m\n\u001B[1;32m    321\u001B[0m     \u001B[38;5;28;01mif\u001B[39;00m status \u001B[38;5;241m!=\u001B[39m CONTINUE:\n",
      "File \u001B[0;32m/opt/homebrew/Caskroom/miniconda/base/lib/python3.9/http/client.py:281\u001B[0m, in \u001B[0;36mHTTPResponse._read_status\u001B[0;34m(self)\u001B[0m\n\u001B[1;32m    280\u001B[0m \u001B[38;5;28;01mdef\u001B[39;00m \u001B[38;5;21m_read_status\u001B[39m(\u001B[38;5;28mself\u001B[39m):\n\u001B[0;32m--> 281\u001B[0m     line \u001B[38;5;241m=\u001B[39m \u001B[38;5;28mstr\u001B[39m(\u001B[38;5;28;43mself\u001B[39;49m\u001B[38;5;241;43m.\u001B[39;49m\u001B[43mfp\u001B[49m\u001B[38;5;241;43m.\u001B[39;49m\u001B[43mreadline\u001B[49m\u001B[43m(\u001B[49m\u001B[43m_MAXLINE\u001B[49m\u001B[43m \u001B[49m\u001B[38;5;241;43m+\u001B[39;49m\u001B[43m \u001B[49m\u001B[38;5;241;43m1\u001B[39;49m\u001B[43m)\u001B[49m, \u001B[38;5;124m\"\u001B[39m\u001B[38;5;124miso-8859-1\u001B[39m\u001B[38;5;124m\"\u001B[39m)\n\u001B[1;32m    282\u001B[0m     \u001B[38;5;28;01mif\u001B[39;00m \u001B[38;5;28mlen\u001B[39m(line) \u001B[38;5;241m>\u001B[39m _MAXLINE:\n",
      "File \u001B[0;32m/opt/homebrew/Caskroom/miniconda/base/lib/python3.9/socket.py:704\u001B[0m, in \u001B[0;36mSocketIO.readinto\u001B[0;34m(self, b)\u001B[0m\n\u001B[1;32m    703\u001B[0m \u001B[38;5;28;01mtry\u001B[39;00m:\n\u001B[0;32m--> 704\u001B[0m     \u001B[38;5;28;01mreturn\u001B[39;00m \u001B[38;5;28;43mself\u001B[39;49m\u001B[38;5;241;43m.\u001B[39;49m\u001B[43m_sock\u001B[49m\u001B[38;5;241;43m.\u001B[39;49m\u001B[43mrecv_into\u001B[49m\u001B[43m(\u001B[49m\u001B[43mb\u001B[49m\u001B[43m)\u001B[49m\n\u001B[1;32m    705\u001B[0m \u001B[38;5;28;01mexcept\u001B[39;00m timeout:\n",
      "File \u001B[0;32m/opt/homebrew/Caskroom/miniconda/base/lib/python3.9/ssl.py:1241\u001B[0m, in \u001B[0;36mSSLSocket.recv_into\u001B[0;34m(self, buffer, nbytes, flags)\u001B[0m\n\u001B[1;32m   1238\u001B[0m         \u001B[38;5;28;01mraise\u001B[39;00m \u001B[38;5;167;01mValueError\u001B[39;00m(\n\u001B[1;32m   1239\u001B[0m           \u001B[38;5;124m\"\u001B[39m\u001B[38;5;124mnon-zero flags not allowed in calls to recv_into() on \u001B[39m\u001B[38;5;132;01m%s\u001B[39;00m\u001B[38;5;124m\"\u001B[39m \u001B[38;5;241m%\u001B[39m\n\u001B[1;32m   1240\u001B[0m           \u001B[38;5;28mself\u001B[39m\u001B[38;5;241m.\u001B[39m\u001B[38;5;18m__class__\u001B[39m)\n\u001B[0;32m-> 1241\u001B[0m     \u001B[38;5;28;01mreturn\u001B[39;00m \u001B[38;5;28;43mself\u001B[39;49m\u001B[38;5;241;43m.\u001B[39;49m\u001B[43mread\u001B[49m\u001B[43m(\u001B[49m\u001B[43mnbytes\u001B[49m\u001B[43m,\u001B[49m\u001B[43m \u001B[49m\u001B[43mbuffer\u001B[49m\u001B[43m)\u001B[49m\n\u001B[1;32m   1242\u001B[0m \u001B[38;5;28;01melse\u001B[39;00m:\n",
      "File \u001B[0;32m/opt/homebrew/Caskroom/miniconda/base/lib/python3.9/ssl.py:1099\u001B[0m, in \u001B[0;36mSSLSocket.read\u001B[0;34m(self, len, buffer)\u001B[0m\n\u001B[1;32m   1098\u001B[0m \u001B[38;5;28;01mif\u001B[39;00m buffer \u001B[38;5;129;01mis\u001B[39;00m \u001B[38;5;129;01mnot\u001B[39;00m \u001B[38;5;28;01mNone\u001B[39;00m:\n\u001B[0;32m-> 1099\u001B[0m     \u001B[38;5;28;01mreturn\u001B[39;00m \u001B[38;5;28;43mself\u001B[39;49m\u001B[38;5;241;43m.\u001B[39;49m\u001B[43m_sslobj\u001B[49m\u001B[38;5;241;43m.\u001B[39;49m\u001B[43mread\u001B[49m\u001B[43m(\u001B[49m\u001B[38;5;28;43mlen\u001B[39;49m\u001B[43m,\u001B[49m\u001B[43m \u001B[49m\u001B[43mbuffer\u001B[49m\u001B[43m)\u001B[49m\n\u001B[1;32m   1100\u001B[0m \u001B[38;5;28;01melse\u001B[39;00m:\n",
      "\u001B[0;31mTimeoutError\u001B[0m: [Errno 60] Operation timed out",
      "\nDuring handling of the above exception, another exception occurred:\n",
      "\u001B[0;31mReadTimeoutError\u001B[0m                          Traceback (most recent call last)",
      "File \u001B[0;32m/opt/homebrew/Caskroom/miniconda/base/lib/python3.9/site-packages/requests/adapters.py:440\u001B[0m, in \u001B[0;36mHTTPAdapter.send\u001B[0;34m(self, request, stream, timeout, verify, cert, proxies)\u001B[0m\n\u001B[1;32m    439\u001B[0m \u001B[38;5;28;01mif\u001B[39;00m \u001B[38;5;129;01mnot\u001B[39;00m chunked:\n\u001B[0;32m--> 440\u001B[0m     resp \u001B[38;5;241m=\u001B[39m \u001B[43mconn\u001B[49m\u001B[38;5;241;43m.\u001B[39;49m\u001B[43murlopen\u001B[49m\u001B[43m(\u001B[49m\n\u001B[1;32m    441\u001B[0m \u001B[43m        \u001B[49m\u001B[43mmethod\u001B[49m\u001B[38;5;241;43m=\u001B[39;49m\u001B[43mrequest\u001B[49m\u001B[38;5;241;43m.\u001B[39;49m\u001B[43mmethod\u001B[49m\u001B[43m,\u001B[49m\n\u001B[1;32m    442\u001B[0m \u001B[43m        \u001B[49m\u001B[43murl\u001B[49m\u001B[38;5;241;43m=\u001B[39;49m\u001B[43murl\u001B[49m\u001B[43m,\u001B[49m\n\u001B[1;32m    443\u001B[0m \u001B[43m        \u001B[49m\u001B[43mbody\u001B[49m\u001B[38;5;241;43m=\u001B[39;49m\u001B[43mrequest\u001B[49m\u001B[38;5;241;43m.\u001B[39;49m\u001B[43mbody\u001B[49m\u001B[43m,\u001B[49m\n\u001B[1;32m    444\u001B[0m \u001B[43m        \u001B[49m\u001B[43mheaders\u001B[49m\u001B[38;5;241;43m=\u001B[39;49m\u001B[43mrequest\u001B[49m\u001B[38;5;241;43m.\u001B[39;49m\u001B[43mheaders\u001B[49m\u001B[43m,\u001B[49m\n\u001B[1;32m    445\u001B[0m \u001B[43m        \u001B[49m\u001B[43mredirect\u001B[49m\u001B[38;5;241;43m=\u001B[39;49m\u001B[38;5;28;43;01mFalse\u001B[39;49;00m\u001B[43m,\u001B[49m\n\u001B[1;32m    446\u001B[0m \u001B[43m        \u001B[49m\u001B[43massert_same_host\u001B[49m\u001B[38;5;241;43m=\u001B[39;49m\u001B[38;5;28;43;01mFalse\u001B[39;49;00m\u001B[43m,\u001B[49m\n\u001B[1;32m    447\u001B[0m \u001B[43m        \u001B[49m\u001B[43mpreload_content\u001B[49m\u001B[38;5;241;43m=\u001B[39;49m\u001B[38;5;28;43;01mFalse\u001B[39;49;00m\u001B[43m,\u001B[49m\n\u001B[1;32m    448\u001B[0m \u001B[43m        \u001B[49m\u001B[43mdecode_content\u001B[49m\u001B[38;5;241;43m=\u001B[39;49m\u001B[38;5;28;43;01mFalse\u001B[39;49;00m\u001B[43m,\u001B[49m\n\u001B[1;32m    449\u001B[0m \u001B[43m        \u001B[49m\u001B[43mretries\u001B[49m\u001B[38;5;241;43m=\u001B[39;49m\u001B[38;5;28;43mself\u001B[39;49m\u001B[38;5;241;43m.\u001B[39;49m\u001B[43mmax_retries\u001B[49m\u001B[43m,\u001B[49m\n\u001B[1;32m    450\u001B[0m \u001B[43m        \u001B[49m\u001B[43mtimeout\u001B[49m\u001B[38;5;241;43m=\u001B[39;49m\u001B[43mtimeout\u001B[49m\n\u001B[1;32m    451\u001B[0m \u001B[43m    \u001B[49m\u001B[43m)\u001B[49m\n\u001B[1;32m    453\u001B[0m \u001B[38;5;66;03m# Send the request.\u001B[39;00m\n\u001B[1;32m    454\u001B[0m \u001B[38;5;28;01melse\u001B[39;00m:\n",
      "File \u001B[0;32m/opt/homebrew/Caskroom/miniconda/base/lib/python3.9/site-packages/urllib3/connectionpool.py:785\u001B[0m, in \u001B[0;36mHTTPConnectionPool.urlopen\u001B[0;34m(self, method, url, body, headers, retries, redirect, assert_same_host, timeout, pool_timeout, release_conn, chunked, body_pos, **response_kw)\u001B[0m\n\u001B[1;32m    783\u001B[0m     e \u001B[38;5;241m=\u001B[39m ProtocolError(\u001B[38;5;124m\"\u001B[39m\u001B[38;5;124mConnection aborted.\u001B[39m\u001B[38;5;124m\"\u001B[39m, e)\n\u001B[0;32m--> 785\u001B[0m retries \u001B[38;5;241m=\u001B[39m \u001B[43mretries\u001B[49m\u001B[38;5;241;43m.\u001B[39;49m\u001B[43mincrement\u001B[49m\u001B[43m(\u001B[49m\n\u001B[1;32m    786\u001B[0m \u001B[43m    \u001B[49m\u001B[43mmethod\u001B[49m\u001B[43m,\u001B[49m\u001B[43m \u001B[49m\u001B[43murl\u001B[49m\u001B[43m,\u001B[49m\u001B[43m \u001B[49m\u001B[43merror\u001B[49m\u001B[38;5;241;43m=\u001B[39;49m\u001B[43me\u001B[49m\u001B[43m,\u001B[49m\u001B[43m \u001B[49m\u001B[43m_pool\u001B[49m\u001B[38;5;241;43m=\u001B[39;49m\u001B[38;5;28;43mself\u001B[39;49m\u001B[43m,\u001B[49m\u001B[43m \u001B[49m\u001B[43m_stacktrace\u001B[49m\u001B[38;5;241;43m=\u001B[39;49m\u001B[43msys\u001B[49m\u001B[38;5;241;43m.\u001B[39;49m\u001B[43mexc_info\u001B[49m\u001B[43m(\u001B[49m\u001B[43m)\u001B[49m\u001B[43m[\u001B[49m\u001B[38;5;241;43m2\u001B[39;49m\u001B[43m]\u001B[49m\n\u001B[1;32m    787\u001B[0m \u001B[43m\u001B[49m\u001B[43m)\u001B[49m\n\u001B[1;32m    788\u001B[0m retries\u001B[38;5;241m.\u001B[39msleep()\n",
      "File \u001B[0;32m/opt/homebrew/Caskroom/miniconda/base/lib/python3.9/site-packages/urllib3/util/retry.py:550\u001B[0m, in \u001B[0;36mRetry.increment\u001B[0;34m(self, method, url, response, error, _pool, _stacktrace)\u001B[0m\n\u001B[1;32m    549\u001B[0m \u001B[38;5;28;01mif\u001B[39;00m read \u001B[38;5;129;01mis\u001B[39;00m \u001B[38;5;28;01mFalse\u001B[39;00m \u001B[38;5;129;01mor\u001B[39;00m \u001B[38;5;129;01mnot\u001B[39;00m \u001B[38;5;28mself\u001B[39m\u001B[38;5;241m.\u001B[39m_is_method_retryable(method):\n\u001B[0;32m--> 550\u001B[0m     \u001B[38;5;28;01mraise\u001B[39;00m \u001B[43msix\u001B[49m\u001B[38;5;241;43m.\u001B[39;49m\u001B[43mreraise\u001B[49m\u001B[43m(\u001B[49m\u001B[38;5;28;43mtype\u001B[39;49m\u001B[43m(\u001B[49m\u001B[43merror\u001B[49m\u001B[43m)\u001B[49m\u001B[43m,\u001B[49m\u001B[43m \u001B[49m\u001B[43merror\u001B[49m\u001B[43m,\u001B[49m\u001B[43m \u001B[49m\u001B[43m_stacktrace\u001B[49m\u001B[43m)\u001B[49m\n\u001B[1;32m    551\u001B[0m \u001B[38;5;28;01melif\u001B[39;00m read \u001B[38;5;129;01mis\u001B[39;00m \u001B[38;5;129;01mnot\u001B[39;00m \u001B[38;5;28;01mNone\u001B[39;00m:\n",
      "File \u001B[0;32m/opt/homebrew/Caskroom/miniconda/base/lib/python3.9/site-packages/urllib3/packages/six.py:770\u001B[0m, in \u001B[0;36mreraise\u001B[0;34m(tp, value, tb)\u001B[0m\n\u001B[1;32m    769\u001B[0m         \u001B[38;5;28;01mraise\u001B[39;00m value\u001B[38;5;241m.\u001B[39mwith_traceback(tb)\n\u001B[0;32m--> 770\u001B[0m     \u001B[38;5;28;01mraise\u001B[39;00m value\n\u001B[1;32m    771\u001B[0m \u001B[38;5;28;01mfinally\u001B[39;00m:\n",
      "File \u001B[0;32m/opt/homebrew/Caskroom/miniconda/base/lib/python3.9/site-packages/urllib3/connectionpool.py:703\u001B[0m, in \u001B[0;36mHTTPConnectionPool.urlopen\u001B[0;34m(self, method, url, body, headers, retries, redirect, assert_same_host, timeout, pool_timeout, release_conn, chunked, body_pos, **response_kw)\u001B[0m\n\u001B[1;32m    702\u001B[0m \u001B[38;5;66;03m# Make the request on the httplib connection object.\u001B[39;00m\n\u001B[0;32m--> 703\u001B[0m httplib_response \u001B[38;5;241m=\u001B[39m \u001B[38;5;28;43mself\u001B[39;49m\u001B[38;5;241;43m.\u001B[39;49m\u001B[43m_make_request\u001B[49m\u001B[43m(\u001B[49m\n\u001B[1;32m    704\u001B[0m \u001B[43m    \u001B[49m\u001B[43mconn\u001B[49m\u001B[43m,\u001B[49m\n\u001B[1;32m    705\u001B[0m \u001B[43m    \u001B[49m\u001B[43mmethod\u001B[49m\u001B[43m,\u001B[49m\n\u001B[1;32m    706\u001B[0m \u001B[43m    \u001B[49m\u001B[43murl\u001B[49m\u001B[43m,\u001B[49m\n\u001B[1;32m    707\u001B[0m \u001B[43m    \u001B[49m\u001B[43mtimeout\u001B[49m\u001B[38;5;241;43m=\u001B[39;49m\u001B[43mtimeout_obj\u001B[49m\u001B[43m,\u001B[49m\n\u001B[1;32m    708\u001B[0m \u001B[43m    \u001B[49m\u001B[43mbody\u001B[49m\u001B[38;5;241;43m=\u001B[39;49m\u001B[43mbody\u001B[49m\u001B[43m,\u001B[49m\n\u001B[1;32m    709\u001B[0m \u001B[43m    \u001B[49m\u001B[43mheaders\u001B[49m\u001B[38;5;241;43m=\u001B[39;49m\u001B[43mheaders\u001B[49m\u001B[43m,\u001B[49m\n\u001B[1;32m    710\u001B[0m \u001B[43m    \u001B[49m\u001B[43mchunked\u001B[49m\u001B[38;5;241;43m=\u001B[39;49m\u001B[43mchunked\u001B[49m\u001B[43m,\u001B[49m\n\u001B[1;32m    711\u001B[0m \u001B[43m\u001B[49m\u001B[43m)\u001B[49m\n\u001B[1;32m    713\u001B[0m \u001B[38;5;66;03m# If we're going to release the connection in ``finally:``, then\u001B[39;00m\n\u001B[1;32m    714\u001B[0m \u001B[38;5;66;03m# the response doesn't need to know about the connection. Otherwise\u001B[39;00m\n\u001B[1;32m    715\u001B[0m \u001B[38;5;66;03m# it will also try to release it and we'll have a double-release\u001B[39;00m\n\u001B[1;32m    716\u001B[0m \u001B[38;5;66;03m# mess.\u001B[39;00m\n",
      "File \u001B[0;32m/opt/homebrew/Caskroom/miniconda/base/lib/python3.9/site-packages/urllib3/connectionpool.py:451\u001B[0m, in \u001B[0;36mHTTPConnectionPool._make_request\u001B[0;34m(self, conn, method, url, timeout, chunked, **httplib_request_kw)\u001B[0m\n\u001B[1;32m    450\u001B[0m \u001B[38;5;28;01mexcept\u001B[39;00m (SocketTimeout, BaseSSLError, SocketError) \u001B[38;5;28;01mas\u001B[39;00m e:\n\u001B[0;32m--> 451\u001B[0m     \u001B[38;5;28;43mself\u001B[39;49m\u001B[38;5;241;43m.\u001B[39;49m\u001B[43m_raise_timeout\u001B[49m\u001B[43m(\u001B[49m\u001B[43merr\u001B[49m\u001B[38;5;241;43m=\u001B[39;49m\u001B[43me\u001B[49m\u001B[43m,\u001B[49m\u001B[43m \u001B[49m\u001B[43murl\u001B[49m\u001B[38;5;241;43m=\u001B[39;49m\u001B[43murl\u001B[49m\u001B[43m,\u001B[49m\u001B[43m \u001B[49m\u001B[43mtimeout_value\u001B[49m\u001B[38;5;241;43m=\u001B[39;49m\u001B[43mread_timeout\u001B[49m\u001B[43m)\u001B[49m\n\u001B[1;32m    452\u001B[0m     \u001B[38;5;28;01mraise\u001B[39;00m\n",
      "File \u001B[0;32m/opt/homebrew/Caskroom/miniconda/base/lib/python3.9/site-packages/urllib3/connectionpool.py:357\u001B[0m, in \u001B[0;36mHTTPConnectionPool._raise_timeout\u001B[0;34m(self, err, url, timeout_value)\u001B[0m\n\u001B[1;32m    354\u001B[0m \u001B[38;5;28;01mif\u001B[39;00m \u001B[38;5;124m\"\u001B[39m\u001B[38;5;124mtimed out\u001B[39m\u001B[38;5;124m\"\u001B[39m \u001B[38;5;129;01min\u001B[39;00m \u001B[38;5;28mstr\u001B[39m(err) \u001B[38;5;129;01mor\u001B[39;00m \u001B[38;5;124m\"\u001B[39m\u001B[38;5;124mdid not complete (read)\u001B[39m\u001B[38;5;124m\"\u001B[39m \u001B[38;5;129;01min\u001B[39;00m \u001B[38;5;28mstr\u001B[39m(\n\u001B[1;32m    355\u001B[0m     err\n\u001B[1;32m    356\u001B[0m ):  \u001B[38;5;66;03m# Python < 2.7.4\u001B[39;00m\n\u001B[0;32m--> 357\u001B[0m     \u001B[38;5;28;01mraise\u001B[39;00m ReadTimeoutError(\n\u001B[1;32m    358\u001B[0m         \u001B[38;5;28mself\u001B[39m, url, \u001B[38;5;124m\"\u001B[39m\u001B[38;5;124mRead timed out. (read timeout=\u001B[39m\u001B[38;5;132;01m%s\u001B[39;00m\u001B[38;5;124m)\u001B[39m\u001B[38;5;124m\"\u001B[39m \u001B[38;5;241m%\u001B[39m timeout_value\n\u001B[1;32m    359\u001B[0m     )\n",
      "\u001B[0;31mReadTimeoutError\u001B[0m: HTTPSConnectionPool(host='sheets.googleapis.com', port=443): Read timed out. (read timeout=None)",
      "\nDuring handling of the above exception, another exception occurred:\n",
      "\u001B[0;31mReadTimeout\u001B[0m                               Traceback (most recent call last)",
      "Input \u001B[0;32mIn [153]\u001B[0m, in \u001B[0;36m<cell line: 1>\u001B[0;34m()\u001B[0m\n\u001B[0;32m----> 1\u001B[0m google_conf\u001B[38;5;241m.\u001B[39mset_with_dataframe(\u001B[43mpop_data\u001B[49m\u001B[38;5;241;43m.\u001B[39;49m\u001B[43madd_worksheet\u001B[49m\u001B[43m(\u001B[49m\u001B[38;5;124;43m\"\u001B[39;49m\u001B[38;5;124;43mconc_left1\u001B[39;49m\u001B[38;5;124;43m\"\u001B[39;49m\u001B[43m,\u001B[49m\u001B[43m \u001B[49m\u001B[38;5;241;43m1\u001B[39;49m\u001B[43m,\u001B[49m\u001B[38;5;241;43m1\u001B[39;49m\u001B[43m)\u001B[49m, conc_left1_all_df)\n",
      "File \u001B[0;32m/opt/homebrew/Caskroom/miniconda/base/lib/python3.9/site-packages/gspread/spreadsheet.py:377\u001B[0m, in \u001B[0;36mSpreadsheet.add_worksheet\u001B[0;34m(self, title, rows, cols, index)\u001B[0m\n\u001B[1;32m    374\u001B[0m \u001B[38;5;28;01mif\u001B[39;00m index \u001B[38;5;129;01mis\u001B[39;00m \u001B[38;5;129;01mnot\u001B[39;00m \u001B[38;5;28;01mNone\u001B[39;00m:\n\u001B[1;32m    375\u001B[0m     body[\u001B[38;5;124m\"\u001B[39m\u001B[38;5;124mrequests\u001B[39m\u001B[38;5;124m\"\u001B[39m][\u001B[38;5;241m0\u001B[39m][\u001B[38;5;124m\"\u001B[39m\u001B[38;5;124maddSheet\u001B[39m\u001B[38;5;124m\"\u001B[39m][\u001B[38;5;124m\"\u001B[39m\u001B[38;5;124mproperties\u001B[39m\u001B[38;5;124m\"\u001B[39m][\u001B[38;5;124m\"\u001B[39m\u001B[38;5;124mindex\u001B[39m\u001B[38;5;124m\"\u001B[39m] \u001B[38;5;241m=\u001B[39m index\n\u001B[0;32m--> 377\u001B[0m data \u001B[38;5;241m=\u001B[39m \u001B[38;5;28;43mself\u001B[39;49m\u001B[38;5;241;43m.\u001B[39;49m\u001B[43mbatch_update\u001B[49m\u001B[43m(\u001B[49m\u001B[43mbody\u001B[49m\u001B[43m)\u001B[49m\n\u001B[1;32m    379\u001B[0m properties \u001B[38;5;241m=\u001B[39m data[\u001B[38;5;124m\"\u001B[39m\u001B[38;5;124mreplies\u001B[39m\u001B[38;5;124m\"\u001B[39m][\u001B[38;5;241m0\u001B[39m][\u001B[38;5;124m\"\u001B[39m\u001B[38;5;124maddSheet\u001B[39m\u001B[38;5;124m\"\u001B[39m][\u001B[38;5;124m\"\u001B[39m\u001B[38;5;124mproperties\u001B[39m\u001B[38;5;124m\"\u001B[39m]\n\u001B[1;32m    381\u001B[0m worksheet \u001B[38;5;241m=\u001B[39m Worksheet(\u001B[38;5;28mself\u001B[39m, properties)\n",
      "File \u001B[0;32m/opt/homebrew/Caskroom/miniconda/base/lib/python3.9/site-packages/gspread/spreadsheet.py:131\u001B[0m, in \u001B[0;36mSpreadsheet.batch_update\u001B[0;34m(self, body)\u001B[0m\n\u001B[1;32m    122\u001B[0m \u001B[38;5;28;01mdef\u001B[39;00m \u001B[38;5;21mbatch_update\u001B[39m(\u001B[38;5;28mself\u001B[39m, body):\n\u001B[1;32m    123\u001B[0m     \u001B[38;5;124;03m\"\"\"Lower-level method that directly calls `spreadsheets/<ID>:batchUpdate <https://developers.google.com/sheets/api/reference/rest/v4/spreadsheets/batchUpdate>`_.\u001B[39;00m\n\u001B[1;32m    124\u001B[0m \n\u001B[1;32m    125\u001B[0m \u001B[38;5;124;03m    :param dict body: `Request body <https://developers.google.com/sheets/api/reference/rest/v4/spreadsheets/batchUpdate#request-body>`_.\u001B[39;00m\n\u001B[0;32m   (...)\u001B[0m\n\u001B[1;32m    129\u001B[0m \u001B[38;5;124;03m    .. versionadded:: 3.0\u001B[39;00m\n\u001B[1;32m    130\u001B[0m \u001B[38;5;124;03m    \"\"\"\u001B[39;00m\n\u001B[0;32m--> 131\u001B[0m     r \u001B[38;5;241m=\u001B[39m \u001B[38;5;28;43mself\u001B[39;49m\u001B[38;5;241;43m.\u001B[39;49m\u001B[43mclient\u001B[49m\u001B[38;5;241;43m.\u001B[39;49m\u001B[43mrequest\u001B[49m\u001B[43m(\u001B[49m\n\u001B[1;32m    132\u001B[0m \u001B[43m        \u001B[49m\u001B[38;5;124;43m\"\u001B[39;49m\u001B[38;5;124;43mpost\u001B[39;49m\u001B[38;5;124;43m\"\u001B[39;49m\u001B[43m,\u001B[49m\u001B[43m \u001B[49m\u001B[43mSPREADSHEET_BATCH_UPDATE_URL\u001B[49m\u001B[43m \u001B[49m\u001B[38;5;241;43m%\u001B[39;49m\u001B[43m \u001B[49m\u001B[38;5;28;43mself\u001B[39;49m\u001B[38;5;241;43m.\u001B[39;49m\u001B[43mid\u001B[49m\u001B[43m,\u001B[49m\u001B[43m \u001B[49m\u001B[43mjson\u001B[49m\u001B[38;5;241;43m=\u001B[39;49m\u001B[43mbody\u001B[49m\n\u001B[1;32m    133\u001B[0m \u001B[43m    \u001B[49m\u001B[43m)\u001B[49m\n\u001B[1;32m    135\u001B[0m     \u001B[38;5;28;01mreturn\u001B[39;00m r\u001B[38;5;241m.\u001B[39mjson()\n",
      "File \u001B[0;32m/opt/homebrew/Caskroom/miniconda/base/lib/python3.9/site-packages/gspread/client.py:79\u001B[0m, in \u001B[0;36mClient.request\u001B[0;34m(self, method, endpoint, params, data, json, files, headers)\u001B[0m\n\u001B[1;32m     69\u001B[0m \u001B[38;5;28;01mdef\u001B[39;00m \u001B[38;5;21mrequest\u001B[39m(\n\u001B[1;32m     70\u001B[0m     \u001B[38;5;28mself\u001B[39m,\n\u001B[1;32m     71\u001B[0m     method,\n\u001B[0;32m   (...)\u001B[0m\n\u001B[1;32m     77\u001B[0m     headers\u001B[38;5;241m=\u001B[39m\u001B[38;5;28;01mNone\u001B[39;00m,\n\u001B[1;32m     78\u001B[0m ):\n\u001B[0;32m---> 79\u001B[0m     response \u001B[38;5;241m=\u001B[39m \u001B[38;5;28;43mgetattr\u001B[39;49m\u001B[43m(\u001B[49m\u001B[38;5;28;43mself\u001B[39;49m\u001B[38;5;241;43m.\u001B[39;49m\u001B[43msession\u001B[49m\u001B[43m,\u001B[49m\u001B[43m \u001B[49m\u001B[43mmethod\u001B[49m\u001B[43m)\u001B[49m\u001B[43m(\u001B[49m\n\u001B[1;32m     80\u001B[0m \u001B[43m        \u001B[49m\u001B[43mendpoint\u001B[49m\u001B[43m,\u001B[49m\n\u001B[1;32m     81\u001B[0m \u001B[43m        \u001B[49m\u001B[43mjson\u001B[49m\u001B[38;5;241;43m=\u001B[39;49m\u001B[43mjson\u001B[49m\u001B[43m,\u001B[49m\n\u001B[1;32m     82\u001B[0m \u001B[43m        \u001B[49m\u001B[43mparams\u001B[49m\u001B[38;5;241;43m=\u001B[39;49m\u001B[43mparams\u001B[49m\u001B[43m,\u001B[49m\n\u001B[1;32m     83\u001B[0m \u001B[43m        \u001B[49m\u001B[43mdata\u001B[49m\u001B[38;5;241;43m=\u001B[39;49m\u001B[43mdata\u001B[49m\u001B[43m,\u001B[49m\n\u001B[1;32m     84\u001B[0m \u001B[43m        \u001B[49m\u001B[43mfiles\u001B[49m\u001B[38;5;241;43m=\u001B[39;49m\u001B[43mfiles\u001B[49m\u001B[43m,\u001B[49m\n\u001B[1;32m     85\u001B[0m \u001B[43m        \u001B[49m\u001B[43mheaders\u001B[49m\u001B[38;5;241;43m=\u001B[39;49m\u001B[43mheaders\u001B[49m\u001B[43m,\u001B[49m\n\u001B[1;32m     86\u001B[0m \u001B[43m        \u001B[49m\u001B[43mtimeout\u001B[49m\u001B[38;5;241;43m=\u001B[39;49m\u001B[38;5;28;43mself\u001B[39;49m\u001B[38;5;241;43m.\u001B[39;49m\u001B[43mtimeout\u001B[49m\u001B[43m,\u001B[49m\n\u001B[1;32m     87\u001B[0m \u001B[43m    \u001B[49m\u001B[43m)\u001B[49m\n\u001B[1;32m     89\u001B[0m     \u001B[38;5;28;01mif\u001B[39;00m response\u001B[38;5;241m.\u001B[39mok:\n\u001B[1;32m     90\u001B[0m         \u001B[38;5;28;01mreturn\u001B[39;00m response\n",
      "File \u001B[0;32m/opt/homebrew/Caskroom/miniconda/base/lib/python3.9/site-packages/requests/sessions.py:577\u001B[0m, in \u001B[0;36mSession.post\u001B[0;34m(self, url, data, json, **kwargs)\u001B[0m\n\u001B[1;32m    566\u001B[0m \u001B[38;5;28;01mdef\u001B[39;00m \u001B[38;5;21mpost\u001B[39m(\u001B[38;5;28mself\u001B[39m, url, data\u001B[38;5;241m=\u001B[39m\u001B[38;5;28;01mNone\u001B[39;00m, json\u001B[38;5;241m=\u001B[39m\u001B[38;5;28;01mNone\u001B[39;00m, \u001B[38;5;241m*\u001B[39m\u001B[38;5;241m*\u001B[39mkwargs):\n\u001B[1;32m    567\u001B[0m     \u001B[38;5;124mr\u001B[39m\u001B[38;5;124;03m\"\"\"Sends a POST request. Returns :class:`Response` object.\u001B[39;00m\n\u001B[1;32m    568\u001B[0m \n\u001B[1;32m    569\u001B[0m \u001B[38;5;124;03m    :param url: URL for the new :class:`Request` object.\u001B[39;00m\n\u001B[0;32m   (...)\u001B[0m\n\u001B[1;32m    574\u001B[0m \u001B[38;5;124;03m    :rtype: requests.Response\u001B[39;00m\n\u001B[1;32m    575\u001B[0m \u001B[38;5;124;03m    \"\"\"\u001B[39;00m\n\u001B[0;32m--> 577\u001B[0m     \u001B[38;5;28;01mreturn\u001B[39;00m \u001B[38;5;28;43mself\u001B[39;49m\u001B[38;5;241;43m.\u001B[39;49m\u001B[43mrequest\u001B[49m\u001B[43m(\u001B[49m\u001B[38;5;124;43m'\u001B[39;49m\u001B[38;5;124;43mPOST\u001B[39;49m\u001B[38;5;124;43m'\u001B[39;49m\u001B[43m,\u001B[49m\u001B[43m \u001B[49m\u001B[43murl\u001B[49m\u001B[43m,\u001B[49m\u001B[43m \u001B[49m\u001B[43mdata\u001B[49m\u001B[38;5;241;43m=\u001B[39;49m\u001B[43mdata\u001B[49m\u001B[43m,\u001B[49m\u001B[43m \u001B[49m\u001B[43mjson\u001B[49m\u001B[38;5;241;43m=\u001B[39;49m\u001B[43mjson\u001B[49m\u001B[43m,\u001B[49m\u001B[43m \u001B[49m\u001B[38;5;241;43m*\u001B[39;49m\u001B[38;5;241;43m*\u001B[39;49m\u001B[43mkwargs\u001B[49m\u001B[43m)\u001B[49m\n",
      "File \u001B[0;32m/opt/homebrew/Caskroom/miniconda/base/lib/python3.9/site-packages/google/auth/transport/requests.py:437\u001B[0m, in \u001B[0;36mAuthorizedSession.request\u001B[0;34m(self, method, url, data, headers, max_allowed_time, timeout, **kwargs)\u001B[0m\n\u001B[1;32m    434\u001B[0m remaining_time \u001B[38;5;241m=\u001B[39m guard\u001B[38;5;241m.\u001B[39mremaining_timeout\n\u001B[1;32m    436\u001B[0m \u001B[38;5;28;01mwith\u001B[39;00m TimeoutGuard(remaining_time) \u001B[38;5;28;01mas\u001B[39;00m guard:\n\u001B[0;32m--> 437\u001B[0m     response \u001B[38;5;241m=\u001B[39m \u001B[38;5;28;43msuper\u001B[39;49m\u001B[43m(\u001B[49m\u001B[43mAuthorizedSession\u001B[49m\u001B[43m,\u001B[49m\u001B[43m \u001B[49m\u001B[38;5;28;43mself\u001B[39;49m\u001B[43m)\u001B[49m\u001B[38;5;241;43m.\u001B[39;49m\u001B[43mrequest\u001B[49m\u001B[43m(\u001B[49m\n\u001B[1;32m    438\u001B[0m \u001B[43m        \u001B[49m\u001B[43mmethod\u001B[49m\u001B[43m,\u001B[49m\n\u001B[1;32m    439\u001B[0m \u001B[43m        \u001B[49m\u001B[43murl\u001B[49m\u001B[43m,\u001B[49m\n\u001B[1;32m    440\u001B[0m \u001B[43m        \u001B[49m\u001B[43mdata\u001B[49m\u001B[38;5;241;43m=\u001B[39;49m\u001B[43mdata\u001B[49m\u001B[43m,\u001B[49m\n\u001B[1;32m    441\u001B[0m \u001B[43m        \u001B[49m\u001B[43mheaders\u001B[49m\u001B[38;5;241;43m=\u001B[39;49m\u001B[43mrequest_headers\u001B[49m\u001B[43m,\u001B[49m\n\u001B[1;32m    442\u001B[0m \u001B[43m        \u001B[49m\u001B[43mtimeout\u001B[49m\u001B[38;5;241;43m=\u001B[39;49m\u001B[43mtimeout\u001B[49m\u001B[43m,\u001B[49m\n\u001B[1;32m    443\u001B[0m \u001B[43m        \u001B[49m\u001B[38;5;241;43m*\u001B[39;49m\u001B[38;5;241;43m*\u001B[39;49m\u001B[43mkwargs\u001B[49m\n\u001B[1;32m    444\u001B[0m \u001B[43m    \u001B[49m\u001B[43m)\u001B[49m\n\u001B[1;32m    445\u001B[0m remaining_time \u001B[38;5;241m=\u001B[39m guard\u001B[38;5;241m.\u001B[39mremaining_timeout\n\u001B[1;32m    447\u001B[0m \u001B[38;5;66;03m# If the response indicated that the credentials needed to be\u001B[39;00m\n\u001B[1;32m    448\u001B[0m \u001B[38;5;66;03m# refreshed, then refresh the credentials and re-attempt the\u001B[39;00m\n\u001B[1;32m    449\u001B[0m \u001B[38;5;66;03m# request.\u001B[39;00m\n\u001B[1;32m    450\u001B[0m \u001B[38;5;66;03m# A stored token may expire between the time it is retrieved and\u001B[39;00m\n\u001B[1;32m    451\u001B[0m \u001B[38;5;66;03m# the time the request is made, so we may need to try twice.\u001B[39;00m\n",
      "File \u001B[0;32m/opt/homebrew/Caskroom/miniconda/base/lib/python3.9/site-packages/requests/sessions.py:529\u001B[0m, in \u001B[0;36mSession.request\u001B[0;34m(self, method, url, params, data, headers, cookies, files, auth, timeout, allow_redirects, proxies, hooks, stream, verify, cert, json)\u001B[0m\n\u001B[1;32m    524\u001B[0m send_kwargs \u001B[38;5;241m=\u001B[39m {\n\u001B[1;32m    525\u001B[0m     \u001B[38;5;124m'\u001B[39m\u001B[38;5;124mtimeout\u001B[39m\u001B[38;5;124m'\u001B[39m: timeout,\n\u001B[1;32m    526\u001B[0m     \u001B[38;5;124m'\u001B[39m\u001B[38;5;124mallow_redirects\u001B[39m\u001B[38;5;124m'\u001B[39m: allow_redirects,\n\u001B[1;32m    527\u001B[0m }\n\u001B[1;32m    528\u001B[0m send_kwargs\u001B[38;5;241m.\u001B[39mupdate(settings)\n\u001B[0;32m--> 529\u001B[0m resp \u001B[38;5;241m=\u001B[39m \u001B[38;5;28;43mself\u001B[39;49m\u001B[38;5;241;43m.\u001B[39;49m\u001B[43msend\u001B[49m\u001B[43m(\u001B[49m\u001B[43mprep\u001B[49m\u001B[43m,\u001B[49m\u001B[43m \u001B[49m\u001B[38;5;241;43m*\u001B[39;49m\u001B[38;5;241;43m*\u001B[39;49m\u001B[43msend_kwargs\u001B[49m\u001B[43m)\u001B[49m\n\u001B[1;32m    531\u001B[0m \u001B[38;5;28;01mreturn\u001B[39;00m resp\n",
      "File \u001B[0;32m/opt/homebrew/Caskroom/miniconda/base/lib/python3.9/site-packages/requests/sessions.py:645\u001B[0m, in \u001B[0;36mSession.send\u001B[0;34m(self, request, **kwargs)\u001B[0m\n\u001B[1;32m    642\u001B[0m start \u001B[38;5;241m=\u001B[39m preferred_clock()\n\u001B[1;32m    644\u001B[0m \u001B[38;5;66;03m# Send the request\u001B[39;00m\n\u001B[0;32m--> 645\u001B[0m r \u001B[38;5;241m=\u001B[39m \u001B[43madapter\u001B[49m\u001B[38;5;241;43m.\u001B[39;49m\u001B[43msend\u001B[49m\u001B[43m(\u001B[49m\u001B[43mrequest\u001B[49m\u001B[43m,\u001B[49m\u001B[43m \u001B[49m\u001B[38;5;241;43m*\u001B[39;49m\u001B[38;5;241;43m*\u001B[39;49m\u001B[43mkwargs\u001B[49m\u001B[43m)\u001B[49m\n\u001B[1;32m    647\u001B[0m \u001B[38;5;66;03m# Total elapsed time of the request (approximately)\u001B[39;00m\n\u001B[1;32m    648\u001B[0m elapsed \u001B[38;5;241m=\u001B[39m preferred_clock() \u001B[38;5;241m-\u001B[39m start\n",
      "File \u001B[0;32m/opt/homebrew/Caskroom/miniconda/base/lib/python3.9/site-packages/requests/adapters.py:532\u001B[0m, in \u001B[0;36mHTTPAdapter.send\u001B[0;34m(self, request, stream, timeout, verify, cert, proxies)\u001B[0m\n\u001B[1;32m    530\u001B[0m     \u001B[38;5;28;01mraise\u001B[39;00m SSLError(e, request\u001B[38;5;241m=\u001B[39mrequest)\n\u001B[1;32m    531\u001B[0m \u001B[38;5;28;01melif\u001B[39;00m \u001B[38;5;28misinstance\u001B[39m(e, ReadTimeoutError):\n\u001B[0;32m--> 532\u001B[0m     \u001B[38;5;28;01mraise\u001B[39;00m ReadTimeout(e, request\u001B[38;5;241m=\u001B[39mrequest)\n\u001B[1;32m    533\u001B[0m \u001B[38;5;28;01melif\u001B[39;00m \u001B[38;5;28misinstance\u001B[39m(e, _InvalidHeader):\n\u001B[1;32m    534\u001B[0m     \u001B[38;5;28;01mraise\u001B[39;00m InvalidHeader(e, request\u001B[38;5;241m=\u001B[39mrequest)\n",
      "\u001B[0;31mReadTimeout\u001B[0m: HTTPSConnectionPool(host='sheets.googleapis.com', port=443): Read timed out. (read timeout=None)"
     ]
    }
   ],
   "source": [
    "google_conf.set_with_dataframe(pop_data.add_worksheet(\"conc_left1\", 1,1), conc_left1_all_df)"
   ],
   "metadata": {
    "collapsed": false
   }
  },
  {
   "cell_type": "code",
   "execution_count": null,
   "outputs": [],
   "source": [
    "conc_left1_interesting = ['rightwing populis*', 'leftwing populis*', 'right populis*', 'american populis*', 'left populis*', 'new populis*', 'european populis*', 'contemporary populis*', 'radical populis*', 'authoritarian populis*', 'class populis*', 'strong populis*', 'exclusionary populis*', 'economic populis*', 'leftist populis*', 'political populis*', 'radicalright populis*', 'japanese populis*']\n",
    "conc_left1_interesting"
   ],
   "metadata": {
    "collapsed": false
   }
  },
  {
   "cell_type": "code",
   "execution_count": null,
   "outputs": [],
   "source": [
    "conc_left1_interesting_df = conc_left1_all_df[conc_left1_all_df[\"conc\"].isin(conc_left1_interesting)]\n",
    "conc_left1_interesting_df"
   ],
   "metadata": {
    "collapsed": false
   }
  },
  {
   "cell_type": "code",
   "execution_count": null,
   "outputs": [],
   "source": [
    "google_conf.set_with_dataframe(pop_data.add_worksheet(\"conc_left1_interesting\",1,1), conc_left1_interesting_df)"
   ],
   "metadata": {
    "collapsed": false
   }
  },
  {
   "cell_type": "code",
   "execution_count": null,
   "outputs": [],
   "source": [
    "def ectract_counts_of_interesting(list_of_concs):\n",
    "    conc_count_dict = dict([(conc, list_of_concs.count(conc)) for conc in conc_left1_interesting])\n",
    "    return conc_count_dict\n",
    "articles_metadata[\"conc_left1_interesting\"] = articles_metadata[\"conc_left1\"].apply(ectract_counts_of_interesting)"
   ],
   "metadata": {
    "collapsed": false
   }
  },
  {
   "cell_type": "code",
   "execution_count": null,
   "outputs": [],
   "source": [
    "articles_metadata.head(20)"
   ],
   "metadata": {
    "collapsed": false
   }
  },
  {
   "cell_type": "code",
   "execution_count": null,
   "outputs": [],
   "source": [],
   "metadata": {
    "collapsed": false
   }
  }
 ],
 "metadata": {
  "kernelspec": {
   "name": "conda_base",
   "language": "python",
   "display_name": "conda_base"
  },
  "language_info": {
   "codemirror_mode": {
    "name": "ipython",
    "version": 2
   },
   "file_extension": ".py",
   "mimetype": "text/x-python",
   "name": "python",
   "nbconvert_exporter": "python",
   "pygments_lexer": "ipython2",
   "version": "2.7.6"
  }
 },
 "nbformat": 4,
 "nbformat_minor": 0
}
