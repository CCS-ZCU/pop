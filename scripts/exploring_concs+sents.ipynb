{
 "cells": [
  {
   "cell_type": "code",
   "execution_count": 4,
   "metadata": {
    "collapsed": true
   },
   "outputs": [],
   "source": [
    "import pandas as pd\n",
    "import os\n",
    "import re"
   ]
  },
  {
   "cell_type": "code",
   "execution_count": 69,
   "outputs": [
    {
     "data": {
      "text/plain": "   Unnamed: 0        poptype  count  proportion_pct  \\\n0           0     right-wing   1965       58.136095   \n1           1      left-wing    582       17.218935   \n2           2    nationalist    214        6.331361   \n3           3       nativist     73        2.159763   \n4           4        radical    106        3.136095   \n5           5       moderate     42        1.242604   \n6           6  authoritatian    157        4.644970   \n7           7      inclusive     69        2.041420   \n8           8      exclusive    108        3.195266   \n9           9     neoliberal     64        1.893491   \n\n                                               words  \n0  [right-wing, right, rightwe, radical-right, fa...  \n1  [left-wing, left, leftist, radical-left, leftw...  \n2  [nationalism, nationalist, national, nation, n...  \n3                               [nativism, nativist]  \n4  [radical, radicalism, radically, radical-right...  \n5                             [moderate, moderately]  \n6                  [authoritarian, authoritarianism]  \n7               [inclusionary, inclusive, inclusion]  \n8  [exclusionary, exclusion, exclusive, exclusive...  \n9  [neoliberal, neo-liberal, Neoliberalism, neoli...  ",
      "text/html": "<div>\n<style scoped>\n    .dataframe tbody tr th:only-of-type {\n        vertical-align: middle;\n    }\n\n    .dataframe tbody tr th {\n        vertical-align: top;\n    }\n\n    .dataframe thead th {\n        text-align: right;\n    }\n</style>\n<table border=\"1\" class=\"dataframe\">\n  <thead>\n    <tr style=\"text-align: right;\">\n      <th></th>\n      <th>Unnamed: 0</th>\n      <th>poptype</th>\n      <th>count</th>\n      <th>proportion_pct</th>\n      <th>words</th>\n    </tr>\n  </thead>\n  <tbody>\n    <tr>\n      <th>0</th>\n      <td>0</td>\n      <td>right-wing</td>\n      <td>1965</td>\n      <td>58.136095</td>\n      <td>[right-wing, right, rightwe, radical-right, fa...</td>\n    </tr>\n    <tr>\n      <th>1</th>\n      <td>1</td>\n      <td>left-wing</td>\n      <td>582</td>\n      <td>17.218935</td>\n      <td>[left-wing, left, leftist, radical-left, leftw...</td>\n    </tr>\n    <tr>\n      <th>2</th>\n      <td>2</td>\n      <td>nationalist</td>\n      <td>214</td>\n      <td>6.331361</td>\n      <td>[nationalism, nationalist, national, nation, n...</td>\n    </tr>\n    <tr>\n      <th>3</th>\n      <td>3</td>\n      <td>nativist</td>\n      <td>73</td>\n      <td>2.159763</td>\n      <td>[nativism, nativist]</td>\n    </tr>\n    <tr>\n      <th>4</th>\n      <td>4</td>\n      <td>radical</td>\n      <td>106</td>\n      <td>3.136095</td>\n      <td>[radical, radicalism, radically, radical-right...</td>\n    </tr>\n    <tr>\n      <th>5</th>\n      <td>5</td>\n      <td>moderate</td>\n      <td>42</td>\n      <td>1.242604</td>\n      <td>[moderate, moderately]</td>\n    </tr>\n    <tr>\n      <th>6</th>\n      <td>6</td>\n      <td>authoritatian</td>\n      <td>157</td>\n      <td>4.644970</td>\n      <td>[authoritarian, authoritarianism]</td>\n    </tr>\n    <tr>\n      <th>7</th>\n      <td>7</td>\n      <td>inclusive</td>\n      <td>69</td>\n      <td>2.041420</td>\n      <td>[inclusionary, inclusive, inclusion]</td>\n    </tr>\n    <tr>\n      <th>8</th>\n      <td>8</td>\n      <td>exclusive</td>\n      <td>108</td>\n      <td>3.195266</td>\n      <td>[exclusionary, exclusion, exclusive, exclusive...</td>\n    </tr>\n    <tr>\n      <th>9</th>\n      <td>9</td>\n      <td>neoliberal</td>\n      <td>64</td>\n      <td>1.893491</td>\n      <td>[neoliberal, neo-liberal, Neoliberalism, neoli...</td>\n    </tr>\n  </tbody>\n</table>\n</div>"
     },
     "execution_count": 69,
     "metadata": {},
     "output_type": "execute_result"
    }
   ],
   "source": [
    "poptypes_df = pd.read_csv(\"../data/poptypes_df.csv\")\n",
    "poptypes_df[\"words\"] = poptypes_df[\"words\"].apply(eval)\n",
    "poptypes_df"
   ],
   "metadata": {
    "collapsed": false
   }
  },
  {
   "cell_type": "code",
   "execution_count": 70,
   "outputs": [
    {
     "data": {
      "text/plain": "{'right-wing': ['right-wing',\n  'right',\n  'rightwe',\n  'radical-right',\n  'far-right',\n  'rightist',\n  'right-leaning',\n  'radicalright',\n  'rightwing',\n  'extreme-right',\n  'farright'],\n 'left-wing': ['left-wing',\n  'left',\n  'leftist',\n  'radical-left',\n  'leftwing',\n  'left-leaning',\n  'leftwe',\n  'center-left',\n  'leftism',\n  'center-left',\n  'radicalleft'],\n 'nationalist': ['nationalism',\n  'nationalist',\n  'national',\n  'nation',\n  'nationalistic',\n  'neo-nationalism',\n  'nationalisms',\n  'ethno',\n  'ethno-nationalist',\n  'ethnoregionalist'],\n 'nativist': ['nativism', 'nativist'],\n 'radical': ['radical', 'radicalism', 'radically', 'radical-right-wing'],\n 'moderate': ['moderate', 'moderately'],\n 'authoritatian': ['authoritarian', 'authoritarianism'],\n 'inclusive': ['inclusionary', 'inclusive', 'inclusion'],\n 'exclusive': ['exclusionary',\n  'exclusion',\n  'exclusive',\n  'exclusively',\n  'exclusionist'],\n 'neoliberal': ['neoliberal',\n  'neo-liberal',\n  'Neoliberalism',\n  'neoliberalism',\n  'Neoliberal']}"
     },
     "execution_count": 70,
     "metadata": {},
     "output_type": "execute_result"
    }
   ],
   "source": [
    "poptypes_dict = dict(zip(poptypes_df[\"poptype\"], poptypes_df[\"words\"]))\n",
    "poptypes_dict"
   ],
   "metadata": {
    "collapsed": false
   }
  },
  {
   "cell_type": "code",
   "execution_count": 58,
   "outputs": [],
   "source": [
    "path = \"../data/large_data/populis_conc15/\"\n",
    "all_concs = []\n",
    "for filename in os.listdir(path):\n",
    "    if \".txt\" in filename:\n",
    "        filepath = path + filename\n",
    "        with open(filepath, \"r\") as f:\n",
    "            lines = f.readlines()\n",
    "        lines_splitted = [l.split() for l in lines]\n",
    "        all_concs.extend(lines_splitted)"
   ],
   "metadata": {
    "collapsed": false
   }
  },
  {
   "cell_type": "code",
   "execution_count": 59,
   "outputs": [
    {
     "data": {
      "text/plain": "40019"
     },
     "execution_count": 59,
     "metadata": {},
     "output_type": "execute_result"
    }
   ],
   "source": [
    "len(all_concs)"
   ],
   "metadata": {
    "collapsed": false
   }
  },
  {
   "cell_type": "code",
   "execution_count": 60,
   "outputs": [
    {
     "name": "stdout",
     "output_type": "stream",
     "text": [
      "[['new', 'Iron', 'Curtain', 'descend', 'continent', 'Europe', 'young', 'postcommunist', 'democracy', 'broad', 'process', 'affect', 'politic', 'Europe', 'rise', 'populist', 'nationalism', 'the_United_Kingdom_’s', 'Brexit', 'referendum', 'great', 'act', 'defiance', 'establishment', 'coming', 'universal', 'austrian', 'presidential', 'election', 'Sweden', 'Democrats'], ['universal', 'austrian', 'presidential', 'election', 'Sweden', 'Democrats', 'Marine_Le_Pen_’s', 'National_Front', 'France', 'european', 'democracy', 'face', 'emergence', 'variety', 'nativist', 'populist', 'political', 'force', 'force', 'reshape', 'political', 'landscape', 'EU', 'member', 'state', 'threaten', 'Union', 'paralysis', 'possibly', 'disintegration', 'Central_and_Eastern_Europe'], ['power', 'contrast', 'importance', 'warning', 'specific', 'feature', 'Central_and_Eastern_Europe', 'democratic', 'regression', 'main', 'cause', 'hypothesis', 'good', 'explain', 'feature', 'populist', 'challenge', 'liberal', 'democracy', 'commonly', 'see', 'Europe', 'east', 'west', 'process', 'european', 'integration', 'solely', 'collateral', 'victim', 'crisis'], ['system', 'event', 'find', 'rhetorically', 'outbid', 'xenophobe', 'radical', 'stripe', 'slovak', 'politic', 'describe', 'continuum', 'nationalisms', 'stretch', 'Fico', 'left-populist', 'variant', 'SNS', 'right-wing', 'conservative', 'version', 'Kotleba', 'outright', 'fascism', 'November_2015', 'Fico', 'publicly', 'challenge', 'the_European_Commission_’s', 'decision', 'share'], ['old', 'divide', 'political', 'culture', 'Hungary', 'refer', 'urbanist', 'liberal', 'social', 'democrat', 'adept', 'modern', 'open', 'society', 'versus', 'populist', 'nationalists', 'concerned', 'preservation', 'traditional', 'value', 'polish', 'electoral', 'map', 'the_last_', '_decade', 'contest', 'Civic_Platform_and', 'Law_and_Justice', 'reveal', 'pattern'], ['government', 'date', 'choose', 'referendum', 'immigration', '2_October_2016', 'coincide', 'rerun', 'austrian', 'presidential', 'election', 'immigration', 'issue', 'central', 'Austria-Hungary', 'populist', 'garb', 'Orbán', 'Merkel', 'lay', 'contrast', 'narrative', 'profound', 'political', 'implication', 'say', 'shield', 'small', 'country', 'european', 'civilization'], ['talk', 'east-w', 'split', 'Europe', 'suggestion', 'EU', 'enlargement', 'mistake', 'premature', 'talk', 'misconceive', 'situation', 'crisis', 'liberalism', 'rise', 'populist', 'nationalism', 'pan-European', 'phenomenon', 'CEE', 'region', 'post-1989', 'liberalism', 'mean', 'democracy', 'market', 'european', 'integration', 'three', 'crisis', 'crisis'], ['crisis', 'crisis', 'EUwide', 'traditional', 'mainstream', 'party', 'decline', 'old', 'left-right', 'divide', 'recede', 'leave', 'vacuum', 'identity', 'politic', 'populist', 'party', 'fill', 'EU', 'see', 'victim', 'collateral', 'damage', 'cause', 'rise', 'antiliberal', 'populism', 'challenge', 'old', 'pro-european', 'elite'], ['leave', 'vacuum', 'identity', 'politic', 'populist', 'party', 'fill', 'EU', 'see', 'victim', 'collateral', 'damage', 'cause', 'rise', 'antiliberal', 'populism', 'challenge', 'old', 'pro-european', 'elite', 'consensus', 'EU', 'see', 'having', 'contribute', 'inadvertently', 'rise', 'european', 'integration', 'base', 'share'], ['consensus', 'associate', 'european', 'integration', 'source', 'course', 'affect', 'CEE', 'region', 'pan-European', 'crisis', 'EU', 'elitist', 'project', 'age', 'populism', 'overcome', 'internal', 'division', 'populist', 'challenge', 'Union', 'weaken', 'possibility', 'Grexit', 'reality', 'Brexit', 'face', 'challenge', 'populism', 'nationalism']]\n"
     ]
    }
   ],
   "source": [
    "print(all_concs[:10])"
   ],
   "metadata": {
    "collapsed": false
   }
  },
  {
   "cell_type": "code",
   "execution_count": 72,
   "outputs": [
    {
     "data": {
      "text/plain": "15"
     },
     "execution_count": 72,
     "metadata": {},
     "output_type": "execute_result"
    }
   ],
   "source": [
    "middle = int(len(all_concs[0]) / 2)\n",
    "middle"
   ],
   "metadata": {
    "collapsed": false
   }
  },
  {
   "cell_type": "code",
   "execution_count": 73,
   "outputs": [
    {
     "data": {
      "text/plain": "'populist'"
     },
     "execution_count": 73,
     "metadata": {},
     "output_type": "execute_result"
    }
   ],
   "source": [
    "all_concs[0][middle]"
   ],
   "metadata": {
    "collapsed": false
   }
  },
  {
   "cell_type": "code",
   "execution_count": 74,
   "outputs": [
    {
     "data": {
      "text/plain": "False"
     },
     "execution_count": 74,
     "metadata": {},
     "output_type": "execute_result"
    }
   ],
   "source": [
    "bool(set([\"a\", \"b\"]) & set([\"c\", \"d\"]))"
   ],
   "metadata": {
    "collapsed": false
   }
  },
  {
   "cell_type": "code",
   "execution_count": 75,
   "outputs": [
    {
     "data": {
      "text/plain": "40019"
     },
     "execution_count": 75,
     "metadata": {},
     "output_type": "execute_result"
    }
   ],
   "source": [
    "len(all_concs)"
   ],
   "metadata": {
    "collapsed": false
   }
  },
  {
   "cell_type": "code",
   "execution_count": 77,
   "outputs": [],
   "source": [
    "concs_covered_types = []\n",
    "for conc in all_concs:\n",
    "    covered_types = 0\n",
    "    for key in poptypes_dict.keys():\n",
    "        if set(poptypes_dict[key]) & set(conc):\n",
    "            covered_types += 1\n",
    "    concs_covered_types.append(covered_types)"
   ],
   "metadata": {
    "collapsed": false
   }
  },
  {
   "cell_type": "code",
   "execution_count": 78,
   "outputs": [
    {
     "data": {
      "text/plain": "[1, 1, 0, 3, 0, 0, 1, 0, 0, 1, 1, 1, 0, 3, 3, 3, 2, 1, 2, 1]"
     },
     "execution_count": 78,
     "metadata": {},
     "output_type": "execute_result"
    }
   ],
   "source": [
    "concs_covered_types[:20]"
   ],
   "metadata": {
    "collapsed": false
   }
  },
  {
   "cell_type": "code",
   "execution_count": 79,
   "outputs": [
    {
     "data": {
      "text/plain": "21960"
     },
     "execution_count": 79,
     "metadata": {},
     "output_type": "execute_result"
    }
   ],
   "source": [
    "sum([el for el in concs_covered_types if el>0])"
   ],
   "metadata": {
    "collapsed": false
   }
  },
  {
   "cell_type": "code",
   "execution_count": 84,
   "outputs": [
    {
     "data": {
      "text/plain": "8512"
     },
     "execution_count": 84,
     "metadata": {},
     "output_type": "execute_result"
    }
   ],
   "source": [
    "sum([el for el in concs_covered_types if el==1])"
   ],
   "metadata": {
    "collapsed": false
   }
  },
  {
   "cell_type": "code",
   "execution_count": 85,
   "outputs": [
    {
     "data": {
      "text/plain": "13448"
     },
     "execution_count": 85,
     "metadata": {},
     "output_type": "execute_result"
    }
   ],
   "source": [
    "sum([el for el in concs_covered_types if el>1])"
   ],
   "metadata": {
    "collapsed": false
   }
  },
  {
   "cell_type": "code",
   "execution_count": null,
   "outputs": [],
   "source": [],
   "metadata": {
    "collapsed": false
   }
  }
 ],
 "metadata": {
  "kernelspec": {
   "display_name": "Python 3",
   "language": "python",
   "name": "python3"
  },
  "language_info": {
   "codemirror_mode": {
    "name": "ipython",
    "version": 2
   },
   "file_extension": ".py",
   "mimetype": "text/x-python",
   "name": "python",
   "nbconvert_exporter": "python",
   "pygments_lexer": "ipython2",
   "version": "2.7.6"
  }
 },
 "nbformat": 4,
 "nbformat_minor": 0
}
