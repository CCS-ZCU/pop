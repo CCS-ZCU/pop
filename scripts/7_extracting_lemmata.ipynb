{
 "cells": [
  {
   "cell_type": "code",
   "execution_count": 1,
   "metadata": {
    "collapsed": true
   },
   "outputs": [],
   "source": [
    "import os\n",
    "import spacy\n",
    "import pickle\n",
    "import re\n",
    "from nltk.stem import WordNetLemmatizer"
   ]
  },
  {
   "cell_type": "code",
   "execution_count": 2,
   "outputs": [],
   "source": [
    "lemmatizer = WordNetLemmatizer()"
   ],
   "metadata": {
    "collapsed": false
   }
  },
  {
   "cell_type": "code",
   "execution_count": 3,
   "outputs": [
    {
     "data": {
      "text/plain": "<spacy.pipeline.sentencizer.Sentencizer at 0x2c3972140>"
     },
     "execution_count": 3,
     "metadata": {},
     "output_type": "execute_result"
    }
   ],
   "source": [
    "nlp_md = spacy.load('en_core_web_lg')\n",
    "nlp_md.add_pipe('sentencizer')"
   ],
   "metadata": {
    "collapsed": false
   }
  },
  {
   "cell_type": "code",
   "execution_count": 4,
   "metadata": {},
   "outputs": [
    {
     "data": {
      "text/plain": "['spacydoc_pop_id_28.pickle',\n 'spacydoc_pop_id_199.pickle',\n 'spacydoc_pop_id_253.pickle',\n 'spacydoc_pop_id_502.pickle',\n 'spacydoc_pop_id_55.pickle',\n 'spacydoc_pop_id_353.pickle',\n 'spacydoc_pop_id_402.pickle',\n 'spacydoc_pop_id_36.pickle',\n 'spacydoc_pop_id_230.pickle',\n 'spacydoc_pop_id_187.pickle']"
     },
     "execution_count": 4,
     "metadata": {},
     "output_type": "execute_result"
    }
   ],
   "source": [
    "filenames = [f for f in os.listdir(\"../data/large_data/articles_spacydocs\") if \".pickle\" in f]\n",
    "filenames[:10]"
   ]
  },
  {
   "cell_type": "code",
   "execution_count": 5,
   "metadata": {},
   "outputs": [],
   "source": [
    "sourcepath = \"../data/large_data/articles_spacydocs/\""
   ]
  },
  {
   "cell_type": "code",
   "execution_count": 6,
   "metadata": {},
   "outputs": [],
   "source": [
    "filepath = sourcepath + \"spacydoc_pop_id_17.pickle\""
   ]
  },
  {
   "cell_type": "code",
   "execution_count": 7,
   "metadata": {},
   "outputs": [],
   "source": [
    "#with open(filepath, \"rb\") as f:\n",
    "#    doc = pickle.load(f)\n",
    "# test reading it back\n",
    "doc = pickle.load(open(\"../data/large_data/doc_test.pickle\", \"rb\"))"
   ]
  },
  {
   "cell_type": "code",
   "execution_count": 8,
   "metadata": {},
   "outputs": [
    {
     "data": {
      "text/plain": "2"
     },
     "execution_count": 8,
     "metadata": {},
     "output_type": "execute_result"
    }
   ],
   "source": [
    "str(doc).count(\"right-wing\")"
   ]
  },
  {
   "cell_type": "code",
   "execution_count": 9,
   "outputs": [
    {
     "data": {
      "text/plain": "[(75,\n  As a set of ideas, populism can be attached to different ideologies, ranging from left-wing to right-wing and from progressive to conservative.),\n (114,\n  Various studies have indeed found that populist parties positioned at the fringes of the political spectrum tend to express Eurosceptic attitudes (Hooghe et al., 2002; De Vries and Edwards, 2009; Halikiopoulou et al., 2012), and that supporters of such parties (both left- and right-wing) tend to be rather Eurosceptic as well (Lubbers and Scheepers, 2007; Werts et al., 2013; Visser et al., 2014; Ramiro, 2016).)]"
     },
     "execution_count": 9,
     "metadata": {},
     "output_type": "execute_result"
    }
   ],
   "source": [
    "[(i, sent) for i, sent in enumerate(doc.sents) if re.search(\"right-wing\", str(sent))]"
   ],
   "metadata": {
    "collapsed": false
   }
  },
  {
   "cell_type": "code",
   "execution_count": 24,
   "outputs": [
    {
     "data": {
      "text/plain": "Various studies have indeed found that populist parties positioned at the fringes of the political spectrum tend to express Eurosceptic attitudes (Hooghe et al., 2002; De Vries and Edwards, 2009; Halikiopoulou et al., 2012), and that supporters of such parties (both left- and right-wing) tend to be rather Eurosceptic as well (Lubbers and Scheepers, 2007; Werts et al., 2013; Visser et al., 2014; Ramiro, 2016)."
     },
     "execution_count": 24,
     "metadata": {},
     "output_type": "execute_result"
    }
   ],
   "source": [
    "sent = list(doc.sents)[114]\n",
    "sent"
   ],
   "metadata": {
    "collapsed": false
   }
  },
  {
   "cell_type": "code",
   "execution_count": 25,
   "outputs": [
    {
     "data": {
      "text/plain": "[('studies', 'NOUN', 'study'),\n ('found', 'VERB', 'find'),\n ('populist', 'ADJ', 'populist'),\n ('parties', 'NOUN', 'party'),\n ('positioned', 'VERB', 'position'),\n ('fringes', 'NOUN', 'fringe'),\n ('political', 'ADJ', 'political'),\n ('spectrum', 'NOUN', 'spectrum'),\n ('tend', 'VERB', 'tend'),\n ('express', 'VERB', 'express'),\n ('Eurosceptic', 'ADJ', 'eurosceptic'),\n ('attitudes', 'NOUN', 'attitude'),\n ('(', 'PUNCT', '('),\n ('Hooghe', 'PROPN', 'Hooghe'),\n ('et', 'PROPN', 'et'),\n ('al', 'PROPN', 'al'),\n ('.', 'PROPN', '.'),\n (',', 'PUNCT', ','),\n ('2002', 'NUM', '2002'),\n (';', 'PUNCT', ';'),\n ('De', 'PROPN', 'De'),\n ('Vries', 'PROPN', 'Vries'),\n ('Edwards', 'PROPN', 'Edwards'),\n (',', 'PUNCT', ','),\n ('2009', 'NUM', '2009'),\n (';', 'PUNCT', ';'),\n ('Halikiopoulou', 'PROPN', 'Halikiopoulou'),\n ('et', 'PROPN', 'et'),\n ('al', 'PROPN', 'al'),\n ('.', 'PROPN', '.'),\n (',', 'PUNCT', ','),\n ('2012', 'NUM', '2012'),\n (')', 'PUNCT', ')'),\n (',', 'PUNCT', ','),\n ('supporters', 'NOUN', 'supporter'),\n ('parties', 'NOUN', 'party'),\n ('(', 'PUNCT', '('),\n ('left-', 'ADJ', 'left-'),\n ('right-wing', 'VERB', 'right-we'),\n (')', 'PUNCT', ')'),\n ('tend', 'VERB', 'tend'),\n ('Eurosceptic', 'ADJ', 'eurosceptic'),\n ('(', 'PUNCT', '('),\n ('Lubbers', 'PROPN', 'Lubbers'),\n ('Scheepers', 'PROPN', 'Scheepers'),\n (',', 'PUNCT', ','),\n ('2007', 'NUM', '2007'),\n (';', 'PUNCT', ';'),\n ('Werts', 'PROPN', 'Werts'),\n ('et', 'PROPN', 'et'),\n ('al', 'PROPN', 'al'),\n ('.', 'PROPN', '.'),\n (',', 'PUNCT', ','),\n ('2013', 'NUM', '2013'),\n (';', 'PUNCT', ';'),\n ('Visser', 'PROPN', 'Visser'),\n ('et', 'PROPN', 'et'),\n ('al', 'PROPN', 'al'),\n ('.', 'PROPN', '.'),\n (',', 'PUNCT', ','),\n ('2014', 'NUM', '2014'),\n (';', 'PUNCT', ';'),\n ('Ramiro', 'PROPN', 'Ramiro'),\n (',', 'PUNCT', ','),\n ('2016', 'NUM', '2016'),\n (')', 'PUNCT', ')'),\n ('.', 'PUNCT', '.')]"
     },
     "execution_count": 25,
     "metadata": {},
     "output_type": "execute_result"
    }
   ],
   "source": [
    "[(t.text, t.pos_, t.lemma_) for t in sent if t.is_stop==False]"
   ],
   "metadata": {
    "collapsed": false
   }
  },
  {
   "cell_type": "code",
   "execution_count": 26,
   "outputs": [
    {
     "name": "stdout",
     "output_type": "stream",
     "text": [
      "['Various', 'studies', 'have', 'indeed', 'found', 'that', 'populist', 'parties', 'positioned', 'at', 'the', 'fringes', 'of', 'the', 'political', 'spectrum', 'tend', 'to', 'express', 'Eurosceptic', 'attitudes', '(', 'Hooghe', 'et', 'al', '.', ',', '2002', ';', 'De', 'Vries', 'and', 'Edwards', ',', '2009', ';', 'Halikiopoulou', 'et', 'al', '.', ',', '2012', ')', ',', 'and', 'that', 'supporters', 'of', 'such', 'parties', '(', 'both', 'left-', 'and', 'right-wing', ')', 'tend', 'to', 'be', 'rather', 'Eurosceptic', 'as', 'well', '(', 'Lubbers', 'and', 'Scheepers', ',', '2007', ';', 'Werts', 'et', 'al', '.', ',', '2013', ';', 'Visser', 'et', 'al', '.', ',', '2014', ';', 'Ramiro', ',', '2016', ')', '.']\n"
     ]
    }
   ],
   "source": [
    "print([t.text for t in sent])"
   ],
   "metadata": {
    "collapsed": false
   }
  },
  {
   "cell_type": "code",
   "execution_count": 27,
   "outputs": [
    {
     "data": {
      "text/plain": "['study',\n 'find',\n 'populist',\n 'party',\n 'position',\n 'fringe',\n 'political',\n 'spectrum',\n 'tend',\n 'express',\n 'eurosceptic',\n 'attitude',\n 'Hooghe',\n 'et',\n 'al',\n 'De',\n 'Vries',\n 'Edwards',\n 'Halikiopoulou',\n 'et',\n 'al',\n 'supporter',\n 'party',\n 'left-',\n 'right-wing',\n 'tend',\n 'eurosceptic',\n 'Lubbers',\n 'Scheepers',\n 'Werts',\n 'et',\n 'al',\n 'Visser',\n 'et',\n 'al',\n 'Ramiro']"
     },
     "execution_count": 27,
     "metadata": {},
     "output_type": "execute_result"
    }
   ],
   "source": [
    "lemmata_list = []\n",
    "for t in sent:\n",
    "    if t.is_stop==False:\n",
    "        if (t.is_alpha==True):\n",
    "            lemmata_list.append(t.lemma_)\n",
    "        else:\n",
    "            if \"-\" in t.text:\n",
    "                start, hyphen, end = str(t.text).rpartition(\"-\")\n",
    "                new_lemma = \"-\".join([start, lemmatizer.lemmatize(end)])\n",
    "                lemmata_list.append(new_lemma)\n",
    "lemmata_list"
   ],
   "metadata": {
    "collapsed": false
   }
  },
  {
   "cell_type": "code",
   "execution_count": 28,
   "outputs": [
    {
     "name": "stdout",
     "output_type": "stream",
     "text": [
      ".\n",
      "Vries\n",
      ".\n",
      "Lubbers\n",
      ".\n"
     ]
    }
   ],
   "source": [
    "for ent in sent.ents:\n",
    "    if ent.label_ == \"PERSON\":\n",
    "        print(ent[-1].lemma_)"
   ],
   "metadata": {
    "collapsed": false
   }
  },
  {
   "cell_type": "code",
   "execution_count": 15,
   "metadata": {},
   "outputs": [],
   "source": [
    "#ent = [ent for ent in sent.ents][0]"
   ]
  },
  {
   "cell_type": "code",
   "execution_count": 51,
   "metadata": {},
   "outputs": [],
   "source": [
    "# postags = [\"PROPN\", \"NOUN\", \"VERB\", ]\n",
    "def lemmata(spacyobject, filtered=True):\n",
    "    if filtered==True:\n",
    "        lemmata_list = []\n",
    "        for t in spacyobject:\n",
    "            if (t.is_stop==False) & (t.pos_ != \"PROPN\"):\n",
    "                if (t.is_alpha==True):\n",
    "                    lemmata_list.append(t.lemma_)\n",
    "                else:\n",
    "                    if \"-\" in t.text:\n",
    "                        start, hyphen, end = str(t.text).rpartition(\"-\")\n",
    "                        new_lemma = \"-\".join([start, lemmatizer.lemmatize(end)]).lower()\n",
    "                        lemmata_list.append(new_lemma)\n",
    "        return  lemmata_list\n",
    "    else:\n",
    "        return  [t.lemma_ for t in spacyobject]\n",
    "    # return [t.lemma_.lower() if t.pos==\"PROPN\" else t.lemma_ for t in spacyobject if (t.is_stop==False) & (t.is_alpha==True)]"
   ]
  },
  {
   "cell_type": "code",
   "execution_count": 52,
   "outputs": [
    {
     "data": {
      "text/plain": "[('Various', 'ADJ', 'various'),\n ('studies', 'NOUN', 'study'),\n ('have', 'AUX', 'have'),\n ('indeed', 'ADV', 'indeed'),\n ('found', 'VERB', 'find'),\n ('that', 'SCONJ', 'that'),\n ('populist', 'ADJ', 'populist'),\n ('parties', 'NOUN', 'party'),\n ('positioned', 'VERB', 'position'),\n ('at', 'ADP', 'at'),\n ('the', 'DET', 'the'),\n ('fringes', 'NOUN', 'fringe'),\n ('of', 'ADP', 'of'),\n ('the', 'DET', 'the'),\n ('political', 'ADJ', 'political'),\n ('spectrum', 'NOUN', 'spectrum'),\n ('tend', 'VERB', 'tend'),\n ('to', 'PART', 'to'),\n ('express', 'VERB', 'express'),\n ('Eurosceptic', 'ADJ', 'eurosceptic'),\n ('attitudes', 'NOUN', 'attitude'),\n ('(', 'PUNCT', '('),\n ('Hooghe', 'PROPN', 'Hooghe'),\n ('et', 'PROPN', 'et'),\n ('al', 'PROPN', 'al'),\n ('.', 'PROPN', '.'),\n (',', 'PUNCT', ','),\n ('2002', 'NUM', '2002'),\n (';', 'PUNCT', ';'),\n ('De', 'PROPN', 'De'),\n ('Vries', 'PROPN', 'Vries'),\n ('and', 'CCONJ', 'and'),\n ('Edwards', 'PROPN', 'Edwards'),\n (',', 'PUNCT', ','),\n ('2009', 'NUM', '2009'),\n (';', 'PUNCT', ';'),\n ('Halikiopoulou', 'PROPN', 'Halikiopoulou'),\n ('et', 'PROPN', 'et'),\n ('al', 'PROPN', 'al'),\n ('.', 'PROPN', '.'),\n (',', 'PUNCT', ','),\n ('2012', 'NUM', '2012'),\n (')', 'PUNCT', ')'),\n (',', 'PUNCT', ','),\n ('and', 'CCONJ', 'and'),\n ('that', 'SCONJ', 'that'),\n ('supporters', 'NOUN', 'supporter'),\n ('of', 'ADP', 'of'),\n ('such', 'ADJ', 'such'),\n ('parties', 'NOUN', 'party'),\n ('(', 'PUNCT', '('),\n ('both', 'CCONJ', 'both'),\n ('left-', 'ADJ', 'left-'),\n ('and', 'CCONJ', 'and'),\n ('right-wing', 'VERB', 'right-we'),\n (')', 'PUNCT', ')'),\n ('tend', 'VERB', 'tend'),\n ('to', 'PART', 'to'),\n ('be', 'AUX', 'be'),\n ('rather', 'ADV', 'rather'),\n ('Eurosceptic', 'ADJ', 'eurosceptic'),\n ('as', 'ADV', 'as'),\n ('well', 'ADV', 'well'),\n ('(', 'PUNCT', '('),\n ('Lubbers', 'PROPN', 'Lubbers'),\n ('and', 'CCONJ', 'and'),\n ('Scheepers', 'PROPN', 'Scheepers'),\n (',', 'PUNCT', ','),\n ('2007', 'NUM', '2007'),\n (';', 'PUNCT', ';'),\n ('Werts', 'PROPN', 'Werts'),\n ('et', 'PROPN', 'et'),\n ('al', 'PROPN', 'al'),\n ('.', 'PROPN', '.'),\n (',', 'PUNCT', ','),\n ('2013', 'NUM', '2013'),\n (';', 'PUNCT', ';'),\n ('Visser', 'PROPN', 'Visser'),\n ('et', 'PROPN', 'et'),\n ('al', 'PROPN', 'al'),\n ('.', 'PROPN', '.'),\n (',', 'PUNCT', ','),\n ('2014', 'NUM', '2014'),\n (';', 'PUNCT', ';'),\n ('Ramiro', 'PROPN', 'Ramiro'),\n (',', 'PUNCT', ','),\n ('2016', 'NUM', '2016'),\n (')', 'PUNCT', ')'),\n ('.', 'PUNCT', '.')]"
     },
     "execution_count": 52,
     "metadata": {},
     "output_type": "execute_result"
    }
   ],
   "source": [
    "[(t.text, t.pos_, t.lemma_) for t in sent]"
   ],
   "metadata": {
    "collapsed": false
   }
  },
  {
   "cell_type": "code",
   "execution_count": 53,
   "metadata": {},
   "outputs": [
    {
     "data": {
      "text/plain": "['study',\n 'find',\n 'populist',\n 'party',\n 'position',\n 'fringe',\n 'political',\n 'spectrum',\n 'tend',\n 'express',\n 'eurosceptic',\n 'attitude',\n 'supporter',\n 'party',\n 'left-',\n 'right-wing',\n 'tend',\n 'eurosceptic']"
     },
     "execution_count": 53,
     "metadata": {},
     "output_type": "execute_result"
    }
   ],
   "source": [
    "lemmata(sent)"
   ]
  },
  {
   "cell_type": "code",
   "execution_count": 34,
   "metadata": {},
   "outputs": [],
   "source": [
    "ents_inds = []\n",
    "entstart_dict = {}\n",
    "for ent in sent.ents:\n",
    "    ents_inds.extend(range(ent.start + 1, ent.end))\n",
    "    entstart_dict[ent.start] = \"_\".join(lemmata(ent, filtered=False))"
   ]
  },
  {
   "cell_type": "code",
   "execution_count": 35,
   "outputs": [
    {
     "data": {
      "text/plain": "{3319: 'eurosceptic',\n 3322: 'Hooghe_et_al_.',\n 3327: '2002',\n 3329: 'De_Vries',\n 3332: 'Edwards',\n 3334: '2009',\n 3336: 'Halikiopoulou_et_al_.',\n 3341: '2012',\n 3360: 'eurosceptic',\n 3364: 'Lubbers',\n 3366: 'Scheepers',\n 3368: '2007',\n 3370: 'Werts_et_al_.',\n 3375: '2013',\n 3377: 'Visser_et_al_.',\n 3382: '2014',\n 3384: 'Ramiro',\n 3386: '2016'}"
     },
     "execution_count": 35,
     "metadata": {},
     "output_type": "execute_result"
    }
   ],
   "source": [
    "entstart_dict"
   ],
   "metadata": {
    "collapsed": false
   }
  },
  {
   "cell_type": "code",
   "execution_count": 36,
   "outputs": [
    {
     "data": {
      "text/plain": "[3323, 3324, 3325, 3330, 3337, 3338, 3339, 3371, 3372, 3373, 3378, 3379, 3380]"
     },
     "execution_count": 36,
     "metadata": {},
     "output_type": "execute_result"
    }
   ],
   "source": [
    "ents_inds"
   ],
   "metadata": {
    "collapsed": false
   }
  },
  {
   "cell_type": "code",
   "execution_count": 37,
   "outputs": [
    {
     "data": {
      "text/plain": "Various studies have indeed found that populist parties positioned at the fringes of the political spectrum tend to express Eurosceptic attitudes (Hooghe et al., 2002; De Vries and Edwards, 2009; Halikiopoulou et al., 2012), and that supporters of such parties (both left- and right-wing) tend to be rather Eurosceptic as well (Lubbers and Scheepers, 2007; Werts et al., 2013; Visser et al., 2014; Ramiro, 2016)."
     },
     "execution_count": 37,
     "metadata": {},
     "output_type": "execute_result"
    }
   ],
   "source": [
    "sent"
   ],
   "metadata": {
    "collapsed": false
   }
  },
  {
   "cell_type": "code",
   "execution_count": 38,
   "outputs": [],
   "source": [
    "def get_sentence_lemmata(sent):\n",
    "    ents_inds = []\n",
    "    entstart_dict = {}\n",
    "    for ent in sent.ents:\n",
    "        ents_inds.extend(range(ent.start + 1, ent.end))\n",
    "        if ent.label_ == \"PERSON\":\n",
    "            entstart_dict[ent.start] = ent[-1].lemma_\n",
    "        else:\n",
    "            entstart_dict[ent.start] = \"_\".join(lemmata(ent, filtered=False))\n",
    "    sentence_lemmata = []\n",
    "    for i in range(sent.start, sent.end):\n",
    "        if i in entstart_dict.keys():\n",
    "            sentence_lemmata.append(entstart_dict[i])\n",
    "        else:\n",
    "            if i not in ents_inds:\n",
    "                t = sent[i - sent.start]\n",
    "                if t.is_stop==False:\n",
    "                    if (t.is_alpha==True):\n",
    "                        sentence_lemmata.append(t.lemma_)\n",
    "                    else:\n",
    "                        if \"-\" in t.text:\n",
    "                            start, hyphen, end = str(t.text).rpartition(\"-\")\n",
    "                            new_lemma = \"-\".join([start, lemmatizer.lemmatize(end)])\n",
    "                            sentence_lemmata.append(new_lemma)\n",
    "    return sentence_lemmata"
   ],
   "metadata": {
    "collapsed": false
   }
  },
  {
   "cell_type": "code",
   "execution_count": 39,
   "outputs": [
    {
     "data": {
      "text/plain": "Various studies have indeed found that populist parties positioned at the fringes of the political spectrum tend to express Eurosceptic attitudes (Hooghe et al., 2002; De Vries and Edwards, 2009; Halikiopoulou et al., 2012), and that supporters of such parties (both left- and right-wing) tend to be rather Eurosceptic as well (Lubbers and Scheepers, 2007; Werts et al., 2013; Visser et al., 2014; Ramiro, 2016)."
     },
     "execution_count": 39,
     "metadata": {},
     "output_type": "execute_result"
    }
   ],
   "source": [
    "sent"
   ],
   "metadata": {
    "collapsed": false
   }
  },
  {
   "cell_type": "code",
   "execution_count": 40,
   "outputs": [
    {
     "data": {
      "text/plain": "['study',\n 'find',\n 'populist',\n 'party',\n 'position',\n 'fringe',\n 'political',\n 'spectrum',\n 'tend',\n 'express',\n 'eurosceptic',\n 'attitude',\n '.',\n '2002',\n 'Vries',\n 'Edwards',\n '2009',\n '.',\n '2012',\n 'supporter',\n 'party',\n 'left-',\n 'right-wing',\n 'tend',\n 'eurosceptic',\n 'Lubbers',\n 'Scheepers',\n '2007',\n 'Werts_et_al_.',\n '2013',\n '.',\n '2014',\n 'Ramiro',\n '2016']"
     },
     "execution_count": 40,
     "metadata": {},
     "output_type": "execute_result"
    }
   ],
   "source": [
    "get_sentence_lemmata(sent)"
   ],
   "metadata": {
    "collapsed": false
   }
  },
  {
   "cell_type": "code",
   "execution_count": 49,
   "outputs": [
    {
     "data": {
      "text/plain": "['abstract five_decade term consociationalism debut comparative politic divided society huge body international literature spark continue grow',\n 'era populism polarization interest facet consociationalism all-time high',\n 'introduction special issue half_a_Century consociationalism case Comparisons give impression contemporary state consociational research agenda',\n 'addition introduction suggest potentially rewarding new avenue leadership study caution conﬂation consociationalism power sharing',\n 'voice skepticism suggest promise large n-quantitative study ﬁeld dominate case-based research']"
     },
     "execution_count": 49,
     "metadata": {},
     "output_type": "execute_result"
    }
   ],
   "source": [
    "lemmatized_sents = [\" \".join(get_sentence_lemmata(sent)) for sent in doc.sents]\n",
    "lemmatized_sents[:5]"
   ],
   "metadata": {
    "collapsed": false
   }
  },
  {
   "cell_type": "code",
   "execution_count": 139,
   "outputs": [],
   "source": [
    "with open(\"testfile.txt\", \"w\") as f:\n",
    "    f.writelines(\"\\n\".join(lemmatized_sents))"
   ],
   "metadata": {
    "collapsed": false
   }
  },
  {
   "cell_type": "code",
   "execution_count": 48,
   "outputs": [
    {
     "data": {
      "text/plain": "['abstract decade term consociationalism debut comparative politic divided society huge body international literature spark continue grow',\n 'era populism polarization interest facet consociationalism all-time high',\n 'introduction special issue half consociationalism case give impression contemporary state consociational research agenda',\n 'addition introduction suggest potentially rewarding new avenue leadership study caution conﬂation consociationalism power sharing',\n 'voice skepticism suggest promise large N-quantitative study ﬁeld dominate case-based research']"
     },
     "execution_count": 48,
     "metadata": {},
     "output_type": "execute_result"
    }
   ],
   "source": [
    "lemmatized_sents = [\" \".join(lemmata(sent)) for sent in doc.sents]\n",
    "lemmatized_sents[:5]"
   ],
   "metadata": {
    "collapsed": false
   }
  },
  {
   "cell_type": "markdown",
   "source": [
    "# Lemmata with named entities"
   ],
   "metadata": {
    "collapsed": false
   }
  },
  {
   "cell_type": "code",
   "execution_count": 142,
   "outputs": [
    {
     "name": "stdout",
     "output_type": "stream",
     "text": [
      "mkdir: ../data/large_data/articles_lemmata: File exists\r\n"
     ]
    }
   ],
   "source": [
    "!mkdir ../data/large_data/articles_lemmata"
   ],
   "metadata": {
    "collapsed": false
   }
  },
  {
   "cell_type": "code",
   "execution_count": 143,
   "outputs": [
    {
     "data": {
      "text/plain": "'spacydoc_pop_id_28.pickle'"
     },
     "execution_count": 143,
     "metadata": {},
     "output_type": "execute_result"
    }
   ],
   "source": [
    "filenames[0]"
   ],
   "metadata": {
    "collapsed": false
   }
  },
  {
   "cell_type": "code",
   "execution_count": 25,
   "metadata": {},
   "outputs": [],
   "source": [
    "sourcepath = \"../data/large_data/articles_spacydocs/\"\n",
    "destpath = \"../data/large_data/articles_lemmata/\"\n",
    "for filename in filenames:\n",
    "    filepath = sourcepath + filename\n",
    "    with open(filepath, \"rb\") as f:\n",
    "        doc = pickle.load(f)\n",
    "    lemmatized_sents = [\" \".join(get_sentence_lemmata(sent)) for sent in doc.sents]\n",
    "    with open(destpath + filename.replace(\"spacydoc\", \"lemmata\").replace(\".pickle\", \".txt\"), \"w\") as f:\n",
    "        f.writelines(\"\\n\".join(lemmatized_sents))"
   ]
  },
  {
   "cell_type": "markdown",
   "source": [
    "\n",
    "# Lemmata without named entities"
   ],
   "metadata": {
    "collapsed": false
   }
  },
  {
   "cell_type": "code",
   "execution_count": 43,
   "outputs": [],
   "source": [
    "!mkdir ../data/large_data/articles_lemmata_min"
   ],
   "metadata": {
    "collapsed": false
   }
  },
  {
   "cell_type": "code",
   "execution_count": 54,
   "outputs": [],
   "source": [
    "sourcepath = \"../data/large_data/articles_spacydocs/\"\n",
    "destpath = \"../data/large_data/articles_lemmata_min/\"\n",
    "for filename in filenames:\n",
    "    filepath = sourcepath + filename\n",
    "    with open(filepath, \"rb\") as f:\n",
    "        doc = pickle.load(f)\n",
    "    lemmatized_sents = [\" \".join(lemmata(sent)) for sent in doc.sents]\n",
    "    with open(destpath + filename.replace(\"spacydoc\", \"lemmata\").replace(\".pickle\", \".txt\"), \"w\") as f:\n",
    "        f.writelines(\"\\n\".join(lemmatized_sents))"
   ],
   "metadata": {
    "collapsed": false
   }
  },
  {
   "cell_type": "code",
   "execution_count": null,
   "outputs": [],
   "source": [],
   "metadata": {
    "collapsed": false
   }
  }
 ],
 "metadata": {
  "kernelspec": {
   "display_name": "conda_base",
   "language": "python",
   "name": "conda_base"
  },
  "language_info": {
   "codemirror_mode": {
    "name": "ipython",
    "version": 3
   },
   "file_extension": ".py",
   "mimetype": "text/x-python",
   "name": "python",
   "nbconvert_exporter": "python",
   "pygments_lexer": "ipython3",
   "version": "3.9.12"
  }
 },
 "nbformat": 4,
 "nbformat_minor": 1
}
