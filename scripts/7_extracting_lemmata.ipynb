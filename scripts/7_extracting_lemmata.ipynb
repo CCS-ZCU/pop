{
 "cells": [
  {
   "cell_type": "code",
   "execution_count": 32,
   "metadata": {
    "collapsed": true
   },
   "outputs": [],
   "source": [
    "import os\n",
    "import spacy\n",
    "import pickle\n",
    "import re"
   ]
  },
  {
   "cell_type": "code",
   "execution_count": 56,
   "outputs": [
    {
     "data": {
      "text/plain": "<spacy.pipeline.sentencizer.Sentencizer at 0x2a4e51680>"
     },
     "execution_count": 56,
     "metadata": {},
     "output_type": "execute_result"
    }
   ],
   "source": [
    "nlp_md = spacy.load('en_core_web_lg')\n",
    "nlp_md.add_pipe('sentencizer')"
   ],
   "metadata": {
    "collapsed": false
   }
  },
  {
   "cell_type": "code",
   "execution_count": 46,
   "outputs": [
    {
     "name": "stdout",
     "output_type": "stream",
     "text": [
      "['mother-in-law']\n"
     ]
    }
   ],
   "source": [
    "from spacy.util import compile_infix_regex\n",
    "from spacy.lang.char_classes import ALPHA, ALPHA_LOWER, ALPHA_UPPER\n",
    "from spacy.lang.char_classes import CONCAT_QUOTES, LIST_ELLIPSES, LIST_ICONS\n",
    "\n",
    "infixes = (\n",
    "        LIST_ELLIPSES\n",
    "        + LIST_ICONS\n",
    "        + [\n",
    "            r\"(?<=[0-9])[+\\-\\*^](?=[0-9-])\",\n",
    "            r\"(?<=[{al}{q}])\\.(?=[{au}{q}])\".format(\n",
    "                al=ALPHA_LOWER, au=ALPHA_UPPER, q=CONCAT_QUOTES\n",
    "            ),\n",
    "            r\"(?<=[{a}]),(?=[{a}])\".format(a=ALPHA),\n",
    "            # ✅ Commented out regex that splits on hyphens between letters:\n",
    "            # r\"(?<=[{a}])(?:{h})(?=[{a}])\".format(a=ALPHA, h=HYPHENS),\n",
    "            r\"(?<=[{a}0-9])[:<>=/](?=[{a}])\".format(a=ALPHA),\n",
    "        ]\n",
    ")\n",
    "\n",
    "infix_re = compile_infix_regex(infixes)\n",
    "nlp_md.tokenizer.infix_finditer = infix_re.finditer\n",
    "doc = nlp_md(\"mother-in-law\")\n",
    "print([t.text for t in doc]) # ['mother-in-law']"
   ],
   "metadata": {
    "collapsed": false
   }
  },
  {
   "cell_type": "code",
   "execution_count": 47,
   "metadata": {},
   "outputs": [
    {
     "data": {
      "text/plain": "['spacydoc_pop_id_28.pickle',\n 'spacydoc_pop_id_199.pickle',\n 'spacydoc_pop_id_253.pickle',\n 'spacydoc_pop_id_502.pickle',\n 'spacydoc_pop_id_55.pickle',\n 'spacydoc_pop_id_353.pickle',\n 'spacydoc_pop_id_402.pickle',\n 'spacydoc_pop_id_36.pickle',\n 'spacydoc_pop_id_230.pickle',\n 'spacydoc_pop_id_187.pickle']"
     },
     "execution_count": 47,
     "metadata": {},
     "output_type": "execute_result"
    }
   ],
   "source": [
    "filenames = [f for f in os.listdir(\"../data/large_data/articles_spacydocs\") if \".pickle\" in f]\n",
    "filenames[:10]"
   ]
  },
  {
   "cell_type": "code",
   "execution_count": 48,
   "metadata": {},
   "outputs": [],
   "source": [
    "sourcepath = \"../data/large_data/articles_spacydocs/\""
   ]
  },
  {
   "cell_type": "code",
   "execution_count": 49,
   "metadata": {},
   "outputs": [],
   "source": [
    "filepath = sourcepath + \"spacydoc_pop_id_17.pickle\""
   ]
  },
  {
   "cell_type": "code",
   "execution_count": 50,
   "metadata": {},
   "outputs": [],
   "source": [
    "with open(filepath, \"rb\") as f:\n",
    "    doc = pickle.load(f)"
   ]
  },
  {
   "cell_type": "code",
   "execution_count": 51,
   "metadata": {},
   "outputs": [
    {
     "data": {
      "text/plain": "2"
     },
     "execution_count": 51,
     "metadata": {},
     "output_type": "execute_result"
    }
   ],
   "source": [
    "str(doc).count(\"right-wing\")"
   ]
  },
  {
   "cell_type": "code",
   "execution_count": 52,
   "outputs": [
    {
     "data": {
      "text/plain": "[(78,\n  As a set of ideas, populism can be attached to different ideologies, ranging from left-wing to right-wing and from progressive to conservative.),\n (123,\n  Various studies have indeed found that populist parties positioned at the fringes of the political spectrum tend to express Eurosceptic attitudes (Hooghe et al., 2002; De Vries and Edwards, 2009; Halikiopoulou et al., 2012), and that supporters of such parties (both left- and right-wing) tend to be rather Eurosceptic as well (Lubbers and Scheepers, 2007; Werts et al., 2013; Visser et al., 2014; Ramiro, 2016).)]"
     },
     "execution_count": 52,
     "metadata": {},
     "output_type": "execute_result"
    }
   ],
   "source": [
    "[(i, sent) for i, sent in enumerate(doc.sents) if re.search(\"right-wing\", str(sent))]"
   ],
   "metadata": {
    "collapsed": false
   }
  },
  {
   "cell_type": "code",
   "execution_count": 55,
   "outputs": [
    {
     "data": {
      "text/plain": "'As a set of ideas, populism can be attached to different ideologies, ranging from left-wing to right-wing and from progressive to conservative.'"
     },
     "execution_count": 55,
     "metadata": {},
     "output_type": "execute_result"
    }
   ],
   "source": [
    "raw_sent = str(list(doc.sents)[78])\n",
    "raw_sent"
   ],
   "metadata": {
    "collapsed": false
   }
  },
  {
   "cell_type": "code",
   "execution_count": 61,
   "outputs": [
    {
     "name": "stdout",
     "output_type": "stream",
     "text": [
      "['as', 'a', 'set', 'of', 'idea', ',', 'populism', 'can', 'be', 'attach', 'to', 'different', 'ideology', ',', 'range', 'from', 'left', '-', 'wing', 'to', 'right', '-', 'wing', 'and', 'from', 'progressive', 'to', 'conservative', '.']\n"
     ]
    }
   ],
   "source": [
    "print([t.lemma_ for t in nlp_md(raw_sent)])"
   ],
   "metadata": {
    "collapsed": false
   }
  },
  {
   "cell_type": "code",
   "execution_count": 69,
   "outputs": [
    {
     "data": {
      "text/plain": "['he', 'be', 'a', 'left', '-', 'wing', 'populist']"
     },
     "execution_count": 69,
     "metadata": {},
     "output_type": "execute_result"
    }
   ],
   "source": [
    "[t.lemma_ for t in nlp_md(\"He is a left-wing populist\")]"
   ],
   "metadata": {
    "collapsed": false
   }
  },
  {
   "cell_type": "code",
   "execution_count": 53,
   "outputs": [
    {
     "data": {
      "text/plain": "[('as', 'ADP'),\n ('a', 'DET'),\n ('set', 'NOUN'),\n ('of', 'ADP'),\n ('idea', 'NOUN'),\n (',', 'PUNCT'),\n ('populism', 'NOUN'),\n ('can', 'AUX'),\n ('be', 'AUX'),\n ('attach', 'VERB'),\n ('to', 'ADP'),\n ('different', 'ADJ'),\n ('ideology', 'NOUN'),\n (',', 'PUNCT'),\n ('range', 'VERB'),\n ('from', 'ADP'),\n ('left-we', 'VERB'),\n ('to', 'ADP'),\n ('right-we', 'VERB'),\n ('and', 'CCONJ'),\n ('from', 'ADP'),\n ('progressive', 'ADJ'),\n ('to', 'ADP'),\n ('conservative', 'ADJ'),\n ('.', 'PUNCT')]"
     },
     "execution_count": 53,
     "metadata": {},
     "output_type": "execute_result"
    }
   ],
   "source": [
    "[(t.lemma_, t.pos_,) for t in nlp_md(str(list(doc.sents)[78]))]"
   ],
   "metadata": {
    "collapsed": false
   }
  },
  {
   "cell_type": "code",
   "execution_count": 7,
   "metadata": {},
   "outputs": [
    {
     "data": {
      "text/plain": "Various scholars have argued and demonstrated that Western European populist parties have something in common."
     },
     "execution_count": 7,
     "metadata": {},
     "output_type": "execute_result"
    }
   ],
   "source": [
    "sent = [sent for sent in doc.sents][0]\n",
    "sent"
   ]
  },
  {
   "cell_type": "code",
   "execution_count": 8,
   "metadata": {},
   "outputs": [
    {
     "data": {
      "text/plain": "[Western European]"
     },
     "execution_count": 8,
     "metadata": {},
     "output_type": "execute_result"
    }
   ],
   "source": [
    "sent.ents"
   ]
  },
  {
   "cell_type": "code",
   "execution_count": 9,
   "outputs": [],
   "source": [
    "for ent in sent.ents:\n",
    "    if ent.label_ == \"PERSON\":\n",
    "        print(ent[-1].lemma_)"
   ],
   "metadata": {
    "collapsed": false
   }
  },
  {
   "cell_type": "code",
   "execution_count": 10,
   "metadata": {},
   "outputs": [],
   "source": [
    "#ent = [ent for ent in sent.ents][0]"
   ]
  },
  {
   "cell_type": "code",
   "execution_count": 11,
   "metadata": {},
   "outputs": [],
   "source": [
    "# postags = [\"PROPN\", \"NOUN\", \"VERB\", ]\n",
    "def lemmata(spacyobject, filtered=True):\n",
    "    if filtered==True:\n",
    "        return  [t.lemma_ for t in spacyobject if (t.is_stop==False) & (t.is_alpha==True)]\n",
    "    else:\n",
    "        return  [t.lemma_ for t in spacyobject]\n",
    "    # return [t.lemma_.lower() if t.pos==\"PROPN\" else t.lemma_ for t in spacyobject if (t.is_stop==False) & (t.is_alpha==True)]"
   ]
  },
  {
   "cell_type": "code",
   "execution_count": 12,
   "metadata": {},
   "outputs": [
    {
     "data": {
      "text/plain": "['scholar',\n 'argue',\n 'demonstrate',\n 'western',\n 'european',\n 'populist',\n 'party',\n 'common']"
     },
     "execution_count": 12,
     "metadata": {},
     "output_type": "execute_result"
    }
   ],
   "source": [
    "lemmata(sent)"
   ]
  },
  {
   "cell_type": "code",
   "execution_count": 66,
   "metadata": {},
   "outputs": [
    {
     "data": {
      "text/plain": "[Western European]"
     },
     "execution_count": 66,
     "metadata": {},
     "output_type": "execute_result"
    }
   ],
   "source": [
    "[ent for ent in sent.ents]"
   ]
  },
  {
   "cell_type": "code",
   "execution_count": 67,
   "metadata": {},
   "outputs": [],
   "source": [
    "ents_inds = []\n",
    "entstart_dict = {}\n",
    "for ent in sent.ents:\n",
    "    ents_inds.extend(range(ent.start + 1, ent.end))\n",
    "    entstart_dict[ent.start] = \"_\".join(lemmata(ent, filtered=False))"
   ]
  },
  {
   "cell_type": "code",
   "execution_count": 68,
   "outputs": [
    {
     "data": {
      "text/plain": "{7: 'western_european'}"
     },
     "execution_count": 68,
     "metadata": {},
     "output_type": "execute_result"
    }
   ],
   "source": [
    "entstart_dict"
   ],
   "metadata": {
    "collapsed": false
   }
  },
  {
   "cell_type": "code",
   "execution_count": 69,
   "outputs": [
    {
     "data": {
      "text/plain": "[8]"
     },
     "execution_count": 69,
     "metadata": {},
     "output_type": "execute_result"
    }
   ],
   "source": [
    "ents_inds"
   ],
   "metadata": {
    "collapsed": false
   }
  },
  {
   "cell_type": "code",
   "execution_count": 70,
   "outputs": [
    {
     "data": {
      "text/plain": "Various scholars have argued and demonstrated that Western European populist parties have something in common."
     },
     "execution_count": 70,
     "metadata": {},
     "output_type": "execute_result"
    }
   ],
   "source": [
    "sent"
   ],
   "metadata": {
    "collapsed": false
   }
  },
  {
   "cell_type": "code",
   "execution_count": 71,
   "outputs": [],
   "source": [
    "def get_sentence_lemmata(sent):\n",
    "    ents_inds = []\n",
    "    entstart_dict = {}\n",
    "    for ent in sent.ents:\n",
    "        ents_inds.extend(range(ent.start + 1, ent.end))\n",
    "        if ent.label_ == \"PERSON\":\n",
    "            entstart_dict[ent.start] = ent[-1].lemma_\n",
    "        else:\n",
    "            entstart_dict[ent.start] = \"_\".join(lemmata(ent, filtered=False))\n",
    "    sentence_lemmata = []\n",
    "    for i in range(sent.start, sent.end):\n",
    "        if i in entstart_dict.keys():\n",
    "            sentence_lemmata.append(entstart_dict[i])\n",
    "        else:\n",
    "            if i not in ents_inds:\n",
    "                t = sent[i - sent.start]\n",
    "                if (t.is_stop==False) & (t.is_alpha==True):\n",
    "                    sentence_lemmata.append(t.lemma_)\n",
    "    return sentence_lemmata"
   ],
   "metadata": {
    "collapsed": false
   }
  },
  {
   "cell_type": "code",
   "execution_count": 72,
   "outputs": [
    {
     "data": {
      "text/plain": "Various scholars have argued and demonstrated that Western European populist parties have something in common."
     },
     "execution_count": 72,
     "metadata": {},
     "output_type": "execute_result"
    }
   ],
   "source": [
    "sent"
   ],
   "metadata": {
    "collapsed": false
   }
  },
  {
   "cell_type": "code",
   "execution_count": 73,
   "outputs": [
    {
     "data": {
      "text/plain": "['scholar',\n 'argue',\n 'demonstrate',\n 'western_european',\n 'populist',\n 'party',\n 'common']"
     },
     "execution_count": 73,
     "metadata": {},
     "output_type": "execute_result"
    }
   ],
   "source": [
    "get_sentence_lemmata(sent)"
   ],
   "metadata": {
    "collapsed": false
   }
  },
  {
   "cell_type": "code",
   "execution_count": 74,
   "outputs": [
    {
     "data": {
      "text/plain": "['scholar argue demonstrate western_european populist party common',\n 'party adhere ideology employ different organizational form political style endorse similar set idea concern relationship people elite',\n 'despite increase knowledge party far know little populist voter',\n 'voter basis populist party common',\n 'answer question focus electorate 15 prototypical populist party 11 western_european country']"
     },
     "execution_count": 74,
     "metadata": {},
     "output_type": "execute_result"
    }
   ],
   "source": [
    "lemmatized_sents = [\" \".join(get_sentence_lemmata(sent)) for sent in doc.sents]\n",
    "lemmatized_sents[:5]"
   ],
   "metadata": {
    "collapsed": false
   }
  },
  {
   "cell_type": "code",
   "execution_count": 75,
   "outputs": [],
   "source": [
    "with open(\"testfile.txt\", \"w\") as f:\n",
    "    f.writelines(\"\\n\".join(lemmatized_sents))"
   ],
   "metadata": {
    "collapsed": false
   }
  },
  {
   "cell_type": "code",
   "execution_count": 76,
   "outputs": [
    {
     "name": "stdout",
     "output_type": "stream",
     "text": [
      "mkdir: ../data/large_data/articles_lemmata: File exists\r\n"
     ]
    }
   ],
   "source": [
    "!mkdir ../data/large_data/articles_lemmata"
   ],
   "metadata": {
    "collapsed": false
   }
  },
  {
   "cell_type": "code",
   "execution_count": 77,
   "outputs": [
    {
     "data": {
      "text/plain": "'spacydoc_pop_id_28.pickle'"
     },
     "execution_count": 77,
     "metadata": {},
     "output_type": "execute_result"
    }
   ],
   "source": [
    "filenames[0]"
   ],
   "metadata": {
    "collapsed": false
   }
  },
  {
   "cell_type": "code",
   "execution_count": 78,
   "metadata": {},
   "outputs": [],
   "source": [
    "sourcepath = \"../data/large_data/articles_spacydocs/\"\n",
    "destpath = \"../data/large_data/articles_lemmata/\"\n",
    "for filename in filenames:\n",
    "    filepath = sourcepath + filename\n",
    "    with open(filepath, \"rb\") as f:\n",
    "        doc = pickle.load(f)\n",
    "    lemmatized_sents = [\" \".join(get_sentence_lemmata(sent)) for sent in doc.sents]\n",
    "    with open(destpath + filename.replace(\"spacydoc\", \"lemmata\").replace(\".pickle\", \".txt\"), \"w\") as f:\n",
    "        f.writelines(\"\\n\".join(lemmatized_sents))"
   ]
  },
  {
   "cell_type": "code",
   "execution_count": null,
   "outputs": [],
   "source": [],
   "metadata": {
    "collapsed": false
   }
  }
 ],
 "metadata": {
  "kernelspec": {
   "display_name": "conda_base",
   "language": "python",
   "name": "conda_base"
  },
  "language_info": {
   "codemirror_mode": {
    "name": "ipython",
    "version": 3
   },
   "file_extension": ".py",
   "mimetype": "text/x-python",
   "name": "python",
   "nbconvert_exporter": "python",
   "pygments_lexer": "ipython3",
   "version": "3.9.12"
  }
 },
 "nbformat": 4,
 "nbformat_minor": 1
}
