{
 "cells": [
  {
   "cell_type": "code",
   "execution_count": 50,
   "metadata": {
    "collapsed": true
   },
   "outputs": [],
   "source": [
    "import os\n",
    "import spacy\n",
    "import pickle"
   ]
  },
  {
   "cell_type": "code",
   "execution_count": 51,
   "metadata": {},
   "outputs": [
    {
     "data": {
      "text/plain": "['spacydoc_pop_id_28.pickle',\n 'spacydoc_pop_id_199.pickle',\n 'spacydoc_pop_id_253.pickle',\n 'spacydoc_pop_id_502.pickle',\n 'spacydoc_pop_id_55.pickle',\n 'spacydoc_pop_id_353.pickle',\n 'spacydoc_pop_id_402.pickle',\n 'spacydoc_pop_id_36.pickle',\n 'spacydoc_pop_id_230.pickle',\n 'spacydoc_pop_id_187.pickle']"
     },
     "execution_count": 51,
     "metadata": {},
     "output_type": "execute_result"
    }
   ],
   "source": [
    "filenames = [f for f in os.listdir(\"../data/large_data/articles_spacydocs\") if \".pickle\" in f]\n",
    "filenames[:10]"
   ]
  },
  {
   "cell_type": "code",
   "execution_count": 55,
   "metadata": {},
   "outputs": [],
   "source": [
    "sourcepath = \"../data/large_data/articles_spacydocs/\""
   ]
  },
  {
   "cell_type": "code",
   "execution_count": 56,
   "metadata": {},
   "outputs": [],
   "source": [
    "filepath = sourcepath + \"spacydoc_pop_id_17.pickle\""
   ]
  },
  {
   "cell_type": "code",
   "execution_count": 57,
   "metadata": {},
   "outputs": [],
   "source": [
    "with open(filepath, \"rb\") as f:\n",
    "    doc = pickle.load(f)"
   ]
  },
  {
   "cell_type": "code",
   "execution_count": 58,
   "metadata": {},
   "outputs": [
    {
     "data": {
      "text/plain": "Various scholars have argued and demonstrated that Western European populist parties have something in common. Although these parties adhere to various ideologies and employ different organizational forms and political styles, they all endorse a similar set of ideas concerning the relationship between the people and the elite. Yet despite our increasing knowledge about these parties, so far we know only very little about populist voters. Do the voter bases of populist parties also have something in common? To answer that question, I focus on the electorates of 15 prototypical populist parties from 11 Western European countries. I show that, in contrast with widely held beliefs, the electorates of populist parties do not always consist of individuals who are more likely to be ‘losers of globalization’ with Eurosceptic attitudes, low levels of political trust, and preferences for (more) direct democracy. This suggests that ‘the’ populist voter does not exist.  Keywords: populism; voting behavior; comparative politics  Introduction  There has been an explosion of studies on Western European populism. This is hardly remarkable considering the fact that many countries in this part of the world have recently witnessed the upsurge of one or more allegedly populist parties. Think of the United Kingdom Independence Party (UKIP) in Britain, the Front National (National Front, FN) in France, and the Partij voor de Vrijheid (Party for Freedom, PVV) in the Netherlands. Or of Podemos (We Can) in Spain, Die Linke (The Left) in Germany, and the Movimento Cinque Stelle (Five Star Movement, M5S) in Italy. The electoral successes of these parties have inspired studies on how populism can best be deﬁned (Weyland, 2001; Mudde, 2004), how the populist upsurge can be explained (Mény and Surel, 2002a; Albertazzi and McDonnell, 2008), and on how it affects public opinion (Akkerman et al., 2014), parties (Pauwels, 2011b), policy making (Albertazzi and Mueller, 2013), and liberal democracy (Mudde and Rovira Kaltwasser, 2012). Almost all of these studies depart from the assumption that although populist parties strongly differ from each other in terms of their main ideologies, their leadership strategies, and the political styles they employ, they also have some core  * E-mail: M.Rooduijn@uva.nl  European Political Science Review (2018), 10:, 351–368 © European Consortium for Political Research doi:./S1755773917000145 First published online 20 June 2017  351  https://www.cambridge.org/core/terms. https://doi.org/10./S1755773917000145 Downloaded from https://www.cambridge.org/core. University of West Bohemia, on 08 Feb 2022 at 11::, subject to the Cambridge Core terms of use, available at characteristics in common (see Stanley, 2008). Interestingly, however, as of yet only very little attention has been paid to those who vote for these parties. Do the voter bases of populist parties also have something in common across cases? The lack of scholarly attention for this question is remarkable. After all, in order to understand the recent successes of populist parties coming from diverging ideological backgrounds, it is of essential importance to know what their support bases look like. We know a great deal already about those who vote for radical right parties (see Van der Brug et al., 2000, 2005; Lubbers et al., 2002; Ivarsﬂaten, 2008; Zhirkov, 2014), and increasingly also about supporters of radical left parties (Lubbers and Scheepers, 2007; Visser et al., 2014; Ramiro, 2016). We know only very little, however, about what the voter bases of the more general category of populist parties have in common. The populist message – which basically argues that the good people is betrayed by an evil elite (Mudde, 2004; Stanley, 2008; Hawkins, 2010; Rovira Kaltwasser, 2012) – can be combined with different ideologies (Taggart, 2000), and can therefore be employed by parties on both the radical right and the radical left. Moreover, also other parties, including mainstream parties, can endorse the populist message (Rooduijn et al., 2014). An analysis of the voter bases of populist parties should therefore focus on all parties that express a populist message – and not only on the radical left and/or radical right. To the best of my knowledge up till now only one study (Pauwels, 2014) has focused on the question what those who vote for Western European populist parties have in common across cases. However, this seminal study focuses on the speciﬁc electoral bases of populist parties in only three countries. In order to answer the more general question what the electorates of populist parties have in common across cases, it is of essential importance to include more parties and countries.  There exists a widely held belief that those who vote for populists are those with a lower socioeconomic position – the so-called ‘losers of globalization’ – who are radical and dissatisﬁed with politics at the national and EU level (Kriesi et al., 2006; Kriesi et al., 2008). Studies have shown that voters for the populist radical right indeed have low socioeconomic positions (Lubbers et al., 2002) and are Eurosceptic (Werts et al., 2013). Recent studies of supporters of the radical left have come to highly similar conclusions (Visser et al., 2014; Ramiro, 2016). This raises the question if the voter bases of different kinds of populist parties have in common that they consist of individuals who are more likely to be ‘losers of globalization’ with Eurosceptic attitudes, low levels of political trust, and preferences for (more) direct democracy than those who vote for mainstream parties. Based on an analysis of individual-level data on socio-demographics, attitudes and voting behavior [coming from the European Social Survey (ESS), 2002–12] in 11 political systems in Western Europe, and concerning the voter bases of 15 prototypical populist parties, I show that this is not the case.  1 In a recent study, Elchardus and Spruyt (2016) look at support for populism as well. However, they do not assess actual voting behavior and focus on the case of Flanders only.  352 M A T T H I J S R O O D U I J N  https://www.cambridge.org/core/terms. https://doi.org/10./S1755773917000145 Downloaded from https://www.cambridge.org/core. University of West Bohemia, on 08 Feb 2022 at 11::, subject to the Cambridge Core terms of use, available at This ﬁnding has two important implications. First, it shows that the electorates of different kinds of populist parties have only very little in common. ‘The’ populist voter does not seem to exist. Second, it implies that we should be very careful when we generalize ﬁndings about voters for either radical left or radical right parties to the voter base of populist parties in general. If the aim is to draw inferences about what the electorates of populist parties in general have in common, it is important to make sure that the analysis is not ‘contaminated’ by speciﬁcities which are unique to only the radical left or the radical right. My conclusions are relevant beyond the scholarly literature. The Western European public debate is replete with analyses of the increasing successes of populist parties. In order to fully understand the rise of these parties and the political changes they have brought about, we should not only focus on the electoral supply side. The success of populists is just as much shaped by the demand side of the electoral market. To fully understand the success of, for instance, Marine Le Pen and her FN in France, we should not only focus on her leadership style and her party’s ideology; we should also look at those who vote for this party, and assess their motivations to do so. Moreover, to better understand the wider phenomenon of Western European populism, we should compare these voters with those who vote for parties like the Lega Nord (Northern League, LN) in Italy and Die Linke in Germany. The paper proceeds as follows. In the following sections I discuss the concepts of populism and the reasons why someone would vote for a populist party. The third part of the paper concerns the case selection and a discussion of the main measurements and method. I present the main ﬁndings in the subsequent section. In the concluding part of the paper I connect my ﬁndings to the existing literature, I pay attention to some shortcomings of this study, and I discuss some possible strategies for future research.  Populism  Although the concept of populism is a highly contested concept, scholars increasingly agree about an appropriate deﬁnition of the term. Mudde deﬁnes populism as ‘an ideology that considers society to be ultimately separated into two homogeneous and antagonistic groups, “the pure people” versus “the corrupt elite”, and which argues that politics should be an expression of the volonté générale (general will) of the people’ (2004: 543). Hawkins proposes a highly similar deﬁnition: populism is, according to him, ‘a Manichean discourse that identiﬁes Good with a uniﬁed will of the people and Evil with a conspiring elite’ (2009: 1042). These deﬁnitions have in common that: (1) they focus on the antagonistic relationship  2 Populism is, according to him, a ‘thin ideology’, and differs from full ideologies such as liberalism, socialism, and conservatism. Full ideologies offer all-inclusive views of the world. Thin ideologies focus on a conﬁned range of concepts. Populism focuses on the relationship between the elite and the people.  What unites the voter bases of populist parties? 353  https://www.cambridge.org/core/terms. https://doi.org/10./S1755773917000145 Downloaded from https://www.cambridge.org/core. University of West Bohemia, on 08 Feb 2022 at 11::, subject to the Cambridge Core terms of use, available at between the good people and the evil elite; and (2) they conceive of populism as a set of ideas (Hawkins et al., 2012). Populists conceive of the people as a homogeneous entity, devoid of divisions. They are ‘people-centrist’ because they argue that the will of the people should be the point of departure of all political decision-making (Taggart, 2000). The term ‘the people’ could refer to the nation, the electorate, peasants, or to the proletariat (Canovan, 1981). Populists are anti-elitist because they accuse the elite of being incompetent, arrogant, and/or selﬁsh (Canovan, 2002; Laclau, 2005; Barr, 2009). The critique could be directed toward political elites, economic elites, media elites, and/or cultural elites (Jagers and Walgrave, 2007). The mentioned deﬁnitions do not only have in common that they emphasize people-centrism and anti-elitism. They also share with each other that they perceive populism as more than merely a particular rhetoric, style, or strategy. Populism is conceived of as being a substantive message – or a set of ideas (Hawkins et al., 2012). As a set of ideas, populism can be attached to different ideologies, ranging from left-wing to right-wing and from progressive to conservative. Populism has therefore been compared to a chameleon: it takes on the color of the environment in which it occurs (Taggart, 2000). Most previous studies on populist voter bases focused on either the radical right or the radical left. If we aim at making inferences about what the electorates of populist parties in general have in common, however, relying on these studies will lead to ﬂawed conclusions for two main reasons: (1) these analyses are not inclusive enough because many other (non-radical) parties that might also express a populist message are excluded from the analysis; and (2) these analyses are contaminated by the speciﬁc ideological positions of the voters for these particular party families (e.g. anti-immigrant attitudes when it comes to radical right parties and attitudes toward welfare redistribution when it comes to radical left parties).  Who votes for a populist?  Kriesi et al. (2006; 2008) claim that the Western European societal landscape has changed profoundly. A new political cleavage is said to have developed, which distinguishes the winners from the losers of globalization. The winners are those who proﬁt from international competition (e.g. highly educated entrepreneurs) and the losers are those who feel threatened by the opening of borders (e.g. lower educated employees in traditionally protected sectors). Kriesi et al. argue that the transformation of the Western European societal landscape is also represented in terms of political supply and electoral behavior: ‘In most countries, it is [the] parties of the populist right who have been able to formulate a highly attractive ideological package for the “losers” of economic transformations and cultural diversity’ (2008: 19). As a result, it might be expected that those with lower socioeconomic positions are likely to vote for populist radical right parties. Various studies have suggested that this is indeed the  354 M A T T H I J S R O O D U I J N  https://www.cambridge.org/core/terms. https://doi.org/10./S1755773917000145 Downloaded from https://www.cambridge.org/core. University of West Bohemia, on 08 Feb 2022 at 11::, subject to the Cambridge Core terms of use, available at case. To start with, it has been shown that those who vote for populist radical right parties tend to be lower educated (Lubbers et al., 2002; Arzheimer, 2009; Bovens and Wille, 2010). It has also been shown that radical right voters tend to come from lower social classes (Van der Brug et al., 2000; Arzheimer and Carter, 2006), and are more often unemployed (Van der Brug et al., 2000; Lubbers et al., 2002). However, Kriesi et al. (2006, 2008) pay almost no attention to populist parties that are not radical right. This is remarkable because it might be expected that the losers of globalization are not only inclined to vote for populist radical right parties, but also for populist parties with other ideologies. After all, populists from left, right, and center all claim that they stand up for ‘ordinary citizens’ who, according to them, are neglected and betrayed by a condescending political and/or economic elite. Those with lower socioeconomic positions will most likely identify with this category of ‘ordinary citizens’ or ‘the common man’, and therefore feel attracted to the message that they are victims of the behavior of the evil elite. It has indeed been found that the unemployed and those with lower incomes are also likely to support radical left ideologies (Visser et al., 2014). Moreover, Lubbers and Scheepers (2007) have shown that those with lower class positions are more likely to vote for populist radical left parties than for other parties, and Ramiro (2016) has demonstrated that those who identify with the working class are likely to vote for the radical left. Interestingly, however, all of these studies show that the relationship between education and radical left support is more complicated. Often, education exerts a positive effect on radical left voting. Most likely because those with a higher education often subscribe to values emphasized by radical left parties (e.g. solidarity, equality). In line with this ﬁnding, Pauwels (2014) has shown that when it comes to voting for populist parties in Belgium, Germany, and the Netherlands, education does not exert an overall negative effect. I therefore expect that someone’s socioeconomic position – but not education – has a negative effect on populist voting. This leads to the following hypothesis:  HYPOTHESIS 1: The voter bases of populist parties have in common that they consist of individuals who are more likely than those who vote for mainstream parties to hold lower socioeconomic positions (i.e. to come from lower classes, to be unemployed, and to have lower incomes).  But why exactly would a low socioeconomic position lead to voting for a populist party? In general, I expect that individuals with lower socioeconomic positions will be more likely to hold certain attitudes, and will, for that reason, be inclined to vote populist. In other words, I expect the relationship between someone’s socioeconomic position and his or her inclination to vote populist to be mediated by various political attitudes. First, the relationship between someone’s socioeconomic position and populist voting might be mediated by Euroscepticism. Kriesi et al. (2006, 2008) argue that the losers of globalization tend to be more Eurosceptic than the winners, because  What unites the voter bases of populist parties? 355  https://www.cambridge.org/core/terms. https://doi.org/10./S1755773917000145 Downloaded from https://www.cambridge.org/core. University of West Bohemia, on 08 Feb 2022 at 11::, subject to the Cambridge Core terms of use, available at they feel threatened by the opening of borders and the process of further European uniﬁcation. They might, for instance, fear that immigrants from Eastern European countries ‘steal’ their jobs. Those who are Eurosceptic might in turn feel attracted to the populist message because populism and Euroscepticism are often closely related (Harmsen, 2010). This might be the case for two reasons: (1) those who despise the political elite in Brussels will tend to agree with the populist message that ‘Brussels’ does not listen to ordinary people in the member states anymore; and (2) Eurosceptics might also vote for populists not because they criticize the European elite, but because they accuse the national political elite of transferring too much power to the EU. Various studies have indeed found that populist parties positioned at the fringes of the political spectrum tend to express Eurosceptic attitudes (Hooghe et al., 2002; De Vries and Edwards, 2009; Halikiopoulou et al., 2012), and that supporters of such parties (both left- and right-wing) tend to be rather Eurosceptic as well (Lubbers and Scheepers, 2007; Werts et al., 2013; Visser et al., 2014; Ramiro, 2016). I therefore expect that:  HYPOTHESIS 2: The voter bases of populist parties have in common that they consist of individuals who are more likely than those who vote for mainstream parties to be Eurosceptic.  Second, it might be expected that the relationship between someone’s socioeconomic position and populist voting is not only mediated by negative attitudes toward the EU, but also by distrust toward politics in general. Various studies have shown that those who are unemployed and those with lower incomes are more likely to be politically dissatisﬁed (e.g. Bernauer and Vatter, 2012), most probably because they tend to blame the political establishment for their economic position. Research has also shown that those voting for populist radical right parties tend to be distrustful toward politics (Betz, 1994; Swyngedouw, 2001; Bélanger and Aarts, 2006). It is likely that the politically discontented vote for populist radical right parties because the negative attitude toward politics of these parties is congruent with their own ideas. Bergh (2004) has shown that it is not so much distrust toward the entire political system that predicts voting for the populist radical right, but distrust toward the political elites within that system. This makes sense as the populist message is not directed against the system, but against the corrupted elites. I label those who vote populist out of political distrust ‘protest voters’. According to Bergh, ‘protest voting is the act of voting for a political party as a means of expressing political distrust. The extent to which supporters of a particular party are protest voters is measured by the effect of political distrust on support for that party’ (2004: 385). Although the literature focuses on voting for the radical right, it could be expected that protest voting also holds for other parties that express a populist message (see Schumacher and Rooduijn, 2013). After all, that support for the radical right can be explained by protest voting is not due to the radical right ideology of the party, but to the anti-elitist message in which the party attacks the  356 M A T T H I J S R O O D U I J N  https://www.cambridge.org/core/terms. https://doi.org/10./S1755773917000145 Downloaded from https://www.cambridge.org/core. University of West Bohemia, on 08 Feb 2022 at 11::, subject to the Cambridge Core terms of use, available at ‘established political order’. Support for a left-wing populist party or any other party that expresses such a message might just as well be explained by protest voting (Ramiro, 2016). Some studies have indeed shown that political distrust exerts a positive effect on voting for populists (Doyle, 2011; Hooghe et al., 2013; Pauwels, 2014). This leads to the third hypothesis:  HYPOTHESIS 3: The voter bases of populist parties have in common that they consist of individuals who are more likely than those who vote for mainstream parties to hold low levels of political trust.  A third political attitude that might positively affect populist voting is someone’s ideas about direct democracy. Because populists regard politicians and representative institutions with suspicion, they often demand institutional innovations (Webb, 2013). ‘They argue that there is a growing “silent majority” which pays taxes, produces welfare and obeys the law but is politically quiescent’ (Pauwels, 2014: 59). It has therefore been claimed that populists want to restore the primacy of the people and are often in favor of introducing more tools of direct democracy, such as popular initiatives and referendums. The underlying idea is that the political system should resemble as closely as possible ‘a pure democratic regime where the people are given the ﬁrst and ﬁnal word’ (Mény and Surel, 2002b: 13). Populism has been associated with direct democracy by various scholars (see Canovan, 1981; Taggart, 2000), and it might be expected that those who vote for a party that is in favor of more direct democracy, share this viewpoint. I therefore expect that:  HYPOTHESIS 4: The voter bases of populist parties have in common that they consist of individuals who are more likely than those who vote for mainstream parties to be in favor of (more) measures of direct democracy.  Case selection, measurements, and method  To assess what the electorates of populist parties have in common, I focus on the voter bases of 15 prototypical populist parties in 11 Western European countries.  I included the following parties: the Freiheitliche Partei Österreichs (Freedom Party of Austria) in Austria (see Heinisch, 2008); the Vlaams Blok/Vlaams Belang (Flemish Block/Flemish Interest) (see Pauwels, 2011a) and Lijst Dedecker/Libertair, Direct, Democratisch (List Dedecker/Libertarian, Direct, Democratic, LDD) (see Pauwels, 2010) in Belgium; the Schweizerische Volkspartei (Swiss People’s Party) in Switzerland (see Albertazzi, 2008); Die Linke in Germany (see March, 2007); the  3 Note that it is unlikely that this attitude mediates the relationship between someone’s socioeconomic position and populist voting as there is no reason to expect that those with either higher or lower socioeconomic positions will be more likely to be in favor of (more) direct democracy. 4 See for an overview of prototypical populist parties in Europe: Van Kessel (2015).  What unites the voter bases of populist parties? 357  https://www.cambridge.org/core/terms. https://doi.org/10./S1755773917000145 Downloaded from https://www.cambridge.org/core. University of West Bohemia, on 08 Feb 2022 at 11::, subject to the Cambridge Core terms of use, available at Dansk Folkeparti (Danish People’s Party) in Denmark (see Rydgren, 2004); Perussuomalaiset (the Finns Party) in Finland (see Arter, 2010); the FN in France (see Surel, 2002); Forza Italia (Go Italy, FI) (see Tarchi, 2008) and M5S (see Fella and Ruzza, 2013) in Italy; the Lijst Pim Fortuyn (List Pim Fortuyn) (see Van Kessel, 2011), the Socialistische Partij (Socialist Party, SP) (see March, 2011) and the PVV (Vossen, 2011) in the Netherlands; the Fremskrittspartiet (Progress Party) in Norway (see Jupskas, 2015); and Sverigedemokraterna (Sweden Democrats) in Sweden (see Jungar, 2015). A large majority of these parties can be categorized as populist radical right parties. Only Die Linke and the SP are populist radical left parties. LDD, FI, and M5S are neither radical right nor radical left.  Because I am interested in assessing what the voter bases of different kinds of populist parties have in common, the most essential criteria for my case selection are: (1) that the included parties are prototypically populist (meaning that most country experts agree that they can be categorized as populist); and (2) that there is sufﬁcient variation between the selected parties in terms of their ideologies. Both criteria are fulﬁlled. A shortcoming of this selection of cases is that a large majority of parties (12 out of 15) is not only populist but also radical. This makes it rather difﬁcult to disentangle populism and radicalism. The reason that so many of the selected parties are radical parties is that most populist parties in Western Europe are also radical parties (Rooduijn and Akkerman, 2017). However, that does not mean that all populist parties are radical. Some of the most successful ones are neither radical left nor radical right (e.g. FI and M5S in Italy). Excluding such non-radical populist parties from our case selection would be problematic. Not only because we would then miss out on some highly successful populist parties, but also – and this is probably even more important – because the results could then be driven by these parties’ radicalness instead of their populism. I have dealt with this large number of selected radical parties in two ways. First, I have assessed the electorates of all parties separately. In other words, I have not run a pooled analysis, but separate regressions for each selected party. The reason is that the found effects in a pooled analysis could be due to some speciﬁc features of certain types of populist parties and not to populism as such. For instance, a pooled analysis shows that those who hold radical attitudes are more likely to vote for  5 Various prototypical populists have not been included because the number of respondents voting for these parties was insufﬁcient. These parties are: UKIP in the United Kingdom; the Bündnis Zukunft Österreich in Austria; the FN in Belgium; the Republikaner in Germany; and the LN in Italy. Sinn Féin from Ireland, the Nationaldemokratische Partei Deutschlands (National Democratic Party of Germany) from Germany, and Alleanza Nazionale (National Alliance) from Italy have not been included because scholars do not agree whether or not these parties should be labeled populist. 6 Note that most European radical left parties are usually not labeled as populist. March (2011) categorizes only Die Linke (Germany), the Dutch SP, and the Scottish Socialist Party as such. 7 The list of included populist parties is not exhaustive. However, to the best of my knowledge, it is the most extensive selection of prototypical populist parties in a study of populist voting behavior.  358 M A T T H I J S R O O D U I J N  https://www.cambridge.org/core/terms. https://doi.org/10./S1755773917000145 Downloaded from https://www.cambridge.org/core. University of West Bohemia, on 08 Feb 2022 at 11::, subject to the Cambridge Core terms of use, available at populists. This effect is probably due to the radical nature of a majority of the parties under analysis. However, those who vote for other types of populists might not be radical at all. Hence, a pooled analysis does not provide us with an answer to the question what unites voter bases of populist parties across cases. Hence, in order to answer the question what unites the voter bases of populist parties in general, we should investigate the voter bases of all the populist parties separately. Second, in order to disentangle populism from radicalism, I have also focused more speciﬁcally on the three selected populist parties that are not radical. See the ‘Findings’ section. The individual-level data used in this study come from the ESS (2002–12). The dependent variable is based on which party a respondent voted for during the last national election. I recoded this variable so that a respondent scores a ‘1’ if he or she voted for a populist party and a ‘0’ if he or she voted for one of the mainstream parties. Parties have been categorized as mainstream when they are liberal, social democratic, Christian democratic, or conservative. If a respondent voted for another party, the variable has been set to missing.  The socioeconomic variables have been measured as follows: class is measured with the Erikson–Goldthorpe–Portocarero classiﬁcation scheme (Erikson et al., 1979), income is measured in deciles, and employment status is measured with a dummy variable in which 0 = employed and 1 = unemployed. Level of education is measured by means of ﬁve categories: (1) less than lower secondary education; (2) lower secondary education completed; (3) upper secondary education completed; (4) post-secondary non-tertiary education completed; (5) tertiary education completed. Euroscepticism is measured on an 11-points scale with the question whether European uniﬁcation should go further (0) or whether it has already gone too far (10). Political distrust11 is measured by means of a scale including two variables: trust in parliament and trust in politicians. The two items are summed up and  8 I decided to focus on the reference category of mainstream parties because populist parties typically attack the political mainstream. Nevertheless, I have also estimated regression models based on a slightly modiﬁed reference category. Instead of positioning those who vote for populist parties against those who vote for mainstream parties, I have positioned those who vote for populist parties (1) against those who vote for other parties (0). Here, the reference category thus consists of a larger subgroup of voters. Not only those who vote for liberal, social democratic, Christian democratic and conservative parties have been included, but also those who vote for other non-populist political parties. This alternative operationalization of the dependent variable does not lead to substantially different results. See Table 11 in the Online Appendix. 9 I recoded this class scheme into a variable with six categories: (1) semi- and unskilled manual workers and agricultural laborers; (2) manual supervisors and skilled manual workers; (3) small self-employed and farmers; (4) routine non-manual workers; (5) lower level professionals and managers; (6) higher level professionals, managers, and entrepreneurs. 10 Because this variable has not been asked in all waves of the ESS it will not be included in all regression models (see below). 11 In line with my predictions, I focus on political distrust regarding political elites, and not on distrust with the entire system (see Bergh, 2004). 12 Another variable, which measures trust in parties, has not been included in all waves of the ESS. I have therefore not included it in this scale. The ‘trust in parties’ variable is, however, strongly correlated  What unites the voter bases of populist parties? 359  https://www.cambridge.org/core/terms. https://doi.org/10./S1755773917000145 Downloaded from https://www.cambridge.org/core. University of West Bohemia, on 08 Feb 2022 at 11::, subject to the Cambridge Core terms of use, available at recoded so that they range from 0 (complete trust) to 10 (no trust at all). The reliability of this scale is satisfactory (Cronbach’s α = 0.). Someone’s attitude toward direct democracy is measured with a statement about the importance of referendums. On a scale from 0 (not at all important) to 10 (extremely important) respondents could indicate how important it is for a democracy that ‘citizens have the ﬁnal say on political issues by voting directly in a referendum’.  I control for several attitudinal variables, such as an individual’s general left-right radicalism (‘where would you place yourself on [a scale] where 0 means the left and 10 means the right?’; the variable was recoded so that −5 = ‘left’ and ‘5’ = ‘right’, and then squared); satisfaction with the economy (‘how satisﬁed are you with the present state of the economy?’; 0 = ‘extremely dissatisﬁed’ and 10 = ‘extremely satisﬁed’), satisfaction with the government (‘how satisﬁed are you with the way [the government] is doing its job?’; 0 = ‘extremely dissatisﬁed’ and 10 = ‘extremely satisﬁed’), someone’s attitude toward income redistribution (‘the government should take measures to reduce differences in income levels; 1 = ‘disagree strongly’ and 4 = ‘agree strongly’), someone’s attitude toward immigrants (1 = ‘many should be allowed to come and live here’ and 4 ‘none should be allowed to come and live here’) and someone’s political interest (1 = ‘not at all interested’ and 4 = ‘very interested’). I also control for age, gender (0 = male; 1 = female) and religiosity (ranging from ‘not at all religious’ [0] to ‘very religious’ [10]). I conducted separate logistic regression analyses per populist party (DV = voted for either a populist party [1] or a non-populist party [0]), and included year-ﬁxed effects to take into account that respondents are nested within years. The observations are weighted using the ESS design weights, which correct for the fact that due to the sampling design used, respondents in different countries have different probabilities of being sampled. Observations with missing values were deleted listwise. The independent variables class and education have been modeled as continuous variables to ease interpretation. Including them as dummy variables does not lead to substantially different results (these analyses are available upon request). I corrected for conducting a large number of multiple tests simultaneously by applying Bonferroni’s adjustments.  Findings  Table 1 gives an overview of the direction of the regression coefﬁcients. The table shows whether the effects are positive or negative. Statistically insigniﬁcant effects have not been displayed (see the Online Appendix Tables 1–4 for the full models). In a ﬁrst step, I have only included the sociodemographic variables in my models.  with both trust in parliament (r = 0.) and trust in politicians (r = 0.). Including it in the model strongly reduces the sample size, but does not lead to different substantive results. Results are available upon request. 13 Because this variable has not been asked in all waves of the ESS it is not included in all regression models (see below).  360 M A T T H I J S R O O D U I J N  https://www.cambridge.org/core/terms. https://doi.org/10./S1755773917000145 Downloaded from https://www.cambridge.org/core. University of West Bohemia, on 08 Feb 2022 at 11::, subject to the Cambridge Core terms of use, available at The displayed effects are the directions of the regression coefﬁcients in models in which the attitudinal variables have not been included yet. Social class exerts a negative effect in only 5 out of 15 cases. Income is negatively related to populist voting in 3 out of the 15 cases, and in none of the cases is employment status signiﬁcantly related to populist voting. This all indicates that Hypothesis 1 should be rejected: the voter bases of different kinds of populist parties have not in common that they consist of individuals who are more likely to hold lower socioeconomic positions. Education exerts a negative and statistically signiﬁcant effect in 6 out of the 10 radical right cases. When it comes to voting for other populist parties, however, education does not exert a statistically signiﬁcant effect. Age is negatively related to populist voting in 6 out of the 15 cases under analysis. In only three cases gender is negatively related to populist voting. In 5 out of the 15 cases under study religiosity exerts a negative effect on populist voting.  Table 1. Logistic regression analyses explaining voting for a populist party compared to voting for a mainstream party (with Bonferroni adjustments)  Radical right Radical left Other  FPÖ VB SVP DF PS FN LPF PVV FrP SD Linke SP LDD FI M5S  1 Class − − − − − Income − − − Employment status X Education − − − − − − Age − − − − − − Gender − − − Religiosity − − − − −  2 Political distrust + + + + + + + + General left−right radicalism + + + + Satisfaction with economy + − Satisfaction with government − − + − − + Income redistribution − + + + − Immigrants + + + + + + + + + + Political interest  3 Euroscepticism + +  4 Referendum X X + X  FPÖ = Freiheitliche Partei Österreichs (Freedom Party of Austria); VB = Vlaams Blok/Vlaams Belang (Flemish Block/  Flemish Interest); SVP = Schweizerische Volkspartei (Swiss People’s Party); DF = Dansk Folkeparti (Danish People’s  Party); PS = Perussuomalaiset (the Finns Party); FN = Front National (National Front); LPF = Lijst Pim Fortuyn (List Pim  Fortuyn); PVV = Partij voor de Vrijheid (Party for Freedom); FrP = Fremskrittspartiet (Progress Party); SD =  Sverigedemokraterna (Sweden Democrats); SP = Socialistische Partij (Socialist Party); LDD = Lijst Dedecker/Libertair,  Direct, Democratisch (List Dedecker/Libertarian, Direct, Democratic); FI = Forza Italia (Go Italy); M5S = Movimento  Cinque Stelle (Five Star Movement); X = no observations.  In a ﬁrst step I estimated the effects of the sociodemographic variables. In a second step I included the effects of the  attitudinal variables. The effects of the variables ‘Euroscepticism’ and ‘Referendum’ have been estimated separately  because of the large number of missing cases.  Gray shaded areas are signiﬁcant at P < 0. (the Bonferroni adjustment for multiple comparisons was utilized to most  conservatively estimate statistical signiﬁcance).  What unites the voter bases of populist parties? 361  https://www.cambridge.org/core/terms. https://doi.org/10./S1755773917000145 Downloaded from https://www.cambridge.org/core. University of West Bohemia, on 08 Feb 2022 at 11::, subject to the Cambridge Core terms of use, available at In a second step, I have added the attitudinal variables. Political distrust turns out to exert a positive and statistically signiﬁcant effect on populist voting in 8 out of the 15 cases under analysis. This suggests that we should reject Hypothesis 3. The ﬁndings regarding radicalism, satisfaction with the economy, satisfaction with the government and income distribution are mixed. Those who hold negative attitudes toward immigrants are more likely to vote populist only when it comes to populist radical right parties. Political interest is negatively related to populist voting in none out of the 15 cases under analysis. In a third and fourth step, I have also added the variables ‘Euroscepticism’ and ‘Referendum’ separately. I included these variables separately because of the large number of missing cases regarding these variables (see above). ‘Euroscepticism’ exerts a positive and signiﬁcant effect in 2 out of the 15 cases. We therefore have to reject Hypothesis 2. ‘Referendum’ exerts a signiﬁcant positive effect in only 1 out of the 12 cases under study. In all other cases the effects are not statistically signiﬁcant. This means that we also have to reject Hypothesis 4. An important drawback of this analysis is that the applied Bonferroni adjustment for multiple testing is highly conservative, and might therefore lead to an underestimation of the number of statistically signiﬁcant effects. However, subsequent analyses indicate that even if we neglect the correction for multiple testing, we reach the same substantive conclusion that the voter bases of populist parties do not have much in common. Table 2 shows the results of regression analyses without Bonferroni corrections. Not surprisingly, many more effects turn out to be statistically signiﬁcant. However, even without corrections for multiple testing, none of the variables exerts a statistically signiﬁcant effect in all cases under analysis. There is only one variable that comes close: political distrust. This variable has a signiﬁcant effect in 14 out of the 15 cases. However, this pattern is much less clear-cut if we look at the effects in greater detail. Table 3 shows that the effects of political distrust strongly differ across ESS waves. Although the regression coefﬁcients of political distrust always have a positive sign, they fail to reach statistical signiﬁcance in 28 out of the 61 separate regression analyses (the full analyses can be found in the Online Appendix Tables 5–10). Let us now focus on the three non-radical populist parties only. Is there something that unites the voter bases of these particular parties? Table 1 shows that none of the included variables exerts a statistically signiﬁcant effect in all three cases. And although Table 2 shows that if we neglect the Bonferroni adjustments, political distrust becomes statistically signiﬁcant in all three of them, Table 3 demonstrates that if we look at the different ESS waves, not even the effect of this variable is statistically signiﬁcant in all ﬁve cases under analysis.  14 In many of the regression analyses, adding these variables reduces the magnitude of the regression coefﬁcients of the sociodemographic variables – especially vis-à-vis class and education (see Online Appendix Tables 1 and 2). Yet although in some particular cases the regression coefﬁcients have even become insigniﬁcant, in most analyses the effects have not disappeared completely. This suggests that although the effects of sociodemographic variables on populist voting are mediated by political attitudes, these political attitudes cannot fully account for the sociodemographic differences.  362 M A T T H I J S R O O D U I J N  https://www.cambridge.org/core/terms. https://doi.org/10./S1755773917000145 Downloaded from https://www.cambridge.org/core. University of West Bohemia, on 08 Feb 2022 at 11::, subject to the Cambridge Core terms of use, available at In the main analyses those who vote for a populist party are compared to mainstream parties. As a robustness check I have assessed to what extent a comparison with a different reference category leads to different results. Table 11 in the Online Appendix displays the results of an analysis based on a comparison of those who vote for populist parties with those who vote for non-populist parties – that is, not only mainstream parties, but also other non-populist parties (like, for instance, some single issue, green, or regional parties). This does not lead to substantively different results.  Conclusion  Various scholars have investigated the support bases of radical right parties (Van der Brug et al., 2000; Lubbers et al., 2002; Ivarsﬂaten, 2008; Zhirkov, 2014) and radical left parties (Lubbers and Scheepers, 2007; Visser et al., 2014; Ramiro, 2016). We know only very little, however, about the voter bases of the more general category of populist parties (but see Pauwels, 2014). This is remarkable because  Table 2. Logistic regression analyses explaining voting for a populist party compared to voting for a mainstream party (without Bonferroni adjustments)  Radical right Radical left Other  FPÖ VB SVP DF PS FN LPF PVV FrP SD Linke SP LDD FI M5S  1 Class − − − − − − − − Income − − − − − − − Employment status + X − Education − − − − − − − − + Age − + − − − − − + − − − Gender − − − − − − − + Religiosity − − − − − − − − − +  2 Political distrust + + + + + + + + + + + + + + General left−right radicalism + + + + − + + + Satisfaction with economy + − − − + Satisfaction with government − − + − + − − − + Income redistribution − + − + + − − Immigrants + + + + + + + + + + − Political interest + −  3 Euroscepticism + + + + + + +  4 Referendum X + + + X + X  FPÖ = Freiheitliche Partei Österreichs (Freedom Party of Austria); VB = Vlaams Blok/Vlaams Belang (Flemish Block/  Flemish Interest); SVP = Schweizerische Volkspartei (Swiss People’s Party); DF = Dansk Folkeparti (Danish People’s  Party); PS = Perussuomalaiset (the Finns Party); FN = Front National (National Front); LPF = Lijst Pim Fortuyn (List Pim  Fortuyn); PVV = Partij voor de Vrijheid (Party for Freedom); FrP = Fremskrittspartiet (Progress Party); SD =  Sverigedemokraterna (Sweden Democrats); SP = Socialistische Partij (Socialist Party); LDD = Lijst Dedecker/Libertair,  Direct, Democratisch (List Dedecker/Libertarian, Direct, Democratic); FI = Forza Italia (Go Italy); M5S = Movimento  Cinque Stelle (Five Star Movement); X = no observations.  In a ﬁrst step I estimated the effects of the sociodemographic variables. In a second step I included the effects of the  attitudinal variables. The effects of the variables ‘Euroscepticism’ and ‘Referendum’ have been estimated separately  because of the large number of missing cases.  Gray shaded areas are signiﬁcant at P < 0..  What unites the voter bases of populist parties? 363  https://www.cambridge.org/core/terms. https://doi.org/10./S1755773917000145 Downloaded from https://www.cambridge.org/core. University of West Bohemia, on 08 Feb 2022 at 11::, subject to the Cambridge Core terms of use, available at populist parties on both the left and the right are increasingly successful in Western Europe, and the populist message expressed by these parties has become more and more widespread in the public debate (Rooduijn, 2014). To the best of my knowledge, the present study is the most inclusive investigation of populist voting in Western Europe so far. It has been argued and shown that populist parties have something in common (e.g. Taggart, 2000; Mudde, 2004). But do voter bases of these parties also share particular features? It could be expected that these electorates are all distrustful and Eurosceptic ‘losers of globalization’ (i.e. those with lower socioeconomic positions who fear the opening of borders) (Kriesi et al., 2006, 2008). Based on an analysis of the electoral bases of 15 prototypical populist parties in 11 Western European democracies I show that this is not the case. There is no consistent proof that the voter bases of populist parties consist of individuals who are more likely to be unemployed, have lower incomes, come from lower classes, or hold a lower education. Moreover, neither Euroscepticism, nor political distrust and attitudes toward direct democracy turn out to be attitudes that unify the voter bases of populist parties. Although the populist set of ideas might easily be combined with these attitudes, the ﬁndings in this paper demonstrate that they need not always go hand in hand (see also Mudde, 2007). It is important to emphasize that 12 out of the 15 selected populist parties are radical parties. However, the ﬁndings suggest that even the voter bases of the three selected non-radical populist parties do not have much in common. Nonetheless,  Table 3. The effects of political distrust on voting for a populist party for each wave separately (sociodemographic and attitudinal variables controlled for but not displayed)  Radical right Radical left Other  FPÖ VB SVP DF PS FN LPF PVV FrP SD Linke SP LDD FI M5S  Political distrust 2002 + X + X + X + X X Political distrust 2004 + + + X + X + X + X Political distrust 2006 + + + X + X + X X X Political distrust 2008 X + + + + X X + + X + + X X Political distrust 2010 X + + + X X + + + X X X Political distrust 2012 X + + X X + +  FPÖ = Freiheitliche Partei Österreichs (Freedom Party of Austria); VB = Vlaams Blok/Vlaams Belang (Flemish Block/  Flemish Interest); SVP = Schweizerische Volkspartei (Swiss People’s Party); DF = Dansk Folkeparti (Danish People’s  Party); PS = Perussuomalaiset (the Finns Party); FN = Front National (National Front); LPF = Lijst Pim Fortuyn (List Pim  Fortuyn); PVV = Partij voor de Vrijheid (Party for Freedom); FrP = Fremskrittspartiet (Progress Party); SD =  Sverigedemokraterna (Sweden Democrats); SP = Socialistische Partij (Socialist Party); LDD = Lijst Dedecker/Libertair,  Direct, Democratisch (List Dedecker/Libertarian, Direct, Democratic); FI = Forza Italia (Go Italy); M5S = Movimento  Cinque Stelle (Five Star Movement); X = no observations.  Displayed are only the effects of political distrust on populist voting. I controlled for all socioeconomic and attitudinal  variables except for ‘Euroscepticism’ and ‘Referendum’.  Gray shaded areas are signiﬁcant at P < 0..  364 M A T T H I J S R O O D U I J N  https://www.cambridge.org/core/terms. https://doi.org/10./S1755773917000145 Downloaded from https://www.cambridge.org/core. University of West Bohemia, on 08 Feb 2022 at 11::, subject to the Cambridge Core terms of use, available at future studies might well want to focus on non-radical populist parties like, for instance, the M5S. What uniﬁes the voter bases of such parties across cases and over time? Although these parties are relative rare in Western Europe, more such parties can be found in Eastern Europe. Although this study has assessed many of the characteristics that the voter bases of populist parties could be expected to have in common, it could, of course, still be that my analysis has missed some important variables. One of those variables could consist of ‘populist attitudes’. Akkerman et al. (2014) have shown that it is possible to measure populist attitudes at the individual level and that these attitudes also explain preferences for populist parties. Unfortunately, however, because this study is based on the Dutch case only, and as present comparative data on this topic are not available, it was not possible to assess to what extent such populist attitudes explain populist voting across Western European cases. Future investigations might well focus on measuring populist attitudes in other national contexts as well. Moreover, Bakker et al. (2016) have demonstrated that populist voting is related to a person’s personality. They argue that those who score low on the personality trait Agreeableness tend to agree with the anti-establishment message of a populist party and are therefore likely to also vote populist. They demonstrate that, indeed, those who score low on Agreeableness are more likely to vote for the PVV in the Netherlands, Die Linke in Germany, and the Tea Party in the United States. Future studies might well focus on the question to what extent political distrust mediates the effect of Agreeableness on populist voting. Finally, future studies should also investigate how individuals who vote for populist parties differ from those who abstain from voting. It could be expected that these two groups are alike in many respects. What are the main differences between those who do not vote and those who support a populist party? This study has made three important contributions. First, it is the most encompassing study of populist voting to date. Second, it has demonstrated that, despite a widely held belief, the electorates of populist parties do not always consist of individuals who are more likely to be ‘losers of globalization’ with Eurosceptic attitudes, low levels of political trust, and preferences for (more) direct democracy. And third, this study has demonstrated that the voting bases of different kinds of populist parties strongly differ from each other. This suggests that ‘the’ populist voter does not exist. "
     },
     "execution_count": 58,
     "metadata": {},
     "output_type": "execute_result"
    }
   ],
   "source": [
    "doc"
   ]
  },
  {
   "cell_type": "code",
   "execution_count": 60,
   "metadata": {},
   "outputs": [
    {
     "data": {
      "text/plain": "Various scholars have argued and demonstrated that Western European populist parties have something in common."
     },
     "execution_count": 60,
     "metadata": {},
     "output_type": "execute_result"
    }
   ],
   "source": [
    "sent = [sent for sent in doc.sents][0]\n",
    "sent"
   ]
  },
  {
   "cell_type": "code",
   "execution_count": 61,
   "metadata": {},
   "outputs": [
    {
     "data": {
      "text/plain": "[Western European]"
     },
     "execution_count": 61,
     "metadata": {},
     "output_type": "execute_result"
    }
   ],
   "source": [
    "sent.ents"
   ]
  },
  {
   "cell_type": "code",
   "execution_count": 62,
   "outputs": [],
   "source": [
    "for ent in sent.ents:\n",
    "    if ent.label_ == \"PERSON\":\n",
    "        print(ent[-1].lemma_)"
   ],
   "metadata": {
    "collapsed": false
   }
  },
  {
   "cell_type": "code",
   "execution_count": 63,
   "metadata": {},
   "outputs": [],
   "source": [
    "#ent = [ent for ent in sent.ents][0]"
   ]
  },
  {
   "cell_type": "code",
   "execution_count": 64,
   "metadata": {},
   "outputs": [],
   "source": [
    "# postags = [\"PROPN\", \"NOUN\", \"VERB\", ]\n",
    "def lemmata(spacyobject, filtered=True):\n",
    "    if filtered==True:\n",
    "        return  [t.lemma_ for t in spacyobject if (t.is_stop==False) & (t.is_alpha==True)]\n",
    "    else:\n",
    "        return  [t.lemma_ for t in spacyobject]\n",
    "    # return [t.lemma_.lower() if t.pos==\"PROPN\" else t.lemma_ for t in spacyobject if (t.is_stop==False) & (t.is_alpha==True)]"
   ]
  },
  {
   "cell_type": "code",
   "execution_count": 65,
   "metadata": {},
   "outputs": [
    {
     "data": {
      "text/plain": "['scholar',\n 'argue',\n 'demonstrate',\n 'western',\n 'european',\n 'populist',\n 'party',\n 'common']"
     },
     "execution_count": 65,
     "metadata": {},
     "output_type": "execute_result"
    }
   ],
   "source": [
    "lemmata(sent)"
   ]
  },
  {
   "cell_type": "code",
   "execution_count": 66,
   "metadata": {},
   "outputs": [
    {
     "data": {
      "text/plain": "[Western European]"
     },
     "execution_count": 66,
     "metadata": {},
     "output_type": "execute_result"
    }
   ],
   "source": [
    "[ent for ent in sent.ents]"
   ]
  },
  {
   "cell_type": "code",
   "execution_count": 67,
   "metadata": {},
   "outputs": [],
   "source": [
    "ents_inds = []\n",
    "entstart_dict = {}\n",
    "for ent in sent.ents:\n",
    "    ents_inds.extend(range(ent.start + 1, ent.end))\n",
    "    entstart_dict[ent.start] = \"_\".join(lemmata(ent, filtered=False))"
   ]
  },
  {
   "cell_type": "code",
   "execution_count": 68,
   "outputs": [
    {
     "data": {
      "text/plain": "{7: 'western_european'}"
     },
     "execution_count": 68,
     "metadata": {},
     "output_type": "execute_result"
    }
   ],
   "source": [
    "entstart_dict"
   ],
   "metadata": {
    "collapsed": false
   }
  },
  {
   "cell_type": "code",
   "execution_count": 69,
   "outputs": [
    {
     "data": {
      "text/plain": "[8]"
     },
     "execution_count": 69,
     "metadata": {},
     "output_type": "execute_result"
    }
   ],
   "source": [
    "ents_inds"
   ],
   "metadata": {
    "collapsed": false
   }
  },
  {
   "cell_type": "code",
   "execution_count": 70,
   "outputs": [
    {
     "data": {
      "text/plain": "Various scholars have argued and demonstrated that Western European populist parties have something in common."
     },
     "execution_count": 70,
     "metadata": {},
     "output_type": "execute_result"
    }
   ],
   "source": [
    "sent"
   ],
   "metadata": {
    "collapsed": false
   }
  },
  {
   "cell_type": "code",
   "execution_count": 71,
   "outputs": [],
   "source": [
    "def get_sentence_lemmata(sent):\n",
    "    ents_inds = []\n",
    "    entstart_dict = {}\n",
    "    for ent in sent.ents:\n",
    "        ents_inds.extend(range(ent.start + 1, ent.end))\n",
    "        if ent.label_ == \"PERSON\":\n",
    "            entstart_dict[ent.start] = ent[-1].lemma_\n",
    "        else:\n",
    "            entstart_dict[ent.start] = \"_\".join(lemmata(ent, filtered=False))\n",
    "    sentence_lemmata = []\n",
    "    for i in range(sent.start, sent.end):\n",
    "        if i in entstart_dict.keys():\n",
    "            sentence_lemmata.append(entstart_dict[i])\n",
    "        else:\n",
    "            if i not in ents_inds:\n",
    "                t = sent[i - sent.start]\n",
    "                if (t.is_stop==False) & (t.is_alpha==True):\n",
    "                    sentence_lemmata.append(t.lemma_)\n",
    "    return sentence_lemmata"
   ],
   "metadata": {
    "collapsed": false
   }
  },
  {
   "cell_type": "code",
   "execution_count": 72,
   "outputs": [
    {
     "data": {
      "text/plain": "Various scholars have argued and demonstrated that Western European populist parties have something in common."
     },
     "execution_count": 72,
     "metadata": {},
     "output_type": "execute_result"
    }
   ],
   "source": [
    "sent"
   ],
   "metadata": {
    "collapsed": false
   }
  },
  {
   "cell_type": "code",
   "execution_count": 73,
   "outputs": [
    {
     "data": {
      "text/plain": "['scholar',\n 'argue',\n 'demonstrate',\n 'western_european',\n 'populist',\n 'party',\n 'common']"
     },
     "execution_count": 73,
     "metadata": {},
     "output_type": "execute_result"
    }
   ],
   "source": [
    "get_sentence_lemmata(sent)"
   ],
   "metadata": {
    "collapsed": false
   }
  },
  {
   "cell_type": "code",
   "execution_count": 74,
   "outputs": [
    {
     "data": {
      "text/plain": "['scholar argue demonstrate western_european populist party common',\n 'party adhere ideology employ different organizational form political style endorse similar set idea concern relationship people elite',\n 'despite increase knowledge party far know little populist voter',\n 'voter basis populist party common',\n 'answer question focus electorate 15 prototypical populist party 11 western_european country']"
     },
     "execution_count": 74,
     "metadata": {},
     "output_type": "execute_result"
    }
   ],
   "source": [
    "lemmatized_sents = [\" \".join(get_sentence_lemmata(sent)) for sent in doc.sents]\n",
    "lemmatized_sents[:5]"
   ],
   "metadata": {
    "collapsed": false
   }
  },
  {
   "cell_type": "code",
   "execution_count": 75,
   "outputs": [],
   "source": [
    "with open(\"testfile.txt\", \"w\") as f:\n",
    "    f.writelines(\"\\n\".join(lemmatized_sents))"
   ],
   "metadata": {
    "collapsed": false
   }
  },
  {
   "cell_type": "code",
   "execution_count": 76,
   "outputs": [
    {
     "name": "stdout",
     "output_type": "stream",
     "text": [
      "mkdir: ../data/large_data/articles_lemmata: File exists\r\n"
     ]
    }
   ],
   "source": [
    "!mkdir ../data/large_data/articles_lemmata"
   ],
   "metadata": {
    "collapsed": false
   }
  },
  {
   "cell_type": "code",
   "execution_count": 77,
   "outputs": [
    {
     "data": {
      "text/plain": "'spacydoc_pop_id_28.pickle'"
     },
     "execution_count": 77,
     "metadata": {},
     "output_type": "execute_result"
    }
   ],
   "source": [
    "filenames[0]"
   ],
   "metadata": {
    "collapsed": false
   }
  },
  {
   "cell_type": "code",
   "execution_count": 78,
   "metadata": {},
   "outputs": [],
   "source": [
    "sourcepath = \"../data/large_data/articles_spacydocs/\"\n",
    "destpath = \"../data/large_data/articles_lemmata/\"\n",
    "for filename in filenames:\n",
    "    filepath = sourcepath + filename\n",
    "    with open(filepath, \"rb\") as f:\n",
    "        doc = pickle.load(f)\n",
    "    lemmatized_sents = [\" \".join(get_sentence_lemmata(sent)) for sent in doc.sents]\n",
    "    with open(destpath + filename.replace(\"spacydoc\", \"lemmata\").replace(\".pickle\", \".txt\"), \"w\") as f:\n",
    "        f.writelines(\"\\n\".join(lemmatized_sents))"
   ]
  },
  {
   "cell_type": "code",
   "execution_count": null,
   "outputs": [],
   "source": [],
   "metadata": {
    "collapsed": false
   }
  }
 ],
 "metadata": {
  "kernelspec": {
   "display_name": "conda_base",
   "language": "python",
   "name": "conda_base"
  },
  "language_info": {
   "codemirror_mode": {
    "name": "ipython",
    "version": 3
   },
   "file_extension": ".py",
   "mimetype": "text/x-python",
   "name": "python",
   "nbconvert_exporter": "python",
   "pygments_lexer": "ipython3",
   "version": "3.9.12"
  }
 },
 "nbformat": 4,
 "nbformat_minor": 1
}
