{
 "cells": [
  {
   "cell_type": "code",
   "execution_count": 71,
   "metadata": {
    "collapsed": true
   },
   "outputs": [],
   "source": [
    "import os\n",
    "import spacy\n",
    "import pickle\n",
    "import re\n",
    "from nltk.stem import WordNetLemmatizer"
   ]
  },
  {
   "cell_type": "code",
   "execution_count": 72,
   "outputs": [],
   "source": [
    "lemmatizer = WordNetLemmatizer()"
   ],
   "metadata": {
    "collapsed": false
   }
  },
  {
   "cell_type": "code",
   "execution_count": 56,
   "outputs": [
    {
     "data": {
      "text/plain": "<spacy.pipeline.sentencizer.Sentencizer at 0x2a4e51680>"
     },
     "execution_count": 56,
     "metadata": {},
     "output_type": "execute_result"
    }
   ],
   "source": [
    "nlp_md = spacy.load('en_core_web_lg')\n",
    "nlp_md.add_pipe('sentencizer')"
   ],
   "metadata": {
    "collapsed": false
   }
  },
  {
   "cell_type": "code",
   "execution_count": 73,
   "metadata": {},
   "outputs": [
    {
     "data": {
      "text/plain": "['spacydoc_pop_id_28.pickle',\n 'spacydoc_pop_id_199.pickle',\n 'spacydoc_pop_id_253.pickle',\n 'spacydoc_pop_id_502.pickle',\n 'spacydoc_pop_id_55.pickle',\n 'spacydoc_pop_id_353.pickle',\n 'spacydoc_pop_id_402.pickle',\n 'spacydoc_pop_id_36.pickle',\n 'spacydoc_pop_id_230.pickle',\n 'spacydoc_pop_id_187.pickle']"
     },
     "execution_count": 73,
     "metadata": {},
     "output_type": "execute_result"
    }
   ],
   "source": [
    "filenames = [f for f in os.listdir(\"../data/large_data/articles_spacydocs\") if \".pickle\" in f]\n",
    "filenames[:10]"
   ]
  },
  {
   "cell_type": "code",
   "execution_count": 74,
   "metadata": {},
   "outputs": [],
   "source": [
    "sourcepath = \"../data/large_data/articles_spacydocs/\""
   ]
  },
  {
   "cell_type": "code",
   "execution_count": 75,
   "metadata": {},
   "outputs": [],
   "source": [
    "filepath = sourcepath + \"spacydoc_pop_id_17.pickle\""
   ]
  },
  {
   "cell_type": "code",
   "execution_count": 97,
   "metadata": {},
   "outputs": [],
   "source": [
    "#with open(filepath, \"rb\") as f:\n",
    "#    doc = pickle.load(f)\n",
    "# test reading it back\n",
    "doc = pickle.load(open(\"../data/large_data/doc_test.pickle\", \"rb\"))"
   ]
  },
  {
   "cell_type": "code",
   "execution_count": 98,
   "metadata": {},
   "outputs": [
    {
     "data": {
      "text/plain": "2"
     },
     "execution_count": 98,
     "metadata": {},
     "output_type": "execute_result"
    }
   ],
   "source": [
    "str(doc).count(\"right-wing\")"
   ]
  },
  {
   "cell_type": "code",
   "execution_count": 99,
   "outputs": [
    {
     "data": {
      "text/plain": "[(75,\n  As a set of ideas, populism can be attached to different ideologies, ranging from left-wing to right-wing and from progressive to conservative.),\n (114,\n  Various studies have indeed found that populist parties positioned at the fringes of the political spectrum tend to express Eurosceptic attitudes (Hooghe et al., 2002; De Vries and Edwards, 2009; Halikiopoulou et al., 2012), and that supporters of such parties (both left- and right-wing) tend to be rather Eurosceptic as well (Lubbers and Scheepers, 2007; Werts et al., 2013; Visser et al., 2014; Ramiro, 2016).)]"
     },
     "execution_count": 99,
     "metadata": {},
     "output_type": "execute_result"
    }
   ],
   "source": [
    "[(i, sent) for i, sent in enumerate(doc.sents) if re.search(\"right-wing\", str(sent))]"
   ],
   "metadata": {
    "collapsed": false
   }
  },
  {
   "cell_type": "code",
   "execution_count": 106,
   "outputs": [
    {
     "data": {
      "text/plain": "As a set of ideas, populism can be attached to different ideologies, ranging from left-wing to right-wing and from progressive to conservative."
     },
     "execution_count": 106,
     "metadata": {},
     "output_type": "execute_result"
    }
   ],
   "source": [
    "sent = list(doc.sents)[75]\n",
    "sent"
   ],
   "metadata": {
    "collapsed": false
   }
  },
  {
   "cell_type": "code",
   "execution_count": 116,
   "outputs": [
    {
     "name": "stdout",
     "output_type": "stream",
     "text": [
      "['As', 'a', 'set', 'of', 'ideas', ',', 'populism', 'can', 'be', 'attached', 'to', 'different', 'ideologies', ',', 'ranging', 'from', 'left-wing', 'to', 'right-wing', 'and', 'from', 'progressive', 'to', 'conservative', '.']\n"
     ]
    }
   ],
   "source": [
    "print([t.text for t in sent])"
   ],
   "metadata": {
    "collapsed": false
   }
  },
  {
   "cell_type": "code",
   "execution_count": 124,
   "outputs": [
    {
     "data": {
      "text/plain": "['set',\n 'idea',\n 'populism',\n 'attach',\n 'different',\n 'ideology',\n 'range',\n 'left-wing',\n 'right-wing',\n 'progressive',\n 'conservative']"
     },
     "execution_count": 124,
     "metadata": {},
     "output_type": "execute_result"
    }
   ],
   "source": [
    "lemmata_list = []\n",
    "for t in sent:\n",
    "    if t.is_stop==False:\n",
    "        if (t.is_alpha==True):\n",
    "            lemmata_list.append(t.lemma_)\n",
    "        else:\n",
    "            if \"-\" in t.text:\n",
    "                start, hyphen, end = str(t.text).rpartition(\"-\")\n",
    "                new_lemma = \"-\".join([start, lemmatizer.lemmatize(end)])\n",
    "                lemmata_list.append(new_lemma)\n",
    "lemmata_list"
   ],
   "metadata": {
    "collapsed": false
   }
  },
  {
   "cell_type": "code",
   "execution_count": 125,
   "outputs": [],
   "source": [
    "for ent in sent.ents:\n",
    "    if ent.label_ == \"PERSON\":\n",
    "        print(ent[-1].lemma_)"
   ],
   "metadata": {
    "collapsed": false
   }
  },
  {
   "cell_type": "code",
   "execution_count": 10,
   "metadata": {},
   "outputs": [],
   "source": [
    "#ent = [ent for ent in sent.ents][0]"
   ]
  },
  {
   "cell_type": "code",
   "execution_count": 126,
   "metadata": {},
   "outputs": [],
   "source": [
    "# postags = [\"PROPN\", \"NOUN\", \"VERB\", ]\n",
    "def lemmata(spacyobject, filtered=True):\n",
    "    if filtered==True:\n",
    "        lemmata_list = []\n",
    "        for t in sent:\n",
    "            if t.is_stop==False:\n",
    "                if (t.is_alpha==True):\n",
    "                    lemmata_list.append(t.lemma_)\n",
    "                else:\n",
    "                    if \"-\" in t.text:\n",
    "                        start, hyphen, end = str(t.text).rpartition(\"-\")\n",
    "                        new_lemma = \"-\".join([start, lemmatizer.lemmatize(end)])\n",
    "                        lemmata_list.append(new_lemma)\n",
    "        return  lemmata_list\n",
    "    else:\n",
    "        return  [t.lemma_ for t in spacyobject]\n",
    "    # return [t.lemma_.lower() if t.pos==\"PROPN\" else t.lemma_ for t in spacyobject if (t.is_stop==False) & (t.is_alpha==True)]"
   ]
  },
  {
   "cell_type": "code",
   "execution_count": 127,
   "metadata": {},
   "outputs": [
    {
     "data": {
      "text/plain": "['set',\n 'idea',\n 'populism',\n 'attach',\n 'different',\n 'ideology',\n 'range',\n 'left-wing',\n 'right-wing',\n 'progressive',\n 'conservative']"
     },
     "execution_count": 127,
     "metadata": {},
     "output_type": "execute_result"
    }
   ],
   "source": [
    "lemmata(sent)"
   ]
  },
  {
   "cell_type": "code",
   "execution_count": 128,
   "metadata": {},
   "outputs": [],
   "source": [
    "ents_inds = []\n",
    "entstart_dict = {}\n",
    "for ent in sent.ents:\n",
    "    ents_inds.extend(range(ent.start + 1, ent.end))\n",
    "    entstart_dict[ent.start] = \"_\".join(lemmata(ent, filtered=False))"
   ]
  },
  {
   "cell_type": "code",
   "execution_count": 129,
   "outputs": [
    {
     "data": {
      "text/plain": "{}"
     },
     "execution_count": 129,
     "metadata": {},
     "output_type": "execute_result"
    }
   ],
   "source": [
    "entstart_dict"
   ],
   "metadata": {
    "collapsed": false
   }
  },
  {
   "cell_type": "code",
   "execution_count": 130,
   "outputs": [
    {
     "data": {
      "text/plain": "[]"
     },
     "execution_count": 130,
     "metadata": {},
     "output_type": "execute_result"
    }
   ],
   "source": [
    "ents_inds"
   ],
   "metadata": {
    "collapsed": false
   }
  },
  {
   "cell_type": "code",
   "execution_count": 131,
   "outputs": [
    {
     "data": {
      "text/plain": "As a set of ideas, populism can be attached to different ideologies, ranging from left-wing to right-wing and from progressive to conservative."
     },
     "execution_count": 131,
     "metadata": {},
     "output_type": "execute_result"
    }
   ],
   "source": [
    "sent"
   ],
   "metadata": {
    "collapsed": false
   }
  },
  {
   "cell_type": "code",
   "execution_count": 135,
   "outputs": [],
   "source": [
    "def get_sentence_lemmata(sent):\n",
    "    ents_inds = []\n",
    "    entstart_dict = {}\n",
    "    for ent in sent.ents:\n",
    "        ents_inds.extend(range(ent.start + 1, ent.end))\n",
    "        if ent.label_ == \"PERSON\":\n",
    "            entstart_dict[ent.start] = ent[-1].lemma_\n",
    "        else:\n",
    "            entstart_dict[ent.start] = \"_\".join(lemmata(ent, filtered=False))\n",
    "    sentence_lemmata = []\n",
    "    for i in range(sent.start, sent.end):\n",
    "        if i in entstart_dict.keys():\n",
    "            sentence_lemmata.append(entstart_dict[i])\n",
    "        else:\n",
    "            if i not in ents_inds:\n",
    "                t = sent[i - sent.start]\n",
    "                if t.is_stop==False:\n",
    "                    if (t.is_alpha==True):\n",
    "                        sentence_lemmata.append(t.lemma_)\n",
    "                    else:\n",
    "                        if \"-\" in t.text:\n",
    "                            start, hyphen, end = str(t.text).rpartition(\"-\")\n",
    "                            new_lemma = \"-\".join([start, lemmatizer.lemmatize(end)])\n",
    "                            sentence_lemmata.append(new_lemma)\n",
    "    return sentence_lemmata"
   ],
   "metadata": {
    "collapsed": false
   }
  },
  {
   "cell_type": "code",
   "execution_count": 136,
   "outputs": [
    {
     "data": {
      "text/plain": "As a set of ideas, populism can be attached to different ideologies, ranging from left-wing to right-wing and from progressive to conservative."
     },
     "execution_count": 136,
     "metadata": {},
     "output_type": "execute_result"
    }
   ],
   "source": [
    "sent"
   ],
   "metadata": {
    "collapsed": false
   }
  },
  {
   "cell_type": "code",
   "execution_count": 137,
   "outputs": [
    {
     "data": {
      "text/plain": "['set',\n 'idea',\n 'populism',\n 'attach',\n 'different',\n 'ideology',\n 'range',\n 'left-wing',\n 'right-wing',\n 'progressive',\n 'conservative']"
     },
     "execution_count": 137,
     "metadata": {},
     "output_type": "execute_result"
    }
   ],
   "source": [
    "get_sentence_lemmata(sent)"
   ],
   "metadata": {
    "collapsed": false
   }
  },
  {
   "cell_type": "code",
   "execution_count": 138,
   "outputs": [
    {
     "data": {
      "text/plain": "['scholar argue demonstrate western_european populist party common',\n 'party adhere ideology employ different organizational form political style endorse similar set idea concern relationship people elite',\n 'despite increase knowledge party far know little populist voter',\n 'voter basis populist party common',\n 'answer question focus electorate 15 prototypical populist party 11 western_european country']"
     },
     "execution_count": 138,
     "metadata": {},
     "output_type": "execute_result"
    }
   ],
   "source": [
    "lemmatized_sents = [\" \".join(get_sentence_lemmata(sent)) for sent in doc.sents]\n",
    "lemmatized_sents[:5]"
   ],
   "metadata": {
    "collapsed": false
   }
  },
  {
   "cell_type": "code",
   "execution_count": 139,
   "outputs": [],
   "source": [
    "with open(\"testfile.txt\", \"w\") as f:\n",
    "    f.writelines(\"\\n\".join(lemmatized_sents))"
   ],
   "metadata": {
    "collapsed": false
   }
  },
  {
   "cell_type": "code",
   "execution_count": 142,
   "outputs": [
    {
     "name": "stdout",
     "output_type": "stream",
     "text": [
      "mkdir: ../data/large_data/articles_lemmata: File exists\r\n"
     ]
    }
   ],
   "source": [
    "!mkdir ../data/large_data/articles_lemmata"
   ],
   "metadata": {
    "collapsed": false
   }
  },
  {
   "cell_type": "code",
   "execution_count": 143,
   "outputs": [
    {
     "data": {
      "text/plain": "'spacydoc_pop_id_28.pickle'"
     },
     "execution_count": 143,
     "metadata": {},
     "output_type": "execute_result"
    }
   ],
   "source": [
    "filenames[0]"
   ],
   "metadata": {
    "collapsed": false
   }
  },
  {
   "cell_type": "code",
   "execution_count": 144,
   "metadata": {},
   "outputs": [],
   "source": [
    "sourcepath = \"../data/large_data/articles_spacydocs/\"\n",
    "destpath = \"../data/large_data/articles_lemmata/\"\n",
    "for filename in filenames:\n",
    "    filepath = sourcepath + filename\n",
    "    with open(filepath, \"rb\") as f:\n",
    "        doc = pickle.load(f)\n",
    "    lemmatized_sents = [\" \".join(get_sentence_lemmata(sent)) for sent in doc.sents]\n",
    "    with open(destpath + filename.replace(\"spacydoc\", \"lemmata\").replace(\".pickle\", \".txt\"), \"w\") as f:\n",
    "        f.writelines(\"\\n\".join(lemmatized_sents))"
   ]
  },
  {
   "cell_type": "code",
   "execution_count": null,
   "outputs": [],
   "source": [],
   "metadata": {
    "collapsed": false
   }
  }
 ],
 "metadata": {
  "kernelspec": {
   "display_name": "conda_base",
   "language": "python",
   "name": "conda_base"
  },
  "language_info": {
   "codemirror_mode": {
    "name": "ipython",
    "version": 3
   },
   "file_extension": ".py",
   "mimetype": "text/x-python",
   "name": "python",
   "nbconvert_exporter": "python",
   "pygments_lexer": "ipython3",
   "version": "3.9.12"
  }
 },
 "nbformat": 4,
 "nbformat_minor": 1
}
