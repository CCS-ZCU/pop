{
 "cells": [
  {
   "cell_type": "code",
   "execution_count": 126,
   "metadata": {
    "collapsed": true
   },
   "outputs": [],
   "source": [
    "import os\n",
    "import spacy\n",
    "import pickle\n",
    "import re\n",
    "import nltk\n",
    "from nltk.stem import WordNetLemmatizer"
   ]
  },
  {
   "cell_type": "code",
   "execution_count": 127,
   "outputs": [],
   "source": [
    "# using linked entities based on https://github.com/egerber/spaCy-entity-linker"
   ],
   "metadata": {
    "collapsed": false
   }
  },
  {
   "cell_type": "code",
   "execution_count": 162,
   "outputs": [
    {
     "data": {
      "text/plain": "<spacy.pipeline.sentencizer.Sentencizer at 0x32a7bbf80>"
     },
     "execution_count": 162,
     "metadata": {},
     "output_type": "execute_result"
    }
   ],
   "source": [
    "raw_text = 'Hello, world. Here are two sentences.'\n",
    "nlp_md = spacy.load('en_core_web_md')\n",
    "nlp_md.add_pipe('sentencizer')\n",
    "#nlp_md.add_pipe(\"entityLinker\", last=True)"
   ],
   "metadata": {
    "collapsed": false
   }
  },
  {
   "cell_type": "code",
   "execution_count": 129,
   "outputs": [
    {
     "name": "stdout",
     "output_type": "stream",
     "text": [
      "['mother-in-law']\n"
     ]
    }
   ],
   "source": [
    "from spacy.util import compile_infix_regex\n",
    "from spacy.lang.char_classes import ALPHA, ALPHA_LOWER, ALPHA_UPPER\n",
    "from spacy.lang.char_classes import CONCAT_QUOTES, LIST_ELLIPSES, LIST_ICONS\n",
    "\n",
    "infixes = (\n",
    "        LIST_ELLIPSES\n",
    "        + LIST_ICONS\n",
    "        + [\n",
    "            r\"(?<=[0-9])[+\\-\\*^](?=[0-9-])\",\n",
    "            r\"(?<=[{al}{q}])\\.(?=[{au}{q}])\".format(\n",
    "                al=ALPHA_LOWER, au=ALPHA_UPPER, q=CONCAT_QUOTES\n",
    "            ),\n",
    "            r\"(?<=[{a}]),(?=[{a}])\".format(a=ALPHA),\n",
    "            # ✅ Commented out regex that splits on hyphens between letters:\n",
    "            # r\"(?<=[{a}])(?:{h})(?=[{a}])\".format(a=ALPHA, h=HYPHENS),\n",
    "            r\"(?<=[{a}0-9])[:<>=/](?=[{a}])\".format(a=ALPHA),\n",
    "        ]\n",
    ")\n",
    "\n",
    "infix_re = compile_infix_regex(infixes)\n",
    "nlp_md.tokenizer.infix_finditer = infix_re.finditer\n",
    "doc = nlp_md(\"mother-in-law\")\n",
    "print([t.text for t in doc]) # ['mother-in-law']"
   ],
   "metadata": {
    "collapsed": false
   }
  },
  {
   "cell_type": "code",
   "execution_count": 130,
   "outputs": [
    {
     "data": {
      "text/plain": "[['hello', ',', 'world', '.'], ['here', 'be', 'two', 'sentence', '.']]"
     },
     "execution_count": 130,
     "metadata": {},
     "output_type": "execute_result"
    }
   ],
   "source": [
    "doc = nlp_md(raw_text)\n",
    "[[t.lemma_ for t in sent] for sent in doc.sents]"
   ],
   "metadata": {
    "collapsed": false
   }
  },
  {
   "cell_type": "code",
   "execution_count": 131,
   "outputs": [
    {
     "data": {
      "text/plain": "['he', 'be', 'a', 'left-we', 'populist']"
     },
     "execution_count": 131,
     "metadata": {},
     "output_type": "execute_result"
    }
   ],
   "source": [
    "[t.lemma_ for t in nlp_md(\"He is a left-wing populist\")]"
   ],
   "metadata": {
    "collapsed": false
   }
  },
  {
   "cell_type": "code",
   "execution_count": 132,
   "outputs": [],
   "source": [
    "# test with one document"
   ],
   "metadata": {
    "collapsed": false
   }
  },
  {
   "cell_type": "code",
   "execution_count": 133,
   "outputs": [
    {
     "data": {
      "text/plain": "'../data/large_data/articles_filteredtexts/filteredtext_pop_id_17.txt'"
     },
     "execution_count": 133,
     "metadata": {},
     "output_type": "execute_result"
    }
   ],
   "source": [
    "pop_id = 17\n",
    "path = \"../data/large_data/articles_filteredtexts/\"\n",
    "file = \"filteredtext_pop_id_{}.txt\".format(str(pop_id))\n",
    "filepath = path + file\n",
    "filepath"
   ],
   "metadata": {
    "collapsed": false
   }
  },
  {
   "cell_type": "code",
   "execution_count": 134,
   "outputs": [],
   "source": [
    "with open(filepath, \"r\") as f:\n",
    "    filteredtext = f.read()\n",
    "    filteredtext = filteredtext.replace(\"\\n\", \" \")"
   ],
   "metadata": {
    "collapsed": false
   }
  },
  {
   "cell_type": "code",
   "execution_count": 135,
   "outputs": [],
   "source": [
    "doc = nlp_md(filteredtext)"
   ],
   "metadata": {
    "collapsed": false
   }
  },
  {
   "cell_type": "code",
   "execution_count": 136,
   "outputs": [
    {
     "data": {
      "text/plain": "(15,\n Department of Sociology,\n Utrecht University,\n Utrecht,\n Netherlands,\n Western European,\n 15,\n 11,\n Western European,\n Eurosceptic,\n Western European,\n one,\n the United Kingdom Independence Party,\n Britain,\n the Front National,\n National Front,\n France,\n the Partij voor de Vrijheid,\n Netherlands,\n Podemos,\n Spain,\n Germany,\n Five Star Movement,\n Italy,\n Weyland,\n 2001,\n Mudde,\n 2004,\n 2002a,\n Albertazzi,\n McDonnell,\n 2008,\n Akkerman et al.,\n 2014,\n Pauwels,\n 2011b,\n Mueller,\n 2013,\n Mudde,\n Rovira Kaltwasser,\n 2012,\n European Political Science Review,\n 2018,\n 10,\n 351–368,\n © European Consortium for Political Research,\n First,\n 20 June 2017,\n University of West Bohemia,\n 08 Feb 2022,\n 11,\n Stanley,\n 2008,\n Van der Brug et al.,\n 2000,\n 2005,\n Lubbers et al.,\n 2002,\n Ivarsﬂaten,\n 2008,\n Zhirkov,\n 2014,\n Scheepers,\n 2007,\n Visser et al.,\n 2014,\n Ramiro,\n 2016,\n Mudde,\n 2004,\n Stanley, 2008,\n Hawkins,\n 2010,\n Rovira Kaltwasser,\n 2012,\n Taggart,\n 2000,\n Rooduijn et al.,\n 2014,\n only one,\n Pauwels,\n 2014,\n Western European,\n only three,\n EU,\n Kriesi,\n 2006,\n Kriesi et al,\n 2008,\n 2002,\n Eurosceptic,\n Werts et al.,\n 2013,\n Visser et al.,\n 2014,\n Ramiro,\n 2016,\n Eurosceptic,\n the European Social Survey,\n 2002–12,\n 11,\n Western Europe,\n 15,\n 1,\n Elchardus,\n Spruyt,\n 2016,\n Flanders,\n University of West Bohemia,\n 08 Feb 2022,\n 11,\n two,\n First,\n Second,\n Western European,\n Marine Le Pen,\n France,\n Western European,\n the Lega Nord,\n Northern League,\n LN,\n Italy,\n Die Linke,\n Germany,\n third,\n two,\n 2004,\n 543,\n Hawkins,\n Manichean,\n 2009,\n 1,\n 2,\n 353,\n University of West Bohemia,\n 08 Feb 2022,\n 11,\n 2,\n 2012,\n Taggart,\n 2000,\n Canovan,\n 1981,\n Canovan,\n 2002,\n Laclau, 2005,\n Barr,\n 2009,\n Walgrave,\n 2007,\n 2012,\n Taggart,\n 2000,\n two,\n 1,\n 2,\n Kriesi et al,\n 2006,\n 2008,\n Western European,\n Kriesi et al,\n Western European,\n 2008,\n 19,\n University of West Bohemia,\n 08 Feb 2022,\n 11,\n 2002,\n Arzheimer,\n 2009,\n Bovens,\n Wille,\n 2010,\n Van der Brug et al.,\n 2000,\n Arzheimer,\n Carter,\n 2006,\n Van der Brug et al.,\n 2000,\n Lubbers et al.,\n 2002,\n Kriesi et al,\n 2006, 2008,\n Visser et al.,\n 2014,\n Lubbers,\n Scheepers,\n 2007,\n Ramiro,\n 2016,\n solidarity,\n Pauwels,\n 2014,\n Belgium,\n Germany,\n Netherlands,\n HYPOTHESIS,\n First,\n Kriesi et al,\n 2006, 2008,\n Eurosceptic,\n 355,\n University of West Bohemia,\n 08 Feb 2022,\n 11,\n European,\n Eastern European,\n Eurosceptic,\n Harmsen,\n 2010,\n two,\n 1,\n Brussels,\n Brussels,\n 2,\n European,\n EU,\n Eurosceptic,\n Hooghe et al.,\n 2002,\n De Vries,\n Edwards,\n 2009,\n Halikiopoulou et al.,\n 2012,\n Eurosceptic,\n Scheepers,\n 2007,\n Werts et al.,\n 2013,\n Visser et al.,\n 2014,\n Ramiro,\n 2016,\n HYPOTHESIS,\n Eurosceptic,\n Second,\n EU,\n Bernauer,\n Vatter,\n 2012,\n Betz,\n 1994,\n Swyngedouw,\n 2001,\n Bélanger,\n 2006,\n Bergh,\n 2004,\n Bergh,\n 2004,\n 385,\n Schumacher,\n Rooduijn,\n 2013,\n University of West Bohemia,\n 08 Feb 2022,\n 11,\n Ramiro,\n 2016,\n Doyle,\n 2011,\n Hooghe et al.,\n 2013,\n Pauwels,\n 2014,\n third,\n HYPOTHESIS,\n third,\n Webb,\n 2013,\n 2014,\n 59,\n 2002b,\n 13,\n Canovan,\n 1981,\n Taggart,\n 2000,\n HYPOTHESIS,\n 15,\n 11,\n Western European,\n Austria,\n Austria,\n Heinisch,\n 2008,\n the Vlaams Blok/Vlaams Belang,\n Flemish,\n Pauwels,\n 2011a,\n Lijst Dedecker/Libertair,\n Direct,\n Democratisch,\n Direct,\n Democratic,\n Pauwels,\n 2010,\n Belgium,\n the Schweizerische Volkspartei,\n Swiss People’s Party,\n Switzerland,\n Albertazzi,\n 2008,\n Die Linke,\n Germany,\n March, 2007,\n 3,\n 4,\n Europe,\n Van Kessel,\n 2015,\n 357,\n University of West Bohemia,\n 08 Feb 2022,\n 11,\n Dansk Folkeparti,\n Danish,\n Denmark,\n Rydgren,\n 2004,\n Perussuomalaiset,\n the Finns Party,\n Finland,\n Arter,\n 2010,\n France,\n Surel,\n 2002,\n Forza Italia,\n Italy,\n FI,\n Tarchi,\n 2008,\n M5S,\n Ruzza,\n 2013,\n Italy,\n the Lijst Pim Fortuyn,\n Van Kessel,\n 2011,\n the Socialistische Partij (Socialist Party,\n SP,\n March, 2011,\n PVV,\n Vossen,\n 2011,\n Netherlands,\n the Fremskrittspartiet (Progress Party,\n Norway,\n Jupskas,\n 2015,\n Sverigedemokraterna,\n Sweden,\n Democrats,\n Sweden,\n Jungar,\n 2015,\n SP,\n FI,\n 1,\n 2,\n 12,\n 15,\n Western Europe,\n Rooduijn,\n Akkerman,\n 2017,\n FI,\n Italy,\n two,\n First,\n 5,\n the United Kingdom,\n the Bündnis Zukunft Österreich,\n Austria,\n Belgium,\n Republikaner,\n Germany,\n LN,\n Italy,\n Sinn Féin,\n Ireland,\n National Democratic Party of Germany,\n Germany,\n Alleanza Nazionale,\n National Alliance,\n Italy,\n 6,\n European,\n March (2011,\n Germany,\n Dutch,\n the Scottish Socialist Party,\n 7,\n University of West Bohemia,\n 08 Feb 2022,\n 11,\n Second,\n three,\n ESS,\n 2002–12,\n one,\n democratic,\n Christian,\n Erikson et al.,\n 1979,\n 0,\n 1,\n 1,\n 2,\n 3,\n 4,\n 5,\n tertiary,\n European,\n 10,\n Political distrust11,\n two,\n two,\n 8,\n 1,\n democratic,\n Christian,\n 11,\n six,\n 1,\n 2,\n 3,\n 4,\n 5,\n 6,\n 10,\n ESS,\n 11,\n Bergh,\n 2004,\n 12,\n ESS,\n 359,\n University of West Bohemia,\n 08 Feb 2022,\n 11,\n 0,\n 10,\n Cronbach,\n 0,\n 10,\n 0,\n 10,\n 0,\n 10,\n 0,\n 10,\n 1,\n 4,\n 1,\n 4,\n 1,\n 4,\n 0,\n 1,\n 10,\n 1,\n years,\n ESS,\n Bonferroni,\n the Online Appendix Tables 1–4,\n 13,\n ESS,\n University of West Bohemia,\n 08 Feb 2022,\n 11,\n only 5,\n 15,\n 3,\n 15,\n Hypothesis 1,\n 6,\n 10,\n 6,\n 15,\n only three,\n 5,\n 15,\n 1,\n Radical right Radical,\n FPÖ,\n DF PS FN LPF PVV,\n FrP SD Linke SP LDD,\n 2,\n 3,\n Freiheitliche Partei,\n Österreichs (Freedom Party of Austria,\n Flemish,\n Flemish Interest,\n Schweizerische Volkspartei,\n Swiss People’s Party,\n DF,\n Dansk Folkeparti,\n Danish,\n Party,\n PS,\n the Finns Party,\n FN = Front National,\n National Front,\n PVV,\n FrP = Fremskrittspartiet (Progress Party,\n Sverigedemokraterna,\n Sweden,\n Democrats,\n SP = Socialistische Partij (Socialist Party,\n Lijst Dedecker/Libertair,\n Direct,\n Democratisch,\n Direct,\n Democratic,\n FI,\n Forza Italia,\n Italy,\n Movimento,\n Cinque Stelle,\n Five Star Movement,\n second,\n Gray,\n 361,\n University of West Bohemia,\n 08 Feb 2022,\n 11,\n second,\n 8,\n 15,\n Hypothesis 3,\n 15,\n a third and,\n fourth,\n 2,\n 15,\n Hypothesis 2,\n only 1,\n 12,\n Hypothesis 4,\n 2,\n Bonferroni,\n only one,\n 14,\n 15,\n 3,\n ESS,\n 28,\n 61,\n three,\n 1,\n three,\n Bonferroni,\n three,\n 3,\n 14,\n University of West Bohemia,\n 08 Feb 2022,\n 11,\n 11,\n Van der Brug et al.,\n 2000,\n Lubbers et al.,\n 2002,\n Ivarsﬂaten,\n 2008,\n Zhirkov,\n 2014,\n Scheepers,\n 2007,\n Visser et al.,\n 2014,\n Ramiro,\n 2016,\n Pauwels,\n 2014,\n 2,\n Radical right Radical,\n FPÖ,\n DF PS FN LPF PVV,\n FrP SD Linke SP LDD,\n 2,\n FPÖ,\n Freiheitliche Partei,\n Österreichs (Freedom Party of Austria,\n Flemish,\n Flemish Interest,\n Schweizerische Volkspartei,\n Swiss People’s Party,\n DF,\n Dansk Folkeparti,\n Danish,\n Party,\n PS,\n the Finns Party,\n FN = Front National,\n National Front,\n PVV,\n FrP = Fremskrittspartiet (Progress Party,\n Sverigedemokraterna,\n Sweden,\n Democrats,\n SP = Socialistische Partij (Socialist Party,\n Lijst Dedecker/Libertair,\n Direct,\n Democratisch,\n Direct,\n Democratic,\n FI,\n Forza Italia,\n Italy,\n Movimento,\n Cinque Stelle,\n Five Star Movement,\n second,\n Gray,\n 363,\n University of West Bohemia,\n 08 Feb 2022,\n 11,\n Western Europe,\n Rooduijn,\n 2014,\n Western Europe,\n Taggart,\n 2000,\n Mudde,\n 2004,\n Eurosceptic,\n Kriesi,\n 2006,\n 2008,\n 15,\n 11,\n Western European,\n Mudde,\n 2007,\n 12,\n 15,\n three,\n FPÖ,\n DF PS FN LPF PVV,\n FrP SD Linke SP LDD,\n FPÖ,\n Freiheitliche Partei,\n Österreichs (Freedom Party of Austria,\n Flemish,\n Flemish Interest,\n Schweizerische Volkspartei,\n Swiss People’s Party,\n DF,\n Dansk Folkeparti,\n Danish,\n Party,\n PS,\n the Finns Party,\n FN = Front National,\n National Front,\n PVV,\n FrP = Fremskrittspartiet (Progress Party,\n Sverigedemokraterna,\n Sweden,\n Democrats,\n SP = Socialistische Partij (Socialist Party,\n Lijst Dedecker/Libertair,\n Direct,\n Democratisch,\n Direct,\n Democratic,\n FI,\n Forza Italia,\n Italy,\n Movimento,\n Cinque Stelle,\n Five Star Movement,\n 0,\n University of West Bohemia,\n 08 Feb 2022,\n 11,\n Western Europe,\n Eastern Europe,\n One,\n Akkerman et al,\n 2014,\n Dutch,\n Western European,\n Bakker et al,\n 2016,\n PVV,\n Netherlands,\n Germany,\n the Tea Party,\n the United States,\n two,\n three,\n First,\n Second,\n Eurosceptic,\n third)"
     },
     "execution_count": 136,
     "metadata": {},
     "output_type": "execute_result"
    }
   ],
   "source": [
    "doc.ents"
   ],
   "metadata": {
    "collapsed": false
   }
  },
  {
   "cell_type": "code",
   "execution_count": 137,
   "outputs": [
    {
     "data": {
      "text/plain": "[bases,\n populist parties,\n electorates,\n Department,\n Sociology,\n Utrecht University,\n Utrecht,\n scholars,\n Netherlands,\n populist parties,\n parties,\n ideologies,\n forms,\n styles,\n set,\n ideas,\n relationship,\n people,\n elite,\n knowledge,\n parties,\n voters,\n bases,\n populist parties,\n question,\n electorates,\n populist parties,\n countries,\n contrast,\n beliefs,\n electorates,\n populist parties,\n individuals,\n losers,\n globalization,\n attitudes,\n levels,\n trust,\n preferences,\n direct democracy,\n voter,\n Keywords,\n populism,\n voting behavior,\n politics,\n explosion,\n studies,\n populism,\n fact,\n countries,\n part,\n world,\n upsurge,\n populist parties,\n United Kingdom Independence Party,\n UKIP,\n Britain,\n Front National,\n National Front,\n FN,\n France,\n Party,\n Freedom,\n PVV,\n Netherlands,\n Podemos,\n Spain,\n Linke,\n Left,\n Germany,\n Movimento Cinque Stelle,\n Five Star Movement,\n M5S,\n Italy,\n successes,\n parties,\n upsurge,\n Surel,\n Albertazzi,\n McDonnell,\n studies,\n populism,\n Weyland,\n parties,\n public opinion,\n al,\n .,\n Pauwels,\n making,\n Albertazzi,\n Mueller,\n liberal democracy,\n Rovira,\n studies,\n assumption,\n populist parties,\n terms,\n ideologies,\n leadership,\n styles,\n core,\n E-mail,\n European Political Science Review,\n Consortium,\n Political,\n June,\n .,\n University of West Bohemia,\n Bohemia,\n Feb,\n attention,\n parties,\n bases,\n populist parties,\n cases,\n lack,\n attention,\n question,\n order,\n successes,\n populist parties,\n backgrounds,\n support,\n al,\n deal,\n parties,\n Van der,\n al,\n .,\n .,\n Zhirkov,\n supporters,\n radical left parties,\n Lubbers,\n Scheepers,\n al,\n .,\n Ramiro,\n bases,\n category,\n populist parties,\n message,\n good people,\n elite,\n Stanley,\n Hawkins,\n Rovira,\n ideologies,\n Taggart,\n parties,\n radical right,\n radical left,\n parties,\n parties,\n message,\n al,\n .,\n analysis,\n bases,\n populist parties,\n parties,\n message,\n radical right,\n knowledge,\n study,\n Pauwels,\n question,\n populist parties,\n cases,\n study,\n bases,\n populist parties,\n countries,\n order,\n question,\n electorates,\n populist parties,\n cases,\n parties,\n countries,\n belief,\n populists,\n position,\n losers,\n globalization,\n politics,\n level,\n al,\n .,\n Kriesi,\n al,\n .,\n Studies,\n voters,\n radical right,\n positions,\n al,\n .,\n al,\n .,\n studies,\n supporters,\n radical left,\n Ramiro,\n conclusions,\n al,\n .,\n question,\n bases,\n kinds,\n populist parties,\n individuals,\n losers,\n globalization,\n attitudes,\n levels,\n trust,\n preferences,\n direct democracy,\n parties,\n analysis,\n data,\n attitudes,\n voting behavior,\n European Social Survey,\n ESS,\n political systems,\n Western Europe,\n bases,\n populist parties,\n case,\n study,\n Spruyt,\n support,\n populism,\n voting behavior,\n case,\n Flanders,\n .,\n University of West Bohemia,\n Bohemia,\n Feb,\n terms of use,\n use,\n implications,\n electorates,\n kinds,\n populist parties,\n voter,\n voters,\n parties,\n base,\n populist parties,\n aim,\n inferences,\n electorates,\n populist parties,\n analysis,\n radical left,\n radical right,\n conclusions,\n literature,\n public debate,\n analyses,\n successes,\n populist parties,\n order,\n rise,\n parties,\n changes,\n supply,\n success,\n populists,\n demand,\n market,\n success,\n instance,\n Marine Le Pen,\n FN,\n France,\n leadership style,\n ideology,\n party,\n party,\n motivations,\n phenomenon,\n populism,\n voters,\n parties,\n Lega Nord,\n Northern League,\n LN,\n Italy,\n Linke,\n Germany,\n paper,\n sections,\n concepts,\n populism,\n reasons,\n populist party,\n part,\n paper,\n case,\n measurements,\n method,\n section,\n part,\n paper,\n literature,\n attention,\n shortcomings,\n study,\n strategies,\n research,\n Populism,\n concept,\n populism,\n concept,\n scholars,\n term,\n populism,\n ideology,\n society,\n groups,\n people,\n elite,\n politics,\n expression,\n people,\n Hawkins,\n populism,\n discourse,\n will,\n people,\n Evil,\n elite,\n relationship,\n Populism,\n ideology,\n ideologies,\n liberalism,\n socialism,\n conservatism,\n ideologies,\n views,\n world,\n ideologies,\n range,\n concepts,\n Populism,\n relationship,\n elite,\n people,\n bases,\n populist parties,\n .,\n University of West Bohemia,\n Bohemia,\n Feb,\n populism,\n set,\n ideas,\n al,\n .,\n Populists,\n people,\n entity,\n will,\n people,\n point,\n departure,\n decision-making,\n Taggart,\n term,\n people,\n nation,\n electorate,\n peasants,\n proletariat,\n Populists,\n elite,\n Barr,\n critique,\n elites,\n elites,\n elites,\n elites,\n Walgrave,\n populism,\n rhetoric,\n style,\n strategy,\n Populism,\n message,\n set,\n ideas,\n al,\n .,\n set,\n ideas,\n populism,\n ideologies,\n Populism,\n chameleon,\n color,\n environment,\n Taggart,\n studies,\n bases,\n radical right,\n radical left,\n inferences,\n electorates,\n populist parties,\n studies,\n conclusions,\n reasons,\n analyses,\n parties,\n message,\n analysis,\n analyses,\n positions,\n voters,\n families,\n attitudes,\n parties,\n attitudes,\n redistribution,\n radical left parties,\n populist,\n al,\n landscape,\n cleavage,\n winners,\n losers,\n globalization,\n winners,\n competition,\n entrepreneurs,\n losers,\n opening,\n borders,\n employees,\n sectors,\n al,\n .,\n transformation,\n landscape,\n terms,\n supply,\n behavior,\n countries,\n parties,\n right,\n package,\n losers,\n economic transformations,\n cultural diversity,\n result,\n positions,\n parties,\n studies,\n .,\n University of West Bohemia,\n Bohemia,\n Feb,\n Bovens,\n Wille,\n parties,\n al,\n .,\n Carter,\n Lubbers,\n al,\n .,\n voters,\n social classes,\n al,\n .,\n al,\n .,\n al,\n attention,\n populist parties,\n radical right,\n losers,\n globalization,\n parties,\n populist parties,\n ideologies,\n populists,\n center,\n citizens,\n elite,\n positions,\n category,\n citizens,\n common man,\n message,\n victims,\n behavior,\n elite,\n incomes,\n ideologies,\n al,\n .,\n Lubbers,\n Scheepers,\n positions,\n radical left parties,\n parties,\n Ramiro,\n working class,\n radical left,\n studies,\n relationship,\n education,\n support,\n education,\n effect,\n voting,\n higher education,\n values,\n radical left parties,\n solidarity,\n equality,\n line,\n Pauwels,\n populist parties,\n Belgium,\n Germany,\n Netherlands,\n education,\n effect,\n position,\n education,\n effect,\n voting,\n hypothesis,\n HYPOTHESIS,\n bases,\n populist parties,\n individuals,\n parties,\n positions,\n lower classes,\n incomes,\n position,\n populist party,\n individuals,\n positions,\n attitudes,\n reason,\n words,\n relationship,\n position,\n inclination,\n attitudes,\n relationship,\n position,\n voting,\n Euroscepticism,\n al,\n losers,\n globalization,\n winners,\n bases,\n populist parties,\n .,\n University of West Bohemia,\n Bohemia,\n Feb,\n instance,\n immigrants,\n countries,\n jobs,\n Harmsen,\n case,\n reasons,\n elite,\n Brussels,\n message,\n Brussels,\n ordinary people,\n member states,\n populists,\n elite,\n elite,\n power,\n EU,\n studies,\n populist parties,\n fringes,\n political spectrum,\n attitudes,\n al,\n .,\n De Vries,\n Edwards,\n al,\n .,\n supporters,\n parties,\n Lubbers,\n Scheepers,\n al,\n .,\n al,\n .,\n Ramiro,\n HYPOTHESIS,\n bases,\n populist parties,\n individuals,\n parties,\n relationship,\n position,\n voting,\n attitudes,\n EU,\n distrust,\n politics,\n studies,\n incomes,\n Bernauer,\n establishment,\n position,\n Research,\n parties,\n politics,\n Betz,\n Bélanger,\n Aarts,\n vote,\n parties,\n attitude,\n politics,\n parties,\n ideas,\n Bergh,\n distrust,\n political system,\n radical right,\n distrust,\n elites,\n system,\n sense,\n message,\n system,\n elites,\n populist,\n distrust,\n protest,\n Bergh,\n protest,\n act,\n political party,\n means,\n distrust,\n extent,\n supporters,\n party,\n protest,\n effect,\n distrust,\n support,\n party,\n literature,\n radical right,\n protest,\n parties,\n message,\n Schumacher,\n support,\n radical right,\n protest,\n ideology,\n party,\n message,\n party,\n .,\n University of West Bohemia,\n Bohemia,\n Feb,\n Support,\n populist party,\n party,\n message,\n protest,\n Ramiro,\n studies,\n distrust,\n effect,\n populists,\n Doyle,\n al,\n .,\n Pauwels,\n hypothesis,\n HYPOTHESIS,\n bases,\n populist parties,\n individuals,\n parties,\n levels,\n trust,\n attitude,\n voting,\n ideas,\n direct democracy,\n populists,\n politicians,\n institutions,\n suspicion,\n innovations,\n Webb,\n silent majority,\n taxes,\n welfare,\n law,\n Pauwels,\n populists,\n primacy,\n people,\n favor,\n tools,\n direct democracy,\n popular initiatives,\n referendums,\n idea,\n political system,\n regime,\n people,\n word,\n Surel,\n Populism,\n direct democracy,\n scholars,\n Taggart,\n party,\n favor,\n direct democracy,\n viewpoint,\n HYPOTHESIS,\n bases,\n populist parties,\n individuals,\n parties,\n favor,\n measures,\n direct democracy,\n Case,\n measurements,\n method,\n electorates,\n populist parties,\n bases,\n populist parties,\n countries,\n parties,\n Freiheitliche Partei Österreichs,\n Freedom Party,\n Austria,\n Austria,\n Vlaams Belang,\n Blok,\n Flemish Interest,\n Pauwels,\n Dedecker,\n Direct,\n List Dedecker,\n Direct,\n LDD,\n Pauwels,\n Belgium,\n Party,\n Swiss People,\n Switzerland,\n Albertazzi,\n Linke,\n Germany,\n March,\n Note,\n attitude,\n relationship,\n position,\n voting,\n reason,\n positions,\n favor,\n direct democracy,\n Van Kessel,\n populist parties,\n Europe,\n bases,\n populist parties,\n .,\n University of West Bohemia,\n Bohemia,\n Feb,\n Perussuomalaiset,\n Finns Party,\n Finland,\n Arter,\n FN,\n France,\n Surel,\n Forza Italia,\n Italy,\n FI,\n M5S,\n Fella,\n Italy,\n Lijst Pim Fortuyn,\n List Pim Fortuyn,\n Van Kessel,\n Socialist Party,\n SP,\n March,\n PVV,\n Vossen,\n Netherlands,\n Fremskrittspartiet,\n Progress Party,\n Norway,\n Sweden Democrats,\n Sweden,\n majority,\n parties,\n parties,\n Linke,\n SP,\n radical left parties,\n LDD,\n FI,\n M5S,\n left,\n radical right,\n bases,\n kinds,\n populist parties,\n criteria,\n case,\n parties,\n country,\n variation,\n parties,\n terms,\n ideologies,\n criteria,\n shortcoming,\n selection,\n cases,\n majority,\n parties,\n populism,\n radicalism,\n reason,\n parties,\n radical parties,\n populist parties,\n Western Europe,\n radical parties,\n Akkerman,\n populist parties,\n ones,\n right,\n FI,\n M5S,\n Italy,\n populist parties,\n case,\n populist parties,\n results,\n parties,\n populism,\n large number,\n radical parties,\n ways,\n electorates,\n parties,\n words,\n pooled analysis,\n regressions,\n party,\n reason,\n effects,\n pooled analysis,\n features,\n types,\n populist parties,\n populism,\n instance,\n pooled analysis,\n attitudes,\n populists,\n number,\n respondents,\n parties,\n parties,\n UKIP,\n United Kingdom,\n Österreich,\n Austria,\n FN,\n Belgium,\n Germany,\n LN,\n Italy,\n Sinn Féin,\n Ireland,\n Nationaldemokratische Partei Deutschlands,\n National Democratic Party,\n Germany,\n Germany,\n National Alliance,\n Italy,\n scholars,\n parties,\n Note,\n radical left parties,\n March,\n Die,\n Germany,\n SP,\n Scottish Socialist Party,\n list,\n populist parties,\n knowledge,\n selection,\n populist parties,\n study,\n voting behavior,\n .,\n University of West Bohemia,\n Bohemia,\n Feb,\n effect,\n nature,\n majority,\n parties,\n analysis,\n types,\n populists,\n pooled analysis,\n answer,\n question,\n bases,\n populist parties,\n cases,\n order,\n question,\n bases,\n populist parties,\n bases,\n populist parties,\n order,\n populism,\n radicalism,\n populist parties,\n section,\n Findings,\n data,\n study,\n ESS,\n variable,\n respondent,\n party,\n election,\n variable,\n respondent,\n populist party,\n parties,\n Parties,\n mainstream,\n Christian,\n respondent,\n party,\n variable,\n variables,\n class,\n scheme,\n al,\n .,\n income,\n deciles,\n employment,\n dummy variable,\n =,\n =,\n Level of education,\n education,\n means,\n categories,\n secondary education,\n secondary education,\n secondary education,\n education,\n ...]"
     },
     "execution_count": 137,
     "metadata": {},
     "output_type": "execute_result"
    }
   ],
   "source": [
    "[lent.span for lent in doc._.linkedEntities]"
   ],
   "metadata": {
    "collapsed": false
   }
  },
  {
   "cell_type": "code",
   "execution_count": 138,
   "outputs": [
    {
     "data": {
      "text/plain": "[(0, What unites the voter bases of populist parties?),\n (1,\n  Comparing the electorates of 15 populist parties  Department of Sociology, Utrecht University, Utrecht, The Netherlands  Various scholars have argued and demonstrated that Western European populist parties have something in common.),\n (3,\n  Yet despite our increasing knowledge about these parties, so far we know only very little about populist voters.),\n (4, Do the voter bases of populist parties also have something in common?),\n (5,\n  To answer that question, I focus on the electorates of 15 prototypical populist parties from 11 Western European countries.),\n (6,\n  I show that, in contrast with widely held beliefs, the electorates of populist parties do not always consist of individuals who are more likely to be ‘losers of globalization’ with Eurosceptic attitudes, low levels of political trust, and preferences for (more) direct democracy.),\n (7, This suggests that ‘the’ populist voter does not exist.  ),\n (8,\n  Keywords: populism; voting behavior; comparative politics  Introduction  There has been an explosion of studies on Western European populism.),\n (9,\n  This is hardly remarkable considering the fact that many countries in this part of the world have recently witnessed the upsurge of one or more allegedly populist parties.),\n (12,\n  The electoral successes of these parties have inspired studies on how populism can best be deﬁned (Weyland, 2001; Mudde, 2004), how the populist upsurge can be explained (Mény and Surel, 2002a; Albertazzi and McDonnell, 2008), and on how it affects public opinion (Akkerman et al., 2014), parties (Pauwels, 2011b), policy making (Albertazzi and Mueller, 2013), and liberal democracy (Mudde and Rovira Kaltwasser, 2012).),\n (13,\n  Almost all of these studies depart from the assumption that although populist parties strongly differ from each other in terms of their main ideologies, their leadership strategies, and the political styles they employ, they also have some core  *),\n (17,\n  Do the voter bases of populist parties also have something in common across cases?),\n (19,\n  After all, in order to understand the recent successes of populist parties coming from diverging ideological backgrounds, it is of essential importance to know what their support bases look like.),\n (21,\n  We know only very little, however, about what the voter bases of the more general category of populist parties have in common.),\n (22,\n  The populist message – which basically argues that the good people is betrayed by an evil elite (Mudde, 2004; Stanley, 2008; Hawkins, 2010; Rovira Kaltwasser, 2012) – can be combined with different ideologies (Taggart, 2000), and can therefore be employed by parties on both the radical right and the radical left.),\n (23,\n  Moreover, also other parties, including mainstream parties, can endorse the populist message (Rooduijn et al., 2014).),\n (24,\n  An analysis of the voter bases of populist parties should therefore focus on all parties that express a populist message – and not only on the radical left and/or radical right.),\n (25,\n  To the best of my knowledge up till now only one study (Pauwels, 2014) has focused on the question what those who vote for Western European populist parties have in common across cases.),\n (26,\n  However, this seminal study focuses on the speciﬁc electoral bases of populist parties in only three countries.),\n (27,\n  In order to answer the more general question what the electorates of populist parties have in common across cases, it is of essential importance to include more parties and countries.  ),\n (28,\n  There exists a widely held belief that those who vote for populists are those with a lower socioeconomic position – the so-called ‘losers of globalization’ – who are radical and dissatisﬁed with politics at the national and EU level (Kriesi et al., 2006; Kriesi et al., 2008).),\n (29,\n  Studies have shown that voters for the populist radical right indeed have low socioeconomic positions (Lubbers et al., 2002) and are Eurosceptic (Werts et al., 2013).),\n (31,\n  This raises the question if the voter bases of different kinds of populist parties have in common that they consist of individuals who are more likely to be ‘losers of globalization’ with Eurosceptic attitudes, low levels of political trust, and preferences for (more) direct democracy than those who vote for mainstream parties.),\n (32,\n  Based on an analysis of individual-level data on socio-demographics, attitudes and voting behavior [coming from the European Social Survey (ESS), 2002–12] in 11 political systems in Western Europe, and concerning the voter bases of 15 prototypical populist parties, I show that this is not the case.  ),\n (34,\n  In a recent study, Elchardus and Spruyt (2016) look at support for populism as well.),\n (38,\n  First, it shows that the electorates of different kinds of populist parties have only very little in common.),\n (39, ‘The’ populist voter does not seem to exist.),\n (40,\n  Second, it implies that we should be very careful when we generalize ﬁndings about voters for either radical left or radical right parties to the voter base of populist parties in general.),\n (41,\n  If the aim is to draw inferences about what the electorates of populist parties in general have in common, it is important to make sure that the analysis is not ‘contaminated’ by speciﬁcities which are unique to only the radical left or the radical right.),\n (43,\n  The Western European public debate is replete with analyses of the increasing successes of populist parties.),\n (45,\n  The success of populists is just as much shaped by the demand side of the electoral market.),\n (47,\n  Moreover, to better understand the wider phenomenon of Western European populism, we should compare these voters with those who vote for parties like the Lega Nord (Northern League, LN) in Italy and Die Linke in Germany.),\n (49,\n  In the following sections I discuss the concepts of populism and the reasons why someone would vote for a populist party.),\n (54,\n  Although the concept of populism is a highly contested concept, scholars increasingly agree about an appropriate deﬁnition of the term.),\n (55,\n  Mudde deﬁnes populism as ‘an ideology that considers society to be ultimately separated into two homogeneous and antagonistic groups, “the pure people” versus “the corrupt elite”, and which argues that politics should be an expression of the volonté générale (general will) of the people’ (2004: 543).),\n (56,\n  Hawkins proposes a highly similar deﬁnition: populism is, according to him, ‘a Manichean discourse that identiﬁes Good with a uniﬁed will of the people and Evil with a conspiring elite’ (2009: 1042).),\n (61, What unites the voter bases of populist parties?),\n (63,\n  University of West Bohemia, on 08 Feb 2022 at 11::, subject to the Cambridge Core terms of use, available at between the good people and the evil elite; and (2) they conceive of populism as a set of ideas (Hawkins et al., 2012).),\n (70,\n  They also share with each other that they perceive populism as more than merely a particular rhetoric, style, or strategy.),\n (72,\n  As a set of ideas, populism can be attached to different ideologies, ranging from left-wing to right-wing and from progressive to conservative.),\n (74,\n  Most previous studies on populist voter bases focused on either the radical right or the radical left.),\n (75,\n  If we aim at making inferences about what the electorates of populist parties in general have in common, however, relying on these studies will lead to ﬂawed conclusions for two main reasons: (1) these analyses are not inclusive enough because many other (non-radical) parties that might also express a populist message are excluded from the analysis; and (2) these analyses are contaminated by the speciﬁc ideological positions of the voters for these particular party families (e.g. anti-immigrant attitudes when it comes to radical right parties and attitudes toward welfare redistribution when it comes to radical left parties).  ),\n (76, Who votes for a populist?  ),\n (80,\n  Kriesi et al. argue that the transformation of the Western European societal landscape is also represented in terms of political supply and electoral behavior: ‘In most countries, it is [the] parties of the populist right who have been able to formulate a highly attractive ideological package for the “losers” of economic transformations and cultural diversity’ (2008: 19).),\n (81,\n  As a result, it might be expected that those with lower socioeconomic positions are likely to vote for populist radical right parties.),\n (84,\n  To start with, it has been shown that those who vote for populist radical right parties tend to be lower educated (Lubbers et al., 2002; Arzheimer, 2009; Bovens and Wille, 2010).),\n (86,\n  However, Kriesi et al. (2006, 2008) pay almost no attention to populist parties that are not radical right.),\n (87,\n  This is remarkable because it might be expected that the losers of globalization are not only inclined to vote for populist radical right parties, but also for populist parties with other ideologies.),\n (88,\n  After all, populists from left, right, and center all claim that they stand up for ‘ordinary citizens’ who, according to them, are neglected and betrayed by a condescending political and/or economic elite.),\n (91,\n  Moreover, Lubbers and Scheepers (2007) have shown that those with lower class positions are more likely to vote for populist radical left parties than for other parties, and Ramiro (2016) has demonstrated that those who identify with the working class are likely to vote for the radical left.),\n (95,\n  In line with this ﬁnding, Pauwels (2014) has shown that when it comes to voting for populist parties in Belgium, Germany, and the Netherlands, education does not exert an overall negative effect.),\n (96,\n  I therefore expect that someone’s socioeconomic position – but not education – has a negative effect on populist voting.),\n (97,\n  This leads to the following hypothesis:  HYPOTHESIS 1: The voter bases of populist parties have in common that they consist of individuals who are more likely than those who vote for mainstream parties to hold lower socioeconomic positions (i.e. to come from lower classes, to be unemployed, and to have lower incomes).  ),\n (98,\n  But why exactly would a low socioeconomic position lead to voting for a populist party?),\n (99,\n  In general, I expect that individuals with lower socioeconomic positions will be more likely to hold certain attitudes, and will, for that reason, be inclined to vote populist.),\n (100,\n  In other words, I expect the relationship between someone’s socioeconomic position and his or her inclination to vote populist to be mediated by various political attitudes.),\n (101,\n  First, the relationship between someone’s socioeconomic position and populist voting might be mediated by Euroscepticism.),\n (102,\n  Kriesi et al. (2006, 2008) argue that the losers of globalization tend to be more Eurosceptic than the winners, because  What unites the voter bases of populist parties?),\n (106,\n  Those who are Eurosceptic might in turn feel attracted to the populist message because populism and Euroscepticism are often closely related (Harmsen, 2010).),\n (107,\n  This might be the case for two reasons: (1) those who despise the political elite in Brussels will tend to agree with the populist message that ‘Brussels’ does not listen to ordinary people in the member states anymore; and (2) Eurosceptics might also vote for populists not because they criticize the European elite, but because they accuse the national political elite of transferring too much power to the EU.),\n (108,\n  Various studies have indeed found that populist parties positioned at the fringes of the political spectrum tend to express Eurosceptic attitudes (Hooghe et al., 2002; De Vries and Edwards, 2009; Halikiopoulou et al., 2012), and that supporters of such parties (both left- and right-wing) tend to be rather Eurosceptic as well (Lubbers and Scheepers, 2007; Werts et al., 2013; Visser et al., 2014; Ramiro, 2016).),\n (109,\n  I therefore expect that:  HYPOTHESIS 2: The voter bases of populist parties have in common that they consist of individuals who are more likely than those who vote for mainstream parties to be Eurosceptic.  ),\n (110,\n  Second, it might be expected that the relationship between someone’s socioeconomic position and populist voting is not only mediated by negative attitudes toward the EU, but also by distrust toward politics in general.),\n (112,\n  Research has also shown that those voting for populist radical right parties tend to be distrustful toward politics (Betz, 1994;),\n (114,\n  It is likely that the politically discontented vote for populist radical right parties because the negative attitude toward politics of these parties is congruent with their own ideas.),\n (115,\n  Bergh (2004) has shown that it is not so much distrust toward the entire political system that predicts voting for the populist radical right, but distrust toward the political elites within that system.),\n (116,\n  This makes sense as the populist message is not directed against the system, but against the corrupted elites.),\n (117,\n  I label those who vote populist out of political distrust ‘protest voters’.),\n (120,\n  Although the literature focuses on voting for the radical right, it could be expected that protest voting also holds for other parties that express a populist message (see Schumacher and Rooduijn, 2013).),\n (123,\n  Support for a left-wing populist party or any other party that expresses such a message might just as well be explained by protest voting (Ramiro, 2016).),\n (124,\n  Some studies have indeed shown that political distrust exerts a positive effect on voting for populists (Doyle, 2011; Hooghe et al., 2013; Pauwels, 2014).),\n (125,\n  This leads to the third hypothesis:  HYPOTHESIS 3: The voter bases of populist parties have in common that they consist of individuals who are more likely than those who vote for mainstream parties to hold low levels of political trust.  ),\n (126,\n  A third political attitude that might positively affect populist voting is someone’s ideas about direct democracy.),\n (127,\n  Because populists regard politicians and representative institutions with suspicion, they often demand institutional innovations (Webb, 2013).),\n (129,\n  It has therefore been claimed that populists want to restore the primacy of the people and are often in favor of introducing more tools of direct democracy, such as popular initiatives and referendums.),\n (132,\n  I therefore expect that:  HYPOTHESIS 4: The voter bases of populist parties have in common that they consist of individuals who are more likely than those who vote for mainstream parties to be in favor of (more) measures of direct democracy.  ),\n (133,\n  Case selection, measurements, and method  To assess what the electorates of populist parties have in common, I focus on the voter bases of 15 prototypical populist parties in 11 Western European countries.  ),\n (134,\n  I included the following parties: the Freiheitliche Partei Österreichs (Freedom Party of Austria) in Austria (see Heinisch, 2008); the Vlaams Blok/Vlaams Belang (Flemish Block/Flemish Interest) (see Pauwels, 2011a) and Lijst Dedecker/Libertair, Direct, Democratisch (List Dedecker/Libertarian, Direct, Democratic, LDD) (see Pauwels, 2010) in Belgium; the Schweizerische Volkspartei (Swiss People’s Party) in Switzerland (see Albertazzi, 2008); Die Linke in Germany (see March, 2007); the  3 Note that it is unlikely that this attitude mediates the relationship between someone’s socioeconomic position and populist voting as there is no reason to expect that those with either higher or lower socioeconomic positions will be more likely to be in favor of (more) direct democracy.),\n (135,\n  4 See for an overview of prototypical populist parties in Europe: Van Kessel (2015).  ),\n (136, What unites the voter bases of populist parties?),\n (139,\n  A large majority of these parties can be categorized as populist radical right parties.),\n (140, Only Die Linke and the SP are populist radical left parties.),\n (142,\n  Because I am interested in assessing what the voter bases of different kinds of populist parties have in common, the most essential criteria for my case selection are: (1) that the included parties are prototypically populist (meaning that most country experts agree that they can be categorized as populist); and (2) that there is sufﬁcient variation between the selected parties in terms of their ideologies.),\n (144,\n  A shortcoming of this selection of cases is that a large majority of parties (12 out of 15) is not only populist but also radical.),\n (145, This makes it rather difﬁcult to disentangle populism and radicalism.),\n (146,\n  The reason that so many of the selected parties are radical parties is that most populist parties in Western Europe are also radical parties (Rooduijn and Akkerman, 2017).),\n (147, However, that does not mean that all populist parties are radical.),\n (149,\n  Excluding such non-radical populist parties from our case selection would be problematic.),\n (150,\n  Not only because we would then miss out on some highly successful populist parties, but also – and this is probably even more important – because the results could then be driven by these parties’ radicalness instead of their populism.),\n (154,\n  The reason is that the found effects in a pooled analysis could be due to some speciﬁc features of certain types of populist parties and not to populism as such.),\n (155,\n  For instance, a pooled analysis shows that those who hold radical attitudes are more likely to vote for  5 Various prototypical populists have not been included because the number of respondents voting for these parties was insufﬁcient.),\n (157,\n  Sinn Féin from Ireland, the Nationaldemokratische Partei Deutschlands (National Democratic Party of Germany) from Germany, and Alleanza Nazionale (National Alliance) from Italy have not been included because scholars do not agree whether or not these parties should be labeled populist.),\n (158,\n  6 Note that most European radical left parties are usually not labeled as populist.),\n (160, 7 The list of included populist parties is not exhaustive.),\n (161,\n  However, to the best of my knowledge, it is the most extensive selection of prototypical populist parties in a study of populist voting behavior.  ),\n (163,\n  University of West Bohemia, on 08 Feb 2022 at 11::, subject to the Cambridge Core terms of use, available at populists.),\n (165,\n  However, those who vote for other types of populists might not be radical at all.),\n (166,\n  Hence, a pooled analysis does not provide us with an answer to the question what unites voter bases of populist parties across cases.),\n (167,\n  Hence, in order to answer the question what unites the voter bases of populist parties in general, we should investigate the voter bases of all the populist parties separately.),\n (168,\n  Second, in order to disentangle populism from radicalism, I have also focused more speciﬁcally on the three selected populist parties that are not radical.),\n (172,\n  I recoded this variable so that a respondent scores a ‘1’ if he or she voted for a populist party and a ‘0’ if he or she voted for one of the mainstream parties.),\n (179,\n  The two items are summed up and  8 I decided to focus on the reference category of mainstream parties because populist parties typically attack the political mainstream.),\n (181,\n  Instead of positioning those who vote for populist parties against those who vote for mainstream parties, I have positioned those who vote for populist parties (1) against those who vote for other parties (0).),\n (183,\n  Not only those who vote for liberal, social democratic, Christian democratic and conservative parties have been included, but also those who vote for other non-populist political parties.),\n (192,\n  The ‘trust in parties’ variable is, however, strongly correlated  What unites the voter bases of populist parties?),\n (200,\n  I conducted separate logistic regression analyses per populist party (DV = voted for either a populist party [1] or a non-populist party [0]), and included year-ﬁxed effects to take into account that respondents are nested within years.),\n (217,\n  Income is negatively related to populist voting in 3 out of the 15 cases, and in none of the cases is employment status signiﬁcantly related to populist voting.),\n (218,\n  This all indicates that Hypothesis 1 should be rejected: the voter bases of different kinds of populist parties have not in common that they consist of individuals who are more likely to hold lower socioeconomic positions.),\n (220,\n  When it comes to voting for other populist parties, however, education does not exert a statistically signiﬁcant effect.),\n (221,\n  Age is negatively related to populist voting in 6 out of the 15 cases under analysis.),\n (222, In only three cases gender is negatively related to populist voting.),\n (223,\n  In 5 out of the 15 cases under study religiosity exerts a negative effect on populist voting.  Table 1.),\n (224,\n  Logistic regression analyses explaining voting for a populist party compared to voting for a mainstream party (with Bonferroni adjustments)  ),\n (238, What unites the voter bases of populist parties?),\n (241,\n  Political distrust turns out to exert a positive and statistically signiﬁcant effect on populist voting in 8 out of the 15 cases under analysis.),\n (244,\n  Those who hold negative attitudes toward immigrants are more likely to vote populist only when it comes to populist radical right parties.),\n (245,\n  Political interest is negatively related to populist voting in none out of the 15 cases under analysis.),\n (254,\n  However, subsequent analyses indicate that even if we neglect the correction for multiple testing, we reach the same substantive conclusion that the voter bases of populist parties do not have much in common.),\n (263, Let us now focus on the three non-radical populist parties only.),\n (270,\n  This suggests that although the effects of sociodemographic variables on populist voting are mediated by political attitudes, these political attitudes cannot fully account for the sociodemographic differences.  ),\n (272,\n  University of West Bohemia, on 08 Feb 2022 at 11::, subject to the Cambridge Core terms of use, available at In the main analyses those who vote for a populist party are compared to mainstream parties.),\n (274,\n  Table 11 in the Online Appendix displays the results of an analysis based on a comparison of those who vote for populist parties with those who vote for non-populist parties – that is, not only mainstream parties, but also other non-populist parties (like, for instance, some single issue, green, or regional parties).),\n (277,\n  We know only very little, however, about the voter bases of the more general category of populist parties (but see Pauwels, 2014).),\n (279,\n  Logistic regression analyses explaining voting for a populist party compared to voting for a mainstream party (without Bonferroni adjustments)  ),\n (295, What unites the voter bases of populist parties?),\n (297,\n  University of West Bohemia, on 08 Feb 2022 at 11::, subject to the Cambridge Core terms of use, available at populist parties on both the left and the right are increasingly successful in Western Europe, and the populist message expressed by these parties has become more and more widespread in the public debate (Rooduijn, 2014).),\n (298,\n  To the best of my knowledge, the present study is the most inclusive investigation of populist voting in Western Europe so far.),\n (299,\n  It has been argued and shown that populist parties have something in common (e.g. Taggart, 2000; Mudde, 2004).),\n (302,\n  Based on an analysis of the electoral bases of 15 prototypical populist parties in 11 Western European democracies I show that this is not the case.),\n (303,\n  There is no consistent proof that the voter bases of populist parties consist of individuals who are more likely to be unemployed, have lower incomes, come from lower classes, or hold a lower education.),\n (304,\n  Moreover, neither Euroscepticism, nor political distrust and attitudes toward direct democracy turn out to be attitudes that unify the voter bases of populist parties.),\n (305,\n  Although the populist set of ideas might easily be combined with these attitudes, the ﬁndings in this paper demonstrate that they need not always go hand in hand (see also Mudde, 2007).),\n (306,\n  It is important to emphasize that 12 out of the 15 selected populist parties are radical parties.),\n (307,\n  However, the ﬁndings suggest that even the voter bases of the three selected non-radical populist parties do not have much in common.),\n (309,\n  The effects of political distrust on voting for a populist party for each wave separately (sociodemographic and attitudinal variables controlled for but not displayed)  Radical right Radical left Other  FPÖ VB SVP DF PS FN LPF PVV FrP SD Linke SP LDD FI M5S  FPÖ = Freiheitliche Partei Österreichs (Freedom Party of Austria); VB = Vlaams Blok/Vlaams Belang (Flemish Block/  Flemish Interest); SVP = Schweizerische Volkspartei (Swiss People’s Party);),\n (311,\n  Displayed are only the effects of political distrust on populist voting.),\n (315,\n  University of West Bohemia, on 08 Feb 2022 at 11::, subject to the Cambridge Core terms of use, available at future studies might well want to focus on non-radical populist parties like, for instance, the M5S. What uniﬁes the voter bases of such parties across cases and over time?),\n (317,\n  Although this study has assessed many of the characteristics that the voter bases of populist parties could be expected to have in common, it could, of course, still be that my analysis has missed some important variables.),\n (318, One of those variables could consist of ‘populist attitudes’.),\n (319,\n  Akkerman et al. (2014) have shown that it is possible to measure populist attitudes at the individual level and that these attitudes also explain preferences for populist parties.),\n (320,\n  Unfortunately, however, because this study is based on the Dutch case only, and as present comparative data on this topic are not available, it was not possible to assess to what extent such populist attitudes explain populist voting across Western European cases.),\n (321,\n  Future investigations might well focus on measuring populist attitudes in other national contexts as well.),\n (322,\n  Moreover, Bakker et al. (2016) have demonstrated that populist voting is related to a person’s personality.),\n (323,\n  They argue that those who score low on the personality trait Agreeableness tend to agree with the anti-establishment message of a populist party and are therefore likely to also vote populist.),\n (325,\n  Future studies might well focus on the question to what extent political distrust mediates the effect of Agreeableness on populist voting.),\n (326,\n  Finally, future studies should also investigate how individuals who vote for populist parties differ from those who abstain from voting.),\n (328,\n  What are the main differences between those who do not vote and those who support a populist party?),\n (330, First, it is the most encompassing study of populist voting to date.),\n (331,\n  Second, it has demonstrated that, despite a widely held belief, the electorates of populist parties do not always consist of individuals who are more likely to be ‘losers of globalization’ with Eurosceptic attitudes, low levels of political trust, and preferences for (more) direct democracy.),\n (332,\n  And third, this study has demonstrated that the voting bases of different kinds of populist parties strongly differ from each other.),\n (333, This suggests that ‘the’ populist voter does not exist.)]"
     },
     "execution_count": 138,
     "metadata": {},
     "output_type": "execute_result"
    }
   ],
   "source": [
    "[(i, sent) for i, sent in enumerate(doc.sents) if re.search(\"populis\", str(sent))]"
   ],
   "metadata": {
    "collapsed": false
   }
  },
  {
   "cell_type": "code",
   "execution_count": 139,
   "outputs": [
    {
     "data": {
      "text/plain": "[(72,\n  As a set of ideas, populism can be attached to different ideologies, ranging from left-wing to right-wing and from progressive to conservative.),\n (108,\n  Various studies have indeed found that populist parties positioned at the fringes of the political spectrum tend to express Eurosceptic attitudes (Hooghe et al., 2002; De Vries and Edwards, 2009; Halikiopoulou et al., 2012), and that supporters of such parties (both left- and right-wing) tend to be rather Eurosceptic as well (Lubbers and Scheepers, 2007; Werts et al., 2013; Visser et al., 2014; Ramiro, 2016).)]"
     },
     "execution_count": 139,
     "metadata": {},
     "output_type": "execute_result"
    }
   ],
   "source": [
    "[(i, sent) for i, sent in enumerate(doc.sents) if re.search(\"right-wing\", str(sent))]"
   ],
   "metadata": {
    "collapsed": false
   }
  },
  {
   "cell_type": "code",
   "execution_count": 140,
   "outputs": [
    {
     "data": {
      "text/plain": "If we aim at making inferences about what the electorates of populist parties in general have in common, however, relying on these studies will lead to ﬂawed conclusions for two main reasons: (1) these analyses are not inclusive enough because many other (non-radical) parties that might also express a populist message are excluded from the analysis; and (2) these analyses are contaminated by the speciﬁc ideological positions of the voters for these particular party families (e.g. anti-immigrant attitudes when it comes to radical right parties and attitudes toward welfare redistribution when it comes to radical left parties).  "
     },
     "execution_count": 140,
     "metadata": {},
     "output_type": "execute_result"
    }
   ],
   "source": [
    "sent = list(doc.sents)[75]\n",
    "sent"
   ],
   "metadata": {
    "collapsed": false
   }
  },
  {
   "cell_type": "markdown",
   "source": [
    "# Filtering lemmata\n",
    "(originally part of the next script...)"
   ],
   "metadata": {
    "collapsed": false
   }
  },
  {
   "cell_type": "code",
   "execution_count": 141,
   "outputs": [],
   "source": [
    "from nltk.stem import WordNetLemmatizer\n",
    "lemmatizer = WordNetLemmatizer()"
   ],
   "metadata": {
    "collapsed": false
   }
  },
  {
   "cell_type": "code",
   "execution_count": 142,
   "outputs": [],
   "source": [
    "# postags = [\"PROPN\", \"NOUN\", \"VERB\", ]\n",
    "def lemmata(spacyobject, filtered=True):\n",
    "    if filtered==True:\n",
    "        lemmata_list = []\n",
    "        for t in spacyobject:\n",
    "            if (t.is_stop==False) & (t.pos_ != \"PROPN\"):\n",
    "                if (t.is_alpha==True):\n",
    "                    lemmata_list.append(t.lemma_)\n",
    "                else:\n",
    "                    if \"-\" in t.text:\n",
    "                        start, hyphen, end = str(t.text).rpartition(\"-\")\n",
    "                        new_lemma = \"-\".join([start, lemmatizer.lemmatize(end)]).lower()\n",
    "                        if len(new_lemma) > 3:\n",
    "                            lemmata_list.append(new_lemma)\n",
    "        return  lemmata_list\n",
    "    else:\n",
    "        return  [t.lemma_ for t in spacyobject]\n",
    "    # return [t.lemma_.lower() if t.pos==\"PROPN\" else t.lemma_ for t in spacyobject if (t.is_stop==False) & (t.is_alpha==True)]"
   ],
   "metadata": {
    "collapsed": false
   }
  },
  {
   "cell_type": "code",
   "execution_count": 143,
   "outputs": [
    {
     "data": {
      "text/plain": "If we aim at making inferences about what the electorates of populist parties in general have in common, however, relying on these studies will lead to ﬂawed conclusions for two main reasons: (1) these analyses are not inclusive enough because many other (non-radical) parties that might also express a populist message are excluded from the analysis; and (2) these analyses are contaminated by the speciﬁc ideological positions of the voters for these particular party families (e.g. anti-immigrant attitudes when it comes to radical right parties and attitudes toward welfare redistribution when it comes to radical left parties).  "
     },
     "execution_count": 143,
     "metadata": {},
     "output_type": "execute_result"
    }
   ],
   "source": [
    "sent"
   ],
   "metadata": {
    "collapsed": false
   }
  },
  {
   "cell_type": "code",
   "execution_count": 144,
   "outputs": [
    {
     "data": {
      "text/plain": "['aim',\n 'make',\n 'inference',\n 'electorate',\n 'populist',\n 'party',\n 'general',\n 'common',\n 'rely',\n 'study',\n 'lead',\n 'ﬂawed',\n 'conclusion',\n 'main',\n 'reason',\n 'analysis',\n 'inclusive',\n 'non-radical',\n 'party',\n 'express',\n 'populist',\n 'message',\n 'exclude',\n 'analysis',\n 'analysis',\n 'contaminate',\n 'speciﬁc',\n 'ideological',\n 'position',\n 'voter',\n 'particular',\n 'party',\n 'family',\n 'anti-immigrant',\n 'attitude',\n 'come',\n 'radical',\n 'right',\n 'party',\n 'attitude',\n 'welfare',\n 'redistribution',\n 'come',\n 'radical',\n 'left',\n 'party']"
     },
     "execution_count": 144,
     "metadata": {},
     "output_type": "execute_result"
    }
   ],
   "source": [
    "lemmata(sent)"
   ],
   "metadata": {
    "collapsed": false
   }
  },
  {
   "cell_type": "markdown",
   "source": [
    "# apply to all documents"
   ],
   "metadata": {
    "collapsed": false
   }
  },
  {
   "cell_type": "code",
   "execution_count": 145,
   "outputs": [
    {
     "data": {
      "text/plain": "['filteredtext_pop_id_249.txt',\n 'filteredtext_pop_id_261.txt',\n 'filteredtext_pop_id_507.txt',\n 'filteredtext_pop_id_513.txt',\n 'filteredtext_pop_id_275.txt',\n 'filteredtext_pop_id_18.txt',\n 'filteredtext_pop_id_24.txt',\n 'filteredtext_pop_id_30.txt',\n 'filteredtext_pop_id_117.txt',\n 'filteredtext_pop_id_103.txt']"
     },
     "execution_count": 145,
     "metadata": {},
     "output_type": "execute_result"
    }
   ],
   "source": [
    "filenames = [f for f in os.listdir(\"../data/large_data/articles_filteredtexts\") if \".txt\" in f]\n",
    "filenames[:10]"
   ],
   "metadata": {
    "collapsed": false
   }
  },
  {
   "cell_type": "code",
   "execution_count": 146,
   "outputs": [
    {
     "data": {
      "text/plain": "0"
     },
     "execution_count": 146,
     "metadata": {},
     "output_type": "execute_result"
    }
   ],
   "source": [
    "destfiles_ready = [] # [f for f in os.listdir(\"../data/large_data/articles_lemmata_min\") if \".txt\" in f]\n",
    "len(destfiles_ready)"
   ],
   "metadata": {
    "collapsed": false
   }
  },
  {
   "cell_type": "code",
   "execution_count": 147,
   "outputs": [
    {
     "data": {
      "text/plain": "[]"
     },
     "execution_count": 147,
     "metadata": {},
     "output_type": "execute_result"
    }
   ],
   "source": [
    "destfiles_ready[:5]"
   ],
   "metadata": {
    "collapsed": false
   }
  },
  {
   "cell_type": "code",
   "execution_count": 148,
   "outputs": [
    {
     "data": {
      "text/plain": "539"
     },
     "execution_count": 148,
     "metadata": {},
     "output_type": "execute_result"
    }
   ],
   "source": [
    "len(filenames)"
   ],
   "metadata": {
    "collapsed": false
   }
  },
  {
   "cell_type": "code",
   "execution_count": 149,
   "outputs": [],
   "source": [
    "#!mkdir ../data/large_data/articles_spacydocs\n",
    "#!mkdir ../data/large_data/articles_lemmata_min"
   ],
   "metadata": {
    "collapsed": false
   }
  },
  {
   "cell_type": "code",
   "execution_count": 150,
   "outputs": [
    {
     "name": "stdout",
     "output_type": "stream",
     "text": [
      "lemmata_pop_id_249.txt\n",
      "lemmata_pop_id_261.txt\n",
      "lemmata_pop_id_507.txt\n",
      "lemmata_pop_id_513.txt\n",
      "lemmata_pop_id_275.txt\n",
      "lemmata_pop_id_18.txt\n",
      "lemmata_pop_id_24.txt\n",
      "lemmata_pop_id_30.txt\n",
      "lemmata_pop_id_117.txt\n",
      "lemmata_pop_id_103.txt\n",
      "lemmata_pop_id_498.txt\n",
      "lemmata_pop_id_329.txt\n",
      "lemmata_pop_id_315.txt\n",
      "lemmata_pop_id_473.txt\n",
      "lemmata_pop_id_467.txt\n",
      "lemmata_pop_id_301.txt\n",
      "lemmata_pop_id_466.txt\n",
      "lemmata_pop_id_300.txt\n",
      "lemmata_pop_id_314.txt\n",
      "lemmata_pop_id_472.txt\n",
      "lemmata_pop_id_328.txt\n",
      "lemmata_pop_id_499.txt\n",
      "lemmata_pop_id_102.txt\n",
      "lemmata_pop_id_116.txt\n",
      "lemmata_pop_id_31.txt\n",
      "lemmata_pop_id_25.txt\n",
      "lemmata_pop_id_19.txt\n",
      "lemmata_pop_id_512.txt\n",
      "lemmata_pop_id_274.txt\n",
      "lemmata_pop_id_260.txt\n",
      "lemmata_pop_id_506.txt\n",
      "lemmata_pop_id_248.txt\n",
      "lemmata_pop_id_289.txt\n",
      "lemmata_pop_id_538.txt\n",
      "lemmata_pop_id_276.txt\n",
      "lemmata_pop_id_510.txt\n",
      "lemmata_pop_id_504.txt\n",
      "lemmata_pop_id_262.txt\n",
      "lemmata_pop_id_33.txt\n",
      "lemmata_pop_id_27.txt\n",
      "lemmata_pop_id_128.txt\n",
      "lemmata_pop_id_100.txt\n",
      "lemmata_pop_id_114.txt\n",
      "lemmata_pop_id_458.txt\n",
      "lemmata_pop_id_302.txt\n",
      "lemmata_pop_id_464.txt\n",
      "lemmata_pop_id_470.txt\n",
      "lemmata_pop_id_316.txt\n",
      "lemmata_pop_id_471.txt\n",
      "lemmata_pop_id_317.txt\n",
      "lemmata_pop_id_303.txt\n",
      "lemmata_pop_id_465.txt\n",
      "lemmata_pop_id_459.txt\n",
      "lemmata_pop_id_115.txt\n",
      "lemmata_pop_id_101.txt\n",
      "lemmata_pop_id_129.txt\n",
      "lemmata_pop_id_26.txt\n",
      "lemmata_pop_id_32.txt\n",
      "lemmata_pop_id_505.txt\n",
      "lemmata_pop_id_263.txt\n",
      "lemmata_pop_id_277.txt\n",
      "lemmata_pop_id_511.txt\n",
      "lemmata_pop_id_539.txt\n",
      "lemmata_pop_id_288.txt\n",
      "lemmata_pop_id_298.txt\n",
      "lemmata_pop_id_515.txt\n",
      "lemmata_pop_id_273.txt\n",
      "lemmata_pop_id_267.txt\n",
      "lemmata_pop_id_501.txt\n",
      "lemmata_pop_id_529.txt\n",
      "lemmata_pop_id_36.txt\n",
      "lemmata_pop_id_22.txt\n",
      "lemmata_pop_id_105.txt\n",
      "lemmata_pop_id_111.txt\n",
      "lemmata_pop_id_139.txt\n",
      "lemmata_pop_id_307.txt\n",
      "lemmata_pop_id_313.txt\n",
      "lemmata_pop_id_475.txt\n",
      "lemmata_pop_id_449.txt\n",
      "lemmata_pop_id_448.txt\n",
      "lemmata_pop_id_312.txt\n",
      "lemmata_pop_id_474.txt\n",
      "lemmata_pop_id_460.txt\n",
      "lemmata_pop_id_306.txt\n",
      "lemmata_pop_id_138.txt\n",
      "lemmata_pop_id_110.txt\n",
      "lemmata_pop_id_104.txt\n",
      "lemmata_pop_id_23.txt\n",
      "lemmata_pop_id_37.txt\n",
      "lemmata_pop_id_528.txt\n",
      "lemmata_pop_id_266.txt\n",
      "lemmata_pop_id_500.txt\n",
      "lemmata_pop_id_514.txt\n",
      "lemmata_pop_id_272.txt\n",
      "lemmata_pop_id_299.txt\n",
      "lemmata_pop_id_502.txt\n",
      "lemmata_pop_id_264.txt\n",
      "lemmata_pop_id_270.txt\n",
      "lemmata_pop_id_516.txt\n",
      "lemmata_pop_id_258.txt\n",
      "lemmata_pop_id_21.txt\n",
      "lemmata_pop_id_35.txt\n",
      "lemmata_pop_id_112.txt\n",
      "lemmata_pop_id_106.txt\n",
      "lemmata_pop_id_489.txt\n",
      "lemmata_pop_id_476.txt\n",
      "lemmata_pop_id_310.txt\n",
      "lemmata_pop_id_304.txt\n",
      "lemmata_pop_id_462.txt\n",
      "lemmata_pop_id_338.txt\n",
      "lemmata_pop_id_339.txt\n",
      "lemmata_pop_id_305.txt\n",
      "lemmata_pop_id_463.txt\n",
      "lemmata_pop_id_477.txt\n",
      "lemmata_pop_id_311.txt\n",
      "lemmata_pop_id_488.txt\n",
      "lemmata_pop_id_107.txt\n",
      "lemmata_pop_id_113.txt\n",
      "lemmata_pop_id_34.txt\n",
      "lemmata_pop_id_20.txt\n",
      "lemmata_pop_id_259.txt\n",
      "lemmata_pop_id_271.txt\n",
      "lemmata_pop_id_517.txt\n",
      "lemmata_pop_id_503.txt\n",
      "lemmata_pop_id_265.txt\n",
      "lemmata_pop_id_3.txt\n",
      "lemmata_pop_id_202.txt\n",
      "lemmata_pop_id_216.txt\n",
      "lemmata_pop_id_84.txt\n",
      "lemmata_pop_id_90.txt\n",
      "lemmata_pop_id_47.txt\n",
      "lemmata_pop_id_53.txt\n",
      "lemmata_pop_id_148.txt\n",
      "lemmata_pop_id_174.txt\n",
      "lemmata_pop_id_160.txt\n",
      "lemmata_pop_id_389.txt\n",
      "lemmata_pop_id_438.txt\n",
      "lemmata_pop_id_410.txt\n",
      "lemmata_pop_id_376.txt\n",
      "lemmata_pop_id_362.txt\n",
      "lemmata_pop_id_404.txt\n",
      "lemmata_pop_id_363.txt\n",
      "lemmata_pop_id_405.txt\n",
      "lemmata_pop_id_411.txt\n",
      "lemmata_pop_id_377.txt\n",
      "lemmata_pop_id_439.txt\n",
      "lemmata_pop_id_388.txt\n",
      "lemmata_pop_id_161.txt\n",
      "lemmata_pop_id_175.txt\n",
      "lemmata_pop_id_149.txt\n",
      "lemmata_pop_id_46.txt\n",
      "lemmata_pop_id_91.txt\n",
      "lemmata_pop_id_85.txt\n",
      "lemmata_pop_id_217.txt\n",
      "lemmata_pop_id_203.txt\n",
      "lemmata_pop_id_2.txt\n",
      "lemmata_pop_id_229.txt\n",
      "lemmata_pop_id_0.txt\n",
      "lemmata_pop_id_215.txt\n",
      "lemmata_pop_id_201.txt\n",
      "lemmata_pop_id_93.txt\n",
      "lemmata_pop_id_87.txt\n",
      "lemmata_pop_id_78.txt\n",
      "lemmata_pop_id_50.txt\n",
      "lemmata_pop_id_44.txt\n",
      "lemmata_pop_id_188.txt\n",
      "lemmata_pop_id_163.txt\n",
      "lemmata_pop_id_177.txt\n",
      "lemmata_pop_id_349.txt\n",
      "lemmata_pop_id_407.txt\n",
      "lemmata_pop_id_361.txt\n",
      "lemmata_pop_id_375.txt\n",
      "lemmata_pop_id_413.txt\n",
      "lemmata_pop_id_374.txt\n",
      "lemmata_pop_id_412.txt\n",
      "lemmata_pop_id_406.txt\n",
      "lemmata_pop_id_360.txt\n",
      "lemmata_pop_id_348.txt\n",
      "lemmata_pop_id_176.txt\n",
      "lemmata_pop_id_162.txt\n",
      "lemmata_pop_id_189.txt\n",
      "lemmata_pop_id_45.txt\n",
      "lemmata_pop_id_51.txt\n",
      "lemmata_pop_id_79.txt\n",
      "lemmata_pop_id_86.txt\n",
      "lemmata_pop_id_92.txt\n",
      "lemmata_pop_id_200.txt\n",
      "lemmata_pop_id_214.txt\n",
      "lemmata_pop_id_1.txt\n",
      "lemmata_pop_id_228.txt\n",
      "lemmata_pop_id_210.txt\n",
      "lemmata_pop_id_204.txt\n",
      "lemmata_pop_id_238.txt\n",
      "lemmata_pop_id_5.txt\n",
      "lemmata_pop_id_96.txt\n",
      "lemmata_pop_id_82.txt\n",
      "lemmata_pop_id_55.txt\n",
      "lemmata_pop_id_41.txt\n",
      "lemmata_pop_id_69.txt\n",
      "lemmata_pop_id_199.txt\n",
      "lemmata_pop_id_166.txt\n",
      "lemmata_pop_id_172.txt\n",
      "lemmata_pop_id_364.txt\n",
      "lemmata_pop_id_402.txt\n",
      "lemmata_pop_id_416.txt\n",
      "lemmata_pop_id_370.txt\n",
      "lemmata_pop_id_358.txt\n",
      "lemmata_pop_id_359.txt\n",
      "lemmata_pop_id_417.txt\n",
      "lemmata_pop_id_371.txt\n",
      "lemmata_pop_id_365.txt\n",
      "lemmata_pop_id_403.txt\n",
      "lemmata_pop_id_173.txt\n",
      "lemmata_pop_id_167.txt\n",
      "lemmata_pop_id_198.txt\n",
      "lemmata_pop_id_68.txt\n",
      "lemmata_pop_id_40.txt\n",
      "lemmata_pop_id_54.txt\n",
      "lemmata_pop_id_83.txt\n",
      "lemmata_pop_id_97.txt\n",
      "lemmata_pop_id_4.txt\n",
      "lemmata_pop_id_239.txt\n",
      "lemmata_pop_id_205.txt\n",
      "lemmata_pop_id_211.txt\n",
      "lemmata_pop_id_207.txt\n",
      "lemmata_pop_id_213.txt\n",
      "lemmata_pop_id_6.txt\n",
      "lemmata_pop_id_81.txt\n",
      "lemmata_pop_id_95.txt\n",
      "lemmata_pop_id_42.txt\n",
      "lemmata_pop_id_56.txt\n",
      "lemmata_pop_id_171.txt\n",
      "lemmata_pop_id_165.txt\n",
      "lemmata_pop_id_159.txt\n",
      "lemmata_pop_id_398.txt\n",
      "lemmata_pop_id_373.txt\n",
      "lemmata_pop_id_415.txt\n",
      "lemmata_pop_id_401.txt\n",
      "lemmata_pop_id_367.txt\n",
      "lemmata_pop_id_429.txt\n",
      "lemmata_pop_id_428.txt\n",
      "lemmata_pop_id_400.txt\n",
      "lemmata_pop_id_366.txt\n",
      "lemmata_pop_id_372.txt\n",
      "lemmata_pop_id_414.txt\n",
      "lemmata_pop_id_399.txt\n",
      "lemmata_pop_id_158.txt\n",
      "lemmata_pop_id_164.txt\n",
      "lemmata_pop_id_170.txt\n",
      "lemmata_pop_id_57.txt\n",
      "lemmata_pop_id_43.txt\n",
      "lemmata_pop_id_94.txt\n",
      "lemmata_pop_id_80.txt\n",
      "lemmata_pop_id_7.txt\n",
      "lemmata_pop_id_212.txt\n",
      "lemmata_pop_id_206.txt\n",
      "lemmata_pop_id_223.txt\n",
      "lemmata_pop_id_237.txt\n",
      "lemmata_pop_id_99.txt\n",
      "lemmata_pop_id_66.txt\n",
      "lemmata_pop_id_72.txt\n",
      "lemmata_pop_id_196.txt\n",
      "lemmata_pop_id_182.txt\n",
      "lemmata_pop_id_169.txt\n",
      "lemmata_pop_id_155.txt\n",
      "lemmata_pop_id_141.txt\n",
      "lemmata_pop_id_394.txt\n",
      "lemmata_pop_id_380.txt\n",
      "lemmata_pop_id_419.txt\n",
      "lemmata_pop_id_431.txt\n",
      "lemmata_pop_id_357.txt\n",
      "lemmata_pop_id_343.txt\n",
      "lemmata_pop_id_425.txt\n",
      "lemmata_pop_id_342.txt\n",
      "lemmata_pop_id_424.txt\n",
      "lemmata_pop_id_430.txt\n",
      "lemmata_pop_id_356.txt\n",
      "lemmata_pop_id_418.txt\n",
      "lemmata_pop_id_381.txt\n",
      "lemmata_pop_id_395.txt\n",
      "lemmata_pop_id_140.txt\n",
      "lemmata_pop_id_154.txt\n",
      "lemmata_pop_id_168.txt\n",
      "lemmata_pop_id_183.txt\n",
      "lemmata_pop_id_197.txt\n",
      "lemmata_pop_id_73.txt\n",
      "lemmata_pop_id_67.txt\n",
      "lemmata_pop_id_98.txt\n",
      "lemmata_pop_id_236.txt\n",
      "lemmata_pop_id_222.txt\n",
      "lemmata_pop_id_208.txt\n",
      "lemmata_pop_id_234.txt\n",
      "lemmata_pop_id_9.txt\n",
      "lemmata_pop_id_220.txt\n",
      "lemmata_pop_id_59.txt\n",
      "lemmata_pop_id_71.txt\n",
      "lemmata_pop_id_65.txt\n",
      "lemmata_pop_id_181.txt\n",
      "lemmata_pop_id_195.txt\n",
      "lemmata_pop_id_142.txt\n",
      "lemmata_pop_id_156.txt\n",
      "lemmata_pop_id_383.txt\n",
      "lemmata_pop_id_397.txt\n",
      "lemmata_pop_id_368.txt\n",
      "lemmata_pop_id_426.txt\n",
      "lemmata_pop_id_340.txt\n",
      "lemmata_pop_id_354.txt\n",
      "lemmata_pop_id_432.txt\n",
      "lemmata_pop_id_355.txt\n",
      "lemmata_pop_id_433.txt\n",
      "lemmata_pop_id_427.txt\n",
      "lemmata_pop_id_341.txt\n",
      "lemmata_pop_id_369.txt\n",
      "lemmata_pop_id_396.txt\n",
      "lemmata_pop_id_382.txt\n",
      "lemmata_pop_id_157.txt\n",
      "lemmata_pop_id_143.txt\n",
      "lemmata_pop_id_194.txt\n",
      "lemmata_pop_id_180.txt\n",
      "lemmata_pop_id_64.txt\n",
      "lemmata_pop_id_70.txt\n",
      "lemmata_pop_id_58.txt\n",
      "lemmata_pop_id_221.txt\n",
      "lemmata_pop_id_8.txt\n",
      "lemmata_pop_id_235.txt\n",
      "lemmata_pop_id_209.txt\n",
      "lemmata_pop_id_231.txt\n",
      "lemmata_pop_id_225.txt\n",
      "lemmata_pop_id_219.txt\n",
      "lemmata_pop_id_74.txt\n",
      "lemmata_pop_id_60.txt\n",
      "lemmata_pop_id_48.txt\n",
      "lemmata_pop_id_184.txt\n",
      "lemmata_pop_id_190.txt\n",
      "lemmata_pop_id_147.txt\n",
      "lemmata_pop_id_153.txt\n",
      "lemmata_pop_id_386.txt\n",
      "lemmata_pop_id_392.txt\n",
      "lemmata_pop_id_345.txt\n",
      "lemmata_pop_id_423.txt\n",
      "lemmata_pop_id_437.txt\n",
      "lemmata_pop_id_351.txt\n",
      "lemmata_pop_id_379.txt\n",
      "lemmata_pop_id_378.txt\n",
      "lemmata_pop_id_436.txt\n",
      "lemmata_pop_id_350.txt\n",
      "lemmata_pop_id_344.txt\n",
      "lemmata_pop_id_422.txt\n",
      "lemmata_pop_id_393.txt\n",
      "lemmata_pop_id_387.txt\n",
      "lemmata_pop_id_152.txt\n",
      "lemmata_pop_id_146.txt\n",
      "lemmata_pop_id_191.txt\n",
      "lemmata_pop_id_185.txt\n",
      "lemmata_pop_id_49.txt\n",
      "lemmata_pop_id_61.txt\n",
      "lemmata_pop_id_75.txt\n",
      "lemmata_pop_id_218.txt\n",
      "lemmata_pop_id_224.txt\n",
      "lemmata_pop_id_230.txt\n",
      "lemmata_pop_id_226.txt\n",
      "lemmata_pop_id_540.txt\n",
      "lemmata_pop_id_232.txt\n",
      "lemmata_pop_id_88.txt\n",
      "lemmata_pop_id_63.txt\n",
      "lemmata_pop_id_77.txt\n",
      "lemmata_pop_id_193.txt\n",
      "lemmata_pop_id_187.txt\n",
      "lemmata_pop_id_150.txt\n",
      "lemmata_pop_id_144.txt\n",
      "lemmata_pop_id_178.txt\n",
      "lemmata_pop_id_391.txt\n",
      "lemmata_pop_id_385.txt\n",
      "lemmata_pop_id_352.txt\n",
      "lemmata_pop_id_434.txt\n",
      "lemmata_pop_id_420.txt\n",
      "lemmata_pop_id_346.txt\n",
      "lemmata_pop_id_408.txt\n",
      "lemmata_pop_id_409.txt\n",
      "lemmata_pop_id_421.txt\n",
      "lemmata_pop_id_347.txt\n",
      "lemmata_pop_id_353.txt\n",
      "lemmata_pop_id_435.txt\n",
      "lemmata_pop_id_384.txt\n",
      "lemmata_pop_id_390.txt\n",
      "lemmata_pop_id_179.txt\n",
      "lemmata_pop_id_145.txt\n",
      "lemmata_pop_id_151.txt\n",
      "lemmata_pop_id_186.txt\n",
      "lemmata_pop_id_192.txt\n",
      "lemmata_pop_id_76.txt\n",
      "lemmata_pop_id_62.txt\n",
      "lemmata_pop_id_89.txt\n",
      "lemmata_pop_id_233.txt\n",
      "lemmata_pop_id_227.txt\n",
      "lemmata_pop_id_283.txt\n",
      "lemmata_pop_id_297.txt\n",
      "lemmata_pop_id_268.txt\n",
      "lemmata_pop_id_240.txt\n",
      "lemmata_pop_id_526.txt\n",
      "lemmata_pop_id_532.txt\n",
      "lemmata_pop_id_254.txt\n",
      "lemmata_pop_id_39.txt\n",
      "lemmata_pop_id_11.txt\n",
      "lemmata_pop_id_136.txt\n",
      "lemmata_pop_id_122.txt\n",
      "lemmata_pop_id_491.txt\n",
      "lemmata_pop_id_485.txt\n",
      "lemmata_pop_id_308.txt\n",
      "lemmata_pop_id_334.txt\n",
      "lemmata_pop_id_452.txt\n",
      "lemmata_pop_id_446.txt\n",
      "lemmata_pop_id_320.txt\n",
      "lemmata_pop_id_447.txt\n",
      "lemmata_pop_id_321.txt\n",
      "lemmata_pop_id_335.txt\n",
      "lemmata_pop_id_453.txt\n",
      "lemmata_pop_id_309.txt\n",
      "lemmata_pop_id_484.txt\n",
      "lemmata_pop_id_490.txt\n",
      "lemmata_pop_id_123.txt\n",
      "lemmata_pop_id_137.txt\n",
      "lemmata_pop_id_10.txt\n",
      "lemmata_pop_id_38.txt\n",
      "lemmata_pop_id_533.txt\n",
      "lemmata_pop_id_255.txt\n",
      "lemmata_pop_id_241.txt\n",
      "lemmata_pop_id_527.txt\n",
      "lemmata_pop_id_269.txt\n",
      "lemmata_pop_id_296.txt\n",
      "lemmata_pop_id_282.txt\n",
      "lemmata_pop_id_294.txt\n",
      "lemmata_pop_id_280.txt\n",
      "lemmata_pop_id_519.txt\n",
      "lemmata_pop_id_257.txt\n",
      "lemmata_pop_id_531.txt\n",
      "lemmata_pop_id_525.txt\n",
      "lemmata_pop_id_243.txt\n",
      "lemmata_pop_id_12.txt\n",
      "lemmata_pop_id_109.txt\n",
      "lemmata_pop_id_121.txt\n",
      "lemmata_pop_id_135.txt\n",
      "lemmata_pop_id_486.txt\n",
      "lemmata_pop_id_492.txt\n",
      "lemmata_pop_id_479.txt\n",
      "lemmata_pop_id_323.txt\n",
      "lemmata_pop_id_445.txt\n",
      "lemmata_pop_id_451.txt\n",
      "lemmata_pop_id_337.txt\n",
      "lemmata_pop_id_450.txt\n",
      "lemmata_pop_id_336.txt\n",
      "lemmata_pop_id_322.txt\n",
      "lemmata_pop_id_444.txt\n",
      "lemmata_pop_id_478.txt\n",
      "lemmata_pop_id_493.txt\n",
      "lemmata_pop_id_487.txt\n",
      "lemmata_pop_id_134.txt\n",
      "lemmata_pop_id_120.txt\n",
      "lemmata_pop_id_108.txt\n",
      "lemmata_pop_id_13.txt\n",
      "lemmata_pop_id_524.txt\n",
      "lemmata_pop_id_242.txt\n",
      "lemmata_pop_id_256.txt\n",
      "lemmata_pop_id_530.txt\n",
      "lemmata_pop_id_518.txt\n",
      "lemmata_pop_id_281.txt\n",
      "lemmata_pop_id_295.txt\n",
      "lemmata_pop_id_291.txt\n",
      "lemmata_pop_id_285.txt\n",
      "lemmata_pop_id_534.txt\n",
      "lemmata_pop_id_252.txt\n",
      "lemmata_pop_id_246.txt\n",
      "lemmata_pop_id_520.txt\n",
      "lemmata_pop_id_508.txt\n",
      "lemmata_pop_id_17.txt\n",
      "lemmata_pop_id_124.txt\n",
      "lemmata_pop_id_130.txt\n",
      "lemmata_pop_id_118.txt\n",
      "lemmata_pop_id_483.txt\n",
      "lemmata_pop_id_497.txt\n",
      "lemmata_pop_id_440.txt\n",
      "lemmata_pop_id_326.txt\n",
      "lemmata_pop_id_332.txt\n",
      "lemmata_pop_id_454.txt\n",
      "lemmata_pop_id_469.txt\n",
      "lemmata_pop_id_333.txt\n",
      "lemmata_pop_id_455.txt\n",
      "lemmata_pop_id_441.txt\n",
      "lemmata_pop_id_327.txt\n",
      "lemmata_pop_id_496.txt\n",
      "lemmata_pop_id_482.txt\n",
      "lemmata_pop_id_119.txt\n",
      "lemmata_pop_id_131.txt\n",
      "lemmata_pop_id_125.txt\n",
      "lemmata_pop_id_16.txt\n",
      "lemmata_pop_id_509.txt\n",
      "lemmata_pop_id_247.txt\n",
      "lemmata_pop_id_521.txt\n",
      "lemmata_pop_id_535.txt\n",
      "lemmata_pop_id_253.txt\n",
      "lemmata_pop_id_284.txt\n",
      "lemmata_pop_id_290.txt\n",
      "lemmata_pop_id_286.txt\n",
      "lemmata_pop_id_292.txt\n",
      "lemmata_pop_id_523.txt\n",
      "lemmata_pop_id_245.txt\n",
      "lemmata_pop_id_251.txt\n",
      "lemmata_pop_id_537.txt\n",
      "lemmata_pop_id_279.txt\n",
      "lemmata_pop_id_14.txt\n",
      "lemmata_pop_id_28.txt\n",
      "lemmata_pop_id_133.txt\n",
      "lemmata_pop_id_127.txt\n",
      "lemmata_pop_id_494.txt\n",
      "lemmata_pop_id_480.txt\n",
      "lemmata_pop_id_457.txt\n",
      "lemmata_pop_id_331.txt\n",
      "lemmata_pop_id_325.txt\n",
      "lemmata_pop_id_443.txt\n",
      "lemmata_pop_id_319.txt\n",
      "lemmata_pop_id_318.txt\n",
      "lemmata_pop_id_324.txt\n",
      "lemmata_pop_id_442.txt\n",
      "lemmata_pop_id_456.txt\n",
      "lemmata_pop_id_330.txt\n",
      "lemmata_pop_id_481.txt\n",
      "lemmata_pop_id_495.txt\n",
      "lemmata_pop_id_126.txt\n",
      "lemmata_pop_id_132.txt\n",
      "lemmata_pop_id_29.txt\n",
      "lemmata_pop_id_15.txt\n",
      "lemmata_pop_id_278.txt\n",
      "lemmata_pop_id_250.txt\n",
      "lemmata_pop_id_536.txt\n",
      "lemmata_pop_id_522.txt\n",
      "lemmata_pop_id_244.txt\n",
      "lemmata_pop_id_293.txt\n",
      "lemmata_pop_id_287.txt\n",
      "CPU times: user 15min 6s, sys: 31.2 s, total: 15min 37s\n",
      "Wall time: 16min 30s\n"
     ]
    }
   ],
   "source": [
    "%%time\n",
    "sourcepath = \"../data/large_data/articles_filteredtexts/\"\n",
    "#destpath = \"../data/large_data/articles_spacydocs/\"\n",
    "destpath = \"../data/large_data/articles_lemmata_min/\"\n",
    "\n",
    "issues = []\n",
    "for filename in filenames:\n",
    "    destfile_name = filename.replace(\"filteredtext\", \"lemmata\")\n",
    "    if destfile_name not in destfiles_ready:\n",
    "        try:\n",
    "            filepath = sourcepath + filename\n",
    "            with open(filepath, \"r\") as f:\n",
    "                filteredtext = f.read()\n",
    "            filteredtext = filteredtext.replace(\"\\n\", \" \")\n",
    "            doc = nlp_md(filteredtext)\n",
    "            lemmatized_sents = [\" \".join(lemmata(sent)) for sent in doc.sents]\n",
    "            with open(destpath + destfile_name, \"w\") as f:\n",
    "                f.writelines(\"\\n\".join(lemmatized_sents))\n",
    "            print(destfile_name)\n",
    "        except:\n",
    "            issues.append(filename)"
   ],
   "metadata": {
    "collapsed": false
   }
  },
  {
   "cell_type": "code",
   "execution_count": 152,
   "outputs": [],
   "source": [
    "filename = issues[0]"
   ],
   "metadata": {
    "collapsed": false
   }
  },
  {
   "cell_type": "code",
   "execution_count": 163,
   "outputs": [
    {
     "name": "stdout",
     "output_type": "stream",
     "text": [
      "lemmata_pop_id_468.txt\n"
     ]
    }
   ],
   "source": [
    "filepath = sourcepath + filename\n",
    "destfile_name = filename.replace(\"filteredtext\", \"lemmata\")\n",
    "with open(filepath, \"r\") as f:\n",
    "    filteredtext = f.read()\n",
    "filteredtext = filteredtext.replace(\"\\n\", \" \")\n",
    "doc = nlp_md(filteredtext)\n",
    "lemmatized_sents = [\" \".join(lemmata(sent)) for sent in doc.sents]\n",
    "with open(destpath + destfile_name, \"w\") as f:\n",
    "    f.writelines(\"\\n\".join(lemmatized_sents))\n",
    "print(destfile_name)"
   ],
   "metadata": {
    "collapsed": false
   }
  },
  {
   "cell_type": "code",
   "execution_count": null,
   "outputs": [],
   "source": [],
   "metadata": {
    "collapsed": false
   }
  }
 ],
 "metadata": {
  "kernelspec": {
   "name": "conda_base",
   "language": "python",
   "display_name": "conda_base"
  },
  "language_info": {
   "codemirror_mode": {
    "name": "ipython",
    "version": 2
   },
   "file_extension": ".py",
   "mimetype": "text/x-python",
   "name": "python",
   "nbconvert_exporter": "python",
   "pygments_lexer": "ipython2",
   "version": "2.7.6"
  }
 },
 "nbformat": 4,
 "nbformat_minor": 0
}
