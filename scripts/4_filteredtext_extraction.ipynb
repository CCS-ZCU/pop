{
 "cells": [
  {
   "cell_type": "code",
   "execution_count": 40,
   "metadata": {
    "collapsed": true
   },
   "outputs": [],
   "source": [
    "import re\n",
    "import pandas as pd\n",
    "import pickle\n",
    "import os"
   ]
  },
  {
   "cell_type": "code",
   "execution_count": 2,
   "outputs": [
    {
     "data": {
      "text/plain": "   year                 authors                            journal  \\\n0  2011              Bos et al.            Political Communication   \n1  2019         Blassnig et al.            Political Communication   \n2  2017                Caramani  American Political Science Review   \n3  2020  Wuttke,Schimpf, Schoen  American Political Science Review   \n4  2014                   Treib  Journal of European Public Policy   \n\n                                               title     type pdf? keywords  \\\n0  How the Media Shape Perceptions of Right-Wing ...  article    y        y   \n1  Hitting a Nerve: Populist News Articles Lead t...  article    y        y   \n2  Will vs. Reason: The Populist and Technocratic...  article    y        y   \n3  When the Whole Is Greater than the Sum of Its ...  article    y        y   \n4  The voter says no, but nobody listens: causes ...  article    y        y   \n\n  keywords_online? notes                                           filepath  \\\n0                y  None  [Political Communication/2011 - Bos et al. - H...   \n1                y  None  [Political Communication/2019 - Blassing et al...   \n2             None  None  [American Political Science Review/2017 - Cara...   \n3             None  None  [American Political Science Review/2020 - Wutt...   \n4             None  None  [Journal of European Public Policy/2014 - Trei...   \n\n   pop_id  \n0       0  \n1       1  \n2       2  \n3       3  \n4       4  ",
      "text/html": "<div>\n<style scoped>\n    .dataframe tbody tr th:only-of-type {\n        vertical-align: middle;\n    }\n\n    .dataframe tbody tr th {\n        vertical-align: top;\n    }\n\n    .dataframe thead th {\n        text-align: right;\n    }\n</style>\n<table border=\"1\" class=\"dataframe\">\n  <thead>\n    <tr style=\"text-align: right;\">\n      <th></th>\n      <th>year</th>\n      <th>authors</th>\n      <th>journal</th>\n      <th>title</th>\n      <th>type</th>\n      <th>pdf?</th>\n      <th>keywords</th>\n      <th>keywords_online?</th>\n      <th>notes</th>\n      <th>filepath</th>\n      <th>pop_id</th>\n    </tr>\n  </thead>\n  <tbody>\n    <tr>\n      <th>0</th>\n      <td>2011</td>\n      <td>Bos et al.</td>\n      <td>Political Communication</td>\n      <td>How the Media Shape Perceptions of Right-Wing ...</td>\n      <td>article</td>\n      <td>y</td>\n      <td>y</td>\n      <td>y</td>\n      <td>None</td>\n      <td>[Political Communication/2011 - Bos et al. - H...</td>\n      <td>0</td>\n    </tr>\n    <tr>\n      <th>1</th>\n      <td>2019</td>\n      <td>Blassnig et al.</td>\n      <td>Political Communication</td>\n      <td>Hitting a Nerve: Populist News Articles Lead t...</td>\n      <td>article</td>\n      <td>y</td>\n      <td>y</td>\n      <td>y</td>\n      <td>None</td>\n      <td>[Political Communication/2019 - Blassing et al...</td>\n      <td>1</td>\n    </tr>\n    <tr>\n      <th>2</th>\n      <td>2017</td>\n      <td>Caramani</td>\n      <td>American Political Science Review</td>\n      <td>Will vs. Reason: The Populist and Technocratic...</td>\n      <td>article</td>\n      <td>y</td>\n      <td>y</td>\n      <td>None</td>\n      <td>None</td>\n      <td>[American Political Science Review/2017 - Cara...</td>\n      <td>2</td>\n    </tr>\n    <tr>\n      <th>3</th>\n      <td>2020</td>\n      <td>Wuttke,Schimpf, Schoen</td>\n      <td>American Political Science Review</td>\n      <td>When the Whole Is Greater than the Sum of Its ...</td>\n      <td>article</td>\n      <td>y</td>\n      <td>y</td>\n      <td>None</td>\n      <td>None</td>\n      <td>[American Political Science Review/2020 - Wutt...</td>\n      <td>3</td>\n    </tr>\n    <tr>\n      <th>4</th>\n      <td>2014</td>\n      <td>Treib</td>\n      <td>Journal of European Public Policy</td>\n      <td>The voter says no, but nobody listens: causes ...</td>\n      <td>article</td>\n      <td>y</td>\n      <td>y</td>\n      <td>None</td>\n      <td>None</td>\n      <td>[Journal of European Public Policy/2014 - Trei...</td>\n      <td>4</td>\n    </tr>\n  </tbody>\n</table>\n</div>"
     },
     "execution_count": 2,
     "metadata": {},
     "output_type": "execute_result"
    }
   ],
   "source": [
    "articles_metadata = pd.read_json(\"../data/article_metadata_with_filepaths.json\")\n",
    "articles_metadata.head(5)"
   ],
   "metadata": {
    "collapsed": false
   }
  },
  {
   "cell_type": "code",
   "execution_count": 3,
   "outputs": [],
   "source": [
    "articles_metadata = articles_metadata[articles_metadata[\"filepath\"].apply(bool)].copy()"
   ],
   "metadata": {
    "collapsed": false
   }
  },
  {
   "cell_type": "code",
   "execution_count": 11,
   "outputs": [
    {
     "data": {
      "text/plain": "     year                     authors  \\\n62   2019                    Chamorel   \n377  2019                     Alberti   \n188  2019     Brunkert, Kruse, Welzel   \n364  2017  Hawkins, Rovira Kaltwasser   \n499  2016                        Read   \n228  2020               Bolton, Pitts   \n376  2018                        Fish   \n90   2018                    Rooduijn   \n227  2016               Aughey et al.   \n330  2015                     Leconte   \n\n                                               journal  \\\n62                                Journal of Democracy   \n377                               Comparative Politics   \n188                                    Democratization   \n364                     Swiss Political Science Review   \n499  Historical Materialism Research in Critical Ma...   \n228                                   British Politics   \n376                               Comparative Politics   \n90              European Journal of Political Research   \n227                                   British Politics   \n330             International Political Science Review   \n\n                                                 title     type  pdf?  \\\n62                      Macron versus the Yellow Vests  article     y   \n377  Populist Multiculturalism in the Andes: Balanc...  article     y   \n188  A tale of culture-bound regime evolution: the ...  article     y   \n364  What the (Ideational) Study of Populism Can Te...  article     y   \n499                                     Under Pressure  article     y   \n228  Liberalism and critical Marxism: a reply to Gl...  article     y   \n376                            What Has Russia Become?  article     y   \n90   State of the field: How to study populism and ...  article     y   \n227  Symposium On Michael Kenny´s The Politics of e...  article  None   \n330  From pathology to mainstream phenomenon: Revie...  article     y   \n\n    keywords keywords_online? notes  \\\n62         y                y  None   \n377        y                y  None   \n188        y             None  None   \n364        y             None  None   \n499        y             None  None   \n228        y             None  None   \n376        y                y  None   \n90         y             None  None   \n227        y                y  None   \n330        y             None  None   \n\n                                              filepath  pop_id  \n62   [Journal of Democracy/2019 - Chamorel - Macron...      62  \n377  [Comparative Politics/2019 - Alberti - Populis...     377  \n188  [Democratization/2019 - Brunkert, Kruse, Welze...     188  \n364  [Swiss Political Science Review/2017 - Hawkins...     364  \n499  [Historical Materialism Research in Critical M...     499  \n228  [British Politics/2020 - Bolton, Pitts - Liber...     228  \n376  [Comparative Politics/2018 - Fish - What Has R...     376  \n90   [European Journal of Political Research/2018 -...      90  \n227  [British Politics/2016 - Aughey et al. - Sympo...     227  \n330  [International Political Science Review/2015 -...     330  ",
      "text/html": "<div>\n<style scoped>\n    .dataframe tbody tr th:only-of-type {\n        vertical-align: middle;\n    }\n\n    .dataframe tbody tr th {\n        vertical-align: top;\n    }\n\n    .dataframe thead th {\n        text-align: right;\n    }\n</style>\n<table border=\"1\" class=\"dataframe\">\n  <thead>\n    <tr style=\"text-align: right;\">\n      <th></th>\n      <th>year</th>\n      <th>authors</th>\n      <th>journal</th>\n      <th>title</th>\n      <th>type</th>\n      <th>pdf?</th>\n      <th>keywords</th>\n      <th>keywords_online?</th>\n      <th>notes</th>\n      <th>filepath</th>\n      <th>pop_id</th>\n    </tr>\n  </thead>\n  <tbody>\n    <tr>\n      <th>62</th>\n      <td>2019</td>\n      <td>Chamorel</td>\n      <td>Journal of Democracy</td>\n      <td>Macron versus the Yellow Vests</td>\n      <td>article</td>\n      <td>y</td>\n      <td>y</td>\n      <td>y</td>\n      <td>None</td>\n      <td>[Journal of Democracy/2019 - Chamorel - Macron...</td>\n      <td>62</td>\n    </tr>\n    <tr>\n      <th>377</th>\n      <td>2019</td>\n      <td>Alberti</td>\n      <td>Comparative Politics</td>\n      <td>Populist Multiculturalism in the Andes: Balanc...</td>\n      <td>article</td>\n      <td>y</td>\n      <td>y</td>\n      <td>y</td>\n      <td>None</td>\n      <td>[Comparative Politics/2019 - Alberti - Populis...</td>\n      <td>377</td>\n    </tr>\n    <tr>\n      <th>188</th>\n      <td>2019</td>\n      <td>Brunkert, Kruse, Welzel</td>\n      <td>Democratization</td>\n      <td>A tale of culture-bound regime evolution: the ...</td>\n      <td>article</td>\n      <td>y</td>\n      <td>y</td>\n      <td>None</td>\n      <td>None</td>\n      <td>[Democratization/2019 - Brunkert, Kruse, Welze...</td>\n      <td>188</td>\n    </tr>\n    <tr>\n      <th>364</th>\n      <td>2017</td>\n      <td>Hawkins, Rovira Kaltwasser</td>\n      <td>Swiss Political Science Review</td>\n      <td>What the (Ideational) Study of Populism Can Te...</td>\n      <td>article</td>\n      <td>y</td>\n      <td>y</td>\n      <td>None</td>\n      <td>None</td>\n      <td>[Swiss Political Science Review/2017 - Hawkins...</td>\n      <td>364</td>\n    </tr>\n    <tr>\n      <th>499</th>\n      <td>2016</td>\n      <td>Read</td>\n      <td>Historical Materialism Research in Critical Ma...</td>\n      <td>Under Pressure</td>\n      <td>article</td>\n      <td>y</td>\n      <td>y</td>\n      <td>None</td>\n      <td>None</td>\n      <td>[Historical Materialism Research in Critical M...</td>\n      <td>499</td>\n    </tr>\n    <tr>\n      <th>228</th>\n      <td>2020</td>\n      <td>Bolton, Pitts</td>\n      <td>British Politics</td>\n      <td>Liberalism and critical Marxism: a reply to Gl...</td>\n      <td>article</td>\n      <td>y</td>\n      <td>y</td>\n      <td>None</td>\n      <td>None</td>\n      <td>[British Politics/2020 - Bolton, Pitts - Liber...</td>\n      <td>228</td>\n    </tr>\n    <tr>\n      <th>376</th>\n      <td>2018</td>\n      <td>Fish</td>\n      <td>Comparative Politics</td>\n      <td>What Has Russia Become?</td>\n      <td>article</td>\n      <td>y</td>\n      <td>y</td>\n      <td>y</td>\n      <td>None</td>\n      <td>[Comparative Politics/2018 - Fish - What Has R...</td>\n      <td>376</td>\n    </tr>\n    <tr>\n      <th>90</th>\n      <td>2018</td>\n      <td>Rooduijn</td>\n      <td>European Journal of Political Research</td>\n      <td>State of the field: How to study populism and ...</td>\n      <td>article</td>\n      <td>y</td>\n      <td>y</td>\n      <td>None</td>\n      <td>None</td>\n      <td>[European Journal of Political Research/2018 -...</td>\n      <td>90</td>\n    </tr>\n    <tr>\n      <th>227</th>\n      <td>2016</td>\n      <td>Aughey et al.</td>\n      <td>British Politics</td>\n      <td>Symposium On Michael Kenny´s The Politics of e...</td>\n      <td>article</td>\n      <td>None</td>\n      <td>y</td>\n      <td>y</td>\n      <td>None</td>\n      <td>[British Politics/2016 - Aughey et al. - Sympo...</td>\n      <td>227</td>\n    </tr>\n    <tr>\n      <th>330</th>\n      <td>2015</td>\n      <td>Leconte</td>\n      <td>International Political Science Review</td>\n      <td>From pathology to mainstream phenomenon: Revie...</td>\n      <td>article</td>\n      <td>y</td>\n      <td>y</td>\n      <td>None</td>\n      <td>None</td>\n      <td>[International Political Science Review/2015 -...</td>\n      <td>330</td>\n    </tr>\n  </tbody>\n</table>\n</div>"
     },
     "execution_count": 11,
     "metadata": {},
     "output_type": "execute_result"
    }
   ],
   "source": [
    "articles_sample = articles_metadata.sample(10, random_state=1)\n",
    "articles_sample"
   ],
   "metadata": {
    "collapsed": false
   }
  },
  {
   "cell_type": "code",
   "execution_count": 16,
   "outputs": [],
   "source": [
    "sample_pop_ids = [62, 377, 188, 364, 499, 228, 376, 90, 227, 330]"
   ],
   "metadata": {
    "collapsed": false
   }
  },
  {
   "cell_type": "code",
   "execution_count": 5,
   "outputs": [],
   "source": [
    "# create folder for filtered texts\n",
    "!mkdir ../data/large_data/articles_filteredtexts"
   ],
   "metadata": {
    "collapsed": false
   }
  },
  {
   "cell_type": "code",
   "execution_count": 6,
   "outputs": [],
   "source": [
    "path = \"../data/large_data/articles_filteredtexts/\""
   ],
   "metadata": {
    "collapsed": false
   }
  },
  {
   "cell_type": "code",
   "execution_count": 84,
   "outputs": [],
   "source": [
    "spliters = [\"References\\n\",\n",
    "            \"Bibliography\\n\",\n",
    "            \"Notes\\n\",\n",
    "            \"Acknowledgments\\n\"]\n",
    "def text_cleaning(filteredtext):\n",
    "    filteredtext_len = len(filteredtext)\n",
    "    usable_spliters = []\n",
    "    for spliter in spliters + [spliter.upper() for spliter in spliters]:\n",
    "        if spliter in filteredtext:\n",
    "            keeping_len = len(filteredtext.partition(spliter)[0])\n",
    "            if keeping_len > filteredtext_len / 2:\n",
    "                usable_spliters.append((keeping_len, spliter))\n",
    "    if bool(usable_spliters):\n",
    "        keeping_index = min(usable_spliters)[0]\n",
    "        filteredtext = filteredtext[:keeping_index]\n",
    "    filteredtext = filteredtext.replace(\"-\\n\", \"\")\n",
    "    return filteredtext"
   ],
   "metadata": {
    "collapsed": false
   }
  },
  {
   "cell_type": "code",
   "execution_count": 85,
   "outputs": [],
   "source": [
    "def get_filteredtext(pop_id, pct=5, tofile=True):\n",
    "    filename = \"textblocks_pop_id_{}.pickle\".format(str(pop_id))\n",
    "    pages_back = pickle.load(open(\"../data/large_data/articles_textblocks/\" + filename, \"rb\"))\n",
    "    rawtext = \"\"\n",
    "    for p in pages_back:\n",
    "        for tb in p:\n",
    "            rawtext += tb[4]\n",
    "    rawtext_per_page = len(rawtext) / len(pages_back)\n",
    "    filteredtext = \"\"\n",
    "    for p in pages_back:\n",
    "        accepted_tbs = []\n",
    "        last_included = False\n",
    "        for tb in p:\n",
    "            tb_text = tb[4]\n",
    "            # main filtering condition:\n",
    "            #if tb_text.count(\"\\n\") > 2:\n",
    "            if last_included == False:\n",
    "                if len(tb_text) >= rawtext_per_page * pct / 100:\n",
    "                    accepted_tbs.append(tb_text)\n",
    "                    last_included = True\n",
    "            else:\n",
    "                accepted_tbs.append(tb_text)\n",
    "        accepted_tbs_reversed = []\n",
    "        last_included = False\n",
    "        for tb_text in reversed(accepted_tbs):\n",
    "            if last_included == False:\n",
    "                if len(tb_text) >= rawtext_per_page * pct / 100:\n",
    "                    accepted_tbs_reversed.append(tb_text)\n",
    "                    last_included = True\n",
    "            else:\n",
    "                accepted_tbs_reversed.append(tb_text)\n",
    "        accepted_tbs_reversed = [tb for tb in accepted_tbs_reversed if tb[0] != \"<\"]\n",
    "        filteredtext += \" \".join(reversed(accepted_tbs_reversed))\n",
    "    filteredtext = text_cleaning(filteredtext)\n",
    "    if tofile:\n",
    "        newfile = \"filteredtext_pop_id_{}.txt\".format(str(pop_id))\n",
    "        with open(path + newfile, \"w\") as f:\n",
    "            f.write(filteredtext)\n",
    "    else:\n",
    "        return filteredtext"
   ],
   "metadata": {
    "collapsed": false
   }
  },
  {
   "cell_type": "code",
   "execution_count": 89,
   "outputs": [],
   "source": [
    "def get_filteredtext(pop_id, pct=5, tofile=True):\n",
    "    filename = \"textblocks_pop_id_{}.pickle\".format(str(pop_id))\n",
    "    pages_back = pickle.load(open(\"../data/large_data/articles_textblocks/\" + filename, \"rb\"))\n",
    "    rawtext = \"\"\n",
    "    for p in pages_back:\n",
    "        for tb in p:\n",
    "            rawtext += tb[4]\n",
    "    rawtext_per_page = len(rawtext) / len(pages_back)\n",
    "    filteredtext = \"\"\n",
    "    end_here = False\n",
    "    for p in pages_back:\n",
    "        accepted_tbs = []\n",
    "        last_included = False\n",
    "        for tb in p:\n",
    "            tb_text = tb[4]\n",
    "            # main filtering condition:\n",
    "            #if tb_text.count(\"\\n\") > 2:\n",
    "            if last_included == False:\n",
    "                if len(tb_text) >= rawtext_per_page * pct / 100:\n",
    "                    accepted_tbs.append(tb_text)\n",
    "                    last_included = True\n",
    "            else:\n",
    "                accepted_tbs.append(tb_text)\n",
    "            if tb_text in spliters + [spliter.upper() for spliter in spliters]:\n",
    "                end_here = True\n",
    "                break\n",
    "        accepted_tbs_reversed = []\n",
    "        last_included = False\n",
    "        for tb_text in reversed(accepted_tbs):\n",
    "            if last_included == False:\n",
    "                if len(tb_text) >= rawtext_per_page * pct / 100:\n",
    "                    accepted_tbs_reversed.append(tb_text)\n",
    "                    last_included = True\n",
    "            else:\n",
    "                accepted_tbs_reversed.append(tb_text)\n",
    "        accepted_tbs_reversed = [tb for tb in accepted_tbs_reversed if tb[0] != \"<\"]\n",
    "        filteredtext += \" \".join(reversed(accepted_tbs_reversed))\n",
    "        if end_here == True:\n",
    "            break\n",
    "    filteredtext = text_cleaning(filteredtext)\n",
    "    if tofile:\n",
    "        newfile = \"filteredtext_pop_id_{}.txt\".format(str(pop_id))\n",
    "        with open(path + newfile, \"w\") as f:\n",
    "            f.write(filteredtext)\n",
    "    else:\n",
    "        return filteredtext"
   ],
   "metadata": {
    "collapsed": false
   }
  },
  {
   "cell_type": "code",
   "execution_count": 90,
   "outputs": [],
   "source": [
    "get_filteredtext(330)"
   ],
   "metadata": {
    "collapsed": false
   }
  },
  {
   "cell_type": "code",
   "execution_count": 92,
   "outputs": [],
   "source": [
    "!mkdir ../data/large_data/sample_filteredtext\n",
    "for id in sample_pop_ids:\n",
    "    filteredtext = get_filteredtext(id, tofile=False)\n",
    "    path = \"../data/large_data/sample_filteredtext/\"\n",
    "    newfile = \"filteredtext_pop_id_{}.txt\".format(str(id))\n",
    "    with open(path + newfile, \"w\") as f:\n",
    "        f.write(filteredtext)"
   ],
   "metadata": {
    "collapsed": false
   }
  },
  {
   "cell_type": "code",
   "execution_count": 93,
   "outputs": [],
   "source": [
    "for id in articles_metadata[\"pop_id\"]:\n",
    "    get_filteredtext(id)"
   ],
   "metadata": {
    "collapsed": false
   }
  },
  {
   "cell_type": "code",
   "execution_count": null,
   "outputs": [],
   "source": [],
   "metadata": {
    "collapsed": false
   }
  }
 ],
 "metadata": {
  "kernelspec": {
   "display_name": "Python 3",
   "language": "python",
   "name": "python3"
  },
  "language_info": {
   "codemirror_mode": {
    "name": "ipython",
    "version": 2
   },
   "file_extension": ".py",
   "mimetype": "text/x-python",
   "name": "python",
   "nbconvert_exporter": "python",
   "pygments_lexer": "ipython2",
   "version": "2.7.6"
  }
 },
 "nbformat": 4,
 "nbformat_minor": 0
}
