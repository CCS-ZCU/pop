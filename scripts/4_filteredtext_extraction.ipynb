{
 "cells": [
  {
   "cell_type": "code",
   "execution_count": 1,
   "metadata": {
    "collapsed": true
   },
   "outputs": [],
   "source": [
    "import re\n",
    "import pandas as pd\n",
    "import pickle\n",
    "import os"
   ]
  },
  {
   "cell_type": "code",
   "execution_count": 47,
   "outputs": [
    {
     "data": {
      "text/plain": "   year                 authors                            journal  \\\n0  2011              Bos et al.            Political Communication   \n1  2019         Blassnig et al.            Political Communication   \n2  2017                Caramani  American Political Science Review   \n3  2020  Wuttke,Schimpf, Schoen  American Political Science Review   \n4  2014                   Treib  Journal of European Public Policy   \n\n                                               title     type pdf? keywords  \\\n0  How the Media Shape Perceptions of Right-Wing ...  article    y        y   \n1  Hitting a Nerve: Populist News Articles Lead t...  article    y        y   \n2  Will vs. Reason: The Populist and Technocratic...  article    y        y   \n3  When the Whole Is Greater than the Sum of Its ...  article    y        y   \n4  The voter says no, but nobody listens: causes ...  article    y        y   \n\n  keywords_online? notes                                           filepath  \\\n0                y  None  Political Communication/2011 - Bos et al. - Ho...   \n1                y  None  Political Communication/2019 - Blassing et al....   \n2             None  None  American Political Science Review/2017 - Caram...   \n3             None  None  American Political Science Review/2020 - Wuttk...   \n4             None  None  Journal of European Public Policy/2014 - Treib...   \n\n   pop_id  \n0       0  \n1       1  \n2       2  \n3       3  \n4       4  ",
      "text/html": "<div>\n<style scoped>\n    .dataframe tbody tr th:only-of-type {\n        vertical-align: middle;\n    }\n\n    .dataframe tbody tr th {\n        vertical-align: top;\n    }\n\n    .dataframe thead th {\n        text-align: right;\n    }\n</style>\n<table border=\"1\" class=\"dataframe\">\n  <thead>\n    <tr style=\"text-align: right;\">\n      <th></th>\n      <th>year</th>\n      <th>authors</th>\n      <th>journal</th>\n      <th>title</th>\n      <th>type</th>\n      <th>pdf?</th>\n      <th>keywords</th>\n      <th>keywords_online?</th>\n      <th>notes</th>\n      <th>filepath</th>\n      <th>pop_id</th>\n    </tr>\n  </thead>\n  <tbody>\n    <tr>\n      <th>0</th>\n      <td>2011</td>\n      <td>Bos et al.</td>\n      <td>Political Communication</td>\n      <td>How the Media Shape Perceptions of Right-Wing ...</td>\n      <td>article</td>\n      <td>y</td>\n      <td>y</td>\n      <td>y</td>\n      <td>None</td>\n      <td>Political Communication/2011 - Bos et al. - Ho...</td>\n      <td>0</td>\n    </tr>\n    <tr>\n      <th>1</th>\n      <td>2019</td>\n      <td>Blassnig et al.</td>\n      <td>Political Communication</td>\n      <td>Hitting a Nerve: Populist News Articles Lead t...</td>\n      <td>article</td>\n      <td>y</td>\n      <td>y</td>\n      <td>y</td>\n      <td>None</td>\n      <td>Political Communication/2019 - Blassing et al....</td>\n      <td>1</td>\n    </tr>\n    <tr>\n      <th>2</th>\n      <td>2017</td>\n      <td>Caramani</td>\n      <td>American Political Science Review</td>\n      <td>Will vs. Reason: The Populist and Technocratic...</td>\n      <td>article</td>\n      <td>y</td>\n      <td>y</td>\n      <td>None</td>\n      <td>None</td>\n      <td>American Political Science Review/2017 - Caram...</td>\n      <td>2</td>\n    </tr>\n    <tr>\n      <th>3</th>\n      <td>2020</td>\n      <td>Wuttke,Schimpf, Schoen</td>\n      <td>American Political Science Review</td>\n      <td>When the Whole Is Greater than the Sum of Its ...</td>\n      <td>article</td>\n      <td>y</td>\n      <td>y</td>\n      <td>None</td>\n      <td>None</td>\n      <td>American Political Science Review/2020 - Wuttk...</td>\n      <td>3</td>\n    </tr>\n    <tr>\n      <th>4</th>\n      <td>2014</td>\n      <td>Treib</td>\n      <td>Journal of European Public Policy</td>\n      <td>The voter says no, but nobody listens: causes ...</td>\n      <td>article</td>\n      <td>y</td>\n      <td>y</td>\n      <td>None</td>\n      <td>None</td>\n      <td>Journal of European Public Policy/2014 - Treib...</td>\n      <td>4</td>\n    </tr>\n  </tbody>\n</table>\n</div>"
     },
     "execution_count": 47,
     "metadata": {},
     "output_type": "execute_result"
    }
   ],
   "source": [
    "articles_metadata = pd.read_json(\"../data/article_metadata_with_filepaths.json\")\n",
    "articles_metadata.head(5)"
   ],
   "metadata": {
    "collapsed": false
   }
  },
  {
   "cell_type": "code",
   "execution_count": 48,
   "outputs": [],
   "source": [
    "articles_metadata = articles_metadata[articles_metadata[\"filepath\"].apply(bool)].copy()"
   ],
   "metadata": {
    "collapsed": false
   }
  },
  {
   "cell_type": "code",
   "execution_count": 49,
   "outputs": [
    {
     "data": {
      "text/plain": "     year               authors  \\\n524  2016                Brewer   \n142  2016      Bobba, McDonnell   \n65   2019                  Shah   \n41   2017             Applebaum   \n268  2016             Aslanidis   \n504  2019                 Appel   \n225  2015         Kettell, Kerr   \n189  2019                 Csehi   \n47   2017  Puddington, Roylance   \n0    2011            Bos et al.   \n\n                                               journal  \\\n524  Forum: A Journal of Applied Research in Contem...   \n142                South European Society and Politics   \n65                                Journal of Democracy   \n41                                Journal of Democracy   \n268                                  Political Studies   \n504                                    Critical Review   \n225                                   British Politics   \n189                                    Democratization   \n47                                Journal of Democracy   \n0                              Political Communication   \n\n                                                 title       type pdf?  \\\n524                      Populism in American Politics    article    y   \n142  Different Types of Right-Wing Populist Discour...    article    y   \n65            Pakistan: Voting Under Military Tutelage    article    y   \n41   Britain After Brexit: A Transformed Political ...    article    y   \n268  Is Populism an Ideology? A Refutation and a Ne...    article    y   \n504   Can the EU Stop Eastern Europe's Illiberal Turn?    article    y   \n225                                          Editorial  editorial    y   \n189  Neither episodic, nor destined to failure? The...    article    y   \n47   The Freedom House Survey for 2016: The Dual Th...    article    y   \n0    How the Media Shape Perceptions of Right-Wing ...    article    y   \n\n    keywords keywords_online?  \\\n524        y             None   \n142        y             None   \n65         y                y   \n41         y                y   \n268        y             None   \n504        y             None   \n225        y                y   \n189        y             None   \n47         y                y   \n0          y                y   \n\n                                                 notes  \\\n524                                               None   \n142                                               None   \n65                                                None   \n41                                                None   \n268                                               None   \n504                                               None   \n225  nevim je to jen editorial kde je jednou slovo ...   \n189                                               None   \n47                                                None   \n0                                                 None   \n\n                                              filepath  pop_id  \n524  Forum A Journal of Applied Research in Contemp...     524  \n142  South European Society and Politics/2016 - Bob...     142  \n65   Journal of Democracy/2019 - Shah - Pakistan_Vo...      65  \n41   Journal of Democracy/2017 - Applebaum - Britai...      41  \n268  Political Studies/2016 - Aslanidis - Is Populi...     268  \n504  Critical Review/2019 -  Appel - Can the EU Sto...     504  \n225  British Politics/2015 - Kettell, Kerr - Editor...     225  \n189  Democratization/2019 - Csehi - Neither episodi...     189  \n47   Journal of Democracy/2017 - Puddington, Roylan...      47  \n0    Political Communication/2011 - Bos et al. - Ho...       0  ",
      "text/html": "<div>\n<style scoped>\n    .dataframe tbody tr th:only-of-type {\n        vertical-align: middle;\n    }\n\n    .dataframe tbody tr th {\n        vertical-align: top;\n    }\n\n    .dataframe thead th {\n        text-align: right;\n    }\n</style>\n<table border=\"1\" class=\"dataframe\">\n  <thead>\n    <tr style=\"text-align: right;\">\n      <th></th>\n      <th>year</th>\n      <th>authors</th>\n      <th>journal</th>\n      <th>title</th>\n      <th>type</th>\n      <th>pdf?</th>\n      <th>keywords</th>\n      <th>keywords_online?</th>\n      <th>notes</th>\n      <th>filepath</th>\n      <th>pop_id</th>\n    </tr>\n  </thead>\n  <tbody>\n    <tr>\n      <th>524</th>\n      <td>2016</td>\n      <td>Brewer</td>\n      <td>Forum: A Journal of Applied Research in Contem...</td>\n      <td>Populism in American Politics</td>\n      <td>article</td>\n      <td>y</td>\n      <td>y</td>\n      <td>None</td>\n      <td>None</td>\n      <td>Forum A Journal of Applied Research in Contemp...</td>\n      <td>524</td>\n    </tr>\n    <tr>\n      <th>142</th>\n      <td>2016</td>\n      <td>Bobba, McDonnell</td>\n      <td>South European Society and Politics</td>\n      <td>Different Types of Right-Wing Populist Discour...</td>\n      <td>article</td>\n      <td>y</td>\n      <td>y</td>\n      <td>None</td>\n      <td>None</td>\n      <td>South European Society and Politics/2016 - Bob...</td>\n      <td>142</td>\n    </tr>\n    <tr>\n      <th>65</th>\n      <td>2019</td>\n      <td>Shah</td>\n      <td>Journal of Democracy</td>\n      <td>Pakistan: Voting Under Military Tutelage</td>\n      <td>article</td>\n      <td>y</td>\n      <td>y</td>\n      <td>y</td>\n      <td>None</td>\n      <td>Journal of Democracy/2019 - Shah - Pakistan_Vo...</td>\n      <td>65</td>\n    </tr>\n    <tr>\n      <th>41</th>\n      <td>2017</td>\n      <td>Applebaum</td>\n      <td>Journal of Democracy</td>\n      <td>Britain After Brexit: A Transformed Political ...</td>\n      <td>article</td>\n      <td>y</td>\n      <td>y</td>\n      <td>y</td>\n      <td>None</td>\n      <td>Journal of Democracy/2017 - Applebaum - Britai...</td>\n      <td>41</td>\n    </tr>\n    <tr>\n      <th>268</th>\n      <td>2016</td>\n      <td>Aslanidis</td>\n      <td>Political Studies</td>\n      <td>Is Populism an Ideology? A Refutation and a Ne...</td>\n      <td>article</td>\n      <td>y</td>\n      <td>y</td>\n      <td>None</td>\n      <td>None</td>\n      <td>Political Studies/2016 - Aslanidis - Is Populi...</td>\n      <td>268</td>\n    </tr>\n    <tr>\n      <th>504</th>\n      <td>2019</td>\n      <td>Appel</td>\n      <td>Critical Review</td>\n      <td>Can the EU Stop Eastern Europe's Illiberal Turn?</td>\n      <td>article</td>\n      <td>y</td>\n      <td>y</td>\n      <td>None</td>\n      <td>None</td>\n      <td>Critical Review/2019 -  Appel - Can the EU Sto...</td>\n      <td>504</td>\n    </tr>\n    <tr>\n      <th>225</th>\n      <td>2015</td>\n      <td>Kettell, Kerr</td>\n      <td>British Politics</td>\n      <td>Editorial</td>\n      <td>editorial</td>\n      <td>y</td>\n      <td>y</td>\n      <td>y</td>\n      <td>nevim je to jen editorial kde je jednou slovo ...</td>\n      <td>British Politics/2015 - Kettell, Kerr - Editor...</td>\n      <td>225</td>\n    </tr>\n    <tr>\n      <th>189</th>\n      <td>2019</td>\n      <td>Csehi</td>\n      <td>Democratization</td>\n      <td>Neither episodic, nor destined to failure? The...</td>\n      <td>article</td>\n      <td>y</td>\n      <td>y</td>\n      <td>None</td>\n      <td>None</td>\n      <td>Democratization/2019 - Csehi - Neither episodi...</td>\n      <td>189</td>\n    </tr>\n    <tr>\n      <th>47</th>\n      <td>2017</td>\n      <td>Puddington, Roylance</td>\n      <td>Journal of Democracy</td>\n      <td>The Freedom House Survey for 2016: The Dual Th...</td>\n      <td>article</td>\n      <td>y</td>\n      <td>y</td>\n      <td>y</td>\n      <td>None</td>\n      <td>Journal of Democracy/2017 - Puddington, Roylan...</td>\n      <td>47</td>\n    </tr>\n    <tr>\n      <th>0</th>\n      <td>2011</td>\n      <td>Bos et al.</td>\n      <td>Political Communication</td>\n      <td>How the Media Shape Perceptions of Right-Wing ...</td>\n      <td>article</td>\n      <td>y</td>\n      <td>y</td>\n      <td>y</td>\n      <td>None</td>\n      <td>Political Communication/2011 - Bos et al. - Ho...</td>\n      <td>0</td>\n    </tr>\n  </tbody>\n</table>\n</div>"
     },
     "execution_count": 49,
     "metadata": {},
     "output_type": "execute_result"
    }
   ],
   "source": [
    "articles_sample = articles_metadata.sample(10, random_state=1)\n",
    "articles_sample"
   ],
   "metadata": {
    "collapsed": false
   }
  },
  {
   "cell_type": "code",
   "execution_count": 50,
   "outputs": [],
   "source": [
    "sample_pop_ids = [62, 377, 188, 364, 499, 228, 376, 90, 227, 330]"
   ],
   "metadata": {
    "collapsed": false
   }
  },
  {
   "cell_type": "code",
   "execution_count": 51,
   "outputs": [
    {
     "name": "stdout",
     "output_type": "stream",
     "text": [
      "mkdir: ../data/large_data/articles_filteredtexts: File exists\r\n"
     ]
    }
   ],
   "source": [
    "# create folder for filtered texts\n",
    "!mkdir ../data/large_data/articles_filteredtexts"
   ],
   "metadata": {
    "collapsed": false
   }
  },
  {
   "cell_type": "code",
   "execution_count": 52,
   "outputs": [],
   "source": [
    "path = \"../data/large_data/articles_filteredtexts/\""
   ],
   "metadata": {
    "collapsed": false
   }
  },
  {
   "cell_type": "code",
   "execution_count": 53,
   "outputs": [],
   "source": [
    "filteredtext = \"In the middle of 2011, both Turkey and Thailand held national elections,124 While Turkish premier Recep Tayyip Erdo¢gan claimed his third popular mandate, his self-exiled Thai doppelgänger Thaksin Shinawatra—whose parties have now won five general elections since 2001—saw his younger sister and stand-in Yingluck Shinawatra assume the premiership.\""
   ],
   "metadata": {
    "collapsed": false
   }
  },
  {
   "cell_type": "code",
   "execution_count": 54,
   "outputs": [
    {
     "data": {
      "text/plain": "'In the middle of 2011, both Turkey and Thailand held national elections, While Turkish premier Recep Tayyip Erdo¢gan claimed his third popular mandate, his self-exiled Thai doppelgänger Thaksin Shinawatra—whose parties have now won five general elections since 2001—saw his younger sister and stand-in Yingluck Shinawatra assume the premiership.'"
     },
     "execution_count": 54,
     "metadata": {},
     "output_type": "execute_result"
    }
   ],
   "source": [
    "re.sub(\"([\\.|\\:|\\?\\,])(\\d+)\", r\"\\1\", filteredtext)"
   ],
   "metadata": {
    "collapsed": false
   }
  },
  {
   "cell_type": "code",
   "execution_count": 55,
   "outputs": [],
   "source": [
    "spliters = [\"References\\n\",\n",
    "            \"Bibliography\\n\",\n",
    "            \"Notes\\n\",\n",
    "            \"Acknowledgments\\n\"]\n",
    "def text_cleaning(filteredtext):\n",
    "    filteredtext_len = len(filteredtext)\n",
    "    usable_spliters = []\n",
    "    for spliter in spliters + [spliter.upper() for spliter in spliters]:\n",
    "        if spliter in filteredtext:\n",
    "            keeping_len = len(filteredtext.partition(spliter)[0])\n",
    "            if keeping_len > filteredtext_len / 2:\n",
    "                usable_spliters.append((keeping_len, spliter))\n",
    "    if bool(usable_spliters):\n",
    "        keeping_index = min(usable_spliters)[0]\n",
    "        filteredtext = filteredtext[:keeping_index]\n",
    "    filteredtext = filteredtext.replace(\"-\\n\", \"\")\n",
    "    filteredtext = re.sub(\"([\\.|\\:|\\?\\,])(\\d+)\", r\"\\1\", filteredtext)\n",
    "    return filteredtext"
   ],
   "metadata": {
    "collapsed": false
   }
  },
  {
   "cell_type": "code",
   "execution_count": 71,
   "outputs": [],
   "source": [
    "def get_filteredtext(pop_id, pct=2, tofile=True):\n",
    "    filename = \"textblocks_pop_id_{}.pickle\".format(str(pop_id))\n",
    "    pages_back = pickle.load(open(\"../data/large_data/articles_textblocks/\" + filename, \"rb\"))\n",
    "    rawtext = \"\"\n",
    "    for p in pages_back:\n",
    "        for tb in p:\n",
    "            rawtext += tb[4]\n",
    "    rawtext_per_page = len(rawtext) / len(pages_back)\n",
    "    filteredtext = \"\"\n",
    "    end_here = False\n",
    "    for p in pages_back:\n",
    "        accepted_tbs = []\n",
    "        last_included = False\n",
    "        for tb in p:\n",
    "            tb_text = tb[4]\n",
    "            # main filtering condition:\n",
    "            #if tb_text.count(\"\\n\") > 2:\n",
    "            if last_included == False:\n",
    "                if len(tb_text) >= rawtext_per_page * pct / 100:\n",
    "                    accepted_tbs.append(tb_text)\n",
    "                    last_included = True\n",
    "            else:\n",
    "                accepted_tbs.append(tb_text)\n",
    "            if tb_text in spliters + [spliter.upper() for spliter in spliters]:\n",
    "                end_here = True\n",
    "                break\n",
    "        accepted_tbs_reversed = []\n",
    "        last_included = False\n",
    "        for tb_text in reversed(accepted_tbs):\n",
    "            if last_included == False:\n",
    "                if len(tb_text) >= rawtext_per_page * pct / 100:\n",
    "                    accepted_tbs_reversed.append(tb_text)\n",
    "                    last_included = True\n",
    "            else:\n",
    "                accepted_tbs_reversed.append(tb_text)\n",
    "        accepted_tbs_reversed = [tb for tb in accepted_tbs_reversed if tb[0] != \"<\"]\n",
    "        filteredtext += \" \".join(reversed(accepted_tbs_reversed))\n",
    "        if end_here == True:\n",
    "            break\n",
    "    filteredtext = text_cleaning(filteredtext)\n",
    "    if tofile:\n",
    "        newfile = \"filteredtext_pop_id_{}.txt\".format(str(pop_id))\n",
    "        with open(path + newfile, \"w\") as f:\n",
    "            f.write(filteredtext)\n",
    "    else:\n",
    "        return filteredtext"
   ],
   "metadata": {
    "collapsed": false
   }
  },
  {
   "cell_type": "code",
   "execution_count": 72,
   "outputs": [
    {
     "data": {
      "text/plain": "\"How should we analyze the connections between\\npopulism and nationalism: A response to Rogers\\nBrubaker\\n Benjamin De Cleen1\\n|\\nYannis Stavrakakis2\\n 1Department of Communication Studies, Vrije Universiteit Brussel, Brussel, Belgium\\n 2Department of Political Science, Aristotle University of Thessaloniki, Thessaloniki, Greece\\n Correspondence\\nBenjamin De Cleen, Department of\\nCommunication Studies, Vrije Universiteit\\nBrussel, Brussel, Belgium.\\nEmail: benjamin.de.cleen@vub.be\\n Abstract\\n In a recent article in this journal, Rogers Brubaker formu lates a critique of the distinction we make in our work\\n between populism and nationalism, and further develops his\\n own, thicker conceptualization of populism, which inte grates the nationalist dimension without however totally\\n conflating populism and nationalism. In this article, we\\n briefly respond to the critique of our work, further clarifying\\n and refining our plea for clearly distinct conceptualizations\\n of populism and nationalism in dialogue with the consider ations formulated by Rogers Brubaker. More broadly, we\\n see this response as a chance to contribute to the further\\n development of a framework that allows for the rigorous\\n study of populism's pivotal as well as complex and often\\n troubling relation with nationalism.\\n K E Y W O R D S\\n discourse theory, nationalism, populism\\n 1\\n|\\nINTRODUCTION\\n In a recent article in this journal, Rogers Brubaker formulates a critique of the distinction we make in our work\\n between populism and nationalism, and further develops his own, thicker conceptualization of populism, which inte grates the nationalist dimension without however totally conflating populism and nationalism (see also Brubaker\\n 2017). We greatly appreciate the critical and constructive engagement with our argument. We would like to take this\\nopportunity to briefly respond to the critique of our work, further clarifying and refining our position in dialogue with\\n the thoughtful considerations formulated by Rogers Brubaker (as well as with some other authors who have\\n reflected on our perspective). More broadly, we see this response as a chance to contribute to the further develop ment of the rigorous study of populism, in particular of its pivotal, as well as complex and often troubling, relation\\n with nationalism. Indeed, whereas we might not agree on what is the analytically most powerful definition of\\n populism—mainly a disagreement, we argue, about definitional strategies and levels of abstraction rather than a sub stantive disagreement—our work, like Brubaker's, involves an attempt to arrive at a rigorous definition of populism\\n that can serve as the basis to empirically analyze the complexity, ambiguity, and multi-dimensionality of concrete\\n populisms and their relation to nationalist politics and to the nation-state.\\n In that sense, it should be made clear from the beginning that the difference between our respective arguments\\n is not, as Brubaker suggests, being for (Brubaker) or against (De Cleen and Stavrakakis) impurity and ambiguity.\\n Nothing could be more misleading since we all seem to be determined to stress this dimension. This is evident both\\n in Brubaker's article and in our past work both concerning broader methodological issues (our text on “impurity” is\\n pertinent here; see Stavrakakis 2010) and populism per se (Stavrakakis 2014, p. 506; De Cleen and Stavrakakis\\n 2017). The crucial question is how exactly this ambiguity is to be accurately registered and productively deployed in\\n the analysis of the relations between populism and nationalism. Here, we feel, Brubaker rather exaggerates our posi tion, which cannot be reduced either to ‘excluding' nationalism from populism or to using ‘contingency' to ‘relocate'—\\n and thus minimize—the importance of the ambiguity at stake (Brubaker 2017, pp. 10, 15). On the contrary, we see\\n the acceptance of ‘contingency' as a central epistemological and ontological dimension that forms the condition of\\n possibility for a rigorous awareness of ambiguity itself (Laclau 1990). In addition, what Brubaker sees as exclusion—an\\n ostensibly sharp conceptual distinction between populism and nationalism—follows once more from an ontological\\n toolkit—going back to Saussure—that sees all identity as depending on difference. In fact, and that is our central argu ment, if conceptual difference is not asserted then impurity/ambiguity in empirical articulations evaporates from\\n sight. Our aim, indeed, is to provide clear conceptualizations of the specificity of populism and nationalism, respec tively, to be used as tools in the detailed analysis of their entanglements. Obviously, the choreography of these\\n entanglements is continuous and constitutive of our experience; it is also often confusing and troubling. But how\\n can we clarify things a bit without recourse to the dominant (although never exclusive) historically developed con ceptual figures of populism and nationalism—that is, to the dimensions that make them populist and nationalist in the\\n first place?\\n 2\\n|\\nDISTINCTIONS AND ARTICULATIONS\\n In our article Distinctions and articulations: A discourse theoretical framework for the study of populism and nationalism\\n (De Cleen and Stavrakakis 2017, also see De Cleen 2017, De Cleen et al. 2019; Stavrakakis et al. 2017), we suggest\\n a clear conceptual distinction between populism and nationalism as analytically distinct (but empirically often\\n entangled) ways of discursively constructing and claiming to represent ‘the people', as underdog and as nation,\\n respectively. Characteristic of populism, we argue, is that it interpellates citizens as members of ‘the people', consid ered as an underdog, and opposed along a vertical down/up axis to ‘the elite', conceived as a small and illegitimately\\n powerful and privileged group. Nationalism, by contrast, interpellates people as members of ‘the nation' conceived as\\n a limited and sovereign community that exists through time and is tied to a certain territory, with the nation being\\n discursively constructed along a horizontal in/out axis that distinguishes (which should not be confused with\\n ‘opposes') members from non-members, and the own nation from other nations. These definitions, we feel, are for mulated on a level of abstraction that allows them to capture the specificity of populism and nationalism, whilst also\\n being able to cover the wide variety of concrete populist and nationalist politics. Most importantly, these definitions\\n turn the concepts of populism and nationalism into sharp analytical tools allowing us to analyze their often intense,\\nCrucially, as the ‘distinctions and articulations' title of our article indicates, these definitions of populism and\\n nationalism are only the starting point of the empirical analysis of concrete populist and nationalist politics. Our defi nitions of populism and nationalism very explicitly do not aim to capture concrete populist or nationalist politics in\\n their entirety and does not downgrade or deny the many relations between them in political practice. The conceptual\\n distinction between populism and nationalism we put forward is aimed to serve as a basis for the empirical analysis\\n of how populism and nationalism interact in real politics; it is not meant as an endpoint, but rather as the conceptual\\n framework facilitating a nuanced account of the interactions between populism and nationalism on the ground. Such\\n interactions, we suggest, can be better studied through the prism of contingent ‘articulation' and not through some\\n mystical, essential, eternal or reductionist—and, at any rate, pre-existing—union of both significations; even if the lat ter perspective has often been the resulting end-product of their co-existence within modernity. Hence, we\\n write that\\n [a]ny analysis of a particular politics that articulates populism with nationalism needs to be aimed at\\n uncovering the specificities of the case in question. But overall, the study of the articulation of popu lism and nationalism boils down to an analysis of the respective location of the populist and national ist signifiers in a particular political project, of the degree to which that structure of meaning revolves\\n around the down/up or the horizontal in/out axis respectively, and of the signifying relations that are\\n forged between the populist and nationalist signifiers and between the down/up and in/out axes\\n (De Cleen and Stavrakakis 2017, p. 313).\\n 3\\n|\\nPOPULISM IS NOT ONLY VERTICAL: THE TWO LEVELS OF\\nBRUBAKER'S CRITIQUE\\n Brubaker mainly criticizes our conceptualization of populism for revolving around a down/up distinction between\\n ‘the people' and ‘the elite'. Or more precisely, he criticizes our definition of populism for not including the in/out\\n dimension. Although there are still authors who consider the exclusion of nationalist others (migrants, refugees, for eigners, etc.) to be part and parcel of populism , there is a considerable consensus across different (ideological, stylis tic, discursive, etc.) approaches around a ‘minimal' definition of populism as characterized by a people/elite\\n distinction and the claim to speak in the name of ‘the people' (see Moffitt 2016; Mudde and Rovira Kaltwasser 2017;\\n Ostiguy 2017; and see Bonikowski et al. 2018 in this journal)—even if serious disagreement still exists as to the\\n nature of populism (discourse, logic, ideology, strategy, and a combination of those) and its normative evaluation\\n (democratic, anti-democratic, …). In this sense, part of Brubaker's critique of our contribution extends well beyond\\n our work; it seems to question central elements of the definitional consensus gradually emerging within populism\\n research (see Brubaker 2017p. 6–9).\\n There seem to be two dimensions to Brubaker's criticism of our not including the in/out dimension into the con cept of populism. These dimensions are very tightly interwoven in Brubaker's exposé, but it seems worthy to try to\\n disentangle them here to allow a more precise response and the delineation of two different dimensions of the dis cussion on the nature of populism. Firstly, Brubaker disagrees with the distinction we make between populism and\\n nationalism. Whilst he is partly sympathetic to our argument against the conflation of populism and nationalism, he\\n writes that:\\n I am sceptical of the attempt to ‘purify' the concept of populism (Stavrakakis et al. 2017, p. 424) by\\n defining it as analytically entirely independent of nationalism. I shall argue here that populism and\\n nationalism are most fruitfully construed as analytically distinct but not analytically independent: as\\n intersecting and mutually implicated though not fully overlapping fields of phenomena (p. 2)\\nA second level of critique is focused on our insistence that populism revolves around a vertical dimension more gen erally. For Brubaker, populism itself involves an intrinsic horizontal in/out dimension. This in/out dimension refers to\\n the exclusion of groups ‘outside the polity' but also of groups ‘within the polity'. On this second level, the in/out\\n opposition is not only nationalist for it excludes “the elite”, “those at the margins (defined by culture, lifestyle, or gen der/sexual identity, not by wealth, power, etc.)” as well as “those on the bottom, represented also as different\\n (ethnoracially, culturally or morally)” (p. 13). At this level, the critique is that our stressing of the down/up dimension ality of populism cannot capture the “ambiguity and two-dimensionality of appeals to ‘the people'” that are “a consti tutive feature of populism itself” (p. 1).\\n 4\\n|\\nCONCEPTUAL AND ANALYTICAL STRATEGIES\\n At the heart of Brubaker's critique of our work and his own development of an alternative perspective on populism\\n lies a disagreement about the role of concepts in analysis and about what concepts should and should not do. Our\\n argument, basically, is that in order to study how populism and nationalism interact in practice we need to start from\\n a clear conceptual distinction between the two. Populism and nationalism are most useful as conceptual tools to\\n study populist, nationalist and populist-nationalist politics when the two concepts clearly identify the specificity of\\n populism and nationalism and leave out all other elements—even if certain other elements are very often present in\\n concrete populist or nationalist politics. We are not saying that populism and nationalism are separate empirical\\n phenomena—quite the contrary, our aim being to develop a model for the study of their intricate interactions (‘articu lations' as we call them). Indeed, even if all populisms would be nationalist, it would still have important analytical\\n advantages to identify the specific populist and nationalist dimensions of such politics. Moreover, if ‘populism' and\\n ‘nationalism' did not have their specific character, would they manage to retain their independent symbolic existence\\n and force within the history of our modern political vocabulary?\\n Brubaker's argument is that the ambiguity of populist appeals to ‘the people' should be inscribed within the defi nition of populism itself. He writes:\\n Distinguishing sharply between vertical appeals to ‘the people' as plebs and horizontal appeals to ‘the\\n people' as bounded community—and assigning the former to populism and the latter to nationalism—\\n externalizes the ambiguity of appeals to ‘the people'. It removes that ambiguity from populism as an\\n object of analysis and locates it instead in the contingent empirical intertwining of two conceptually\\n ‘pure' phenomena: populism and nationalism. I wish rather to internalize the ambiguity of appeals to\\n ‘the people': I seek to highlight that ambiguity and to underscore its pragmatic power and productiv ity. The tight interweaving of vertical and horizontal registers, I shall argue, is central to and constitu tive of populist discourse; it is not merely a matter of the contingent articulation of different\\n discourses (p. 10, emphasis added).\\n In fact, Brubaker's and our discursive approach share a strong interest in understanding the ambiguity and multi dimensionality of populist-nationalist political projects. The difference seems to be that Brubaker wants to include\\n that ambiguity into the concept of populism per se, whilst we feel that it is exactly the use of more minimal defini tions that capture the specificity of populism and nationalism (and only that specificity) and allows one to shed light\\n on those empirical ambiguities and multi-dimensionalities. Our argument is not that populism and nationalism are\\n “conceptually ‘pure' phenomena” or unambiguous “objects of analysis” (Brubaker 2019, p. 10), but rather that unam biguous concepts are needed to grasp the complexity of populism, nationalism and populism-nationalism combina tions as phenomena and as objects of analysis.\\n Brubaker also writes that “[d]efinitionally restricting populism to vertical appeals in the name of ‘the people'\\n against ‘the elite' misses the mutually constitutive relation of vertical and horizontal oppositions” (p. 12). But does it\\nreally? Our argument is, very explicitly, that a populist politics is never exhausted by its populist dimension. To under stand a particular populist politics we need to study the articulation between the populist dimension and the other\\n dimensions of that politics: nationalist, often, but also socialist, conservative, authoritarian, and so on. This is one of\\n the lessons of Laclau's discursive approach widely shared by more recent mainstream approaches to populism.\\n An overly ‘thick' definition of populism, we feel, creates problems in that it no longer covers all populist politics,\\n an issue Brubaker also alludes to when he writes that “my ‘family resemblance' definition, the elements of which are\\n not understood as necessary conditions, does not provide a clean' criterion for determining what counts as populist\\n [...]. Populism is understood as a matter of degree; instances can be populist in some respects but not in others [...]”\\n (p. 18). Moreover, it is exactly the more lean character of concepts that capture only the specificity of a particular\\n phenomenon—and their explicit refusal to try to capture the whole richness of any empirical instance of that\\n concept—that provides the conceptual sharpness needed to study empirical variety and multidimensionality. In fact,\\n we very much agree with Brubaker's statement that “populism and nationalism are most fruitfully construed as ana lytically distinct but not analytically independent: as intersecting and mutually implicated though not fully over lapping fields of phenomena' (p. 2). We would just propose that these intersections and mutual implications between\\n different interpellations of ‘the people' are best studied through concepts that do not themselves already overlap\\n too much by trying to capture those intersections and mutual implications a priori. Moreover, any historical overlap\\n cannot erase the conceptual specificity of ‘nationalism' and ‘populism' as distinct types of identification prioritizing\\n different dimensions and axes, and as two discursive repertoires (each with its own historically sedimented significa tions) from which political actors can draw in their everyday practice in a variety of ways. 1\\n These disagreements about analytical-conceptual strategies between Brubaker's and our work only go so far,\\n however. There is much in Brubaker's analysis of how the horizontal and vertical dimensions interact in populist poli tics that furthers insight into (what we would consider) the interactions between populism and nationalism, and that\\n is of a similar nature to our own analyses and to other recent work, some of which also partly builds on our concep tual intuitions (e.g., Anastasiou 2019, 2019; Breeze 2018; Jenne 2018; Kim 2018). Indeed, beyond disagreement\\n about what level of abstraction to formulate concepts on, there is much space for fruitful dialogue as our work\\n shares not only an interest in interactions, ambiguity and multi-dimensionality, but also an attraction to spatial/archi tectonic ways of thinking those interaction and dimensions (see also Brubaker 2017).\\n Brubaker's article includes a table that presents ‘populism as a two-dimensional discursive space' combining a\\n horizontal in/out and a vertical down/up dimension. The inside-outside dimension has two sub-levels. Populists\\n exclude groups “outside the polity” including—“global capital, cosmopolitan culture, powerful outside states or orga nization” and “potential low-status migrants and refugees, also represented as ethnoracially or ethnoculturally differ ent” but also “outside cultural threats that are independent of the power-wealth-prestige axis” (p. 13). Populists also\\n exclude groups “inside the polity”: from top to bottom in Brubaker's visualization these are “the elite”, “those at the\\n margins (defined by culture, lifestyle, or gender/sexual identity, not by wealth, power, etc.)” as well as “those on the\\n bottom, represented also as different (ethnoracially, culturally or morally)” (p. 13).\\n This table is very insightful and actually chimes very much with the kind of ‘architectonic' way of laying bare the\\n main axes of political discourse we advocated for. In fact, our own original article would have much benefited from\\n such a clear visual representation of the articulation of populism and nationalism (for another lucid visualization of\\n the populism/nationalism axes see Jenne 2018). Whilst criticizing our argument that populism is specifically built\\n around a down/up rather than horizontal in/out axis, Brubaker develops his own argument on the interactions\\n between vertical and horizontal axes, bringing the interactions between in/out and down/up into the concept of\\n populism itself. Despite the disagreement on whether to include the horizontal in/out in the definition of populism\\n or not, Brubaker's discussion of populism shows the productivity of the architectonic approach to (populist) politics\\n (which others have of course also put to good use, e.g., Dyrberg 2006; Ostiguy 2017).\\n At the same time, as will be clear from the above discussion, we would consider the ‘outside the polity' part of\\n this table to be predominantly about nationalism (the exclusion of low-status migrants and refugees, and the outside\\n cultural threats that are independent of power-wealth-prestige axis) or about the articulation of populism and\\nnationalism (global capital, cosmopolitan culture, powerful outside states or organizations) rather than about popu lism per se. In the ‘within the polity' part of the table, similarly, we would not consider the exclusion of the two\\n lower-status groups Brubaker identifies—“those at the margins (defined by culture, lifestyle, or gender/sexual iden tity, not by wealth, power, etc.)” or of “those on the bottom, represented also as different (ethnoracially, culturally or\\n morally)”—as inherent to populism (also, not all populisms perform such an exclusion). Depending on the reason for\\n the exclusion we would consider this a matter of populism being articulated with nationalism/nativism, with particu lar ideas on gender, with conservatism, authoritarianism, etc.\\n A different debate opens up when we look at the groups on the high end ‘within the polity' in Brubaker's table.\\n Here, ‘the elite' is presented as an “internal outsider”. We are no longer dealing here with the relation between popu lism and nationalism, but with the nature of the distinction between ‘the people' and ‘the elite'.\\n 5\\n|\\nTHE NATURE OF THE DISTINCTION BETWEEN THE PEOPLE AND THE\\nELITE\\n On the ‘up' end of the ‘within the polity' side of Brubaker's table we find “the elite” as “internal outsider” and “leaders\\n who are seen as belonging to the people, and therefore, legitimately speaking for the people” as “insiders”. The latter\\n argument is of major importance as it clarifies that populists are not opposed to the existence of an elite per se, but\\n to a particular elite that they consider illegitimate—an element that is also central to our own definition of populism,\\n but made much more apparent in Brubaker's visualization.\\n On the elite as an “internal outsider”, we can read that:\\n […] outsiderhood in the horizontal dimension is not necessarily national outsiderhood. Elites are often\\n represented as outside the moral community of ‘the people'—as ‘them' in relation to ‘us', as differing\\n in ways of thinking, talking, acting, even dressing and eating—without being represented as outside\\n the nation. Elites are always ‘othered' in some way in populist rhetoric—always constructed as outside\\n as well as on top—but they are not always represented as ‘foreign' in a nationalist sense.\\n Brubaker differentiates between ‘inequality' and ‘difference', arguing that opposition along the vertical dimension is\\n a matter of inequality whilst opposition along the horizontal dimension is a matter of difference. He writes:\\n The frame of reference for populist discourse […] is thus best understood not as a one-dimensional\\n space, structured by the vertical opposition between ‘the people' and ‘the elite', but as a two dimensional space that is at once a space of inequality (economic, political and cultural) and a space of\\n difference (of culture, values and ways of life) […] populist claims-making is located at the juncture of\\n the politics of inequality and the politics of identity, where questions about who gets what are constitu tively intertwined with questions about who is what (pp. 12–13, emphasis in original).\\n Our first response would be that the down/up dimension itself is not only about who gets what, but also about who\\n is what: inequality and difference are often inter-related (here it would be our turn to argue for a bit more eye for\\n impurity and ambiguity). That is, the people/elite distinction is not only economic or political but also cultural. This\\n cultural dimension is present in our work—when we refer to recognition and socio-cultural position as aspects of the\\n down/up distinction—but we have not given it as much attention as it would have deserved. This kind of analysis of\\n the cultural dimension of (the down/up axis of) populism has been central to Pierre Ostiguy's work, which has also\\n inspired Moffitt's account of populism, which sees a ‘low' style and performance as central to populist politics.\\n In any case, what all this points to, and here we agree very much with Brubaker, is the need to study the cultural\\n dimension of populism—the felt dimension that is about who we are (and who they are) and not only about the\\npower or economic privilege they have (and we do not), not to mention the affective investment of such\\n designations.\\n 6\\n|\\nPOPULISM AND BOUNDED COMMUNITY: WHY POPULISM AND\\nNATIONALISM WORK SO WELL TOGETHER\\n Our proposal to distinguish between populism and nationalism conceptually by no means implies a misrecognition of\\n the overwhelmingly nation-state level organization of populism, of the clearly nationalist thrust of much populist pol itics, or of the tremendous power of this combination of populism and nationalism. Indeed, whilst distinguishing pop ulism from nationalism, our work has been an attempt to provide a model for analyzing these intricate\\n interconnections.\\n As Brubaker's analysis clearly shows, populism always operates within a certain bounded community, and this is\\n often the nation. But is this reason enough to include the most common context for populist politics in the definition\\n of populism, as it does not say anything about what makes a particular discourse distinctively populist? In other\\n words: all populist politics operate in a certain community so there is always a horizontal in/out to populist politics,\\n but this in/out is not what makes them populist. This is why we do not usually refer to social democracy as ‘national social-democracy' or to conservatism as ‘national-conservatism' etc. The nation provides the modern horizon within\\n which these ideological families are typically articulated, but we do not highlight the ‘nation' as an intrinsic nodal\\n point of these respective symbolic repertoires. All these discursive frames are tied to a particular modern national\\n context (the same applies to populism), but cannot be (partly) reduced to that context. Brubaker's article provides\\n much valuable insights into these interconnections and, like our work, points out that the intricate relations between\\n populism and nationalism deserve much more attention than they have received so far. We just feel that our distinc tion between populism and nationalism allows one to ask more explicitly why populism is so often also nationalist\\n and what constitutes the power of this connection.\\n Highlighting the articulatory—and not reductionist—nature of populist-nationalist politics and the contingency\\n of such articulations allows us to denaturalize the obviousness of the fact that much populist politics are\\n nationalist and almost all populist politics operate on the nation-state level. It is by not treating nationalism as\\n inherent to populism that we can inquire about how populist politics operate in a world in which nationalist\\n ideologies are still very dominant (and perhaps increasingly dominant), in which people still identify with the\\n nation, and in which democratic representation is still very much organized on the level of the nation-state\\n (even if much power has moved elsewhere).\\n Treating populism and nationalism as analytically distinct dimensions of contemporary politics also permits\\n us to critically question the hegemonic but particular and indeed contingent view of ‘ordinary people' that is so\\n dominant in contemporary politics. It allows us to see how the meaning of the populist ‘people' has often been\\n ‘overdetermined' by hegemonic nationalist imaginaries and national institutions (see Anastasiou 2019). Such a\\n perspective could help us in denaturalizing the fact that the notion of ‘the ordinary people' almost invariable\\n conjures up the strongly nationalist image of white ‘true' nationals, often also opposed to immigration and cul tural diversity. How come the ‘ordinary' national citizens of migrant descent (even if several generations ago) do\\n not seem to be part of this populist ‘people'? And how come the ordinary people are seen not only as national,\\n but often also as nationalist?\\n Given the largely hegemonic nature of far-right nationalism (and this is not the only nationalism history pro duced, note the existence of many anti-imperialist and anti-colonial versions), what are the potentials for a pop ulism that moves beyond or goes against the pernicious types of national(ist) overdetermination of the populist\\n ‘people'? It is only by treating populism's often nationalist character as contingent (rather than as an inherent\\n part of populism) that we can ask about more local forms of populism or about transnational forms of populism,\\n and indeed about the clear difficulties of transnational populist politics to operate beyond the level of the\\nnation-state (see De Cleen et al. 2019; Moffitt 2017; Zeeman 2019). Such a perspective also allows us to ask\\n why it is that despite the fact that for large swaths of ‘ordinary' people identity and everyday life are pro foundly international, the term ‘ordinary people' so often still has such a national and/or extreme right national ist (and even racist) meaning? And it raises critical questions as to how left-wing populist projects deal with\\n this, especially in (national) contexts with a powerful populist radical right? What role might the adoption of\\n populist strategies by the Left play in its turning towards the nation-state level (as against transnational politics),\\n towards patriotism, or in some cases towards developing critiques of migration (e.g., Aufstehen, the Dutch\\n Socialistische Partij)? What are the potentials of populism for a more radically inclusionary version that does\\n not only tolerate national others but also incorporates them into the definition of the ordinary people? It seems\\n that indeed “a creativity of the highest order is necessitated if populist articulations are to evade the close grip\\n of national (ist) hegemony” (Anastasiou 2019, p. 16). At any rate, such creative political projects are not impos sible, as modern history demonstrates (Stavrakakis & Katsambekis 2017).\\n These and other questions about the very close and complex interactions between nationalism and populism\\n seem crucial to understanding the political reality we are living in—Brubaker's article being an illustration of\\n the power of such analyses. We are convinced that a much closer dialogue between the literatures on populism and\\n on nationalism would do much good. This means that, in many cases, for students of populism to truly understand\\n the populist politics they are studying, they should pay much more attention to how that populism interacts with\\n nationalism and the nation-state (rather than subsuming them under the notion of populism) than has been common\\n so far, and indeed turn to the literature on nationalism much more structurally. In analyzing certain forms of\\n nationalism that are also populist (and only in those cases), nationalism scholars might also do well to\\n incorporate reflections on populism. But what we certainly do not need is for students of populism to treat populism\\n as an all-explanatory notion, or for students of nationalism to jump on the populism bandwagon and abandon\\n the concept of nationalism in favor of the concept of populism—an emerging problem well beyond Brubaker's\\n argument. In fact, whilst Brubaker's\\nand our work diverge as to the extent to which populism and\\n nationalism should be conceptually distinguished, it seems safe to assume that this is something we would very much\\n agree on.\\n END\""
     },
     "execution_count": 72,
     "metadata": {},
     "output_type": "execute_result"
    }
   ],
   "source": [
    "get_filteredtext(399,tofile=False)"
   ],
   "metadata": {
    "collapsed": false
   }
  },
  {
   "cell_type": "code",
   "execution_count": 73,
   "outputs": [],
   "source": [
    "filteredtext_len = len(filteredtext)\n",
    "usable_spliters = []\n",
    "for spliter in spliters + [spliter.upper() for spliter in spliters]:\n",
    "    if spliter in filteredtext:\n",
    "        keeping_len = len(filteredtext.partition(spliter)[0])\n",
    "        if keeping_len > filteredtext_len / 2:\n",
    "            usable_spliters.append((keeping_len, spliter))\n",
    "if bool(usable_spliters):\n",
    "    keeping_index = min(usable_spliters)[0]\n",
    "    filteredtext = filteredtext[:keeping_index]\n",
    "filteredtext = filteredtext.replace(\"-\\n\", \"\")\n",
    "filteredtext = re.sub(\"([\\.|\\:|\\?\\,])(\\d+)\", r\"\\1\", filteredtext)\n"
   ],
   "metadata": {
    "collapsed": false
   }
  },
  {
   "cell_type": "code",
   "execution_count": 74,
   "outputs": [],
   "source": [
    "#!mkdir ../data/large_data/sample_filteredtext\n",
    "for id in sample_pop_ids:\n",
    "    filteredtext = get_filteredtext(id, tofile=False)\n",
    "    sample_path = \"../data/large_data/sample_filteredtext/\"\n",
    "    newfile = \"filteredtext_pop_id_{}.txt\".format(str(id))\n",
    "    with open(sample_path + newfile, \"w\") as f:\n",
    "        f.write(filteredtext)"
   ],
   "metadata": {
    "collapsed": false
   }
  },
  {
   "cell_type": "code",
   "execution_count": 75,
   "outputs": [],
   "source": [
    "path = \"../data/large_data/articles_filteredtexts/\"\n",
    "for id in articles_metadata[\"pop_id\"]:\n",
    "    get_filteredtext(id)"
   ],
   "metadata": {
    "collapsed": false
   }
  },
  {
   "cell_type": "code",
   "execution_count": null,
   "outputs": [],
   "source": [],
   "metadata": {
    "collapsed": false
   }
  }
 ],
 "metadata": {
  "kernelspec": {
   "display_name": "Python 3",
   "language": "python",
   "name": "python3"
  },
  "language_info": {
   "codemirror_mode": {
    "name": "ipython",
    "version": 2
   },
   "file_extension": ".py",
   "mimetype": "text/x-python",
   "name": "python",
   "nbconvert_exporter": "python",
   "pygments_lexer": "ipython2",
   "version": "2.7.6"
  }
 },
 "nbformat": 4,
 "nbformat_minor": 0
}
