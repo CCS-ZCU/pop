{
 "cells": [
  {
   "cell_type": "code",
   "execution_count": 2,
   "metadata": {
    "collapsed": true
   },
   "outputs": [],
   "source": [
    "import re\n",
    "import pandas as pd\n",
    "import pickle\n",
    "import os"
   ]
  },
  {
   "cell_type": "code",
   "execution_count": 3,
   "outputs": [
    {
     "data": {
      "text/plain": "   year                 authors                            journal  \\\n0  2011              Bos et al.            Political Communication   \n1  2019         Blassnig et al.            Political Communication   \n2  2017                Caramani  American Political Science Review   \n3  2020  Wuttke,Schimpf, Schoen  American Political Science Review   \n4  2014                   Treib  Journal of European Public Policy   \n\n                                               title     type pdf? keywords  \\\n0  How the Media Shape Perceptions of Right-Wing ...  article    y        y   \n1  Hitting a Nerve: Populist News Articles Lead t...  article    y        y   \n2  Will vs. Reason: The Populist and Technocratic...  article    y        y   \n3  When the Whole Is Greater than the Sum of Its ...  article    y        y   \n4  The voter says no, but nobody listens: causes ...  article    y        y   \n\n  keywords_online? notes                                           filepath  \\\n0                y  None  [Political Communication/2011 - Bos et al. - H...   \n1                y  None  [Political Communication/2019 - Blassing et al...   \n2             None  None  [American Political Science Review/2017 - Cara...   \n3             None  None  [American Political Science Review/2020 - Wutt...   \n4             None  None  [Journal of European Public Policy/2014 - Trei...   \n\n   pop_id  \n0       0  \n1       1  \n2       2  \n3       3  \n4       4  ",
      "text/html": "<div>\n<style scoped>\n    .dataframe tbody tr th:only-of-type {\n        vertical-align: middle;\n    }\n\n    .dataframe tbody tr th {\n        vertical-align: top;\n    }\n\n    .dataframe thead th {\n        text-align: right;\n    }\n</style>\n<table border=\"1\" class=\"dataframe\">\n  <thead>\n    <tr style=\"text-align: right;\">\n      <th></th>\n      <th>year</th>\n      <th>authors</th>\n      <th>journal</th>\n      <th>title</th>\n      <th>type</th>\n      <th>pdf?</th>\n      <th>keywords</th>\n      <th>keywords_online?</th>\n      <th>notes</th>\n      <th>filepath</th>\n      <th>pop_id</th>\n    </tr>\n  </thead>\n  <tbody>\n    <tr>\n      <th>0</th>\n      <td>2011</td>\n      <td>Bos et al.</td>\n      <td>Political Communication</td>\n      <td>How the Media Shape Perceptions of Right-Wing ...</td>\n      <td>article</td>\n      <td>y</td>\n      <td>y</td>\n      <td>y</td>\n      <td>None</td>\n      <td>[Political Communication/2011 - Bos et al. - H...</td>\n      <td>0</td>\n    </tr>\n    <tr>\n      <th>1</th>\n      <td>2019</td>\n      <td>Blassnig et al.</td>\n      <td>Political Communication</td>\n      <td>Hitting a Nerve: Populist News Articles Lead t...</td>\n      <td>article</td>\n      <td>y</td>\n      <td>y</td>\n      <td>y</td>\n      <td>None</td>\n      <td>[Political Communication/2019 - Blassing et al...</td>\n      <td>1</td>\n    </tr>\n    <tr>\n      <th>2</th>\n      <td>2017</td>\n      <td>Caramani</td>\n      <td>American Political Science Review</td>\n      <td>Will vs. Reason: The Populist and Technocratic...</td>\n      <td>article</td>\n      <td>y</td>\n      <td>y</td>\n      <td>None</td>\n      <td>None</td>\n      <td>[American Political Science Review/2017 - Cara...</td>\n      <td>2</td>\n    </tr>\n    <tr>\n      <th>3</th>\n      <td>2020</td>\n      <td>Wuttke,Schimpf, Schoen</td>\n      <td>American Political Science Review</td>\n      <td>When the Whole Is Greater than the Sum of Its ...</td>\n      <td>article</td>\n      <td>y</td>\n      <td>y</td>\n      <td>None</td>\n      <td>None</td>\n      <td>[American Political Science Review/2020 - Wutt...</td>\n      <td>3</td>\n    </tr>\n    <tr>\n      <th>4</th>\n      <td>2014</td>\n      <td>Treib</td>\n      <td>Journal of European Public Policy</td>\n      <td>The voter says no, but nobody listens: causes ...</td>\n      <td>article</td>\n      <td>y</td>\n      <td>y</td>\n      <td>None</td>\n      <td>None</td>\n      <td>[Journal of European Public Policy/2014 - Trei...</td>\n      <td>4</td>\n    </tr>\n  </tbody>\n</table>\n</div>"
     },
     "execution_count": 3,
     "metadata": {},
     "output_type": "execute_result"
    }
   ],
   "source": [
    "articles_metadata = pd.read_json(\"../data/article_metadata_with_filepaths.json\")\n",
    "articles_metadata.head(5)"
   ],
   "metadata": {
    "collapsed": false
   }
  },
  {
   "cell_type": "code",
   "execution_count": 4,
   "outputs": [],
   "source": [
    "articles_metadata = articles_metadata[articles_metadata[\"filepath\"].apply(bool)].copy()"
   ],
   "metadata": {
    "collapsed": false
   }
  },
  {
   "cell_type": "code",
   "execution_count": 5,
   "outputs": [
    {
     "data": {
      "text/plain": "     year                     authors  \\\n62   2019                    Chamorel   \n377  2019                     Alberti   \n188  2019     Brunkert, Kruse, Welzel   \n364  2017  Hawkins, Rovira Kaltwasser   \n499  2016                        Read   \n228  2020               Bolton, Pitts   \n376  2018                        Fish   \n90   2018                    Rooduijn   \n227  2016               Aughey et al.   \n330  2015                     Leconte   \n\n                                               journal  \\\n62                                Journal of Democracy   \n377                               Comparative Politics   \n188                                    Democratization   \n364                     Swiss Political Science Review   \n499  Historical Materialism Research in Critical Ma...   \n228                                   British Politics   \n376                               Comparative Politics   \n90              European Journal of Political Research   \n227                                   British Politics   \n330             International Political Science Review   \n\n                                                 title     type  pdf?  \\\n62                      Macron versus the Yellow Vests  article     y   \n377  Populist Multiculturalism in the Andes: Balanc...  article     y   \n188  A tale of culture-bound regime evolution: the ...  article     y   \n364  What the (Ideational) Study of Populism Can Te...  article     y   \n499                                     Under Pressure  article     y   \n228  Liberalism and critical Marxism: a reply to Gl...  article     y   \n376                            What Has Russia Become?  article     y   \n90   State of the field: How to study populism and ...  article     y   \n227  Symposium On Michael Kenny´s The Politics of e...  article  None   \n330  From pathology to mainstream phenomenon: Revie...  article     y   \n\n    keywords keywords_online? notes  \\\n62         y                y  None   \n377        y                y  None   \n188        y             None  None   \n364        y             None  None   \n499        y             None  None   \n228        y             None  None   \n376        y                y  None   \n90         y             None  None   \n227        y                y  None   \n330        y             None  None   \n\n                                              filepath  pop_id  \n62   [Journal of Democracy/2019 - Chamorel - Macron...      62  \n377  [Comparative Politics/2019 - Alberti - Populis...     377  \n188  [Democratization/2019 - Brunkert, Kruse, Welze...     188  \n364  [Swiss Political Science Review/2017 - Hawkins...     364  \n499  [Historical Materialism Research in Critical M...     499  \n228  [British Politics/2020 - Bolton, Pitts - Liber...     228  \n376  [Comparative Politics/2018 - Fish - What Has R...     376  \n90   [European Journal of Political Research/2018 -...      90  \n227  [British Politics/2016 - Aughey et al. - Sympo...     227  \n330  [International Political Science Review/2015 -...     330  ",
      "text/html": "<div>\n<style scoped>\n    .dataframe tbody tr th:only-of-type {\n        vertical-align: middle;\n    }\n\n    .dataframe tbody tr th {\n        vertical-align: top;\n    }\n\n    .dataframe thead th {\n        text-align: right;\n    }\n</style>\n<table border=\"1\" class=\"dataframe\">\n  <thead>\n    <tr style=\"text-align: right;\">\n      <th></th>\n      <th>year</th>\n      <th>authors</th>\n      <th>journal</th>\n      <th>title</th>\n      <th>type</th>\n      <th>pdf?</th>\n      <th>keywords</th>\n      <th>keywords_online?</th>\n      <th>notes</th>\n      <th>filepath</th>\n      <th>pop_id</th>\n    </tr>\n  </thead>\n  <tbody>\n    <tr>\n      <th>62</th>\n      <td>2019</td>\n      <td>Chamorel</td>\n      <td>Journal of Democracy</td>\n      <td>Macron versus the Yellow Vests</td>\n      <td>article</td>\n      <td>y</td>\n      <td>y</td>\n      <td>y</td>\n      <td>None</td>\n      <td>[Journal of Democracy/2019 - Chamorel - Macron...</td>\n      <td>62</td>\n    </tr>\n    <tr>\n      <th>377</th>\n      <td>2019</td>\n      <td>Alberti</td>\n      <td>Comparative Politics</td>\n      <td>Populist Multiculturalism in the Andes: Balanc...</td>\n      <td>article</td>\n      <td>y</td>\n      <td>y</td>\n      <td>y</td>\n      <td>None</td>\n      <td>[Comparative Politics/2019 - Alberti - Populis...</td>\n      <td>377</td>\n    </tr>\n    <tr>\n      <th>188</th>\n      <td>2019</td>\n      <td>Brunkert, Kruse, Welzel</td>\n      <td>Democratization</td>\n      <td>A tale of culture-bound regime evolution: the ...</td>\n      <td>article</td>\n      <td>y</td>\n      <td>y</td>\n      <td>None</td>\n      <td>None</td>\n      <td>[Democratization/2019 - Brunkert, Kruse, Welze...</td>\n      <td>188</td>\n    </tr>\n    <tr>\n      <th>364</th>\n      <td>2017</td>\n      <td>Hawkins, Rovira Kaltwasser</td>\n      <td>Swiss Political Science Review</td>\n      <td>What the (Ideational) Study of Populism Can Te...</td>\n      <td>article</td>\n      <td>y</td>\n      <td>y</td>\n      <td>None</td>\n      <td>None</td>\n      <td>[Swiss Political Science Review/2017 - Hawkins...</td>\n      <td>364</td>\n    </tr>\n    <tr>\n      <th>499</th>\n      <td>2016</td>\n      <td>Read</td>\n      <td>Historical Materialism Research in Critical Ma...</td>\n      <td>Under Pressure</td>\n      <td>article</td>\n      <td>y</td>\n      <td>y</td>\n      <td>None</td>\n      <td>None</td>\n      <td>[Historical Materialism Research in Critical M...</td>\n      <td>499</td>\n    </tr>\n    <tr>\n      <th>228</th>\n      <td>2020</td>\n      <td>Bolton, Pitts</td>\n      <td>British Politics</td>\n      <td>Liberalism and critical Marxism: a reply to Gl...</td>\n      <td>article</td>\n      <td>y</td>\n      <td>y</td>\n      <td>None</td>\n      <td>None</td>\n      <td>[British Politics/2020 - Bolton, Pitts - Liber...</td>\n      <td>228</td>\n    </tr>\n    <tr>\n      <th>376</th>\n      <td>2018</td>\n      <td>Fish</td>\n      <td>Comparative Politics</td>\n      <td>What Has Russia Become?</td>\n      <td>article</td>\n      <td>y</td>\n      <td>y</td>\n      <td>y</td>\n      <td>None</td>\n      <td>[Comparative Politics/2018 - Fish - What Has R...</td>\n      <td>376</td>\n    </tr>\n    <tr>\n      <th>90</th>\n      <td>2018</td>\n      <td>Rooduijn</td>\n      <td>European Journal of Political Research</td>\n      <td>State of the field: How to study populism and ...</td>\n      <td>article</td>\n      <td>y</td>\n      <td>y</td>\n      <td>None</td>\n      <td>None</td>\n      <td>[European Journal of Political Research/2018 -...</td>\n      <td>90</td>\n    </tr>\n    <tr>\n      <th>227</th>\n      <td>2016</td>\n      <td>Aughey et al.</td>\n      <td>British Politics</td>\n      <td>Symposium On Michael Kenny´s The Politics of e...</td>\n      <td>article</td>\n      <td>None</td>\n      <td>y</td>\n      <td>y</td>\n      <td>None</td>\n      <td>[British Politics/2016 - Aughey et al. - Sympo...</td>\n      <td>227</td>\n    </tr>\n    <tr>\n      <th>330</th>\n      <td>2015</td>\n      <td>Leconte</td>\n      <td>International Political Science Review</td>\n      <td>From pathology to mainstream phenomenon: Revie...</td>\n      <td>article</td>\n      <td>y</td>\n      <td>y</td>\n      <td>None</td>\n      <td>None</td>\n      <td>[International Political Science Review/2015 -...</td>\n      <td>330</td>\n    </tr>\n  </tbody>\n</table>\n</div>"
     },
     "execution_count": 5,
     "metadata": {},
     "output_type": "execute_result"
    }
   ],
   "source": [
    "articles_sample = articles_metadata.sample(10, random_state=1)\n",
    "articles_sample"
   ],
   "metadata": {
    "collapsed": false
   }
  },
  {
   "cell_type": "code",
   "execution_count": 6,
   "outputs": [],
   "source": [
    "sample_pop_ids = [62, 377, 188, 364, 499, 228, 376, 90, 227, 330]"
   ],
   "metadata": {
    "collapsed": false
   }
  },
  {
   "cell_type": "code",
   "execution_count": 5,
   "outputs": [],
   "source": [
    "# create folder for filtered texts\n",
    "!mkdir ../data/large_data/articles_filteredtexts"
   ],
   "metadata": {
    "collapsed": false
   }
  },
  {
   "cell_type": "code",
   "execution_count": 44,
   "outputs": [],
   "source": [
    "path = \"../data/large_data/articles_filteredtexts/\""
   ],
   "metadata": {
    "collapsed": false
   }
  },
  {
   "cell_type": "code",
   "execution_count": 45,
   "outputs": [],
   "source": [
    "filteredtext = \"In the middle of 2011, both Turkey and Thailand held national elections,124 While Turkish premier Recep Tayyip Erdo¢gan claimed his third popular mandate, his self-exiled Thai doppelgänger Thaksin Shinawatra—whose parties have now won five general elections since 2001—saw his younger sister and stand-in Yingluck Shinawatra assume the premiership.\""
   ],
   "metadata": {
    "collapsed": false
   }
  },
  {
   "cell_type": "code",
   "execution_count": 46,
   "outputs": [
    {
     "data": {
      "text/plain": "'In the middle of 2011, both Turkey and Thailand held national elections, While Turkish premier Recep Tayyip Erdo¢gan claimed his third popular mandate, his self-exiled Thai doppelgänger Thaksin Shinawatra—whose parties have now won five general elections since 2001—saw his younger sister and stand-in Yingluck Shinawatra assume the premiership.'"
     },
     "execution_count": 46,
     "metadata": {},
     "output_type": "execute_result"
    }
   ],
   "source": [
    "re.sub(\"([\\.|\\:|\\?\\,])(\\d+)\", r\"\\1\", filteredtext)"
   ],
   "metadata": {
    "collapsed": false
   }
  },
  {
   "cell_type": "code",
   "execution_count": 47,
   "outputs": [],
   "source": [
    "spliters = [\"References\\n\",\n",
    "            \"Bibliography\\n\",\n",
    "            \"Notes\\n\",\n",
    "            \"Acknowledgments\\n\"]\n",
    "def text_cleaning(filteredtext):\n",
    "    filteredtext_len = len(filteredtext)\n",
    "    usable_spliters = []\n",
    "    for spliter in spliters + [spliter.upper() for spliter in spliters]:\n",
    "        if spliter in filteredtext:\n",
    "            keeping_len = len(filteredtext.partition(spliter)[0])\n",
    "            if keeping_len > filteredtext_len / 2:\n",
    "                usable_spliters.append((keeping_len, spliter))\n",
    "    if bool(usable_spliters):\n",
    "        keeping_index = min(usable_spliters)[0]\n",
    "        filteredtext = filteredtext[:keeping_index]\n",
    "    filteredtext = filteredtext.replace(\"-\\n\", \"\")\n",
    "    filteredtext = re.sub(\"([\\.|\\:|\\?\\,])(\\d+)\", r\"\\1\", filteredtext)\n",
    "    return filteredtext"
   ],
   "metadata": {
    "collapsed": false
   }
  },
  {
   "cell_type": "code",
   "execution_count": 50,
   "outputs": [],
   "source": [
    "def get_filteredtext(pop_id, pct=5, tofile=True):\n",
    "    filename = \"textblocks_pop_id_{}.pickle\".format(str(pop_id))\n",
    "    pages_back = pickle.load(open(\"../data/large_data/articles_textblocks/\" + filename, \"rb\"))\n",
    "    rawtext = \"\"\n",
    "    for p in pages_back:\n",
    "        for tb in p:\n",
    "            rawtext += tb[4]\n",
    "    rawtext_per_page = len(rawtext) / len(pages_back)\n",
    "    filteredtext = \"\"\n",
    "    end_here = False\n",
    "    for p in pages_back:\n",
    "        accepted_tbs = []\n",
    "        last_included = False\n",
    "        for tb in p:\n",
    "            tb_text = tb[4]\n",
    "            # main filtering condition:\n",
    "            #if tb_text.count(\"\\n\") > 2:\n",
    "            if last_included == False:\n",
    "                if len(tb_text) >= rawtext_per_page * pct / 100:\n",
    "                    accepted_tbs.append(tb_text)\n",
    "                    last_included = True\n",
    "            else:\n",
    "                accepted_tbs.append(tb_text)\n",
    "            if tb_text in spliters + [spliter.upper() for spliter in spliters]:\n",
    "                end_here = True\n",
    "                break\n",
    "        accepted_tbs_reversed = []\n",
    "        last_included = False\n",
    "        for tb_text in reversed(accepted_tbs):\n",
    "            if last_included == False:\n",
    "                if len(tb_text) >= rawtext_per_page * pct / 100:\n",
    "                    accepted_tbs_reversed.append(tb_text)\n",
    "                    last_included = True\n",
    "            else:\n",
    "                accepted_tbs_reversed.append(tb_text)\n",
    "        accepted_tbs_reversed = [tb for tb in accepted_tbs_reversed if tb[0] != \"<\"]\n",
    "        filteredtext += \" \".join(reversed(accepted_tbs_reversed))\n",
    "        if end_here == True:\n",
    "            break\n",
    "    filteredtext = text_cleaning(filteredtext)\n",
    "    if tofile:\n",
    "        newfile = \"filteredtext_pop_id_{}.txt\".format(str(pop_id))\n",
    "        with open(path + newfile, \"w\") as f:\n",
    "            f.write(filteredtext)\n",
    "    else:\n",
    "        return filteredtext"
   ],
   "metadata": {
    "collapsed": false
   }
  },
  {
   "cell_type": "code",
   "execution_count": 51,
   "outputs": [
    {
     "data": {
      "text/plain": "'Duncan McCargo is professor of Southeast Asian politics at the University of Leeds. His Tearing Apart the Land: Islam and Legitimacy in \\nSouthern Thailand (2008) won the inaugural 2009 Bernard Schwartz \\nBook Prize from the Asia Society. Ayºe Zarakol is assistant professor \\nof politics at Washington and Lee University and the author of After \\nDefeat: How the East Learned to Live with the West (2011).\\n In the middle of 2011, both Turkey and Thailand held national elections. While Turkish premier Recep Tayyip Erdo¢gan claimed his third \\npopular mandate, his self-exiled Thai doppelgänger Thaksin Shinawatra—whose parties have now won five general elections since 2001—\\nsaw his younger sister and stand-in Yingluck Shinawatra assume the \\npremiership. Virtually no observers, however, noticed the synchronicity \\nof two politicians with similar governance styles, party organizations, \\nand societal bases besting military-bureaucratic establishments on the \\ntwo flanks of Asia. \\nAt first glance, the two countries appear strikingly different. Turkey straddles Europe and the Middle East; it is a Muslim-majority \\ncountry that has been a staunchly secular republic since 1923; and it \\nis now drawing attention for the transformative domestic and foreign \\npolicies of Erdo¢gan’s Justice and Development Party (AKP), which \\nis often characterized as Islamist. Thailand, by contrast, is located \\nin Southeast Asia, is predominantly Buddhist, and is above all else \\na monarchy. Judging by those descriptions, the simultaneous rise of \\nErdo¢gan in Turkey and Thaksin in Thailand looks like sheer coincidence. In reality, however, it is anything but. Laying side-by-side the \\nstories of Turkish and Thai democratization (including the obstacles \\nthat had to be overcome in each case) reveals numerous parallels. A \\ncomparison between these two countries also offers insights that are \\nmore generally applicable to our understanding of democratization \\noutside the West. \\n Journal of Democracy  Volume 23,  Number 3  July 2012\\n© 2012 National Endowment for Democracy and The Johns Hopkins University Press\\nThe similarity between the political trajectories of Turkey and Thailand goes back to the end of the nineteenth century, when they were both \\nincorporated into European-led international society as “semi-civilized” \\noutsiders. In this respect, Turkey and Thailand resemble a handful of \\nother non-Western countries such as Japan and China that suffered some \\ndegree of Western intrusion into their domestic affairs, but nonetheless \\nnever became subject to direct Western rule. Such polities differ from \\nthose of formally colonized countries in having had more room to negotiate the transition to modernity on their own terms. At the same time, \\nthey are unlike Western states in that they had to adapt quickly to an international system whose rules they had little part in shaping. Moreover, \\ndespite the absence of formal colonization, both the Ottoman Empire \\nand the Kingdom of Siam had experiences with European intrusion that \\nmight fairly be called highly traumatic. \\nAs a result, in both countries there emerged, first within the monarchy and then within the newly Westernized military-bureaucratic establishment, a reformist outlook that doggedly equated independence \\nwith state-led modernization and national cohesion—a cohesion that, \\ngiven the heterogeneity of both societies at the turn of the twentieth \\ncentury, could not be passively assumed but had to be aggressively \\nachieved. Against the background of the rigid civilizational hierarchies \\nthat marked the international system during the late nineteenth and early \\ntwentieth centuries, such groups came to see themselves as vanguards of \\nthe modern reform that they believed marked the only path to national \\ndignity. \\nIn Turkey, the military-bureaucratic reformers were more aggressive: \\nIn 1922, they abolished the Ottoman sultanate. That their Thai counterparts went only as far as establishing a constitutional monarchy in 1932 \\nprobably had more to do with circumstances—had the Ottoman Empire \\nbeen spared defeat in World War I, and had the last sultan (Mehmed \\nVI) not been so discredited by his cooperation with occupation forces, \\nevents in Turkey might have unfolded in a manner similar to those in \\nThailand. The important point is that in both cases the lesson drawn \\nfrom history and applied throughout most of the twentieth century was \\nthe same: The modernization and economic development required to \\nprotect “the nation” had to be carried out under the careful guidance of \\nan enlightened central power, which in Turkey meant the military and in \\nThailand meant the military plus the monarchy. \\nHence, after brief experiments with insular foreign policies, both \\ncountries moved squarely into the Western camp, following state-led \\nbut nonsocialist development strategies throughout the twentieth century. This type of development generated its own winning institutional coalition, complete with the usual political and economic privileges. Winners included the military-bureaucratic elite, a state-supported business \\nsector, and middle-class urbanites who embodied the state’s ideal of \\nwhat it meant to be modern and Thai or Turkish. On the losing end were \\nrural dwellers, ethnic and religious minorities, and small entrepreneurs \\nwith no access to state favor. For both Thaksin and Erdo¢gan, success at \\nthe ballot box has come from acting as champions of these forces, whose \\nrelative political quiescence or disenfranchisement no longer seems feasible in light of their increasing economic success. \\n Old Institutional Coalitions, New Social Forces\\n Thailand and Turkey built their twentieth-century social and political transformations on the basis of specific and historically contingent \\ninstitutional arrangements. In both countries, power was largely in the \\nhands of a conservative bureaucratic elite working closely with the \\nmilitary in a partnership based on shared goals of nation-building. The \\nnation-building project was framed in terms of a “modernization” process requiring leadership (and indeed, micromanagement) by elites. \\nThe vast bulk of the populace found itself marginalized, allegedly \\nlacking the schooling and sophistication needed to play anything more \\nthan a subordinate role. Power was concentrated in the hands of elites \\nwho purported to be selfless and were often aligned with technocrats. \\nBut the elites’ primary qualification to rule rested upon the monopoly \\nthat they held over legitimate state power. This monopoly was predicated upon and validated in turn by loyalty to the founding mythos of \\nthe modernizing nation-state.\\nIn Turkey, the source of this “narrative of origins” lies indisputably \\nin the person, thought, and legacy of Mustafa Kemal Atatürk. He was \\nthe successful Ottoman major-general—a winner over British Imperial \\nand French forces at Gallipoli in 1915–16 and the architect of victory in \\nthe Turkish War of Independence in 1922—who by force of arms overturned the 1920 Treaty of S`evres that the sultan had accepted. Atatürk \\nthereby prevented the dismemberment of the Ottoman Empire’s territorial core and led the process of creating the modern Turkish Republic. \\nServing as Turkey’s first president from 1923 till his death in 1938, \\nAtatürk embraced the ideal of the modern, secular, Westernized nationstate and played down the importance of Islam while prizing the city \\nover the countryside. \\nAfter his death, Kemalism became synonymous with a privileged position for the modernizing vanguard of the state, which included the bureaucracy and above all the military. The Turkish military saw itself as \\ndefending Kemalist modernization against the twin enemies of Islamism \\nand electoralism, a struggle validated both by external challenges and by \\ninternal threats from minority ethnic groups, notably the Kurds. \\nIn Thailand, the situation was both similar and different. In the early \\ntwentieth century, Siam (it first became known as Thailand in 1939) was \\nan absolute monarchy based, so the official formula went, on the three \\npillars of “nation, religion, king.” In 1932, a modernizing bureaucratic \\nelite comprising both military and civilian elements ended the absolute \\nmonarchy and introduced constitutional rule. But in the decades that \\nfollowed, a process of “monarchical rollback” took place, and a strong \\nalliance emerged between the military and the palace to present themselves as the leading force for modernization and development. Thailand’s anticommunist trajectory, especially from the 1960s, was closely \\nlinked to royally sponsored programs of rural transformation. The national mythology deployed was one of preserving “Thai-ness” and defending the monarchy against internal enemies. Prominent among such \\nenemies have been elected politicians (blamed for chronic corruption) \\nand ignorant rural voters, seen as susceptible to manipulation by these \\nsame politicians. More recently, “separatist” militants in the historically \\nMalay and Muslim far South have joined the internal-enemy ranks. \\nThe institutional arrangements that supported twentieth-century national myths in both Turkey and Thailand failed, however, to secure \\npolitical stability. Furthermore, the “modernization” justification left \\nthe elites of both countries increasingly vulnerable to external pressure \\nas the international system’s standards shifted in favor of liberalization. \\nThe tensions between hidebound urban elites and new demands from \\nvoters and citizens were a structural problem at the heart of the modernization project. The very socioeconomic transformation that modernization had brought about led directly to the emergence of new forces that \\nquestioned the legitimacy of the elites, institutions, and practices that \\nhad engendered development in the first place. In many respects, these \\narrangements were transitional undertakings, doomed to self-destruct.\\nIn Thailand, the Bangkok elite had long treated the rural masses as \\n“poor farmers” in need of royal and military benevolence—including \\nirrigation schemes, kingly plans for a “sufficiency economy,” participation in royal projects supporting traditional handicrafts—to help them \\ncope quiescently with structural inequalities and marginalization. Farmers were supposed to stay in their villages. But since the early 1960s, \\nfewer and fewer of them have done so, especially those who hail from \\nthe more deprived areas of the North and Northeast. When they venture \\nforth to seek more lucrative and agreeable forms of work, typically in \\nBangkok or the five industrialized provinces that ring the capital, rural \\npeople usually continue to list their “home” areas as their official places \\nof residence. Many a Bangkok taxi driver displays an identity card stating that he legally resides in Roi-et Province, hundreds of kilometers \\naway. \\nToday, the Thai countryside is becoming urbanized, new municipalities are burgeoning, and existing ones are expanding far beyond their \\nformal boundaries. The result is a new social class of urbanized villagers, people with one foot in the countryside and one foot in the city. \\nTheir roots are rural but their aspirations are urban, including a strong \\ndesire to see their children finish high school or even college. Most \\nmake money from diverse sources that may include a few weeks of rice \\nfarming but nowadays will more likely consist mainly of urban-oriented \\nwork such as small-scale subcontracting, petty trading, and migrant labor.\\nIn other words, the popular idea that Thailand is neatly split by an \\nurban-rural divide, with “poor farmers” periodically laying siege to \\nBangkok, is as woefully simplistic as the supposed divide in Turkey \\nbetween Islamists and secularists. Thailand’s urbanized villagers have \\ntheir counterparts in Turkey’s gecekondu (roughly meaning “shantytown”7) folk, who are generally discussed with reference to their level of \\nreligiosity rather than class, but that is merely a matter of framing. The \\nstereotype of the AKP voter that prevails among the old-line Turkish \\nestablishment portrays him as a so-called belly-scratcher: a barely educated, provincial know-nothing with traditional (but insincere) religious \\nvalues and minor business acumen who puts his own self-interest above \\nthe needs of his country. In reality, Erdo¢gan and the AKP, like Thaksin \\nand his parties, draw support from a number of social groups by means \\nof a message that mixes claims of business-friendly managerial acumen \\nwith populist promises of upward mobility for both the new entrepreneurs of the hinterlands and the urban villagers of the cities.\\nAlthough the AKP’s support, like Thaksin’s, does come heavily from \\nthe provinces, recent economic growth means that Turkey’s provinces \\nare not what they used to be—many are fast becoming vibrant commercial centers in their own right. The AKP-friendly new business association TUSKON (Confederation of Businessmen and Industrialists of Turkey) represents primarily the new entrepreneurs from Anatolian towns \\nsuch as Kayseri and Denizli, and has positioned itself as an alternative \\nto the Istanbul-dominated old guard of TUSIAD (Turkish Industry and \\nBusiness Association). Anatolian towns tend to be more traditional than \\nthe established urban centers of cosmopolitan Istanbul, bureaucratic \\nAnkara, and the Aegean port city of Izmir, but the level of religiosity \\nvaries, and many of these emerging entrepreneurs are well educated. \\nIn both Turkey and Thailand, then, just as there is much rural in the \\nurban—many big-city neighborhoods are filled with migrants from specific provinces and regions—there is also much urban in the rural. \\n Irreversible Trends\\n In Thailand, the gradual emergence of urbanized villagers, coupled \\nwith the stop-start institutionalization of electoral politics since 1973, \\nhas progressively weakened the Bangkok elite. During his five years as \\nprime minister (2001–2006), former police officer and telecommunications magnate Thaksin succeeded in doing what his precursors such as \\nChavalit Yongchaiyudh (1996–97) had never managed to achieve: He \\nsecured a lasting hold over the urbanized-villager vote. Remarkably, \\nhis hold even survived his ouster by the September 2006 military coup, \\nand remained as strong as ever in \\nthe July 2011 general election. By \\nharnessing the electoral potential \\nof urbanized villagers, pro-Thaksin \\nparties have made it impossible for \\nThailand’s twentieth-century institutional arrangements to continue \\nfunctioning unchallenged. \\nA similar process has been underway in Turkey. There, the success \\nof Erdo¢gan and the AKP in three \\nconsecutive elections (2002, 2007, \\nand 2011) has flowed from effective appeals to both the economic \\naspirations and the social values of \\nurbanized-villager voters. Over the \\nlast decade, moreover, Erdo¢gan and \\nhis party have gone further than any of their predecessors in dismantling \\nthe military-bureaucratic tutelage regime that has long formed such a \\npotent counterweight to Turkish electoral democracy. How have they \\nbeen able to do this? Because they have enjoyed the support of newly \\nempowered groups ranging from the Muslim equivalents of Thailand’s \\nurbanized villagers to the devout and capitalistic merchants of Anatolia. \\nWhat the AKP and Thaksin’s parties represent above all are significant challenges to the established national myths of Turkey and Thailand. Because of their manner of incorporation into the international \\nsystem in the nineteenth century and near-miss brushes with European \\ncolonialism, both Turkey and Thailand developed anxious national narratives that linked territorial integrity, nationhood, and modernization. \\nIn Turkey, these national narratives were associated with Kemalism; \\nin Thailand, they have been linked with the monarchy. Both guiding \\nmyths served to legitimize state-led modernization projects and therefore also the notion of an elite vanguard represented by the old institutional coalitions. Both myths cast the rural hinterland as the “past” of a \\ncountry that was being led out of backwardness by the capital’s benign \\nauthority. Rural folk were simultaneously idealized as the essence of the \\nnation and infantilized as subjects of state projects. \\nKemalism, for instance, permits peasant women to wear headscarves \\nin keeping with their Islamic beliefs about modesty, but demands a \\nheadscarf ban at institutions of higher learning because the Kemalist \\nnational narrative has a built-in teleology according to which modern \\neducation is supposed to displace traditional practices. Similarly, much \\nof the myth-making around the Thai monarchy involves the king’s \\n The changes in Thailand \\nand Turkey are irreversible. The old structures \\nof power are no longer \\nsustainable. Urbanized \\nvillagers are growing ever \\nmore urban, numerous, and \\nvocal. There is simply no \\ngoing back to where these \\ncountries were twenty or \\nthirty years ago.\\nchampioning of the poor, but the same discourse expresses disdain for \\ntheir participation in the electoral process on the grounds of their alleged \\nbuyability, along with their lack of education and sophistication. \\nIn both Turkey and Thailand, then, it is these long-marginalized \\ngroups—the national story’s disfavored stepchildren—who are now \\nclaiming center stage, ironically as a result of the liberalization policies the elites had to introduce due to their commitment to modernization and its associated imperative to keep up with contemporary \\ninternational standards. In Thailand, Thaksin’s string of victories has \\nhelped urbanized villagers to reimagine themselves as political actors \\nwho are no longer subordinated to the wearying paternalism of the \\n“network monarchy.”9 Over the past couple of years, large plaques \\nbearing the words “Nation, religion, king, people” have appeared on \\nthe outer walls of Bangkok military bases: A fourth pillar, the populace, has been added to the three traditional pillars of Thai-ness. \\nIn Turkey since the AKP took power a decade ago, it has become \\nincreasingly apparent that for many people education, prosperity, and \\nmodernization as they are generally understood need not displace traditional values such as religion. People who embody traditional values are now in power; Erdo¢gan’s wife and his two college-educated \\ndaughters all wear headscarves.\\n The Road Ahead\\n These kinds of changes in Thailand and Turkey are irreversible. The \\nold structures of power are no longer sustainable. Urbanized villagers \\nare growing ever more urban, numerous, and vocal. There is simply no \\ngoing back to where these countries were twenty or thirty years ago. \\nThe demographics and the wider patterns of social change, plus rising \\nskepticism about the national myths that sustained these nations through \\nmuch of the twentieth century, are working against the mechanisms that \\nelites once used to blunt the consequences of electoral politics.\\nThis does not mean, however, that the national myths have been entirely dismantled. It would be more accurate to say that they are being \\nreinterpreted. Neither Erdo¢gan nor Thaksin has shied away from using \\nthe state power legitimized by these myths when it has suited him, and \\neach has shown himself ready to fan nationalist flames. For all his massive voter mandates, Thaksin has enjoyed good relations with China and \\nhas long admired the ways in which authoritarian regimes in the region \\nmanage and contain popular dissent. \\nThe increasingly authoritarian tendencies evident in Erdo¢gan’s governing style, meanwhile, have evoked comparisons with Vladimir Putin. Thaksin and Erdo¢gan have practiced a highly personalized form of \\nrule, characterized by a kind of “sultanism” that emulates and sometimes \\noutdoes that of the militaries with which they have clashed. So though \\nthere is no going back, the road ahead does not necessarily promise to \\nlead to the gradual consolidation of liberal-democratic norms, and the \\npossibility of detours into populist authoritarianism looms. \\nIf there is one obvious conclusion here, it is that in countries such as \\nTurkey and Thailand the old labels are not helpful. The urban, modernized middle classes subscribe to some values we associate with liberal \\ndemocracy (secularism in Turkey, “clean” politics in Thailand) but \\nare increasingly suspicious of electoral politics that undermines their \\npower. \\nThe villagers are no longer in the village. Those associated with \\nmore traditional ways of life have also become a force for change. The \\npreviously disenfranchised have been empowered through electoral \\npolitics despite constraints imposed by the military, the bureaucracy, \\nand the judiciary, but they have not necessarily emerged from that \\nprocess with a stronger belief in liberal-democratic values. The hypernationalist political-development trajectory exemplified by nevercolonized countries such as Turkey and Thailand, like a number of \\nother states at the edges of Europe and Asia, may not provide the most \\nfertile ground for liberalism. While there is no going backward, for \\nnow the future remains open and intensely contested.\\n'"
     },
     "execution_count": 51,
     "metadata": {},
     "output_type": "execute_result"
    }
   ],
   "source": [
    "get_filteredtext(28,tofile=False)"
   ],
   "metadata": {
    "collapsed": false
   }
  },
  {
   "cell_type": "code",
   "execution_count": 53,
   "outputs": [],
   "source": [
    "#!mkdir ../data/large_data/sample_filteredtext\n",
    "for id in sample_pop_ids:\n",
    "    filteredtext = get_filteredtext(id, tofile=False)\n",
    "    sample_path = \"../data/large_data/sample_filteredtext/\"\n",
    "    newfile = \"filteredtext_pop_id_{}.txt\".format(str(id))\n",
    "    with open(sample_path + newfile, \"w\") as f:\n",
    "        f.write(filteredtext)"
   ],
   "metadata": {
    "collapsed": false
   }
  },
  {
   "cell_type": "code",
   "execution_count": 43,
   "outputs": [],
   "source": [
    "path = \"../data/large_data/articles_filteredtexts/\"\n",
    "for id in articles_metadata[\"pop_id\"]:\n",
    "    get_filteredtext(id)"
   ],
   "metadata": {
    "collapsed": false
   }
  },
  {
   "cell_type": "code",
   "execution_count": null,
   "outputs": [],
   "source": [],
   "metadata": {
    "collapsed": false
   }
  }
 ],
 "metadata": {
  "kernelspec": {
   "display_name": "Python 3",
   "language": "python",
   "name": "python3"
  },
  "language_info": {
   "codemirror_mode": {
    "name": "ipython",
    "version": 2
   },
   "file_extension": ".py",
   "mimetype": "text/x-python",
   "name": "python",
   "nbconvert_exporter": "python",
   "pygments_lexer": "ipython2",
   "version": "2.7.6"
  }
 },
 "nbformat": 4,
 "nbformat_minor": 0
}
