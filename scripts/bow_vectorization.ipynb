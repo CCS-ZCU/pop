{
 "cells": [
  {
   "cell_type": "code",
   "execution_count": 130,
   "metadata": {
    "collapsed": true
   },
   "outputs": [],
   "source": [
    "from sklearn.feature_extraction.text import CountVectorizer\n",
    "import os\n",
    "from sklearn.decomposition import TruncatedSVD\n",
    "from sklearn.metrics.pairwise import cosine_similarity\n",
    "from sklearn.manifold import TSNE\n",
    "import matplotlib.pyplot as plt\n",
    "import pandas as pd"
   ]
  },
  {
   "cell_type": "code",
   "execution_count": 74,
   "outputs": [
    {
     "data": {
      "text/plain": "['../data/large_data/populis_conc5/populis_conc5_pop_id_5.txt',\n '../data/large_data/populis_conc5/populis_conc5_pop_id_524.txt',\n '../data/large_data/populis_conc5/populis_conc5_pop_id_75.txt',\n '../data/large_data/populis_conc5/populis_conc5_pop_id_242.txt',\n '../data/large_data/populis_conc5/populis_conc5_pop_id_256.txt',\n '../data/large_data/populis_conc5/populis_conc5_pop_id_61.txt',\n '../data/large_data/populis_conc5/populis_conc5_pop_id_518.txt',\n '../data/large_data/populis_conc5/populis_conc5_pop_id_49.txt',\n '../data/large_data/populis_conc5/populis_conc5_pop_id_281.txt',\n '../data/large_data/populis_conc5/populis_conc5_pop_id_295.txt']"
     },
     "execution_count": 74,
     "metadata": {},
     "output_type": "execute_result"
    }
   ],
   "source": [
    "path = \"../data/large_data/populis_conc5/\"\n",
    "filenames = [path + f for f in os.listdir(path) if \".txt\" in f]\n",
    "filenames[:10]"
   ],
   "metadata": {
    "collapsed": false
   }
  },
  {
   "cell_type": "code",
   "execution_count": 115,
   "outputs": [],
   "source": [
    "n = 10000\n",
    "vectorizer = CountVectorizer(input=\"filename\", max_features=n, stop_words=\"left\")\n",
    "X = vectorizer.fit_transform(filenames)"
   ],
   "metadata": {
    "collapsed": false
   }
  },
  {
   "cell_type": "code",
   "execution_count": 116,
   "outputs": [],
   "source": [
    "vocab_dict = vectorizer.vocabulary_"
   ],
   "metadata": {
    "collapsed": false
   }
  },
  {
   "cell_type": "code",
   "execution_count": 117,
   "outputs": [
    {
     "data": {
      "text/plain": "6392"
     },
     "execution_count": 117,
     "metadata": {},
     "output_type": "execute_result"
    }
   ],
   "source": [
    "vocab_dict[\"populist\"]"
   ],
   "metadata": {
    "collapsed": false
   }
  },
  {
   "cell_type": "code",
   "execution_count": 118,
   "outputs": [
    {
     "data": {
      "text/plain": "6361"
     },
     "execution_count": 118,
     "metadata": {},
     "output_type": "execute_result"
    }
   ],
   "source": [
    "vocab_dict[\"populism\"]\n"
   ],
   "metadata": {
    "collapsed": false
   }
  },
  {
   "cell_type": "code",
   "execution_count": 119,
   "outputs": [],
   "source": [
    "#X[:,6392].sum()"
   ],
   "metadata": {
    "collapsed": false
   }
  },
  {
   "cell_type": "code",
   "execution_count": 120,
   "outputs": [],
   "source": [
    "#X[:,6361].sum()\n"
   ],
   "metadata": {
    "collapsed": false
   }
  },
  {
   "cell_type": "code",
   "execution_count": 121,
   "outputs": [
    {
     "data": {
      "text/plain": "['centralized',\n 'central',\n 'centrally',\n 'concentrate',\n 'centre',\n 'centrist',\n 'east_central_europe',\n 'from_competition_to_polarization_in_central_europe_',\n 'central_european',\n 'thincentre',\n 'centrism',\n 'concentration',\n 'central_europe',\n 'centrality',\n 'concentrated',\n 'peoplecentrism',\n 'centric',\n 'ethnocentric',\n 'centralize',\n 'central_and_eastern_europe',\n 'centralization',\n 'ecocentrism',\n 'ethnocentrism',\n 'the_central_bank',\n 'decentralization',\n 'ofcentre',\n 'eurocentric']"
     },
     "execution_count": 121,
     "metadata": {},
     "output_type": "execute_result"
    }
   ],
   "source": [
    "[w for w in vocab_dict.keys() if \"centr\" in w]"
   ],
   "metadata": {
    "collapsed": false
   }
  },
  {
   "cell_type": "code",
   "execution_count": 122,
   "outputs": [
    {
     "name": "stdout",
     "output_type": "stream",
     "text": [
      "left 1854\n",
      "_flanking_on_the_left_and_right 4\n",
      "leftwe 56\n",
      "leftist 189\n",
      "leftpopulist 5\n",
      "leftand 8\n",
      "leftwing 2\n",
      "the_left_alliance 2\n",
      "the_coalition_of_the_radical_left 2\n",
      "leftmaidan 3\n",
      "leftright 4\n",
      "the_populist_radical_left_ 4\n",
      "the_populist_radical_left_direction 5\n",
      "the_levers_of_the_left_ 2\n",
      "leftism 4\n",
      "leftists 2\n",
      "leftpopulism 2\n"
     ]
    }
   ],
   "source": [
    "for w in [w for w in vocab_dict.keys() if \"left\" in w]:\n",
    "    print(w, X[:,vocab_dict[w]].sum())\n"
   ],
   "metadata": {
    "collapsed": false
   }
  },
  {
   "cell_type": "code",
   "execution_count": 123,
   "outputs": [
    {
     "name": "stdout",
     "output_type": "stream",
     "text": [
      "right 4524\n",
      "rightwe 165\n",
      "_flanking_on_the_left_and_right 4\n",
      "rightly 18\n",
      "the_comparative_linguistic_simplicity_of_right_ 3\n",
      "rightful 9\n",
      "rightsoriente 2\n",
      "rightwing 9\n",
      "rightfully 3\n",
      "outright 14\n",
      "rightist 61\n",
      "rights 3\n",
      "the_challenge_of_right_ 3\n",
      "radicalright 7\n",
      "rightpopulist 7\n",
      "the_populist_radical_right_parties 2\n",
      "righteous 3\n",
      "rightward 5\n",
      "the_radical_right_hypothesis 2\n",
      "the_populist_radical_right 6\n",
      "farright 4\n",
      "leftright 4\n",
      "pretreatmentpopulistsintherightpanel 2\n",
      "the_populist_radical_and_right 2\n",
      "ʻright 2\n"
     ]
    }
   ],
   "source": [
    "for w in [w for w in vocab_dict.keys() if \"right\" in w]:\n",
    "    print(w, X[:,vocab_dict[w]].sum())"
   ],
   "metadata": {
    "collapsed": false
   }
  },
  {
   "cell_type": "code",
   "execution_count": 124,
   "outputs": [
    {
     "data": {
      "text/plain": "1854"
     },
     "execution_count": 124,
     "metadata": {},
     "output_type": "execute_result"
    }
   ],
   "source": [
    "X[:,vocab_dict[\"left\"]].sum()"
   ],
   "metadata": {
    "collapsed": false
   }
  },
  {
   "cell_type": "code",
   "execution_count": 125,
   "outputs": [
    {
     "data": {
      "text/plain": "50"
     },
     "execution_count": 125,
     "metadata": {},
     "output_type": "execute_result"
    }
   ],
   "source": [
    "X[:,vocab_dict[\"centrist\"]].sum()"
   ],
   "metadata": {
    "collapsed": false
   }
  },
  {
   "cell_type": "code",
   "execution_count": 126,
   "outputs": [
    {
     "data": {
      "text/plain": "81"
     },
     "execution_count": 126,
     "metadata": {},
     "output_type": "execute_result"
    }
   ],
   "source": [
    "X[:,vocab_dict[\"centrism\"]].sum()"
   ],
   "metadata": {
    "collapsed": false
   }
  },
  {
   "cell_type": "code",
   "execution_count": 127,
   "outputs": [
    {
     "data": {
      "text/plain": "159"
     },
     "execution_count": 127,
     "metadata": {},
     "output_type": "execute_result"
    }
   ],
   "source": [
    "X[:,vocab_dict[\"technocratic\"]].sum()"
   ],
   "metadata": {
    "collapsed": false
   }
  },
  {
   "cell_type": "code",
   "execution_count": 81,
   "outputs": [
    {
     "data": {
      "text/plain": "array([[ 1.84133316e+01,  9.54263091e+00, -4.88758127e+00, ...,\n         1.19082668e+00,  5.05376120e-01, -4.29884995e-01],\n       [ 1.26798516e+02, -3.45447161e+01,  3.11342047e+01, ...,\n        -1.76150541e-01, -6.51153400e-02, -1.08641293e-01],\n       [ 3.52569574e+00,  1.75398374e+00,  7.65009774e-01, ...,\n         2.97016312e-02, -2.71483353e-01, -2.11958475e-02],\n       ...,\n       [ 7.27962383e+01,  1.94606401e+01,  2.19154560e+01, ...,\n        -4.64330313e-01, -1.74304727e-01,  2.37428653e-01],\n       [ 1.41004999e+02,  4.27279553e+00,  3.39285393e+01, ...,\n        -3.54215464e-01,  2.98682863e-01,  3.75313295e-01],\n       [ 1.32729903e+01,  4.47197167e+00, -1.18010500e+00, ...,\n         3.72170655e-01, -2.04619325e+00,  8.89985986e-02]])"
     },
     "execution_count": 81,
     "metadata": {},
     "output_type": "execute_result"
    }
   ],
   "source": [
    "svd = TruncatedSVD(n_components=300, n_iter=10, random_state=0)\n",
    "X_svd = svd.fit_transform(X)\n",
    "X_svd"
   ],
   "metadata": {
    "collapsed": false
   }
  },
  {
   "cell_type": "code",
   "execution_count": 128,
   "outputs": [
    {
     "data": {
      "text/plain": "(537, 300)"
     },
     "execution_count": 128,
     "metadata": {},
     "output_type": "execute_result"
    }
   ],
   "source": [
    "X_svd.shape"
   ],
   "metadata": {
    "collapsed": false
   }
  },
  {
   "cell_type": "code",
   "execution_count": 129,
   "outputs": [],
   "source": [
    "X_sim = cosine_similarity(X_svd)"
   ],
   "metadata": {
    "collapsed": false
   }
  },
  {
   "cell_type": "code",
   "execution_count": 89,
   "outputs": [
    {
     "data": {
      "text/plain": "(537, 537)"
     },
     "execution_count": 89,
     "metadata": {},
     "output_type": "execute_result"
    }
   ],
   "source": [
    "X_sim.shape"
   ],
   "metadata": {
    "collapsed": false
   }
  },
  {
   "cell_type": "code",
   "execution_count": 132,
   "outputs": [
    {
     "data": {
      "text/plain": "                              populis_conc5_pop_id_5.txt  \\\npopulis_conc5_pop_id_5.txt                      1.000000   \npopulis_conc5_pop_id_524.txt                    0.462212   \npopulis_conc5_pop_id_75.txt                     0.605755   \npopulis_conc5_pop_id_242.txt                    0.033923   \npopulis_conc5_pop_id_256.txt                    0.709563   \n...                                                  ...   \npopulis_conc5_pop_id_267.txt                    0.786041   \npopulis_conc5_pop_id_501.txt                    0.348492   \npopulis_conc5_pop_id_529.txt                    0.580607   \npopulis_conc5_pop_id_78.txt                     0.593550   \npopulis_conc5_pop_id_8.txt                      0.764263   \n\n                              populis_conc5_pop_id_524.txt  \\\npopulis_conc5_pop_id_5.txt                        0.462212   \npopulis_conc5_pop_id_524.txt                      1.000000   \npopulis_conc5_pop_id_75.txt                       0.414909   \npopulis_conc5_pop_id_242.txt                      0.274858   \npopulis_conc5_pop_id_256.txt                      0.470001   \n...                                                    ...   \npopulis_conc5_pop_id_267.txt                      0.523136   \npopulis_conc5_pop_id_501.txt                      0.611328   \npopulis_conc5_pop_id_529.txt                      0.535660   \npopulis_conc5_pop_id_78.txt                       0.618598   \npopulis_conc5_pop_id_8.txt                        0.487925   \n\n                              populis_conc5_pop_id_75.txt  \\\npopulis_conc5_pop_id_5.txt                       0.605755   \npopulis_conc5_pop_id_524.txt                     0.414909   \npopulis_conc5_pop_id_75.txt                      1.000000   \npopulis_conc5_pop_id_242.txt                     0.102162   \npopulis_conc5_pop_id_256.txt                     0.404719   \n...                                                   ...   \npopulis_conc5_pop_id_267.txt                     0.661104   \npopulis_conc5_pop_id_501.txt                     0.280409   \npopulis_conc5_pop_id_529.txt                     0.509558   \npopulis_conc5_pop_id_78.txt                      0.476935   \npopulis_conc5_pop_id_8.txt                       0.480244   \n\n                              populis_conc5_pop_id_242.txt  \\\npopulis_conc5_pop_id_5.txt                        0.033923   \npopulis_conc5_pop_id_524.txt                      0.274858   \npopulis_conc5_pop_id_75.txt                       0.102162   \npopulis_conc5_pop_id_242.txt                      1.000000   \npopulis_conc5_pop_id_256.txt                      0.131247   \n...                                                    ...   \npopulis_conc5_pop_id_267.txt                      0.163848   \npopulis_conc5_pop_id_501.txt                      0.444503   \npopulis_conc5_pop_id_529.txt                      0.268553   \npopulis_conc5_pop_id_78.txt                       0.179023   \npopulis_conc5_pop_id_8.txt                        0.063564   \n\n                              populis_conc5_pop_id_256.txt  \\\npopulis_conc5_pop_id_5.txt                        0.709563   \npopulis_conc5_pop_id_524.txt                      0.470001   \npopulis_conc5_pop_id_75.txt                       0.404719   \npopulis_conc5_pop_id_242.txt                      0.131247   \npopulis_conc5_pop_id_256.txt                      1.000000   \n...                                                    ...   \npopulis_conc5_pop_id_267.txt                      0.656986   \npopulis_conc5_pop_id_501.txt                      0.534225   \npopulis_conc5_pop_id_529.txt                      0.479343   \npopulis_conc5_pop_id_78.txt                       0.593776   \npopulis_conc5_pop_id_8.txt                        0.606162   \n\n                              populis_conc5_pop_id_61.txt  \\\npopulis_conc5_pop_id_5.txt                       0.585185   \npopulis_conc5_pop_id_524.txt                     0.449412   \npopulis_conc5_pop_id_75.txt                      0.710787   \npopulis_conc5_pop_id_242.txt                     0.019424   \npopulis_conc5_pop_id_256.txt                     0.530542   \n...                                                   ...   \npopulis_conc5_pop_id_267.txt                     0.524736   \npopulis_conc5_pop_id_501.txt                     0.309725   \npopulis_conc5_pop_id_529.txt                     0.583102   \npopulis_conc5_pop_id_78.txt                      0.616702   \npopulis_conc5_pop_id_8.txt                       0.515560   \n\n                              populis_conc5_pop_id_518.txt  \\\npopulis_conc5_pop_id_5.txt                        0.229301   \npopulis_conc5_pop_id_524.txt                      0.503028   \npopulis_conc5_pop_id_75.txt                       0.140570   \npopulis_conc5_pop_id_242.txt                      0.290040   \npopulis_conc5_pop_id_256.txt                      0.299978   \n...                                                    ...   \npopulis_conc5_pop_id_267.txt                      0.309471   \npopulis_conc5_pop_id_501.txt                      0.612315   \npopulis_conc5_pop_id_529.txt                      0.267214   \npopulis_conc5_pop_id_78.txt                       0.412349   \npopulis_conc5_pop_id_8.txt                        0.419279   \n\n                              populis_conc5_pop_id_49.txt  \\\npopulis_conc5_pop_id_5.txt                       0.688969   \npopulis_conc5_pop_id_524.txt                     0.580321   \npopulis_conc5_pop_id_75.txt                      0.684003   \npopulis_conc5_pop_id_242.txt                     0.080341   \npopulis_conc5_pop_id_256.txt                     0.574767   \n...                                                   ...   \npopulis_conc5_pop_id_267.txt                     0.651943   \npopulis_conc5_pop_id_501.txt                     0.448734   \npopulis_conc5_pop_id_529.txt                     0.662531   \npopulis_conc5_pop_id_78.txt                      0.673475   \npopulis_conc5_pop_id_8.txt                       0.663875   \n\n                              populis_conc5_pop_id_281.txt  \\\npopulis_conc5_pop_id_5.txt                        0.359526   \npopulis_conc5_pop_id_524.txt                      0.612495   \npopulis_conc5_pop_id_75.txt                       0.323738   \npopulis_conc5_pop_id_242.txt                      0.336838   \npopulis_conc5_pop_id_256.txt                      0.439818   \n...                                                    ...   \npopulis_conc5_pop_id_267.txt                      0.470905   \npopulis_conc5_pop_id_501.txt                      0.685418   \npopulis_conc5_pop_id_529.txt                      0.442766   \npopulis_conc5_pop_id_78.txt                       0.550114   \npopulis_conc5_pop_id_8.txt                        0.411122   \n\n                              populis_conc5_pop_id_295.txt  ...  \\\npopulis_conc5_pop_id_5.txt                        0.636288  ...   \npopulis_conc5_pop_id_524.txt                      0.647006  ...   \npopulis_conc5_pop_id_75.txt                       0.480541  ...   \npopulis_conc5_pop_id_242.txt                      0.264685  ...   \npopulis_conc5_pop_id_256.txt                      0.598169  ...   \n...                                                    ...  ...   \npopulis_conc5_pop_id_267.txt                      0.723502  ...   \npopulis_conc5_pop_id_501.txt                      0.632218  ...   \npopulis_conc5_pop_id_529.txt                      0.580015  ...   \npopulis_conc5_pop_id_78.txt                       0.652356  ...   \npopulis_conc5_pop_id_8.txt                        0.608377  ...   \n\n                              populis_conc5_pop_id_298.txt  \\\npopulis_conc5_pop_id_5.txt                        0.342221   \npopulis_conc5_pop_id_524.txt                      0.561194   \npopulis_conc5_pop_id_75.txt                       0.159860   \npopulis_conc5_pop_id_242.txt                      0.428721   \npopulis_conc5_pop_id_256.txt                      0.513585   \n...                                                    ...   \npopulis_conc5_pop_id_267.txt                      0.482041   \npopulis_conc5_pop_id_501.txt                      0.697170   \npopulis_conc5_pop_id_529.txt                      0.317677   \npopulis_conc5_pop_id_78.txt                       0.489028   \npopulis_conc5_pop_id_8.txt                        0.358798   \n\n                              populis_conc5_pop_id_515.txt  \\\npopulis_conc5_pop_id_5.txt                        0.173671   \npopulis_conc5_pop_id_524.txt                      0.561514   \npopulis_conc5_pop_id_75.txt                       0.179982   \npopulis_conc5_pop_id_242.txt                      0.368620   \npopulis_conc5_pop_id_256.txt                      0.317483   \n...                                                    ...   \npopulis_conc5_pop_id_267.txt                      0.336717   \npopulis_conc5_pop_id_501.txt                      0.658687   \npopulis_conc5_pop_id_529.txt                      0.268037   \npopulis_conc5_pop_id_78.txt                       0.400757   \npopulis_conc5_pop_id_8.txt                        0.268712   \n\n                              populis_conc5_pop_id_273.txt  \\\npopulis_conc5_pop_id_5.txt                        0.491054   \npopulis_conc5_pop_id_524.txt                      0.596039   \npopulis_conc5_pop_id_75.txt                       0.472520   \npopulis_conc5_pop_id_242.txt                      0.188836   \npopulis_conc5_pop_id_256.txt                      0.506315   \n...                                                    ...   \npopulis_conc5_pop_id_267.txt                      0.502910   \npopulis_conc5_pop_id_501.txt                      0.531122   \npopulis_conc5_pop_id_529.txt                      0.529680   \npopulis_conc5_pop_id_78.txt                       0.601533   \npopulis_conc5_pop_id_8.txt                        0.527692   \n\n                              populis_conc5_pop_id_44.txt  \\\npopulis_conc5_pop_id_5.txt                            0.0   \npopulis_conc5_pop_id_524.txt                          0.0   \npopulis_conc5_pop_id_75.txt                           0.0   \npopulis_conc5_pop_id_242.txt                          0.0   \npopulis_conc5_pop_id_256.txt                          0.0   \n...                                                   ...   \npopulis_conc5_pop_id_267.txt                          0.0   \npopulis_conc5_pop_id_501.txt                          0.0   \npopulis_conc5_pop_id_529.txt                          0.0   \npopulis_conc5_pop_id_78.txt                           0.0   \npopulis_conc5_pop_id_8.txt                            0.0   \n\n                              populis_conc5_pop_id_50.txt  \\\npopulis_conc5_pop_id_5.txt                       0.803629   \npopulis_conc5_pop_id_524.txt                     0.483989   \npopulis_conc5_pop_id_75.txt                      0.578629   \npopulis_conc5_pop_id_242.txt                     0.053917   \npopulis_conc5_pop_id_256.txt                     0.628636   \n...                                                   ...   \npopulis_conc5_pop_id_267.txt                     0.714339   \npopulis_conc5_pop_id_501.txt                     0.341028   \npopulis_conc5_pop_id_529.txt                     0.620498   \npopulis_conc5_pop_id_78.txt                      0.605593   \npopulis_conc5_pop_id_8.txt                       0.739361   \n\n                              populis_conc5_pop_id_267.txt  \\\npopulis_conc5_pop_id_5.txt                        0.786041   \npopulis_conc5_pop_id_524.txt                      0.523136   \npopulis_conc5_pop_id_75.txt                       0.661104   \npopulis_conc5_pop_id_242.txt                      0.163848   \npopulis_conc5_pop_id_256.txt                      0.656986   \n...                                                    ...   \npopulis_conc5_pop_id_267.txt                      1.000000   \npopulis_conc5_pop_id_501.txt                      0.541440   \npopulis_conc5_pop_id_529.txt                      0.550948   \npopulis_conc5_pop_id_78.txt                       0.581863   \npopulis_conc5_pop_id_8.txt                        0.617433   \n\n                              populis_conc5_pop_id_501.txt  \\\npopulis_conc5_pop_id_5.txt                        0.348492   \npopulis_conc5_pop_id_524.txt                      0.611328   \npopulis_conc5_pop_id_75.txt                       0.280409   \npopulis_conc5_pop_id_242.txt                      0.444503   \npopulis_conc5_pop_id_256.txt                      0.534225   \n...                                                    ...   \npopulis_conc5_pop_id_267.txt                      0.541440   \npopulis_conc5_pop_id_501.txt                      1.000000   \npopulis_conc5_pop_id_529.txt                      0.389386   \npopulis_conc5_pop_id_78.txt                       0.538421   \npopulis_conc5_pop_id_8.txt                        0.374763   \n\n                              populis_conc5_pop_id_529.txt  \\\npopulis_conc5_pop_id_5.txt                        0.580607   \npopulis_conc5_pop_id_524.txt                      0.535660   \npopulis_conc5_pop_id_75.txt                       0.509558   \npopulis_conc5_pop_id_242.txt                      0.268553   \npopulis_conc5_pop_id_256.txt                      0.479343   \n...                                                    ...   \npopulis_conc5_pop_id_267.txt                      0.550948   \npopulis_conc5_pop_id_501.txt                      0.389386   \npopulis_conc5_pop_id_529.txt                      1.000000   \npopulis_conc5_pop_id_78.txt                       0.695919   \npopulis_conc5_pop_id_8.txt                        0.595209   \n\n                              populis_conc5_pop_id_78.txt  \\\npopulis_conc5_pop_id_5.txt                       0.593550   \npopulis_conc5_pop_id_524.txt                     0.618598   \npopulis_conc5_pop_id_75.txt                      0.476935   \npopulis_conc5_pop_id_242.txt                     0.179023   \npopulis_conc5_pop_id_256.txt                     0.593776   \n...                                                   ...   \npopulis_conc5_pop_id_267.txt                     0.581863   \npopulis_conc5_pop_id_501.txt                     0.538421   \npopulis_conc5_pop_id_529.txt                     0.695919   \npopulis_conc5_pop_id_78.txt                      1.000000   \npopulis_conc5_pop_id_8.txt                       0.570224   \n\n                              populis_conc5_pop_id_8.txt  \npopulis_conc5_pop_id_5.txt                      0.764263  \npopulis_conc5_pop_id_524.txt                    0.487925  \npopulis_conc5_pop_id_75.txt                     0.480244  \npopulis_conc5_pop_id_242.txt                    0.063564  \npopulis_conc5_pop_id_256.txt                    0.606162  \n...                                                  ...  \npopulis_conc5_pop_id_267.txt                    0.617433  \npopulis_conc5_pop_id_501.txt                    0.374763  \npopulis_conc5_pop_id_529.txt                    0.595209  \npopulis_conc5_pop_id_78.txt                     0.570224  \npopulis_conc5_pop_id_8.txt                      1.000000  \n\n[537 rows x 537 columns]",
      "text/html": "<div>\n<style scoped>\n    .dataframe tbody tr th:only-of-type {\n        vertical-align: middle;\n    }\n\n    .dataframe tbody tr th {\n        vertical-align: top;\n    }\n\n    .dataframe thead th {\n        text-align: right;\n    }\n</style>\n<table border=\"1\" class=\"dataframe\">\n  <thead>\n    <tr style=\"text-align: right;\">\n      <th></th>\n      <th>populis_conc5_pop_id_5.txt</th>\n      <th>populis_conc5_pop_id_524.txt</th>\n      <th>populis_conc5_pop_id_75.txt</th>\n      <th>populis_conc5_pop_id_242.txt</th>\n      <th>populis_conc5_pop_id_256.txt</th>\n      <th>populis_conc5_pop_id_61.txt</th>\n      <th>populis_conc5_pop_id_518.txt</th>\n      <th>populis_conc5_pop_id_49.txt</th>\n      <th>populis_conc5_pop_id_281.txt</th>\n      <th>populis_conc5_pop_id_295.txt</th>\n      <th>...</th>\n      <th>populis_conc5_pop_id_298.txt</th>\n      <th>populis_conc5_pop_id_515.txt</th>\n      <th>populis_conc5_pop_id_273.txt</th>\n      <th>populis_conc5_pop_id_44.txt</th>\n      <th>populis_conc5_pop_id_50.txt</th>\n      <th>populis_conc5_pop_id_267.txt</th>\n      <th>populis_conc5_pop_id_501.txt</th>\n      <th>populis_conc5_pop_id_529.txt</th>\n      <th>populis_conc5_pop_id_78.txt</th>\n      <th>populis_conc5_pop_id_8.txt</th>\n    </tr>\n  </thead>\n  <tbody>\n    <tr>\n      <th>populis_conc5_pop_id_5.txt</th>\n      <td>1.000000</td>\n      <td>0.462212</td>\n      <td>0.605755</td>\n      <td>0.033923</td>\n      <td>0.709563</td>\n      <td>0.585185</td>\n      <td>0.229301</td>\n      <td>0.688969</td>\n      <td>0.359526</td>\n      <td>0.636288</td>\n      <td>...</td>\n      <td>0.342221</td>\n      <td>0.173671</td>\n      <td>0.491054</td>\n      <td>0.0</td>\n      <td>0.803629</td>\n      <td>0.786041</td>\n      <td>0.348492</td>\n      <td>0.580607</td>\n      <td>0.593550</td>\n      <td>0.764263</td>\n    </tr>\n    <tr>\n      <th>populis_conc5_pop_id_524.txt</th>\n      <td>0.462212</td>\n      <td>1.000000</td>\n      <td>0.414909</td>\n      <td>0.274858</td>\n      <td>0.470001</td>\n      <td>0.449412</td>\n      <td>0.503028</td>\n      <td>0.580321</td>\n      <td>0.612495</td>\n      <td>0.647006</td>\n      <td>...</td>\n      <td>0.561194</td>\n      <td>0.561514</td>\n      <td>0.596039</td>\n      <td>0.0</td>\n      <td>0.483989</td>\n      <td>0.523136</td>\n      <td>0.611328</td>\n      <td>0.535660</td>\n      <td>0.618598</td>\n      <td>0.487925</td>\n    </tr>\n    <tr>\n      <th>populis_conc5_pop_id_75.txt</th>\n      <td>0.605755</td>\n      <td>0.414909</td>\n      <td>1.000000</td>\n      <td>0.102162</td>\n      <td>0.404719</td>\n      <td>0.710787</td>\n      <td>0.140570</td>\n      <td>0.684003</td>\n      <td>0.323738</td>\n      <td>0.480541</td>\n      <td>...</td>\n      <td>0.159860</td>\n      <td>0.179982</td>\n      <td>0.472520</td>\n      <td>0.0</td>\n      <td>0.578629</td>\n      <td>0.661104</td>\n      <td>0.280409</td>\n      <td>0.509558</td>\n      <td>0.476935</td>\n      <td>0.480244</td>\n    </tr>\n    <tr>\n      <th>populis_conc5_pop_id_242.txt</th>\n      <td>0.033923</td>\n      <td>0.274858</td>\n      <td>0.102162</td>\n      <td>1.000000</td>\n      <td>0.131247</td>\n      <td>0.019424</td>\n      <td>0.290040</td>\n      <td>0.080341</td>\n      <td>0.336838</td>\n      <td>0.264685</td>\n      <td>...</td>\n      <td>0.428721</td>\n      <td>0.368620</td>\n      <td>0.188836</td>\n      <td>0.0</td>\n      <td>0.053917</td>\n      <td>0.163848</td>\n      <td>0.444503</td>\n      <td>0.268553</td>\n      <td>0.179023</td>\n      <td>0.063564</td>\n    </tr>\n    <tr>\n      <th>populis_conc5_pop_id_256.txt</th>\n      <td>0.709563</td>\n      <td>0.470001</td>\n      <td>0.404719</td>\n      <td>0.131247</td>\n      <td>1.000000</td>\n      <td>0.530542</td>\n      <td>0.299978</td>\n      <td>0.574767</td>\n      <td>0.439818</td>\n      <td>0.598169</td>\n      <td>...</td>\n      <td>0.513585</td>\n      <td>0.317483</td>\n      <td>0.506315</td>\n      <td>0.0</td>\n      <td>0.628636</td>\n      <td>0.656986</td>\n      <td>0.534225</td>\n      <td>0.479343</td>\n      <td>0.593776</td>\n      <td>0.606162</td>\n    </tr>\n    <tr>\n      <th>...</th>\n      <td>...</td>\n      <td>...</td>\n      <td>...</td>\n      <td>...</td>\n      <td>...</td>\n      <td>...</td>\n      <td>...</td>\n      <td>...</td>\n      <td>...</td>\n      <td>...</td>\n      <td>...</td>\n      <td>...</td>\n      <td>...</td>\n      <td>...</td>\n      <td>...</td>\n      <td>...</td>\n      <td>...</td>\n      <td>...</td>\n      <td>...</td>\n      <td>...</td>\n      <td>...</td>\n    </tr>\n    <tr>\n      <th>populis_conc5_pop_id_267.txt</th>\n      <td>0.786041</td>\n      <td>0.523136</td>\n      <td>0.661104</td>\n      <td>0.163848</td>\n      <td>0.656986</td>\n      <td>0.524736</td>\n      <td>0.309471</td>\n      <td>0.651943</td>\n      <td>0.470905</td>\n      <td>0.723502</td>\n      <td>...</td>\n      <td>0.482041</td>\n      <td>0.336717</td>\n      <td>0.502910</td>\n      <td>0.0</td>\n      <td>0.714339</td>\n      <td>1.000000</td>\n      <td>0.541440</td>\n      <td>0.550948</td>\n      <td>0.581863</td>\n      <td>0.617433</td>\n    </tr>\n    <tr>\n      <th>populis_conc5_pop_id_501.txt</th>\n      <td>0.348492</td>\n      <td>0.611328</td>\n      <td>0.280409</td>\n      <td>0.444503</td>\n      <td>0.534225</td>\n      <td>0.309725</td>\n      <td>0.612315</td>\n      <td>0.448734</td>\n      <td>0.685418</td>\n      <td>0.632218</td>\n      <td>...</td>\n      <td>0.697170</td>\n      <td>0.658687</td>\n      <td>0.531122</td>\n      <td>0.0</td>\n      <td>0.341028</td>\n      <td>0.541440</td>\n      <td>1.000000</td>\n      <td>0.389386</td>\n      <td>0.538421</td>\n      <td>0.374763</td>\n    </tr>\n    <tr>\n      <th>populis_conc5_pop_id_529.txt</th>\n      <td>0.580607</td>\n      <td>0.535660</td>\n      <td>0.509558</td>\n      <td>0.268553</td>\n      <td>0.479343</td>\n      <td>0.583102</td>\n      <td>0.267214</td>\n      <td>0.662531</td>\n      <td>0.442766</td>\n      <td>0.580015</td>\n      <td>...</td>\n      <td>0.317677</td>\n      <td>0.268037</td>\n      <td>0.529680</td>\n      <td>0.0</td>\n      <td>0.620498</td>\n      <td>0.550948</td>\n      <td>0.389386</td>\n      <td>1.000000</td>\n      <td>0.695919</td>\n      <td>0.595209</td>\n    </tr>\n    <tr>\n      <th>populis_conc5_pop_id_78.txt</th>\n      <td>0.593550</td>\n      <td>0.618598</td>\n      <td>0.476935</td>\n      <td>0.179023</td>\n      <td>0.593776</td>\n      <td>0.616702</td>\n      <td>0.412349</td>\n      <td>0.673475</td>\n      <td>0.550114</td>\n      <td>0.652356</td>\n      <td>...</td>\n      <td>0.489028</td>\n      <td>0.400757</td>\n      <td>0.601533</td>\n      <td>0.0</td>\n      <td>0.605593</td>\n      <td>0.581863</td>\n      <td>0.538421</td>\n      <td>0.695919</td>\n      <td>1.000000</td>\n      <td>0.570224</td>\n    </tr>\n    <tr>\n      <th>populis_conc5_pop_id_8.txt</th>\n      <td>0.764263</td>\n      <td>0.487925</td>\n      <td>0.480244</td>\n      <td>0.063564</td>\n      <td>0.606162</td>\n      <td>0.515560</td>\n      <td>0.419279</td>\n      <td>0.663875</td>\n      <td>0.411122</td>\n      <td>0.608377</td>\n      <td>...</td>\n      <td>0.358798</td>\n      <td>0.268712</td>\n      <td>0.527692</td>\n      <td>0.0</td>\n      <td>0.739361</td>\n      <td>0.617433</td>\n      <td>0.374763</td>\n      <td>0.595209</td>\n      <td>0.570224</td>\n      <td>1.000000</td>\n    </tr>\n  </tbody>\n</table>\n<p>537 rows × 537 columns</p>\n</div>"
     },
     "execution_count": 132,
     "metadata": {},
     "output_type": "execute_result"
    }
   ],
   "source": [
    "pd.DataFrame(X_sim, columns=[filename.rpartition(\"/\")[2] for filename in filenames],  index=[filename.rpartition(\"/\")[2] for filename in filenames])"
   ],
   "metadata": {
    "collapsed": false
   }
  },
  {
   "cell_type": "code",
   "execution_count": 91,
   "outputs": [
    {
     "data": {
      "text/plain": "['../data/large_data/populis_conc5/populis_conc5_pop_id_5.txt',\n '../data/large_data/populis_conc5/populis_conc5_pop_id_524.txt',\n '../data/large_data/populis_conc5/populis_conc5_pop_id_75.txt',\n '../data/large_data/populis_conc5/populis_conc5_pop_id_242.txt',\n '../data/large_data/populis_conc5/populis_conc5_pop_id_256.txt']"
     },
     "execution_count": 91,
     "metadata": {},
     "output_type": "execute_result"
    }
   ],
   "source": [
    "filenames[:5]"
   ],
   "metadata": {
    "collapsed": false
   }
  },
  {
   "cell_type": "code",
   "execution_count": 90,
   "outputs": [
    {
     "data": {
      "text/plain": "array([[1.        , 0.46221186, 0.60575531, ..., 0.58060731, 0.59354997,\n        0.76426292],\n       [0.46221186, 1.        , 0.41490873, ..., 0.53566013, 0.61859849,\n        0.48792507],\n       [0.60575531, 0.41490873, 1.        , ..., 0.50955833, 0.47693546,\n        0.48024402],\n       ...,\n       [0.58060731, 0.53566013, 0.50955833, ..., 1.        , 0.69591928,\n        0.59520908],\n       [0.59354997, 0.61859849, 0.47693546, ..., 0.69591928, 1.        ,\n        0.57022391],\n       [0.76426292, 0.48792507, 0.48024402, ..., 0.59520908, 0.57022391,\n        1.        ]])"
     },
     "execution_count": 90,
     "metadata": {},
     "output_type": "execute_result"
    }
   ],
   "source": [
    "X_sim"
   ],
   "metadata": {
    "collapsed": false
   }
  },
  {
   "cell_type": "code",
   "execution_count": 140,
   "outputs": [],
   "source": [
    "tsne = TSNE(n_components=2, random_state=0, perplexity=5, learning_rate=\"auto\", init=\"random\", metric='cosine', n_iter=1000) # dissimilarity=\"precomputed\",\n",
    "pos = tsne.fit_transform(X_svd) # project all points into space\n",
    "xs, ys = pos[:, 0], pos[:, 1]"
   ],
   "metadata": {
    "collapsed": false
   }
  },
  {
   "cell_type": "code",
   "execution_count": 141,
   "outputs": [
    {
     "data": {
      "text/plain": "<Figure size 1000x1000 with 1 Axes>",
      "image/png": "[encoded data removed]"
     },
     "metadata": {},
     "output_type": "display_data"
    }
   ],
   "source": [
    "fig, ax = plt.subplots(figsize=(10, 10))\n",
    "ax.scatter(xs, ys)\n",
    "ax.set_axis_off()\n"
   ],
   "metadata": {
    "collapsed": false
   }
  },
  {
   "cell_type": "code",
   "execution_count": null,
   "outputs": [],
   "source": [],
   "metadata": {
    "collapsed": false
   }
  }
 ],
 "metadata": {
  "kernelspec": {
   "name": "conda_base",
   "language": "python",
   "display_name": "conda_base"
  },
  "language_info": {
   "codemirror_mode": {
    "name": "ipython",
    "version": 2
   },
   "file_extension": ".py",
   "mimetype": "text/x-python",
   "name": "python",
   "nbconvert_exporter": "python",
   "pygments_lexer": "ipython2",
   "version": "2.7.6"
  }
 },
 "nbformat": 4,
 "nbformat_minor": 0
}
