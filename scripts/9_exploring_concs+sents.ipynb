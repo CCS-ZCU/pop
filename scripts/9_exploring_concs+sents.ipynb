{
 "cells": [
  {
   "cell_type": "code",
   "execution_count": 2,
   "metadata": {
    "collapsed": true
   },
   "outputs": [],
   "source": [
    "import pandas as pd\n",
    "import os\n",
    "import re\n",
    "import pickle\n",
    "from nltk import FreqDist"
   ]
  },
  {
   "cell_type": "code",
   "execution_count": 3,
   "outputs": [
    {
     "data": {
      "text/plain": "   year                 authors                            journal  \\\n0  2011              Bos et al.            Political Communication   \n1  2019         Blassnig et al.            Political Communication   \n2  2017                Caramani  American Political Science Review   \n3  2020  Wuttke,Schimpf, Schoen  American Political Science Review   \n4  2014                   Treib  Journal of European Public Policy   \n\n                                               title     type pdf? keywords  \\\n0  How the Media Shape Perceptions of Right-Wing ...  article    y        y   \n1  Hitting a Nerve: Populist News Articles Lead t...  article    y        y   \n2  Will vs. Reason: The Populist and Technocratic...  article    y        y   \n3  When the Whole Is Greater than the Sum of Its ...  article    y        y   \n4  The voter says no, but nobody listens: causes ...  article    y        y   \n\n  keywords_online? notes                                           filepath  \\\n0                y  None  [Political Communication/2011 - Bos et al. - H...   \n1                y  None  [Political Communication/2019 - Blassing et al...   \n2             None  None  [American Political Science Review/2017 - Cara...   \n3             None  None  [American Political Science Review/2020 - Wutt...   \n4             None  None  [Journal of European Public Policy/2014 - Trei...   \n\n   pop_id  \n0       0  \n1       1  \n2       2  \n3       3  \n4       4  ",
      "text/html": "<div>\n<style scoped>\n    .dataframe tbody tr th:only-of-type {\n        vertical-align: middle;\n    }\n\n    .dataframe tbody tr th {\n        vertical-align: top;\n    }\n\n    .dataframe thead th {\n        text-align: right;\n    }\n</style>\n<table border=\"1\" class=\"dataframe\">\n  <thead>\n    <tr style=\"text-align: right;\">\n      <th></th>\n      <th>year</th>\n      <th>authors</th>\n      <th>journal</th>\n      <th>title</th>\n      <th>type</th>\n      <th>pdf?</th>\n      <th>keywords</th>\n      <th>keywords_online?</th>\n      <th>notes</th>\n      <th>filepath</th>\n      <th>pop_id</th>\n    </tr>\n  </thead>\n  <tbody>\n    <tr>\n      <th>0</th>\n      <td>2011</td>\n      <td>Bos et al.</td>\n      <td>Political Communication</td>\n      <td>How the Media Shape Perceptions of Right-Wing ...</td>\n      <td>article</td>\n      <td>y</td>\n      <td>y</td>\n      <td>y</td>\n      <td>None</td>\n      <td>[Political Communication/2011 - Bos et al. - H...</td>\n      <td>0</td>\n    </tr>\n    <tr>\n      <th>1</th>\n      <td>2019</td>\n      <td>Blassnig et al.</td>\n      <td>Political Communication</td>\n      <td>Hitting a Nerve: Populist News Articles Lead t...</td>\n      <td>article</td>\n      <td>y</td>\n      <td>y</td>\n      <td>y</td>\n      <td>None</td>\n      <td>[Political Communication/2019 - Blassing et al...</td>\n      <td>1</td>\n    </tr>\n    <tr>\n      <th>2</th>\n      <td>2017</td>\n      <td>Caramani</td>\n      <td>American Political Science Review</td>\n      <td>Will vs. Reason: The Populist and Technocratic...</td>\n      <td>article</td>\n      <td>y</td>\n      <td>y</td>\n      <td>None</td>\n      <td>None</td>\n      <td>[American Political Science Review/2017 - Cara...</td>\n      <td>2</td>\n    </tr>\n    <tr>\n      <th>3</th>\n      <td>2020</td>\n      <td>Wuttke,Schimpf, Schoen</td>\n      <td>American Political Science Review</td>\n      <td>When the Whole Is Greater than the Sum of Its ...</td>\n      <td>article</td>\n      <td>y</td>\n      <td>y</td>\n      <td>None</td>\n      <td>None</td>\n      <td>[American Political Science Review/2020 - Wutt...</td>\n      <td>3</td>\n    </tr>\n    <tr>\n      <th>4</th>\n      <td>2014</td>\n      <td>Treib</td>\n      <td>Journal of European Public Policy</td>\n      <td>The voter says no, but nobody listens: causes ...</td>\n      <td>article</td>\n      <td>y</td>\n      <td>y</td>\n      <td>None</td>\n      <td>None</td>\n      <td>[Journal of European Public Policy/2014 - Trei...</td>\n      <td>4</td>\n    </tr>\n  </tbody>\n</table>\n</div>"
     },
     "execution_count": 3,
     "metadata": {},
     "output_type": "execute_result"
    }
   ],
   "source": [
    "articles_metadata = pd.read_json(\"../data/article_metadata_with_filepaths.json\")\n",
    "articles_metadata.head(5)"
   ],
   "metadata": {
    "collapsed": false
   }
  },
  {
   "cell_type": "code",
   "execution_count": 4,
   "outputs": [
    {
     "data": {
      "text/plain": "     year                 authors                                journal  \\\n0    2011              Bos et al.                Political Communication   \n1    2019         Blassnig et al.                Political Communication   \n2    2017                Caramani      American Political Science Review   \n3    2020  Wuttke,Schimpf, Schoen      American Political Science Review   \n4    2014                   Treib      Journal of European Public Policy   \n..    ...                     ...                                    ...   \n537  2018          Grzymala-Busse                        Current History   \n538  2017             Eichengreen                        Current History   \n539  2014                   Mudde                        Current History   \n540  2020                    Cano             European History Quarterly   \n541  2015                Lindgren  Japanese Journal of Political Science   \n\n                                                 title     type pdf? keywords  \\\n0    How the Media Shape Perceptions of Right-Wing ...  article    y        y   \n1    Hitting a Nerve: Populist News Articles Lead t...  article    y        y   \n2    Will vs. Reason: The Populist and Technocratic...  article    y        y   \n3    When the Whole Is Greater than the Sum of Its ...  article    y        y   \n4    The voter says no, but nobody listens: causes ...  article    y        y   \n..                                                 ...      ...  ...      ...   \n537                      Poland’s Path to Illiberalism  article    y        y   \n538             The Populist Turn in American Politics  article    y        y   \n539           The Far Right and the European Elections  article    y        y   \n540                                Printing the People  article    y        y   \n541  Developing Japanese Populism Research through ...  article    y        y   \n\n    keywords_online? notes                                           filepath  \\\n0                  y  None  [Political Communication/2011 - Bos et al. - H...   \n1                  y  None  [Political Communication/2019 - Blassing et al...   \n2               None  None  [American Political Science Review/2017 - Cara...   \n3               None  None  [American Political Science Review/2020 - Wutt...   \n4               None  None  [Journal of European Public Policy/2014 - Trei...   \n..               ...   ...                                                ...   \n537             None  None  [Current History/2018 - Grzymala-Busse - Polan...   \n538             None  None  [Current History/2017 - Eichengreen - The Popu...   \n539             None  None  [Current History/2014 - Mudde - The Far Right ...   \n540             None  None  [European History Quarterly/2020 - Cano - Prin...   \n541             None  None  [Japanese Journal of Political Science/2015 - ...   \n\n     pop_id  \n0         0  \n1         1  \n2         2  \n3         3  \n4         4  \n..      ...  \n537     537  \n538     538  \n539     539  \n540     540  \n541     541  \n\n[542 rows x 11 columns]",
      "text/html": "<div>\n<style scoped>\n    .dataframe tbody tr th:only-of-type {\n        vertical-align: middle;\n    }\n\n    .dataframe tbody tr th {\n        vertical-align: top;\n    }\n\n    .dataframe thead th {\n        text-align: right;\n    }\n</style>\n<table border=\"1\" class=\"dataframe\">\n  <thead>\n    <tr style=\"text-align: right;\">\n      <th></th>\n      <th>year</th>\n      <th>authors</th>\n      <th>journal</th>\n      <th>title</th>\n      <th>type</th>\n      <th>pdf?</th>\n      <th>keywords</th>\n      <th>keywords_online?</th>\n      <th>notes</th>\n      <th>filepath</th>\n      <th>pop_id</th>\n    </tr>\n  </thead>\n  <tbody>\n    <tr>\n      <th>0</th>\n      <td>2011</td>\n      <td>Bos et al.</td>\n      <td>Political Communication</td>\n      <td>How the Media Shape Perceptions of Right-Wing ...</td>\n      <td>article</td>\n      <td>y</td>\n      <td>y</td>\n      <td>y</td>\n      <td>None</td>\n      <td>[Political Communication/2011 - Bos et al. - H...</td>\n      <td>0</td>\n    </tr>\n    <tr>\n      <th>1</th>\n      <td>2019</td>\n      <td>Blassnig et al.</td>\n      <td>Political Communication</td>\n      <td>Hitting a Nerve: Populist News Articles Lead t...</td>\n      <td>article</td>\n      <td>y</td>\n      <td>y</td>\n      <td>y</td>\n      <td>None</td>\n      <td>[Political Communication/2019 - Blassing et al...</td>\n      <td>1</td>\n    </tr>\n    <tr>\n      <th>2</th>\n      <td>2017</td>\n      <td>Caramani</td>\n      <td>American Political Science Review</td>\n      <td>Will vs. Reason: The Populist and Technocratic...</td>\n      <td>article</td>\n      <td>y</td>\n      <td>y</td>\n      <td>None</td>\n      <td>None</td>\n      <td>[American Political Science Review/2017 - Cara...</td>\n      <td>2</td>\n    </tr>\n    <tr>\n      <th>3</th>\n      <td>2020</td>\n      <td>Wuttke,Schimpf, Schoen</td>\n      <td>American Political Science Review</td>\n      <td>When the Whole Is Greater than the Sum of Its ...</td>\n      <td>article</td>\n      <td>y</td>\n      <td>y</td>\n      <td>None</td>\n      <td>None</td>\n      <td>[American Political Science Review/2020 - Wutt...</td>\n      <td>3</td>\n    </tr>\n    <tr>\n      <th>4</th>\n      <td>2014</td>\n      <td>Treib</td>\n      <td>Journal of European Public Policy</td>\n      <td>The voter says no, but nobody listens: causes ...</td>\n      <td>article</td>\n      <td>y</td>\n      <td>y</td>\n      <td>None</td>\n      <td>None</td>\n      <td>[Journal of European Public Policy/2014 - Trei...</td>\n      <td>4</td>\n    </tr>\n    <tr>\n      <th>...</th>\n      <td>...</td>\n      <td>...</td>\n      <td>...</td>\n      <td>...</td>\n      <td>...</td>\n      <td>...</td>\n      <td>...</td>\n      <td>...</td>\n      <td>...</td>\n      <td>...</td>\n      <td>...</td>\n    </tr>\n    <tr>\n      <th>537</th>\n      <td>2018</td>\n      <td>Grzymala-Busse</td>\n      <td>Current History</td>\n      <td>Poland’s Path to Illiberalism</td>\n      <td>article</td>\n      <td>y</td>\n      <td>y</td>\n      <td>None</td>\n      <td>None</td>\n      <td>[Current History/2018 - Grzymala-Busse - Polan...</td>\n      <td>537</td>\n    </tr>\n    <tr>\n      <th>538</th>\n      <td>2017</td>\n      <td>Eichengreen</td>\n      <td>Current History</td>\n      <td>The Populist Turn in American Politics</td>\n      <td>article</td>\n      <td>y</td>\n      <td>y</td>\n      <td>None</td>\n      <td>None</td>\n      <td>[Current History/2017 - Eichengreen - The Popu...</td>\n      <td>538</td>\n    </tr>\n    <tr>\n      <th>539</th>\n      <td>2014</td>\n      <td>Mudde</td>\n      <td>Current History</td>\n      <td>The Far Right and the European Elections</td>\n      <td>article</td>\n      <td>y</td>\n      <td>y</td>\n      <td>None</td>\n      <td>None</td>\n      <td>[Current History/2014 - Mudde - The Far Right ...</td>\n      <td>539</td>\n    </tr>\n    <tr>\n      <th>540</th>\n      <td>2020</td>\n      <td>Cano</td>\n      <td>European History Quarterly</td>\n      <td>Printing the People</td>\n      <td>article</td>\n      <td>y</td>\n      <td>y</td>\n      <td>None</td>\n      <td>None</td>\n      <td>[European History Quarterly/2020 - Cano - Prin...</td>\n      <td>540</td>\n    </tr>\n    <tr>\n      <th>541</th>\n      <td>2015</td>\n      <td>Lindgren</td>\n      <td>Japanese Journal of Political Science</td>\n      <td>Developing Japanese Populism Research through ...</td>\n      <td>article</td>\n      <td>y</td>\n      <td>y</td>\n      <td>None</td>\n      <td>None</td>\n      <td>[Japanese Journal of Political Science/2015 - ...</td>\n      <td>541</td>\n    </tr>\n  </tbody>\n</table>\n<p>542 rows × 11 columns</p>\n</div>"
     },
     "execution_count": 4,
     "metadata": {},
     "output_type": "execute_result"
    }
   ],
   "source": [
    "articles_metadata[\"year\"] = articles_metadata[\"year\"].replace(3017, 2017)\n",
    "articles_metadata"
   ],
   "metadata": {
    "collapsed": false
   }
  },
  {
   "cell_type": "code",
   "execution_count": 5,
   "outputs": [],
   "source": [
    "popid_year_dict = dict(zip(articles_metadata[\"pop_id\"], articles_metadata[\"year\"]))"
   ],
   "metadata": {
    "collapsed": false
   }
  },
  {
   "cell_type": "code",
   "execution_count": 0,
   "outputs": [],
   "source": [
    "# generating a new working title\n",
    "articles_metadata[\"working_title\"] = articles_metadata.apply(lambda row: row[\"authors\"] + \" \" + str(row[\"year\"]), axis=1)"
   ],
   "metadata": {
    "collapsed": false
   }
  },
  {
   "cell_type": "code",
   "execution_count": 29,
   "outputs": [
    {
     "data": {
      "text/plain": "{'Schmidt 2019': 2,\n 'Rooduijn 2018': 2,\n 'Micozzi 2018': 2,\n 'Grzymala-Busse 2019': 4,\n 'Marcos-Marne et al. 2020': 2,\n 'Mudde 2014': 2,\n 'Kriesi 2020': 2,\n 'Rooduijn 2014': 2,\n 'Jones 2019': 2}"
     },
     "execution_count": 29,
     "metadata": {},
     "output_type": "execute_result"
    }
   ],
   "source": [
    "title_freqs_dict = dict([el for el in FreqDist(articles_metadata[\"working_title\"]).items() if el[1] > 1])\n",
    "title_freqs_dict"
   ],
   "metadata": {
    "collapsed": false
   }
  },
  {
   "cell_type": "code",
   "execution_count": 34,
   "outputs": [],
   "source": [
    "letters = [\"a\", \"b\", \"c\", \"d\", \"e\"]\n",
    "met = []\n",
    "new_titles = []\n",
    "for title in articles_metadata[\"working_title\"]:\n",
    "    if title in title_freqs_dict.keys():\n",
    "        for n in range(title_freqs_dict[title]):\n",
    "            letter = letters[n]\n",
    "            title_letter = title + letter\n",
    "            if title_letter not in met:\n",
    "                new_titles.append(title_letter)\n",
    "                met.append(title_letter)\n",
    "                break\n",
    "    else:\n",
    "        new_titles.append(title)\n"
   ],
   "metadata": {
    "collapsed": false
   }
  },
  {
   "cell_type": "code",
   "execution_count": 37,
   "outputs": [],
   "source": [
    "articles_metadata[\"working_title\"] = new_titles"
   ],
   "metadata": {
    "collapsed": false
   }
  },
  {
   "cell_type": "code",
   "execution_count": 38,
   "outputs": [],
   "source": [
    "popid_title_dict = dict(zip(articles_metadata[\"pop_id\"], articles_metadata[\"working_title\"]))"
   ],
   "metadata": {
    "collapsed": false
   }
  },
  {
   "cell_type": "code",
   "execution_count": 10,
   "outputs": [
    {
     "data": {
      "text/plain": "   Unnamed: 0        poptype  count  proportion_pct  \\\n0           0     right-wing   1967       58.195266   \n1           1      left-wing    582       17.218935   \n2           2    nationalist    214        6.331361   \n3           3       nativist     73        2.159763   \n4           4        radical    104        3.076923   \n5           5       moderate     42        1.242604   \n6           6  authoritatian    157        4.644970   \n7           7      inclusive     69        2.041420   \n8           8      exclusive    108        3.195266   \n9           9     neoliberal     64        1.893491   \n\n                                               words  \n0  [right-wing, right, rightwe, radical-right, ra...  \n1  [left-wing, left, leftist, radical-left, leftw...  \n2  [nationalism, nationalist, national, nation, n...  \n3                               [nativism, nativist]  \n4                   [radical, radicalism, radically]  \n5                             [moderate, moderately]  \n6                  [authoritarian, authoritarianism]  \n7               [inclusionary, inclusive, inclusion]  \n8  [exclusionary, exclusion, exclusive, exclusive...  \n9  [neoliberal, neo-liberal, Neoliberalism, neoli...  ",
      "text/html": "<div>\n<style scoped>\n    .dataframe tbody tr th:only-of-type {\n        vertical-align: middle;\n    }\n\n    .dataframe tbody tr th {\n        vertical-align: top;\n    }\n\n    .dataframe thead th {\n        text-align: right;\n    }\n</style>\n<table border=\"1\" class=\"dataframe\">\n  <thead>\n    <tr style=\"text-align: right;\">\n      <th></th>\n      <th>Unnamed: 0</th>\n      <th>poptype</th>\n      <th>count</th>\n      <th>proportion_pct</th>\n      <th>words</th>\n    </tr>\n  </thead>\n  <tbody>\n    <tr>\n      <th>0</th>\n      <td>0</td>\n      <td>right-wing</td>\n      <td>1967</td>\n      <td>58.195266</td>\n      <td>[right-wing, right, rightwe, radical-right, ra...</td>\n    </tr>\n    <tr>\n      <th>1</th>\n      <td>1</td>\n      <td>left-wing</td>\n      <td>582</td>\n      <td>17.218935</td>\n      <td>[left-wing, left, leftist, radical-left, leftw...</td>\n    </tr>\n    <tr>\n      <th>2</th>\n      <td>2</td>\n      <td>nationalist</td>\n      <td>214</td>\n      <td>6.331361</td>\n      <td>[nationalism, nationalist, national, nation, n...</td>\n    </tr>\n    <tr>\n      <th>3</th>\n      <td>3</td>\n      <td>nativist</td>\n      <td>73</td>\n      <td>2.159763</td>\n      <td>[nativism, nativist]</td>\n    </tr>\n    <tr>\n      <th>4</th>\n      <td>4</td>\n      <td>radical</td>\n      <td>104</td>\n      <td>3.076923</td>\n      <td>[radical, radicalism, radically]</td>\n    </tr>\n    <tr>\n      <th>5</th>\n      <td>5</td>\n      <td>moderate</td>\n      <td>42</td>\n      <td>1.242604</td>\n      <td>[moderate, moderately]</td>\n    </tr>\n    <tr>\n      <th>6</th>\n      <td>6</td>\n      <td>authoritatian</td>\n      <td>157</td>\n      <td>4.644970</td>\n      <td>[authoritarian, authoritarianism]</td>\n    </tr>\n    <tr>\n      <th>7</th>\n      <td>7</td>\n      <td>inclusive</td>\n      <td>69</td>\n      <td>2.041420</td>\n      <td>[inclusionary, inclusive, inclusion]</td>\n    </tr>\n    <tr>\n      <th>8</th>\n      <td>8</td>\n      <td>exclusive</td>\n      <td>108</td>\n      <td>3.195266</td>\n      <td>[exclusionary, exclusion, exclusive, exclusive...</td>\n    </tr>\n    <tr>\n      <th>9</th>\n      <td>9</td>\n      <td>neoliberal</td>\n      <td>64</td>\n      <td>1.893491</td>\n      <td>[neoliberal, neo-liberal, Neoliberalism, neoli...</td>\n    </tr>\n  </tbody>\n</table>\n</div>"
     },
     "execution_count": 10,
     "metadata": {},
     "output_type": "execute_result"
    }
   ],
   "source": [
    "poptypes_df = pd.read_csv(\"../data/poptypes_df.csv\")\n",
    "poptypes_df[\"words\"] = poptypes_df[\"words\"].apply(eval)\n",
    "poptypes_df"
   ],
   "metadata": {
    "collapsed": false
   }
  },
  {
   "cell_type": "code",
   "execution_count": 11,
   "outputs": [
    {
     "data": {
      "text/plain": "{'right-wing': ['right-wing',\n  'right',\n  'rightwe',\n  'radical-right',\n  'radical-right-wing',\n  'far-right',\n  'rightist',\n  'right-leaning',\n  'radicalright',\n  'rightwing',\n  'extreme-right',\n  'farright'],\n 'left-wing': ['left-wing',\n  'left',\n  'leftist',\n  'radical-left',\n  'leftwing',\n  'left-leaning',\n  'leftwe',\n  'leftism',\n  'center-left',\n  'radicalleft'],\n 'nationalist': ['nationalism',\n  'nationalist',\n  'national',\n  'nation',\n  'nationalistic',\n  'neo-nationalism',\n  'nationalisms',\n  'ethno',\n  'ethno-nationalist',\n  'ethnoregionalist'],\n 'nativist': ['nativism', 'nativist'],\n 'radical': ['radical', 'radicalism', 'radically'],\n 'moderate': ['moderate', 'moderately'],\n 'authoritatian': ['authoritarian', 'authoritarianism'],\n 'inclusive': ['inclusionary', 'inclusive', 'inclusion'],\n 'exclusive': ['exclusionary',\n  'exclusion',\n  'exclusive',\n  'exclusively',\n  'exclusionist'],\n 'neoliberal': ['neoliberal',\n  'neo-liberal',\n  'Neoliberalism',\n  'neoliberalism',\n  'Neoliberal']}"
     },
     "execution_count": 11,
     "metadata": {},
     "output_type": "execute_result"
    }
   ],
   "source": [
    "poptypes_dict = dict(zip(poptypes_df[\"poptype\"], poptypes_df[\"words\"]))\n",
    "poptypes_dict"
   ],
   "metadata": {
    "collapsed": false
   }
  },
  {
   "cell_type": "code",
   "execution_count": 39,
   "outputs": [],
   "source": [
    "path = \"../data/large_data/populis_conc10/\"\n",
    "all_concs = []\n",
    "for filename in os.listdir(path):\n",
    "    try:\n",
    "        pop_id = int(re.search(\"(\\d+)(.txt)\", filename).groups()[0])\n",
    "        year = popid_year_dict[pop_id]\n",
    "        title = popid_title_dict[pop_id]\n",
    "        if \".txt\" in filename:\n",
    "            filepath = path + filename\n",
    "            with open(filepath, \"r\") as f:\n",
    "                lines = f.readlines()\n",
    "            lines_splitted = [l.split() for l in lines]\n",
    "            lines_splitted = [(conc, str(year), title) for conc in lines_splitted]\n",
    "            all_concs.extend(lines_splitted)\n",
    "    except:\n",
    "        pass"
   ],
   "metadata": {
    "collapsed": false
   }
  },
  {
   "cell_type": "code",
   "execution_count": 40,
   "outputs": [
    {
     "name": "stdout",
     "output_type": "stream",
     "text": [
      "9\n",
      "123\n",
      "137\n",
      "484\n",
      "490\n",
      "447\n",
      "321\n",
      "335\n",
      "453\n",
      "309\n",
      "296\n",
      "282\n",
      "533\n",
      "255\n",
      "241\n",
      "527\n",
      "73\n",
      "269\n",
      "67\n",
      "66\n",
      "72\n",
      "268\n",
      "240\n",
      "526\n",
      "532\n",
      "254\n",
      "283\n",
      "297\n",
      "308\n",
      "334\n",
      "452\n",
      "446\n",
      "320\n",
      "491\n",
      "485\n",
      "136\n",
      "122\n",
      "8\n",
      "134\n",
      "120\n",
      "108\n",
      "493\n",
      "487\n",
      "450\n",
      "336\n",
      "322\n",
      "444\n",
      "478\n",
      "281\n",
      "295\n",
      "58\n",
      "524\n",
      "242\n",
      "256\n",
      "518\n",
      "64\n",
      "70\n",
      "71\n",
      "65\n",
      "519\n",
      "257\n",
      "531\n",
      "525\n",
      "59\n",
      "243\n",
      "294\n",
      "280\n",
      "479\n",
      "323\n",
      "445\n",
      "451\n",
      "337\n",
      "486\n",
      "492\n",
      "109\n",
      "121\n",
      "135\n",
      "119\n",
      "131\n",
      "125\n",
      "496\n",
      "482\n",
      "469\n",
      "333\n",
      "455\n",
      "441\n",
      "327\n",
      "284\n",
      "290\n",
      "61\n",
      "509\n",
      "75\n",
      "247\n",
      "521\n",
      "49\n",
      "535\n",
      "253\n",
      "534\n",
      "48\n",
      "252\n",
      "246\n",
      "520\n",
      "74\n",
      "508\n",
      "60\n",
      "291\n",
      "285\n",
      "440\n",
      "326\n",
      "332\n",
      "454\n",
      "468\n",
      "483\n",
      "497\n",
      "124\n",
      "130\n",
      "118\n",
      "126\n",
      "132\n",
      "481\n",
      "495\n",
      "318\n",
      "324\n",
      "442\n",
      "456\n",
      "330\n",
      "293\n",
      "89\n",
      "287\n",
      "76\n",
      "62\n",
      "278\n",
      "250\n",
      "536\n",
      "522\n",
      "244\n",
      "523\n",
      "245\n",
      "251\n",
      "537\n",
      "63\n",
      "279\n",
      "77\n",
      "286\n",
      "292\n",
      "88\n",
      "457\n",
      "331\n",
      "325\n",
      "443\n",
      "319\n",
      "494\n",
      "480\n",
      "133\n",
      "127\n",
      "183\n",
      "197\n",
      "140\n",
      "154\n",
      "168\n",
      "381\n",
      "395\n",
      "342\n",
      "424\n",
      "430\n",
      "356\n",
      "418\n",
      "236\n",
      "38\n",
      "222\n",
      "10\n",
      "11\n",
      "39\n",
      "223\n",
      "237\n",
      "419\n",
      "431\n",
      "357\n",
      "343\n",
      "425\n",
      "394\n",
      "380\n",
      "169\n",
      "155\n",
      "141\n",
      "196\n",
      "182\n",
      "194\n",
      "180\n",
      "157\n",
      "143\n",
      "396\n",
      "382\n",
      "355\n",
      "433\n",
      "427\n",
      "341\n",
      "369\n",
      "221\n",
      "235\n",
      "13\n",
      "209\n",
      "12\n",
      "208\n",
      "234\n",
      "220\n",
      "368\n",
      "426\n",
      "340\n",
      "354\n",
      "432\n",
      "383\n",
      "397\n",
      "142\n",
      "156\n",
      "181\n",
      "195\n",
      "191\n",
      "185\n",
      "152\n",
      "146\n",
      "393\n",
      "387\n",
      "378\n",
      "436\n",
      "350\n",
      "344\n",
      "422\n",
      "218\n",
      "16\n",
      "224\n",
      "230\n",
      "231\n",
      "225\n",
      "17\n",
      "219\n",
      "345\n",
      "423\n",
      "437\n",
      "351\n",
      "379\n",
      "386\n",
      "392\n",
      "147\n",
      "153\n",
      "184\n",
      "190\n",
      "186\n",
      "192\n",
      "179\n",
      "145\n",
      "151\n",
      "384\n",
      "390\n",
      "409\n",
      "421\n",
      "347\n",
      "353\n",
      "435\n",
      "15\n",
      "29\n",
      "233\n",
      "227\n",
      "541\n",
      "226\n",
      "540\n",
      "28\n",
      "232\n",
      "14\n",
      "352\n",
      "434\n",
      "420\n",
      "346\n",
      "408\n",
      "391\n",
      "385\n",
      "150\n",
      "144\n",
      "178\n",
      "193\n",
      "187\n",
      "161\n",
      "175\n",
      "149\n",
      "388\n",
      "363\n",
      "405\n",
      "411\n",
      "377\n",
      "439\n",
      "217\n",
      "19\n",
      "203\n",
      "31\n",
      "25\n",
      "24\n",
      "30\n",
      "18\n",
      "202\n",
      "216\n",
      "438\n",
      "410\n",
      "376\n",
      "362\n",
      "404\n",
      "389\n",
      "148\n",
      "174\n",
      "160\n",
      "189\n",
      "176\n",
      "162\n",
      "374\n",
      "412\n",
      "406\n",
      "360\n",
      "348\n",
      "200\n",
      "214\n",
      "26\n",
      "32\n",
      "228\n",
      "33\n",
      "229\n",
      "27\n",
      "215\n",
      "201\n",
      "349\n",
      "407\n",
      "361\n",
      "375\n",
      "413\n",
      "163\n",
      "177\n",
      "188\n",
      "198\n",
      "173\n",
      "167\n",
      "359\n",
      "417\n",
      "371\n",
      "365\n",
      "403\n",
      "23\n",
      "239\n",
      "37\n",
      "205\n",
      "211\n",
      "210\n",
      "204\n",
      "36\n",
      "22\n",
      "238\n",
      "364\n",
      "402\n",
      "416\n",
      "370\n",
      "358\n",
      "166\n",
      "172\n",
      "199\n",
      "158\n",
      "164\n",
      "170\n",
      "399\n",
      "428\n",
      "400\n",
      "366\n",
      "372\n",
      "414\n",
      "34\n",
      "20\n",
      "212\n",
      "206\n",
      "207\n",
      "213\n",
      "21\n",
      "35\n",
      "373\n",
      "415\n",
      "401\n",
      "367\n",
      "429\n",
      "398\n",
      "171\n",
      "165\n",
      "159\n",
      "0\n",
      "102\n",
      "116\n",
      "499\n",
      "466\n",
      "300\n",
      "314\n",
      "472\n",
      "328\n",
      "91\n",
      "85\n",
      "512\n",
      "274\n",
      "260\n",
      "506\n",
      "52\n",
      "248\n",
      "46\n",
      "47\n",
      "53\n",
      "249\n",
      "261\n",
      "507\n",
      "513\n",
      "275\n",
      "84\n",
      "90\n",
      "329\n",
      "315\n",
      "473\n",
      "467\n",
      "301\n",
      "498\n",
      "117\n",
      "103\n",
      "1\n",
      "3\n",
      "115\n",
      "101\n",
      "129\n",
      "471\n",
      "317\n",
      "303\n",
      "465\n",
      "459\n",
      "86\n",
      "288\n",
      "92\n",
      "79\n",
      "505\n",
      "263\n",
      "277\n",
      "511\n",
      "539\n",
      "45\n",
      "51\n",
      "50\n",
      "44\n",
      "538\n",
      "276\n",
      "510\n",
      "504\n",
      "78\n",
      "262\n",
      "289\n",
      "93\n",
      "87\n",
      "458\n",
      "302\n",
      "464\n",
      "470\n",
      "316\n",
      "128\n",
      "100\n",
      "114\n",
      "2\n",
      "6\n",
      "138\n",
      "110\n",
      "104\n",
      "448\n",
      "312\n",
      "474\n",
      "460\n",
      "306\n",
      "299\n",
      "83\n",
      "40\n",
      "528\n",
      "54\n",
      "266\n",
      "500\n",
      "68\n",
      "514\n",
      "272\n",
      "515\n",
      "69\n",
      "273\n",
      "267\n",
      "501\n",
      "55\n",
      "529\n",
      "41\n",
      "96\n",
      "298\n",
      "82\n",
      "461\n",
      "307\n",
      "313\n",
      "475\n",
      "449\n",
      "105\n",
      "111\n",
      "139\n",
      "7\n",
      "5\n",
      "107\n",
      "113\n",
      "488\n",
      "339\n",
      "305\n",
      "463\n",
      "477\n",
      "311\n",
      "94\n",
      "80\n",
      "57\n",
      "43\n",
      "259\n",
      "271\n",
      "517\n",
      "503\n",
      "265\n",
      "502\n",
      "264\n",
      "516\n",
      "42\n",
      "258\n",
      "56\n",
      "81\n",
      "95\n",
      "476\n",
      "310\n",
      "304\n",
      "462\n",
      "338\n",
      "489\n",
      "112\n",
      "106\n",
      "4\n"
     ]
    }
   ],
   "source": [
    "for filename in os.listdir(path):\n",
    "    pop_id = int(re.search(\"(\\d+)(.txt)\", filename).groups()[0])\n",
    "    print(pop_id)"
   ],
   "metadata": {
    "collapsed": false
   }
  },
  {
   "cell_type": "code",
   "execution_count": 41,
   "outputs": [
    {
     "data": {
      "text/plain": "[('2020', 9264),\n ('2019', 8940),\n ('2018', 5936),\n ('2017', 5387),\n ('2016', 3690),\n ('2014', 2332),\n ('2015', 1550),\n ('2011', 1117),\n ('2013', 1088),\n ('2012', 715)]"
     },
     "execution_count": 41,
     "metadata": {},
     "output_type": "execute_result"
    }
   ],
   "source": [
    "FreqDist([el[1] for el in all_concs]).most_common()\n"
   ],
   "metadata": {
    "collapsed": false
   }
  },
  {
   "cell_type": "code",
   "execution_count": 42,
   "outputs": [
    {
     "name": "stdout",
     "output_type": "stream",
     "text": [
      "[(['representation', 'important', 'electoral', 'ramiﬁcation', 'european', 'democracy', 'keyword_European_Union', 'political', 'party', 'representation', 'populism', 'research', 'citizen', 'satisfaction', 'diﬀerentiate', 'inputoriente', 'procedural', 'aspect', 'politic', 'output-oriented', 'measurement'], '2020', 'Bakker et al. 2020'), (['immigration', 'policy', 'key', 'component', 'socio-cultural', 'dimension', 'european', 'democracy', 'Rovny_and_Polk_2019', 'particularly', 'populist', 'radical', 'right', 'party', 'Ivarsﬂaten', 'scholar', 'highlight', 'immigration', 'european', 'integration', 'particular'], '2020', 'Bakker et al. 2020'), (['express', 'cynicism', 'resentment', 'hatred', 'democratic', 'institution', 'govern', 'elite', 'fuel', 'support', 'populism', '.', '2019', 'highlight', 'mainstream', 'party', 'left', 'right', 'see', 'vote', 'share'], '2020', 'Bakker et al. 2020'), (['national', 'legislative', 'election', 'substantial', 'body', 'research', 'document', 'connection', 'political', 'discontent', 'populist', 'voting', '.', '2002', 'Norris_2005', 'Schumacher', 'Rooduijn', 'expectation', 'group', 'relatively', 'engaged'], '2020', 'Bakker et al. 2020'), (['test', 'disaﬀection', 'measure', 'expectation', 'high', 'level', 'disaﬀection', 'associate', 'support', 'anti-establishment', 'populist', 'party', 'formulate', 'following', 'hypothesis', 'hypothesis', '2', 'large', 'individual', 'political', 'disaﬀection'], '2020', 'Bakker et al. 2020'), (['especially', 'support', 'anti-elite', 'party', 'propensity', 'vote', 'anti-elite', 'party', 'Deﬁning', 'measure', 'populism', 'particularly', 'robust', 'contentious', 'subﬁeld', 'comparative', 'politic', '2016', 'Bonikowski', 'Gidron', '2016'], '2020', 'Bakker et al. 2020'), (['Bonikowski', 'Gidron', '2016', 'Mudde', 'Kaltwasser', '2018', 'important', 'deﬁnitional', 'division', 'exist', 'populism', 'scholar', 'broad', 'agreement', 'populism', 'exclusive', 'political', 'left', 'right', 'populist', 'party'], '2020', 'Bakker et al. 2020'), (['Kaltwasser', '2018', 'important', 'deﬁnitional', 'division', 'exist', 'populism', 'scholar', 'broad', 'agreement', 'populism', 'exclusive', 'political', 'left', 'right', 'populist', 'party', 'position', 'political', 'establishment', 'champion'], '2020', 'Bakker et al. 2020'), (['exist', 'populism', 'scholar', 'broad', 'agreement', 'populism', 'exclusive', 'political', 'left', 'right', 'populist', 'party', 'position', 'political', 'establishment', 'champion', 'people', 'elite', 'March_2007', 'Mudde', '2004_,'], '2020', 'Bakker et al. 2020'), (['2007', 'Otjes', 'Louwerse', 'take', 'broad', 'theoretical', 'discussion', 'surround', 'appropriate', 'deﬁnition', 'populism', 'account', 'focus', 'narrowly', 'anti-elite', 'establishment', 'component', 'feature', 'recognise', 'necessary', 'suﬃcient'], '2020', 'Bakker et al. 2020')]\n"
     ]
    }
   ],
   "source": [
    "print(all_concs[:10])"
   ],
   "metadata": {
    "collapsed": false
   }
  },
  {
   "cell_type": "code",
   "execution_count": 43,
   "outputs": [
    {
     "data": {
      "text/plain": "10"
     },
     "execution_count": 43,
     "metadata": {},
     "output_type": "execute_result"
    }
   ],
   "source": [
    "middle = int((len(all_concs[0][0])) / 2)\n",
    "middle"
   ],
   "metadata": {
    "collapsed": false
   }
  },
  {
   "cell_type": "code",
   "execution_count": 44,
   "outputs": [
    {
     "data": {
      "text/plain": "'populism'"
     },
     "execution_count": 44,
     "metadata": {},
     "output_type": "execute_result"
    }
   ],
   "source": [
    "all_concs[0][0][middle]"
   ],
   "metadata": {
    "collapsed": false
   }
  },
  {
   "cell_type": "code",
   "execution_count": 45,
   "outputs": [
    {
     "data": {
      "text/plain": "False"
     },
     "execution_count": 45,
     "metadata": {},
     "output_type": "execute_result"
    }
   ],
   "source": [
    "bool(set([\"a\", \"b\"]) & set([\"c\", \"d\"]))"
   ],
   "metadata": {
    "collapsed": false
   }
  },
  {
   "cell_type": "code",
   "execution_count": 46,
   "outputs": [
    {
     "data": {
      "text/plain": "40019"
     },
     "execution_count": 46,
     "metadata": {},
     "output_type": "execute_result"
    }
   ],
   "source": [
    "len(all_concs)"
   ],
   "metadata": {
    "collapsed": false
   }
  },
  {
   "cell_type": "code",
   "execution_count": 48,
   "outputs": [],
   "source": [
    "concs_covered_types = []\n",
    "for conc, year, title in all_concs:\n",
    "    covered_types = []\n",
    "    for key in poptypes_dict.keys():\n",
    "        if set(poptypes_dict[key]) & set(conc):\n",
    "            covered_types.append(key)\n",
    "            conc = [w for w in conc if w not in poptypes_dict[key]]\n",
    "    concs_covered_types.append((conc, covered_types, year, title))"
   ],
   "metadata": {
    "collapsed": false
   }
  },
  {
   "cell_type": "code",
   "execution_count": 49,
   "outputs": [
    {
     "data": {
      "text/plain": "[(['representation',\n   'important',\n   'electoral',\n   'ramiﬁcation',\n   'european',\n   'democracy',\n   'keyword_European_Union',\n   'political',\n   'party',\n   'representation',\n   'populism',\n   'research',\n   'citizen',\n   'satisfaction',\n   'diﬀerentiate',\n   'inputoriente',\n   'procedural',\n   'aspect',\n   'politic',\n   'output-oriented',\n   'measurement'],\n  [],\n  '2020',\n  'Bakker et al. 2020'),\n (['immigration',\n   'policy',\n   'key',\n   'component',\n   'socio-cultural',\n   'dimension',\n   'european',\n   'democracy',\n   'Rovny_and_Polk_2019',\n   'particularly',\n   'populist',\n   'party',\n   'Ivarsﬂaten',\n   'scholar',\n   'highlight',\n   'immigration',\n   'european',\n   'integration',\n   'particular'],\n  ['right-wing', 'radical'],\n  '2020',\n  'Bakker et al. 2020'),\n (['express',\n   'cynicism',\n   'resentment',\n   'hatred',\n   'democratic',\n   'institution',\n   'govern',\n   'elite',\n   'fuel',\n   'support',\n   'populism',\n   '.',\n   '2019',\n   'highlight',\n   'mainstream',\n   'party',\n   'see',\n   'vote',\n   'share'],\n  ['right-wing', 'left-wing'],\n  '2020',\n  'Bakker et al. 2020'),\n (['legislative',\n   'election',\n   'substantial',\n   'body',\n   'research',\n   'document',\n   'connection',\n   'political',\n   'discontent',\n   'populist',\n   'voting',\n   '.',\n   '2002',\n   'Norris_2005',\n   'Schumacher',\n   'Rooduijn',\n   'expectation',\n   'group',\n   'relatively',\n   'engaged'],\n  ['nationalist'],\n  '2020',\n  'Bakker et al. 2020'),\n (['test',\n   'disaﬀection',\n   'measure',\n   'expectation',\n   'high',\n   'level',\n   'disaﬀection',\n   'associate',\n   'support',\n   'anti-establishment',\n   'populist',\n   'party',\n   'formulate',\n   'following',\n   'hypothesis',\n   'hypothesis',\n   '2',\n   'large',\n   'individual',\n   'political',\n   'disaﬀection'],\n  [],\n  '2020',\n  'Bakker et al. 2020'),\n (['especially',\n   'support',\n   'anti-elite',\n   'party',\n   'propensity',\n   'vote',\n   'anti-elite',\n   'party',\n   'Deﬁning',\n   'measure',\n   'populism',\n   'particularly',\n   'robust',\n   'contentious',\n   'subﬁeld',\n   'comparative',\n   'politic',\n   '2016',\n   'Bonikowski',\n   'Gidron',\n   '2016'],\n  [],\n  '2020',\n  'Bakker et al. 2020'),\n (['Bonikowski',\n   'Gidron',\n   '2016',\n   'Mudde',\n   'Kaltwasser',\n   '2018',\n   'important',\n   'deﬁnitional',\n   'division',\n   'exist',\n   'populism',\n   'scholar',\n   'broad',\n   'agreement',\n   'populism',\n   'political',\n   'populist',\n   'party'],\n  ['right-wing', 'left-wing', 'exclusive'],\n  '2020',\n  'Bakker et al. 2020'),\n (['Kaltwasser',\n   '2018',\n   'important',\n   'deﬁnitional',\n   'division',\n   'exist',\n   'populism',\n   'scholar',\n   'broad',\n   'agreement',\n   'populism',\n   'political',\n   'populist',\n   'party',\n   'position',\n   'political',\n   'establishment',\n   'champion'],\n  ['right-wing', 'left-wing', 'exclusive'],\n  '2020',\n  'Bakker et al. 2020'),\n (['exist',\n   'populism',\n   'scholar',\n   'broad',\n   'agreement',\n   'populism',\n   'political',\n   'populist',\n   'party',\n   'position',\n   'political',\n   'establishment',\n   'champion',\n   'people',\n   'elite',\n   'March_2007',\n   'Mudde',\n   '2004_,'],\n  ['right-wing', 'left-wing', 'exclusive'],\n  '2020',\n  'Bakker et al. 2020'),\n (['2007',\n   'Otjes',\n   'Louwerse',\n   'take',\n   'broad',\n   'theoretical',\n   'discussion',\n   'surround',\n   'appropriate',\n   'deﬁnition',\n   'populism',\n   'account',\n   'focus',\n   'narrowly',\n   'anti-elite',\n   'establishment',\n   'component',\n   'feature',\n   'recognise',\n   'necessary',\n   'suﬃcient'],\n  [],\n  '2020',\n  'Bakker et al. 2020')]"
     },
     "execution_count": 49,
     "metadata": {},
     "output_type": "execute_result"
    }
   ],
   "source": [
    "concs_covered_types[:10]"
   ],
   "metadata": {
    "collapsed": false
   }
  },
  {
   "cell_type": "code",
   "execution_count": 50,
   "outputs": [
    {
     "data": {
      "text/plain": "[('2020', 9264),\n ('2019', 8940),\n ('2018', 5936),\n ('2017', 5387),\n ('2016', 3690),\n ('2014', 2332),\n ('2015', 1550),\n ('2011', 1117),\n ('2013', 1088),\n ('2012', 715)]"
     },
     "execution_count": 50,
     "metadata": {},
     "output_type": "execute_result"
    }
   ],
   "source": [
    "FreqDist([el[1] for el in all_concs]).most_common()"
   ],
   "metadata": {
    "collapsed": false
   }
  },
  {
   "cell_type": "code",
   "execution_count": 51,
   "outputs": [
    {
     "data": {
      "text/plain": "11535"
     },
     "execution_count": 51,
     "metadata": {},
     "output_type": "execute_result"
    }
   ],
   "source": [
    "len([el for el in concs_covered_types if bool(el[1])])"
   ],
   "metadata": {
    "collapsed": false
   }
  },
  {
   "cell_type": "code",
   "execution_count": 52,
   "outputs": [
    {
     "data": {
      "text/plain": "7380"
     },
     "execution_count": 52,
     "metadata": {},
     "output_type": "execute_result"
    }
   ],
   "source": [
    "len([el for el in concs_covered_types if len(el[1])==1])"
   ],
   "metadata": {
    "collapsed": false
   }
  },
  {
   "cell_type": "code",
   "execution_count": 55,
   "outputs": [
    {
     "data": {
      "text/plain": "7380"
     },
     "execution_count": 55,
     "metadata": {},
     "output_type": "execute_result"
    }
   ],
   "source": [
    "concs_labeled = [(el[0], el[1][0], el[2], el[3]) for el in concs_covered_types if len(el[1])==1]\n",
    "len(concs_labeled)"
   ],
   "metadata": {
    "collapsed": false
   }
  },
  {
   "cell_type": "code",
   "execution_count": 56,
   "outputs": [
    {
     "data": {
      "text/plain": "[(['legislative',\n   'election',\n   'substantial',\n   'body',\n   'research',\n   'document',\n   'connection',\n   'political',\n   'discontent',\n   'populist',\n   'voting',\n   '.',\n   '2002',\n   'Norris_2005',\n   'Schumacher',\n   'Rooduijn',\n   'expectation',\n   'group',\n   'relatively',\n   'engaged'],\n  'nationalist',\n  '2020',\n  'Bakker et al. 2020'),\n (['corrosive',\n   'tactic',\n   'exaggerated',\n   'shock',\n   'fascism',\n   'rise',\n   'the_interwar_year',\n   'prominent',\n   'recent',\n   'case',\n   'populist',\n   'move',\n   'burgeon',\n   'literature',\n   'threat',\n   'U.S.',\n   'democracy',\n   'overestimate',\n   'openness',\n   'institution'],\n  'authoritatian',\n  '2020',\n  'Weyland 2020'),\n (['recent',\n   'upsurge',\n   'populism',\n   'fact',\n   'weak',\n   'institutional',\n   'setting',\n   'contemporary',\n   'Latin_America',\n   'Eastern_Europe',\n   'populist',\n   'leader',\n   'fail',\n   'machination',\n   'observer',\n   'overly',\n   'impressed',\n   'scare',\n   'relatively',\n   'case'],\n  'authoritatian',\n  '2020',\n  'Weyland 2020'),\n (['effort',\n   'recently',\n   'Pappas',\n   '2019',\n   'chap',\n   '4',\n   '7',\n   'wide-ranging',\n   'investigation',\n   'show',\n   'populist',\n   'effort',\n   'dismantle',\n   'democratic',\n   'institution',\n   'promote',\n   'succeed',\n   'special',\n   'condition',\n   'two'],\n  'authoritatian',\n  '2020',\n  'Weyland 2020'),\n (['huge',\n   'resource',\n   'windfall',\n   'clear',\n   'success',\n   'overcome',\n   'acute',\n   'severe',\n   'crisis',\n   'give',\n   'populist',\n   'leader',\n   'massive',\n   'support',\n   'allow',\n   'remove',\n   'remain',\n   'obstacle',\n   'power',\n   'concentration'],\n  'authoritatian',\n  '2020',\n  'Weyland 2020')]"
     },
     "execution_count": 56,
     "metadata": {},
     "output_type": "execute_result"
    }
   ],
   "source": [
    "concs_labeled[:5]"
   ],
   "metadata": {
    "collapsed": false
   }
  },
  {
   "cell_type": "code",
   "execution_count": 57,
   "outputs": [],
   "source": [
    "with open(\"../data/concs_labeled.pickle\", \"wb\") as f:\n",
    "    pickle.dump(concs_labeled, f)"
   ],
   "metadata": {
    "collapsed": false
   }
  },
  {
   "cell_type": "code",
   "execution_count": null,
   "outputs": [],
   "source": [],
   "metadata": {
    "collapsed": false
   }
  }
 ],
 "metadata": {
  "kernelspec": {
   "display_name": "Python 3",
   "language": "python",
   "name": "python3"
  },
  "language_info": {
   "codemirror_mode": {
    "name": "ipython",
    "version": 2
   },
   "file_extension": ".py",
   "mimetype": "text/x-python",
   "name": "python",
   "nbconvert_exporter": "python",
   "pygments_lexer": "ipython2",
   "version": "2.7.6"
  }
 },
 "nbformat": 4,
 "nbformat_minor": 0
}
