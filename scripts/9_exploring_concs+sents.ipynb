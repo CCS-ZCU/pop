{
 "cells": [
  {
   "cell_type": "code",
   "execution_count": 1,
   "metadata": {
    "collapsed": true
   },
   "outputs": [],
   "source": [
    "import pandas as pd\n",
    "import os\n",
    "import re\n",
    "import pickle"
   ]
  },
  {
   "cell_type": "code",
   "execution_count": 2,
   "outputs": [
    {
     "data": {
      "text/plain": "   Unnamed: 0        poptype  count  proportion_pct  \\\n0           0     right-wing   1967       58.195266   \n1           1      left-wing    582       17.218935   \n2           2    nationalist    214        6.331361   \n3           3       nativist     73        2.159763   \n4           4        radical    104        3.076923   \n5           5       moderate     42        1.242604   \n6           6  authoritatian    157        4.644970   \n7           7      inclusive     69        2.041420   \n8           8      exclusive    108        3.195266   \n9           9     neoliberal     64        1.893491   \n\n                                               words  \n0  [right-wing, right, rightwe, radical-right, ra...  \n1  [left-wing, left, leftist, radical-left, leftw...  \n2  [nationalism, nationalist, national, nation, n...  \n3                               [nativism, nativist]  \n4                   [radical, radicalism, radically]  \n5                             [moderate, moderately]  \n6                  [authoritarian, authoritarianism]  \n7               [inclusionary, inclusive, inclusion]  \n8  [exclusionary, exclusion, exclusive, exclusive...  \n9  [neoliberal, neo-liberal, Neoliberalism, neoli...  ",
      "text/html": "<div>\n<style scoped>\n    .dataframe tbody tr th:only-of-type {\n        vertical-align: middle;\n    }\n\n    .dataframe tbody tr th {\n        vertical-align: top;\n    }\n\n    .dataframe thead th {\n        text-align: right;\n    }\n</style>\n<table border=\"1\" class=\"dataframe\">\n  <thead>\n    <tr style=\"text-align: right;\">\n      <th></th>\n      <th>Unnamed: 0</th>\n      <th>poptype</th>\n      <th>count</th>\n      <th>proportion_pct</th>\n      <th>words</th>\n    </tr>\n  </thead>\n  <tbody>\n    <tr>\n      <th>0</th>\n      <td>0</td>\n      <td>right-wing</td>\n      <td>1967</td>\n      <td>58.195266</td>\n      <td>[right-wing, right, rightwe, radical-right, ra...</td>\n    </tr>\n    <tr>\n      <th>1</th>\n      <td>1</td>\n      <td>left-wing</td>\n      <td>582</td>\n      <td>17.218935</td>\n      <td>[left-wing, left, leftist, radical-left, leftw...</td>\n    </tr>\n    <tr>\n      <th>2</th>\n      <td>2</td>\n      <td>nationalist</td>\n      <td>214</td>\n      <td>6.331361</td>\n      <td>[nationalism, nationalist, national, nation, n...</td>\n    </tr>\n    <tr>\n      <th>3</th>\n      <td>3</td>\n      <td>nativist</td>\n      <td>73</td>\n      <td>2.159763</td>\n      <td>[nativism, nativist]</td>\n    </tr>\n    <tr>\n      <th>4</th>\n      <td>4</td>\n      <td>radical</td>\n      <td>104</td>\n      <td>3.076923</td>\n      <td>[radical, radicalism, radically]</td>\n    </tr>\n    <tr>\n      <th>5</th>\n      <td>5</td>\n      <td>moderate</td>\n      <td>42</td>\n      <td>1.242604</td>\n      <td>[moderate, moderately]</td>\n    </tr>\n    <tr>\n      <th>6</th>\n      <td>6</td>\n      <td>authoritatian</td>\n      <td>157</td>\n      <td>4.644970</td>\n      <td>[authoritarian, authoritarianism]</td>\n    </tr>\n    <tr>\n      <th>7</th>\n      <td>7</td>\n      <td>inclusive</td>\n      <td>69</td>\n      <td>2.041420</td>\n      <td>[inclusionary, inclusive, inclusion]</td>\n    </tr>\n    <tr>\n      <th>8</th>\n      <td>8</td>\n      <td>exclusive</td>\n      <td>108</td>\n      <td>3.195266</td>\n      <td>[exclusionary, exclusion, exclusive, exclusive...</td>\n    </tr>\n    <tr>\n      <th>9</th>\n      <td>9</td>\n      <td>neoliberal</td>\n      <td>64</td>\n      <td>1.893491</td>\n      <td>[neoliberal, neo-liberal, Neoliberalism, neoli...</td>\n    </tr>\n  </tbody>\n</table>\n</div>"
     },
     "execution_count": 2,
     "metadata": {},
     "output_type": "execute_result"
    }
   ],
   "source": [
    "poptypes_df = pd.read_csv(\"../data/poptypes_df.csv\")\n",
    "poptypes_df[\"words\"] = poptypes_df[\"words\"].apply(eval)\n",
    "poptypes_df"
   ],
   "metadata": {
    "collapsed": false
   }
  },
  {
   "cell_type": "code",
   "execution_count": 3,
   "outputs": [
    {
     "data": {
      "text/plain": "{'right-wing': ['right-wing',\n  'right',\n  'rightwe',\n  'radical-right',\n  'radical-right-wing',\n  'far-right',\n  'rightist',\n  'right-leaning',\n  'radicalright',\n  'rightwing',\n  'extreme-right',\n  'farright'],\n 'left-wing': ['left-wing',\n  'left',\n  'leftist',\n  'radical-left',\n  'leftwing',\n  'left-leaning',\n  'leftwe',\n  'leftism',\n  'center-left',\n  'radicalleft'],\n 'nationalist': ['nationalism',\n  'nationalist',\n  'national',\n  'nation',\n  'nationalistic',\n  'neo-nationalism',\n  'nationalisms',\n  'ethno',\n  'ethno-nationalist',\n  'ethnoregionalist'],\n 'nativist': ['nativism', 'nativist'],\n 'radical': ['radical', 'radicalism', 'radically'],\n 'moderate': ['moderate', 'moderately'],\n 'authoritatian': ['authoritarian', 'authoritarianism'],\n 'inclusive': ['inclusionary', 'inclusive', 'inclusion'],\n 'exclusive': ['exclusionary',\n  'exclusion',\n  'exclusive',\n  'exclusively',\n  'exclusionist'],\n 'neoliberal': ['neoliberal',\n  'neo-liberal',\n  'Neoliberalism',\n  'neoliberalism',\n  'Neoliberal']}"
     },
     "execution_count": 3,
     "metadata": {},
     "output_type": "execute_result"
    }
   ],
   "source": [
    "poptypes_dict = dict(zip(poptypes_df[\"poptype\"], poptypes_df[\"words\"]))\n",
    "poptypes_dict"
   ],
   "metadata": {
    "collapsed": false
   }
  },
  {
   "cell_type": "code",
   "execution_count": 4,
   "outputs": [],
   "source": [
    "path = \"../data/large_data/populis_conc10/\"\n",
    "all_concs = []\n",
    "for filename in os.listdir(path):\n",
    "    if \".txt\" in filename:\n",
    "        filepath = path + filename\n",
    "        with open(filepath, \"r\") as f:\n",
    "            lines = f.readlines()\n",
    "        lines_splitted = [l.split() for l in lines]\n",
    "        all_concs.extend(lines_splitted)"
   ],
   "metadata": {
    "collapsed": false
   }
  },
  {
   "cell_type": "code",
   "execution_count": 5,
   "outputs": [
    {
     "data": {
      "text/plain": "40019"
     },
     "execution_count": 5,
     "metadata": {},
     "output_type": "execute_result"
    }
   ],
   "source": [
    "len(all_concs)"
   ],
   "metadata": {
    "collapsed": false
   }
  },
  {
   "cell_type": "code",
   "execution_count": 6,
   "outputs": [
    {
     "name": "stdout",
     "output_type": "stream",
     "text": [
      "[['representation', 'important', 'electoral', 'ramiﬁcation', 'european', 'democracy', 'keyword_European_Union', 'political', 'party', 'representation', 'populism', 'research', 'citizen', 'satisfaction', 'diﬀerentiate', 'inputoriente', 'procedural', 'aspect', 'politic', 'output-oriented', 'measurement'], ['immigration', 'policy', 'key', 'component', 'socio-cultural', 'dimension', 'european', 'democracy', 'Rovny_and_Polk_2019', 'particularly', 'populist', 'radical', 'right', 'party', 'Ivarsﬂaten', 'scholar', 'highlight', 'immigration', 'european', 'integration', 'particular'], ['express', 'cynicism', 'resentment', 'hatred', 'democratic', 'institution', 'govern', 'elite', 'fuel', 'support', 'populism', '.', '2019', 'highlight', 'mainstream', 'party', 'left', 'right', 'see', 'vote', 'share'], ['national', 'legislative', 'election', 'substantial', 'body', 'research', 'document', 'connection', 'political', 'discontent', 'populist', 'voting', '.', '2002', 'Norris_2005', 'Schumacher', 'Rooduijn', 'expectation', 'group', 'relatively', 'engaged'], ['test', 'disaﬀection', 'measure', 'expectation', 'high', 'level', 'disaﬀection', 'associate', 'support', 'anti-establishment', 'populist', 'party', 'formulate', 'following', 'hypothesis', 'hypothesis', '2', 'large', 'individual', 'political', 'disaﬀection'], ['especially', 'support', 'anti-elite', 'party', 'propensity', 'vote', 'anti-elite', 'party', 'Deﬁning', 'measure', 'populism', 'particularly', 'robust', 'contentious', 'subﬁeld', 'comparative', 'politic', '2016', 'Bonikowski', 'Gidron', '2016'], ['Bonikowski', 'Gidron', '2016', 'Mudde', 'Kaltwasser', '2018', 'important', 'deﬁnitional', 'division', 'exist', 'populism', 'scholar', 'broad', 'agreement', 'populism', 'exclusive', 'political', 'left', 'right', 'populist', 'party'], ['Kaltwasser', '2018', 'important', 'deﬁnitional', 'division', 'exist', 'populism', 'scholar', 'broad', 'agreement', 'populism', 'exclusive', 'political', 'left', 'right', 'populist', 'party', 'position', 'political', 'establishment', 'champion'], ['exist', 'populism', 'scholar', 'broad', 'agreement', 'populism', 'exclusive', 'political', 'left', 'right', 'populist', 'party', 'position', 'political', 'establishment', 'champion', 'people', 'elite', 'March_2007', 'Mudde', '2004_,'], ['2007', 'Otjes', 'Louwerse', 'take', 'broad', 'theoretical', 'discussion', 'surround', 'appropriate', 'deﬁnition', 'populism', 'account', 'focus', 'narrowly', 'anti-elite', 'establishment', 'component', 'feature', 'recognise', 'necessary', 'suﬃcient']]\n"
     ]
    }
   ],
   "source": [
    "print(all_concs[:10])"
   ],
   "metadata": {
    "collapsed": false
   }
  },
  {
   "cell_type": "code",
   "execution_count": 152,
   "outputs": [
    {
     "data": {
      "text/plain": "10"
     },
     "execution_count": 152,
     "metadata": {},
     "output_type": "execute_result"
    }
   ],
   "source": [
    "middle = int(len(all_concs[0]) / 2)\n",
    "middle"
   ],
   "metadata": {
    "collapsed": false
   }
  },
  {
   "cell_type": "code",
   "execution_count": 153,
   "outputs": [
    {
     "data": {
      "text/plain": "'populism'"
     },
     "execution_count": 153,
     "metadata": {},
     "output_type": "execute_result"
    }
   ],
   "source": [
    "all_concs[0][middle]"
   ],
   "metadata": {
    "collapsed": false
   }
  },
  {
   "cell_type": "code",
   "execution_count": 154,
   "outputs": [
    {
     "data": {
      "text/plain": "False"
     },
     "execution_count": 154,
     "metadata": {},
     "output_type": "execute_result"
    }
   ],
   "source": [
    "bool(set([\"a\", \"b\"]) & set([\"c\", \"d\"]))"
   ],
   "metadata": {
    "collapsed": false
   }
  },
  {
   "cell_type": "code",
   "execution_count": 155,
   "outputs": [
    {
     "data": {
      "text/plain": "40019"
     },
     "execution_count": 155,
     "metadata": {},
     "output_type": "execute_result"
    }
   ],
   "source": [
    "len(all_concs)"
   ],
   "metadata": {
    "collapsed": false
   }
  },
  {
   "cell_type": "code",
   "execution_count": 8,
   "outputs": [],
   "source": [
    "concs_covered_types = []\n",
    "for conc in all_concs:\n",
    "    covered_types = []\n",
    "    for key in poptypes_dict.keys():\n",
    "        if set(poptypes_dict[key]) & set(conc):\n",
    "            covered_types.append(key)\n",
    "            conc = [w for w in conc if w not in poptypes_dict[key]]\n",
    "    concs_covered_types.append((conc, covered_types))"
   ],
   "metadata": {
    "collapsed": false
   }
  },
  {
   "cell_type": "code",
   "execution_count": 11,
   "outputs": [
    {
     "data": {
      "text/plain": "[(['representation',\n   'important',\n   'electoral',\n   'ramiﬁcation',\n   'european',\n   'democracy',\n   'keyword_European_Union',\n   'political',\n   'party',\n   'representation',\n   'populism',\n   'research',\n   'citizen',\n   'satisfaction',\n   'diﬀerentiate',\n   'inputoriente',\n   'procedural',\n   'aspect',\n   'politic',\n   'output-oriented',\n   'measurement'],\n  []),\n (['immigration',\n   'policy',\n   'key',\n   'component',\n   'socio-cultural',\n   'dimension',\n   'european',\n   'democracy',\n   'Rovny_and_Polk_2019',\n   'particularly',\n   'populist',\n   'party',\n   'Ivarsﬂaten',\n   'scholar',\n   'highlight',\n   'immigration',\n   'european',\n   'integration',\n   'particular'],\n  ['right-wing', 'radical']),\n (['express',\n   'cynicism',\n   'resentment',\n   'hatred',\n   'democratic',\n   'institution',\n   'govern',\n   'elite',\n   'fuel',\n   'support',\n   'populism',\n   '.',\n   '2019',\n   'highlight',\n   'mainstream',\n   'party',\n   'see',\n   'vote',\n   'share'],\n  ['right-wing', 'left-wing']),\n (['legislative',\n   'election',\n   'substantial',\n   'body',\n   'research',\n   'document',\n   'connection',\n   'political',\n   'discontent',\n   'populist',\n   'voting',\n   '.',\n   '2002',\n   'Norris_2005',\n   'Schumacher',\n   'Rooduijn',\n   'expectation',\n   'group',\n   'relatively',\n   'engaged'],\n  ['nationalist']),\n (['test',\n   'disaﬀection',\n   'measure',\n   'expectation',\n   'high',\n   'level',\n   'disaﬀection',\n   'associate',\n   'support',\n   'anti-establishment',\n   'populist',\n   'party',\n   'formulate',\n   'following',\n   'hypothesis',\n   'hypothesis',\n   '2',\n   'large',\n   'individual',\n   'political',\n   'disaﬀection'],\n  []),\n (['especially',\n   'support',\n   'anti-elite',\n   'party',\n   'propensity',\n   'vote',\n   'anti-elite',\n   'party',\n   'Deﬁning',\n   'measure',\n   'populism',\n   'particularly',\n   'robust',\n   'contentious',\n   'subﬁeld',\n   'comparative',\n   'politic',\n   '2016',\n   'Bonikowski',\n   'Gidron',\n   '2016'],\n  []),\n (['Bonikowski',\n   'Gidron',\n   '2016',\n   'Mudde',\n   'Kaltwasser',\n   '2018',\n   'important',\n   'deﬁnitional',\n   'division',\n   'exist',\n   'populism',\n   'scholar',\n   'broad',\n   'agreement',\n   'populism',\n   'political',\n   'populist',\n   'party'],\n  ['right-wing', 'left-wing', 'exclusive']),\n (['Kaltwasser',\n   '2018',\n   'important',\n   'deﬁnitional',\n   'division',\n   'exist',\n   'populism',\n   'scholar',\n   'broad',\n   'agreement',\n   'populism',\n   'political',\n   'populist',\n   'party',\n   'position',\n   'political',\n   'establishment',\n   'champion'],\n  ['right-wing', 'left-wing', 'exclusive']),\n (['exist',\n   'populism',\n   'scholar',\n   'broad',\n   'agreement',\n   'populism',\n   'political',\n   'populist',\n   'party',\n   'position',\n   'political',\n   'establishment',\n   'champion',\n   'people',\n   'elite',\n   'March_2007',\n   'Mudde',\n   '2004_,'],\n  ['right-wing', 'left-wing', 'exclusive']),\n (['2007',\n   'Otjes',\n   'Louwerse',\n   'take',\n   'broad',\n   'theoretical',\n   'discussion',\n   'surround',\n   'appropriate',\n   'deﬁnition',\n   'populism',\n   'account',\n   'focus',\n   'narrowly',\n   'anti-elite',\n   'establishment',\n   'component',\n   'feature',\n   'recognise',\n   'necessary',\n   'suﬃcient'],\n  [])]"
     },
     "execution_count": 11,
     "metadata": {},
     "output_type": "execute_result"
    }
   ],
   "source": [
    "concs_covered_types[:10]"
   ],
   "metadata": {
    "collapsed": false
   }
  },
  {
   "cell_type": "code",
   "execution_count": 164,
   "outputs": [
    {
     "data": {
      "text/plain": "11535"
     },
     "execution_count": 164,
     "metadata": {},
     "output_type": "execute_result"
    }
   ],
   "source": [
    "len([el for el in concs_covered_types if bool(el[1])])"
   ],
   "metadata": {
    "collapsed": false
   }
  },
  {
   "cell_type": "code",
   "execution_count": 165,
   "outputs": [
    {
     "data": {
      "text/plain": "7380"
     },
     "execution_count": 165,
     "metadata": {},
     "output_type": "execute_result"
    }
   ],
   "source": [
    "len([el for el in concs_covered_types if len(el[1])==1])"
   ],
   "metadata": {
    "collapsed": false
   }
  },
  {
   "cell_type": "code",
   "execution_count": 177,
   "outputs": [
    {
     "data": {
      "text/plain": "7380"
     },
     "execution_count": 177,
     "metadata": {},
     "output_type": "execute_result"
    }
   ],
   "source": [
    "concs_labeled = [(el[0], el[1][0]) for el in concs_covered_types if len(el[1])==1]\n",
    "len(concs_labeled)"
   ],
   "metadata": {
    "collapsed": false
   }
  },
  {
   "cell_type": "code",
   "execution_count": 178,
   "outputs": [
    {
     "data": {
      "text/plain": "[(['legislative',\n   'election',\n   'substantial',\n   'body',\n   'research',\n   'document',\n   'connection',\n   'political',\n   'discontent',\n   'populist',\n   'voting',\n   '.',\n   '2002',\n   'Norris_2005',\n   'Schumacher',\n   'Rooduijn',\n   'expectation',\n   'group',\n   'relatively',\n   'engaged'],\n  'nationalist'),\n (['corrosive',\n   'tactic',\n   'exaggerated',\n   'shock',\n   'fascism',\n   'rise',\n   'the_interwar_year',\n   'prominent',\n   'recent',\n   'case',\n   'populist',\n   'move',\n   'burgeon',\n   'literature',\n   'threat',\n   'U.S.',\n   'democracy',\n   'overestimate',\n   'openness',\n   'institution'],\n  'authoritatian'),\n (['recent',\n   'upsurge',\n   'populism',\n   'fact',\n   'weak',\n   'institutional',\n   'setting',\n   'contemporary',\n   'Latin_America',\n   'Eastern_Europe',\n   'populist',\n   'leader',\n   'fail',\n   'machination',\n   'observer',\n   'overly',\n   'impressed',\n   'scare',\n   'relatively',\n   'case'],\n  'authoritatian'),\n (['effort',\n   'recently',\n   'Pappas',\n   '2019',\n   'chap',\n   '4',\n   '7',\n   'wide-ranging',\n   'investigation',\n   'show',\n   'populist',\n   'effort',\n   'dismantle',\n   'democratic',\n   'institution',\n   'promote',\n   'succeed',\n   'special',\n   'condition',\n   'two'],\n  'authoritatian'),\n (['huge',\n   'resource',\n   'windfall',\n   'clear',\n   'success',\n   'overcome',\n   'acute',\n   'severe',\n   'crisis',\n   'give',\n   'populist',\n   'leader',\n   'massive',\n   'support',\n   'allow',\n   'remove',\n   'remain',\n   'obstacle',\n   'power',\n   'concentration'],\n  'authoritatian')]"
     },
     "execution_count": 178,
     "metadata": {},
     "output_type": "execute_result"
    }
   ],
   "source": [
    "concs_labeled[:5]"
   ],
   "metadata": {
    "collapsed": false
   }
  },
  {
   "cell_type": "code",
   "execution_count": 179,
   "outputs": [],
   "source": [
    "with open(\"../data/concs_labeled.pickle\", \"wb\") as f:\n",
    "    pickle.dump(concs_labeled, f)"
   ],
   "metadata": {
    "collapsed": false
   }
  },
  {
   "cell_type": "code",
   "execution_count": null,
   "outputs": [],
   "source": [],
   "metadata": {
    "collapsed": false
   }
  }
 ],
 "metadata": {
  "kernelspec": {
   "display_name": "Python 3",
   "language": "python",
   "name": "python3"
  },
  "language_info": {
   "codemirror_mode": {
    "name": "ipython",
    "version": 2
   },
   "file_extension": ".py",
   "mimetype": "text/x-python",
   "name": "python",
   "nbconvert_exporter": "python",
   "pygments_lexer": "ipython2",
   "version": "2.7.6"
  }
 },
 "nbformat": 4,
 "nbformat_minor": 0
}
