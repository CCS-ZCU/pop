{
 "cells": [
  {
   "cell_type": "code",
   "execution_count": 1,
   "outputs": [],
   "source": [
    "import pickle\n",
    "import gensim.downloader as api\n",
    "from gensim.models import Word2Vec\n",
    "from gensim.models.keyedvectors import KeyedVectors\n",
    "import pandas as pd\n",
    "import numpy as np\n",
    "from sklearn.manifold import TSNE\n",
    "from sklearn.decomposition import PCA\n",
    "from sklearn.feature_extraction.text import CountVectorizer\n",
    "from sklearn.metrics import euclidean_distances\n",
    "\n",
    "import matplotlib.pyplot as plt\n",
    "import colorcet\n",
    "import seaborn as sns\n",
    "from nltk import FreqDist\n",
    "from sklearn.decomposition import KernelPCA\n",
    "from pyemd import emd_samples\n",
    "from pyemd import emd\n"
   ],
   "metadata": {
    "collapsed": false
   }
  },
  {
   "cell_type": "code",
   "execution_count": 2,
   "metadata": {
    "collapsed": true
   },
   "outputs": [],
   "source": [
    "with open(\"../data/concs_labeled_min.pickle\", \"rb\") as f:\n",
    "    concs_labeled = pickle.load(f)"
   ]
  },
  {
   "cell_type": "code",
   "execution_count": 3,
   "outputs": [],
   "source": [
    "concs = [conc[0] for conc in concs_labeled]\n",
    "labels = [conc[1] for conc in concs_labeled]\n",
    "years =  [int(conc[2]) for conc in concs_labeled]"
   ],
   "metadata": {
    "collapsed": false
   }
  },
  {
   "cell_type": "code",
   "execution_count": 4,
   "outputs": [
    {
     "data": {
      "text/plain": "(2010.0, 2021.0)"
     },
     "execution_count": 4,
     "metadata": {},
     "output_type": "execute_result"
    },
    {
     "data": {
      "text/plain": "<Figure size 640x480 with 1 Axes>",
      "image/png": "[encoded data removed]"
     },
     "metadata": {},
     "output_type": "display_data"
    }
   ],
   "source": [
    "plt.hist(years, bins=[y+0.5 for y in range(2010, 2021)])\n",
    "plt.xlim(2010,2021)"
   ],
   "metadata": {
    "collapsed": false
   }
  },
  {
   "cell_type": "code",
   "execution_count": 5,
   "outputs": [
    {
     "data": {
      "text/plain": "4622"
     },
     "execution_count": 5,
     "metadata": {},
     "output_type": "execute_result"
    }
   ],
   "source": [
    "markers = [\"o\" if y<=2017 else \"x\" for y in years ]\n",
    "len([el for el in markers if el==\"x\"])"
   ],
   "metadata": {
    "collapsed": false
   }
  },
  {
   "cell_type": "code",
   "execution_count": 9,
   "outputs": [
    {
     "name": "stdout",
     "output_type": "stream",
     "text": [
      "CPU times: user 23 s, sys: 1.14 s, total: 24.2 s\n",
      "Wall time: 25 s\n"
     ]
    }
   ],
   "source": [
    "%%time\n",
    "w2v = api.load('word2vec-google-news-300')\n",
    "#w2v = KeyedVectors.load(\"../data/large_data/w2v_news300.model\")\n"
   ],
   "metadata": {
    "collapsed": false
   }
  },
  {
   "cell_type": "code",
   "execution_count": 11,
   "outputs": [],
   "source": [
    "vocab_counts = FreqDist([w for conc in concs for w in conc]).most_common()\n",
    "vocab = [tup[0] for tup in vocab_counts]"
   ],
   "metadata": {
    "collapsed": false
   }
  },
  {
   "cell_type": "code",
   "execution_count": 12,
   "outputs": [],
   "source": [
    "w2v.index_to_key\n",
    "w2v_filtered = Word2Vec()"
   ],
   "metadata": {
    "collapsed": false
   }
  },
  {
   "cell_type": "code",
   "execution_count": 13,
   "outputs": [
    {
     "data": {
      "text/plain": "['</s>',\n 'in',\n 'for',\n 'that',\n 'is',\n 'on',\n '##',\n 'The',\n 'with',\n 'said',\n 'was',\n 'the',\n 'at',\n 'not',\n 'as',\n 'it',\n 'be',\n 'from',\n 'by',\n 'are',\n 'I',\n 'have',\n 'he',\n 'will',\n 'has',\n '####',\n 'his',\n 'an',\n 'this',\n 'or',\n 'their',\n 'who',\n 'they',\n 'but',\n '$',\n 'had',\n 'year',\n 'were',\n 'we',\n 'more',\n '###',\n 'up',\n 'been',\n 'you',\n 'its',\n 'one',\n 'about',\n 'would',\n 'which',\n 'out',\n 'can',\n 'It',\n 'all',\n 'also',\n 'two',\n 'after',\n 'first',\n 'He',\n 'do',\n 'time',\n 'than',\n 'when',\n 'We',\n 'over',\n 'last',\n 'new',\n 'other',\n 'her',\n 'people',\n 'into',\n 'In',\n 'our',\n 'there',\n 'A',\n 'she',\n 'could',\n 'just',\n 'years',\n 'some',\n 'U.S.',\n 'three',\n 'million',\n 'them',\n 'what',\n 'But',\n 'so',\n 'no',\n 'like',\n 'if',\n 'only',\n 'percent',\n 'get',\n 'did',\n 'him',\n 'game',\n 'back',\n 'because',\n 'now',\n '#.#',\n 'before',\n 'company',\n 'any',\n 'team',\n 'against',\n 'off',\n 'This',\n 'most',\n 'made',\n 'through',\n 'make',\n 'second',\n 'state',\n 'well',\n 'day',\n 'season',\n 'says',\n 'week',\n 'where',\n 'while',\n 'down',\n 'being',\n 'government',\n 'your',\n '#-#',\n 'home',\n 'going',\n 'my',\n 'good',\n 'They',\n \"'re\",\n 'should',\n 'many',\n 'way',\n 'those',\n 'four',\n 'during',\n 'such',\n 'may',\n 'very',\n 'how',\n 'since',\n 'work',\n 'take',\n 'including',\n 'high',\n 'then',\n '%',\n 'next',\n '#,###',\n 'By',\n 'much',\n 'still',\n 'go',\n 'think',\n 'old',\n 'even',\n '#.##',\n 'world',\n 'see',\n 'say',\n 'business',\n 'five',\n 'told',\n 'under',\n 'us',\n '1',\n 'these',\n 'If',\n 'right',\n 'And',\n 'me',\n 'between',\n 'play',\n 'help',\n '##,###',\n 'market',\n 'That',\n 'know',\n 'end',\n 'AP',\n 'long',\n 'information',\n 'points',\n 'does',\n 'both',\n 'There',\n 'part',\n 'around',\n 'police',\n 'want',\n \"'ve\",\n 'based',\n 'For',\n 'got',\n 'third',\n 'school',\n 'left',\n 'another',\n 'country',\n 'need',\n '2',\n 'best',\n 'win',\n 'quarter',\n 'use',\n 'today',\n '##.#',\n 'same',\n 'public',\n 'run',\n 'Friday',\n 'set',\n 'month',\n 'top',\n 'billion',\n 'Tuesday',\n 'come',\n 'Monday',\n 'She',\n 'city',\n 'place',\n 'night',\n 'six',\n 'each',\n 'Thursday',\n '###,###',\n 'Wednesday',\n 'here',\n 'You',\n 'group',\n 'really',\n 'found',\n 'As',\n 'used',\n '3',\n 'lot',\n \"'m\",\n 'money',\n 'put',\n 'games',\n 'support',\n 'program',\n 'half',\n 'report',\n 'family',\n 'months',\n 'number',\n 'officials',\n 'am',\n 'former',\n 'own',\n 'man',\n 'Saturday',\n 'too',\n 'better',\n 'days',\n 'came',\n 'lead',\n 'life',\n 'American',\n '##-##',\n 'show',\n 'past',\n 'took',\n 'added',\n 'expected',\n 'called',\n 'great',\n 'State',\n 'services',\n 'children',\n 'hit',\n 'area',\n 'system',\n 'every',\n 'pm',\n 'big',\n 'service',\n 'few',\n 'per',\n 'members',\n 'Sunday',\n 'early',\n 'point',\n 'start',\n 'companies',\n 'little',\n '&',\n 'case',\n 'ago',\n 'local',\n 'according',\n 'never',\n '5',\n 'without',\n 'sales',\n 'until',\n 'went',\n 'players',\n '##th',\n 'New_York',\n 'won',\n 'financial',\n 'news',\n '4',\n 'When',\n 'share',\n 'several',\n 'free',\n 'away',\n '##.##',\n 'already',\n 'On',\n 'industry',\n \"'ll\",\n 'call',\n 'With',\n 'students',\n 'line',\n 'available',\n 'County',\n 'making',\n 'held',\n 'final',\n '#:##',\n 'power',\n 'plan',\n 'might',\n 'least',\n 'look',\n 'forward',\n 'give',\n 'At',\n 'again',\n 'later',\n 'full',\n 'must',\n 'things',\n 'major',\n 'community',\n 'announced',\n 'open',\n 'record',\n 'reported',\n 'court',\n 'working',\n 'able',\n 'something',\n 'president',\n 'meeting',\n 'keep',\n 'March',\n 'future',\n 'far',\n 'deal',\n 'City',\n 'May',\n 'development',\n 'University',\n 'find',\n 'times',\n 'After',\n 'office',\n 'led',\n 'among',\n 'June',\n 'increase',\n 'China',\n 'John',\n 'whether',\n 'cost',\n 'security',\n 'job',\n 'less',\n 'head',\n 'seven',\n 'growth',\n 'lost',\n 'pay',\n 'looking',\n 'provide',\n '6',\n 'To',\n 'plans',\n 'products',\n 'car',\n 'recent',\n 'hard',\n 'always',\n 'include',\n 'women',\n 'across',\n 'tax',\n 'water',\n 'April',\n 'continue',\n 'important',\n 'different',\n 'close',\n '7',\n 'One',\n 'late',\n 'decision',\n 'current',\n 'law',\n 'within',\n 'along',\n 'played',\n 'move',\n 'United_States',\n 'enough',\n 'become',\n 'side',\n 'national',\n 'Inc.',\n 'results',\n 'level',\n 'loss',\n 'economic',\n 'coach',\n 'near',\n 'getting',\n 'price',\n 'Department',\n 'event',\n 'fourth',\n 'change',\n 'All',\n 'small',\n 'board',\n 'National',\n 'So',\n 'goal',\n 'taken',\n 'field',\n 'prices',\n 'weeks',\n 'men',\n 'asked',\n 'eight',\n 'data',\n 'shot',\n 'New',\n 'started',\n 'July',\n 'director',\n 'President',\n 'party',\n 'federal',\n 'done',\n 'political',\n 'minutes',\n 'taking',\n 'Company',\n 'technology',\n 'project',\n 'center',\n 'leading',\n 'issue',\n 'though',\n 'having',\n 'period',\n 'likely',\n 'scored',\n '8',\n 'strong',\n 'series',\n 'military',\n 'seen',\n 'trying',\n 'What',\n 'coming',\n 'process',\n 'building',\n 'behind',\n 'performance',\n 'management',\n 'Iraq',\n 'saying',\n 'earlier',\n 'believe',\n 'oil',\n 'given',\n 'Police',\n 'customers',\n 'due',\n 'following',\n 'term',\n 'others',\n 'statement',\n 'international',\n 'economy',\n 'health',\n 'thing',\n 'Obama',\n 'return',\n 'killed',\n 'Washington',\n 'further',\n 'However',\n 'doing',\n 'face',\n 'low',\n 'higher',\n 'site',\n 'once',\n 'yet',\n 'hours',\n 'America',\n 'control',\n 'received',\n 'rate',\n 'career',\n 'Bush',\n 'teams',\n 'known',\n 'offer',\n 'race',\n 'ever',\n 'experience',\n 'playing',\n 'name',\n 'possible',\n 'countries',\n 'Mr.',\n 'average',\n 'together',\n 'using',\n '9',\n 'cut',\n 'While',\n 'total',\n 'round',\n 'young',\n 'nearly',\n 'shares',\n 'member',\n 'campaign',\n 'media',\n 'needs',\n 'why',\n 'house',\n 'issues',\n 'costs',\n 'fire',\n '##-#',\n 'victory',\n 'player',\n 'began',\n 'sure',\n 'story',\n 'per_cent',\n 'North',\n 'His',\n 'staff',\n 'order',\n 'war',\n 'large',\n 'interest',\n 'stock',\n 'food',\n 'research',\n 'key',\n 'India',\n 'South',\n 'morning',\n 'conference',\n 'senior',\n 'global',\n 'Center',\n 'death',\n 'person',\n 'thought',\n 'gave',\n 'feel',\n 'energy',\n 'history',\n 'recently',\n 'largest',\n 'No.',\n 'general',\n 'official',\n 'released',\n 'wanted',\n 'meet',\n 'short',\n 'outside',\n 'running',\n 'live',\n 'ball',\n 'online',\n 'real',\n 'position',\n 'fact',\n 'fell',\n 'nine',\n 'December',\n 'front',\n 'action',\n 'defense',\n 'problem',\n 'problems',\n 'Mr',\n 'nation',\n 'needed',\n 'special',\n 'January',\n 'almost',\n 'chance',\n \"'d\",\n 'result',\n 'West',\n 'September',\n 'reports',\n 'leader',\n 'investment',\n 'yesterday',\n 'Some',\n 'leaders',\n 'ahead',\n 'production',\n 'comes',\n 'No',\n 'runs',\n 'match',\n 'role',\n 'kind',\n 'try',\n 'ended',\n 'risk',\n 'areas',\n 'election',\n 'workers',\n 'visit',\n 'bring',\n 'road',\n 'music',\n 'study',\n 'makes',\n 'often',\n 'release',\n 'woman',\n 'vote',\n 'care',\n 'town',\n 'clear',\n 'comment',\n 'budget',\n 'potential',\n 'single',\n 'markets',\n 'policy',\n 'capital',\n 'saw',\n 'access',\n 'weekend',\n 'operations',\n 'whose',\n 'net',\n 'House',\n 'hand',\n 'increased',\n 'charges',\n 'winning',\n 'trade',\n 'These',\n 'income',\n 'value',\n 'involved',\n 'Bank',\n 'November',\n 'bill',\n 'compared',\n 'anything',\n 'manager',\n 'Texas',\n 'property',\n 'stop',\n 'annual',\n 'private',\n 'contract',\n 'died',\n 'Now',\n 'hope',\n 'product',\n 'fans',\n 'lower',\n 'demand',\n 'News',\n 'David',\n 'club',\n 'comments',\n 'film',\n 'yards',\n 'quality',\n 'currently',\n 'events',\n 'addition',\n 'couple',\n 'schools',\n 'attack',\n 'region',\n 'latest',\n 'opportunity',\n 'worked',\n 'course',\n 'bad',\n 'fall',\n 'Group',\n 'October',\n 'jobs',\n 'list',\n 'let',\n 'however',\n 'chief',\n 'summer',\n 'programs',\n 'According',\n 'revenue',\n 'Our',\n 'rose',\n 'previous',\n 'TV',\n 'football',\n 'biggest',\n 'employees',\n 'changes',\n 'residents',\n 'means',\n 'agreement',\n 'includes',\n 'post',\n 'Canada',\n 'probably',\n 'related',\n 'training',\n 'allowed',\n 'class',\n 'bit',\n 'video',\n 'Michael',\n 'An',\n 'sent',\n 'education',\n 'states',\n 'straight',\n 'love',\n 'beat',\n 'hold',\n 'turn',\n 'finished',\n 'network',\n 'Smith',\n 'buy',\n 'foreign',\n 'especially',\n 'groups',\n 'wants',\n 'title',\n 'included',\n 'turned',\n 'bank',\n 'Florida',\n 'efforts',\n 'personal',\n 'businesses',\n 'August',\n 'California',\n 'situation',\n 'district',\n 'allow',\n 'helped',\n 'body',\n 'nothing',\n 'soon',\n 'safety',\n 'officer',\n 'cents',\n 'Europe',\n 'St.',\n 'additional',\n 'spokesman',\n 'February',\n 'wife',\n 'showed',\n 'leave',\n 'investors',\n 'parents',\n 'medical',\n 'spending',\n 'non',\n 'London',\n 'Council',\n 'matter',\n 'spent',\n 'child',\n 'World',\n 'effort',\n 'opening',\n 'either',\n 'range',\n 'question',\n 'European',\n 'goals',\n 'administration',\n 'friends',\n 'himself',\n 'shows',\n 'difficult',\n 'kids',\n 'paid',\n 'create',\n 'cash',\n 'age',\n 'league',\n 'form',\n 'impact',\n 'drive',\n 'someone',\n 'became',\n 'stay',\n 'fight',\n 'significant',\n 'firm',\n 'Senate',\n 'hospital',\n 'charged',\n 'operating',\n 'main',\n 'book',\n 'success',\n 'son',\n 'trading',\n '###-####',\n 'focus',\n 'room',\n 'continued',\n 'Congress',\n 'everything',\n 'Park',\n 'agency',\n 'brought',\n 'talk',\n 'break',\n 'air',\n 'software',\n 'decided',\n 'Do',\n 'ready',\n 'arrested',\n 'track',\n 'provides',\n 'mother',\n 'base',\n 'trial',\n 'phone',\n 'My',\n 'build',\n 'conditions',\n 'rest',\n 'Johnson',\n 'terms',\n 'expect',\n 'England',\n 'Israel',\n 'despite',\n 'closed',\n 'starting',\n 'provided',\n 'pressure',\n 'lives',\n 'step',\n 'remain',\n 'similar',\n 'charge',\n 'date',\n 'whole',\n 'land',\n 'growing',\n 'James',\n 'Internet',\n 'projects',\n 'British',\n 'cases',\n 'ground',\n 'legal',\n 'International',\n 'agreed',\n 'tell',\n 'test',\n 'everyone',\n 'pretty',\n 'authorities',\n 'Two',\n 'above',\n 'moved',\n 'profit',\n 'throughout',\n 'inside',\n 'ability',\n 'overall',\n 'pass',\n 'officers',\n 'rather',\n 'Australia',\n 'actually',\n 'county',\n 'amount',\n 'scheduled',\n 'themselves',\n 'organization',\n 'giving',\n 'credit',\n 'father',\n 'drug',\n 'investigation',\n 'families',\n 'Republican',\n 'funds',\n 'patients',\n 'takes',\n 'systems',\n 'Japan',\n 'complete',\n 'sold',\n 'practice',\n 'calls',\n '•',\n 'UK',\n 'force',\n 'student',\n 'idea',\n 'reached',\n 'reason',\n 'levels',\n 'space',\n 'competition',\n 'forces',\n 'sector',\n 'Last',\n 'tried',\n 'common',\n 'homes',\n 'stage',\n 'department',\n 'named',\n 'earnings',\n 'offers',\n 'star',\n 'certain',\n 'double',\n 'longer',\n 'followed',\n 'cause',\n 'Association',\n 'signed',\n 'committee',\n 'hour',\n 'college',\n 'Pakistan',\n 'users',\n 'Iran',\n 'sign',\n 'living',\n 'failed',\n 'reach',\n 'quickly',\n 'receive',\n 'debt',\n 'sale',\n 'Board',\n 'Americans',\n 'Road',\n 'Brown',\n 'insurance',\n '##:##',\n 'anyone',\n 'tournament',\n 'More',\n 'gas',\n 'talks',\n 'serious',\n 'required',\n 'sell',\n 'construction',\n 'evidence',\n 'remains',\n 'black',\n 'below',\n 'improve',\n 'crisis',\n 'address',\n 'questions',\n 'easy',\n 'begin',\n 'view',\n 'School',\n 'heard',\n 'executive',\n 'raised',\n ...]"
     },
     "execution_count": 13,
     "metadata": {},
     "output_type": "execute_result"
    }
   ],
   "source": [
    "w2v.index_to_key"
   ],
   "metadata": {
    "collapsed": false
   }
  },
  {
   "cell_type": "code",
   "execution_count": 14,
   "outputs": [],
   "source": [
    "w2v_filtered = KeyedVectors(vector_size=300)\n",
    "vocab_filtered = []\n",
    "# Iterate over the original KeyedVectors object\n",
    "for word in vocab:\n",
    "    try:\n",
    "        w2v_filtered[word] = w2v[word]\n",
    "        vocab_filtered.append(word)\n",
    "    except:\n",
    "        pass"
   ],
   "metadata": {
    "collapsed": false
   }
  },
  {
   "cell_type": "code",
   "execution_count": 15,
   "outputs": [
    {
     "data": {
      "text/plain": "7318"
     },
     "execution_count": 15,
     "metadata": {},
     "output_type": "execute_result"
    }
   ],
   "source": [
    "len(vocab_filtered)"
   ],
   "metadata": {
    "collapsed": false
   }
  },
  {
   "cell_type": "code",
   "execution_count": 16,
   "outputs": [],
   "source": [
    "def return_vectors(word_list, keyed_vectors):\n",
    "    vocab_set = set(keyed_vectors.index_to_key)\n",
    "\n",
    "    \"\"\"\n",
    "    replace words by vectors, while omitting missing words\n",
    "    \"\"\"\n",
    "    word_list_filtered = list(set(word_list) & vocab_set)\n",
    "    return [keyed_vectors[word] for word in word_list_filtered]"
   ],
   "metadata": {
    "collapsed": false
   }
  },
  {
   "cell_type": "code",
   "execution_count": 17,
   "outputs": [
    {
     "name": "stdout",
     "output_type": "stream",
     "text": [
      "CPU times: user 1.5 s, sys: 39.8 ms, total: 1.54 s\n",
      "Wall time: 1.57 s\n"
     ]
    }
   ],
   "source": [
    "%%time\n",
    "concs_vectors =  [return_vectors(conc, w2v_filtered) for conc in concs]"
   ],
   "metadata": {
    "collapsed": false
   }
  },
  {
   "cell_type": "code",
   "execution_count": 18,
   "outputs": [
    {
     "data": {
      "text/plain": "7617"
     },
     "execution_count": 18,
     "metadata": {},
     "output_type": "execute_result"
    }
   ],
   "source": [
    "len(concs_vectors)"
   ],
   "metadata": {
    "collapsed": false
   }
  },
  {
   "cell_type": "code",
   "execution_count": 19,
   "outputs": [
    {
     "data": {
      "text/plain": "(array([   7.,    9.,   27.,   37.,   96.,  185.,  360.,  676., 1050.,\n        1520., 1728., 1334.,  585.]),\n array([ 7.5,  8.5,  9.5, 10.5, 11.5, 12.5, 13.5, 14.5, 15.5, 16.5, 17.5,\n        18.5, 19.5, 20.5]),\n <BarContainer object of 13 artists>)"
     },
     "execution_count": 19,
     "metadata": {},
     "output_type": "execute_result"
    },
    {
     "data": {
      "text/plain": "<Figure size 640x480 with 1 Axes>",
      "image/png": "[encoded data removed]"
     },
     "metadata": {},
     "output_type": "display_data"
    }
   ],
   "source": [
    "concs_vectors_lens = [len(conc) for conc in concs_vectors]\n",
    "plt.hist(concs_vectors_lens, bins=[n+0.5 for n in range(7,21)])"
   ],
   "metadata": {
    "collapsed": false
   }
  },
  {
   "cell_type": "code",
   "execution_count": 21,
   "outputs": [
    {
     "data": {
      "text/plain": "(7318, 7318)"
     },
     "execution_count": 21,
     "metadata": {},
     "output_type": "execute_result"
    }
   ],
   "source": [
    "vect = CountVectorizer(vocabulary=vocab_filtered, lowercase=False)\n",
    "W_ = np.array([w2v_filtered[w] for w in vect.get_feature_names_out() if w in w2v_filtered.index_to_key])\n",
    "D_ = euclidean_distances(W_).astype('float64')\n",
    "D_ /= D_.max()  # just for comparison purposes\n",
    "D_.shape"
   ],
   "metadata": {
    "collapsed": false
   }
  },
  {
   "cell_type": "code",
   "execution_count": 22,
   "outputs": [
    {
     "data": {
      "text/plain": "(7617, 7318)"
     },
     "execution_count": 22,
     "metadata": {},
     "output_type": "execute_result"
    }
   ],
   "source": [
    "concs_bows = vect.fit_transform([\" \".join(conc) for conc in concs])\n",
    "concs_bows = np.array([bow.toarray().ravel() for bow in concs_bows])\n",
    "concs_bows.shape"
   ],
   "metadata": {
    "collapsed": false
   }
  },
  {
   "cell_type": "code",
   "execution_count": 23,
   "outputs": [],
   "source": [
    "concs_bows_norm = [(bow / bow.sum()) for bow in concs_bows]"
   ],
   "metadata": {
    "collapsed": false
   }
  },
  {
   "cell_type": "code",
   "execution_count": 24,
   "outputs": [],
   "source": [
    "t1 = concs_bows_norm[10]\n",
    "t2 = concs_bows_norm[20]"
   ],
   "metadata": {
    "collapsed": false
   }
  },
  {
   "cell_type": "code",
   "execution_count": 25,
   "outputs": [
    {
     "name": "stdout",
     "output_type": "stream",
     "text": [
      "CPU times: user 2.84 s, sys: 484 ms, total: 3.33 s\n",
      "Wall time: 3.53 s\n"
     ]
    },
    {
     "data": {
      "text/plain": "0.34954603791300076"
     },
     "execution_count": 25,
     "metadata": {},
     "output_type": "execute_result"
    }
   ],
   "source": [
    "%%time\n",
    "emd(t1, t2, D_)"
   ],
   "metadata": {
    "collapsed": false
   }
  },
  {
   "cell_type": "code",
   "execution_count": 26,
   "outputs": [],
   "source": [
    "# create a NumPy array of concatenated sentences\n",
    "concs_array = np.array(concs, dtype=object)\n",
    "\n",
    "# create an empty NumPy array of the correct size\n",
    "distance_matrix = np.zeros((len(concs_array), len(concs_array)))"
   ],
   "metadata": {
    "collapsed": false
   }
  },
  {
   "cell_type": "code",
   "execution_count": null,
   "outputs": [
    {
     "name": "stdout",
     "output_type": "stream",
     "text": [
      "0\n",
      "100\n"
     ]
    }
   ],
   "source": [
    "# use a nested for loop to calculate the WMD distance between each pair of sentences\n",
    "for i in range(len(concs_array)):\n",
    "    if i in range(0, len(concs_array), 100):\n",
    "        print(i)\n",
    "    for j in range(len(concs_array)):\n",
    "        distance_matrix[i, j] = w2v_filtered.wmdistance(concs_array[i], concs_array[j])"
   ],
   "metadata": {
    "collapsed": false,
    "pycharm": {
     "is_executing": true
    }
   }
  },
  {
   "cell_type": "code",
   "execution_count": 130,
   "outputs": [
    {
     "name": "stdout",
     "output_type": "stream",
     "text": [
      "hello\n"
     ]
    }
   ],
   "source": [
    "print(\"hello\")"
   ],
   "metadata": {
    "collapsed": false
   }
  },
  {
   "cell_type": "code",
   "execution_count": null,
   "outputs": [],
   "source": [
    "distance_matrix.shape"
   ],
   "metadata": {
    "collapsed": false,
    "pycharm": {
     "is_executing": true
    }
   }
  },
  {
   "cell_type": "code",
   "execution_count": null,
   "outputs": [],
   "source": [
    "with open(\"../data/large_data/distance_matrix_min.pickle\", \"wb\") as f:\n",
    "    pickle.dump(distance_matrix, f)"
   ],
   "metadata": {
    "collapsed": false,
    "pycharm": {
     "is_executing": true
    }
   }
  },
  {
   "cell_type": "code",
   "execution_count": 4,
   "outputs": [],
   "source": [
    "#with open(\"../data/large_data/distance_matrix.pickle\", \"rb\") as f:\n",
    "#    distance_matrix = pickle.load(f)"
   ],
   "metadata": {
    "collapsed": false
   }
  }
 ],
 "metadata": {
  "kernelspec": {
   "name": "conda_base",
   "language": "python",
   "display_name": "conda_base"
  },
  "language_info": {
   "codemirror_mode": {
    "name": "ipython",
    "version": 2
   },
   "file_extension": ".py",
   "mimetype": "text/x-python",
   "name": "python",
   "nbconvert_exporter": "python",
   "pygments_lexer": "ipython2",
   "version": "2.7.6"
  }
 },
 "nbformat": 4,
 "nbformat_minor": 0
}
