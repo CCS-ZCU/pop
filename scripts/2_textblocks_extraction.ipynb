{
 "cells": [
  {
   "cell_type": "code",
   "execution_count": 16,
   "metadata": {
    "collapsed": true
   },
   "outputs": [
    {
     "name": "stdout",
     "output_type": "stream",
     "text": [
      "\n",
      "PyMuPDF 1.21.0: Python bindings for the MuPDF 1.21.0 library.\n",
      "Version date: 2022-11-08 00:00:01.\n",
      "Built for Python 3.9 on darwin (64-bit).\n",
      "\n"
     ]
    }
   ],
   "source": [
    "import pickle\n",
    "\n",
    "import pandas as pd\n",
    "import PyPDF2\n",
    "import pickle\n",
    "import fitz\n",
    "print(fitz.__doc__)"
   ]
  },
  {
   "cell_type": "code",
   "execution_count": 67,
   "outputs": [
    {
     "data": {
      "text/plain": "   year                 authors                            journal  \\\n0  2011              Bos et al.            Political Communication   \n1  2019         Blassnig et al.            Political Communication   \n2  2017                Caramani  American Political Science Review   \n3  2020  Wuttke,Schimpf, Schoen  American Political Science Review   \n4  2014                   Treib  Journal of European Public Policy   \n\n                                               title     type pdf? keywords  \\\n0  How the Media Shape Perceptions of Right-Wing ...  article    y        y   \n1  Hitting a Nerve: Populist News Articles Lead t...  article    y        y   \n2  Will vs. Reason: The Populist and Technocratic...  article    y        y   \n3  When the Whole Is Greater than the Sum of Its ...  article    y        y   \n4  The voter says no, but nobody listens: causes ...  article    y        y   \n\n  keywords_online? notes                                           filepath  \\\n0                y  None  Political Communication/2011 - Bos et al. - Ho...   \n1                y  None  Political Communication/2019 - Blassing et al....   \n2             None  None  American Political Science Review/2017 - Caram...   \n3             None  None  American Political Science Review/2020 - Wuttk...   \n4             None  None  Journal of European Public Policy/2014 - Treib...   \n\n   pop_id  \n0       0  \n1       1  \n2       2  \n3       3  \n4       4  ",
      "text/html": "<div>\n<style scoped>\n    .dataframe tbody tr th:only-of-type {\n        vertical-align: middle;\n    }\n\n    .dataframe tbody tr th {\n        vertical-align: top;\n    }\n\n    .dataframe thead th {\n        text-align: right;\n    }\n</style>\n<table border=\"1\" class=\"dataframe\">\n  <thead>\n    <tr style=\"text-align: right;\">\n      <th></th>\n      <th>year</th>\n      <th>authors</th>\n      <th>journal</th>\n      <th>title</th>\n      <th>type</th>\n      <th>pdf?</th>\n      <th>keywords</th>\n      <th>keywords_online?</th>\n      <th>notes</th>\n      <th>filepath</th>\n      <th>pop_id</th>\n    </tr>\n  </thead>\n  <tbody>\n    <tr>\n      <th>0</th>\n      <td>2011</td>\n      <td>Bos et al.</td>\n      <td>Political Communication</td>\n      <td>How the Media Shape Perceptions of Right-Wing ...</td>\n      <td>article</td>\n      <td>y</td>\n      <td>y</td>\n      <td>y</td>\n      <td>None</td>\n      <td>Political Communication/2011 - Bos et al. - Ho...</td>\n      <td>0</td>\n    </tr>\n    <tr>\n      <th>1</th>\n      <td>2019</td>\n      <td>Blassnig et al.</td>\n      <td>Political Communication</td>\n      <td>Hitting a Nerve: Populist News Articles Lead t...</td>\n      <td>article</td>\n      <td>y</td>\n      <td>y</td>\n      <td>y</td>\n      <td>None</td>\n      <td>Political Communication/2019 - Blassing et al....</td>\n      <td>1</td>\n    </tr>\n    <tr>\n      <th>2</th>\n      <td>2017</td>\n      <td>Caramani</td>\n      <td>American Political Science Review</td>\n      <td>Will vs. Reason: The Populist and Technocratic...</td>\n      <td>article</td>\n      <td>y</td>\n      <td>y</td>\n      <td>None</td>\n      <td>None</td>\n      <td>American Political Science Review/2017 - Caram...</td>\n      <td>2</td>\n    </tr>\n    <tr>\n      <th>3</th>\n      <td>2020</td>\n      <td>Wuttke,Schimpf, Schoen</td>\n      <td>American Political Science Review</td>\n      <td>When the Whole Is Greater than the Sum of Its ...</td>\n      <td>article</td>\n      <td>y</td>\n      <td>y</td>\n      <td>None</td>\n      <td>None</td>\n      <td>American Political Science Review/2020 - Wuttk...</td>\n      <td>3</td>\n    </tr>\n    <tr>\n      <th>4</th>\n      <td>2014</td>\n      <td>Treib</td>\n      <td>Journal of European Public Policy</td>\n      <td>The voter says no, but nobody listens: causes ...</td>\n      <td>article</td>\n      <td>y</td>\n      <td>y</td>\n      <td>None</td>\n      <td>None</td>\n      <td>Journal of European Public Policy/2014 - Treib...</td>\n      <td>4</td>\n    </tr>\n  </tbody>\n</table>\n</div>"
     },
     "execution_count": 67,
     "metadata": {},
     "output_type": "execute_result"
    }
   ],
   "source": [
    "articles_metadata = pd.read_json(\"../data/article_metadata_with_filepaths.json\")\n",
    "articles_metadata.head(5)"
   ],
   "metadata": {
    "collapsed": false
   }
  },
  {
   "cell_type": "code",
   "execution_count": 68,
   "outputs": [
    {
     "data": {
      "text/plain": "     year         authors                                    journal  \\\n97   2017         Loeppky                      New Political Economy   \n98   2020    Bluhm, Varga                      New Political Economy   \n99   2020        Toplišek                      New Political Economy   \n100  2011  Berrios et al.  Review of International Political Economy   \n\n                                                 title     type pdf? keywords  \\\n97    ‘Adaptive accumulation’ and US political economy  article    y        y   \n98   Conservative Developmental Statism in East Cen...  article    y        y   \n99   The Political Economy of Populist Rule in Post...  article    y        y   \n100  Explaining hydrocarbon nationalization in Lati...  article    y        y   \n\n    keywords_online? notes                                           filepath  \\\n97              None  None  _additional/2017 - Loeppky - Adaptive accumula...   \n98              None  None  _additional/2020 - Bluhm, Varga - Conservative...   \n99              None  None  _additional/2020 - Toplišek - The Political E...   \n100             None  None  Review of International Political Economy/2011...   \n\n     pop_id  \n97       97  \n98       98  \n99       99  \n100     100  ",
      "text/html": "<div>\n<style scoped>\n    .dataframe tbody tr th:only-of-type {\n        vertical-align: middle;\n    }\n\n    .dataframe tbody tr th {\n        vertical-align: top;\n    }\n\n    .dataframe thead th {\n        text-align: right;\n    }\n</style>\n<table border=\"1\" class=\"dataframe\">\n  <thead>\n    <tr style=\"text-align: right;\">\n      <th></th>\n      <th>year</th>\n      <th>authors</th>\n      <th>journal</th>\n      <th>title</th>\n      <th>type</th>\n      <th>pdf?</th>\n      <th>keywords</th>\n      <th>keywords_online?</th>\n      <th>notes</th>\n      <th>filepath</th>\n      <th>pop_id</th>\n    </tr>\n  </thead>\n  <tbody>\n    <tr>\n      <th>97</th>\n      <td>2017</td>\n      <td>Loeppky</td>\n      <td>New Political Economy</td>\n      <td>‘Adaptive accumulation’ and US political economy</td>\n      <td>article</td>\n      <td>y</td>\n      <td>y</td>\n      <td>None</td>\n      <td>None</td>\n      <td>_additional/2017 - Loeppky - Adaptive accumula...</td>\n      <td>97</td>\n    </tr>\n    <tr>\n      <th>98</th>\n      <td>2020</td>\n      <td>Bluhm, Varga</td>\n      <td>New Political Economy</td>\n      <td>Conservative Developmental Statism in East Cen...</td>\n      <td>article</td>\n      <td>y</td>\n      <td>y</td>\n      <td>None</td>\n      <td>None</td>\n      <td>_additional/2020 - Bluhm, Varga - Conservative...</td>\n      <td>98</td>\n    </tr>\n    <tr>\n      <th>99</th>\n      <td>2020</td>\n      <td>Toplišek</td>\n      <td>New Political Economy</td>\n      <td>The Political Economy of Populist Rule in Post...</td>\n      <td>article</td>\n      <td>y</td>\n      <td>y</td>\n      <td>None</td>\n      <td>None</td>\n      <td>_additional/2020 - Toplišek - The Political E...</td>\n      <td>99</td>\n    </tr>\n    <tr>\n      <th>100</th>\n      <td>2011</td>\n      <td>Berrios et al.</td>\n      <td>Review of International Political Economy</td>\n      <td>Explaining hydrocarbon nationalization in Lati...</td>\n      <td>article</td>\n      <td>y</td>\n      <td>y</td>\n      <td>None</td>\n      <td>None</td>\n      <td>Review of International Political Economy/2011...</td>\n      <td>100</td>\n    </tr>\n  </tbody>\n</table>\n</div>"
     },
     "execution_count": 68,
     "metadata": {},
     "output_type": "execute_result"
    }
   ],
   "source": [
    "articles_metadata[articles_metadata[\"pop_id\"].isin()]"
   ],
   "metadata": {
    "collapsed": false
   }
  },
  {
   "cell_type": "code",
   "execution_count": 69,
   "outputs": [
    {
     "data": {
      "text/plain": "542"
     },
     "execution_count": 69,
     "metadata": {},
     "output_type": "execute_result"
    }
   ],
   "source": [
    "len(articles_metadata)"
   ],
   "metadata": {
    "collapsed": false
   }
  },
  {
   "cell_type": "code",
   "execution_count": 70,
   "outputs": [],
   "source": [
    "# filter for articles with identified files\n",
    "articles_metadata = articles_metadata[articles_metadata[\"filepath\"].apply(bool)].copy()"
   ],
   "metadata": {
    "collapsed": false
   }
  },
  {
   "cell_type": "markdown",
   "source": [
    "# test with one document"
   ],
   "metadata": {
    "collapsed": false
   }
  },
  {
   "cell_type": "code",
   "execution_count": 71,
   "outputs": [
    {
     "data": {
      "text/plain": "     year                 authors                                journal  \\\n0    2011              Bos et al.                Political Communication   \n1    2019         Blassnig et al.                Political Communication   \n2    2017                Caramani      American Political Science Review   \n3    2020  Wuttke,Schimpf, Schoen      American Political Science Review   \n4    2014                   Treib      Journal of European Public Policy   \n..    ...                     ...                                    ...   \n537  2018          Grzymala-Busse                        Current History   \n538  2017             Eichengreen                        Current History   \n539  2014                   Mudde                        Current History   \n540  2020                    Cano             European History Quarterly   \n541  2015                Lindgren  Japanese Journal of Political Science   \n\n                                                 title     type pdf? keywords  \\\n0    How the Media Shape Perceptions of Right-Wing ...  article    y        y   \n1    Hitting a Nerve: Populist News Articles Lead t...  article    y        y   \n2    Will vs. Reason: The Populist and Technocratic...  article    y        y   \n3    When the Whole Is Greater than the Sum of Its ...  article    y        y   \n4    The voter says no, but nobody listens: causes ...  article    y        y   \n..                                                 ...      ...  ...      ...   \n537                      Poland’s Path to Illiberalism  article    y        y   \n538             The Populist Turn in American Politics  article    y        y   \n539           The Far Right and the European Elections  article    y        y   \n540                                Printing the People  article    y        y   \n541  Developing Japanese Populism Research through ...  article    y        y   \n\n    keywords_online? notes                                           filepath  \\\n0                  y  None  Political Communication/2011 - Bos et al. - Ho...   \n1                  y  None  Political Communication/2019 - Blassing et al....   \n2               None  None  American Political Science Review/2017 - Caram...   \n3               None  None  American Political Science Review/2020 - Wuttk...   \n4               None  None  Journal of European Public Policy/2014 - Treib...   \n..               ...   ...                                                ...   \n537             None  None  Current History/2018 - Grzymala-Busse - Poland...   \n538             None  None  Current History/2017 - Eichengreen - The Popul...   \n539             None  None  Current History/2014 - Mudde - The Far Right a...   \n540             None  None  European History Quarterly/2020 - Cano - Print...   \n541             None  None  Japanese Journal of Political Science/2015 - L...   \n\n     pop_id  \n0         0  \n1         1  \n2         2  \n3         3  \n4         4  \n..      ...  \n537     537  \n538     538  \n539     539  \n540     540  \n541     541  \n\n[542 rows x 11 columns]",
      "text/html": "<div>\n<style scoped>\n    .dataframe tbody tr th:only-of-type {\n        vertical-align: middle;\n    }\n\n    .dataframe tbody tr th {\n        vertical-align: top;\n    }\n\n    .dataframe thead th {\n        text-align: right;\n    }\n</style>\n<table border=\"1\" class=\"dataframe\">\n  <thead>\n    <tr style=\"text-align: right;\">\n      <th></th>\n      <th>year</th>\n      <th>authors</th>\n      <th>journal</th>\n      <th>title</th>\n      <th>type</th>\n      <th>pdf?</th>\n      <th>keywords</th>\n      <th>keywords_online?</th>\n      <th>notes</th>\n      <th>filepath</th>\n      <th>pop_id</th>\n    </tr>\n  </thead>\n  <tbody>\n    <tr>\n      <th>0</th>\n      <td>2011</td>\n      <td>Bos et al.</td>\n      <td>Political Communication</td>\n      <td>How the Media Shape Perceptions of Right-Wing ...</td>\n      <td>article</td>\n      <td>y</td>\n      <td>y</td>\n      <td>y</td>\n      <td>None</td>\n      <td>Political Communication/2011 - Bos et al. - Ho...</td>\n      <td>0</td>\n    </tr>\n    <tr>\n      <th>1</th>\n      <td>2019</td>\n      <td>Blassnig et al.</td>\n      <td>Political Communication</td>\n      <td>Hitting a Nerve: Populist News Articles Lead t...</td>\n      <td>article</td>\n      <td>y</td>\n      <td>y</td>\n      <td>y</td>\n      <td>None</td>\n      <td>Political Communication/2019 - Blassing et al....</td>\n      <td>1</td>\n    </tr>\n    <tr>\n      <th>2</th>\n      <td>2017</td>\n      <td>Caramani</td>\n      <td>American Political Science Review</td>\n      <td>Will vs. Reason: The Populist and Technocratic...</td>\n      <td>article</td>\n      <td>y</td>\n      <td>y</td>\n      <td>None</td>\n      <td>None</td>\n      <td>American Political Science Review/2017 - Caram...</td>\n      <td>2</td>\n    </tr>\n    <tr>\n      <th>3</th>\n      <td>2020</td>\n      <td>Wuttke,Schimpf, Schoen</td>\n      <td>American Political Science Review</td>\n      <td>When the Whole Is Greater than the Sum of Its ...</td>\n      <td>article</td>\n      <td>y</td>\n      <td>y</td>\n      <td>None</td>\n      <td>None</td>\n      <td>American Political Science Review/2020 - Wuttk...</td>\n      <td>3</td>\n    </tr>\n    <tr>\n      <th>4</th>\n      <td>2014</td>\n      <td>Treib</td>\n      <td>Journal of European Public Policy</td>\n      <td>The voter says no, but nobody listens: causes ...</td>\n      <td>article</td>\n      <td>y</td>\n      <td>y</td>\n      <td>None</td>\n      <td>None</td>\n      <td>Journal of European Public Policy/2014 - Treib...</td>\n      <td>4</td>\n    </tr>\n    <tr>\n      <th>...</th>\n      <td>...</td>\n      <td>...</td>\n      <td>...</td>\n      <td>...</td>\n      <td>...</td>\n      <td>...</td>\n      <td>...</td>\n      <td>...</td>\n      <td>...</td>\n      <td>...</td>\n      <td>...</td>\n    </tr>\n    <tr>\n      <th>537</th>\n      <td>2018</td>\n      <td>Grzymala-Busse</td>\n      <td>Current History</td>\n      <td>Poland’s Path to Illiberalism</td>\n      <td>article</td>\n      <td>y</td>\n      <td>y</td>\n      <td>None</td>\n      <td>None</td>\n      <td>Current History/2018 - Grzymala-Busse - Poland...</td>\n      <td>537</td>\n    </tr>\n    <tr>\n      <th>538</th>\n      <td>2017</td>\n      <td>Eichengreen</td>\n      <td>Current History</td>\n      <td>The Populist Turn in American Politics</td>\n      <td>article</td>\n      <td>y</td>\n      <td>y</td>\n      <td>None</td>\n      <td>None</td>\n      <td>Current History/2017 - Eichengreen - The Popul...</td>\n      <td>538</td>\n    </tr>\n    <tr>\n      <th>539</th>\n      <td>2014</td>\n      <td>Mudde</td>\n      <td>Current History</td>\n      <td>The Far Right and the European Elections</td>\n      <td>article</td>\n      <td>y</td>\n      <td>y</td>\n      <td>None</td>\n      <td>None</td>\n      <td>Current History/2014 - Mudde - The Far Right a...</td>\n      <td>539</td>\n    </tr>\n    <tr>\n      <th>540</th>\n      <td>2020</td>\n      <td>Cano</td>\n      <td>European History Quarterly</td>\n      <td>Printing the People</td>\n      <td>article</td>\n      <td>y</td>\n      <td>y</td>\n      <td>None</td>\n      <td>None</td>\n      <td>European History Quarterly/2020 - Cano - Print...</td>\n      <td>540</td>\n    </tr>\n    <tr>\n      <th>541</th>\n      <td>2015</td>\n      <td>Lindgren</td>\n      <td>Japanese Journal of Political Science</td>\n      <td>Developing Japanese Populism Research through ...</td>\n      <td>article</td>\n      <td>y</td>\n      <td>y</td>\n      <td>None</td>\n      <td>None</td>\n      <td>Japanese Journal of Political Science/2015 - L...</td>\n      <td>541</td>\n    </tr>\n  </tbody>\n</table>\n<p>542 rows × 11 columns</p>\n</div>"
     },
     "execution_count": 71,
     "metadata": {},
     "output_type": "execute_result"
    }
   ],
   "source": [
    "articles_metadata"
   ],
   "metadata": {
    "collapsed": false
   }
  },
  {
   "cell_type": "code",
   "execution_count": 72,
   "outputs": [],
   "source": [
    "filepath = articles_metadata[\"filepath\"].tolist()[0]"
   ],
   "metadata": {
    "collapsed": false
   }
  },
  {
   "cell_type": "code",
   "execution_count": 73,
   "outputs": [],
   "source": [
    "basepath = \"../data/large_data/articles/\""
   ],
   "metadata": {
    "collapsed": false
   }
  },
  {
   "cell_type": "code",
   "execution_count": 74,
   "outputs": [
    {
     "data": {
      "text/plain": "'../data/large_data/articles/Political Communication/2011 - Bos et al. - How the Media Shape Perceptions of Right Wing Populist Leaders.pdf'"
     },
     "execution_count": 74,
     "metadata": {},
     "output_type": "execute_result"
    }
   ],
   "source": [
    "basepath+filepath"
   ],
   "metadata": {
    "collapsed": false
   }
  },
  {
   "cell_type": "markdown",
   "source": [
    "# Testing PyPDF"
   ],
   "metadata": {
    "collapsed": false
   }
  },
  {
   "cell_type": "code",
   "execution_count": 75,
   "outputs": [],
   "source": [
    "# creating a pdf file object\n",
    "file = open(basepath+filepath, 'rb')"
   ],
   "metadata": {
    "collapsed": false
   }
  },
  {
   "cell_type": "code",
   "execution_count": 76,
   "outputs": [],
   "source": [
    "# creating a pdf reader object\n",
    "pdfReader = PyPDF2.PdfFileReader(file)"
   ],
   "metadata": {
    "collapsed": false
   }
  },
  {
   "cell_type": "code",
   "execution_count": 77,
   "outputs": [
    {
     "name": "stdout",
     "output_type": "stream",
     "text": [
      "26\n"
     ]
    }
   ],
   "source": [
    "# printing number of pages in pdf file\n",
    "print(pdfReader.numPages)"
   ],
   "metadata": {
    "collapsed": false
   }
  },
  {
   "cell_type": "code",
   "execution_count": 78,
   "outputs": [],
   "source": [
    "# creating a page object\n",
    "pageObj = pdfReader.getPage(1)"
   ],
   "metadata": {
    "collapsed": false
   }
  },
  {
   "cell_type": "code",
   "execution_count": 79,
   "outputs": [
    {
     "name": "stdout",
     "output_type": "stream",
     "text": [
      "Political Communication , 28:182–206, 2011\n",
      "Copyright © Taylor & Francis Group, LLCISSN: 1058-4609 print / 1091-7675 onlineDOI: 10.1080/10584609.2011.564605\n",
      "How the Media Shape Perceptions of Right-Wing\n",
      "Populist Leaders\n",
      "LINDA BOS, WOUTER V AN DER BRUG, and CLAES DE VREESE\n",
      "It is often argued that right-wing populist party leaders are dependent on the media\n",
      "for their public image, which in turn is key for their electoral success. This study teststhis assumption by comparing the effects of the media coverage of 2 Dutch right-wingpopulist leaders with the effects of the coverage of leaders of established parties, in areal-life setting, by tracking campaign developments in the Dutch 2006 national elec-tion campaign. We combine panel survey data ( n=401) with repeated measurements\n",
      "of the party leaders’ public images with a systematic content analysis of 17 media out-lets (with a total of 1,001 stories), on the basis of the media consumption of individualrespondents. Our results show signiﬁcant effects of the content of media coverage onthe public image of political leaders. However, only in 1 case (out of 10) is there asigniﬁcant difference between right-wing populist party leaders and leaders of otherparties in the strength of media effects. It thus seems that leaders of right-wing populistparties are just as dependent upon the media as leaders of other parties. The ﬁndingsare discussed in the light of extant research on right-wing populist parties and mediapopulism.\n",
      "Keywords populism, media effects, leadership, right-wing populist parties, electoral\n",
      "behavior\n",
      "Party leaders play an important role for all political parties. They are the most visible\n",
      "representative of the party in the media, and as such they determine to a large extent their\n",
      "party’s image among the public and other politicians. While this is true of all parties, thereare two theoretical reasons to expect that party leaders are particularly important for right-\n",
      "wing populist parties. The ﬁrst reason is that these parties are new. Within the context of\n",
      "the mediatization (Mazzoleni & Schulz, 1999) and popularization of politics, leaders ofnew parties are even more dependent upon the media to provide them with a platform than\n",
      "leaders of more established parties that are better known by the public. Through image\n",
      "management (McNair, 1995) and adaptation to the media logic, right-wing populist partyleaders seek the attention of the media, especially in the insurgent phase of their party\n",
      "(Stewart, Mazzoleni, & Horsﬁeld, 2003).\n",
      "A second, somewhat related reason is that these parties are very loosely organized\n",
      "around the central leader. Many of these parties do not even organize formally as parties,\n",
      "Linda Bos is a PhD candidate in the Amsterdam School of Communication Research at\n",
      "the University of Amsterdam. Wouter van der Brug is Professor of Political Science in theDepartment of Political Science at the University of Amsterdam. Claes de Vreese is Professor ofPolitical Communication in the Amsterdam School of Communication Research at the University ofAmsterdam.\n",
      "Address correspondence to Linda Bos, Amsterdam School of Communication Research,\n",
      "University of Amsterdam, Kloveniersburgwal 48, 1012 CX, Amsterdam, The Netherlands. E-mail:L.Bos@uva.nl\n",
      "182\n"
     ]
    }
   ],
   "source": [
    "# extracting text from page\n",
    "print(pageObj.extractText())"
   ],
   "metadata": {
    "collapsed": false
   }
  },
  {
   "cell_type": "code",
   "execution_count": 80,
   "outputs": [
    {
     "name": "stdout",
     "output_type": "stream",
     "text": [
      "Political Communication , 28:182–206, 2011\n",
      "Copyright © Taylor & Francis Group, LLCISSN: 1058-4609 print / 1091-7675 onlineDOI: 10.1080/10584609.2011.564605\n",
      "How the Media Shape Perceptions of Right-Wing\n",
      "Populist Leaders\n",
      "LINDA BOS, WOUTER V AN DER BRUG, and CLAES DE VREESE\n",
      "It is often argued that right-wing populist party leaders are dependent on the media\n",
      "for their public image, which in turn is key for their electoral success. This study teststhis assumption by comparing the effects of the media coverage of 2 Dutch right-wingpopulist leaders with the effects of the coverage of leaders of established parties, in areal-life setting, by tracking campaign developments in the Dutch 2006 national elec-tion campaign. We combine panel survey data ( n=401) with repeated measurements\n",
      "of the party leaders’ public images with a systematic content analysis of 17 media out-lets (with a total of 1,001 stories), on the basis of the media consumption of individualrespondents. Our results show signiﬁcant effects of the content of media coverage onthe public image of political leaders. However, only in 1 case (out of 10) is there asigniﬁcant difference between right-wing populist party leaders and leaders of otherparties in the strength of media effects. It thus seems that leaders of right-wing populistparties are just as dependent upon the media as leaders of other parties. The ﬁndingsare discussed in the light of extant research on right-wing populist parties and mediapopulism.\n",
      "Keywords populism, media effects, leadership, right-wing populist parties, electoral\n",
      "behavior\n",
      "Party leaders play an important role for all political parties. They are the most visible\n",
      "representative of the party in the media, and as such they determine to a large extent their\n",
      "party’s image among the public and other politicians. While this is true of all parties, thereare two theoretical reasons to expect that party leaders are particularly important for right-\n",
      "wing populist parties. The ﬁrst reason is that these parties are new. Within the context of\n",
      "the mediatization (Mazzoleni & Schulz, 1999) and popularization of politics, leaders ofnew parties are even more dependent upon the media to provide them with a platform than\n",
      "leaders of more established parties that are better known by the public. Through image\n",
      "management (McNair, 1995) and adaptation to the media logic, right-wing populist partyleaders seek the attention of the media, especially in the insurgent phase of their party\n",
      "(Stewart, Mazzoleni, & Horsﬁeld, 2003).\n",
      "A second, somewhat related reason is that these parties are very loosely organized\n",
      "around the central leader. Many of these parties do not even organize formally as parties,\n",
      "Linda Bos is a PhD candidate in the Amsterdam School of Communication Research at\n",
      "the University of Amsterdam. Wouter van der Brug is Professor of Political Science in theDepartment of Political Science at the University of Amsterdam. Claes de Vreese is Professor ofPolitical Communication in the Amsterdam School of Communication Research at the University ofAmsterdam.\n",
      "Address correspondence to Linda Bos, Amsterdam School of Communication Research,\n",
      "University of Amsterdam, Kloveniersburgwal 48, 1012 CX, Amsterdam, The Netherlands. E-mail:L.Bos@uva.nl\n",
      "182\n"
     ]
    }
   ],
   "source": [
    "print(pageObj.extractText())"
   ],
   "metadata": {
    "collapsed": false
   }
  },
  {
   "cell_type": "markdown",
   "source": [
    "# Testing PyMUpdf (fitz)"
   ],
   "metadata": {
    "collapsed": false
   }
  },
  {
   "cell_type": "code",
   "execution_count": 81,
   "outputs": [],
   "source": [
    "doc = fitz.open(basepath+filepath)  # or fitz.Document(filename)"
   ],
   "metadata": {
    "collapsed": false
   }
  },
  {
   "cell_type": "code",
   "execution_count": 82,
   "outputs": [
    {
     "data": {
      "text/plain": "Document('../data/large_data/articles/Political Communication/2011 - Bos et al. - How the Media Shape Perceptions of Right Wing Populist Leaders.pdf')"
     },
     "execution_count": 82,
     "metadata": {},
     "output_type": "execute_result"
    }
   ],
   "source": [
    "doc"
   ],
   "metadata": {
    "collapsed": false
   }
  },
  {
   "cell_type": "code",
   "execution_count": 83,
   "outputs": [
    {
     "data": {
      "text/plain": "26"
     },
     "execution_count": 83,
     "metadata": {},
     "output_type": "execute_result"
    }
   ],
   "source": [
    "doc.page_count"
   ],
   "metadata": {
    "collapsed": false
   }
  },
  {
   "cell_type": "code",
   "execution_count": 84,
   "outputs": [],
   "source": [
    "# tutorial: https://pymupdf.readthedocs.io/en/latest/tutorial.html\n",
    "# iteration:\n",
    "# for page in doc:\n",
    "## do something"
   ],
   "metadata": {
    "collapsed": false
   }
  },
  {
   "cell_type": "code",
   "execution_count": 85,
   "outputs": [],
   "source": [
    "page = doc.load_page(2)"
   ],
   "metadata": {
    "collapsed": false
   }
  },
  {
   "cell_type": "code",
   "execution_count": 86,
   "outputs": [
    {
     "data": {
      "text/plain": "'Perceptions of Right-Wing Populist Leaders\\n183\\nwhich is in line with their antiparty rhetoric (e.g., Mudde, 2007; Taggart, 2000). Due to the\\noftentimes ad hoc formation of these parties, their political programs are usually limited\\nand their party organizations weak and highly centralized. Consequently, these parties need\\na strong leader not only to lead the party internally, but also to bring across the message\\nand image of the party (e.g., Carter, 2005; Eatwell, 2003; Kitschelt, 2007; Pappas, 2008;\\nWeyland, 2001). In order to be successful electorally, these right-wing populist party lead-\\ners do not only have to be known by the public, they also need voters to have a positive\\nimage of them (Bos & van der Brug, 2010); they need to be perceived to be effective and\\nlegitimate.\\nIn order to get media attention, leaders of right-wing populist parties have to be some-\\nwhat extraordinary in their behavior, style, or in their messages: “It is a truism that the\\nmedia simply cannot ignore what is newsworthy, and clearly newsworthy are the politicians\\nwho defy the existing order, with their abrasive language, public protests, and emotive\\nissues” (Mazzoleni, 2003, pp. 6–7). Thus, on the one hand, they might employ populist\\nrhetoric or a populist style (Jagers & Walgrave, 2007). On the other hand, these lead-\\ners also have to appear authoritative by displaying their knowledge on issues addressed.\\nRecent research has indicated that successful right-wing populist leaders have managed to\\nreach a delicate balance between appearing unusual and populist, or anti-establishment, to\\ngain news value and still appear authoritative (Bos, van der Brug, & de Vreese, 2010).\\nHowever, whether right-wing populists really are dependent upon the media for their\\npublic image, and whether they differ from mainstream party leaders in this respect, has\\nnever directly been tested. In this article, we address this scientiﬁc gap by testing the effects\\nof the media coverage of right-wing populist leaders on changes in the perception of these\\nleaders in a dynamic setting by tracking campaign developments. We contribute to extant\\nresearch in several respects. First of all, we add to the growing research ﬁeld on right-\\nwing populist parties by taking a closer look at media effects on perceptions of leaders\\nof these parties. Second, we do not only look at one speciﬁc aspect in the coverage of\\nthese leaders, such as prominence, visibility, or tone of coverage, but build a parsimonious\\nmodel including three dimensions in the depiction of these leaders: their prominence, their\\nauthoritativeness—which refers to how knowledgeable a politician appears to be—and the\\nextent to which they use a populist style or adhere to populist ideology.\\nThird, we draw on previous research on the public image of right-wing populist leaders\\nin which two aspects were found that are important for their electoral success: effectiveness\\nand legitimacy (Bos & van der Brug, 2010). All (new) party leaders, right-wing populist\\nor mainstream, have to be perceived to be effective (i.e., able to affect policies or inﬂu-\\nence the public debate) in order to be seen as a serious political contestant. However,\\nright-wing populists also need to be perceived to be legitimate, not posing a threat to\\ndemocracy, because they in particular run the risk of being identiﬁed with the extreme\\nright. In this article, we use effectiveness and legitimacy as dependent variables and explain\\nover-time variations by looking at media coverage. And ﬁnally, by connecting the results\\nof an extensive content analysis with panel survey data, we test media effects in a real-life\\nsetting by studying people as they encounter information on a daily basis (de Vreese &\\nSemetko, 2004).\\nIn sum, in this article we answer the following research question: To what extent are\\nperceptions of right-wing populist party leaders, in terms of their perceived effectiveness\\nand legitimacy, affected by the media coverage of these leaders, in terms of prominence,\\npopulism, and authoritativeness? The conceptual model is shown in Figure 1.\\nAs a research venue, we use the Dutch national parliamentary elections of 2006, in\\nwhich several right-wing populist parties participated. We employ panel survey data in\\n'"
     },
     "execution_count": 86,
     "metadata": {},
     "output_type": "execute_result"
    }
   ],
   "source": [
    "page.get_text()"
   ],
   "metadata": {
    "collapsed": false
   }
  },
  {
   "cell_type": "code",
   "execution_count": 87,
   "outputs": [
    {
     "data": {
      "text/plain": "[(156.49200439453125,\n  43.012901306152344,\n  430.26226806640625,\n  53.97175979614258,\n  'Perceptions of Right-Wing Populist Leaders\\n183\\n',\n  0,\n  0),\n (71.61363983154297,\n  66.77667236328125,\n  430.302978515625,\n  651.7496337890625,\n  'which is in line with their antiparty rhetoric (e.g., Mudde, 2007; Taggart, 2000). Due to the\\noftentimes ad hoc formation of these parties, their political programs are usually limited\\nand their party organizations weak and highly centralized. Consequently, these parties need\\na strong leader not only to lead the party internally, but also to bring across the message\\nand image of the party (e.g., Carter, 2005; Eatwell, 2003; Kitschelt, 2007; Pappas, 2008;\\nWeyland, 2001). In order to be successful electorally, these right-wing populist party lead-\\ners do not only have to be known by the public, they also need voters to have a positive\\nimage of them (Bos & van der Brug, 2010); they need to be perceived to be effective and\\nlegitimate.\\nIn order to get media attention, leaders of right-wing populist parties have to be some-\\nwhat extraordinary in their behavior, style, or in their messages: “It is a truism that the\\nmedia simply cannot ignore what is newsworthy, and clearly newsworthy are the politicians\\nwho defy the existing order, with their abrasive language, public protests, and emotive\\nissues” (Mazzoleni, 2003, pp. 6–7). Thus, on the one hand, they might employ populist\\nrhetoric or a populist style (Jagers & Walgrave, 2007). On the other hand, these lead-\\ners also have to appear authoritative by displaying their knowledge on issues addressed.\\nRecent research has indicated that successful right-wing populist leaders have managed to\\nreach a delicate balance between appearing unusual and populist, or anti-establishment, to\\ngain news value and still appear authoritative (Bos, van der Brug, & de Vreese, 2010).\\nHowever, whether right-wing populists really are dependent upon the media for their\\npublic image, and whether they differ from mainstream party leaders in this respect, has\\nnever directly been tested. In this article, we address this scientiﬁc gap by testing the effects\\nof the media coverage of right-wing populist leaders on changes in the perception of these\\nleaders in a dynamic setting by tracking campaign developments. We contribute to extant\\nresearch in several respects. First of all, we add to the growing research ﬁeld on right-\\nwing populist parties by taking a closer look at media effects on perceptions of leaders\\nof these parties. Second, we do not only look at one speciﬁc aspect in the coverage of\\nthese leaders, such as prominence, visibility, or tone of coverage, but build a parsimonious\\nmodel including three dimensions in the depiction of these leaders: their prominence, their\\nauthoritativeness—which refers to how knowledgeable a politician appears to be—and the\\nextent to which they use a populist style or adhere to populist ideology.\\nThird, we draw on previous research on the public image of right-wing populist leaders\\nin which two aspects were found that are important for their electoral success: effectiveness\\nand legitimacy (Bos & van der Brug, 2010). All (new) party leaders, right-wing populist\\nor mainstream, have to be perceived to be effective (i.e., able to affect policies or inﬂu-\\nence the public debate) in order to be seen as a serious political contestant. However,\\nright-wing populists also need to be perceived to be legitimate, not posing a threat to\\ndemocracy, because they in particular run the risk of being identiﬁed with the extreme\\nright. In this article, we use effectiveness and legitimacy as dependent variables and explain\\nover-time variations by looking at media coverage. And ﬁnally, by connecting the results\\nof an extensive content analysis with panel survey data, we test media effects in a real-life\\nsetting by studying people as they encounter information on a daily basis (de Vreese &\\nSemetko, 2004).\\nIn sum, in this article we answer the following research question: To what extent are\\nperceptions of right-wing populist party leaders, in terms of their perceived effectiveness\\nand legitimacy, affected by the media coverage of these leaders, in terms of prominence,\\npopulism, and authoritativeness? The conceptual model is shown in Figure 1.\\nAs a research venue, we use the Dutch national parliamentary elections of 2006, in\\nwhich several right-wing populist parties participated. We employ panel survey data in\\n',\n  1,\n  0)]"
     },
     "execution_count": 87,
     "metadata": {},
     "output_type": "execute_result"
    }
   ],
   "source": [
    "page.get_text_blocks()\n"
   ],
   "metadata": {
    "collapsed": false
   }
  },
  {
   "cell_type": "markdown",
   "source": [
    "# Extract all textblocks by articles"
   ],
   "metadata": {
    "collapsed": false
   }
  },
  {
   "cell_type": "code",
   "execution_count": 88,
   "outputs": [
    {
     "name": "stdout",
     "output_type": "stream",
     "text": [
      "mkdir: ../data/large_data/articles_textblocks: File exists\r\n"
     ]
    }
   ],
   "source": [
    "!mkdir ../data/large_data/articles_textblocks"
   ],
   "metadata": {
    "collapsed": false
   }
  },
  {
   "cell_type": "code",
   "execution_count": 89,
   "outputs": [],
   "source": [
    "# source basepath\n",
    "basepath = \"../data/large_data/articles/\""
   ],
   "metadata": {
    "collapsed": false
   }
  },
  {
   "cell_type": "code",
   "execution_count": 90,
   "outputs": [],
   "source": [
    "def extract_all_textblocks(filepath):\n",
    "    doc = fitz.open(basepath+filepath)  # or fitz.Document(filename)\n",
    "    pages_textblocks = []\n",
    "    for page in doc:\n",
    "        try:\n",
    "            pages_textblocks.append(page.get_text_blocks())\n",
    "        except:\n",
    "            pass\n",
    "    return pages_textblocks"
   ],
   "metadata": {
    "collapsed": false
   }
  },
  {
   "cell_type": "code",
   "execution_count": 91,
   "outputs": [],
   "source": [
    "# test\n",
    "filepath = articles_metadata[\"filepath\"].tolist()[0]\n",
    "pages_textblocks = extract_all_textblocks(filepath)\n",
    "pop_id = articles_metadata[\"pop_id\"].tolist()[0]\n",
    "filename = \"pop_id_{}.pickle\".format(str(pop_id))\n",
    "pickle.dump(pages_textblocks, open(\"../data/large_data/articles_textblocks/\" + filename, \"wb\"))"
   ],
   "metadata": {
    "collapsed": false
   }
  },
  {
   "cell_type": "code",
   "execution_count": 92,
   "outputs": [
    {
     "data": {
      "text/plain": "26"
     },
     "execution_count": 92,
     "metadata": {},
     "output_type": "execute_result"
    }
   ],
   "source": [
    "pages_back = pickle.load(open(\"../data/large_data/articles_textblocks/\" + filename, \"rb\"))\n",
    "len(pages_back)"
   ],
   "metadata": {
    "collapsed": false
   }
  },
  {
   "cell_type": "code",
   "execution_count": 93,
   "outputs": [
    {
     "data": {
      "text/plain": "[(73.49400329589844,\n  43.012901306152344,\n  291.84735107421875,\n  53.97175979614258,\n  '184\\nLinda Bos et al.\\n',\n  0,\n  0),\n (158.70860290527344,\n  66.07767486572266,\n  217.4045867919922,\n  85.05364990234375,\n  'Media Coverage\\nof Party Leaders\\n',\n  1,\n  0),\n (297.3760070800781,\n  105.32328033447266,\n  344.9519958496094,\n  114.69927978515625,\n  'Effectiveness\\n',\n  2,\n  0),\n (302.0480041503906,\n  149.62747192382812,\n  340.2799987792969,\n  159.00347900390625,\n  'Legitimacy\\n',\n  3,\n  0),\n (171.04220581054688,\n  164.41787719726562,\n  203.93820190429688,\n  173.79388427734375,\n  'Populism\\n',\n  4,\n  0),\n (157.50169372558594,\n  131.42440795898438,\n  218.86167907714844,\n  140.8004150390625,\n  'Authoritativeness\\n',\n  5,\n  0),\n (166.7165985107422,\n  97.5796890258789,\n  209.39659118652344,\n  106.9556884765625,\n  'Prominence\\n',\n  6,\n  0),\n (291.41259765625,\n  66.0781021118164,\n  350.10858154296875,\n  85.0540771484375,\n  'Perception \\nof Party Leaders\\n',\n  7,\n  0),\n (199.35899353027344,\n  190.50428771972656,\n  306.2833251953125,\n  200.84255981445312,\n  'Figure 1. Conceptual model.\\n',\n  8,\n  0),\n (73.49400329589844,\n  221.98147583007812,\n  432.17559814453125,\n  304.83038330078125,\n  'which perceptions of two right-wing populist party leaders and four mainstream party\\nleaders are measured twice, 2 months prior to and the night before the elections. These\\nare Geert Wilders (Freedom Party) and Marco Pastors (One Netherlands), Jan Peter\\nBalkenende (Christian democratic CDA), Wouter Bos (labor party PvdA), Mark Rutte (lib-\\neral party VVD), and Femke Halsema (green party GroenLinks). To assess media coverage,\\nwe use systematic content analyses of 17 media outlets for the 8 weeks before the elections,\\nwith a total of 1,001 stories.\\n',\n  9,\n  0),\n (73.49400329589844,\n  322.5074157714844,\n  364.3016052246094,\n  335.1430358886719,\n  'The Media Dependency of Right-Wing Populist Party Leaders\\n',\n  10,\n  0),\n (73.49400329589844,\n  341.7444763183594,\n  432.178466796875,\n  651.7466430664062,\n  'Most citizens never meet a politician in real life. They acquire their image of political\\nleaders through the mass media, either directly or indirectly by means of interpersonal\\ncommunication about newspaper articles or programs on radio or TV. Within the context\\nof mediatization (Mazzoleni & Schulz, 1999), all political parties and their party leaders\\nare thus dependent upon the media for the dissemination of their ideas and the shaping of\\ntheir image (Sheafer, 2001).\\nHowever, common wisdom and an abundance of literature on the right-wing pop-\\nulist party family could lead us to believe that right-wing populist party leaders rely\\neven more than mainstream party leaders on the media for their image (Mazzoleni,\\nStewart, & Horsﬁeld, 2003). Especially because they are often new to the political spec-\\ntrum, they need the media to be known by the electorate; (positive) media coverage is\\ncrucial for their electoral breakthrough (see, for instance, Art, 2007; Deutchman & Ellison,\\n1999; Mudde, 2007). Moreover, the strong charismatic populist leaders, whom these\\nparties are known for, can exert a larger inﬂuence on changes in their image than\\nother, mainstream party leaders. Their (party) populist style shares the key traits of\\nmedia logic, including personalization, emotionalization, and an anti-establishment atti-\\ntude (Plasser & Ulram, 2003), and can therefore lead to exaggerated media attention from\\nwhich they can proﬁt (Mudde, 2007).\\nOn the other hand, research on the right-wing populist party family has shown that\\nthese parties and their electorates do not differ that much from mainstream parties. Support\\nfor right-wing populist parties is motivated by the same ideological and pragmatic con-\\nsiderations as support for other parties (Mudde, 2007; van der Brug, Fennema, & Tillie,\\n2000, 2003), leader effects are of the same size and sometimes even smaller (van der\\nBrug & Mughan, 2007), and government participation of these parties is “a relatively ordi-\\nnary phenomenon” (de Lange, 2008, p. 224). And there is a media-centric reason not to\\nexpect larger media effects for right-wing populists compared to mainstream party leaders:\\n',\n  11,\n  0)]"
     },
     "execution_count": 93,
     "metadata": {},
     "output_type": "execute_result"
    }
   ],
   "source": [
    "pages_back[3]"
   ],
   "metadata": {
    "collapsed": false
   }
  },
  {
   "cell_type": "code",
   "execution_count": 94,
   "outputs": [],
   "source": [
    "def textblocks_to_files(row):\n",
    "    filepath = row[\"filepath\"]\n",
    "    pop_id = str(row[\"pop_id\"])\n",
    "    filename = \"textblocks_pop_id_{}.pickle\".format(str(pop_id))\n",
    "    pages_textblocks = extract_all_textblocks(filepath)\n",
    "    pickle.dump(pages_textblocks, open(\"../data/large_data/articles_textblocks/\" + filename, \"wb\"))"
   ],
   "metadata": {
    "collapsed": false
   }
  },
  {
   "cell_type": "code",
   "execution_count": 105,
   "outputs": [
    {
     "data": {
      "text/plain": "0      None\n1      None\n2      None\n3      None\n4      None\n       ... \n537    None\n538    None\n539    None\n540    None\n541    None\nLength: 542, dtype: object"
     },
     "execution_count": 105,
     "metadata": {},
     "output_type": "execute_result"
    }
   ],
   "source": [
    "articles_metadata.apply(lambda row: textblocks_to_files(row), axis=1)"
   ],
   "metadata": {
    "collapsed": false
   }
  },
  {
   "cell_type": "code",
   "execution_count": null,
   "outputs": [],
   "source": [],
   "metadata": {
    "collapsed": false
   }
  }
 ],
 "metadata": {
  "kernelspec": {
   "display_name": "Python 3",
   "language": "python",
   "name": "python3"
  },
  "language_info": {
   "codemirror_mode": {
    "name": "ipython",
    "version": 2
   },
   "file_extension": ".py",
   "mimetype": "text/x-python",
   "name": "python",
   "nbconvert_exporter": "python",
   "pygments_lexer": "ipython2",
   "version": "2.7.6"
  }
 },
 "nbformat": 4,
 "nbformat_minor": 0
}
