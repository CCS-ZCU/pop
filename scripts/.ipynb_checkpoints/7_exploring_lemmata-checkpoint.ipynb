{
 "cells": [
  {
   "cell_type": "code",
   "execution_count": 1,
   "metadata": {
    "collapsed": true
   },
   "outputs": [],
   "source": [
    "import os\n",
    "import spacy\n",
    "import pickle"
   ]
  },
  {
   "cell_type": "code",
   "execution_count": 2,
   "metadata": {},
   "outputs": [
    {
     "data": {
      "text/plain": [
       "['spacydoc_pop_id_28.pickle',\n",
       " 'spacydoc_pop_id_199.pickle',\n",
       " 'spacydoc_pop_id_253.pickle',\n",
       " 'spacydoc_pop_id_502.pickle',\n",
       " 'spacydoc_pop_id_55.pickle',\n",
       " 'spacydoc_pop_id_353.pickle',\n",
       " 'spacydoc_pop_id_402.pickle',\n",
       " 'spacydoc_pop_id_36.pickle',\n",
       " 'spacydoc_pop_id_230.pickle',\n",
       " 'spacydoc_pop_id_187.pickle']"
      ]
     },
     "execution_count": 2,
     "metadata": {},
     "output_type": "execute_result"
    }
   ],
   "source": [
    "filenames = [f for f in os.listdir(\"../data/large_data/articles_spacydocs\") if \".pickle\" in f]\n",
    "filenames[:10]"
   ]
  },
  {
   "cell_type": "code",
   "execution_count": 3,
   "metadata": {},
   "outputs": [],
   "source": [
    "sourcepath = \"../data/large_data/articles_spacydocs/\""
   ]
  },
  {
   "cell_type": "code",
   "execution_count": 13,
   "metadata": {},
   "outputs": [],
   "source": [
    "filepath = sourcepath + filenames[0]"
   ]
  },
  {
   "cell_type": "code",
   "execution_count": 14,
   "metadata": {},
   "outputs": [],
   "source": [
    "with open(filepath, \"rb\") as f:\n",
    "    doc = pickle.load(f)"
   ]
  },
  {
   "cell_type": "code",
   "execution_count": 15,
   "metadata": {},
   "outputs": [
    {
     "data": {
      "text/plain": [
       "Duncan McCargo is professor of Southeast Asian politics at the University of Leeds. His Tearing Apart the Land: Islam and Legitimacy in Southern Thailand (2008) won the inaugural 2009 Bernard Schwartz Book Prize from the Asia Society. Ayºe Zarakol is assistant professor of politics at Washington and Lee University and the author of After Defeat: How the East Learned to Live with the West (2011). In the middle of 2011, both Turkey and Thailand held national elections.1 While Turkish premier Recep Tayyip Erdo¢gan claimed his third popular mandate, his self-exiled Thai doppelgänger Thaksin Shinawatra—whose parties have now won five general elections since 2001—saw his younger sister and stand-in Yingluck Shinawatra assume the premiership. Virtually no observers, however, noticed the synchronicity of two politicians with similar governance styles, party organizations, and societal bases besting military-bureaucratic establishments on the two flanks of Asia. At first glance, the two countries appear strikingly different. Turkey straddles Europe and the Middle East; it is a Muslim-majority country that has been a staunchly secular republic since 1923; and it is now drawing attention for the transformative domestic and foreign policies of Erdo¢gan’s Justice and Development Party (AKP), which is often characterized as Islamist. Thailand, by contrast, is located in Southeast Asia, is predominantly Buddhist, and is above all else a monarchy. Judging by those descriptions, the simultaneous rise of Erdo¢gan in Turkey and Thaksin in Thailand looks like sheer coincidence. In reality, however, it is anything but. Laying side-by-side the stories of Turkish and Thai democratization (including the obstacles that had to be overcome in each case) reveals numerous parallels. A comparison between these two countries also offers insights that are more generally applicable to our understanding of democratization outside the West.  Journal of Democracy  Volume 23,  Number 3  July 2012© 2012 National Endowment for Democracy and The Johns Hopkins University PressThe similarity between the political trajectories of Turkey and Thailand goes back to the end of the nineteenth century, when they were both incorporated into European-led international society as “semi-civilized” outsiders. In this respect, Turkey and Thailand resemble a handful of other non-Western countries such as Japan and China that suffered some degree of Western intrusion into their domestic affairs, but nonetheless never became subject to direct Western rule.2 Such polities differ from those of formally colonized countries in having had more room to negotiate the transition to modernity on their own terms. At the same time, they are unlike Western states in that they had to adapt quickly to an international system whose rules they had little part in shaping. Moreover, despite the absence of formal colonization, both the Ottoman Empire and the Kingdom of Siam had experiences with European intrusion that might fairly be called highly traumatic.3 As a result, in both countries there emerged, first within the monarchy and then within the newly Westernized military-bureaucratic establishment, a reformist outlook that doggedly equated independence with state-led modernization and national cohesion—a cohesion that, given the heterogeneity of both societies at the turn of the twentieth century, could not be passively assumed but had to be aggressively achieved. Against the background of the rigid civilizational hierarchies that marked the international system during the late nineteenth and early twentieth centuries, such groups came to see themselves as vanguards of the modern reform that they believed marked the only path to national dignity. In Turkey, the military-bureaucratic reformers were more aggressive: In 1922, they abolished the Ottoman sultanate. That their Thai counterparts went only as far as establishing a constitutional monarchy in 1932 probably had more to do with circumstances—had the Ottoman Empire been spared defeat in World War I, and had the last sultan (Mehmed VI) not been so discredited by his cooperation with occupation forces, events in Turkey might have unfolded in a manner similar to those in Thailand. The important point is that in both cases the lesson drawn from history and applied throughout most of the twentieth century was the same: The modernization and economic development required to protect “the nation” had to be carried out under the careful guidance of an enlightened central power, which in Turkey meant the military and in Thailand meant the military plus the monarchy. Hence, after brief experiments with insular foreign policies, both countries moved squarely into the Western camp, following state-led but nonsocialist development strategies throughout the twentieth century. This type of development generated its own winning institutional coalition, complete with the usual political and economic privileges. Winners included the military-bureaucratic elite, a state-supported business sector, and middle-class urbanites who embodied the state’s ideal of what it meant to be modern and Thai or Turkish. On the losing end were rural dwellers, ethnic and religious minorities, and small entrepreneurs with no access to state favor.4 For both Thaksin and Erdo¢gan, success at the ballot box has come from acting as champions of these forces, whose relative political quiescence or disenfranchisement no longer seems feasible in light of their increasing economic success.  Old Institutional Coalitions, New Social Forces Thailand and Turkey built their twentieth-century social and political transformations on the basis of specific and historically contingent institutional arrangements. In both countries, power was largely in the hands of a conservative bureaucratic elite working closely with the military in a partnership based on shared goals of nation-building. The nation-building project was framed in terms of a “modernization” process requiring leadership (and indeed, micromanagement) by elites. The vast bulk of the populace found itself marginalized, allegedly lacking the schooling and sophistication needed to play anything more than a subordinate role. Power was concentrated in the hands of elites who purported to be selfless and were often aligned with technocrats. But the elites’ primary qualification to rule rested upon the monopoly that they held over legitimate state power. This monopoly was predicated upon and validated in turn by loyalty to the founding mythos of the modernizing nation-state.In Turkey, the source of this “narrative of origins” lies indisputably in the person, thought, and legacy of Mustafa Kemal Atatürk. He was the successful Ottoman major-general—a winner over British Imperial and French forces at Gallipoli in 1915–16 and the architect of victory in the Turkish War of Independence in 1922—who by force of arms overturned the 1920 Treaty of S`evres that the sultan had accepted. Atatürk thereby prevented the dismemberment of the Ottoman Empire’s territorial core and led the process of creating the modern Turkish Republic. Serving as Turkey’s first president from 1923 till his death in 1938, Atatürk embraced the ideal of the modern, secular, Westernized nationstate and played down the importance of Islam while prizing the city over the countryside. After his death, Kemalism became synonymous with a privileged position for the modernizing vanguard of the state, which included the bureaucracy and above all the military. The Turkish military saw itself as defending Kemalist modernization against the twin enemies of Islamism and electoralism, a struggle validated both by external challenges and by internal threats from minority ethnic groups, notably the Kurds. In Thailand, the situation was both similar and different. In the early twentieth century, Siam (it first became known as Thailand in 1939) was an absolute monarchy based, so the official formula went, on the three pillars of “nation, religion, king.” In 1932, a modernizing bureaucratic elite comprising both military and civilian elements ended the absolute monarchy and introduced constitutional rule. But in the decades that followed, a process of “monarchical rollback” took place, and a strong alliance emerged between the military and the palace to present themselves as the leading force for modernization and development. Thailand’s anticommunist trajectory, especially from the 1960s, was closely linked to royally sponsored programs of rural transformation. The national mythology deployed was one of preserving “Thai-ness” and defending the monarchy against internal enemies.5 Prominent among such enemies have been elected politicians (blamed for chronic corruption) and ignorant rural voters, seen as susceptible to manipulation by these same politicians. More recently, “separatist” militants in the historically Malay and Muslim far South have joined the internal-enemy ranks. The institutional arrangements that supported twentieth-century national myths in both Turkey and Thailand failed, however, to secure political stability. Furthermore, the “modernization” justification left the elites of both countries increasingly vulnerable to external pressure as the international system’s standards shifted in favor of liberalization. The tensions between hidebound urban elites and new demands from voters and citizens were a structural problem at the heart of the modernization project. The very socioeconomic transformation that modernization had brought about led directly to the emergence of new forces that questioned the legitimacy of the elites, institutions, and practices that had engendered development in the first place. In many respects, these arrangements were transitional undertakings, doomed to self-destruct.In Thailand, the Bangkok elite had long treated the rural masses as “poor farmers” in need of royal and military benevolence—including irrigation schemes, kingly plans for a “sufficiency economy,” participation in royal projects supporting traditional handicrafts—to help them cope quiescently with structural inequalities and marginalization. Farmers were supposed to stay in their villages. But since the early 1960s, fewer and fewer of them have done so, especially those who hail from the more deprived areas of the North and Northeast. When they venture forth to seek more lucrative and agreeable forms of work, typically in Bangkok or the five industrialized provinces that ring the capital, rural people usually continue to list their “home” areas as their official places of residence. Many a Bangkok taxi driver displays an identity card stating that he legally resides in Roi-et Province, hundreds of kilometers away. Today, the Thai countryside is becoming urbanized, new municipalities are burgeoning, and existing ones are expanding far beyond their formal boundaries. The result is a new social class of urbanized villagers, people with one foot in the countryside and one foot in the city.6 Their roots are rural but their aspirations are urban, including a strong desire to see their children finish high school or even college. Most make money from diverse sources that may include a few weeks of rice farming but nowadays will more likely consist mainly of urban-oriented work such as small-scale subcontracting, petty trading, and migrant labor.In other words, the popular idea that Thailand is neatly split by an urban-rural divide, with “poor farmers” periodically laying siege to Bangkok, is as woefully simplistic as the supposed divide in Turkey between Islamists and secularists. Thailand’s urbanized villagers have their counterparts in Turkey’s gecekondu (roughly meaning “shantytown”7) folk, who are generally discussed with reference to their level of religiosity rather than class, but that is merely a matter of framing. The stereotype of the AKP voter that prevails among the old-line Turkish establishment portrays him as a so-called belly-scratcher: a barely educated, provincial know-nothing with traditional (but insincere) religious values and minor business acumen who puts his own self-interest above the needs of his country.8 In reality, Erdo¢gan and the AKP, like Thaksin and his parties, draw support from a number of social groups by means of a message that mixes claims of business-friendly managerial acumen with populist promises of upward mobility for both the new entrepreneurs of the hinterlands and the urban villagers of the cities.Although the AKP’s support, like Thaksin’s, does come heavily from the provinces, recent economic growth means that Turkey’s provinces are not what they used to be—many are fast becoming vibrant commercial centers in their own right. The AKP-friendly new business association TUSKON (Confederation of Businessmen and Industrialists of Turkey) represents primarily the new entrepreneurs from Anatolian towns such as Kayseri and Denizli, and has positioned itself as an alternative to the Istanbul-dominated old guard of TUSIAD (Turkish Industry and Business Association). Anatolian towns tend to be more traditional than the established urban centers of cosmopolitan Istanbul, bureaucratic Ankara, and the Aegean port city of Izmir, but the level of religiosity varies, and many of these emerging entrepreneurs are well educated. In both Turkey and Thailand, then, just as there is much rural in the urban—many big-city neighborhoods are filled with migrants from specific provinces and regions—there is also much urban in the rural.  Irreversible Trends In Thailand, the gradual emergence of urbanized villagers, coupled with the stop-start institutionalization of electoral politics since 1973, has progressively weakened the Bangkok elite. During his five years as prime minister (2001–2006), former police officer and telecommunications magnate Thaksin succeeded in doing what his precursors such as Chavalit Yongchaiyudh (1996–97) had never managed to achieve: He secured a lasting hold over the urbanized-villager vote. Remarkably, his hold even survived his ouster by the September 2006 military coup, and remained as strong as ever in the July 2011 general election. By harnessing the electoral potential of urbanized villagers, pro-Thaksin parties have made it impossible for Thailand’s twentieth-century institutional arrangements to continue functioning unchallenged. A similar process has been underway in Turkey. There, the success of Erdo¢gan and the AKP in three consecutive elections (2002, 2007, and 2011) has flowed from effective appeals to both the economic aspirations and the social values of urbanized-villager voters. Over the last decade, moreover, Erdo¢gan and his party have gone further than any of their predecessors in dismantling the military-bureaucratic tutelage regime that has long formed such a potent counterweight to Turkish electoral democracy. How have they been able to do this? Because they have enjoyed the support of newly empowered groups ranging from the Muslim equivalents of Thailand’s urbanized villagers to the devout and capitalistic merchants of Anatolia. What the AKP and Thaksin’s parties represent above all are significant challenges to the established national myths of Turkey and Thailand. Because of their manner of incorporation into the international system in the nineteenth century and near-miss brushes with European colonialism, both Turkey and Thailand developed anxious national narratives that linked territorial integrity, nationhood, and modernization. In Turkey, these national narratives were associated with Kemalism; in Thailand, they have been linked with the monarchy. Both guiding myths served to legitimize state-led modernization projects and therefore also the notion of an elite vanguard represented by the old institutional coalitions. Both myths cast the rural hinterland as the “past” of a country that was being led out of backwardness by the capital’s benign authority. Rural folk were simultaneously idealized as the essence of the nation and infantilized as subjects of state projects. Kemalism, for instance, permits peasant women to wear headscarves in keeping with their Islamic beliefs about modesty, but demands a headscarf ban at institutions of higher learning because the Kemalist national narrative has a built-in teleology according to which modern education is supposed to displace traditional practices. Similarly, much of the myth-making around the Thai monarchy involves the king’s  The changes in Thailand and Turkey are irreversible. The old structures of power are no longer sustainable. Urbanized villagers are growing ever more urban, numerous, and vocal. There is simply no going back to where these countries were twenty or thirty years ago.championing of the poor, but the same discourse expresses disdain for their participation in the electoral process on the grounds of their alleged buyability, along with their lack of education and sophistication. In both Turkey and Thailand, then, it is these long-marginalized groups—the national story’s disfavored stepchildren—who are now claiming center stage, ironically as a result of the liberalization policies the elites had to introduce due to their commitment to modernization and its associated imperative to keep up with contemporary international standards. In Thailand, Thaksin’s string of victories has helped urbanized villagers to reimagine themselves as political actors who are no longer subordinated to the wearying paternalism of the “network monarchy.”9 Over the past couple of years, large plaques bearing the words “Nation, religion, king, people” have appeared on the outer walls of Bangkok military bases: A fourth pillar, the populace, has been added to the three traditional pillars of Thai-ness. In Turkey since the AKP took power a decade ago, it has become increasingly apparent that for many people education, prosperity, and modernization as they are generally understood need not displace traditional values such as religion. People who embody traditional values are now in power; Erdo¢gan’s wife and his two college-educated daughters all wear headscarves. The Road Ahead These kinds of changes in Thailand and Turkey are irreversible. The old structures of power are no longer sustainable. Urbanized villagers are growing ever more urban, numerous, and vocal. There is simply no going back to where these countries were twenty or thirty years ago. The demographics and the wider patterns of social change, plus rising skepticism about the national myths that sustained these nations through much of the twentieth century, are working against the mechanisms that elites once used to blunt the consequences of electoral politics.This does not mean, however, that the national myths have been entirely dismantled. It would be more accurate to say that they are being reinterpreted. Neither Erdo¢gan nor Thaksin has shied away from using the state power legitimized by these myths when it has suited him, and each has shown himself ready to fan nationalist flames. For all his massive voter mandates, Thaksin has enjoyed good relations with China and has long admired the ways in which authoritarian regimes in the region manage and contain popular dissent. The increasingly authoritarian tendencies evident in Erdo¢gan’s governing style, meanwhile, have evoked comparisons with Vladimir Putin.10 Thaksin and Erdo¢gan have practiced a highly personalized form of rule, characterized by a kind of “sultanism” that emulates and sometimes outdoes that of the militaries with which they have clashed. So though there is no going back, the road ahead does not necessarily promise to lead to the gradual consolidation of liberal-democratic norms, and the possibility of detours into populist authoritarianism looms. If there is one obvious conclusion here, it is that in countries such as Turkey and Thailand the old labels are not helpful. The urban, modernized middle classes subscribe to some values we associate with liberal democracy (secularism in Turkey, “clean” politics in Thailand) but are increasingly suspicious of electoral politics that undermines their power. The villagers are no longer in the village. Those associated with more traditional ways of life have also become a force for change. The previously disenfranchised have been empowered through electoral politics despite constraints imposed by the military, the bureaucracy, and the judiciary, but they have not necessarily emerged from that process with a stronger belief in liberal-democratic values. The hypernationalist political-development trajectory exemplified by nevercolonized countries such as Turkey and Thailand, like a number of other states at the edges of Europe and Asia, may not provide the most fertile ground for liberalism. While there is no going backward, for now the future remains open and intensely contested. "
      ]
     },
     "execution_count": 15,
     "metadata": {},
     "output_type": "execute_result"
    }
   ],
   "source": [
    "doc"
   ]
  },
  {
   "cell_type": "code",
   "execution_count": 16,
   "metadata": {},
   "outputs": [
    {
     "data": {
      "text/plain": [
       "In the middle of 2011, both Turkey and Thailand held national elections.1 While Turkish premier Recep Tayyip Erdo¢gan claimed his third popular mandate, his self-exiled Thai doppelgänger Thaksin Shinawatra—whose parties have now won five general elections since 2001—saw his younger sister and stand-in Yingluck Shinawatra assume the premiership."
      ]
     },
     "execution_count": 16,
     "metadata": {},
     "output_type": "execute_result"
    }
   ],
   "source": [
    "sent = [sent for sent in doc.sents][3]\n",
    "sent"
   ]
  },
  {
   "cell_type": "code",
   "execution_count": 17,
   "metadata": {},
   "outputs": [
    {
     "data": {
      "text/plain": [
       "[the middle of 2011,\n",
       " Turkey,\n",
       " Thailand,\n",
       " Turkish,\n",
       " Recep Tayyip Erdo¢gan,\n",
       " third,\n",
       " Thai,\n",
       " Thaksin Shinawatra,\n",
       " five,\n",
       " 2001,\n",
       " Yingluck Shinawatra]"
      ]
     },
     "execution_count": 17,
     "metadata": {},
     "output_type": "execute_result"
    }
   ],
   "source": [
    "sent.ents"
   ]
  },
  {
   "cell_type": "code",
   "execution_count": 18,
   "metadata": {},
   "outputs": [],
   "source": [
    "ent = [ent for ent in sent.ents][0]"
   ]
  },
  {
   "cell_type": "code",
   "execution_count": 19,
   "metadata": {},
   "outputs": [
    {
     "data": {
      "text/plain": [
       "['the', 'middle', 'of', '2011']"
      ]
     },
     "execution_count": 19,
     "metadata": {},
     "output_type": "execute_result"
    }
   ],
   "source": [
    "[t.lemma_ for t in ent]"
   ]
  },
  {
   "cell_type": "code",
   "execution_count": 20,
   "metadata": {},
   "outputs": [],
   "source": [
    "# postags = [\"PROPN\", \"NOUN\", \"VERB\", ]\n",
    "def lemmata(spacyobject, filtered=True):\n",
    "    if filtered==True:\n",
    "        return  [t.lemma_ for t in spacyobject if (t.is_stop==False) & (t.is_alpha==True)]\n",
    "    else:\n",
    "        return  [t.lemma_ for t in spacyobject]\n",
    "    # return [t.lemma_.lower() if t.pos==\"PROPN\" else t.lemma_ for t in spacyobject if (t.is_stop==False) & (t.is_alpha==True)]"
   ]
  },
  {
   "cell_type": "code",
   "execution_count": 24,
   "metadata": {},
   "outputs": [
    {
     "data": {
      "text/plain": [
       "['middle',\n",
       " 'Turkey',\n",
       " 'Thailand',\n",
       " 'hold',\n",
       " 'national',\n",
       " 'turkish',\n",
       " 'premier',\n",
       " 'Recep',\n",
       " 'Tayyip',\n",
       " 'claim',\n",
       " 'popular',\n",
       " 'mandate',\n",
       " 'self',\n",
       " 'exile',\n",
       " 'Thai',\n",
       " 'doppelgänger',\n",
       " 'Thaksin',\n",
       " 'Shinawatra',\n",
       " 'party',\n",
       " 'win',\n",
       " 'general',\n",
       " 'election',\n",
       " 'see',\n",
       " 'young',\n",
       " 'sister',\n",
       " 'stand',\n",
       " 'Yingluck',\n",
       " 'Shinawatra',\n",
       " 'assume',\n",
       " 'premiership']"
      ]
     },
     "execution_count": 24,
     "metadata": {},
     "output_type": "execute_result"
    }
   ],
   "source": [
    "lemmata(sent)"
   ]
  },
  {
   "cell_type": "code",
   "execution_count": 25,
   "metadata": {},
   "outputs": [
    {
     "data": {
      "text/plain": [
       "[the middle of 2011,\n",
       " Turkey,\n",
       " Thailand,\n",
       " Turkish,\n",
       " Recep Tayyip Erdo¢gan,\n",
       " third,\n",
       " Thai,\n",
       " Thaksin Shinawatra,\n",
       " five,\n",
       " 2001,\n",
       " Yingluck Shinawatra]"
      ]
     },
     "execution_count": 25,
     "metadata": {},
     "output_type": "execute_result"
    }
   ],
   "source": [
    "[ent for ent in sent.ents]"
   ]
  },
  {
   "cell_type": "code",
   "execution_count": 26,
   "metadata": {},
   "outputs": [
    {
     "data": {
      "text/plain": [
       "[[75, 79, 'the_middle_of_2011'],\n",
       " [81, 82, 'Turkey'],\n",
       " [83, 84, 'Thailand'],\n",
       " [88, 89, 'turkish'],\n",
       " [90, 93, 'Recep_Tayyip_Erdo¢gan'],\n",
       " [95, 96, 'third'],\n",
       " [103, 104, 'Thai'],\n",
       " [105, 107, 'Thaksin_Shinawatra'],\n",
       " [113, 114, 'five'],\n",
       " [117, 118, '2001'],\n",
       " [127, 129, 'Yingluck_Shinawatra']]"
      ]
     },
     "execution_count": 26,
     "metadata": {},
     "output_type": "execute_result"
    }
   ],
   "source": [
    "[[ent.start, ent.end, \"_\".join(lemmata(ent, filtered=False))] for ent in sent.ents]"
   ]
  },
  {
   "cell_type": "code",
   "execution_count": 27,
   "metadata": {},
   "outputs": [],
   "source": [
    "lemmatized_sents = [lemmata(sent) for sent in doc.sents]"
   ]
  },
  {
   "cell_type": "code",
   "execution_count": 28,
   "metadata": {},
   "outputs": [
    {
     "name": "stdout",
     "output_type": "stream",
     "text": [
      "[['Duncan', 'McCargo', 'professor', 'southeast', 'asian', 'politic', 'University', 'Leeds'], ['Tearing', 'apart', 'land', 'Islam', 'Legitimacy', 'Southern', 'Thailand', 'win', 'inaugural', 'Bernard', 'Schwartz', 'Book', 'Prize', 'Asia', 'Society'], ['Ayºe', 'Zarakol', 'assistant', 'professor', 'politic', 'Washington', 'Lee', 'University', 'author', 'Defeat', 'East', 'Learned', 'live', 'West'], ['middle', 'Turkey', 'Thailand', 'hold', 'national', 'turkish', 'premier', 'Recep', 'Tayyip', 'claim', 'popular', 'mandate', 'self', 'exile', 'Thai', 'doppelgänger', 'Thaksin', 'Shinawatra', 'party', 'win', 'general', 'election', 'see', 'young', 'sister', 'stand', 'Yingluck', 'Shinawatra', 'assume', 'premiership'], ['virtually', 'observer', 'notice', 'synchronicity', 'politician', 'similar', 'governance', 'style', 'party', 'organization', 'societal', 'basis', 'best', 'military', 'bureaucratic', 'establishment', 'flank', 'Asia'], ['glance', 'country', 'appear', 'strikingly', 'different'], ['Turkey', 'straddle', 'Europe', 'Middle', 'East', 'muslim', 'majority', 'country', 'staunchly', 'secular', 'republic', 'draw', 'attention', 'transformative', 'domestic', 'foreign', 'policy', 'Justice', 'Development', 'Party', 'AKP', 'characterize', 'Islamist'], ['Thailand', 'contrast', 'locate', 'Southeast', 'Asia', 'predominantly', 'buddhist', 'monarchy'], ['judge', 'description', 'simultaneous', 'rise', 'Turkey', 'Thaksin', 'Thailand', 'look', 'like', 'sheer', 'coincidence'], ['reality'], ['lay', 'story', 'turkish', 'Thai', 'democratization', 'include', 'obstacle', 'overcome', 'case', 'reveal', 'numerous', 'parallel'], ['comparison', 'country', 'offer', 'insight', 'generally', 'applicable', 'understanding', 'democratization', 'outside', 'West'], ['Journal', 'Democracy', 'volume', 'number', 'July', 'National', 'Endowment', 'Democracy', 'Johns', 'Hopkins', 'University', 'PressThe', 'similarity', 'political', 'trajectory', 'Turkey', 'Thailand', 'go', 'end', 'nineteenth', 'century', 'incorporate', 'European', 'lead', 'international', 'society', 'semi', 'civilized', 'outsider'], ['respect', 'Turkey', 'Thailand', 'resemble', 'handful', 'non', 'western', 'country', 'Japan', 'China', 'suffer', 'degree', 'western', 'intrusion', 'domestic', 'affair', 'nonetheless', 'subject', 'direct', 'western', 'polity', 'differ', 'formally', 'colonize', 'country', 'having', 'room', 'negotiate', 'transition', 'modernity', 'term'], ['time', 'unlike', 'western', 'state', 'adapt', 'quickly', 'international', 'system', 'rule', 'little', 'shape'], ['despite', 'absence', 'formal', 'colonization', 'Ottoman', 'Empire', 'Kingdom', 'Siam', 'experience', 'european', 'intrusion', 'fairly', 'call', 'highly', 'result', 'country', 'emerge', 'monarchy', 'newly', 'westernize', 'military', 'bureaucratic', 'establishment', 'reformist', 'outlook', 'doggedly', 'equate', 'independence', 'state', 'lead', 'modernization', 'national', 'cohesion', 'cohesion', 'give', 'heterogeneity', 'society', 'turn', 'twentieth', 'century', 'passively', 'assume', 'aggressively', 'achieve'], ['background', 'rigid', 'civilizational', 'hierarchy', 'mark', 'international', 'system', 'late', 'nineteenth', 'early', 'twentieth', 'century', 'group', 'come', 'vanguard', 'modern', 'reform', 'believe', 'mark', 'path', 'national', 'dignity'], ['Turkey', 'military', 'bureaucratic', 'reformer', 'aggressive'], ['abolish', 'Ottoman', 'sultanate'], ['Thai', 'counterpart', 'go', 'far', 'establish', 'constitutional', 'monarchy', 'probably', 'circumstance', 'Ottoman', 'Empire', 'spare', 'defeat', 'World', 'War', 'sultan', 'Mehmed', 'VI', 'discredit', 'cooperation', 'occupation', 'force', 'event', 'Turkey', 'unfold', 'manner', 'similar', 'Thailand'], ['important', 'point', 'case', 'lesson', 'draw', 'history', 'apply', 'twentieth', 'century', 'modernization', 'economic', 'development', 'require', 'protect', 'nation', 'carry', 'careful', 'guidance', 'enlighten', 'central', 'power', 'Turkey', 'mean', 'military', 'Thailand', 'mean', 'military', 'plus', 'monarchy'], ['brief', 'experiment', 'insular', 'foreign', 'policy', 'country', 'move', 'squarely', 'western', 'camp', 'follow', 'state', 'lead', 'nonsocialist', 'development', 'strategy', 'twentieth', 'century'], ['type', 'development', 'generate', 'win', 'institutional', 'coalition', 'complete', 'usual', 'political', 'economic', 'privilege'], ['winner', 'include', 'military', 'bureaucratic', 'elite', 'state', 'support', 'business', 'sector', 'middle', 'class', 'urbanite', 'embody', 'state', 'ideal', 'mean', 'modern', 'Thai', 'Turkish'], ['losing', 'end', 'rural', 'dweller', 'ethnic', 'religious', 'minority', 'small', 'entrepreneur', 'access', 'state', 'Thaksin', 'success', 'ballot', 'box', 'come', 'act', 'champion', 'force', 'relative', 'political', 'quiescence', 'disenfranchisement', 'long', 'feasible', 'light', 'increase', 'economic', 'success'], ['Old', 'Institutional', 'Coalitions', 'New', 'Social', 'Forces', 'Thailand', 'Turkey', 'build', 'twentieth', 'century', 'social', 'political', 'transformation', 'basis', 'specific', 'historically', 'contingent', 'institutional', 'arrangement'], ['country', 'power', 'largely', 'hand', 'conservative', 'bureaucratic', 'elite', 'work', 'closely', 'military', 'partnership', 'base', 'share', 'goal', 'nation', 'building'], ['nation', 'build', 'project', 'frame', 'term', 'modernization', 'process', 'require', 'leadership', 'micromanagement', 'elite'], ['vast', 'bulk', 'populace', 'find', 'marginalize', 'allegedly', 'lack', 'schooling', 'sophistication', 'need', 'play', 'subordinate', 'role'], ['power', 'concentrate', 'hand', 'elite', 'purport', 'selfless', 'align', 'technocrat'], ['elite', 'primary', 'qualification', 'rule', 'rest', 'monopoly', 'hold', 'legitimate', 'state', 'power'], ['monopoly', 'predicate', 'validate', 'turn', 'loyalty', 'found', 'mythos', 'modernize', 'nation', 'state'], ['Turkey', 'source', 'narrative', 'origin', 'lie', 'indisputably', 'person', 'think', 'legacy', 'Mustafa', 'Kemal', 'Atatürk'], ['successful', 'Ottoman', 'major', 'general', 'winner', 'British', 'Imperial', 'french', 'force', 'Gallipoli', 'architect', 'victory', 'turkish', 'War', 'Independence', 'force', 'arm', 'overturn', 'Treaty', 'sultan', 'accept'], ['Atatürk', 'prevent', 'dismemberment', 'Ottoman', 'Empire', 'territorial', 'core', 'lead', 'process', 'create', 'modern', 'Turkish', 'Republic'], ['serve', 'Turkey', 'president', 'till', 'death', 'Atatürk', 'embrace', 'ideal', 'modern', 'secular', 'westernized', 'nationstate', 'play', 'importance', 'Islam', 'prize', 'city', 'countryside'], ['death', 'Kemalism', 'synonymous', 'privileged', 'position', 'modernizing', 'vanguard', 'state', 'include', 'bureaucracy', 'military'], ['turkish', 'military', 'see', 'defend', 'Kemalist', 'modernization', 'twin', 'enemy', 'Islamism', 'electoralism', 'struggle', 'validate', 'external', 'challenge', 'internal', 'threat', 'minority', 'ethnic', 'group', 'notably', 'Kurds'], ['Thailand', 'situation', 'similar', 'different'], ['early', 'twentieth', 'century', 'Siam', 'know', 'Thailand', 'absolute', 'monarchy', 'base', 'official', 'formula', 'go', 'pillar', 'nation', 'religion', 'king'], ['modernize', 'bureaucratic', 'elite', 'comprise', 'military', 'civilian', 'element', 'end', 'absolute', 'monarchy', 'introduce', 'constitutional', 'rule'], ['decade', 'follow', 'process', 'monarchical', 'rollback', 'take', 'place', 'strong', 'alliance', 'emerge', 'military', 'palace', 'present', 'lead', 'force', 'modernization', 'development'], ['Thailand', 'anticommunist', 'trajectory', 'especially', 'closely', 'link', 'royally', 'sponsor', 'program', 'rural', 'transformation'], ['national', 'mythology', 'deploy', 'preserve', 'Thai', 'ness', 'defend', 'monarchy', 'internal', 'Prominent', 'enemy', 'elect', 'politician', 'blame', 'chronic', 'corruption', 'ignorant', 'rural', 'voter', 'see', 'susceptible', 'manipulation', 'politician'], ['recently', 'separatist', 'militant', 'historically', 'Malay', 'Muslim', 'far', 'South', 'join', 'internal', 'enemy', 'rank'], ['institutional', 'arrangement', 'support', 'twentieth', 'century', 'national', 'myth', 'Turkey', 'Thailand', 'fail', 'secure', 'political', 'stability'], ['furthermore', 'modernization', 'justification', 'leave', 'elite', 'country', 'increasingly', 'vulnerable', 'external', 'pressure', 'international', 'system', 'standard', 'shift', 'favor', 'liberalization'], ['tension', 'hidebound', 'urban', 'elite', 'new', 'demand', 'voter', 'citizen', 'structural', 'problem', 'heart', 'modernization', 'project'], ['socioeconomic', 'transformation', 'modernization', 'bring', 'lead', 'directly', 'emergence', 'new', 'force', 'question', 'legitimacy', 'elite', 'institution', 'practice', 'engender', 'development', 'place'], ['respect', 'arrangement', 'transitional', 'undertaking', 'doom', 'self', 'destruct'], ['Thailand', 'Bangkok', 'elite', 'long', 'treat', 'rural', 'masse', 'poor', 'farmer', 'need', 'royal', 'military', 'benevolence', 'include', 'irrigation', 'scheme', 'kingly', 'plan', 'sufficiency', 'economy', 'participation', 'royal', 'project', 'support', 'traditional', 'handicraft', 'help', 'cope', 'quiescently', 'structural', 'inequality', 'marginalization'], ['farmer', 'suppose', 'stay', 'village'], ['early', 'few', 'few', 'especially', 'hail', 'deprive', 'area', 'North', 'Northeast'], ['venture', 'forth', 'seek', 'lucrative', 'agreeable', 'form', 'work', 'typically', 'Bangkok', 'industrialize', 'province', 'ring', 'capital', 'rural', 'people', 'usually', 'continue', 'list', 'home', 'area', 'official', 'place', 'residence'], ['Bangkok', 'taxi', 'driver', 'display', 'identity', 'card', 'state', 'legally', 'reside', 'Roi', 'et', 'Province', 'hundred', 'kilometer', 'away'], ['today', 'Thai', 'countryside', 'urbanized', 'new', 'municipality', 'burgeon', 'exist', 'one', 'expand', 'far', 'formal', 'boundary'], ['result', 'new', 'social', 'class', 'urbanized', 'villager', 'people', 'foot', 'countryside', 'foot'], ['root', 'rural', 'aspiration', 'urban', 'include', 'strong', 'desire', 'child', 'finish', 'high', 'school', 'college'], ['money', 'diverse', 'source', 'include', 'week', 'rice', 'farming', 'nowadays', 'likely', 'consist', 'mainly', 'urban', 'orient', 'work', 'small', 'scale', 'subcontracting', 'petty', 'trading', 'migrant', 'labor'], ['word', 'popular', 'idea', 'Thailand', 'neatly', 'split', 'urban', 'rural', 'divide', 'poor', 'farmer', 'periodically', 'lay', 'siege', 'Bangkok', 'woefully', 'simplistic', 'suppose', 'divide', 'Turkey', 'Islamists', 'secularist'], ['Thailand', 'urbanized', 'villager', 'counterpart', 'Turkey', 'gecekondu', 'roughly', 'mean', 'folk', 'generally', 'discuss', 'reference', 'level', 'religiosity', 'class', 'merely', 'matter', 'framing'], ['stereotype', 'AKP', 'voter', 'prevail', 'old', 'line', 'turkish', 'establishment', 'portray', 'call', 'belly', 'scratcher', 'barely', 'educate', 'provincial', 'know', 'traditional', 'insincere', 'religious', 'value', 'minor', 'business', 'acuman', 'put', 'self', 'interest', 'need', 'reality', 'AKP', 'like', 'Thaksin', 'party', 'draw', 'support', 'number', 'social', 'group', 'mean', 'message', 'mix', 'claim', 'business', 'friendly', 'managerial', 'acuman', 'populist', 'promise', 'upward', 'mobility', 'new', 'entrepreneur', 'hinterland', 'urban', 'villager', 'city'], ['AKP', 'support', 'like', 'Thaksin', 'come', 'heavily', 'province', 'recent', 'economic', 'growth', 'mean', 'Turkey', 'province', 'fast', 'vibrant', 'commercial', 'center', 'right'], ['AKP', 'friendly', 'new', 'business', 'association', 'TUSKON', 'Confederation', 'Businessmen', 'Industrialists', 'Turkey', 'represent', 'primarily', 'new', 'entrepreneur', 'anatolian', 'town', 'Kayseri', 'Denizli', 'position', 'alternative', 'Istanbul', 'dominate', 'old', 'guard', 'TUSIAD', 'Turkish', 'Industry', 'Business', 'Association'], ['anatolian', 'town', 'tend', 'traditional', 'establish', 'urban', 'center', 'cosmopolitan', 'Istanbul', 'bureaucratic', 'Ankara', 'Aegean', 'port', 'city', 'Izmir', 'level', 'religiosity', 'varie', 'emerge', 'entrepreneur', 'educate'], ['Turkey', 'Thailand', 'rural', 'urban', 'big', 'city', 'neighborhood', 'fill', 'migrant', 'specific', 'province', 'region', 'urban', 'rural'], ['Irreversible', 'Trends', 'Thailand', 'gradual', 'emergence', 'urbanized', 'villager', 'couple', 'stop', 'start', 'institutionalization', 'electoral', 'politic', 'progressively', 'weaken', 'Bangkok', 'elite'], ['year', 'prime', 'minister', 'police', 'officer', 'telecommunication', 'magnate', 'Thaksin', 'succeed', 'precursor', 'Chavalit', 'Yongchaiyudh', 'manage', 'achieve', 'secure', 'lasting', 'hold', 'urbanized', 'villager', 'vote'], ['remarkably', 'hold', 'survive', 'ouster', 'September', 'military', 'coup', 'remain', 'strong', 'July', 'general', 'election'], ['harness', 'electoral', 'potential', 'urbanized', 'villager', 'pro', 'thaksin', 'party', 'impossible', 'Thailand', 'twentieth', 'century', 'institutional', 'arrangement', 'continue', 'function', 'unchallenged'], ['similar', 'process', 'underway', 'Turkey'], ['success', 'AKP', 'consecutive', 'election', 'flow', 'effective', 'appeal', 'economic', 'aspiration', 'social', 'value', 'urbanized', 'villager', 'voter'], ['decade', 'party', 'go', 'predecessor', 'dismantle', 'military', 'bureaucratic', 'tutelage', 'regime', 'long', 'form', 'potent', 'counterweight', 'turkish', 'electoral', 'democracy'], ['able'], ['enjoy', 'support', 'newly', 'empower', 'group', 'range', 'muslim', 'equivalent', 'Thailand', 'urbanized', 'villager', 'devout', 'capitalistic', 'merchant', 'Anatolia'], ['AKP', 'Thaksin', 'party', 'represent', 'significant', 'challenge', 'establish', 'national', 'myth', 'Turkey', 'Thailand'], ['manner', 'incorporation', 'international', 'system', 'nineteenth', 'century', 'near', 'miss', 'brush', 'european', 'colonialism', 'Turkey', 'Thailand', 'develop', 'anxious', 'national', 'narrative', 'link', 'territorial', 'integrity', 'nationhood', 'modernization'], ['Turkey', 'national', 'narrative', 'associate', 'Kemalism', 'Thailand', 'link', 'monarchy'], ['guide', 'myth', 'serve', 'legitimize', 'state', 'lead', 'modernization', 'project', 'notion', 'elite', 'vanguard', 'represent', 'old', 'institutional', 'coalition'], ['myth', 'cast', 'rural', 'hinterland', 'past', 'country', 'lead', 'backwardness', 'capital', 'benign', 'authority'], ['rural', 'folk', 'simultaneously', 'idealize', 'essence', 'nation', 'infantilize', 'subject', 'state', 'project'], ['Kemalism', 'instance', 'permit', 'peasant', 'woman', 'wear', 'headscarf', 'keep', 'islamic', 'belief', 'modesty', 'demand', 'headscarf', 'ban', 'institution', 'high', 'learning', 'Kemalist', 'national', 'narrative', 'build', 'teleology', 'accord', 'modern', 'education', 'suppose', 'displace', 'traditional', 'practice'], ['similarly', 'myth', 'making', 'Thai', 'monarchy', 'involve', 'king', 'change', 'Thailand', 'Turkey', 'irreversible'], ['old', 'structure', 'power', 'long', 'sustainable'], ['urbanized', 'villager', 'grow', 'urban', 'numerous', 'vocal'], ['simply', 'go', 'country', 'thirty', 'year', 'poor', 'discourse', 'express', 'disdain', 'participation', 'electoral', 'process', 'ground', 'allege', 'buyability', 'lack', 'education', 'sophistication'], ['Turkey', 'Thailand', 'long', 'marginalize', 'group', 'national', 'story', 'disfavor', 'stepchild', 'claim', 'center', 'stage', 'ironically', 'result', 'liberalization', 'policy', 'elite', 'introduce', 'commitment', 'modernization', 'associate', 'imperative', 'contemporary', 'international', 'standard'], ['Thailand', 'Thaksin', 'string', 'victory', 'help', 'urbanized', 'villager', 'reimagine', 'political', 'actor', 'long', 'subordinate', 'weary', 'paternalism', 'network', 'monarchy'], ['past', 'couple', 'year', 'large', 'plaque', 'bear', 'word', 'nation', 'religion', 'king', 'people', 'appear', 'outer', 'wall', 'Bangkok', 'military', 'basis', 'fourth', 'pillar', 'populace', 'add', 'traditional', 'pillar', 'Thai', 'ness'], ['Turkey', 'AKP', 'take', 'power', 'decade', 'ago', 'increasingly', 'apparent', 'people', 'education', 'prosperity', 'modernization', 'generally', 'understand', 'need', 'displace', 'traditional', 'value', 'religion'], ['People', 'embody', 'traditional', 'value', 'power', 'wife', 'college', 'educate', 'daughter', 'wear', 'headscarf'], ['Road', 'ahead', 'kind', 'change', 'Thailand', 'Turkey', 'irreversible'], ['old', 'structure', 'power', 'long', 'sustainable'], ['urbanized', 'villager', 'grow', 'urban', 'numerous', 'vocal'], ['simply', 'go', 'country', 'thirty', 'year', 'ago'], ['demographic', 'wide', 'pattern', 'social', 'change', 'plus', 'rise', 'skepticism', 'national', 'myth', 'sustain', 'nation', 'twentieth', 'century', 'work', 'mechanism', 'elite', 'blunt', 'consequence', 'electoral', 'politic'], ['mean', 'national', 'myth', 'entirely', 'dismantle'], ['accurate', 'reinterpret'], ['Thaksin', 'shy', 'away', 'state', 'power', 'legitimize', 'myth', 'suit', 'show', 'ready', 'fan', 'nationalist', 'flame'], ['massive', 'voter', 'mandate', 'Thaksin', 'enjoy', 'good', 'relation', 'China', 'long', 'admire', 'way', 'authoritarian', 'regime', 'region', 'manage', 'contain', 'popular', 'dissent'], ['increasingly', 'authoritarian', 'tendency', 'evident', 'govern', 'style', 'evoke', 'comparison', 'Vladimir', 'Thaksin', 'practice', 'highly', 'personalize', 'form', 'rule', 'characterize', 'kind', 'sultanism', 'emulate', 'outdo', 'military', 'clash'], ['go', 'road', 'ahead', 'necessarily', 'promise', 'lead', 'gradual', 'consolidation', 'liberal', 'democratic', 'norm', 'possibility', 'detour', 'populist', 'authoritarianism', 'loom'], ['obvious', 'conclusion', 'country', 'Turkey', 'Thailand', 'old', 'label', 'helpful'], ['urban', 'modernized', 'middle', 'class', 'subscribe', 'value', 'associate', 'liberal', 'democracy', 'secularism', 'Turkey', 'clean', 'politic', 'Thailand', 'increasingly', 'suspicious', 'electoral', 'politic', 'undermine', 'power'], ['villager', 'long', 'village'], ['associate', 'traditional', 'way', 'life', 'force', 'change'], ['previously', 'disenfranchised', 'empower', 'electoral', 'politic', 'despite', 'constraint', 'impose', 'military', 'bureaucracy', 'judiciary', 'necessarily', 'emerge', 'process', 'strong', 'belief', 'liberal', 'democratic', 'value'], ['hypernationalist', 'political', 'development', 'trajectory', 'exemplify', 'nevercolonized', 'country', 'Turkey', 'Thailand', 'like', 'number', 'state', 'edge', 'Europe', 'Asia', 'provide', 'fertile', 'ground', 'liberalism'], ['go', 'backward', 'future', 'remain', 'open', 'intensely', 'contest']]\n"
     ]
    }
   ],
   "source": [
    "print(lemmatized_sents)"
   ]
  },
  {
   "cell_type": "code",
   "execution_count": 30,
   "metadata": {},
   "outputs": [
    {
     "name": "stdout",
     "output_type": "stream",
     "text": [
      "['stereotype', 'AKP', 'voter', 'prevail', 'old', 'line', 'turkish', 'establishment', 'portray', 'call', 'belly', 'scratcher', 'barely', 'educate', 'provincial', 'know', 'traditional', 'insincere', 'religious', 'value', 'minor', 'business', 'acuman', 'put', 'self', 'interest', 'need', 'reality', 'AKP', 'like', 'Thaksin', 'party', 'draw', 'support', 'number', 'social', 'group', 'mean', 'message', 'mix', 'claim', 'business', 'friendly', 'managerial', 'acuman', 'populist', 'promise', 'upward', 'mobility', 'new', 'entrepreneur', 'hinterland', 'urban', 'villager', 'city']\n",
      "['go', 'road', 'ahead', 'necessarily', 'promise', 'lead', 'gradual', 'consolidation', 'liberal', 'democratic', 'norm', 'possibility', 'detour', 'populist', 'authoritarianism', 'loom']\n"
     ]
    }
   ],
   "source": [
    "for sent  in lemmatized_sents:\n",
    "    if \"populist\" in sent:\n",
    "        print(sent)"
   ]
  },
  {
   "cell_type": "code",
   "execution_count": 40,
   "metadata": {},
   "outputs": [],
   "source": [
    "!mkdir ../data/large_data/articles_lemmata"
   ]
  },
  {
   "cell_type": "code",
   "execution_count": null,
   "metadata": {},
   "outputs": [],
   "source": [
    "def lemmata_ents(spacyobject):\n",
    "    return lemmata(spacyobject)"
   ]
  },
  {
   "cell_type": "code",
   "execution_count": null,
   "metadata": {},
   "outputs": [],
   "source": [
    "sourcepath = \"../data/large_data/articles_spacydocs/\"\n",
    "for filename in filenames:\n",
    "    filepath = sourcepath + filenames[0]\n",
    "    with open(filepath, \"rb\") as f:\n",
    "        doc = pickle.load(f)\n",
    "    lemmatized_sents = [[\" \".join(lemmata_ents(sent)) for sent in doc.sents]\n",
    "\n",
    "\n"
   ]
  }
 ],
 "metadata": {
  "kernelspec": {
   "display_name": "conda_base",
   "language": "python",
   "name": "conda_base"
  },
  "language_info": {
   "codemirror_mode": {
    "name": "ipython",
    "version": 3
   },
   "file_extension": ".py",
   "mimetype": "text/x-python",
   "name": "python",
   "nbconvert_exporter": "python",
   "pygments_lexer": "ipython3",
   "version": "3.9.12"
  }
 },
 "nbformat": 4,
 "nbformat_minor": 1
}
