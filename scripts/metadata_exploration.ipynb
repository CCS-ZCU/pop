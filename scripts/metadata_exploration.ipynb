{
 "cells": [
  {
   "cell_type": "code",
   "execution_count": 1,
   "outputs": [],
   "source": [
    "import numpy as np\n",
    "import pandas as pd\n",
    "import os"
   ],
   "metadata": {
    "collapsed": false
   }
  },
  {
   "cell_type": "code",
   "execution_count": 2,
   "outputs": [
    {
     "data": {
      "text/plain": "   year                 authors                            journal  \\\n0  2011              Bos et al.            Political Communication   \n1  2019         Blassnig et al.            Political Communication   \n2  2017                Caramani  American Political Science Review   \n3  2020  Wuttke,Schimpf, Schoen  American Political Science Review   \n4  2014                   Treib  Journal of European Public Policy   \n\n                                               title     type pdf? keywords  \\\n0  How the Media Shape Perceptions of Right-Wing ...  article    y        y   \n1  Hitting a Nerve: Populist News Articles Lead t...  article    y        y   \n2  Will vs. Reason: The Populist and Technocratic...  article    y        y   \n3  When the Whole Is Greater than the Sum of Its ...  article    y        y   \n4  The voter says no, but nobody listens: causes ...  article    y        y   \n\n  keywords_online? notes  \n0                y   NaN  \n1                y   NaN  \n2              NaN   NaN  \n3              NaN   NaN  \n4              NaN   NaN  ",
      "text/html": "<div>\n<style scoped>\n    .dataframe tbody tr th:only-of-type {\n        vertical-align: middle;\n    }\n\n    .dataframe tbody tr th {\n        vertical-align: top;\n    }\n\n    .dataframe thead th {\n        text-align: right;\n    }\n</style>\n<table border=\"1\" class=\"dataframe\">\n  <thead>\n    <tr style=\"text-align: right;\">\n      <th></th>\n      <th>year</th>\n      <th>authors</th>\n      <th>journal</th>\n      <th>title</th>\n      <th>type</th>\n      <th>pdf?</th>\n      <th>keywords</th>\n      <th>keywords_online?</th>\n      <th>notes</th>\n    </tr>\n  </thead>\n  <tbody>\n    <tr>\n      <th>0</th>\n      <td>2011</td>\n      <td>Bos et al.</td>\n      <td>Political Communication</td>\n      <td>How the Media Shape Perceptions of Right-Wing ...</td>\n      <td>article</td>\n      <td>y</td>\n      <td>y</td>\n      <td>y</td>\n      <td>NaN</td>\n    </tr>\n    <tr>\n      <th>1</th>\n      <td>2019</td>\n      <td>Blassnig et al.</td>\n      <td>Political Communication</td>\n      <td>Hitting a Nerve: Populist News Articles Lead t...</td>\n      <td>article</td>\n      <td>y</td>\n      <td>y</td>\n      <td>y</td>\n      <td>NaN</td>\n    </tr>\n    <tr>\n      <th>2</th>\n      <td>2017</td>\n      <td>Caramani</td>\n      <td>American Political Science Review</td>\n      <td>Will vs. Reason: The Populist and Technocratic...</td>\n      <td>article</td>\n      <td>y</td>\n      <td>y</td>\n      <td>NaN</td>\n      <td>NaN</td>\n    </tr>\n    <tr>\n      <th>3</th>\n      <td>2020</td>\n      <td>Wuttke,Schimpf, Schoen</td>\n      <td>American Political Science Review</td>\n      <td>When the Whole Is Greater than the Sum of Its ...</td>\n      <td>article</td>\n      <td>y</td>\n      <td>y</td>\n      <td>NaN</td>\n      <td>NaN</td>\n    </tr>\n    <tr>\n      <th>4</th>\n      <td>2014</td>\n      <td>Treib</td>\n      <td>Journal of European Public Policy</td>\n      <td>The voter says no, but nobody listens: causes ...</td>\n      <td>article</td>\n      <td>y</td>\n      <td>y</td>\n      <td>NaN</td>\n      <td>NaN</td>\n    </tr>\n  </tbody>\n</table>\n</div>"
     },
     "execution_count": 2,
     "metadata": {},
     "output_type": "execute_result"
    }
   ],
   "source": [
    "articles_metadata = pd.read_csv(\"../data/articles_metadata.csv\")\n",
    "articles_metadata.head(5)"
   ],
   "metadata": {
    "collapsed": false
   }
  },
  {
   "cell_type": "code",
   "execution_count": 98,
   "outputs": [
    {
     "data": {
      "text/plain": "533"
     },
     "execution_count": 98,
     "metadata": {},
     "output_type": "execute_result"
    }
   ],
   "source": [
    "(articles_metadata[\"pdf?\"]==\"y\").sum()"
   ],
   "metadata": {
    "collapsed": false
   }
  },
  {
   "cell_type": "code",
   "execution_count": 99,
   "outputs": [
    {
     "data": {
      "text/plain": "['American Political Science Review/2017 - Caramani - Will vs. Reason_The Populist and Technocratic Forms of Political Representation and Their Critique to Party Government.pdf',\n 'American Political Science Review/2020 - Wuttke, Schimpf, Schoen - When the Whole Is Greater than the Sum of Its Parts.pdf',\n 'Political Research Quarterly/2020 - Castanho Silva et al. - An Empirical Comparison of Seven Populist Attitudes Scales.pdf',\n 'Political Research Quarterly/2018 - Peel - The Populist Theory of the State in Early American Political Thought.pdf',\n 'Political Research Quarterly/2020 - Kenny - “The Enemy of the People”_Populists and Press Freedom.pdf',\n 'Political Research Quarterly/2018 - Fumurescu - The People’s Two Bodies_An Alternative Perspective on Populism and Elitism.pdf',\n 'Political Research Quarterly/2016 - Spruyt et al. - Who Supports Populism and What Attracts People to It.pdf',\n 'Political Research Quarterly/2018 - Love, Windsor - Populism and Popular Support_Vertical Accountability, Exogenous Events, and Leader Discourse in Venezuela.pdf',\n 'Political Research Quarterly/2019 - Sagarzazu, Thies - The Foreign Policy Rhetoric of Populism_Chávez, Oil, and Anti-imperialism.pdf',\n 'Contemporary Politics/2020 - Miao - Can China be populist_Grassroot populist narratives in the Chinese cyberspace.pdf']"
     },
     "execution_count": 99,
     "metadata": {},
     "output_type": "execute_result"
    }
   ],
   "source": [
    "filepaths = []\n",
    "for root, dir, files in os.walk(\"../data/large_data/articles\"):\n",
    "    journal = root.rpartition(\"/\")[2]\n",
    "    filepaths.extend([journal + \"/\" + fname for fname in files if \".pdf\" in fname])\n",
    "filepaths[:10]"
   ],
   "metadata": {
    "collapsed": false
   }
  },
  {
   "cell_type": "code",
   "execution_count": 203,
   "outputs": [],
   "source": [
    "def get_file_path(row):\n",
    "    # first start from title\n",
    "    title_candidates = [fp for fp in filepaths if row[\"title\"].lower()[:8] in unicodedata.normalize(\"NFC\", fp.lower())]\n",
    "    if len(title_candidates) > 1:\n",
    "        title_candidates = [fp for fp in title_candidates if row[\"authors\"].lower() in unicodedata.normalize(\"NFC\", fp.lower())]\n",
    "        #title_candidates = [fp for fp in title_candidates if row[\"authors\"].split(\",\")[0].lower() in unicodedata.normalize(\"NFC\", fp.lower())]\n",
    "    if len(title_candidates) > 1:\n",
    "        title_candidates = [fp for fp in title_candidates if str(row[\"year\"]) in fp.lower()]\n",
    "    if len(title_candidates) > 1:\n",
    "        title_candidates = [fp for fp in title_candidates if (row[\"journal\"].lower()[:15]) in unicodedata.normalize(\"NFC\", fp.lower())]\n",
    "    # start again from author\n",
    "    if len(title_candidates) == 0:\n",
    "        title_candidates = [fp for fp in filepaths if row[\"authors\"].split(\",\")[0].lower() in unicodedata.normalize(\"NFC\", fp.lower())]\n",
    "        if len(title_candidates) > 1:\n",
    "            title_candidates = [fp for fp in title_candidates if str(row[\"year\"]) in fp.lower()]\n",
    "        if len(title_candidates) > 1:\n",
    "            title_candidates = [fp for fp in title_candidates if (row[\"journal\"].lower()[:10]) in unicodedata.normalize(\"NFC\", fp.lower())]\n",
    "        if len(title_candidates) > 1:\n",
    "            title_candidates = [fp for fp in title_candidates if row[\"title\"].lower()[:8] in unicodedata.normalize(\"NFC\", fp.lower())]\n",
    "        if len(title_candidates) > 1:\n",
    "            title_candidates = [fp for fp in title_candidates if row[\"title\"].lower()[-8:] in unicodedata.normalize(\"NFC\", fp.lower())]\n",
    "    # if still unsuccessful, then start with journal title\n",
    "    if len(title_candidates) == 0:\n",
    "        title_candidates = [fp for fp in filepaths if row[\"journal\"].lower() in unicodedata.normalize(\"NFC\", fp.lower())]\n",
    "        if len(title_candidates) > 1:\n",
    "            title_candidates = [fp for fp in title_candidates if str(row[\"year\"]) in fp]\n",
    "        if len(title_candidates) > 1:\n",
    "            title_candidates = [fp for fp in title_candidates if row[\"title\"].lower()[:6] in unicodedata.normalize(\"NFC\", fp.lower())]\n",
    "        if len(title_candidates) > 1:\n",
    "            title_candidates = [fp for fp in title_candidates if row[\"authors\"].lower()[:8] in unicodedata.normalize(\"NFC\", fp.lower())]\n",
    "    return title_candidates\n",
    "    #if bool(title_candidates):\n",
    "    #    return title_candidates[0]\n",
    "    #else:\n",
    "    #    return np.nan\n",
    "\n",
    "articles_metadata[\"filepath\"] = articles_metadata.apply(lambda row: get_file_path(row), axis=1)"
   ],
   "metadata": {
    "collapsed": false
   }
  },
  {
   "cell_type": "code",
   "execution_count": 207,
   "outputs": [
    {
     "data": {
      "text/plain": "5"
     },
     "execution_count": 207,
     "metadata": {},
     "output_type": "execute_result"
    }
   ],
   "source": [
    "(articles_metadata[\"filepath\"].apply(len) ==0).sum()"
   ],
   "metadata": {
    "collapsed": false
   }
  },
  {
   "cell_type": "code",
   "execution_count": 208,
   "outputs": [
    {
     "data": {
      "text/plain": "0"
     },
     "execution_count": 208,
     "metadata": {},
     "output_type": "execute_result"
    }
   ],
   "source": [
    "(articles_metadata[\"filepath\"].apply(len) > 1).sum()"
   ],
   "metadata": {
    "collapsed": false
   }
  },
  {
   "cell_type": "code",
   "execution_count": 210,
   "outputs": [
    {
     "data": {
      "text/plain": "     year       authors                      journal  \\\n97   2017       Loeppky        New Political Economy   \n98   2020  Bluhm, Varga        New Political Economy   \n99   2020      Toplišek        New Political Economy   \n270  2017     McDonnell            Political Studies   \n530  2020          Dewi  Contemporary Southeast Asia   \n\n                                                 title     type pdf? keywords  \\\n97    ‘Adaptive accumulation’ and US political economy  article    y        y   \n98   Conservative Developmental Statism in East Cen...  article    y        y   \n99   The Political Economy of Populist Rule in Post...  article    y        y   \n270             Populist Leaders and  Coterie Charisma  article    y        y   \n530  Motherhood Identity in the 2019 Indonesian Pre...  article    n        y   \n\n    keywords_online?                           notes filepath  \n97               NaN                             NaN       []  \n98               NaN                             NaN       []  \n99               NaN                             NaN       []  \n270              NaN                             NaN       []  \n530              NaN  NEJDE STÁHNOUT - NEMÁM PŘÍSTUP       []  ",
      "text/html": "<div>\n<style scoped>\n    .dataframe tbody tr th:only-of-type {\n        vertical-align: middle;\n    }\n\n    .dataframe tbody tr th {\n        vertical-align: top;\n    }\n\n    .dataframe thead th {\n        text-align: right;\n    }\n</style>\n<table border=\"1\" class=\"dataframe\">\n  <thead>\n    <tr style=\"text-align: right;\">\n      <th></th>\n      <th>year</th>\n      <th>authors</th>\n      <th>journal</th>\n      <th>title</th>\n      <th>type</th>\n      <th>pdf?</th>\n      <th>keywords</th>\n      <th>keywords_online?</th>\n      <th>notes</th>\n      <th>filepath</th>\n    </tr>\n  </thead>\n  <tbody>\n    <tr>\n      <th>97</th>\n      <td>2017</td>\n      <td>Loeppky</td>\n      <td>New Political Economy</td>\n      <td>‘Adaptive accumulation’ and US political economy</td>\n      <td>article</td>\n      <td>y</td>\n      <td>y</td>\n      <td>NaN</td>\n      <td>NaN</td>\n      <td>[]</td>\n    </tr>\n    <tr>\n      <th>98</th>\n      <td>2020</td>\n      <td>Bluhm, Varga</td>\n      <td>New Political Economy</td>\n      <td>Conservative Developmental Statism in East Cen...</td>\n      <td>article</td>\n      <td>y</td>\n      <td>y</td>\n      <td>NaN</td>\n      <td>NaN</td>\n      <td>[]</td>\n    </tr>\n    <tr>\n      <th>99</th>\n      <td>2020</td>\n      <td>Toplišek</td>\n      <td>New Political Economy</td>\n      <td>The Political Economy of Populist Rule in Post...</td>\n      <td>article</td>\n      <td>y</td>\n      <td>y</td>\n      <td>NaN</td>\n      <td>NaN</td>\n      <td>[]</td>\n    </tr>\n    <tr>\n      <th>270</th>\n      <td>2017</td>\n      <td>McDonnell</td>\n      <td>Political Studies</td>\n      <td>Populist Leaders and  Coterie Charisma</td>\n      <td>article</td>\n      <td>y</td>\n      <td>y</td>\n      <td>NaN</td>\n      <td>NaN</td>\n      <td>[]</td>\n    </tr>\n    <tr>\n      <th>530</th>\n      <td>2020</td>\n      <td>Dewi</td>\n      <td>Contemporary Southeast Asia</td>\n      <td>Motherhood Identity in the 2019 Indonesian Pre...</td>\n      <td>article</td>\n      <td>n</td>\n      <td>y</td>\n      <td>NaN</td>\n      <td>NEJDE STÁHNOUT - NEMÁM PŘÍSTUP</td>\n      <td>[]</td>\n    </tr>\n  </tbody>\n</table>\n</div>"
     },
     "execution_count": 210,
     "metadata": {},
     "output_type": "execute_result"
    }
   ],
   "source": [
    "missing = articles_metadata[articles_metadata[\"filepath\"].apply(len) ==0]\n",
    "missing"
   ],
   "metadata": {
    "collapsed": false
   }
  },
  {
   "cell_type": "code",
   "execution_count": 8,
   "outputs": [],
   "source": [
    "articles_metadata[\"pop_id\"] = articles_metadata.index"
   ],
   "metadata": {
    "collapsed": false
   }
  },
  {
   "cell_type": "code",
   "execution_count": 9,
   "outputs": [
    {
     "data": {
      "text/plain": "     year                 authors                                journal  \\\n0    2011              Bos et al.                Political Communication   \n1    2019         Blassnig et al.                Political Communication   \n2    2017                Caramani      American Political Science Review   \n3    2020  Wuttke,Schimpf, Schoen      American Political Science Review   \n4    2014                   Treib      Journal of European Public Policy   \n..    ...                     ...                                    ...   \n537  2018          Grzymala-Busse                        Current History   \n538  2017             Eichengreen                        Current History   \n539  2014                   Mudde                        Current History   \n540  2020                    Cano             European History Quarterly   \n541  2015                Lindgren  Japanese Journal of Political Science   \n\n                                                 title     type pdf? keywords  \\\n0    How the Media Shape Perceptions of Right-Wing ...  article    y        y   \n1    Hitting a Nerve: Populist News Articles Lead t...  article    y        y   \n2    Will vs. Reason: The Populist and Technocratic...  article    y        y   \n3    When the Whole Is Greater than the Sum of Its ...  article    y        y   \n4    The voter says no, but nobody listens: causes ...  article    y        y   \n..                                                 ...      ...  ...      ...   \n537                      Poland’s Path to Illiberalism  article    y        y   \n538             The Populist Turn in American Politics  article    y        y   \n539           The Far Right and the European Elections  article    y        y   \n540                                Printing the People  article    y        y   \n541  Developing Japanese Populism Research through ...  article    y        y   \n\n    keywords_online? notes                                           filepath  \\\n0                  y  None  [Political Communication/2011 - Bos et al. - H...   \n1                  y  None  [Political Communication/2019 - Blassing et al...   \n2               None  None  [American Political Science Review/2017 - Cara...   \n3               None  None  [American Political Science Review/2020 - Wutt...   \n4               None  None  [Journal of European Public Policy/2014 - Trei...   \n..               ...   ...                                                ...   \n537             None  None  [Current History/2018 - Grzymala-Busse - Polan...   \n538             None  None  [Current History/2017 - Eichengreen - The Popu...   \n539             None  None  [Current History/2014 - Mudde - The Far Right ...   \n540             None  None  [European History Quarterly/2020 - Cano - Prin...   \n541             None  None  [Japanese Journal of Political Science/2015 - ...   \n\n     pop_id  \n0         0  \n1         1  \n2         2  \n3         3  \n4         4  \n..      ...  \n537     537  \n538     538  \n539     539  \n540     540  \n541     541  \n\n[542 rows x 11 columns]",
      "text/html": "<div>\n<style scoped>\n    .dataframe tbody tr th:only-of-type {\n        vertical-align: middle;\n    }\n\n    .dataframe tbody tr th {\n        vertical-align: top;\n    }\n\n    .dataframe thead th {\n        text-align: right;\n    }\n</style>\n<table border=\"1\" class=\"dataframe\">\n  <thead>\n    <tr style=\"text-align: right;\">\n      <th></th>\n      <th>year</th>\n      <th>authors</th>\n      <th>journal</th>\n      <th>title</th>\n      <th>type</th>\n      <th>pdf?</th>\n      <th>keywords</th>\n      <th>keywords_online?</th>\n      <th>notes</th>\n      <th>filepath</th>\n      <th>pop_id</th>\n    </tr>\n  </thead>\n  <tbody>\n    <tr>\n      <th>0</th>\n      <td>2011</td>\n      <td>Bos et al.</td>\n      <td>Political Communication</td>\n      <td>How the Media Shape Perceptions of Right-Wing ...</td>\n      <td>article</td>\n      <td>y</td>\n      <td>y</td>\n      <td>y</td>\n      <td>None</td>\n      <td>[Political Communication/2011 - Bos et al. - H...</td>\n      <td>0</td>\n    </tr>\n    <tr>\n      <th>1</th>\n      <td>2019</td>\n      <td>Blassnig et al.</td>\n      <td>Political Communication</td>\n      <td>Hitting a Nerve: Populist News Articles Lead t...</td>\n      <td>article</td>\n      <td>y</td>\n      <td>y</td>\n      <td>y</td>\n      <td>None</td>\n      <td>[Political Communication/2019 - Blassing et al...</td>\n      <td>1</td>\n    </tr>\n    <tr>\n      <th>2</th>\n      <td>2017</td>\n      <td>Caramani</td>\n      <td>American Political Science Review</td>\n      <td>Will vs. Reason: The Populist and Technocratic...</td>\n      <td>article</td>\n      <td>y</td>\n      <td>y</td>\n      <td>None</td>\n      <td>None</td>\n      <td>[American Political Science Review/2017 - Cara...</td>\n      <td>2</td>\n    </tr>\n    <tr>\n      <th>3</th>\n      <td>2020</td>\n      <td>Wuttke,Schimpf, Schoen</td>\n      <td>American Political Science Review</td>\n      <td>When the Whole Is Greater than the Sum of Its ...</td>\n      <td>article</td>\n      <td>y</td>\n      <td>y</td>\n      <td>None</td>\n      <td>None</td>\n      <td>[American Political Science Review/2020 - Wutt...</td>\n      <td>3</td>\n    </tr>\n    <tr>\n      <th>4</th>\n      <td>2014</td>\n      <td>Treib</td>\n      <td>Journal of European Public Policy</td>\n      <td>The voter says no, but nobody listens: causes ...</td>\n      <td>article</td>\n      <td>y</td>\n      <td>y</td>\n      <td>None</td>\n      <td>None</td>\n      <td>[Journal of European Public Policy/2014 - Trei...</td>\n      <td>4</td>\n    </tr>\n    <tr>\n      <th>...</th>\n      <td>...</td>\n      <td>...</td>\n      <td>...</td>\n      <td>...</td>\n      <td>...</td>\n      <td>...</td>\n      <td>...</td>\n      <td>...</td>\n      <td>...</td>\n      <td>...</td>\n      <td>...</td>\n    </tr>\n    <tr>\n      <th>537</th>\n      <td>2018</td>\n      <td>Grzymala-Busse</td>\n      <td>Current History</td>\n      <td>Poland’s Path to Illiberalism</td>\n      <td>article</td>\n      <td>y</td>\n      <td>y</td>\n      <td>None</td>\n      <td>None</td>\n      <td>[Current History/2018 - Grzymala-Busse - Polan...</td>\n      <td>537</td>\n    </tr>\n    <tr>\n      <th>538</th>\n      <td>2017</td>\n      <td>Eichengreen</td>\n      <td>Current History</td>\n      <td>The Populist Turn in American Politics</td>\n      <td>article</td>\n      <td>y</td>\n      <td>y</td>\n      <td>None</td>\n      <td>None</td>\n      <td>[Current History/2017 - Eichengreen - The Popu...</td>\n      <td>538</td>\n    </tr>\n    <tr>\n      <th>539</th>\n      <td>2014</td>\n      <td>Mudde</td>\n      <td>Current History</td>\n      <td>The Far Right and the European Elections</td>\n      <td>article</td>\n      <td>y</td>\n      <td>y</td>\n      <td>None</td>\n      <td>None</td>\n      <td>[Current History/2014 - Mudde - The Far Right ...</td>\n      <td>539</td>\n    </tr>\n    <tr>\n      <th>540</th>\n      <td>2020</td>\n      <td>Cano</td>\n      <td>European History Quarterly</td>\n      <td>Printing the People</td>\n      <td>article</td>\n      <td>y</td>\n      <td>y</td>\n      <td>None</td>\n      <td>None</td>\n      <td>[European History Quarterly/2020 - Cano - Prin...</td>\n      <td>540</td>\n    </tr>\n    <tr>\n      <th>541</th>\n      <td>2015</td>\n      <td>Lindgren</td>\n      <td>Japanese Journal of Political Science</td>\n      <td>Developing Japanese Populism Research through ...</td>\n      <td>article</td>\n      <td>y</td>\n      <td>y</td>\n      <td>None</td>\n      <td>None</td>\n      <td>[Japanese Journal of Political Science/2015 - ...</td>\n      <td>541</td>\n    </tr>\n  </tbody>\n</table>\n<p>542 rows × 11 columns</p>\n</div>"
     },
     "execution_count": 9,
     "metadata": {},
     "output_type": "execute_result"
    }
   ],
   "source": [
    "articles_metadata"
   ],
   "metadata": {
    "collapsed": false
   }
  },
  {
   "cell_type": "code",
   "execution_count": 10,
   "outputs": [],
   "source": [
    "articles_metadata.to_json(\"../data/article_metadata_with_filepaths.json\")"
   ],
   "metadata": {
    "collapsed": false
   }
  },
  {
   "cell_type": "code",
   "execution_count": null,
   "outputs": [],
   "source": [],
   "metadata": {
    "collapsed": false
   }
  }
 ],
 "metadata": {
  "kernelspec": {
   "name": "conda_base",
   "language": "python",
   "display_name": "conda_base"
  },
  "language_info": {
   "codemirror_mode": {
    "name": "ipython",
    "version": 2
   },
   "file_extension": ".py",
   "mimetype": "text/x-python",
   "name": "python",
   "nbconvert_exporter": "python",
   "pygments_lexer": "ipython2",
   "version": "2.7.6"
  }
 },
 "nbformat": 4,
 "nbformat_minor": 0
}
