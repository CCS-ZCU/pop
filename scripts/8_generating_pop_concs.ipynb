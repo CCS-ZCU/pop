{
 "cells": [
  {
   "cell_type": "code",
   "execution_count": 1,
   "outputs": [],
   "source": [
    "import pandas as pd\n",
    "import re\n",
    "import nltk\n",
    "import os"
   ],
   "metadata": {
    "collapsed": false
   }
  },
  {
   "cell_type": "code",
   "execution_count": 2,
   "outputs": [
    {
     "data": {
      "text/plain": "   year                 authors                            journal  \\\n0  2011              Bos et al.            Political Communication   \n1  2019         Blassnig et al.            Political Communication   \n2  2017                Caramani  American Political Science Review   \n3  2020  Wuttke,Schimpf, Schoen  American Political Science Review   \n4  2014                   Treib  Journal of European Public Policy   \n\n                                               title     type pdf? keywords  \\\n0  How the Media Shape Perceptions of Right-Wing ...  article    y        y   \n1  Hitting a Nerve: Populist News Articles Lead t...  article    y        y   \n2  Will vs. Reason: The Populist and Technocratic...  article    y        y   \n3  When the Whole Is Greater than the Sum of Its ...  article    y        y   \n4  The voter says no, but nobody listens: causes ...  article    y        y   \n\n  keywords_online? notes                                           filepath  \\\n0                y  None  [Political Communication/2011 - Bos et al. - H...   \n1                y  None  [Political Communication/2019 - Blassing et al...   \n2             None  None  [American Political Science Review/2017 - Cara...   \n3             None  None  [American Political Science Review/2020 - Wutt...   \n4             None  None  [Journal of European Public Policy/2014 - Trei...   \n\n   pop_id  \n0       0  \n1       1  \n2       2  \n3       3  \n4       4  ",
      "text/html": "<div>\n<style scoped>\n    .dataframe tbody tr th:only-of-type {\n        vertical-align: middle;\n    }\n\n    .dataframe tbody tr th {\n        vertical-align: top;\n    }\n\n    .dataframe thead th {\n        text-align: right;\n    }\n</style>\n<table border=\"1\" class=\"dataframe\">\n  <thead>\n    <tr style=\"text-align: right;\">\n      <th></th>\n      <th>year</th>\n      <th>authors</th>\n      <th>journal</th>\n      <th>title</th>\n      <th>type</th>\n      <th>pdf?</th>\n      <th>keywords</th>\n      <th>keywords_online?</th>\n      <th>notes</th>\n      <th>filepath</th>\n      <th>pop_id</th>\n    </tr>\n  </thead>\n  <tbody>\n    <tr>\n      <th>0</th>\n      <td>2011</td>\n      <td>Bos et al.</td>\n      <td>Political Communication</td>\n      <td>How the Media Shape Perceptions of Right-Wing ...</td>\n      <td>article</td>\n      <td>y</td>\n      <td>y</td>\n      <td>y</td>\n      <td>None</td>\n      <td>[Political Communication/2011 - Bos et al. - H...</td>\n      <td>0</td>\n    </tr>\n    <tr>\n      <th>1</th>\n      <td>2019</td>\n      <td>Blassnig et al.</td>\n      <td>Political Communication</td>\n      <td>Hitting a Nerve: Populist News Articles Lead t...</td>\n      <td>article</td>\n      <td>y</td>\n      <td>y</td>\n      <td>y</td>\n      <td>None</td>\n      <td>[Political Communication/2019 - Blassing et al...</td>\n      <td>1</td>\n    </tr>\n    <tr>\n      <th>2</th>\n      <td>2017</td>\n      <td>Caramani</td>\n      <td>American Political Science Review</td>\n      <td>Will vs. Reason: The Populist and Technocratic...</td>\n      <td>article</td>\n      <td>y</td>\n      <td>y</td>\n      <td>None</td>\n      <td>None</td>\n      <td>[American Political Science Review/2017 - Cara...</td>\n      <td>2</td>\n    </tr>\n    <tr>\n      <th>3</th>\n      <td>2020</td>\n      <td>Wuttke,Schimpf, Schoen</td>\n      <td>American Political Science Review</td>\n      <td>When the Whole Is Greater than the Sum of Its ...</td>\n      <td>article</td>\n      <td>y</td>\n      <td>y</td>\n      <td>None</td>\n      <td>None</td>\n      <td>[American Political Science Review/2020 - Wutt...</td>\n      <td>3</td>\n    </tr>\n    <tr>\n      <th>4</th>\n      <td>2014</td>\n      <td>Treib</td>\n      <td>Journal of European Public Policy</td>\n      <td>The voter says no, but nobody listens: causes ...</td>\n      <td>article</td>\n      <td>y</td>\n      <td>y</td>\n      <td>None</td>\n      <td>None</td>\n      <td>[Journal of European Public Policy/2014 - Trei...</td>\n      <td>4</td>\n    </tr>\n  </tbody>\n</table>\n</div>"
     },
     "execution_count": 2,
     "metadata": {},
     "output_type": "execute_result"
    }
   ],
   "source": [
    "articles_metadata = pd.read_json(\"../data/article_metadata_with_filepaths.json\")\n",
    "articles_metadata.head(5)"
   ],
   "metadata": {
    "collapsed": false
   }
  },
  {
   "cell_type": "code",
   "execution_count": 3,
   "outputs": [
    {
     "data": {
      "text/plain": "   year                 authors                            journal  \\\n0  2011              Bos et al.            Political Communication   \n1  2019         Blassnig et al.            Political Communication   \n2  2017                Caramani  American Political Science Review   \n3  2020  Wuttke,Schimpf, Schoen  American Political Science Review   \n4  2014                   Treib  Journal of European Public Policy   \n\n                                               title     type pdf? keywords  \\\n0  How the Media Shape Perceptions of Right-Wing ...  article    y        y   \n1  Hitting a Nerve: Populist News Articles Lead t...  article    y        y   \n2  Will vs. Reason: The Populist and Technocratic...  article    y        y   \n3  When the Whole Is Greater than the Sum of Its ...  article    y        y   \n4  The voter says no, but nobody listens: causes ...  article    y        y   \n\n  keywords_online? notes                                           filepath  \\\n0                y  None  [Political Communication/2011 - Bos et al. - H...   \n1                y  None  [Political Communication/2019 - Blassing et al...   \n2             None  None  [American Political Science Review/2017 - Cara...   \n3             None  None  [American Political Science Review/2020 - Wutt...   \n4             None  None  [Journal of European Public Policy/2014 - Trei...   \n\n   pop_id  \n0       0  \n1       1  \n2       2  \n3       3  \n4       4  ",
      "text/html": "<div>\n<style scoped>\n    .dataframe tbody tr th:only-of-type {\n        vertical-align: middle;\n    }\n\n    .dataframe tbody tr th {\n        vertical-align: top;\n    }\n\n    .dataframe thead th {\n        text-align: right;\n    }\n</style>\n<table border=\"1\" class=\"dataframe\">\n  <thead>\n    <tr style=\"text-align: right;\">\n      <th></th>\n      <th>year</th>\n      <th>authors</th>\n      <th>journal</th>\n      <th>title</th>\n      <th>type</th>\n      <th>pdf?</th>\n      <th>keywords</th>\n      <th>keywords_online?</th>\n      <th>notes</th>\n      <th>filepath</th>\n      <th>pop_id</th>\n    </tr>\n  </thead>\n  <tbody>\n    <tr>\n      <th>0</th>\n      <td>2011</td>\n      <td>Bos et al.</td>\n      <td>Political Communication</td>\n      <td>How the Media Shape Perceptions of Right-Wing ...</td>\n      <td>article</td>\n      <td>y</td>\n      <td>y</td>\n      <td>y</td>\n      <td>None</td>\n      <td>[Political Communication/2011 - Bos et al. - H...</td>\n      <td>0</td>\n    </tr>\n    <tr>\n      <th>1</th>\n      <td>2019</td>\n      <td>Blassnig et al.</td>\n      <td>Political Communication</td>\n      <td>Hitting a Nerve: Populist News Articles Lead t...</td>\n      <td>article</td>\n      <td>y</td>\n      <td>y</td>\n      <td>y</td>\n      <td>None</td>\n      <td>[Political Communication/2019 - Blassing et al...</td>\n      <td>1</td>\n    </tr>\n    <tr>\n      <th>2</th>\n      <td>2017</td>\n      <td>Caramani</td>\n      <td>American Political Science Review</td>\n      <td>Will vs. Reason: The Populist and Technocratic...</td>\n      <td>article</td>\n      <td>y</td>\n      <td>y</td>\n      <td>None</td>\n      <td>None</td>\n      <td>[American Political Science Review/2017 - Cara...</td>\n      <td>2</td>\n    </tr>\n    <tr>\n      <th>3</th>\n      <td>2020</td>\n      <td>Wuttke,Schimpf, Schoen</td>\n      <td>American Political Science Review</td>\n      <td>When the Whole Is Greater than the Sum of Its ...</td>\n      <td>article</td>\n      <td>y</td>\n      <td>y</td>\n      <td>None</td>\n      <td>None</td>\n      <td>[American Political Science Review/2020 - Wutt...</td>\n      <td>3</td>\n    </tr>\n    <tr>\n      <th>4</th>\n      <td>2014</td>\n      <td>Treib</td>\n      <td>Journal of European Public Policy</td>\n      <td>The voter says no, but nobody listens: causes ...</td>\n      <td>article</td>\n      <td>y</td>\n      <td>y</td>\n      <td>None</td>\n      <td>None</td>\n      <td>[Journal of European Public Policy/2014 - Trei...</td>\n      <td>4</td>\n    </tr>\n  </tbody>\n</table>\n</div>"
     },
     "execution_count": 3,
     "metadata": {},
     "output_type": "execute_result"
    }
   ],
   "source": [
    "articles_metadata.head(5)"
   ],
   "metadata": {
    "collapsed": false
   }
  },
  {
   "cell_type": "code",
   "execution_count": 4,
   "outputs": [],
   "source": [
    "pop_id = 62"
   ],
   "metadata": {
    "collapsed": false
   }
  },
  {
   "cell_type": "code",
   "execution_count": 5,
   "outputs": [],
   "source": [
    "path = \"../data/large_data/articles_lemmata/\"\n",
    "filename = \"lemmata_pop_id_{}.txt\".format(str(pop_id))\n",
    "filepath = path + filename\n",
    "with open(filepath, \"r\") as f:\n",
    "    lemmatized_sentences = f.readlines()"
   ],
   "metadata": {
    "collapsed": false
   }
  },
  {
   "cell_type": "code",
   "execution_count": 6,
   "outputs": [
    {
     "data": {
      "text/plain": "['Chamorel research scholar the_Center_on_Democracy development the_Rule_of_Law Stanford_University_’s Freeman_ _Spogli_Institute_for_International_Studies\\n',\n 'May_2017 ’s victory far-right leader Pen runoff french presidency global symbol democratic resilience face populism promise political renewal France Europe\\n',\n 'mere eighteen_month_later France shake momentous unexpected event between_ _November_2018 May_2019 country face social uprising political crisis student revolt May_1968 rock the_Fifth_Republic threaten unseat President Gaulle\\n',\n 'trigger seemingly benign ecological tax diesel fuel powerful grassroots insurrection see ten_of_thousand ordinary worker retiree occupy ronds-point traffic circle clock edge small midsized town\\n',\n 'protester badge highvisibility yellow emergency vest gilet jaune french law require motor vehicle carry\\n']"
     },
     "execution_count": 6,
     "metadata": {},
     "output_type": "execute_result"
    }
   ],
   "source": [
    "lemmatized_sentences[:5]"
   ],
   "metadata": {
    "collapsed": false
   }
  },
  {
   "cell_type": "code",
   "execution_count": 7,
   "outputs": [
    {
     "data": {
      "text/plain": "<re.Match object; span=(48, 56), match=' populis'>"
     },
     "execution_count": 7,
     "metadata": {},
     "output_type": "execute_result"
    }
   ],
   "source": [
    "sent = \"cxcxpopulis agree dichotomy progressive national populist\"\n",
    "re.search(r\"^populis|\\spopulis\", sent)"
   ],
   "metadata": {
    "collapsed": false
   }
  },
  {
   "cell_type": "code",
   "execution_count": 8,
   "outputs": [
    {
     "data": {
      "text/plain": "['May_2017 ’s victory far-right leader Pen runoff french presidency global symbol democratic resilience face populism promise political renewal France Europe\\n',\n 'compare contemporary populist movement Europe the_ _United_States\\n',\n 'crisis erupt long historic presidential election bring unprecedented political change massively reject populist option offer Marine_Le_Pen\\n',\n 'distrust fuel rise populist party drive voter abstention unprecedented level especially challenge new globalized economy\\n',\n 'displacement traditional right-versus-left cleavage divide separate Macron merged center-right center-left populist far right major sociological implication\\n',\n 'importantly discredit Yellow Vest movement Macron discredit opposition economic liberalization cultural liberalism immigration attempt reframe entire crisis illustration divide democrats populist\\n',\n 'Vest crisis accelerate bipolarization french politic Macron elitist center Le_Pen_’s populist far right underlying sociological divide grow deep\\n',\n 'Macron Le_Pen_’s agreed-upon dichotomy progressive national populist one reflection sociological ideological realignment underway french politic\\n',\n 'Macron elite populism\\n',\n 'populist protest movement emerge suddenly spectacularly eighteen month Macron decisive electoral victory\\n',\n 'Marine_Le_Pen_’s severe defeat interpret defeat populism\\n',\n 'fact public mood hostile political establishment candidate resort populist rhetoric demagogic promise\\n',\n 'novice politic found political movement carry revolution Macron position antiestablishment candidate one instigator main beneficiary populist wave roll France\\n',\n 'antidote populism Macron embody populism elite concept popular pollster\\n',\n 'Yellow Vests appear populist response Macron perceive elitism Brexit ’s Trump ’s ’s\\n',\n 'Macron having rise putative antidote populism instead enabler\\n',\n 'Yellow Vests populism evoke Boulangisme the_1880s mixture socialist nationalist theme Yellow Vests mild expression patriotism bear little resemblance Boulangists aggressive nationalism extremism espouse far-right league the_1930\\n',\n 'the_Yellow_Vests display similarity populist movement recently spring Europe the_United_States singularity\\n',\n 'populist uprising lead permanent political organization political party\\n']"
     },
     "execution_count": 8,
     "metadata": {},
     "output_type": "execute_result"
    }
   ],
   "source": [
    "[sent for sent in lemmatized_sentences if re.search(r\"^populis|\\spopulis\", sent)]"
   ],
   "metadata": {
    "collapsed": false
   }
  },
  {
   "cell_type": "code",
   "execution_count": 9,
   "outputs": [],
   "source": [
    "def read_lemmatized_sents(pop_id):\n",
    "    path = \"../data/large_data/articles_lemmata/\"\n",
    "    filename = \"lemmata_pop_id_{}.txt\".format(str(pop_id))\n",
    "    filepath = path + filename\n",
    "    with open(filepath, \"r\") as f:\n",
    "        lemmatized_sentences = f.readlines()\n",
    "    return lemmatized_sentences"
   ],
   "metadata": {
    "collapsed": false
   }
  },
  {
   "cell_type": "code",
   "execution_count": 10,
   "outputs": [],
   "source": [
    "def extract_populis_sents(pop_id):\n",
    "    lemmatized_sentences = read_lemmatized_sents(pop_id)\n",
    "    populis_sents = [sent for sent in lemmatized_sentences if re.search(r\"^populis|\\spopulis\", sent)]\n",
    "    return populis_sents"
   ],
   "metadata": {
    "collapsed": false
   }
  },
  {
   "cell_type": "code",
   "execution_count": 11,
   "outputs": [
    {
     "data": {
      "text/plain": "['May_2017 ’s victory far-right leader Pen runoff french presidency global symbol democratic resilience face populism promise political renewal France Europe\\n',\n 'compare contemporary populist movement Europe the_ _United_States\\n',\n 'crisis erupt long historic presidential election bring unprecedented political change massively reject populist option offer Marine_Le_Pen\\n',\n 'distrust fuel rise populist party drive voter abstention unprecedented level especially challenge new globalized economy\\n',\n 'displacement traditional right-versus-left cleavage divide separate Macron merged center-right center-left populist far right major sociological implication\\n',\n 'importantly discredit Yellow Vest movement Macron discredit opposition economic liberalization cultural liberalism immigration attempt reframe entire crisis illustration divide democrats populist\\n',\n 'Vest crisis accelerate bipolarization french politic Macron elitist center Le_Pen_’s populist far right underlying sociological divide grow deep\\n',\n 'Macron Le_Pen_’s agreed-upon dichotomy progressive national populist one reflection sociological ideological realignment underway french politic\\n',\n 'Macron elite populism\\n',\n 'populist protest movement emerge suddenly spectacularly eighteen month Macron decisive electoral victory\\n',\n 'Marine_Le_Pen_’s severe defeat interpret defeat populism\\n',\n 'fact public mood hostile political establishment candidate resort populist rhetoric demagogic promise\\n',\n 'novice politic found political movement carry revolution Macron position antiestablishment candidate one instigator main beneficiary populist wave roll France\\n',\n 'antidote populism Macron embody populism elite concept popular pollster\\n',\n 'Yellow Vests appear populist response Macron perceive elitism Brexit ’s Trump ’s ’s\\n',\n 'Macron having rise putative antidote populism instead enabler\\n',\n 'Yellow Vests populism evoke Boulangisme the_1880s mixture socialist nationalist theme Yellow Vests mild expression patriotism bear little resemblance Boulangists aggressive nationalism extremism espouse far-right league the_1930\\n',\n 'the_Yellow_Vests display similarity populist movement recently spring Europe the_United_States singularity\\n',\n 'populist uprising lead permanent political organization political party\\n']"
     },
     "execution_count": 11,
     "metadata": {},
     "output_type": "execute_result"
    }
   ],
   "source": [
    "extract_populis_sents(62)"
   ],
   "metadata": {
    "collapsed": false
   }
  },
  {
   "cell_type": "code",
   "execution_count": 12,
   "outputs": [],
   "source": [
    "def freq_dict_from_sents(lemmatized_sentences):\n",
    "    sents_tokenized = [sent.split() for sent in lemmatized_sentences]\n",
    "    flat_lemmata = [t for sent in sents_tokenized for t in sent]\n",
    "    freq_dict = dict(nltk.FreqDist(flat_lemmata).most_common())\n",
    "    return freq_dict"
   ],
   "metadata": {
    "collapsed": false
   }
  },
  {
   "cell_type": "code",
   "execution_count": 13,
   "outputs": [
    {
     "data": {
      "text/plain": "{'populist': 13,\n 'Macron': 10,\n 'populism': 7,\n 'political': 6,\n 'movement': 5,\n '’s': 4,\n 'Yellow': 4,\n 'french': 3,\n 'Europe': 3,\n 'crisis': 3,\n 'divide': 3,\n 'sociological': 3,\n 'politic': 3,\n 'Vests': 3,\n 'victory': 2,\n 'far-right': 2,\n 'promise': 2,\n 'France': 2,\n 'unprecedented': 2,\n 'rise': 2,\n 'party': 2,\n 'far': 2,\n 'right': 2,\n 'discredit': 2,\n 'Vest': 2,\n 'Le_Pen_’s': 2,\n 'one': 2,\n 'elite': 2,\n 'defeat': 2,\n 'candidate': 2,\n 'antidote': 2,\n 'May_2017': 1,\n 'leader': 1,\n 'Pen': 1,\n 'runoff': 1,\n 'presidency': 1,\n 'global': 1,\n 'symbol': 1,\n 'democratic': 1,\n 'resilience': 1,\n 'face': 1,\n 'renewal': 1,\n 'compare': 1,\n 'contemporary': 1,\n 'the_': 1,\n '_United_States': 1,\n 'erupt': 1,\n 'long': 1,\n 'historic': 1,\n 'presidential': 1,\n 'election': 1,\n 'bring': 1,\n 'change': 1,\n 'massively': 1,\n 'reject': 1,\n 'option': 1,\n 'offer': 1,\n 'Marine_Le_Pen': 1,\n 'distrust': 1,\n 'fuel': 1,\n 'drive': 1,\n 'voter': 1,\n 'abstention': 1,\n 'level': 1,\n 'especially': 1,\n 'challenge': 1,\n 'new': 1,\n 'globalized': 1,\n 'economy': 1,\n 'displacement': 1,\n 'traditional': 1,\n 'right-versus-left': 1,\n 'cleavage': 1,\n 'separate': 1,\n 'merged': 1,\n 'center-right': 1,\n 'center-left': 1,\n 'major': 1,\n 'implication': 1,\n 'importantly': 1,\n 'opposition': 1,\n 'economic': 1,\n 'liberalization': 1,\n 'cultural': 1,\n 'liberalism': 1,\n 'immigration': 1,\n 'attempt': 1,\n 'reframe': 1,\n 'entire': 1,\n 'illustration': 1,\n 'democrats': 1,\n 'accelerate': 1,\n 'bipolarization': 1,\n 'elitist': 1,\n 'center': 1,\n 'underlying': 1,\n 'grow': 1,\n 'deep': 1,\n 'agreed-upon': 1,\n 'dichotomy': 1,\n 'progressive': 1,\n 'national': 1,\n 'reflection': 1,\n 'ideological': 1,\n 'realignment': 1,\n 'underway': 1,\n 'protest': 1,\n 'emerge': 1,\n 'suddenly': 1,\n 'spectacularly': 1,\n 'eighteen': 1,\n 'month': 1,\n 'decisive': 1,\n 'electoral': 1,\n 'Marine_Le_Pen_’s': 1,\n 'severe': 1,\n 'interpret': 1,\n 'fact': 1,\n 'public': 1,\n 'mood': 1,\n 'hostile': 1,\n 'establishment': 1,\n 'resort': 1,\n 'rhetoric': 1,\n 'demagogic': 1,\n 'novice': 1,\n 'found': 1,\n 'carry': 1,\n 'revolution': 1,\n 'position': 1,\n 'antiestablishment': 1,\n 'instigator': 1,\n 'main': 1,\n 'beneficiary': 1,\n 'wave': 1,\n 'roll': 1,\n 'embody': 1,\n 'concept': 1,\n 'popular': 1,\n 'pollster': 1,\n 'appear': 1,\n 'response': 1,\n 'perceive': 1,\n 'elitism': 1,\n 'Brexit': 1,\n 'Trump': 1,\n 'having': 1,\n 'putative': 1,\n 'instead': 1,\n 'enabler': 1,\n 'evoke': 1,\n 'Boulangisme': 1,\n 'the_1880s': 1,\n 'mixture': 1,\n 'socialist': 1,\n 'nationalist': 1,\n 'theme': 1,\n 'mild': 1,\n 'expression': 1,\n 'patriotism': 1,\n 'bear': 1,\n 'little': 1,\n 'resemblance': 1,\n 'Boulangists': 1,\n 'aggressive': 1,\n 'nationalism': 1,\n 'extremism': 1,\n 'espouse': 1,\n 'league': 1,\n 'the_1930': 1,\n 'the_Yellow_Vests': 1,\n 'display': 1,\n 'similarity': 1,\n 'recently': 1,\n 'spring': 1,\n 'the_United_States': 1,\n 'singularity': 1,\n 'uprising': 1,\n 'lead': 1,\n 'permanent': 1,\n 'organization': 1}"
     },
     "execution_count": 13,
     "metadata": {},
     "output_type": "execute_result"
    }
   ],
   "source": [
    "freq_dict_from_sents(extract_populis_sents(62))"
   ],
   "metadata": {
    "collapsed": false
   }
  },
  {
   "cell_type": "markdown",
   "source": [
    "# extract populis* sentences"
   ],
   "metadata": {
    "collapsed": false
   }
  },
  {
   "cell_type": "code",
   "execution_count": 14,
   "outputs": [],
   "source": [
    "destpath = \"../data/large_data/populis_sents/\"\n",
    "try:\n",
    "    os.mkdir(\"../data/large_data/populis_sents\")\n",
    "except:\n",
    "    pass\n",
    "sourcepath = \"../data/large_data/articles_lemmata/\"\n",
    "for filename in os.listdir(sourcepath):\n",
    "    if \".txt\" in filename:\n",
    "        filepath = sourcepath + filename\n",
    "        with open(filepath, \"r\") as f:\n",
    "            lemmatized_sentences = f.readlines()\n",
    "        populis_sents = [sent for sent in lemmatized_sentences if re.search(r\"^populis|\\spopulis\", sent)]\n",
    "        with open(destpath + filename.replace(\"lemmata\", \"populis_sents\"), \"w\") as f:\n",
    "            f.writelines(populis_sents)"
   ],
   "metadata": {
    "collapsed": false
   }
  },
  {
   "cell_type": "markdown",
   "source": [
    "# extract concordances"
   ],
   "metadata": {
    "collapsed": false
   }
  },
  {
   "cell_type": "code",
   "execution_count": 15,
   "outputs": [],
   "source": [
    "def read_flat_lemmata(pop_id):\n",
    "    path = \"../data/large_data/articles_lemmata/\"\n",
    "    filename = \"lemmata_pop_id_{}.txt\".format(str(pop_id))\n",
    "    filepath = path + filename\n",
    "    with open(filepath, \"r\") as f:\n",
    "        lemmata= f.read()\n",
    "    lemmata_list = lemmata.split()\n",
    "    return lemmata_list"
   ],
   "metadata": {
    "collapsed": false
   }
  },
  {
   "cell_type": "code",
   "execution_count": 16,
   "outputs": [
    {
     "data": {
      "text/plain": "['Chamorel',\n 'research',\n 'scholar',\n 'the_Center_on_Democracy',\n 'development',\n 'the_Rule_of_Law',\n 'Stanford_University_’s',\n 'Freeman_',\n '_Spogli_Institute_for_International_Studies',\n 'May_2017',\n '’s',\n 'victory',\n 'far-right',\n 'leader',\n 'Pen',\n 'runoff',\n 'french',\n 'presidency',\n 'global',\n 'symbol']"
     },
     "execution_count": 16,
     "metadata": {},
     "output_type": "execute_result"
    }
   ],
   "source": [
    "lemmata_list = read_flat_lemmata(62)\n",
    "lemmata_list[:20]"
   ],
   "metadata": {
    "collapsed": false
   }
  },
  {
   "cell_type": "code",
   "execution_count": 17,
   "outputs": [
    {
     "data": {
      "text/plain": "[23, 139, 165, 236, 362, 1917, 2114, 2128, 2139, 2140]"
     },
     "execution_count": 17,
     "metadata": {},
     "output_type": "execute_result"
    }
   ],
   "source": [
    "inxs = [t[0] for t in enumerate(lemmata_list) if re.search(\"populis\", t[1], re.IGNORECASE)]\n",
    "inxs[:10]"
   ],
   "metadata": {
    "collapsed": false
   }
  },
  {
   "cell_type": "code",
   "execution_count": 18,
   "outputs": [],
   "source": [
    "def get_concordance(lemmata_list, inxs, left=1, right=1):\n",
    "    conc_data = [\" \".join(lemmata_list[i-left: i+right+1]) for i in inxs]\n",
    "    return conc_data"
   ],
   "metadata": {
    "collapsed": false
   }
  },
  {
   "cell_type": "code",
   "execution_count": 19,
   "outputs": [
    {
     "data": {
      "text/plain": "['global symbol democratic resilience face populism promise political renewal France Europe',\n 'uprising political crisis compare contemporary populist movement Europe the_ _United_States the_Yellow_Vests',\n 'unprecedented political change massively reject populist option offer Marine_Le_Pen Yellow Vests',\n 'permeate society distrust fuel rise populist party drive voter abstention unprecedented',\n 'separate Macron merged center-right center-left populist far right major sociological implication',\n 'entire crisis illustration divide democrats populist May_2019 European_Parliament election present opportunity',\n 'politic Macron elitist center Le_Pen_’s populist far right underlying sociological divide',\n 'Le_Pen_’s agreed-upon dichotomy progressive national populist one reflection sociological ideological realignment',\n 'underway french politic Macron elite populism populist protest movement emerge suddenly',\n 'french politic Macron elite populism populist protest movement emerge suddenly spectacularly']"
     },
     "execution_count": 19,
     "metadata": {},
     "output_type": "execute_result"
    }
   ],
   "source": [
    "get_concordance(lemmata_list, inxs[:10], 5,5)"
   ],
   "metadata": {
    "collapsed": false
   }
  },
  {
   "cell_type": "code",
   "execution_count": 20,
   "outputs": [],
   "source": [
    "destpath = \"../data/large_data/populis_conc5/\"\n",
    "try:\n",
    "    os.mkdir(destpath)\n",
    "except:\n",
    "    pass\n",
    "sourcepath = \"../data/large_data/articles_lemmata/\"\n",
    "for filename in os.listdir(sourcepath):\n",
    "    if \".txt\" in filename:\n",
    "        filepath = sourcepath + filename\n",
    "        with open(filepath, \"r\") as f:\n",
    "            lemmata = f.read()\n",
    "        lemmata_list = lemmata.split()\n",
    "        inxs = [t[0] for t in enumerate(lemmata_list) if re.search(\"populis\", t[1], re.IGNORECASE)]\n",
    "        conc_data = get_concordance(lemmata_list, inxs, 5,5)\n",
    "        with open(destpath + filename.replace(\"lemmata\", \"populis_conc5\"), \"w\") as f:\n",
    "            f.writelines(\"\\n\".join(conc_data))"
   ],
   "metadata": {
    "collapsed": false
   }
  },
  {
   "cell_type": "code",
   "execution_count": 21,
   "outputs": [],
   "source": [
    "destpath = \"../data/large_data/populis_conc10/\"\n",
    "try:\n",
    "    os.mkdir(destpath)\n",
    "except:\n",
    "    pass\n",
    "sourcepath = \"../data/large_data/articles_lemmata/\"\n",
    "for filename in os.listdir(sourcepath):\n",
    "    if \".txt\" in filename:\n",
    "        filepath = sourcepath + filename\n",
    "        with open(filepath, \"r\") as f:\n",
    "            lemmata = f.read()\n",
    "        lemmata_list = lemmata.split()\n",
    "        inxs = [t[0] for t in enumerate(lemmata_list) if re.search(\"populis\", t[1], re.IGNORECASE)]\n",
    "        conc_data = get_concordance(lemmata_list, inxs, 10,10)\n",
    "        with open(destpath + filename.replace(\"lemmata\", \"populis_conc10\"), \"w\") as f:\n",
    "            f.writelines(\"\\n\".join(conc_data))"
   ],
   "metadata": {
    "collapsed": false
   }
  },
  {
   "cell_type": "code",
   "execution_count": 79,
   "outputs": [],
   "source": [
    "destpath = \"../data/large_data/populis_conc15/\"\n",
    "try:\n",
    "    os.mkdir(destpath)\n",
    "except:\n",
    "    pass\n",
    "sourcepath = \"../data/large_data/articles_lemmata/\"\n",
    "for filename in os.listdir(sourcepath):\n",
    "    if \".txt\" in filename:\n",
    "        filepath = sourcepath + filename\n",
    "        with open(filepath, \"r\") as f:\n",
    "            lemmata = f.read()\n",
    "        lemmata_list = lemmata.split()\n",
    "        inxs = [t[0] for t in enumerate(lemmata_list) if re.search(\"populis\", t[1], re.IGNORECASE)]\n",
    "        conc_data = get_concordance(lemmata_list, inxs, 15,15)\n",
    "        with open(destpath + filename.replace(\"lemmata\", \"populis_conc15\"), \"w\") as f:\n",
    "            f.writelines(\"\\n\".join(conc_data))"
   ],
   "metadata": {
    "collapsed": false
   }
  },
  {
   "cell_type": "markdown",
   "source": [
    " # Extract populis* types"
   ],
   "metadata": {
    "collapsed": false
   }
  },
  {
   "cell_type": "code",
   "execution_count": 22,
   "outputs": [],
   "source": [
    "# all in one\n",
    "populism_types_raw = []\n",
    "sourcepath = \"../data/large_data/articles_lemmata/\"\n",
    "for filename in os.listdir(sourcepath):\n",
    "    if \".txt\" in filename:\n",
    "        filepath = sourcepath + filename\n",
    "        with open(filepath, \"r\") as f:\n",
    "            lemmata = f.read()\n",
    "        lemmata_list = lemmata.split()\n",
    "        inxs = [t[0] for t in enumerate(lemmata_list) if re.search(\"populis\", t[1], re.IGNORECASE)]\n",
    "        conc_data = get_concordance(lemmata_list, inxs, 1,-1)\n",
    "    populism_types_raw.extend(conc_data)"
   ],
   "metadata": {
    "collapsed": false
   }
  },
  {
   "cell_type": "code",
   "execution_count": 23,
   "outputs": [],
   "source": [
    "poptypes_freqs_raw = nltk.FreqDist(populism_types_raw).most_common()"
   ],
   "metadata": {
    "collapsed": false
   }
  },
  {
   "cell_type": "code",
   "execution_count": 24,
   "outputs": [
    {
     "data": {
      "text/plain": "[('right-wing', 1440),\n ('support', 497),\n ('rise', 397),\n ('party', 355),\n ('left-wing', 331),\n ('vote', 303),\n ('right', 297),\n ('effect', 261),\n ('study', 260),\n ('populism', 248),\n ('argue', 226),\n ('level', 220),\n ('concept', 216),\n ('relationship', 216),\n ('populist', 205),\n ('degree', 203),\n ('success', 201),\n ('form', 201),\n ('use', 200),\n ('measure', 193),\n ('case', 187),\n ('element', 173),\n ('type', 164),\n ('people', 162),\n ('new', 159),\n ('literature', 158),\n ('feature', 158),\n ('analysis', 158),\n ('deﬁnition', 151),\n ('democracy', 143),\n ('theory', 135),\n ('term', 132),\n ('definition', 131),\n ('consider', 129),\n ('contemporary', 125),\n ('approach', 124),\n ('research', 114),\n ('understand', 113),\n ('left', 111),\n ('rightwe', 110),\n ('power', 110),\n ('suggest', 108),\n ('keyword', 104),\n ('ideology', 102),\n ('politic', 102),\n ('explain', 102),\n ('view', 99),\n ('show', 98),\n ('strong', 98),\n ('emergence', 97),\n ('component', 97),\n ('nature', 96),\n ('radical', 96),\n ('impact', 95),\n ('authoritarian', 94),\n ('link', 92),\n ('mean', 91),\n ('latin_american', 91),\n ('european', 90),\n ('american', 90),\n ('deﬁne', 88),\n ('dimension', 88),\n ('aspect', 88),\n ('label', 87),\n ('define', 87),\n ('efficacy', 87),\n ('policy', 85),\n ('associate', 84),\n ('successful', 84),\n ('nationalism', 84),\n ('exclusionary', 82),\n ('way', 81),\n ('characteristic', 81),\n ('include', 81),\n ('voting', 81),\n ('first', 81),\n ('elite', 80),\n ('class', 80),\n ('find', 77),\n ('understanding', 77),\n ('extent', 77),\n ('distinguish', 75),\n ('expect', 73),\n ('example', 73),\n ('identify', 73),\n ('debate', 72),\n ('claim', 72),\n ('leave', 71),\n ('focus', 71),\n ('presence', 71),\n ('discourse', 70),\n ('elect', 70),\n ('nationalist', 68),\n ('country', 66),\n ('attitude', 66),\n ('account', 65),\n ('fact', 65),\n ('notion', 65),\n ('leftist', 65),\n ('challenge', 64)]"
     },
     "execution_count": 24,
     "metadata": {},
     "output_type": "execute_result"
    }
   ],
   "source": [
    "poptypes_freqs_raw[:100]"
   ],
   "metadata": {
    "collapsed": false
   }
  },
  {
   "cell_type": "code",
   "execution_count": 25,
   "outputs": [
    {
     "data": {
      "text/plain": "['right-wing',\n 'right',\n 'rightwe',\n 'radical-right',\n 'far-right',\n 'rightist',\n 'rights-oriented',\n 'right-leaning',\n 'radicalright',\n 'rightwing',\n 'extreme-right',\n 'rights-based',\n 'farright',\n 'left-right',\n 'right-',\n 'radical-right-wing']"
     },
     "execution_count": 25,
     "metadata": {},
     "output_type": "execute_result"
    }
   ],
   "source": [
    "[tup[0] for tup in poptypes_freqs_raw if (re.search(r\"right\", tup[0])) and (tup[1]>1)]"
   ],
   "metadata": {
    "collapsed": false
   }
  },
  {
   "cell_type": "code",
   "execution_count": 26,
   "outputs": [
    {
     "data": {
      "text/plain": "['left-wing',\n 'left',\n 'leftist',\n 'radical-left',\n 'leftwing',\n 'left-leaning',\n 'leftwe',\n 'left-libertarian',\n 'center-left',\n 'left-populist',\n 'leftism',\n 'left-right',\n 'radicalleft']"
     },
     "execution_count": 26,
     "metadata": {},
     "output_type": "execute_result"
    }
   ],
   "source": [
    "[tup[0] for tup in poptypes_freqs_raw if (re.search(r\"left\", tup[0])) and (tup[1]>1)]"
   ],
   "metadata": {
    "collapsed": false
   }
  },
  {
   "cell_type": "code",
   "execution_count": 27,
   "outputs": [],
   "source": [
    "poptypes_dict = {\"right-wing\" :\n",
    "                     ['right-wing', 'right', 'rightwe', 'radical-right', 'radical-right-wing', 'far-right', 'rightist', 'right-leaning', 'radicalright', 'rightwing', 'extreme-right', 'farright'],\n",
    "                 \"left-wing\":\n",
    "                    ['left-wing', 'left', 'leftist', 'radical-left', 'leftwing', 'left-leaning', 'leftwe', 'leftism', 'center-left', 'radicalleft'],\n",
    "                      #'left-libertarian',\n",
    "                      #'center-left',\n",
    "                 \"nationalist\" :\n",
    "                     ['nationalism', 'nationalist', 'national', 'nation', 'ethno-nationalist','nationalistic', 'neo-nationalism', 'nationalisms'],\n",
    "                 #\"ethno\" :\n",
    "                     # ['ethno', 'ethno-nationalist', 'ethnoregionalist'],\n",
    "                 \"nativist\" :\n",
    "                     ['nativism', 'nativist'],\n",
    "                 \"radical\" :\n",
    "                     ['radical',  'radicalism', 'radically'],\n",
    "                     # 'radical-democratic'\n",
    "                 \"moderate\" :\n",
    "                     [\"moderate\", \"moderately\"],\n",
    "                 \"authoritatian\" :\n",
    "                     ['authoritarian', 'authoritarianism'],\n",
    "                 \"inclusive\" :\n",
    "                     ['inclusionary', 'inclusive', 'inclusion'],\n",
    "                 \"exclusive\" :\n",
    "                     ['exclusionary', 'exclusion', 'exclusive', 'exclusively', 'exclusionist'],\n",
    "                 \"neoliberal\" :\n",
    "                     ['neoliberal', 'neo-liberal', 'Neoliberalism', 'neoliberalism', 'Neoliberal']\n",
    "                 }"
   ],
   "metadata": {
    "collapsed": false
   }
  },
  {
   "cell_type": "code",
   "execution_count": 28,
   "outputs": [],
   "source": [
    "poptypes_counts = []\n",
    "for key in poptypes_dict.keys():\n",
    "    poptypes_counts.append([key, sum([tup[1] for tup in poptypes_freqs_raw if tup[0] in poptypes_dict[key]])])"
   ],
   "metadata": {
    "collapsed": false
   }
  },
  {
   "cell_type": "code",
   "execution_count": 29,
   "outputs": [
    {
     "data": {
      "text/plain": "40019"
     },
     "execution_count": 29,
     "metadata": {},
     "output_type": "execute_result"
    }
   ],
   "source": [
    "sum([tup[1] for tup in poptypes_freqs_raw])"
   ],
   "metadata": {
    "collapsed": false
   }
  },
  {
   "cell_type": "code",
   "execution_count": 30,
   "outputs": [
    {
     "data": {
      "text/plain": "         poptype  count\n0     right-wing   1967\n1      left-wing    582\n2    nationalist    214\n3       nativist     73\n4        radical    104\n5       moderate     42\n6  authoritatian    157\n7      inclusive     69\n8      exclusive    108\n9     neoliberal     64",
      "text/html": "<div>\n<style scoped>\n    .dataframe tbody tr th:only-of-type {\n        vertical-align: middle;\n    }\n\n    .dataframe tbody tr th {\n        vertical-align: top;\n    }\n\n    .dataframe thead th {\n        text-align: right;\n    }\n</style>\n<table border=\"1\" class=\"dataframe\">\n  <thead>\n    <tr style=\"text-align: right;\">\n      <th></th>\n      <th>poptype</th>\n      <th>count</th>\n    </tr>\n  </thead>\n  <tbody>\n    <tr>\n      <th>0</th>\n      <td>right-wing</td>\n      <td>1967</td>\n    </tr>\n    <tr>\n      <th>1</th>\n      <td>left-wing</td>\n      <td>582</td>\n    </tr>\n    <tr>\n      <th>2</th>\n      <td>nationalist</td>\n      <td>214</td>\n    </tr>\n    <tr>\n      <th>3</th>\n      <td>nativist</td>\n      <td>73</td>\n    </tr>\n    <tr>\n      <th>4</th>\n      <td>radical</td>\n      <td>104</td>\n    </tr>\n    <tr>\n      <th>5</th>\n      <td>moderate</td>\n      <td>42</td>\n    </tr>\n    <tr>\n      <th>6</th>\n      <td>authoritatian</td>\n      <td>157</td>\n    </tr>\n    <tr>\n      <th>7</th>\n      <td>inclusive</td>\n      <td>69</td>\n    </tr>\n    <tr>\n      <th>8</th>\n      <td>exclusive</td>\n      <td>108</td>\n    </tr>\n    <tr>\n      <th>9</th>\n      <td>neoliberal</td>\n      <td>64</td>\n    </tr>\n  </tbody>\n</table>\n</div>"
     },
     "execution_count": 30,
     "metadata": {},
     "output_type": "execute_result"
    }
   ],
   "source": [
    "poptypes_df = pd.DataFrame(poptypes_counts, columns=[\"poptype\", \"count\"])\n",
    "poptypes_df"
   ],
   "metadata": {
    "collapsed": false
   }
  },
  {
   "cell_type": "code",
   "execution_count": 31,
   "outputs": [
    {
     "data": {
      "text/plain": "         poptype  count  proportion_pct\n0     right-wing   1967        4.915165\n1      left-wing    582        1.454309\n2    nationalist    214        0.534746\n3       nativist     73        0.182413\n4        radical    104        0.259877\n5       moderate     42        0.104950\n6  authoritatian    157        0.392314\n7      inclusive     69        0.172418\n8      exclusive    108        0.269872\n9     neoliberal     64        0.159924",
      "text/html": "<div>\n<style scoped>\n    .dataframe tbody tr th:only-of-type {\n        vertical-align: middle;\n    }\n\n    .dataframe tbody tr th {\n        vertical-align: top;\n    }\n\n    .dataframe thead th {\n        text-align: right;\n    }\n</style>\n<table border=\"1\" class=\"dataframe\">\n  <thead>\n    <tr style=\"text-align: right;\">\n      <th></th>\n      <th>poptype</th>\n      <th>count</th>\n      <th>proportion_pct</th>\n    </tr>\n  </thead>\n  <tbody>\n    <tr>\n      <th>0</th>\n      <td>right-wing</td>\n      <td>1967</td>\n      <td>4.915165</td>\n    </tr>\n    <tr>\n      <th>1</th>\n      <td>left-wing</td>\n      <td>582</td>\n      <td>1.454309</td>\n    </tr>\n    <tr>\n      <th>2</th>\n      <td>nationalist</td>\n      <td>214</td>\n      <td>0.534746</td>\n    </tr>\n    <tr>\n      <th>3</th>\n      <td>nativist</td>\n      <td>73</td>\n      <td>0.182413</td>\n    </tr>\n    <tr>\n      <th>4</th>\n      <td>radical</td>\n      <td>104</td>\n      <td>0.259877</td>\n    </tr>\n    <tr>\n      <th>5</th>\n      <td>moderate</td>\n      <td>42</td>\n      <td>0.104950</td>\n    </tr>\n    <tr>\n      <th>6</th>\n      <td>authoritatian</td>\n      <td>157</td>\n      <td>0.392314</td>\n    </tr>\n    <tr>\n      <th>7</th>\n      <td>inclusive</td>\n      <td>69</td>\n      <td>0.172418</td>\n    </tr>\n    <tr>\n      <th>8</th>\n      <td>exclusive</td>\n      <td>108</td>\n      <td>0.269872</td>\n    </tr>\n    <tr>\n      <th>9</th>\n      <td>neoliberal</td>\n      <td>64</td>\n      <td>0.159924</td>\n    </tr>\n  </tbody>\n</table>\n</div>"
     },
     "execution_count": 31,
     "metadata": {},
     "output_type": "execute_result"
    }
   ],
   "source": [
    "poptypes_df[\"proportion_pct\"] = (poptypes_df[\"count\"] / sum([tup[1] for tup in poptypes_freqs_raw]) * 100)\n",
    "poptypes_df"
   ],
   "metadata": {
    "collapsed": false
   }
  },
  {
   "cell_type": "code",
   "execution_count": 32,
   "outputs": [
    {
     "data": {
      "text/plain": "         poptype  count  proportion_pct\n0     right-wing   1967       58.195266\n1      left-wing    582       17.218935\n2    nationalist    214        6.331361\n3       nativist     73        2.159763\n4        radical    104        3.076923\n5       moderate     42        1.242604\n6  authoritatian    157        4.644970\n7      inclusive     69        2.041420\n8      exclusive    108        3.195266\n9     neoliberal     64        1.893491",
      "text/html": "<div>\n<style scoped>\n    .dataframe tbody tr th:only-of-type {\n        vertical-align: middle;\n    }\n\n    .dataframe tbody tr th {\n        vertical-align: top;\n    }\n\n    .dataframe thead th {\n        text-align: right;\n    }\n</style>\n<table border=\"1\" class=\"dataframe\">\n  <thead>\n    <tr style=\"text-align: right;\">\n      <th></th>\n      <th>poptype</th>\n      <th>count</th>\n      <th>proportion_pct</th>\n    </tr>\n  </thead>\n  <tbody>\n    <tr>\n      <th>0</th>\n      <td>right-wing</td>\n      <td>1967</td>\n      <td>58.195266</td>\n    </tr>\n    <tr>\n      <th>1</th>\n      <td>left-wing</td>\n      <td>582</td>\n      <td>17.218935</td>\n    </tr>\n    <tr>\n      <th>2</th>\n      <td>nationalist</td>\n      <td>214</td>\n      <td>6.331361</td>\n    </tr>\n    <tr>\n      <th>3</th>\n      <td>nativist</td>\n      <td>73</td>\n      <td>2.159763</td>\n    </tr>\n    <tr>\n      <th>4</th>\n      <td>radical</td>\n      <td>104</td>\n      <td>3.076923</td>\n    </tr>\n    <tr>\n      <th>5</th>\n      <td>moderate</td>\n      <td>42</td>\n      <td>1.242604</td>\n    </tr>\n    <tr>\n      <th>6</th>\n      <td>authoritatian</td>\n      <td>157</td>\n      <td>4.644970</td>\n    </tr>\n    <tr>\n      <th>7</th>\n      <td>inclusive</td>\n      <td>69</td>\n      <td>2.041420</td>\n    </tr>\n    <tr>\n      <th>8</th>\n      <td>exclusive</td>\n      <td>108</td>\n      <td>3.195266</td>\n    </tr>\n    <tr>\n      <th>9</th>\n      <td>neoliberal</td>\n      <td>64</td>\n      <td>1.893491</td>\n    </tr>\n  </tbody>\n</table>\n</div>"
     },
     "execution_count": 32,
     "metadata": {},
     "output_type": "execute_result"
    }
   ],
   "source": [
    "poptypes_df[\"proportion_pct\"] = (poptypes_df[\"count\"] / poptypes_df[\"count\"].sum() * 100)\n",
    "poptypes_df"
   ],
   "metadata": {
    "collapsed": false
   }
  },
  {
   "cell_type": "code",
   "execution_count": 33,
   "outputs": [
    {
     "data": {
      "text/plain": "         poptype  count  proportion_pct  \\\n0     right-wing   1967       58.195266   \n1      left-wing    582       17.218935   \n2    nationalist    214        6.331361   \n3       nativist     73        2.159763   \n4        radical    104        3.076923   \n5       moderate     42        1.242604   \n6  authoritatian    157        4.644970   \n7      inclusive     69        2.041420   \n8      exclusive    108        3.195266   \n9     neoliberal     64        1.893491   \n\n                                               words  \n0  [right-wing, right, rightwe, radical-right, ra...  \n1  [left-wing, left, leftist, radical-left, leftw...  \n2  [nationalism, nationalist, national, nation, n...  \n3                               [nativism, nativist]  \n4                   [radical, radicalism, radically]  \n5                             [moderate, moderately]  \n6                  [authoritarian, authoritarianism]  \n7               [inclusionary, inclusive, inclusion]  \n8  [exclusionary, exclusion, exclusive, exclusive...  \n9  [neoliberal, neo-liberal, Neoliberalism, neoli...  ",
      "text/html": "<div>\n<style scoped>\n    .dataframe tbody tr th:only-of-type {\n        vertical-align: middle;\n    }\n\n    .dataframe tbody tr th {\n        vertical-align: top;\n    }\n\n    .dataframe thead th {\n        text-align: right;\n    }\n</style>\n<table border=\"1\" class=\"dataframe\">\n  <thead>\n    <tr style=\"text-align: right;\">\n      <th></th>\n      <th>poptype</th>\n      <th>count</th>\n      <th>proportion_pct</th>\n      <th>words</th>\n    </tr>\n  </thead>\n  <tbody>\n    <tr>\n      <th>0</th>\n      <td>right-wing</td>\n      <td>1967</td>\n      <td>58.195266</td>\n      <td>[right-wing, right, rightwe, radical-right, ra...</td>\n    </tr>\n    <tr>\n      <th>1</th>\n      <td>left-wing</td>\n      <td>582</td>\n      <td>17.218935</td>\n      <td>[left-wing, left, leftist, radical-left, leftw...</td>\n    </tr>\n    <tr>\n      <th>2</th>\n      <td>nationalist</td>\n      <td>214</td>\n      <td>6.331361</td>\n      <td>[nationalism, nationalist, national, nation, n...</td>\n    </tr>\n    <tr>\n      <th>3</th>\n      <td>nativist</td>\n      <td>73</td>\n      <td>2.159763</td>\n      <td>[nativism, nativist]</td>\n    </tr>\n    <tr>\n      <th>4</th>\n      <td>radical</td>\n      <td>104</td>\n      <td>3.076923</td>\n      <td>[radical, radicalism, radically]</td>\n    </tr>\n    <tr>\n      <th>5</th>\n      <td>moderate</td>\n      <td>42</td>\n      <td>1.242604</td>\n      <td>[moderate, moderately]</td>\n    </tr>\n    <tr>\n      <th>6</th>\n      <td>authoritatian</td>\n      <td>157</td>\n      <td>4.644970</td>\n      <td>[authoritarian, authoritarianism]</td>\n    </tr>\n    <tr>\n      <th>7</th>\n      <td>inclusive</td>\n      <td>69</td>\n      <td>2.041420</td>\n      <td>[inclusionary, inclusive, inclusion]</td>\n    </tr>\n    <tr>\n      <th>8</th>\n      <td>exclusive</td>\n      <td>108</td>\n      <td>3.195266</td>\n      <td>[exclusionary, exclusion, exclusive, exclusive...</td>\n    </tr>\n    <tr>\n      <th>9</th>\n      <td>neoliberal</td>\n      <td>64</td>\n      <td>1.893491</td>\n      <td>[neoliberal, neo-liberal, Neoliberalism, neoli...</td>\n    </tr>\n  </tbody>\n</table>\n</div>"
     },
     "execution_count": 33,
     "metadata": {},
     "output_type": "execute_result"
    }
   ],
   "source": [
    "poptypes_df[\"words\"] = poptypes_df[\"poptype\"].apply(lambda x: poptypes_dict[x])\n",
    "poptypes_df"
   ],
   "metadata": {
    "collapsed": false
   }
  },
  {
   "cell_type": "code",
   "execution_count": 34,
   "outputs": [],
   "source": [
    "poptypes_df.to_csv(\"../data/poptypes_df.csv\")"
   ],
   "metadata": {
    "collapsed": false
   }
  },
  {
   "cell_type": "code",
   "execution_count": null,
   "outputs": [],
   "source": [],
   "metadata": {
    "collapsed": false
   }
  }
 ],
 "metadata": {
  "kernelspec": {
   "name": "conda_base",
   "language": "python",
   "display_name": "conda_base"
  },
  "language_info": {
   "codemirror_mode": {
    "name": "ipython",
    "version": 2
   },
   "file_extension": ".py",
   "mimetype": "text/x-python",
   "name": "python",
   "nbconvert_exporter": "python",
   "pygments_lexer": "ipython2",
   "version": "2.7.6"
  }
 },
 "nbformat": 4,
 "nbformat_minor": 0
}
