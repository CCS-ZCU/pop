{
 "cells": [
  {
   "cell_type": "code",
   "execution_count": 1,
   "outputs": [],
   "source": [
    "import pandas as pd\n",
    "import re\n",
    "import nltk\n",
    "import os\n",
    "import google_conf"
   ],
   "metadata": {
    "collapsed": false,
    "ExecuteTime": {
     "start_time": "2023-03-24T13:48:12.998807Z",
     "end_time": "2023-03-24T13:48:17.510130Z"
    }
   }
  },
  {
   "cell_type": "code",
   "execution_count": 2,
   "outputs": [],
   "source": [
    "pop_data = google_conf.setup(sheet_url=\"https://docs.google.com/spreadsheets/d/1o8L0Rt4CzQ_DcYdaKgCdige4nJs0sydlTGiMBSstQtc/edit?usp=sharing\", service_account_path=\"../../ServiceAccountsKey.json\")"
   ],
   "metadata": {
    "collapsed": false,
    "ExecuteTime": {
     "start_time": "2023-03-24T13:48:17.509859Z",
     "end_time": "2023-03-24T13:48:19.559546Z"
    }
   }
  },
  {
   "cell_type": "code",
   "execution_count": 3,
   "outputs": [
    {
     "data": {
      "text/plain": "   pop_id  year                 authors                            journal  \\\n0       0  2011              Bos et al.            Political Communication   \n1       1  2019         Blassnig et al.            Political Communication   \n2       2  2017                Caramani  American Political Science Review   \n3       3  2020  Wuttke,Schimpf, Schoen  American Political Science Review   \n4       4  2014                   Treib  Journal of European Public Policy   \n\n                                               title     type  \\\n0  How the Media Shape Perceptions of Right-Wing ...  article   \n1  Hitting a Nerve: Populist News Articles Lead t...  article   \n2  Will vs. Reason: The Populist and Technocratic...  article   \n3  When the Whole Is Greater than the Sum of Its ...  article   \n4  The voter says no, but nobody listens: causes ...  article   \n\n                                            filepath  \n0  Political Communication/2011 - Bos et al. - Ho...  \n1  Political Communication/2019 - Blassing et al....  \n2  American Political Science Review/2017 - Caram...  \n3  American Political Science Review/2020 - Wuttk...  \n4  Journal of European Public Policy/2014 - Treib...  ",
      "text/html": "<div>\n<style scoped>\n    .dataframe tbody tr th:only-of-type {\n        vertical-align: middle;\n    }\n\n    .dataframe tbody tr th {\n        vertical-align: top;\n    }\n\n    .dataframe thead th {\n        text-align: right;\n    }\n</style>\n<table border=\"1\" class=\"dataframe\">\n  <thead>\n    <tr style=\"text-align: right;\">\n      <th></th>\n      <th>pop_id</th>\n      <th>year</th>\n      <th>authors</th>\n      <th>journal</th>\n      <th>title</th>\n      <th>type</th>\n      <th>filepath</th>\n    </tr>\n  </thead>\n  <tbody>\n    <tr>\n      <th>0</th>\n      <td>0</td>\n      <td>2011</td>\n      <td>Bos et al.</td>\n      <td>Political Communication</td>\n      <td>How the Media Shape Perceptions of Right-Wing ...</td>\n      <td>article</td>\n      <td>Political Communication/2011 - Bos et al. - Ho...</td>\n    </tr>\n    <tr>\n      <th>1</th>\n      <td>1</td>\n      <td>2019</td>\n      <td>Blassnig et al.</td>\n      <td>Political Communication</td>\n      <td>Hitting a Nerve: Populist News Articles Lead t...</td>\n      <td>article</td>\n      <td>Political Communication/2019 - Blassing et al....</td>\n    </tr>\n    <tr>\n      <th>2</th>\n      <td>2</td>\n      <td>2017</td>\n      <td>Caramani</td>\n      <td>American Political Science Review</td>\n      <td>Will vs. Reason: The Populist and Technocratic...</td>\n      <td>article</td>\n      <td>American Political Science Review/2017 - Caram...</td>\n    </tr>\n    <tr>\n      <th>3</th>\n      <td>3</td>\n      <td>2020</td>\n      <td>Wuttke,Schimpf, Schoen</td>\n      <td>American Political Science Review</td>\n      <td>When the Whole Is Greater than the Sum of Its ...</td>\n      <td>article</td>\n      <td>American Political Science Review/2020 - Wuttk...</td>\n    </tr>\n    <tr>\n      <th>4</th>\n      <td>4</td>\n      <td>2014</td>\n      <td>Treib</td>\n      <td>Journal of European Public Policy</td>\n      <td>The voter says no, but nobody listens: causes ...</td>\n      <td>article</td>\n      <td>Journal of European Public Policy/2014 - Treib...</td>\n    </tr>\n  </tbody>\n</table>\n</div>"
     },
     "execution_count": 3,
     "metadata": {},
     "output_type": "execute_result"
    }
   ],
   "source": [
    "articles_metadata = pd.read_json(\"../data/article_metadata.json\")\n",
    "articles_metadata.head(5)"
   ],
   "metadata": {
    "collapsed": false,
    "ExecuteTime": {
     "start_time": "2023-03-24T13:48:19.625653Z",
     "end_time": "2023-03-24T13:48:19.649094Z"
    }
   }
  },
  {
   "cell_type": "code",
   "execution_count": 4,
   "outputs": [],
   "source": [
    "popid_year_dict = dict(zip(articles_metadata[\"pop_id\"], articles_metadata[\"year\"]))"
   ],
   "metadata": {
    "collapsed": false,
    "ExecuteTime": {
     "start_time": "2023-03-24T13:48:19.644958Z",
     "end_time": "2023-03-24T13:48:19.649316Z"
    }
   }
  },
  {
   "cell_type": "code",
   "execution_count": 5,
   "outputs": [
    {
     "data": {
      "text/plain": "   pop_id  year                 authors                            journal  \\\n0       0  2011              Bos et al.            Political Communication   \n1       1  2019         Blassnig et al.            Political Communication   \n2       2  2017                Caramani  American Political Science Review   \n3       3  2020  Wuttke,Schimpf, Schoen  American Political Science Review   \n4       4  2014                   Treib  Journal of European Public Policy   \n\n                                               title     type  \\\n0  How the Media Shape Perceptions of Right-Wing ...  article   \n1  Hitting a Nerve: Populist News Articles Lead t...  article   \n2  Will vs. Reason: The Populist and Technocratic...  article   \n3  When the Whole Is Greater than the Sum of Its ...  article   \n4  The voter says no, but nobody listens: causes ...  article   \n\n                                            filepath  \n0  Political Communication/2011 - Bos et al. - Ho...  \n1  Political Communication/2019 - Blassing et al....  \n2  American Political Science Review/2017 - Caram...  \n3  American Political Science Review/2020 - Wuttk...  \n4  Journal of European Public Policy/2014 - Treib...  ",
      "text/html": "<div>\n<style scoped>\n    .dataframe tbody tr th:only-of-type {\n        vertical-align: middle;\n    }\n\n    .dataframe tbody tr th {\n        vertical-align: top;\n    }\n\n    .dataframe thead th {\n        text-align: right;\n    }\n</style>\n<table border=\"1\" class=\"dataframe\">\n  <thead>\n    <tr style=\"text-align: right;\">\n      <th></th>\n      <th>pop_id</th>\n      <th>year</th>\n      <th>authors</th>\n      <th>journal</th>\n      <th>title</th>\n      <th>type</th>\n      <th>filepath</th>\n    </tr>\n  </thead>\n  <tbody>\n    <tr>\n      <th>0</th>\n      <td>0</td>\n      <td>2011</td>\n      <td>Bos et al.</td>\n      <td>Political Communication</td>\n      <td>How the Media Shape Perceptions of Right-Wing ...</td>\n      <td>article</td>\n      <td>Political Communication/2011 - Bos et al. - Ho...</td>\n    </tr>\n    <tr>\n      <th>1</th>\n      <td>1</td>\n      <td>2019</td>\n      <td>Blassnig et al.</td>\n      <td>Political Communication</td>\n      <td>Hitting a Nerve: Populist News Articles Lead t...</td>\n      <td>article</td>\n      <td>Political Communication/2019 - Blassing et al....</td>\n    </tr>\n    <tr>\n      <th>2</th>\n      <td>2</td>\n      <td>2017</td>\n      <td>Caramani</td>\n      <td>American Political Science Review</td>\n      <td>Will vs. Reason: The Populist and Technocratic...</td>\n      <td>article</td>\n      <td>American Political Science Review/2017 - Caram...</td>\n    </tr>\n    <tr>\n      <th>3</th>\n      <td>3</td>\n      <td>2020</td>\n      <td>Wuttke,Schimpf, Schoen</td>\n      <td>American Political Science Review</td>\n      <td>When the Whole Is Greater than the Sum of Its ...</td>\n      <td>article</td>\n      <td>American Political Science Review/2020 - Wuttk...</td>\n    </tr>\n    <tr>\n      <th>4</th>\n      <td>4</td>\n      <td>2014</td>\n      <td>Treib</td>\n      <td>Journal of European Public Policy</td>\n      <td>The voter says no, but nobody listens: causes ...</td>\n      <td>article</td>\n      <td>Journal of European Public Policy/2014 - Treib...</td>\n    </tr>\n  </tbody>\n</table>\n</div>"
     },
     "execution_count": 5,
     "metadata": {},
     "output_type": "execute_result"
    }
   ],
   "source": [
    "articles_metadata.head(5)"
   ],
   "metadata": {
    "collapsed": false,
    "ExecuteTime": {
     "start_time": "2023-03-24T13:48:19.650126Z",
     "end_time": "2023-03-24T13:48:19.654458Z"
    }
   }
  },
  {
   "cell_type": "markdown",
   "source": [
    "# Populis* counts"
   ],
   "metadata": {
    "collapsed": false
   }
  },
  {
   "cell_type": "code",
   "execution_count": 6,
   "outputs": [
    {
     "data": {
      "text/plain": "     pop_id  year                 authors  \\\n0         0  2011              Bos et al.   \n1         1  2019         Blassnig et al.   \n2         2  2017                Caramani   \n3         3  2020  Wuttke,Schimpf, Schoen   \n4         4  2014                   Treib   \n..      ...   ...                     ...   \n536     536  2018          Grzymala-Busse   \n537     537  2017             Eichengreen   \n538     538  2014                   Mudde   \n539     539  2020                    Cano   \n540     540  2015                Lindgren   \n\n                                   journal  \\\n0                  Political Communication   \n1                  Political Communication   \n2        American Political Science Review   \n3        American Political Science Review   \n4        Journal of European Public Policy   \n..                                     ...   \n536                        Current History   \n537                        Current History   \n538                        Current History   \n539             European History Quarterly   \n540  Japanese Journal of Political Science   \n\n                                                 title     type  \\\n0    How the Media Shape Perceptions of Right-Wing ...  article   \n1    Hitting a Nerve: Populist News Articles Lead t...  article   \n2    Will vs. Reason: The Populist and Technocratic...  article   \n3    When the Whole Is Greater than the Sum of Its ...  article   \n4    The voter says no, but nobody listens: causes ...  article   \n..                                                 ...      ...   \n536                      Poland’s Path to Illiberalism  article   \n537             The Populist Turn in American Politics  article   \n538           The Far Right and the European Elections  article   \n539                                Printing the People  article   \n540  Developing Japanese Populism Research through ...  article   \n\n                                              filepath  \n0    Political Communication/2011 - Bos et al. - Ho...  \n1    Political Communication/2019 - Blassing et al....  \n2    American Political Science Review/2017 - Caram...  \n3    American Political Science Review/2020 - Wuttk...  \n4    Journal of European Public Policy/2014 - Treib...  \n..                                                 ...  \n536  Current History/2018 - Grzymala-Busse - Poland...  \n537  Current History/2017 - Eichengreen - The Popul...  \n538  Current History/2014 - Mudde - The Far Right a...  \n539  European History Quarterly/2020 - Cano - Print...  \n540  Japanese Journal of Political Science/2015 - L...  \n\n[539 rows x 7 columns]",
      "text/html": "<div>\n<style scoped>\n    .dataframe tbody tr th:only-of-type {\n        vertical-align: middle;\n    }\n\n    .dataframe tbody tr th {\n        vertical-align: top;\n    }\n\n    .dataframe thead th {\n        text-align: right;\n    }\n</style>\n<table border=\"1\" class=\"dataframe\">\n  <thead>\n    <tr style=\"text-align: right;\">\n      <th></th>\n      <th>pop_id</th>\n      <th>year</th>\n      <th>authors</th>\n      <th>journal</th>\n      <th>title</th>\n      <th>type</th>\n      <th>filepath</th>\n    </tr>\n  </thead>\n  <tbody>\n    <tr>\n      <th>0</th>\n      <td>0</td>\n      <td>2011</td>\n      <td>Bos et al.</td>\n      <td>Political Communication</td>\n      <td>How the Media Shape Perceptions of Right-Wing ...</td>\n      <td>article</td>\n      <td>Political Communication/2011 - Bos et al. - Ho...</td>\n    </tr>\n    <tr>\n      <th>1</th>\n      <td>1</td>\n      <td>2019</td>\n      <td>Blassnig et al.</td>\n      <td>Political Communication</td>\n      <td>Hitting a Nerve: Populist News Articles Lead t...</td>\n      <td>article</td>\n      <td>Political Communication/2019 - Blassing et al....</td>\n    </tr>\n    <tr>\n      <th>2</th>\n      <td>2</td>\n      <td>2017</td>\n      <td>Caramani</td>\n      <td>American Political Science Review</td>\n      <td>Will vs. Reason: The Populist and Technocratic...</td>\n      <td>article</td>\n      <td>American Political Science Review/2017 - Caram...</td>\n    </tr>\n    <tr>\n      <th>3</th>\n      <td>3</td>\n      <td>2020</td>\n      <td>Wuttke,Schimpf, Schoen</td>\n      <td>American Political Science Review</td>\n      <td>When the Whole Is Greater than the Sum of Its ...</td>\n      <td>article</td>\n      <td>American Political Science Review/2020 - Wuttk...</td>\n    </tr>\n    <tr>\n      <th>4</th>\n      <td>4</td>\n      <td>2014</td>\n      <td>Treib</td>\n      <td>Journal of European Public Policy</td>\n      <td>The voter says no, but nobody listens: causes ...</td>\n      <td>article</td>\n      <td>Journal of European Public Policy/2014 - Treib...</td>\n    </tr>\n    <tr>\n      <th>...</th>\n      <td>...</td>\n      <td>...</td>\n      <td>...</td>\n      <td>...</td>\n      <td>...</td>\n      <td>...</td>\n      <td>...</td>\n    </tr>\n    <tr>\n      <th>536</th>\n      <td>536</td>\n      <td>2018</td>\n      <td>Grzymala-Busse</td>\n      <td>Current History</td>\n      <td>Poland’s Path to Illiberalism</td>\n      <td>article</td>\n      <td>Current History/2018 - Grzymala-Busse - Poland...</td>\n    </tr>\n    <tr>\n      <th>537</th>\n      <td>537</td>\n      <td>2017</td>\n      <td>Eichengreen</td>\n      <td>Current History</td>\n      <td>The Populist Turn in American Politics</td>\n      <td>article</td>\n      <td>Current History/2017 - Eichengreen - The Popul...</td>\n    </tr>\n    <tr>\n      <th>538</th>\n      <td>538</td>\n      <td>2014</td>\n      <td>Mudde</td>\n      <td>Current History</td>\n      <td>The Far Right and the European Elections</td>\n      <td>article</td>\n      <td>Current History/2014 - Mudde - The Far Right a...</td>\n    </tr>\n    <tr>\n      <th>539</th>\n      <td>539</td>\n      <td>2020</td>\n      <td>Cano</td>\n      <td>European History Quarterly</td>\n      <td>Printing the People</td>\n      <td>article</td>\n      <td>European History Quarterly/2020 - Cano - Print...</td>\n    </tr>\n    <tr>\n      <th>540</th>\n      <td>540</td>\n      <td>2015</td>\n      <td>Lindgren</td>\n      <td>Japanese Journal of Political Science</td>\n      <td>Developing Japanese Populism Research through ...</td>\n      <td>article</td>\n      <td>Japanese Journal of Political Science/2015 - L...</td>\n    </tr>\n  </tbody>\n</table>\n<p>539 rows × 7 columns</p>\n</div>"
     },
     "execution_count": 6,
     "metadata": {},
     "output_type": "execute_result"
    }
   ],
   "source": [
    "articles_metadata"
   ],
   "metadata": {
    "collapsed": false,
    "ExecuteTime": {
     "start_time": "2023-03-24T13:48:19.658061Z",
     "end_time": "2023-03-24T13:48:19.660977Z"
    }
   }
  },
  {
   "cell_type": "code",
   "execution_count": 7,
   "outputs": [],
   "source": [
    "def get_pop_count(pop_id):\n",
    "    sourcepath = \"../data/large_data/articles_lemmata_min/\"\n",
    "    filename = \"lemmata_pop_id_{}.txt\".format(str(pop_id))\n",
    "    filepath = sourcepath + filename\n",
    "    with open(filepath, \"r\") as f:\n",
    "        lemmata = f.read()\n",
    "    lemmata_list = lemmata.split()\n",
    "    n = len([t[0] for t in enumerate(lemmata_list) if re.search(\"populis\", t[1], re.IGNORECASE)])\n",
    "    return n\n",
    "articles_metadata[\"populis*_N\"] = articles_metadata[\"pop_id\"].apply(get_pop_count)"
   ],
   "metadata": {
    "collapsed": false,
    "ExecuteTime": {
     "start_time": "2023-03-24T13:48:19.662428Z",
     "end_time": "2023-03-24T13:48:20.764999Z"
    }
   }
  },
  {
   "cell_type": "code",
   "execution_count": 8,
   "outputs": [
    {
     "data": {
      "text/plain": "39605"
     },
     "execution_count": 8,
     "metadata": {},
     "output_type": "execute_result"
    }
   ],
   "source": [
    "articles_metadata[\"populis*_N\"].sum()"
   ],
   "metadata": {
    "collapsed": false,
    "ExecuteTime": {
     "start_time": "2023-03-24T13:48:20.765244Z",
     "end_time": "2023-03-24T13:48:20.768746Z"
    }
   }
  },
  {
   "cell_type": "code",
   "execution_count": 9,
   "outputs": [
    {
     "data": {
      "text/plain": "   pop_id  year                 authors                            journal  \\\n0       0  2011              Bos et al.            Political Communication   \n1       1  2019         Blassnig et al.            Political Communication   \n2       2  2017                Caramani  American Political Science Review   \n3       3  2020  Wuttke,Schimpf, Schoen  American Political Science Review   \n4       4  2014                   Treib  Journal of European Public Policy   \n\n                                               title     type  \\\n0  How the Media Shape Perceptions of Right-Wing ...  article   \n1  Hitting a Nerve: Populist News Articles Lead t...  article   \n2  Will vs. Reason: The Populist and Technocratic...  article   \n3  When the Whole Is Greater than the Sum of Its ...  article   \n4  The voter says no, but nobody listens: causes ...  article   \n\n                                            filepath  \n0  Political Communication/2011 - Bos et al. - Ho...  \n1  Political Communication/2019 - Blassing et al....  \n2  American Political Science Review/2017 - Caram...  \n3  American Political Science Review/2020 - Wuttk...  \n4  Journal of European Public Policy/2014 - Treib...  ",
      "text/html": "<div>\n<style scoped>\n    .dataframe tbody tr th:only-of-type {\n        vertical-align: middle;\n    }\n\n    .dataframe tbody tr th {\n        vertical-align: top;\n    }\n\n    .dataframe thead th {\n        text-align: right;\n    }\n</style>\n<table border=\"1\" class=\"dataframe\">\n  <thead>\n    <tr style=\"text-align: right;\">\n      <th></th>\n      <th>pop_id</th>\n      <th>year</th>\n      <th>authors</th>\n      <th>journal</th>\n      <th>title</th>\n      <th>type</th>\n      <th>filepath</th>\n    </tr>\n  </thead>\n  <tbody>\n    <tr>\n      <th>0</th>\n      <td>0</td>\n      <td>2011</td>\n      <td>Bos et al.</td>\n      <td>Political Communication</td>\n      <td>How the Media Shape Perceptions of Right-Wing ...</td>\n      <td>article</td>\n      <td>Political Communication/2011 - Bos et al. - Ho...</td>\n    </tr>\n    <tr>\n      <th>1</th>\n      <td>1</td>\n      <td>2019</td>\n      <td>Blassnig et al.</td>\n      <td>Political Communication</td>\n      <td>Hitting a Nerve: Populist News Articles Lead t...</td>\n      <td>article</td>\n      <td>Political Communication/2019 - Blassing et al....</td>\n    </tr>\n    <tr>\n      <th>2</th>\n      <td>2</td>\n      <td>2017</td>\n      <td>Caramani</td>\n      <td>American Political Science Review</td>\n      <td>Will vs. Reason: The Populist and Technocratic...</td>\n      <td>article</td>\n      <td>American Political Science Review/2017 - Caram...</td>\n    </tr>\n    <tr>\n      <th>3</th>\n      <td>3</td>\n      <td>2020</td>\n      <td>Wuttke,Schimpf, Schoen</td>\n      <td>American Political Science Review</td>\n      <td>When the Whole Is Greater than the Sum of Its ...</td>\n      <td>article</td>\n      <td>American Political Science Review/2020 - Wuttk...</td>\n    </tr>\n    <tr>\n      <th>4</th>\n      <td>4</td>\n      <td>2014</td>\n      <td>Treib</td>\n      <td>Journal of European Public Policy</td>\n      <td>The voter says no, but nobody listens: causes ...</td>\n      <td>article</td>\n      <td>Journal of European Public Policy/2014 - Treib...</td>\n    </tr>\n  </tbody>\n</table>\n</div>"
     },
     "execution_count": 9,
     "metadata": {},
     "output_type": "execute_result"
    }
   ],
   "source": [
    "articles_metadata = pd.read_json(\"../data/article_metadata.json\")\n",
    "articles_metadata.head(5)"
   ],
   "metadata": {
    "collapsed": false,
    "ExecuteTime": {
     "start_time": "2023-03-24T13:48:25.745516Z",
     "end_time": "2023-03-24T13:48:25.767665Z"
    }
   }
  },
  {
   "cell_type": "code",
   "execution_count": 10,
   "outputs": [],
   "source": [
    "popid_year_dict = dict(zip(articles_metadata[\"pop_id\"], articles_metadata[\"year\"]))"
   ],
   "metadata": {
    "collapsed": false,
    "ExecuteTime": {
     "start_time": "2023-03-24T13:48:26.006430Z",
     "end_time": "2023-03-24T13:48:26.014092Z"
    }
   }
  },
  {
   "cell_type": "code",
   "execution_count": 11,
   "outputs": [
    {
     "data": {
      "text/plain": "   pop_id  year                 authors                            journal  \\\n0       0  2011              Bos et al.            Political Communication   \n1       1  2019         Blassnig et al.            Political Communication   \n2       2  2017                Caramani  American Political Science Review   \n3       3  2020  Wuttke,Schimpf, Schoen  American Political Science Review   \n4       4  2014                   Treib  Journal of European Public Policy   \n\n                                               title     type  \\\n0  How the Media Shape Perceptions of Right-Wing ...  article   \n1  Hitting a Nerve: Populist News Articles Lead t...  article   \n2  Will vs. Reason: The Populist and Technocratic...  article   \n3  When the Whole Is Greater than the Sum of Its ...  article   \n4  The voter says no, but nobody listens: causes ...  article   \n\n                                            filepath  \n0  Political Communication/2011 - Bos et al. - Ho...  \n1  Political Communication/2019 - Blassing et al....  \n2  American Political Science Review/2017 - Caram...  \n3  American Political Science Review/2020 - Wuttk...  \n4  Journal of European Public Policy/2014 - Treib...  ",
      "text/html": "<div>\n<style scoped>\n    .dataframe tbody tr th:only-of-type {\n        vertical-align: middle;\n    }\n\n    .dataframe tbody tr th {\n        vertical-align: top;\n    }\n\n    .dataframe thead th {\n        text-align: right;\n    }\n</style>\n<table border=\"1\" class=\"dataframe\">\n  <thead>\n    <tr style=\"text-align: right;\">\n      <th></th>\n      <th>pop_id</th>\n      <th>year</th>\n      <th>authors</th>\n      <th>journal</th>\n      <th>title</th>\n      <th>type</th>\n      <th>filepath</th>\n    </tr>\n  </thead>\n  <tbody>\n    <tr>\n      <th>0</th>\n      <td>0</td>\n      <td>2011</td>\n      <td>Bos et al.</td>\n      <td>Political Communication</td>\n      <td>How the Media Shape Perceptions of Right-Wing ...</td>\n      <td>article</td>\n      <td>Political Communication/2011 - Bos et al. - Ho...</td>\n    </tr>\n    <tr>\n      <th>1</th>\n      <td>1</td>\n      <td>2019</td>\n      <td>Blassnig et al.</td>\n      <td>Political Communication</td>\n      <td>Hitting a Nerve: Populist News Articles Lead t...</td>\n      <td>article</td>\n      <td>Political Communication/2019 - Blassing et al....</td>\n    </tr>\n    <tr>\n      <th>2</th>\n      <td>2</td>\n      <td>2017</td>\n      <td>Caramani</td>\n      <td>American Political Science Review</td>\n      <td>Will vs. Reason: The Populist and Technocratic...</td>\n      <td>article</td>\n      <td>American Political Science Review/2017 - Caram...</td>\n    </tr>\n    <tr>\n      <th>3</th>\n      <td>3</td>\n      <td>2020</td>\n      <td>Wuttke,Schimpf, Schoen</td>\n      <td>American Political Science Review</td>\n      <td>When the Whole Is Greater than the Sum of Its ...</td>\n      <td>article</td>\n      <td>American Political Science Review/2020 - Wuttk...</td>\n    </tr>\n    <tr>\n      <th>4</th>\n      <td>4</td>\n      <td>2014</td>\n      <td>Treib</td>\n      <td>Journal of European Public Policy</td>\n      <td>The voter says no, but nobody listens: causes ...</td>\n      <td>article</td>\n      <td>Journal of European Public Policy/2014 - Treib...</td>\n    </tr>\n  </tbody>\n</table>\n</div>"
     },
     "execution_count": 11,
     "metadata": {},
     "output_type": "execute_result"
    }
   ],
   "source": [
    "articles_metadata.head(5)"
   ],
   "metadata": {
    "collapsed": false,
    "ExecuteTime": {
     "start_time": "2023-03-24T13:48:26.834484Z",
     "end_time": "2023-03-24T13:48:26.843282Z"
    }
   }
  },
  {
   "cell_type": "markdown",
   "source": [
    "# Preparing for concordances"
   ],
   "metadata": {
    "collapsed": false
   }
  },
  {
   "cell_type": "code",
   "execution_count": 12,
   "outputs": [],
   "source": [
    "pop_id = 423"
   ],
   "metadata": {
    "collapsed": false,
    "ExecuteTime": {
     "start_time": "2023-03-24T13:48:30.075424Z",
     "end_time": "2023-03-24T13:48:30.088019Z"
    }
   }
  },
  {
   "cell_type": "code",
   "execution_count": 13,
   "outputs": [],
   "source": [
    "path = \"../data/large_data/articles_lemmata_min/\"\n",
    "filename = \"lemmata_pop_id_{}.txt\".format(str(pop_id))\n",
    "filepath = path + filename\n",
    "with open(filepath, \"r\") as f:\n",
    "    lemmatized_sentences = f.readlines()"
   ],
   "metadata": {
    "collapsed": false,
    "ExecuteTime": {
     "start_time": "2023-03-24T13:48:30.314057Z",
     "end_time": "2023-03-24T13:48:30.319899Z"
    }
   }
  },
  {
   "cell_type": "code",
   "execution_count": 14,
   "outputs": [
    {
     "data": {
      "text/plain": "['access use find print homepage latin american inclusive european exclusionary populism colonialism explanation cite article\\n',\n 'latin american inclusive european exclusionary populism colonialism explanation\\n',\n 'publish online\\n',\n 'submit article journal article view\\n',\n 'view relate article datum article view cite article latin american inclusive european exclusionary populism colonialism explanation dani article address fact latin-american populism inclusive european populism exclusionary argue colonialism important key understand development form populism\\n']"
     },
     "execution_count": 14,
     "metadata": {},
     "output_type": "execute_result"
    }
   ],
   "source": [
    "lemmatized_sentences[:5]"
   ],
   "metadata": {
    "collapsed": false,
    "ExecuteTime": {
     "start_time": "2023-03-24T13:48:30.756989Z",
     "end_time": "2023-03-24T13:48:30.763060Z"
    }
   }
  },
  {
   "cell_type": "code",
   "execution_count": 15,
   "outputs": [
    {
     "data": {
      "text/plain": "<re.Match object; span=(48, 56), match=' populis'>"
     },
     "execution_count": 15,
     "metadata": {},
     "output_type": "execute_result"
    }
   ],
   "source": [
    "sent = \"cxcxpopulis agree dichotomy progressive national populist\"\n",
    "re.search(r\"^populis|\\spopulis\", sent)"
   ],
   "metadata": {
    "collapsed": false,
    "ExecuteTime": {
     "start_time": "2023-03-24T13:48:31.026225Z",
     "end_time": "2023-03-24T13:48:31.032964Z"
    }
   }
  },
  {
   "cell_type": "code",
   "execution_count": 16,
   "outputs": [
    {
     "data": {
      "text/plain": "['access use find print homepage latin american inclusive european exclusionary populism colonialism explanation cite article\\n',\n 'latin american inclusive european exclusionary populism colonialism explanation\\n',\n 'view relate article datum article view cite article latin american inclusive european exclusionary populism colonialism explanation dani article address fact latin-american populism inclusive european populism exclusionary argue colonialism important key understand development form populism\\n',\n 'follow characterization populism link colonialism conceptualization people article analyse case study support claim\\n',\n 'latin-american populism remain significant force year\\n',\n 'movement important european radical right populist movement\\n',\n 'finally article show important case broad picture role colonial relationship shape development exclusionary inclusive populism\\n',\n 'joint work populism rowira-kaltwasser argue comparative analysis phenomenon consider expression term inclusion exclusion\\n',\n 'present paper agree claim contend addition colonialism constitute main parameter explain development inclusive exclusionary populism\\n',\n 'modern notion populism emerge late century russian empire\\n',\n 'mid-1900s populist movement reappear especially play central role decade\\n',\n 'military dictatorship suffer south american country subsequent democratization process extinguish populist phenomenon concept disappear political science literature\\n',\n 'nonetheless populist party movement take centre stage political scene\\n',\n 'populist party office join government coalition emerge part active significant opposition render populism dynamic political phenomena\\n',\n 'despite widespread recognition importance populist phenomenon today term easily define\\n',\n 'building suggestion populism well understand family phenomena paper consider populism divisible main type base follow general doctrine inclusive call exclusionary populism\\n',\n 'cross-regional comparison show european populism latin-american populism inclusive\\n',\n 'present research attempt phenomenon colonialism help explain notable difference western european expression populism\\n',\n 'colonialism provide single explanation expression populism inclusive populism appear colonized country exclusionary populism colonialist one article argue colonialism important key understand development form populism\\n',\n 'selection case base fact salient movement latin american western european populism\\n',\n 'peronism arguably populist phenomenon\\n',\n 'influential populist movement emergence radical right populism leadership emerge european election voted-for party\\n',\n 'inclusive exclusionary populism define loose ideology different primordial community belief people inclusive exclusionary populism virtuous xenophobia welfare chauvinism\\n',\n 'present article consider populist phenomenon political project combine common ideological analysis populism discursive aspect emerge society conflict inclusion exclusion subordinated group central\\n',\n 'thin definition populism understand ideology consider society ultimately separate homogeneous antagonistic group pure people corrupt elite argue politic expression volonté generale people\\n',\n 'populist ideology build polysemic character concept alternative meaning\\n',\n 'populist movement leader alternate signified attach signifi people\\n',\n 'stress meaning mean leave element ground populism success precisely ability articulate meaning discursively\\n',\n 'diverse way differentiate inclusive exclusionary populism\\n',\n 'inclusive populist movement stress notion people plebeian allow political integration exclude social group process enlarge boundary democracy\\n',\n 'provide mean subordinated social group constitute political subject inclusive populist movement way group overcome exclusion\\n',\n 'partial populist movement structurally modify unequal distribution resource second claim inclusion base particularistic statement people universal\\n',\n 'contrast exclusionary populism emphasize organic understanding people ethnically culturally homogeneous unit\\n',\n 'exclusionary populism express certain social group confront threat exclusion subsequent dissolution identity subjectivity exclude weak group migrant worker ethnic minority\\n',\n 'similarly partial character inclusion note early exclusion partial social group support exclusionary populism movement protection exclusion welfare chauvinism\\n',\n 'inclusive populist movement use word people simultaneously denote nation plebeian common people\\n',\n 'rhetoric ritual characteristic inclusive populist rally identification leader rhetoric appeal mythical common strategy instil sense belong\\n',\n 'inclusive populist leader movement develop narrative exclude social group present central people\\n',\n 'populist late century explicitly include exclude group poor farmer industrial worker enumeration people latin-american populist movement postulate different exclude group poor native working class dark skinned core virtuous people\\n',\n 'populism constitute exclude group major component common usually opposition external internal foreign enemy elite respectively\\n',\n 'role leader inclusive populist movement pivotal embodiment exclude group\\n',\n 'discourse political success populist leader constitute group politically include subject group turn create successful leader group representative\\n',\n 'inclusive populist movement gain government presence usually improve material condition subordinate group way\\n',\n 'second inclusive populist movement example third-wave populism implement economic policy promote economic growth employment income redistribution\\n',\n 'addition inclusive populist movement promote support active political participation previously exclude group mechanism\\n',\n 'inclusive exclusionary populism participation populist movement grant member exclude group access political power local level member parliament minister populist movement leadership\\n',\n 'populism repoliticize issue depoliticize transform professional technocratic question modification\\n',\n 'similar inclusive populism exclusionary populism operate symbolic material political dimension\\n',\n 'conceptualize populist phenomenon comprise inclusive exclusionary element bring ask condition specific emergence form populism\\n',\n 'nature race worker chinese race wonderful manual dexterity sense honor govern justice levy return blessing government ample allowance conquering race inclusive exclusionary populism satisfied race tiller soil treat kindness humanity race master soldier european race\\n',\n 'hierarchic exclusionary trait continue influence conceptualization people effect influence populist movement depend position movement vis-à-vi colonial relationship\\n',\n 'inclusive populism anti-colonialism wave populism especially appear associate name\\n',\n 'latin populism emerge country periphery capitalism need overcome entrenched legacy colonialism elite class economic privilege maintain exploitative system commodity manifest anti-elitist approach inclusive\\n',\n 'wave emergence populism associate development dependent capitalism political activation popular sector seek expansion closed political system\\n',\n 'latin american populist movement bear mobilization exclude social group internal migrant new urban worker peasant indigenous group accompany frequent organized appearance masse public sphere\\n',\n 'urbanization industrialization demographic explosion technological social change agrarian world play important part rise latin american populism inclusivity take place redistributive symbolic political\\n',\n 'populist leader adopt economic model emphasize role state economy\\n',\n 'populist socio-economic policy lead partial redistribution income wealth benefit exclude masse\\n',\n 'recently third-wave populist leader attempt redistributive reform eliminate vestige colonialism\\n',\n 'latin american populism use concept people symbolically include exclude colonial world category people synonymous colonial subaltern\\n',\n 'heterogeneous conceptualization identity latin american people clear opposition european exclusionary nativism frame inclusive character populism\\n',\n 'emergence identity process anti-colonialist struggle emphasize relationship inclusive exclusionary populism inclusive character fact colonized sub continent\\n',\n 'populist discourse blend nationalism anti-colonialist anti-imperialist nativism emphasize pride indigenous past indigenous non-white root true people\\n',\n 'stark contrast european colonizer racist hierarchy latin american populism propose continent free racial struggle offer humanity birth new race mestizo race\\n',\n 'opposition populist movement depict ally colonialism neo-colonialism imperialism\\n',\n 'populism identify nationalism cultural pride xenophobic hard time\\n',\n 'symbolic device populism provide exclude masse overarch identity\\n',\n 'peronist discourse example way inclusive south american populism posit people include colonized antonym colonialist represent alien\\n',\n 'populist view history history colonial pillage history struggle colonialism local ally\\n',\n 'present mestizo nativism claim argentinian people conform inclusive exclusionary populism merging european root original people\\n',\n 'true populist fashion argue mestizo nativism principally characterize popular culture\\n',\n 'example way colonial relationship structure populism inclusive insofar collective subjectivity constitute opposition colonizing practice ally local elite\\n',\n 'discourse populist leader inclusionary definition people intertwine anti-colonialism.[r]ace class central source identification concept\\n',\n 'note inclusive character way inclusion intertwine discursive anti-colonialism—does mean latin-american populism particular radical movement\\n',\n 'populism colonial conceptualization demos populism consider peripheral phenomenon century century latin-american\\n',\n 'despite experience italian social scientist consider populism non-european phenomenon\\n',\n 'expand rapidly claim agreement main area sustained populist growth success year establish democracy\\n',\n 'populist movement key political force country member govern coalition\\n',\n 'condition emergence populist movement include social process crisis keynesian transition neoliberal globalization model european integration result threat national identity wave immigration country colony dismemberment satellite country crisis socialism communism ideology subordinate social group demise mass political party main mediator society state\\n',\n 'populist movement surface late belong exclusionary sub-family reflect accordingly agenda doctrine political goal\\n',\n 'western european brand exclusionary populism build notion people organic unit\\n',\n 'assert discussion exclusionary populism base notion people ethno\\n',\n 'european populism set true organic root local people globalize elite denounce political system betrayal ethno-cultural territorial identity\\n',\n 'western european populist movement achieve symbolic internal homogenization exclusion immigrant non-local\\n',\n 'xenophobia fundamental characteristic western european populism\\n',\n 'local level populist aggressively defend monoculturalism support cultural policy design defend root reverse process deracination\\n',\n 'inclusive exclusionary populism exclusionary populism people nation case community language interest race memory culture man blossom\\n',\n 'exemplify colonial experience world view influence structure exclusionary populism\\n',\n 'contrast mestizo nativism latin american populism discuss early see ideology metissage threat belief threat french security\\n',\n 'radical right populist movement exemplify way colonial past colonial world view strongly influence exclusionary character populism\\n',\n 'exclusionary populist politician revindicate dutch colonial past attack support erection number national slavery memorial compare exclusionary populism racist ideology ground dutch colonialism\\n',\n 'comparison dutch french exclusionary populism share colonial experience\\n',\n 'exclusionary conception demos characteristic common european right populist party exclusionary character relate fact colonial subject migrate metropolis rekindle form exclusion racism set political pressure narrowing inclusive exclusionary populism citizenship\\n',\n 'conclusion include perspective colonialism coloniality analysis populism helps elucidate define difference latin american western european version ideology\\n',\n 'give expression populism define pure people corrupt elite determine movement inclusive exclusionary\\n',\n 'latin american populism characterize mestizo anti-colonialist nativism\\n',\n 'discuss relation term mestizaje latin american populist movement people constitute partial inclusion different ethnic social group\\n',\n 'especially populism emerge consequence process trigger decolonization\\n',\n 'populism reproduce ethnocentrism characteristic colonialism\\n',\n 'anti-immigration sentiment strong fuel development western european radical right populism\\n',\n 'immigrant target exclusionary populist movement european country come colony country\\n',\n 'relative position colonial relationship colonizer colonize influence different group designate signifi people articulate facilitate emergence respectively exclusionary inclusive form populism\\n',\n 'clear example way colonial relationship differently shape type populism case\\n',\n 'example populist movement inclusive symbolic material political level\\n',\n 'movement example way european colonial experience contribute development exclusionary form populism\\n',\n 'past colonial history position society vis-à-vi colonial relationship explain emergence populist movement\\n',\n 'exclusionary populist party gain force lately colonial power significant populist movement emergence consider left-wing populism\\n',\n 'early analysis show colonial history play important role understanding latin american populism inclusive western european counterpart exclusionary\\n',\n 'colonial perspective guide research ask emergence allegedly leave populist movement response colonial overtone relation\\n']"
     },
     "execution_count": 16,
     "metadata": {},
     "output_type": "execute_result"
    }
   ],
   "source": [
    "[sent for sent in lemmatized_sentences if re.search(r\"^populis|\\spopulis\", sent)]"
   ],
   "metadata": {
    "collapsed": false,
    "ExecuteTime": {
     "start_time": "2023-03-24T13:48:31.540038Z",
     "end_time": "2023-03-24T13:48:31.544151Z"
    }
   }
  },
  {
   "cell_type": "code",
   "execution_count": 17,
   "outputs": [],
   "source": [
    "def read_lemmatized_sents(pop_id):\n",
    "    path = \"../data/large_data/articles_lemmata_min/\"\n",
    "    filename = \"lemmata_pop_id_{}.txt\".format(str(pop_id))\n",
    "    filepath = path + filename\n",
    "    with open(filepath, \"r\") as f:\n",
    "        lemmatized_sentences = f.readlines()\n",
    "    return lemmatized_sentences"
   ],
   "metadata": {
    "collapsed": false,
    "ExecuteTime": {
     "start_time": "2023-03-24T13:48:32.514299Z",
     "end_time": "2023-03-24T13:48:32.524654Z"
    }
   }
  },
  {
   "cell_type": "code",
   "execution_count": 17,
   "outputs": [],
   "source": [],
   "metadata": {
    "collapsed": false,
    "ExecuteTime": {
     "start_time": "2023-03-24T13:48:32.971664Z",
     "end_time": "2023-03-24T13:48:32.977088Z"
    }
   }
  },
  {
   "cell_type": "code",
   "execution_count": 18,
   "outputs": [],
   "source": [
    "def extract_populis_sents(pop_id):\n",
    "    lemmatized_sentences = read_lemmatized_sents(pop_id)\n",
    "    populis_sents = [sent for sent in lemmatized_sentences if re.search(r\"^populis|\\spopulis\", sent)]\n",
    "    return populis_sents"
   ],
   "metadata": {
    "collapsed": false,
    "ExecuteTime": {
     "start_time": "2023-03-24T13:48:33.409823Z",
     "end_time": "2023-03-24T13:48:33.414799Z"
    }
   }
  },
  {
   "cell_type": "code",
   "execution_count": 19,
   "outputs": [
    {
     "data": {
      "text/plain": "['right-wing depend category define take quarter ep seat populist radical-right party make big gain\\n',\n 'strengthening populist radical right visible aspect fundamental transformation european transformation element include shift voter priority sea change mainstream-party agenda grow influence hungarian number mier illiberal democracy booster\\n',\n 'populist radical-right\\n',\n 'populist radical-right party outperform fellow liberal gain seat source\\n',\n 'particular populist radical-right party secure foothold national political system agenda appeal blend authoritarianism nativism populism\\n',\n 'turn century populist radical-right party contest election member state\\n',\n 'year follow financial crash touch great recession see emergence new successful left-populist party old new populist radical-right party receive electoral boost\\n',\n 'root populist upsurge twenty-first century lie primarily structural change occur mid- late-twentieth century\\n',\n 'great recession catalyst cause populism rise\\n',\n 'susceptible line argument favor leave right populist illiberal-democratic critique mainstream undemocratic liberalism\\n',\n 'point great recession succeed new crisis boost form populism populism radical right\\n',\n 'framing spike asylum seeker refugee crisis rhetoric link crisis terrorism create perfect storm populist radical right\\n',\n 'bring key security agenda voter receptive nativist authoritarian populist appeal\\n',\n 'mainstream journalist politician eagerly adopt populist radical right frame populist radical-right party politician merely remind voter use expression found leader original copy\\n',\n 'related separate change explain european election far right rise populism se\\n',\n 'development directly relate european voter grow focus immigration security support populist radical-right extreme-right party poll late\\n',\n 'british voting leave elect president support candidate large-enough number come hair breadth win presidency surprise come call year accurate year populist radical right\\n',\n 'consequently dominant medium frame key election epic battle embolden populist challenger embattle political establishment\\n',\n 'speculation rife populist radical right-party politician win upcoming election opinion poll show support actor drop significantly mid-2016 peak\\n',\n 'establish populist radical-right party notably\\n',\n 'czech president nominal social grow radical-right populist liken refugee crisis impending tsunami\\n',\n 'mainstream right-wing party particularly take restrictive stance immigration extreme extreme traditional populist radical party\\n',\n 'opportunistically seek help party bounce massive corruption scandal fight electoral challenge populist radical-right newcomer promise defend border million\\n',\n 'adopt authoritarian nativist populist rhetoric wake referendum party promise reduce control immigration bring net immigrant arrival hundred-thousand year\\n',\n 'manifesto contrast devote nearly half space theme line populist radical-right agenda protect citizen preserve way\\n',\n 'conservative undergo profound change separate interrelated process transform group hybrid populist radical right mainstream right\\n',\n 'like mainstream-right party evolve populist radical-right party wake refugee crisis\\n',\n 'unbowe party stand movement leave populist toughen stand na ve attempt win win far-right voter\\n',\n 'extreme example openly adopt discourse policy populist radical-right\\n',\n 'adopt full-fledged populist radical-right language proclaim stake today european way life\\n',\n 'rise populism fuel great recession story\\n',\n 'populism remain relevant rise populist radical right particular define european election\\n',\n 'populist radical-right party gain strength grow number european country refugee crisis bring populist radical-right politic heart european political life\\n',\n 'crisis lead mainstreaming normalization authoritarian nativist populist discourse policy continent\\n',\n 'country populist radical-right party notably transform conservative party european politic move right decade start neoliberal turn social-democratic party increase emphasis sociocultural issue wake attack\\n',\n 'populist radical-right usual suspect newcomer representation powerful\\n',\n 'far populist radicalright representative institution come exclusively\\n',\n 'polling far ahead party traditional populist radical-right party soon voice\\n',\n 'populist radical-right party remain divide plethora political group mainstream party group adopt frame policy particularly concern immigration integration\\n',\n 'center mind lie close populist radicalright program']"
     },
     "execution_count": 19,
     "metadata": {},
     "output_type": "execute_result"
    }
   ],
   "source": [
    "extract_populis_sents(62)"
   ],
   "metadata": {
    "collapsed": false,
    "ExecuteTime": {
     "start_time": "2023-03-24T13:48:35.582430Z",
     "end_time": "2023-03-24T13:48:35.588293Z"
    }
   }
  },
  {
   "cell_type": "code",
   "execution_count": 20,
   "outputs": [],
   "source": [
    "def freq_dict_from_sents(lemmatized_sentences):\n",
    "    sents_tokenized = [sent.split() for sent in lemmatized_sentences]\n",
    "    flat_lemmata = [t for sent in sents_tokenized for t in sent]\n",
    "    freq_dict = dict(nltk.FreqDist(flat_lemmata).most_common())\n",
    "    return freq_dict"
   ],
   "metadata": {
    "collapsed": false,
    "ExecuteTime": {
     "start_time": "2023-03-24T13:48:35.856204Z",
     "end_time": "2023-03-24T13:48:35.864285Z"
    }
   }
  },
  {
   "cell_type": "code",
   "execution_count": 21,
   "outputs": [
    {
     "data": {
      "text/plain": "{'populist': 38,\n 'party': 24,\n 'radical-right': 21,\n 'right': 11,\n 'radical': 9,\n 'european': 8,\n 'populism': 7,\n 'crisis': 7,\n 'voter': 5,\n 'election': 5,\n 'mainstream': 5,\n 'adopt': 5,\n 'change': 4,\n 'agenda': 4,\n 'grow': 4,\n 'political': 4,\n 'year': 4,\n 'great': 4,\n 'recession': 4,\n 'rise': 4,\n 'refugee': 4,\n 'immigration': 4,\n 'win': 4,\n 'gain': 3,\n 'number': 3,\n 'century': 3,\n 'new': 3,\n 'leave': 3,\n 'bring': 3,\n 'nativist': 3,\n 'authoritarian': 3,\n 'politician': 3,\n 'frame': 3,\n 'far': 3,\n 'support': 3,\n 'come': 3,\n 'extreme': 3,\n 'wake': 3,\n 'group': 3,\n 'policy': 3,\n 'right-wing': 2,\n 'define': 2,\n 'take': 2,\n 'seat': 2,\n 'transformation': 2,\n 'particular': 2,\n 'appeal': 2,\n 'turn': 2,\n 'electoral': 2,\n 'boost': 2,\n 'lie': 2,\n 'line': 2,\n 'rhetoric': 2,\n 'key': 2,\n 'security': 2,\n 'separate': 2,\n 'poll': 2,\n 'president': 2,\n 'notably': 2,\n 'particularly': 2,\n 'traditional': 2,\n 'newcomer': 2,\n 'promise': 2,\n 'way': 2,\n 'conservative': 2,\n 'transform': 2,\n 'stand': 2,\n 'discourse': 2,\n 'life': 2,\n 'remain': 2,\n 'country': 2,\n 'politic': 2,\n 'radicalright': 2,\n 'depend': 1,\n 'category': 1,\n 'quarter': 1,\n 'ep': 1,\n 'make': 1,\n 'big': 1,\n 'strengthening': 1,\n 'visible': 1,\n 'aspect': 1,\n 'fundamental': 1,\n 'element': 1,\n 'include': 1,\n 'shift': 1,\n 'priority': 1,\n 'sea': 1,\n 'mainstream-party': 1,\n 'influence': 1,\n 'hungarian': 1,\n 'mier': 1,\n 'illiberal': 1,\n 'democracy': 1,\n 'booster': 1,\n 'outperform': 1,\n 'fellow': 1,\n 'liberal': 1,\n 'source': 1,\n 'secure': 1,\n 'foothold': 1,\n 'national': 1,\n 'system': 1,\n 'blend': 1,\n 'authoritarianism': 1,\n 'nativism': 1,\n 'contest': 1,\n 'member': 1,\n 'state': 1,\n 'follow': 1,\n 'financial': 1,\n 'crash': 1,\n 'touch': 1,\n 'see': 1,\n 'emergence': 1,\n 'successful': 1,\n 'left-populist': 1,\n 'old': 1,\n 'receive': 1,\n 'root': 1,\n 'upsurge': 1,\n 'twenty-first': 1,\n 'primarily': 1,\n 'structural': 1,\n 'occur': 1,\n 'mid-': 1,\n 'late-twentieth': 1,\n 'catalyst': 1,\n 'cause': 1,\n 'susceptible': 1,\n 'argument': 1,\n 'favor': 1,\n 'illiberal-democratic': 1,\n 'critique': 1,\n 'undemocratic': 1,\n 'liberalism': 1,\n 'point': 1,\n 'succeed': 1,\n 'form': 1,\n 'framing': 1,\n 'spike': 1,\n 'asylum': 1,\n 'seeker': 1,\n 'link': 1,\n 'terrorism': 1,\n 'create': 1,\n 'perfect': 1,\n 'storm': 1,\n 'receptive': 1,\n 'journalist': 1,\n 'eagerly': 1,\n 'merely': 1,\n 'remind': 1,\n 'use': 1,\n 'expression': 1,\n 'found': 1,\n 'leader': 1,\n 'original': 1,\n 'copy': 1,\n 'related': 1,\n 'explain': 1,\n 'se': 1,\n 'development': 1,\n 'directly': 1,\n 'relate': 1,\n 'focus': 1,\n 'extreme-right': 1,\n 'late': 1,\n 'british': 1,\n 'voting': 1,\n 'elect': 1,\n 'candidate': 1,\n 'large-enough': 1,\n 'hair': 1,\n 'breadth': 1,\n 'presidency': 1,\n 'surprise': 1,\n 'call': 1,\n 'accurate': 1,\n 'consequently': 1,\n 'dominant': 1,\n 'medium': 1,\n 'epic': 1,\n 'battle': 1,\n 'embolden': 1,\n 'challenger': 1,\n 'embattle': 1,\n 'establishment': 1,\n 'speculation': 1,\n 'rife': 1,\n 'right-party': 1,\n 'upcoming': 1,\n 'opinion': 1,\n 'show': 1,\n 'actor': 1,\n 'drop': 1,\n 'significantly': 1,\n 'mid-2016': 1,\n 'peak': 1,\n 'establish': 1,\n 'czech': 1,\n 'nominal': 1,\n 'social': 1,\n 'liken': 1,\n 'impending': 1,\n 'tsunami': 1,\n 'restrictive': 1,\n 'stance': 1,\n 'opportunistically': 1,\n 'seek': 1,\n 'help': 1,\n 'bounce': 1,\n 'massive': 1,\n 'corruption': 1,\n 'scandal': 1,\n 'fight': 1,\n 'challenge': 1,\n 'defend': 1,\n 'border': 1,\n 'million': 1,\n 'referendum': 1,\n 'reduce': 1,\n 'control': 1,\n 'net': 1,\n 'immigrant': 1,\n 'arrival': 1,\n 'hundred-thousand': 1,\n 'manifesto': 1,\n 'contrast': 1,\n 'devote': 1,\n 'nearly': 1,\n 'half': 1,\n 'space': 1,\n 'theme': 1,\n 'protect': 1,\n 'citizen': 1,\n 'preserve': 1,\n 'undergo': 1,\n 'profound': 1,\n 'interrelated': 1,\n 'process': 1,\n 'hybrid': 1,\n 'like': 1,\n 'mainstream-right': 1,\n 'evolve': 1,\n 'unbowe': 1,\n 'movement': 1,\n 'toughen': 1,\n 'na': 1,\n 've': 1,\n 'attempt': 1,\n 'far-right': 1,\n 'example': 1,\n 'openly': 1,\n 'full-fledged': 1,\n 'language': 1,\n 'proclaim': 1,\n 'stake': 1,\n 'today': 1,\n 'fuel': 1,\n 'story': 1,\n 'relevant': 1,\n 'strength': 1,\n 'heart': 1,\n 'lead': 1,\n 'mainstreaming': 1,\n 'normalization': 1,\n 'continent': 1,\n 'move': 1,\n 'decade': 1,\n 'start': 1,\n 'neoliberal': 1,\n 'social-democratic': 1,\n 'increase': 1,\n 'emphasis': 1,\n 'sociocultural': 1,\n 'issue': 1,\n 'attack': 1,\n 'usual': 1,\n 'suspect': 1,\n 'representation': 1,\n 'powerful': 1,\n 'representative': 1,\n 'institution': 1,\n 'exclusively': 1,\n 'polling': 1,\n 'ahead': 1,\n 'soon': 1,\n 'voice': 1,\n 'divide': 1,\n 'plethora': 1,\n 'concern': 1,\n 'integration': 1,\n 'center': 1,\n 'mind': 1,\n 'close': 1,\n 'program': 1}"
     },
     "execution_count": 21,
     "metadata": {},
     "output_type": "execute_result"
    }
   ],
   "source": [
    "freq_dict_from_sents(extract_populis_sents(62))"
   ],
   "metadata": {
    "collapsed": false,
    "ExecuteTime": {
     "start_time": "2023-03-24T13:48:36.294941Z",
     "end_time": "2023-03-24T13:48:36.305210Z"
    }
   }
  },
  {
   "cell_type": "markdown",
   "source": [
    "# extract populis* sentences"
   ],
   "metadata": {
    "collapsed": false
   }
  },
  {
   "cell_type": "code",
   "execution_count": 24,
   "outputs": [],
   "source": [
    "destpath = \"../data/large_data/populis_sents_min/\"\n",
    "try:\n",
    "    os.mkdir(destpath)\n",
    "except:\n",
    "    pass\n",
    "sourcepath = \"../data/large_data/articles_lemmata_min/\"\n",
    "for pop_id in articles_metadata[\"pop_id\"]:\n",
    "    filename = \"lemmata_pop_id_{}.txt\".format(str(pop_id))\n",
    "    filepath = sourcepath + filename\n",
    "    with open(filepath, \"r\") as f:\n",
    "        lemmatized_sentences = f.readlines()\n",
    "    populis_sents = [sent for sent in lemmatized_sentences if re.search(r\"^populis|\\spopulis\", sent)]\n",
    "    with open(destpath + filename.replace(\"lemmata\", \"populis_sents\"), \"w\") as f:\n",
    "        f.writelines(populis_sents)"
   ],
   "metadata": {
    "collapsed": false
   }
  },
  {
   "cell_type": "markdown",
   "source": [
    "# extract concordances"
   ],
   "metadata": {
    "collapsed": false
   }
  },
  {
   "cell_type": "code",
   "execution_count": 22,
   "outputs": [],
   "source": [
    "def read_flat_lemmata(pop_id):\n",
    "    path = \"../data/large_data/articles_lemmata_min/\"\n",
    "    filename = \"lemmata_pop_id_{}.txt\".format(str(pop_id))\n",
    "    filepath = path + filename\n",
    "    with open(filepath, \"r\") as f:\n",
    "        lemmata= f.read()\n",
    "    lemmata_list = lemmata.split()\n",
    "    return lemmata_list"
   ],
   "metadata": {
    "collapsed": false,
    "ExecuteTime": {
     "start_time": "2023-03-24T13:48:50.326210Z",
     "end_time": "2023-03-24T13:48:50.334801Z"
    }
   }
  },
  {
   "cell_type": "code",
   "execution_count": 23,
   "outputs": [
    {
     "data": {
      "text/plain": "['access',\n 'use',\n 'find',\n 'print',\n 'homepage',\n 'latin',\n 'american',\n 'inclusive',\n 'european',\n 'exclusionary',\n 'populism',\n 'colonialism',\n 'explanation',\n 'cite',\n 'article',\n 'latin',\n 'american',\n 'inclusive',\n 'european',\n 'exclusionary']"
     },
     "execution_count": 23,
     "metadata": {},
     "output_type": "execute_result"
    }
   ],
   "source": [
    "lemmata_list = read_flat_lemmata(423)\n",
    "lemmata_list[:20]"
   ],
   "metadata": {
    "collapsed": false,
    "ExecuteTime": {
     "start_time": "2023-03-24T13:48:50.772784Z",
     "end_time": "2023-03-24T13:48:50.779744Z"
    }
   }
  },
  {
   "cell_type": "code",
   "execution_count": 24,
   "outputs": [
    {
     "data": {
      "text/plain": "3569"
     },
     "execution_count": 24,
     "metadata": {},
     "output_type": "execute_result"
    }
   ],
   "source": [
    "len(lemmata_list)"
   ],
   "metadata": {
    "collapsed": false,
    "ExecuteTime": {
     "start_time": "2023-03-24T13:48:51.392272Z",
     "end_time": "2023-03-24T13:48:51.398534Z"
    }
   }
  },
  {
   "cell_type": "code",
   "execution_count": 25,
   "outputs": [
    {
     "data": {
      "text/plain": "[10, 20, 43, 51, 54, 63, 66, 78, 88, 104]"
     },
     "execution_count": 25,
     "metadata": {},
     "output_type": "execute_result"
    }
   ],
   "source": [
    "inxs = [t[0] for t in enumerate(lemmata_list) if re.search(\"populis\", t[1], re.IGNORECASE)]\n",
    "inxs[:10]"
   ],
   "metadata": {
    "collapsed": false,
    "ExecuteTime": {
     "start_time": "2023-03-24T13:48:52.000691Z",
     "end_time": "2023-03-24T13:48:52.010021Z"
    }
   }
  },
  {
   "cell_type": "code",
   "execution_count": 26,
   "outputs": [],
   "source": [
    "def conc_margin_sensitive(lemmata_list, i, left, right):\n",
    "    left_i = i - left\n",
    "    right_i = i + right + 1\n",
    "    if left_i < 0:\n",
    "        left_i = 0\n",
    "    if right_i > len(lemmata_list) - 1:\n",
    "        right_i = len(lemmata_list) - 1\n",
    "    return \" \".join(lemmata_list[left_i: right_i])\n",
    "\n",
    "\n",
    "def get_concordance(lemmata_list, inxs, left=1, right=1):\n",
    "    conc_data = [conc_margin_sensitive(lemmata_list, i, left, right) for i in inxs]\n",
    "    # conc_data = [\" \".join(lemmata_list[i-left: i+right+1]) for i in inxs]\n",
    "    return conc_data"
   ],
   "metadata": {
    "collapsed": false,
    "ExecuteTime": {
     "start_time": "2023-03-24T13:48:52.630101Z",
     "end_time": "2023-03-24T13:48:52.635521Z"
    }
   }
  },
  {
   "cell_type": "code",
   "execution_count": 27,
   "outputs": [
    {
     "data": {
      "text/plain": "['latin american inclusive european exclusionary populism colonialism explanation cite article latin',\n 'latin american inclusive european exclusionary populism colonialism explanation publish online submit',\n 'latin american inclusive european exclusionary populism colonialism explanation dani article address',\n 'dani article address fact latin-american populism inclusive european populism exclusionary argue',\n 'fact latin-american populism inclusive european populism exclusionary argue colonialism important key',\n 'important key understand development form populism follow characterization populism link colonialism',\n 'development form populism follow characterization populism link colonialism conceptualization people article',\n 'case study support claim latin-american populism remain significant force year movement',\n 'movement important european radical right populist movement finally article show important',\n 'relationship shape development exclusionary inclusive populism introduction joint work populism rowira-kaltwasser']"
     },
     "execution_count": 27,
     "metadata": {},
     "output_type": "execute_result"
    }
   ],
   "source": [
    "conc_data = get_concordance(lemmata_list, inxs[:10], 5,5)\n",
    "conc_data"
   ],
   "metadata": {
    "collapsed": false,
    "ExecuteTime": {
     "start_time": "2023-03-24T13:48:53.598295Z",
     "end_time": "2023-03-24T13:48:53.610848Z"
    }
   }
  },
  {
   "cell_type": "code",
   "execution_count": 28,
   "outputs": [
    {
     "data": {
      "text/plain": "['2022 dsdsd dsdsd fsfsds', '2022 dsdsd dsdsds dsdsd']"
     },
     "execution_count": 28,
     "metadata": {},
     "output_type": "execute_result"
    }
   ],
   "source": [
    "# Define the year variable\n",
    "year = 2022\n",
    "\n",
    "# Define the conc_data list\n",
    "conc_data = [\"dsdsd dsdsd fsfsds\", \"dsdsd dsdsds dsdsd\"]\n",
    "\n",
    "# Add the year to each string in the conc_data list\n",
    "conc_data = [str(year) + \" \" + conc for conc in conc_data]\n",
    "conc_data"
   ],
   "metadata": {
    "collapsed": false,
    "ExecuteTime": {
     "start_time": "2023-03-24T13:48:55.944457Z",
     "end_time": "2023-03-24T13:48:55.963591Z"
    }
   }
  },
  {
   "cell_type": "code",
   "execution_count": 33,
   "outputs": [],
   "source": [
    "destpath = \"../data/large_data/populis_conc5_min/\"\n",
    "!rm -rf ../data/large_data/populis_conc5_min/\n",
    "os.mkdir(destpath)\n",
    "sourcepath = \"../data/large_data/articles_lemmata_min/\"\n",
    "for pop_id in articles_metadata[\"pop_id\"]:\n",
    "    filename = \"lemmata_pop_id_{}.txt\".format(str(pop_id))\n",
    "    filepath = sourcepath + filename\n",
    "\n",
    "    filepath = sourcepath + filename\n",
    "    with open(filepath, \"r\") as f:\n",
    "        lemmata = f.read()\n",
    "    lemmata_list = lemmata.split()\n",
    "    inxs = [t[0] for t in enumerate(lemmata_list) if re.search(\"populis\", t[1], re.IGNORECASE)]\n",
    "    conc_data = get_concordance(lemmata_list, inxs, 5,5)\n",
    "    with open(destpath + filename.replace(\"lemmata\", \"populis_conc5\"), \"w\") as f:\n",
    "        f.writelines(\"\\n\".join(conc_data))"
   ],
   "metadata": {
    "collapsed": false
   }
  },
  {
   "cell_type": "code",
   "execution_count": 34,
   "outputs": [],
   "source": [
    "destpath = \"../data/large_data/populis_conc10_min/\"\n",
    "!rm -rf ../data/large_data/populis_conc10_min/\n",
    "os.mkdir(destpath)\n",
    "sourcepath = \"../data/large_data/articles_lemmata_min/\"\n",
    "for pop_id in articles_metadata[\"pop_id\"]:\n",
    "    filename = \"lemmata_pop_id_{}.txt\".format(str(pop_id))\n",
    "    filepath = sourcepath + filename\n",
    "\n",
    "    filepath = sourcepath + filename\n",
    "    with open(filepath, \"r\") as f:\n",
    "        lemmata = f.read()\n",
    "    lemmata_list = lemmata.split()\n",
    "    inxs = [t[0] for t in enumerate(lemmata_list) if re.search(\"populis\", t[1], re.IGNORECASE)]\n",
    "    conc_data = get_concordance(lemmata_list, inxs, 10,10)\n",
    "    with open(destpath + filename.replace(\"lemmata\", \"populis_conc10\"), \"w\") as f:\n",
    "        f.writelines(\"\\n\".join(conc_data))"
   ],
   "metadata": {
    "collapsed": false
   }
  },
  {
   "cell_type": "markdown",
   "source": [
    " # Obtain populis* types"
   ],
   "metadata": {
    "collapsed": false
   }
  },
  {
   "cell_type": "code",
   "execution_count": 29,
   "outputs": [],
   "source": [
    "# all in one\n",
    "populism_types_raw = []\n",
    "sourcepath = \"../data/large_data/articles_lemmata_min/\"\n",
    "for pop_id in articles_metadata[\"pop_id\"]:\n",
    "    filename = \"lemmata_pop_id_{}.txt\".format(str(pop_id))\n",
    "    filepath = sourcepath + filename\n",
    "    with open(filepath, \"r\") as f:\n",
    "        lemmata = f.read()\n",
    "    lemmata_list = lemmata.split()\n",
    "    inxs = [t[0] for t in enumerate(lemmata_list) if re.search(\"populis\", t[1], re.IGNORECASE)]\n",
    "    conc_data = get_concordance(lemmata_list, inxs, 1,-1)\n",
    "    populism_types_raw.extend(conc_data)"
   ],
   "metadata": {
    "collapsed": false,
    "ExecuteTime": {
     "start_time": "2023-03-24T13:49:01.513365Z",
     "end_time": "2023-03-24T13:49:02.622008Z"
    }
   }
  },
  {
   "cell_type": "code",
   "execution_count": 38,
   "outputs": [
    {
     "data": {
      "text/plain": "39605"
     },
     "execution_count": 38,
     "metadata": {},
     "output_type": "execute_result"
    }
   ],
   "source": [
    "len(populism_types_raw)"
   ],
   "metadata": {
    "collapsed": false
   }
  },
  {
   "cell_type": "code",
   "execution_count": 31,
   "outputs": [
    {
     "data": {
      "text/plain": "['right-wing', 'right-wing', 'right-wing', 'right-wing', 'right-wing']"
     },
     "execution_count": 31,
     "metadata": {},
     "output_type": "execute_result"
    }
   ],
   "source": [
    "populism_types_raw[:5]"
   ],
   "metadata": {
    "collapsed": false,
    "ExecuteTime": {
     "start_time": "2023-03-24T13:49:16.870895Z",
     "end_time": "2023-03-24T13:49:16.878327Z"
    }
   }
  },
  {
   "cell_type": "code",
   "execution_count": 32,
   "outputs": [],
   "source": [
    "poptypes_freqs_raw = nltk.FreqDist(populism_types_raw).most_common()"
   ],
   "metadata": {
    "collapsed": false,
    "ExecuteTime": {
     "start_time": "2023-03-24T13:49:23.781668Z",
     "end_time": "2023-03-24T13:49:23.787403Z"
    }
   }
  },
  {
   "cell_type": "code",
   "execution_count": 33,
   "outputs": [
    {
     "data": {
      "text/plain": "4654"
     },
     "execution_count": 33,
     "metadata": {},
     "output_type": "execute_result"
    }
   ],
   "source": [
    "len(poptypes_freqs_raw)"
   ],
   "metadata": {
    "collapsed": false,
    "ExecuteTime": {
     "start_time": "2023-03-24T13:49:24.119019Z",
     "end_time": "2023-03-24T13:49:24.142686Z"
    }
   }
  },
  {
   "cell_type": "code",
   "execution_count": 34,
   "outputs": [
    {
     "data": {
      "text/plain": "0.5972983209190759"
     },
     "execution_count": 34,
     "metadata": {},
     "output_type": "execute_result"
    }
   ],
   "source": [
    "sum([tup[1] for tup in poptypes_freqs_raw[:300]]) / len(populism_types_raw)"
   ],
   "metadata": {
    "collapsed": false,
    "ExecuteTime": {
     "start_time": "2023-03-24T13:49:31.446191Z",
     "end_time": "2023-03-24T13:49:31.465495Z"
    }
   }
  },
  {
   "cell_type": "code",
   "execution_count": 35,
   "outputs": [],
   "source": [
    "# saving for visual exploration\n",
    "poptypes_freqs_raw_300 = pd.DataFrame(poptypes_freqs_raw[:300], columns=[\"word\", \"count\"])\n",
    "poptypes_freqs_raw_300.to_csv(\"../data/poptypes_freqs_raw_300.csv\")"
   ],
   "metadata": {
    "collapsed": false,
    "ExecuteTime": {
     "start_time": "2023-03-24T13:49:31.829305Z",
     "end_time": "2023-03-24T13:49:31.839396Z"
    }
   }
  },
  {
   "cell_type": "code",
   "execution_count": 36,
   "outputs": [],
   "source": [
    "# saving for visual exploration\n",
    "poptypes_freqs_raw_df = pd.DataFrame(poptypes_freqs_raw, columns=[\"word\", \"count\"])\n",
    "poptypes_freqs_raw_df.to_csv(\"../data/poptypes_freqs_raw.csv\")"
   ],
   "metadata": {
    "collapsed": false,
    "ExecuteTime": {
     "start_time": "2023-03-24T13:49:47.975832Z",
     "end_time": "2023-03-24T13:49:47.991064Z"
    }
   }
  },
  {
   "cell_type": "code",
   "execution_count": 37,
   "outputs": [
    {
     "data": {
      "text/plain": "[('right-wing', 1544),\n ('support', 510),\n ('rise', 450),\n ('party', 406),\n ('left-wing', 379),\n ('right', 317),\n ('populism', 297),\n ('vote', 292),\n ('study', 278),\n ('effect', 276),\n ('relationship', 235),\n ('populist', 232),\n ('argue', 229),\n ('concept', 229),\n ('level', 224),\n ('use', 213),\n ('degree', 212),\n ('people', 209),\n ('form', 209),\n ('success', 206),\n ('case', 204),\n ('american', 193),\n ('measure', 183),\n ('element', 181),\n ('literature', 171),\n ('democracy', 169),\n ('new', 168),\n ('type', 165),\n ('feature', 162),\n ('analysis', 160),\n ('deﬁnition', 154),\n ('definition', 147),\n ('term', 141),\n ('contemporary', 140),\n ('consider', 139),\n ('theory', 139),\n ('left', 130),\n ('approach', 126),\n ('nationalism', 124),\n ('european', 123),\n ('ideology', 119),\n ('power', 115),\n ('research', 113),\n ('understand', 113),\n ('nature', 112),\n ('politic', 108),\n ('show', 107),\n ('suggest', 107),\n ('view', 107),\n ('elite', 103),\n ('impact', 103),\n ('radical', 102),\n ('explain', 100),\n ('emergence', 100),\n ('link', 99),\n ('strong', 99),\n ('label', 96),\n ('dimension', 95),\n ('deﬁne', 94),\n ('policy', 94),\n ('authoritarian', 93),\n ('aspect', 92),\n ('mean', 92),\n ('successful', 91),\n ('exclusionary', 91),\n ('way', 90),\n ('characteristic', 89),\n ('associate', 87),\n ('leave', 87),\n ('define', 87),\n ('component', 85),\n ('include', 85),\n ('identify', 83),\n ('example', 82),\n ('class', 82),\n ('attitude', 81),\n ('extent', 80),\n ('country', 80),\n ('understanding', 80),\n ('rightwe', 78),\n ('find', 78),\n ('debate', 78),\n ('expect', 76),\n ('claim', 76),\n ('focus', 75),\n ('challenge', 74),\n ('idea', 74),\n ('election', 74),\n ('discourse', 74),\n ('presence', 71),\n ('nationalist', 71),\n ('elect', 71),\n ('context', 70),\n ('position', 69),\n ('word', 69),\n ('notion', 69),\n ('political', 69),\n ('distinguish', 68),\n ('question', 68),\n ('relate', 68),\n ('difference', 68),\n ('time', 68),\n ('content', 68),\n ('appeal', 68),\n ('crisis', 67),\n ('demand', 67),\n ('voting', 67),\n ('fact', 67),\n ('second', 66),\n ('voter', 66),\n ('movement', 66),\n ('leftist', 65),\n ('core', 64),\n ('government', 64),\n ('keyword', 64),\n ('describe', 64),\n ('authoritarianism', 64),\n ('economic', 63),\n ('account', 62),\n ('leader', 61),\n ('role', 61),\n ('employ', 60),\n ('see', 60),\n ('share', 59),\n ('variety', 59),\n ('note', 58),\n ('give', 56),\n ('hold', 56),\n ('strategy', 56),\n ('accord', 56),\n ('supply', 56),\n ('instance', 55),\n ('efficacy', 55),\n ('adopt', 54),\n ('article', 54),\n ('increase', 54),\n ('conception', 54),\n ('like', 54),\n ('examine', 53),\n ('contrast', 53),\n ('different', 52),\n ('preference', 52),\n ('condition', 51),\n ('high', 51),\n ('measurement', 51),\n ('combine', 51),\n ('point', 51),\n ('model', 50),\n ('reason', 50),\n ('neoliberal', 50),\n ('japanese', 50),\n ('medium', 49),\n ('assume', 49),\n ('issue', 49),\n ('rhetoric', 48),\n ('expression', 48),\n ('hand', 48),\n ('lead', 48),\n ('relation', 47),\n ('interest', 47),\n ('consequence', 47),\n ('allow', 47),\n ('hypothesis', 46),\n ('result', 46),\n ('manifestation', 46),\n ('association', 46),\n ('sense', 46),\n ('variable', 46),\n ('deal', 46),\n ('supporter', 45),\n ('correlate', 44),\n ('state', 44),\n ('basis', 44),\n ('kind', 44),\n ('system', 44),\n ('call', 44),\n ('turn', 43),\n ('response', 43),\n ('decade', 43),\n ('radical-right', 43),\n ('conceptualize', 42),\n ('current', 42),\n ('ground', 42),\n ('year', 42),\n ('conceptualization', 41),\n ('logic', 41),\n ('compare', 41),\n ('indicate', 41),\n ('change', 41),\n ('scholar', 41),\n ('contain', 40),\n ('agree', 40),\n ('work', 40),\n ('version', 40),\n ('potential', 40),\n ('demonstrate', 39),\n ('concern', 39),\n ('explanation', 39),\n ('reaction', 39),\n ('particular', 39),\n ('distinction', 39),\n ('surge', 39),\n ('wave', 39),\n ('phenomenon', 39),\n ('conceive', 38),\n ('perspective', 38),\n ('message', 38),\n ('interpretation', 38),\n ('illiberal', 38),\n ('typical', 38),\n ('nativism', 38),\n ('modern', 38),\n ('pretreatment', 38),\n ('rightwing', 37),\n ('apply', 37),\n ('assess', 37),\n ('category', 37),\n ('institution', 37),\n ('thin', 37),\n ('present', 36),\n ('individual', 36),\n ('target', 36),\n ('embrace', 36),\n ('classify', 36),\n ('nativist', 36),\n ('identity', 36),\n ('transnational', 36),\n ('official', 36),\n ('connection', 35),\n ('value', 35),\n ('respond', 35),\n ('society', 35),\n ('mainstream', 35),\n ('common', 35),\n ('national', 35),\n ('discussion', 35),\n ('express', 34),\n ('make', 34),\n ('table', 34),\n ('characterize', 34),\n ('think', 34),\n ('inclusionary', 34),\n ('implication', 33),\n ('conservative', 33),\n ('typology', 33),\n ('opposition', 33),\n ('argument', 33),\n ('citizen', 32),\n ('score', 32),\n ('development', 32),\n ('follow', 32),\n ('style', 31),\n ('moderate', 31),\n ('representation', 31),\n ('century', 31),\n ('scholarship', 31),\n ('interaction', 31),\n ('treat', 31),\n ('rely', 30),\n ('actor', 30),\n ('structure', 30),\n ('central', 30),\n ('reference', 30),\n ('rentier', 30),\n ('politician', 30),\n ('problem', 30),\n ('emerge', 30),\n ('finally', 30),\n ('articulate', 30),\n ('radical-left', 30),\n ('variant', 29),\n ('articulation', 29),\n ('inﬂuence', 29),\n ('expectation', 28),\n ('base', 28),\n ('cause', 28),\n ('rule', 28),\n ('opportunity', 28),\n ('force', 28),\n ('social', 28),\n ('conclude', 28),\n ('clear', 28),\n ('conceptualisation', 28),\n ('evidence', 27),\n ('driver', 27),\n ('low', 27),\n ('take', 27),\n ('character', 27),\n ('root', 27),\n ('far-right', 27),\n ('practice', 27),\n ('code', 27),\n ('analyse', 27),\n ('regard', 26),\n ('predict', 26),\n ('imply', 26),\n ('today', 26),\n ('shape', 26),\n ('technocratic', 26),\n ('experience', 26),\n ('brand', 26),\n ('rightist', 26),\n ('index', 26),\n ('ideational', 26),\n ('speak', 25),\n ('critique', 25),\n ('agrarian', 25),\n ('construct', 25),\n ('image', 25),\n ('wing', 25),\n ('set', 25),\n ('electorate', 25),\n ('general', 25),\n ('pattern', 25),\n ('probability', 25),\n ('candidate', 25),\n ('connect', 25),\n ('charismatic', 24),\n ('group', 24),\n ('process', 24),\n ('comparison', 24),\n ('anti-establishment', 24),\n ('reveal', 24),\n ('democratic', 24),\n ('coalition', 24),\n ('order', 24),\n ('establishment', 24),\n ('capture', 24),\n ('strongly', 24),\n ('refer', 23),\n ('foundation', 23),\n ('attribute', 23),\n ('complete', 23),\n ('sovereignty', 23),\n ('strength', 23),\n ('fuel', 23),\n ('similar', 23),\n ('subtype', 23),\n ('adoption', 23),\n ('influence', 22),\n ('number', 22),\n ('introduction', 22),\n ('constitute', 22),\n ('correlation', 22),\n ('develop', 22),\n ('finding', 22),\n ('history', 22),\n ('campaign', 22),\n ('action', 22),\n ('equate', 22),\n ('test', 22),\n ('important', 22),\n ('agenda', 22),\n ('true', 22),\n ('possibility', 22),\n ('leadership', 22),\n ('period', 22),\n ('popular', 22),\n ('accept', 21),\n ('feed', 21),\n ('represent', 21),\n ('euroscepticism', 21),\n ('observe', 21),\n ('respect', 21),\n ('mechanism', 21),\n ('language', 21),\n ('nation', 21),\n ('immigration', 21),\n ('space', 21),\n ('meaning', 21),\n ('maintain', 21),\n ('subject', 21),\n ('determine', 21),\n ('percentage', 21),\n ('furthermore', 20),\n ('possible', 20),\n ('specific', 20),\n ('average', 20),\n ('operationalization', 20),\n ('threat', 20),\n ('highlight', 20),\n ('essence', 20),\n ('propose', 20),\n ('conclusion', 20),\n ('exist', 20),\n ('drive', 20),\n ('mobilize', 20),\n ('particularly', 20),\n ('enable', 20),\n ('narrative', 20),\n ('eﬀect', 20),\n ('come', 20),\n ('performance', 20),\n ('clearly', 20),\n ('enemy', 20),\n ('bring', 20),\n ('formation', 20),\n ('personality', 20),\n ('increasingly', 20),\n ('characterise', 20),\n ('governance', 20),\n ('behaviour', 20),\n ('quality', 20),\n ('ﬁnd', 20),\n ('investigate', 19),\n ('interpret', 19),\n ('scale', 19),\n ('instead', 19),\n ('long', 19),\n ('combination', 19),\n ('available', 19),\n ('dynamic', 19),\n ('source', 19),\n ('perception', 19),\n ('classical', 19),\n ('victory', 19),\n ('fall', 19),\n ('', 19),\n ('face', 19),\n ('establish', 19),\n ('mobilization', 19),\n ('choice', 19),\n ('favour', 19),\n ('islamic', 19),\n ('inclusive', 19),\n ('polyvalent', 19),\n ('place', 18),\n ('likely', 18),\n ('spread', 18),\n ('analyze', 18),\n ('origin', 18),\n ('discontent', 18),\n ('pp', 18),\n ('range', 18),\n ('exclude', 18),\n ('function', 18),\n ('early', 18),\n ('regime', 18),\n ('classic', 18),\n ('liberal', 18),\n ('ethnic', 18),\n ('frame', 18),\n ('elitist', 18),\n ('variation', 18),\n ('tension', 18),\n ('classiﬁe', 18),\n ('attention', 17),\n ('statement', 17),\n ('activate', 17),\n ('vulnerable', 17),\n ('communication', 17),\n ('distribution', 17),\n ('anti-elitist', 17),\n ('reject', 17),\n ('appear', 17),\n ('diffusion', 17),\n ('limit', 17),\n ('specifically', 17),\n ('explore', 17),\n ('elitism', 17),\n ('moment', 17),\n ('oppose', 17),\n ('outsider', 17),\n ('factor', 17),\n ('strand', 17),\n ('pure', 17),\n ('good', 17),\n ('eurosceptic', 17),\n ('genuine', 17),\n ('latent', 16),\n ('affect', 16),\n ('technocracy', 16),\n ('assumption', 16),\n ('line', 16),\n ('economy', 16),\n ('draw', 16),\n ('project', 16),\n ('know', 16),\n ('so-called', 16),\n ('boom', 16),\n ('leftwe', 16),\n ('stress', 16),\n ('resort', 16),\n ('play', 16),\n ('italian', 16),\n ('underlie', 16),\n ('control', 16),\n ('distinct', 16),\n ('tendency', 16),\n ('susceptible', 16),\n ('look', 16),\n ('centrist', 16),\n ('activation', 16),\n ('perceive', 15),\n ('anti-elitism', 15),\n ('believe', 15),\n ('far', 15),\n ('legitimacy', 15),\n ('determinant', 15),\n ('especially', 15),\n ('domestic', 15),\n ('exhibit', 15),\n ('importance', 15),\n ('attract', 15),\n ('absence', 15),\n ('engage', 15),\n ('left-leaning', 15),\n ('unlike', 15),\n ('run', 15),\n ('provide', 15),\n ('contestation', 15),\n ('shift', 15),\n ('end', 15),\n ('small', 15),\n ('away', 15),\n ('coding', 15),\n ('spectrum', 15),\n ('classification', 15),\n ('predictor', 15),\n ('framework', 15),\n ('stance', 15),\n ('reduce', 15),\n ('prospect', 15),\n ('regionalist', 15),\n ('electoral', 15),\n ('emphasize', 15),\n ('adhere', 14),\n ('foster', 14),\n ('relevant', 14),\n ('attack', 14),\n ('differ', 14),\n ('separate', 14),\n ('count', 14),\n ('homepage', 14),\n ('figure', 14),\n ('inclusion', 14),\n ('addition', 14),\n ('broad', 14),\n ('age', 14),\n ('traditional', 14),\n ('polarization', 14),\n ('resurgence', 14),\n ('linkage', 14),\n ('existence', 14),\n ('precisely', 14),\n ('prefer', 14),\n ('trigger', 14),\n ('generate', 14),\n ('evolution', 14),\n ('catch-all', 14),\n ('past', 14),\n ('assessment', 14),\n ('consensus', 14),\n ('accusation', 14),\n ('highly', 14),\n ('accuse', 14),\n ('thick', 14),\n ('usage', 14),\n ('epistemic', 14),\n ('rights-oriented', 14),\n ('operationalize', 13),\n ('construction', 13),\n ('inherent', 13),\n ('voice', 13),\n ('trust', 13),\n ('agreement', 13),\n ('cleavage', 13),\n ('weak', 13),\n ('family', 13),\n ('prototypical', 13),\n ('salience', 13),\n ('region', 13),\n ('antidemocratic', 13),\n ('tool', 13),\n ('datum', 13),\n ('outcome', 13),\n ('help', 13),\n ('create', 13),\n ('community', 13),\n ('stage', 13),\n ('transformation', 13),\n ('phenomena', 13),\n ('failure', 13),\n ('key', 13),\n ('say', 13),\n ('discuss', 13),\n ('genus', 13),\n ('conceptualise', 13),\n ('cultural', 13),\n ('pragmatic', 13),\n ('disagree', 13),\n ('moderately', 13),\n ('territorialization', 13),\n ('main', 13),\n ('ﬁeld', 13),\n ('light', 12),\n ('criticism', 12),\n ('categorize', 12),\n ('consequently', 12),\n ('hungarian', 12),\n ('address', 12),\n ('popularity', 12),\n ('evident', 12),\n ('relevance', 12),\n ('insight', 12),\n ('compete', 12),\n ('open', 12),\n ('pursue', 12),\n ('odd', 12),\n ('contribute', 12),\n ('competition', 12),\n ('growth', 12),\n ('occur', 12),\n ('choose', 12),\n ('constituency', 12),\n ('course', 12),\n ('divide', 12),\n ('hybrid', 12),\n ('polity', 12),\n ('participation', 12),\n ('need', 12),\n ('sentiment', 12),\n ('advantage', 12),\n ('trait', 12),\n ('consideration', 12),\n ('add', 12),\n ('alliance', 12),\n ('recently', 12),\n ('rate', 12),\n ('global', 12),\n ('era', 12),\n ('globalization', 12),\n ('non-populist', 12),\n ('opposite', 12),\n ('consequences', 12),\n ('bad', 12),\n ('differentiate', 12),\n ('neo-liberal', 12),\n ('indicator', 11),\n ('online', 11),\n ('importantly', 11),\n ('mention', 11),\n ('overall', 11),\n ('subdimension', 11),\n ('conduct', 11),\n ('antagonism', 11),\n ('world', 11),\n ('confront', 11),\n ('prevalence', 11),\n ('reflect', 11),\n ('emphasis', 11),\n ('facet', 11),\n ('close', 11),\n ('overlap', 11),\n ('defeat', 11),\n ('accordingly', 11),\n ('interestingly', 11),\n ('appearance', 11),\n ('old', 11),\n ('persistence', 11),\n ('portray', 11),\n ('socialism', 11),\n ('necessarily', 11),\n ('promote', 11),\n ('prompt', 11),\n ('affinity', 11),\n ('matter', 11),\n ('contradiction', 11),\n ('coherent', 11),\n ('hypothesize', 11),\n ('market', 11),\n ('assert', 11),\n ('speciﬁc', 11),\n ('tend', 11),\n ('propensity', 11),\n ('accommodate', 11),\n ('embed', 11),\n ('theme', 11),\n ('international', 11),\n ('reactionary', 11),\n ('extreme', 11),\n ('bust', 11),\n ('progressive', 11),\n ('responsibility-oriented', 11),\n ('generally', 10),\n ('prone', 10),\n ('immigrant', 10),\n ('commonality', 10),\n ('property', 10),\n ('majority', 10),\n ('upsurge', 10),\n ('sum', 10),\n ('little', 10),\n ('audience', 10),\n ('deliver', 10),\n ('field', 10),\n ('item', 10),\n ('remain', 10),\n ('acknowledge', 10),\n ('liberalism', 10),\n ('favor', 10),\n ('short', 10),\n ('situation', 10),\n ('exception', 10),\n ('offer', 10),\n ('behavior', 10),\n ('inequality', 10),\n ('tradition', 10),\n ('identification', 10),\n ('contribution', 10),\n ('emotion', 10),\n ('programme', 10),\n ('distance', 10),\n ('description', 10),\n ('manner', 10),\n ('attach', 10),\n ('display', 10),\n ('similarly', 10),\n ('genuinely', 10),\n ('identiﬁed', 10),\n ('limited', 10),\n ('tone', 10),\n ('categorise', 10),\n ('talk', 10),\n ('individual-level', 10),\n ('engagement', 10),\n ('theorist', 10),\n ('manifesto', 10),\n ('render', 10),\n ('inclined', 10),\n ('ambiguity', 10),\n ('original', 10),\n ('presidential', 10),\n ('rational', 10),\n ('thickening', 10),\n ('coverage', 9),\n ('platform', 9),\n ('et', 9),\n ('comment', 9),\n ('differently', 9),\n ('promise', 9),\n ('similarity', 9),\n ('minority', 9),\n ('introduce', 9),\n ('happen', 9),\n ('endorse', 9),\n ('leftwing', 9),\n ('large', 9),\n ('reinforce', 9),\n ('govern', 9),\n ('incorporate', 9),\n ('profile', 9),\n ('advance', 9),\n ('polish', 9),\n ('western', 9),\n ('cast', 9),\n ('goal', 9),\n ('recent', 9),\n ('well', 9),\n ('opponent', 9),\n ('transform', 9),\n ('extremist', 9),\n ('norm', 9),\n ('path', 9),\n ('accountability', 9),\n ('section', 9),\n ('partisanship', 9),\n ('distinctive', 9),\n ('radicalism', 9),\n ('local', 9),\n ('corruption', 9),\n ('list', 9),\n ('recognise', 9),\n ('involve', 9),\n ('heart', 9),\n ('recognize', 9),\n ('suppression', 9),\n ('perform', 9),\n ('trajectory', 9),\n ('capacity', 9),\n ('danger', 9),\n ('qualified', 9),\n ('write', 9),\n ('advocate', 9),\n ('imagine', 9),\n ('illustrate', 9),\n ('evaluate', 9),\n ('hegemony', 9),\n ('avoid', 9),\n ('pose', 9),\n ('grassroot', 9),\n ('fascism', 9),\n ('orientation', 9),\n ('alternative', 9),\n ('move', 9),\n ('ambivalence', 9),\n ('exclusion', 9),\n ('president', 9),\n ('switch', 9),\n ('insist', 9),\n ('trend', 9),\n ('integral', 9),\n ('abstraction', 9),\n ('denounce', 9),\n ('application', 9),\n ('steal', 9),\n ('regionalism', 9),\n ('contextual', 9),\n ('religion', 9),\n ('mainstreamed', 9),\n ('prominence', 8),\n ('direct', 8),\n ('ally', 8),\n ('reach', 8),\n ('persuasiveness', 8),\n ('p', 8),\n ('translate', 8),\n ('speciﬁcity', 8),\n ('contrary', 8),\n ('sample', 8),\n ('genre', 8),\n ('cue', 8),\n ('disentangle', 8),\n ('gap', 8),\n ('despite', 8),\n ('resource', 8),\n ('knowledge', 8),\n ('anti-elite', 8),\n ('bias', 8),\n ('compatible', 8),\n ('center', 8),\n ('right-leaning', 8),\n ('easy', 8),\n ('generation', 8),\n ('resist', 8),\n ('counter', 8),\n ('risk', 8),\n ('interact', 8),\n ('facilitate', 8),\n ('fail', 8),\n ('dutch', 8),\n ('xenophobic', 8),\n ('fit', 8),\n ('direction', 8),\n ('major', 8),\n ('overcome', 8),\n ('authority', 8),\n ('scope', 8),\n ('incumbent', 8),\n ('office', 8),\n ('future', 8),\n ('polarize', 8),\n ('battle', 8),\n ('escape', 8),\n ('win', 8),\n ('thesis', 8),\n ('grievance', 8),\n ('denominator', 8),\n ('estimate', 8),\n ('posit', 8),\n ('researcher', 8),\n ('supportive', 8),\n ('blame', 8),\n ('anger', 8),\n ('mobilisation', 8),\n ('People', 8),\n ('consolidation', 8),\n ('immune', 8),\n ('welfare', 8),\n ('tenet', 8),\n ('let', 8),\n ('hallmark', 8),\n ('simplicity', 8),\n ('sector', 8),\n ('qualify', 8),\n ('sign', 8),\n ('tap', 8),\n ('signiﬁcant', 8),\n ('redistribution', 8),\n ('classiﬁcation', 8),\n ('conﬂict', 8),\n ('locus', 8),\n ('paradox', 8),\n ('raise', 8),\n ('demagogue', 8),\n ('orient', 8),\n ('paper', 8),\n ('latin-american', 8),\n ('newspaper', 8),\n ('inside', 8),\n ('β', 8),\n ('chinese', 8),\n ('universe', 8),\n ('exposure', 7),\n ('expose', 7),\n ('act', 7),\n ('unclear', 7),\n ('se', 7),\n ('communicate', 7),\n ('occurrence', 7),\n ('cover', 7),\n ('antiestablishment', 7),\n ('proposition', 7),\n ('speciﬁcally', 7),\n ('strengthening', 7),\n ('overtly', 7),\n ('substance', 7),\n ('allegedly', 7),\n ('gender', 7),\n ('produce', 7),\n ('organization', 7),\n ('espouse', 7),\n ('respondent', 7),\n ('assign', 7),\n ('push', 7),\n ('rival', 7),\n ('law', 7),\n ('presidency', 7),\n ('one', 7),\n ('heritage', 7),\n ('anti-european', 7),\n ('referendum', 7),\n ('capitalism', 7),\n ('benefit', 7),\n ('pressure', 7),\n ('return', 7),\n ('transition', 7),\n ('legacy', 7),\n ('beat', 7),\n ('ignore', 7),\n ('utilize', 7),\n ('check', 7),\n ('recession', 7),\n ('essentially', 7),\n ('depend', 7),\n ('belief', 7),\n ('thinking', 7),\n ('culture', 7),\n ('familiar', 7),\n ('parliament', 7),\n ('broadly', 7),\n ('socialist', 7),\n ('afd', 7),\n ('likelihood', 7),\n ('slightly', 7),\n ('certain', 7),\n ('doubt', 7),\n ('fascist', 7),\n ('vary', 7),\n ('speech', 7),\n ('big', 7),\n ('globalisation', 7),\n ('terrain', 7),\n ('peril', 7),\n ('pre-existing', 7),\n ('precondition', 7),\n ('underline', 7),\n ('grassroots', 7),\n ('discursive', 7),\n ('build', 7),\n ('relatively', 7),\n ('purpose', 7),\n ('turnout', 7),\n ('active', 7),\n ('ability', 7),\n ('insecurity', 7),\n ('arguably', 7),\n ('tame', 7),\n ('critic', 7),\n ('book', 7),\n ('representative', 7),\n ('channel', 7),\n ('underpinning', 7),\n ('dominant', 7),\n ('allege', 7),\n ('partisan', 7),\n ('fundamental', 7),\n ('conﬂate', 7),\n ('contentious', 7),\n ('challenger', 7),\n ('competitive', 7),\n ('connotation', 7),\n ('actual', 7),\n ('rethink', 7),\n ('exclusive', 7),\n ('protectionism', 7),\n ('specificity', 7),\n ('accompany', 7),\n ('subgame', 7),\n ('constitutive', 7),\n ('dismiss', 7),\n ('keywords', 7),\n ('picture', 7),\n ('penal', 7),\n ('paternalist', 7),\n ('information', 6),\n ('area', 6),\n ('journalist', 6),\n ('experiment', 6),\n ('environment', 6),\n ...]"
     },
     "execution_count": 37,
     "metadata": {},
     "output_type": "execute_result"
    }
   ],
   "source": [
    "poptypes_freqs_raw"
   ],
   "metadata": {
    "collapsed": false,
    "ExecuteTime": {
     "start_time": "2023-03-24T13:49:50.830887Z",
     "end_time": "2023-03-24T13:49:50.837132Z"
    }
   }
  },
  {
   "cell_type": "code",
   "execution_count": 38,
   "outputs": [
    {
     "data": {
      "text/plain": "['right-wing',\n 'right',\n 'rightwe',\n 'radical-right',\n 'rightwing',\n 'far-right',\n 'rightist',\n 'rights-oriented',\n 'right-leaning',\n 'radicalright']"
     },
     "execution_count": 38,
     "metadata": {},
     "output_type": "execute_result"
    }
   ],
   "source": [
    "[tup[0] for tup in poptypes_freqs_raw if (re.search(r\"right\", tup[0])) and (tup[1]>1)][:10]"
   ],
   "metadata": {
    "collapsed": false,
    "ExecuteTime": {
     "start_time": "2023-03-24T13:49:51.091533Z",
     "end_time": "2023-03-24T13:49:51.097340Z"
    }
   }
  },
  {
   "cell_type": "code",
   "execution_count": 39,
   "outputs": [],
   "source": [
    "# from our visual explorations, we finally came up with the following list of indicators\n",
    "poptypes_dict = {\"right-wing\" :\n",
    "                     ['right-wing', 'right', 'right-','rightwe', 'radical-right', 'radical-right-wing', 'far-right', 'rightist', 'right-leaning', 'radicalright', 'rightwing', 'extreme-right', 'farright'],\n",
    "                 \"left-wing\":\n",
    "                    ['left-wing', 'left', 'left-', 'leftist', 'radical-left', 'leftwing', 'left-leaning', 'leftwe', 'leftism', 'center-left', 'radicalleft'],\n",
    "                      #'left-libertarian',\n",
    "                      #'center-left',\n",
    "                 \"nationalist\" :\n",
    "                     ['nationalism', 'nationalist', 'national', 'nation', 'ethno-nationalist','nationalistic', 'neo-nationalism'],\n",
    "                 #\"ethno\" :\n",
    "                     # ['ethno', 'ethno-nationalist', 'ethnoregionalist'],\n",
    "                 \"nativist\" :\n",
    "                     ['nativism', 'nativist'],\n",
    "                 \"radical\" :\n",
    "                     ['radical',  'radicalism', 'radically'],\n",
    "                     # 'radical-democratic'\n",
    "                 \"moderate\" :\n",
    "                     [\"moderate\", \"moderately\"],\n",
    "                 \"authoritatian\" :\n",
    "                     ['authoritarian', 'authoritarianism'],\n",
    "                 \"inclusionary\" :\n",
    "                     ['inclusionary', 'inclusive', 'inclusion'],\n",
    "                 \"exclusionary\" :\n",
    "                     ['exclusionary', 'exclusion', 'exclusive', 'exclusively', 'exclusionist'],\n",
    "                 \"neoliberal\" :\n",
    "                     ['neoliberal', 'neo-liberal', 'neoliberalism']\n",
    "                 }"
   ],
   "metadata": {
    "collapsed": false,
    "ExecuteTime": {
     "start_time": "2023-03-24T13:49:54.145765Z",
     "end_time": "2023-03-24T13:49:54.152501Z"
    }
   }
  },
  {
   "cell_type": "code",
   "execution_count": 40,
   "outputs": [],
   "source": [
    "poptypes_freqs_dict = dict(poptypes_freqs_raw)\n",
    "\n",
    "indicators_list = [el for values in poptypes_dict.values() for el in values]\n",
    "poptype_indicator_tups = []\n",
    "for key in poptypes_dict.keys():\n",
    "    for val in poptypes_dict[key]:\n",
    "        try:\n",
    "            count = poptypes_freqs_dict[val]\n",
    "        except:\n",
    "            count = 0\n",
    "        poptype_indicator_tups.append((key, val, count))"
   ],
   "metadata": {
    "collapsed": false,
    "ExecuteTime": {
     "start_time": "2023-03-24T13:50:02.926504Z",
     "end_time": "2023-03-24T13:50:02.949178Z"
    }
   }
  },
  {
   "cell_type": "code",
   "execution_count": 41,
   "outputs": [
    {
     "data": {
      "text/plain": "          poptype             variant  count\n0      right-wing          right-wing   1544\n1      right-wing               right    317\n2      right-wing              right-      1\n3      right-wing             rightwe     78\n4      right-wing       radical-right     43\n5      right-wing  radical-right-wing      2\n6      right-wing           far-right     27\n7      right-wing            rightist     26\n8      right-wing       right-leaning      8\n9      right-wing        radicalright      5\n10     right-wing           rightwing     37\n11     right-wing       extreme-right      4\n12     right-wing            farright      2\n13      left-wing           left-wing    379\n14      left-wing                left    130\n15      left-wing               left-      1\n16      left-wing             leftist     65\n17      left-wing        radical-left     30\n18      left-wing            leftwing      9\n19      left-wing        left-leaning     15\n20      left-wing              leftwe     16\n21      left-wing             leftism      2\n22      left-wing         center-left      3\n23      left-wing         radicalleft      2\n24    nationalist         nationalism    124\n25    nationalist         nationalist     71\n26    nationalist            national     35\n27    nationalist              nation     21\n28    nationalist   ethno-nationalist      2\n29    nationalist       nationalistic      5\n30    nationalist     neo-nationalism      2\n31       nativist            nativism     38\n32       nativist            nativist     36\n33        radical             radical    102\n34        radical          radicalism      9\n35        radical           radically      4\n36       moderate            moderate     31\n37       moderate          moderately     13\n38  authoritatian       authoritarian     93\n39  authoritatian    authoritarianism     64\n40   inclusionary        inclusionary     34\n41   inclusionary           inclusive     19\n42   inclusionary           inclusion     14\n43   exclusionary        exclusionary     91\n44   exclusionary           exclusion      9\n45   exclusionary           exclusive      7\n46   exclusionary         exclusively      6\n47   exclusionary        exclusionist      3\n48     neoliberal          neoliberal     50\n49     neoliberal         neo-liberal     12\n50     neoliberal       neoliberalism      3",
      "text/html": "<div>\n<style scoped>\n    .dataframe tbody tr th:only-of-type {\n        vertical-align: middle;\n    }\n\n    .dataframe tbody tr th {\n        vertical-align: top;\n    }\n\n    .dataframe thead th {\n        text-align: right;\n    }\n</style>\n<table border=\"1\" class=\"dataframe\">\n  <thead>\n    <tr style=\"text-align: right;\">\n      <th></th>\n      <th>poptype</th>\n      <th>variant</th>\n      <th>count</th>\n    </tr>\n  </thead>\n  <tbody>\n    <tr>\n      <th>0</th>\n      <td>right-wing</td>\n      <td>right-wing</td>\n      <td>1544</td>\n    </tr>\n    <tr>\n      <th>1</th>\n      <td>right-wing</td>\n      <td>right</td>\n      <td>317</td>\n    </tr>\n    <tr>\n      <th>2</th>\n      <td>right-wing</td>\n      <td>right-</td>\n      <td>1</td>\n    </tr>\n    <tr>\n      <th>3</th>\n      <td>right-wing</td>\n      <td>rightwe</td>\n      <td>78</td>\n    </tr>\n    <tr>\n      <th>4</th>\n      <td>right-wing</td>\n      <td>radical-right</td>\n      <td>43</td>\n    </tr>\n    <tr>\n      <th>5</th>\n      <td>right-wing</td>\n      <td>radical-right-wing</td>\n      <td>2</td>\n    </tr>\n    <tr>\n      <th>6</th>\n      <td>right-wing</td>\n      <td>far-right</td>\n      <td>27</td>\n    </tr>\n    <tr>\n      <th>7</th>\n      <td>right-wing</td>\n      <td>rightist</td>\n      <td>26</td>\n    </tr>\n    <tr>\n      <th>8</th>\n      <td>right-wing</td>\n      <td>right-leaning</td>\n      <td>8</td>\n    </tr>\n    <tr>\n      <th>9</th>\n      <td>right-wing</td>\n      <td>radicalright</td>\n      <td>5</td>\n    </tr>\n    <tr>\n      <th>10</th>\n      <td>right-wing</td>\n      <td>rightwing</td>\n      <td>37</td>\n    </tr>\n    <tr>\n      <th>11</th>\n      <td>right-wing</td>\n      <td>extreme-right</td>\n      <td>4</td>\n    </tr>\n    <tr>\n      <th>12</th>\n      <td>right-wing</td>\n      <td>farright</td>\n      <td>2</td>\n    </tr>\n    <tr>\n      <th>13</th>\n      <td>left-wing</td>\n      <td>left-wing</td>\n      <td>379</td>\n    </tr>\n    <tr>\n      <th>14</th>\n      <td>left-wing</td>\n      <td>left</td>\n      <td>130</td>\n    </tr>\n    <tr>\n      <th>15</th>\n      <td>left-wing</td>\n      <td>left-</td>\n      <td>1</td>\n    </tr>\n    <tr>\n      <th>16</th>\n      <td>left-wing</td>\n      <td>leftist</td>\n      <td>65</td>\n    </tr>\n    <tr>\n      <th>17</th>\n      <td>left-wing</td>\n      <td>radical-left</td>\n      <td>30</td>\n    </tr>\n    <tr>\n      <th>18</th>\n      <td>left-wing</td>\n      <td>leftwing</td>\n      <td>9</td>\n    </tr>\n    <tr>\n      <th>19</th>\n      <td>left-wing</td>\n      <td>left-leaning</td>\n      <td>15</td>\n    </tr>\n    <tr>\n      <th>20</th>\n      <td>left-wing</td>\n      <td>leftwe</td>\n      <td>16</td>\n    </tr>\n    <tr>\n      <th>21</th>\n      <td>left-wing</td>\n      <td>leftism</td>\n      <td>2</td>\n    </tr>\n    <tr>\n      <th>22</th>\n      <td>left-wing</td>\n      <td>center-left</td>\n      <td>3</td>\n    </tr>\n    <tr>\n      <th>23</th>\n      <td>left-wing</td>\n      <td>radicalleft</td>\n      <td>2</td>\n    </tr>\n    <tr>\n      <th>24</th>\n      <td>nationalist</td>\n      <td>nationalism</td>\n      <td>124</td>\n    </tr>\n    <tr>\n      <th>25</th>\n      <td>nationalist</td>\n      <td>nationalist</td>\n      <td>71</td>\n    </tr>\n    <tr>\n      <th>26</th>\n      <td>nationalist</td>\n      <td>national</td>\n      <td>35</td>\n    </tr>\n    <tr>\n      <th>27</th>\n      <td>nationalist</td>\n      <td>nation</td>\n      <td>21</td>\n    </tr>\n    <tr>\n      <th>28</th>\n      <td>nationalist</td>\n      <td>ethno-nationalist</td>\n      <td>2</td>\n    </tr>\n    <tr>\n      <th>29</th>\n      <td>nationalist</td>\n      <td>nationalistic</td>\n      <td>5</td>\n    </tr>\n    <tr>\n      <th>30</th>\n      <td>nationalist</td>\n      <td>neo-nationalism</td>\n      <td>2</td>\n    </tr>\n    <tr>\n      <th>31</th>\n      <td>nativist</td>\n      <td>nativism</td>\n      <td>38</td>\n    </tr>\n    <tr>\n      <th>32</th>\n      <td>nativist</td>\n      <td>nativist</td>\n      <td>36</td>\n    </tr>\n    <tr>\n      <th>33</th>\n      <td>radical</td>\n      <td>radical</td>\n      <td>102</td>\n    </tr>\n    <tr>\n      <th>34</th>\n      <td>radical</td>\n      <td>radicalism</td>\n      <td>9</td>\n    </tr>\n    <tr>\n      <th>35</th>\n      <td>radical</td>\n      <td>radically</td>\n      <td>4</td>\n    </tr>\n    <tr>\n      <th>36</th>\n      <td>moderate</td>\n      <td>moderate</td>\n      <td>31</td>\n    </tr>\n    <tr>\n      <th>37</th>\n      <td>moderate</td>\n      <td>moderately</td>\n      <td>13</td>\n    </tr>\n    <tr>\n      <th>38</th>\n      <td>authoritatian</td>\n      <td>authoritarian</td>\n      <td>93</td>\n    </tr>\n    <tr>\n      <th>39</th>\n      <td>authoritatian</td>\n      <td>authoritarianism</td>\n      <td>64</td>\n    </tr>\n    <tr>\n      <th>40</th>\n      <td>inclusionary</td>\n      <td>inclusionary</td>\n      <td>34</td>\n    </tr>\n    <tr>\n      <th>41</th>\n      <td>inclusionary</td>\n      <td>inclusive</td>\n      <td>19</td>\n    </tr>\n    <tr>\n      <th>42</th>\n      <td>inclusionary</td>\n      <td>inclusion</td>\n      <td>14</td>\n    </tr>\n    <tr>\n      <th>43</th>\n      <td>exclusionary</td>\n      <td>exclusionary</td>\n      <td>91</td>\n    </tr>\n    <tr>\n      <th>44</th>\n      <td>exclusionary</td>\n      <td>exclusion</td>\n      <td>9</td>\n    </tr>\n    <tr>\n      <th>45</th>\n      <td>exclusionary</td>\n      <td>exclusive</td>\n      <td>7</td>\n    </tr>\n    <tr>\n      <th>46</th>\n      <td>exclusionary</td>\n      <td>exclusively</td>\n      <td>6</td>\n    </tr>\n    <tr>\n      <th>47</th>\n      <td>exclusionary</td>\n      <td>exclusionist</td>\n      <td>3</td>\n    </tr>\n    <tr>\n      <th>48</th>\n      <td>neoliberal</td>\n      <td>neoliberal</td>\n      <td>50</td>\n    </tr>\n    <tr>\n      <th>49</th>\n      <td>neoliberal</td>\n      <td>neo-liberal</td>\n      <td>12</td>\n    </tr>\n    <tr>\n      <th>50</th>\n      <td>neoliberal</td>\n      <td>neoliberalism</td>\n      <td>3</td>\n    </tr>\n  </tbody>\n</table>\n</div>"
     },
     "execution_count": 41,
     "metadata": {},
     "output_type": "execute_result"
    }
   ],
   "source": [
    "poptype_indicators_df = pd.DataFrame(poptype_indicator_tups, columns=[\"poptype\", \"variant\", \"count\"])\n",
    "poptype_indicators_df"
   ],
   "metadata": {
    "collapsed": false,
    "ExecuteTime": {
     "start_time": "2023-03-24T13:50:03.309249Z",
     "end_time": "2023-03-24T13:50:03.329894Z"
    }
   }
  },
  {
   "cell_type": "code",
   "execution_count": 42,
   "outputs": [
    {
     "data": {
      "text/plain": "{'authoritatian': 157,\n 'exclusionary': 116,\n 'inclusionary': 67,\n 'left-wing': 652,\n 'moderate': 44,\n 'nationalist': 260,\n 'nativist': 74,\n 'neoliberal': 65,\n 'radical': 115,\n 'right-wing': 2094}"
     },
     "execution_count": 42,
     "metadata": {},
     "output_type": "execute_result"
    }
   ],
   "source": [
    "poptype_counts = poptype_indicators_df.groupby(\"poptype\").sum().reset_index()\n",
    "poptype_counts_dict = dict(zip(poptype_counts[\"poptype\"], poptype_counts[\"count\"]))\n",
    "poptype_counts_dict"
   ],
   "metadata": {
    "collapsed": false,
    "ExecuteTime": {
     "start_time": "2023-03-24T13:50:03.846171Z",
     "end_time": "2023-03-24T13:50:03.855517Z"
    }
   }
  },
  {
   "cell_type": "code",
   "execution_count": 43,
   "outputs": [],
   "source": [
    "poptype_indicators_df[\"poptype_count\"] = poptype_indicators_df[\"poptype\"].apply(lambda x: poptype_counts_dict[x])"
   ],
   "metadata": {
    "collapsed": false,
    "ExecuteTime": {
     "start_time": "2023-03-24T13:50:04.419364Z",
     "end_time": "2023-03-24T13:50:04.425100Z"
    }
   }
  },
  {
   "cell_type": "code",
   "execution_count": 44,
   "outputs": [],
   "source": [
    "poptype_indicators_df[\"poptype_count\"] = poptype_indicators_df[\"poptype\"].apply(lambda x: poptype_counts_dict[x])\n",
    "poptype_indicators_df.sort_values(by=[\"poptype_count\", \"count\"], ascending=False, inplace=True)\n",
    "poptype_indicators_df.drop(\"poptype_count\", axis=1, inplace=True)"
   ],
   "metadata": {
    "collapsed": false,
    "ExecuteTime": {
     "start_time": "2023-03-24T13:50:04.885221Z",
     "end_time": "2023-03-24T13:50:04.894490Z"
    }
   }
  },
  {
   "cell_type": "code",
   "execution_count": 45,
   "outputs": [
    {
     "data": {
      "text/plain": "          poptype             variant  count\n0      right-wing          right-wing   1544\n1      right-wing               right    317\n3      right-wing             rightwe     78\n4      right-wing       radical-right     43\n10     right-wing           rightwing     37\n6      right-wing           far-right     27\n7      right-wing            rightist     26\n8      right-wing       right-leaning      8\n9      right-wing        radicalright      5\n11     right-wing       extreme-right      4\n5      right-wing  radical-right-wing      2\n12     right-wing            farright      2\n2      right-wing              right-      1\n13      left-wing           left-wing    379\n14      left-wing                left    130\n16      left-wing             leftist     65\n17      left-wing        radical-left     30\n20      left-wing              leftwe     16\n19      left-wing        left-leaning     15\n18      left-wing            leftwing      9\n22      left-wing         center-left      3\n21      left-wing             leftism      2\n23      left-wing         radicalleft      2\n15      left-wing               left-      1\n24    nationalist         nationalism    124\n25    nationalist         nationalist     71\n26    nationalist            national     35\n27    nationalist              nation     21\n29    nationalist       nationalistic      5\n28    nationalist   ethno-nationalist      2\n30    nationalist     neo-nationalism      2\n38  authoritatian       authoritarian     93\n39  authoritatian    authoritarianism     64\n43   exclusionary        exclusionary     91\n44   exclusionary           exclusion      9\n45   exclusionary           exclusive      7\n46   exclusionary         exclusively      6\n47   exclusionary        exclusionist      3\n33        radical             radical    102\n34        radical          radicalism      9\n35        radical           radically      4\n31       nativist            nativism     38\n32       nativist            nativist     36\n40   inclusionary        inclusionary     34\n41   inclusionary           inclusive     19\n42   inclusionary           inclusion     14\n48     neoliberal          neoliberal     50\n49     neoliberal         neo-liberal     12\n50     neoliberal       neoliberalism      3\n36       moderate            moderate     31\n37       moderate          moderately     13",
      "text/html": "<div>\n<style scoped>\n    .dataframe tbody tr th:only-of-type {\n        vertical-align: middle;\n    }\n\n    .dataframe tbody tr th {\n        vertical-align: top;\n    }\n\n    .dataframe thead th {\n        text-align: right;\n    }\n</style>\n<table border=\"1\" class=\"dataframe\">\n  <thead>\n    <tr style=\"text-align: right;\">\n      <th></th>\n      <th>poptype</th>\n      <th>variant</th>\n      <th>count</th>\n    </tr>\n  </thead>\n  <tbody>\n    <tr>\n      <th>0</th>\n      <td>right-wing</td>\n      <td>right-wing</td>\n      <td>1544</td>\n    </tr>\n    <tr>\n      <th>1</th>\n      <td>right-wing</td>\n      <td>right</td>\n      <td>317</td>\n    </tr>\n    <tr>\n      <th>3</th>\n      <td>right-wing</td>\n      <td>rightwe</td>\n      <td>78</td>\n    </tr>\n    <tr>\n      <th>4</th>\n      <td>right-wing</td>\n      <td>radical-right</td>\n      <td>43</td>\n    </tr>\n    <tr>\n      <th>10</th>\n      <td>right-wing</td>\n      <td>rightwing</td>\n      <td>37</td>\n    </tr>\n    <tr>\n      <th>6</th>\n      <td>right-wing</td>\n      <td>far-right</td>\n      <td>27</td>\n    </tr>\n    <tr>\n      <th>7</th>\n      <td>right-wing</td>\n      <td>rightist</td>\n      <td>26</td>\n    </tr>\n    <tr>\n      <th>8</th>\n      <td>right-wing</td>\n      <td>right-leaning</td>\n      <td>8</td>\n    </tr>\n    <tr>\n      <th>9</th>\n      <td>right-wing</td>\n      <td>radicalright</td>\n      <td>5</td>\n    </tr>\n    <tr>\n      <th>11</th>\n      <td>right-wing</td>\n      <td>extreme-right</td>\n      <td>4</td>\n    </tr>\n    <tr>\n      <th>5</th>\n      <td>right-wing</td>\n      <td>radical-right-wing</td>\n      <td>2</td>\n    </tr>\n    <tr>\n      <th>12</th>\n      <td>right-wing</td>\n      <td>farright</td>\n      <td>2</td>\n    </tr>\n    <tr>\n      <th>2</th>\n      <td>right-wing</td>\n      <td>right-</td>\n      <td>1</td>\n    </tr>\n    <tr>\n      <th>13</th>\n      <td>left-wing</td>\n      <td>left-wing</td>\n      <td>379</td>\n    </tr>\n    <tr>\n      <th>14</th>\n      <td>left-wing</td>\n      <td>left</td>\n      <td>130</td>\n    </tr>\n    <tr>\n      <th>16</th>\n      <td>left-wing</td>\n      <td>leftist</td>\n      <td>65</td>\n    </tr>\n    <tr>\n      <th>17</th>\n      <td>left-wing</td>\n      <td>radical-left</td>\n      <td>30</td>\n    </tr>\n    <tr>\n      <th>20</th>\n      <td>left-wing</td>\n      <td>leftwe</td>\n      <td>16</td>\n    </tr>\n    <tr>\n      <th>19</th>\n      <td>left-wing</td>\n      <td>left-leaning</td>\n      <td>15</td>\n    </tr>\n    <tr>\n      <th>18</th>\n      <td>left-wing</td>\n      <td>leftwing</td>\n      <td>9</td>\n    </tr>\n    <tr>\n      <th>22</th>\n      <td>left-wing</td>\n      <td>center-left</td>\n      <td>3</td>\n    </tr>\n    <tr>\n      <th>21</th>\n      <td>left-wing</td>\n      <td>leftism</td>\n      <td>2</td>\n    </tr>\n    <tr>\n      <th>23</th>\n      <td>left-wing</td>\n      <td>radicalleft</td>\n      <td>2</td>\n    </tr>\n    <tr>\n      <th>15</th>\n      <td>left-wing</td>\n      <td>left-</td>\n      <td>1</td>\n    </tr>\n    <tr>\n      <th>24</th>\n      <td>nationalist</td>\n      <td>nationalism</td>\n      <td>124</td>\n    </tr>\n    <tr>\n      <th>25</th>\n      <td>nationalist</td>\n      <td>nationalist</td>\n      <td>71</td>\n    </tr>\n    <tr>\n      <th>26</th>\n      <td>nationalist</td>\n      <td>national</td>\n      <td>35</td>\n    </tr>\n    <tr>\n      <th>27</th>\n      <td>nationalist</td>\n      <td>nation</td>\n      <td>21</td>\n    </tr>\n    <tr>\n      <th>29</th>\n      <td>nationalist</td>\n      <td>nationalistic</td>\n      <td>5</td>\n    </tr>\n    <tr>\n      <th>28</th>\n      <td>nationalist</td>\n      <td>ethno-nationalist</td>\n      <td>2</td>\n    </tr>\n    <tr>\n      <th>30</th>\n      <td>nationalist</td>\n      <td>neo-nationalism</td>\n      <td>2</td>\n    </tr>\n    <tr>\n      <th>38</th>\n      <td>authoritatian</td>\n      <td>authoritarian</td>\n      <td>93</td>\n    </tr>\n    <tr>\n      <th>39</th>\n      <td>authoritatian</td>\n      <td>authoritarianism</td>\n      <td>64</td>\n    </tr>\n    <tr>\n      <th>43</th>\n      <td>exclusionary</td>\n      <td>exclusionary</td>\n      <td>91</td>\n    </tr>\n    <tr>\n      <th>44</th>\n      <td>exclusionary</td>\n      <td>exclusion</td>\n      <td>9</td>\n    </tr>\n    <tr>\n      <th>45</th>\n      <td>exclusionary</td>\n      <td>exclusive</td>\n      <td>7</td>\n    </tr>\n    <tr>\n      <th>46</th>\n      <td>exclusionary</td>\n      <td>exclusively</td>\n      <td>6</td>\n    </tr>\n    <tr>\n      <th>47</th>\n      <td>exclusionary</td>\n      <td>exclusionist</td>\n      <td>3</td>\n    </tr>\n    <tr>\n      <th>33</th>\n      <td>radical</td>\n      <td>radical</td>\n      <td>102</td>\n    </tr>\n    <tr>\n      <th>34</th>\n      <td>radical</td>\n      <td>radicalism</td>\n      <td>9</td>\n    </tr>\n    <tr>\n      <th>35</th>\n      <td>radical</td>\n      <td>radically</td>\n      <td>4</td>\n    </tr>\n    <tr>\n      <th>31</th>\n      <td>nativist</td>\n      <td>nativism</td>\n      <td>38</td>\n    </tr>\n    <tr>\n      <th>32</th>\n      <td>nativist</td>\n      <td>nativist</td>\n      <td>36</td>\n    </tr>\n    <tr>\n      <th>40</th>\n      <td>inclusionary</td>\n      <td>inclusionary</td>\n      <td>34</td>\n    </tr>\n    <tr>\n      <th>41</th>\n      <td>inclusionary</td>\n      <td>inclusive</td>\n      <td>19</td>\n    </tr>\n    <tr>\n      <th>42</th>\n      <td>inclusionary</td>\n      <td>inclusion</td>\n      <td>14</td>\n    </tr>\n    <tr>\n      <th>48</th>\n      <td>neoliberal</td>\n      <td>neoliberal</td>\n      <td>50</td>\n    </tr>\n    <tr>\n      <th>49</th>\n      <td>neoliberal</td>\n      <td>neo-liberal</td>\n      <td>12</td>\n    </tr>\n    <tr>\n      <th>50</th>\n      <td>neoliberal</td>\n      <td>neoliberalism</td>\n      <td>3</td>\n    </tr>\n    <tr>\n      <th>36</th>\n      <td>moderate</td>\n      <td>moderate</td>\n      <td>31</td>\n    </tr>\n    <tr>\n      <th>37</th>\n      <td>moderate</td>\n      <td>moderately</td>\n      <td>13</td>\n    </tr>\n  </tbody>\n</table>\n</div>"
     },
     "execution_count": 45,
     "metadata": {},
     "output_type": "execute_result"
    }
   ],
   "source": [
    "poptype_indicators_df"
   ],
   "metadata": {
    "collapsed": false,
    "ExecuteTime": {
     "start_time": "2023-03-24T13:50:05.347949Z",
     "end_time": "2023-03-24T13:50:05.352961Z"
    }
   }
  },
  {
   "cell_type": "code",
   "execution_count": 46,
   "outputs": [],
   "source": [
    "poptype_indicators_df.to_csv(\"../data/poptype_indicators_df.csv\")"
   ],
   "metadata": {
    "collapsed": false,
    "ExecuteTime": {
     "start_time": "2023-03-24T13:50:05.749886Z",
     "end_time": "2023-03-24T13:50:05.777930Z"
    }
   }
  },
  {
   "cell_type": "code",
   "execution_count": 47,
   "outputs": [
    {
     "data": {
      "text/plain": "         poptype                                           variants  count\n0     right-wing  [right-wing, right, right-, rightwe, radical-r...   2094\n1      left-wing  [left-wing, left, left-, leftist, radical-left...    652\n2    nationalist  [nationalism, nationalist, national, nation, e...    260\n6  authoritatian                  [authoritarian, authoritarianism]    157\n8   exclusionary  [exclusionary, exclusion, exclusive, exclusive...    116\n4        radical                   [radical, radicalism, radically]    115\n3       nativist                               [nativism, nativist]     74\n7   inclusionary               [inclusionary, inclusive, inclusion]     67\n9     neoliberal           [neoliberal, neo-liberal, neoliberalism]     65\n5       moderate                             [moderate, moderately]     44",
      "text/html": "<div>\n<style scoped>\n    .dataframe tbody tr th:only-of-type {\n        vertical-align: middle;\n    }\n\n    .dataframe tbody tr th {\n        vertical-align: top;\n    }\n\n    .dataframe thead th {\n        text-align: right;\n    }\n</style>\n<table border=\"1\" class=\"dataframe\">\n  <thead>\n    <tr style=\"text-align: right;\">\n      <th></th>\n      <th>poptype</th>\n      <th>variants</th>\n      <th>count</th>\n    </tr>\n  </thead>\n  <tbody>\n    <tr>\n      <th>0</th>\n      <td>right-wing</td>\n      <td>[right-wing, right, right-, rightwe, radical-r...</td>\n      <td>2094</td>\n    </tr>\n    <tr>\n      <th>1</th>\n      <td>left-wing</td>\n      <td>[left-wing, left, left-, leftist, radical-left...</td>\n      <td>652</td>\n    </tr>\n    <tr>\n      <th>2</th>\n      <td>nationalist</td>\n      <td>[nationalism, nationalist, national, nation, e...</td>\n      <td>260</td>\n    </tr>\n    <tr>\n      <th>6</th>\n      <td>authoritatian</td>\n      <td>[authoritarian, authoritarianism]</td>\n      <td>157</td>\n    </tr>\n    <tr>\n      <th>8</th>\n      <td>exclusionary</td>\n      <td>[exclusionary, exclusion, exclusive, exclusive...</td>\n      <td>116</td>\n    </tr>\n    <tr>\n      <th>4</th>\n      <td>radical</td>\n      <td>[radical, radicalism, radically]</td>\n      <td>115</td>\n    </tr>\n    <tr>\n      <th>3</th>\n      <td>nativist</td>\n      <td>[nativism, nativist]</td>\n      <td>74</td>\n    </tr>\n    <tr>\n      <th>7</th>\n      <td>inclusionary</td>\n      <td>[inclusionary, inclusive, inclusion]</td>\n      <td>67</td>\n    </tr>\n    <tr>\n      <th>9</th>\n      <td>neoliberal</td>\n      <td>[neoliberal, neo-liberal, neoliberalism]</td>\n      <td>65</td>\n    </tr>\n    <tr>\n      <th>5</th>\n      <td>moderate</td>\n      <td>[moderate, moderately]</td>\n      <td>44</td>\n    </tr>\n  </tbody>\n</table>\n</div>"
     },
     "execution_count": 47,
     "metadata": {},
     "output_type": "execute_result"
    }
   ],
   "source": [
    "poptypes_df = pd.DataFrame(list(poptypes_dict.items()), columns=[\"poptype\", \"variants\"])\n",
    "poptypes_df[\"count\"] = poptypes_df[\"poptype\"].apply(lambda x: poptype_counts_dict[x])\n",
    "poptypes_df.sort_values(\"count\", ascending=False, inplace=True)\n",
    "poptypes_df"
   ],
   "metadata": {
    "collapsed": false,
    "ExecuteTime": {
     "start_time": "2023-03-24T13:50:06.275675Z",
     "end_time": "2023-03-24T13:50:06.282687Z"
    }
   }
  },
  {
   "cell_type": "code",
   "execution_count": 48,
   "outputs": [],
   "source": [
    "poptypes_df.to_csv(\"../data/poptypes_df.csv\")"
   ],
   "metadata": {
    "collapsed": false,
    "ExecuteTime": {
     "start_time": "2023-03-24T13:50:06.686765Z",
     "end_time": "2023-03-24T13:50:06.706743Z"
    }
   }
  },
  {
   "cell_type": "code",
   "execution_count": 49,
   "outputs": [
    {
     "data": {
      "text/plain": "         poptype                                           variants  count\n0     right-wing  right-wing, right, right-, rightwe, radical-ri...   2094\n1      left-wing  left-wing, left, left-, leftist, radical-left,...    652\n2    nationalist  nationalism, nationalist, national, nation, et...    260\n6  authoritatian                    authoritarian, authoritarianism    157\n8   exclusionary  exclusionary, exclusion, exclusive, exclusivel...    116\n4        radical                     radical, radicalism, radically    115\n3       nativist                                 nativism, nativist     74\n7   inclusionary                 inclusionary, inclusive, inclusion     67\n9     neoliberal             neoliberal, neo-liberal, neoliberalism     65\n5       moderate                               moderate, moderately     44",
      "text/html": "<div>\n<style scoped>\n    .dataframe tbody tr th:only-of-type {\n        vertical-align: middle;\n    }\n\n    .dataframe tbody tr th {\n        vertical-align: top;\n    }\n\n    .dataframe thead th {\n        text-align: right;\n    }\n</style>\n<table border=\"1\" class=\"dataframe\">\n  <thead>\n    <tr style=\"text-align: right;\">\n      <th></th>\n      <th>poptype</th>\n      <th>variants</th>\n      <th>count</th>\n    </tr>\n  </thead>\n  <tbody>\n    <tr>\n      <th>0</th>\n      <td>right-wing</td>\n      <td>right-wing, right, right-, rightwe, radical-ri...</td>\n      <td>2094</td>\n    </tr>\n    <tr>\n      <th>1</th>\n      <td>left-wing</td>\n      <td>left-wing, left, left-, leftist, radical-left,...</td>\n      <td>652</td>\n    </tr>\n    <tr>\n      <th>2</th>\n      <td>nationalist</td>\n      <td>nationalism, nationalist, national, nation, et...</td>\n      <td>260</td>\n    </tr>\n    <tr>\n      <th>6</th>\n      <td>authoritatian</td>\n      <td>authoritarian, authoritarianism</td>\n      <td>157</td>\n    </tr>\n    <tr>\n      <th>8</th>\n      <td>exclusionary</td>\n      <td>exclusionary, exclusion, exclusive, exclusivel...</td>\n      <td>116</td>\n    </tr>\n    <tr>\n      <th>4</th>\n      <td>radical</td>\n      <td>radical, radicalism, radically</td>\n      <td>115</td>\n    </tr>\n    <tr>\n      <th>3</th>\n      <td>nativist</td>\n      <td>nativism, nativist</td>\n      <td>74</td>\n    </tr>\n    <tr>\n      <th>7</th>\n      <td>inclusionary</td>\n      <td>inclusionary, inclusive, inclusion</td>\n      <td>67</td>\n    </tr>\n    <tr>\n      <th>9</th>\n      <td>neoliberal</td>\n      <td>neoliberal, neo-liberal, neoliberalism</td>\n      <td>65</td>\n    </tr>\n    <tr>\n      <th>5</th>\n      <td>moderate</td>\n      <td>moderate, moderately</td>\n      <td>44</td>\n    </tr>\n  </tbody>\n</table>\n</div>"
     },
     "execution_count": 49,
     "metadata": {},
     "output_type": "execute_result"
    }
   ],
   "source": [
    "poptypes_df[\"variants\"] = poptypes_df[\"variants\"].apply(lambda x: \", \".join(x))\n",
    "poptypes_df"
   ],
   "metadata": {
    "collapsed": false,
    "ExecuteTime": {
     "start_time": "2023-03-24T13:50:08.901690Z",
     "end_time": "2023-03-24T13:50:08.906919Z"
    }
   }
  },
  {
   "cell_type": "code",
   "execution_count": 50,
   "outputs": [],
   "source": [
    "#google_conf.set_with_dataframe(pop_data.add_worksheet(\"poptypes_df\", 1,1), poptypes_df)"
   ],
   "metadata": {
    "collapsed": false,
    "ExecuteTime": {
     "start_time": "2023-03-24T13:50:09.334153Z",
     "end_time": "2023-03-24T13:50:09.353749Z"
    }
   }
  },
  {
   "cell_type": "code",
   "execution_count": 50,
   "outputs": [],
   "source": [],
   "metadata": {
    "collapsed": false,
    "ExecuteTime": {
     "start_time": "2023-03-24T13:50:09.743177Z",
     "end_time": "2023-03-24T13:50:09.749899Z"
    }
   }
  },
  {
   "cell_type": "code",
   "execution_count": 51,
   "outputs": [],
   "source": [
    "poptypes_counts = []\n",
    "for key in poptypes_dict.keys():\n",
    "    poptypes_counts.append([key, sum([tup[1] for tup in poptypes_freqs_raw if tup[0] in poptypes_dict[key]])])"
   ],
   "metadata": {
    "collapsed": false,
    "ExecuteTime": {
     "start_time": "2023-03-24T13:50:10.100637Z",
     "end_time": "2023-03-24T13:50:10.109744Z"
    }
   }
  },
  {
   "cell_type": "code",
   "execution_count": 52,
   "outputs": [
    {
     "data": {
      "text/plain": "39605"
     },
     "execution_count": 52,
     "metadata": {},
     "output_type": "execute_result"
    }
   ],
   "source": [
    "sum([tup[1] for tup in poptypes_freqs_raw])"
   ],
   "metadata": {
    "collapsed": false,
    "ExecuteTime": {
     "start_time": "2023-03-24T13:50:10.705950Z",
     "end_time": "2023-03-24T13:50:10.711028Z"
    }
   }
  },
  {
   "cell_type": "code",
   "execution_count": 53,
   "outputs": [
    {
     "data": {
      "text/plain": "         poptype                                           variants  count  \\\n0     right-wing  right-wing, right, right-, rightwe, radical-ri...   2094   \n1      left-wing  left-wing, left, left-, leftist, radical-left,...    652   \n2    nationalist  nationalism, nationalist, national, nation, et...    260   \n6  authoritatian                    authoritarian, authoritarianism    157   \n8   exclusionary  exclusionary, exclusion, exclusive, exclusivel...    116   \n4        radical                     radical, radicalism, radically    115   \n3       nativist                                 nativism, nativist     74   \n7   inclusionary                 inclusionary, inclusive, inclusion     67   \n9     neoliberal             neoliberal, neo-liberal, neoliberalism     65   \n5       moderate                               moderate, moderately     44   \n\n   proportion_pct  \n0        5.287211  \n1        1.646257  \n2        0.656483  \n6        0.396415  \n8        0.292892  \n4        0.290367  \n3        0.186845  \n7        0.169171  \n9        0.164121  \n5        0.111097  ",
      "text/html": "<div>\n<style scoped>\n    .dataframe tbody tr th:only-of-type {\n        vertical-align: middle;\n    }\n\n    .dataframe tbody tr th {\n        vertical-align: top;\n    }\n\n    .dataframe thead th {\n        text-align: right;\n    }\n</style>\n<table border=\"1\" class=\"dataframe\">\n  <thead>\n    <tr style=\"text-align: right;\">\n      <th></th>\n      <th>poptype</th>\n      <th>variants</th>\n      <th>count</th>\n      <th>proportion_pct</th>\n    </tr>\n  </thead>\n  <tbody>\n    <tr>\n      <th>0</th>\n      <td>right-wing</td>\n      <td>right-wing, right, right-, rightwe, radical-ri...</td>\n      <td>2094</td>\n      <td>5.287211</td>\n    </tr>\n    <tr>\n      <th>1</th>\n      <td>left-wing</td>\n      <td>left-wing, left, left-, leftist, radical-left,...</td>\n      <td>652</td>\n      <td>1.646257</td>\n    </tr>\n    <tr>\n      <th>2</th>\n      <td>nationalist</td>\n      <td>nationalism, nationalist, national, nation, et...</td>\n      <td>260</td>\n      <td>0.656483</td>\n    </tr>\n    <tr>\n      <th>6</th>\n      <td>authoritatian</td>\n      <td>authoritarian, authoritarianism</td>\n      <td>157</td>\n      <td>0.396415</td>\n    </tr>\n    <tr>\n      <th>8</th>\n      <td>exclusionary</td>\n      <td>exclusionary, exclusion, exclusive, exclusivel...</td>\n      <td>116</td>\n      <td>0.292892</td>\n    </tr>\n    <tr>\n      <th>4</th>\n      <td>radical</td>\n      <td>radical, radicalism, radically</td>\n      <td>115</td>\n      <td>0.290367</td>\n    </tr>\n    <tr>\n      <th>3</th>\n      <td>nativist</td>\n      <td>nativism, nativist</td>\n      <td>74</td>\n      <td>0.186845</td>\n    </tr>\n    <tr>\n      <th>7</th>\n      <td>inclusionary</td>\n      <td>inclusionary, inclusive, inclusion</td>\n      <td>67</td>\n      <td>0.169171</td>\n    </tr>\n    <tr>\n      <th>9</th>\n      <td>neoliberal</td>\n      <td>neoliberal, neo-liberal, neoliberalism</td>\n      <td>65</td>\n      <td>0.164121</td>\n    </tr>\n    <tr>\n      <th>5</th>\n      <td>moderate</td>\n      <td>moderate, moderately</td>\n      <td>44</td>\n      <td>0.111097</td>\n    </tr>\n  </tbody>\n</table>\n</div>"
     },
     "execution_count": 53,
     "metadata": {},
     "output_type": "execute_result"
    }
   ],
   "source": [
    "poptypes_df[\"proportion_pct\"] = (poptypes_df[\"count\"] / sum([tup[1] for tup in poptypes_freqs_raw]) * 100)\n",
    "poptypes_df"
   ],
   "metadata": {
    "collapsed": false,
    "ExecuteTime": {
     "start_time": "2023-03-24T13:50:11.197802Z",
     "end_time": "2023-03-24T13:50:11.201898Z"
    }
   }
  },
  {
   "cell_type": "code",
   "execution_count": 54,
   "outputs": [
    {
     "data": {
      "text/plain": "         poptype                                           variants  count  \\\n0     right-wing  right-wing, right, right-, rightwe, radical-ri...   2094   \n1      left-wing  left-wing, left, left-, leftist, radical-left,...    652   \n2    nationalist  nationalism, nationalist, national, nation, et...    260   \n6  authoritatian                    authoritarian, authoritarianism    157   \n8   exclusionary  exclusionary, exclusion, exclusive, exclusivel...    116   \n4        radical                     radical, radicalism, radically    115   \n3       nativist                                 nativism, nativist     74   \n7   inclusionary                 inclusionary, inclusive, inclusion     67   \n9     neoliberal             neoliberal, neo-liberal, neoliberalism     65   \n5       moderate                               moderate, moderately     44   \n\n   proportion_pct  \n0       57.464325  \n1       17.892426  \n2        7.135016  \n6        4.308452  \n8        3.183315  \n4        3.155873  \n3        2.030735  \n7        1.838639  \n9        1.783754  \n5        1.207464  ",
      "text/html": "<div>\n<style scoped>\n    .dataframe tbody tr th:only-of-type {\n        vertical-align: middle;\n    }\n\n    .dataframe tbody tr th {\n        vertical-align: top;\n    }\n\n    .dataframe thead th {\n        text-align: right;\n    }\n</style>\n<table border=\"1\" class=\"dataframe\">\n  <thead>\n    <tr style=\"text-align: right;\">\n      <th></th>\n      <th>poptype</th>\n      <th>variants</th>\n      <th>count</th>\n      <th>proportion_pct</th>\n    </tr>\n  </thead>\n  <tbody>\n    <tr>\n      <th>0</th>\n      <td>right-wing</td>\n      <td>right-wing, right, right-, rightwe, radical-ri...</td>\n      <td>2094</td>\n      <td>57.464325</td>\n    </tr>\n    <tr>\n      <th>1</th>\n      <td>left-wing</td>\n      <td>left-wing, left, left-, leftist, radical-left,...</td>\n      <td>652</td>\n      <td>17.892426</td>\n    </tr>\n    <tr>\n      <th>2</th>\n      <td>nationalist</td>\n      <td>nationalism, nationalist, national, nation, et...</td>\n      <td>260</td>\n      <td>7.135016</td>\n    </tr>\n    <tr>\n      <th>6</th>\n      <td>authoritatian</td>\n      <td>authoritarian, authoritarianism</td>\n      <td>157</td>\n      <td>4.308452</td>\n    </tr>\n    <tr>\n      <th>8</th>\n      <td>exclusionary</td>\n      <td>exclusionary, exclusion, exclusive, exclusivel...</td>\n      <td>116</td>\n      <td>3.183315</td>\n    </tr>\n    <tr>\n      <th>4</th>\n      <td>radical</td>\n      <td>radical, radicalism, radically</td>\n      <td>115</td>\n      <td>3.155873</td>\n    </tr>\n    <tr>\n      <th>3</th>\n      <td>nativist</td>\n      <td>nativism, nativist</td>\n      <td>74</td>\n      <td>2.030735</td>\n    </tr>\n    <tr>\n      <th>7</th>\n      <td>inclusionary</td>\n      <td>inclusionary, inclusive, inclusion</td>\n      <td>67</td>\n      <td>1.838639</td>\n    </tr>\n    <tr>\n      <th>9</th>\n      <td>neoliberal</td>\n      <td>neoliberal, neo-liberal, neoliberalism</td>\n      <td>65</td>\n      <td>1.783754</td>\n    </tr>\n    <tr>\n      <th>5</th>\n      <td>moderate</td>\n      <td>moderate, moderately</td>\n      <td>44</td>\n      <td>1.207464</td>\n    </tr>\n  </tbody>\n</table>\n</div>"
     },
     "execution_count": 54,
     "metadata": {},
     "output_type": "execute_result"
    }
   ],
   "source": [
    "poptypes_df[\"proportion_pct\"] = (poptypes_df[\"count\"] / poptypes_df[\"count\"].sum() * 100)\n",
    "poptypes_df"
   ],
   "metadata": {
    "collapsed": false,
    "ExecuteTime": {
     "start_time": "2023-03-24T13:50:13.427140Z",
     "end_time": "2023-03-24T13:50:13.467319Z"
    }
   }
  },
  {
   "cell_type": "code",
   "execution_count": null,
   "outputs": [],
   "source": [],
   "metadata": {
    "collapsed": false
   }
  }
 ],
 "metadata": {
  "kernelspec": {
   "name": "conda_base",
   "language": "python",
   "display_name": "conda_base"
  },
  "language_info": {
   "codemirror_mode": {
    "name": "ipython",
    "version": 2
   },
   "file_extension": ".py",
   "mimetype": "text/x-python",
   "name": "python",
   "nbconvert_exporter": "python",
   "pygments_lexer": "ipython2",
   "version": "2.7.6"
  }
 },
 "nbformat": 4,
 "nbformat_minor": 0
}
