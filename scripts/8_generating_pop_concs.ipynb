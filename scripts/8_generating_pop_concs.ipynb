{
 "cells": [
  {
   "cell_type": "code",
   "execution_count": 4,
   "outputs": [],
   "source": [
    "import pandas as pd\n",
    "import re\n",
    "import nltk\n",
    "import os"
   ],
   "metadata": {
    "collapsed": false
   }
  },
  {
   "cell_type": "code",
   "execution_count": 5,
   "outputs": [
    {
     "data": {
      "text/plain": "   year                 authors                            journal  \\\n0  2011              Bos et al.            Political Communication   \n1  2019         Blassnig et al.            Political Communication   \n2  2017                Caramani  American Political Science Review   \n3  2020  Wuttke,Schimpf, Schoen  American Political Science Review   \n4  2014                   Treib  Journal of European Public Policy   \n\n                                               title     type pdf? keywords  \\\n0  How the Media Shape Perceptions of Right-Wing ...  article    y        y   \n1  Hitting a Nerve: Populist News Articles Lead t...  article    y        y   \n2  Will vs. Reason: The Populist and Technocratic...  article    y        y   \n3  When the Whole Is Greater than the Sum of Its ...  article    y        y   \n4  The voter says no, but nobody listens: causes ...  article    y        y   \n\n  keywords_online? notes                                           filepath  \\\n0                y  None  [Political Communication/2011 - Bos et al. - H...   \n1                y  None  [Political Communication/2019 - Blassing et al...   \n2             None  None  [American Political Science Review/2017 - Cara...   \n3             None  None  [American Political Science Review/2020 - Wutt...   \n4             None  None  [Journal of European Public Policy/2014 - Trei...   \n\n   pop_id  \n0       0  \n1       1  \n2       2  \n3       3  \n4       4  ",
      "text/html": "<div>\n<style scoped>\n    .dataframe tbody tr th:only-of-type {\n        vertical-align: middle;\n    }\n\n    .dataframe tbody tr th {\n        vertical-align: top;\n    }\n\n    .dataframe thead th {\n        text-align: right;\n    }\n</style>\n<table border=\"1\" class=\"dataframe\">\n  <thead>\n    <tr style=\"text-align: right;\">\n      <th></th>\n      <th>year</th>\n      <th>authors</th>\n      <th>journal</th>\n      <th>title</th>\n      <th>type</th>\n      <th>pdf?</th>\n      <th>keywords</th>\n      <th>keywords_online?</th>\n      <th>notes</th>\n      <th>filepath</th>\n      <th>pop_id</th>\n    </tr>\n  </thead>\n  <tbody>\n    <tr>\n      <th>0</th>\n      <td>2011</td>\n      <td>Bos et al.</td>\n      <td>Political Communication</td>\n      <td>How the Media Shape Perceptions of Right-Wing ...</td>\n      <td>article</td>\n      <td>y</td>\n      <td>y</td>\n      <td>y</td>\n      <td>None</td>\n      <td>[Political Communication/2011 - Bos et al. - H...</td>\n      <td>0</td>\n    </tr>\n    <tr>\n      <th>1</th>\n      <td>2019</td>\n      <td>Blassnig et al.</td>\n      <td>Political Communication</td>\n      <td>Hitting a Nerve: Populist News Articles Lead t...</td>\n      <td>article</td>\n      <td>y</td>\n      <td>y</td>\n      <td>y</td>\n      <td>None</td>\n      <td>[Political Communication/2019 - Blassing et al...</td>\n      <td>1</td>\n    </tr>\n    <tr>\n      <th>2</th>\n      <td>2017</td>\n      <td>Caramani</td>\n      <td>American Political Science Review</td>\n      <td>Will vs. Reason: The Populist and Technocratic...</td>\n      <td>article</td>\n      <td>y</td>\n      <td>y</td>\n      <td>None</td>\n      <td>None</td>\n      <td>[American Political Science Review/2017 - Cara...</td>\n      <td>2</td>\n    </tr>\n    <tr>\n      <th>3</th>\n      <td>2020</td>\n      <td>Wuttke,Schimpf, Schoen</td>\n      <td>American Political Science Review</td>\n      <td>When the Whole Is Greater than the Sum of Its ...</td>\n      <td>article</td>\n      <td>y</td>\n      <td>y</td>\n      <td>None</td>\n      <td>None</td>\n      <td>[American Political Science Review/2020 - Wutt...</td>\n      <td>3</td>\n    </tr>\n    <tr>\n      <th>4</th>\n      <td>2014</td>\n      <td>Treib</td>\n      <td>Journal of European Public Policy</td>\n      <td>The voter says no, but nobody listens: causes ...</td>\n      <td>article</td>\n      <td>y</td>\n      <td>y</td>\n      <td>None</td>\n      <td>None</td>\n      <td>[Journal of European Public Policy/2014 - Trei...</td>\n      <td>4</td>\n    </tr>\n  </tbody>\n</table>\n</div>"
     },
     "execution_count": 5,
     "metadata": {},
     "output_type": "execute_result"
    }
   ],
   "source": [
    "articles_metadata = pd.read_json(\"../data/article_metadata_with_filepaths.json\")\n",
    "articles_metadata.head(5)"
   ],
   "metadata": {
    "collapsed": false
   }
  },
  {
   "cell_type": "code",
   "execution_count": 6,
   "outputs": [
    {
     "data": {
      "text/plain": "     year                   authors  \\\n33   2013                   Weyland   \n139  2014                 Bordignon   \n244  2017                     March   \n266  2015                 Gerodimos   \n267  2016           Otjes, Louwerse   \n272  2017             Ramiro, Gomez   \n276  2019   van der Waal, de Koster   \n358  2017           Akkerman et al.   \n366  2017             Ivaldi et al.   \n423  2014  Stavrakakis, Katsambekis   \n483  2019                    Berman   \n501  2019                   Sotiris   \n\n                                               journal  \\\n33                                Journal of Democracy   \n139                South European Society and Politics   \n244  The British Journal of Politics and Internatio...   \n266                                  Political Studies   \n267                                  Political Studies   \n272                                  Political Studies   \n276                                  Political Studies   \n358                     Swiss Political Science Review   \n366                     Swiss Political Science Review   \n423                    Journal of Political Ideologies   \n483                                             Polity   \n501  Historical Materialism Research in Critical Ma...   \n\n                                                 title     type pdf? keywords  \\\n33   Latin America’s Authoritarian Drift: The Threa...  article    y        y   \n139  Matteo Renzi: A ‘Leftist Berlusconi’ for the I...  article    y        y   \n244  Left and right populism compared: The British ...  article    y        y   \n266  The Ideology of Far Left Populism in Greece: B...  article    y        y   \n267  Populists in Parliament: Comparing Left-Wing a...  article    y        y   \n272  Radical-Left Populism during the Great Recessi...  article    y        y   \n276  Populism and Support for Protectionism: The Re...  article    y        y   \n358  ‘We the People’ or ‘We the Peoples’? A Compari...  article    y        y   \n366  Varieties of Populism across a Left-Right Spec...  article    y        y   \n423  Left-wing populism in the European periphery: ...  article    y        y   \n483  Populism is a Symptom Rather than a Cause: Dem...  article    y        y   \n501                     Is a ‘Left Populism’ Possible?  article    y        y   \n\n    keywords_online? notes                                           filepath  \\\n33                 y  None  [Journal of Democracy/2013 - Weyland - Latin A...   \n139             None  None  [South European Society and Politics/2014 - Bo...   \n244             None  None  [The British Journal of Politics and Internati...   \n266             None  None  [Political Studies/2015 - Gerodimos - The Ideo...   \n267             None  None  [Political Studies/2015 - Otjes, Louwerse - Po...   \n272             None  None  [Political Studies/2017 - Ramiro, Gomez - Radi...   \n276             None  None  [Political Studies/2018 - Van der Waal, De Kos...   \n358             None  None  [Swiss Political Science Review/2017 - Akkerma...   \n366             None  None  [Swiss Political Science Review/2017 - Ivaldi ...   \n423             None  None  [Journal of Political Ideologies/2014 - Stavra...   \n483             None  None  [Polity/2019 - Berman - Populism is a Symptom ...   \n501             None  None  [Historical Materialism Research in Critical M...   \n\n     pop_id  \n33       33  \n139     139  \n244     244  \n266     266  \n267     267  \n272     272  \n276     276  \n358     358  \n366     366  \n423     423  \n483     483  \n501     501  ",
      "text/html": "<div>\n<style scoped>\n    .dataframe tbody tr th:only-of-type {\n        vertical-align: middle;\n    }\n\n    .dataframe tbody tr th {\n        vertical-align: top;\n    }\n\n    .dataframe thead th {\n        text-align: right;\n    }\n</style>\n<table border=\"1\" class=\"dataframe\">\n  <thead>\n    <tr style=\"text-align: right;\">\n      <th></th>\n      <th>year</th>\n      <th>authors</th>\n      <th>journal</th>\n      <th>title</th>\n      <th>type</th>\n      <th>pdf?</th>\n      <th>keywords</th>\n      <th>keywords_online?</th>\n      <th>notes</th>\n      <th>filepath</th>\n      <th>pop_id</th>\n    </tr>\n  </thead>\n  <tbody>\n    <tr>\n      <th>33</th>\n      <td>2013</td>\n      <td>Weyland</td>\n      <td>Journal of Democracy</td>\n      <td>Latin America’s Authoritarian Drift: The Threa...</td>\n      <td>article</td>\n      <td>y</td>\n      <td>y</td>\n      <td>y</td>\n      <td>None</td>\n      <td>[Journal of Democracy/2013 - Weyland - Latin A...</td>\n      <td>33</td>\n    </tr>\n    <tr>\n      <th>139</th>\n      <td>2014</td>\n      <td>Bordignon</td>\n      <td>South European Society and Politics</td>\n      <td>Matteo Renzi: A ‘Leftist Berlusconi’ for the I...</td>\n      <td>article</td>\n      <td>y</td>\n      <td>y</td>\n      <td>None</td>\n      <td>None</td>\n      <td>[South European Society and Politics/2014 - Bo...</td>\n      <td>139</td>\n    </tr>\n    <tr>\n      <th>244</th>\n      <td>2017</td>\n      <td>March</td>\n      <td>The British Journal of Politics and Internatio...</td>\n      <td>Left and right populism compared: The British ...</td>\n      <td>article</td>\n      <td>y</td>\n      <td>y</td>\n      <td>None</td>\n      <td>None</td>\n      <td>[The British Journal of Politics and Internati...</td>\n      <td>244</td>\n    </tr>\n    <tr>\n      <th>266</th>\n      <td>2015</td>\n      <td>Gerodimos</td>\n      <td>Political Studies</td>\n      <td>The Ideology of Far Left Populism in Greece: B...</td>\n      <td>article</td>\n      <td>y</td>\n      <td>y</td>\n      <td>None</td>\n      <td>None</td>\n      <td>[Political Studies/2015 - Gerodimos - The Ideo...</td>\n      <td>266</td>\n    </tr>\n    <tr>\n      <th>267</th>\n      <td>2016</td>\n      <td>Otjes, Louwerse</td>\n      <td>Political Studies</td>\n      <td>Populists in Parliament: Comparing Left-Wing a...</td>\n      <td>article</td>\n      <td>y</td>\n      <td>y</td>\n      <td>None</td>\n      <td>None</td>\n      <td>[Political Studies/2015 - Otjes, Louwerse - Po...</td>\n      <td>267</td>\n    </tr>\n    <tr>\n      <th>272</th>\n      <td>2017</td>\n      <td>Ramiro, Gomez</td>\n      <td>Political Studies</td>\n      <td>Radical-Left Populism during the Great Recessi...</td>\n      <td>article</td>\n      <td>y</td>\n      <td>y</td>\n      <td>None</td>\n      <td>None</td>\n      <td>[Political Studies/2017 - Ramiro, Gomez - Radi...</td>\n      <td>272</td>\n    </tr>\n    <tr>\n      <th>276</th>\n      <td>2019</td>\n      <td>van der Waal, de Koster</td>\n      <td>Political Studies</td>\n      <td>Populism and Support for Protectionism: The Re...</td>\n      <td>article</td>\n      <td>y</td>\n      <td>y</td>\n      <td>None</td>\n      <td>None</td>\n      <td>[Political Studies/2018 - Van der Waal, De Kos...</td>\n      <td>276</td>\n    </tr>\n    <tr>\n      <th>358</th>\n      <td>2017</td>\n      <td>Akkerman et al.</td>\n      <td>Swiss Political Science Review</td>\n      <td>‘We the People’ or ‘We the Peoples’? A Compari...</td>\n      <td>article</td>\n      <td>y</td>\n      <td>y</td>\n      <td>None</td>\n      <td>None</td>\n      <td>[Swiss Political Science Review/2017 - Akkerma...</td>\n      <td>358</td>\n    </tr>\n    <tr>\n      <th>366</th>\n      <td>2017</td>\n      <td>Ivaldi et al.</td>\n      <td>Swiss Political Science Review</td>\n      <td>Varieties of Populism across a Left-Right Spec...</td>\n      <td>article</td>\n      <td>y</td>\n      <td>y</td>\n      <td>None</td>\n      <td>None</td>\n      <td>[Swiss Political Science Review/2017 - Ivaldi ...</td>\n      <td>366</td>\n    </tr>\n    <tr>\n      <th>423</th>\n      <td>2014</td>\n      <td>Stavrakakis, Katsambekis</td>\n      <td>Journal of Political Ideologies</td>\n      <td>Left-wing populism in the European periphery: ...</td>\n      <td>article</td>\n      <td>y</td>\n      <td>y</td>\n      <td>None</td>\n      <td>None</td>\n      <td>[Journal of Political Ideologies/2014 - Stavra...</td>\n      <td>423</td>\n    </tr>\n    <tr>\n      <th>483</th>\n      <td>2019</td>\n      <td>Berman</td>\n      <td>Polity</td>\n      <td>Populism is a Symptom Rather than a Cause: Dem...</td>\n      <td>article</td>\n      <td>y</td>\n      <td>y</td>\n      <td>None</td>\n      <td>None</td>\n      <td>[Polity/2019 - Berman - Populism is a Symptom ...</td>\n      <td>483</td>\n    </tr>\n    <tr>\n      <th>501</th>\n      <td>2019</td>\n      <td>Sotiris</td>\n      <td>Historical Materialism Research in Critical Ma...</td>\n      <td>Is a ‘Left Populism’ Possible?</td>\n      <td>article</td>\n      <td>y</td>\n      <td>y</td>\n      <td>None</td>\n      <td>None</td>\n      <td>[Historical Materialism Research in Critical M...</td>\n      <td>501</td>\n    </tr>\n  </tbody>\n</table>\n</div>"
     },
     "execution_count": 6,
     "metadata": {},
     "output_type": "execute_result"
    }
   ],
   "source": [
    "articles_metadata[articles_metadata[\"title\"].str.contains(\"Left\")]"
   ],
   "metadata": {
    "collapsed": false
   }
  },
  {
   "cell_type": "code",
   "execution_count": 7,
   "outputs": [],
   "source": [
    "popid_year_dict = dict(zip(articles_metadata[\"pop_id\"], articles_metadata[\"year\"]))"
   ],
   "metadata": {
    "collapsed": false
   }
  },
  {
   "cell_type": "code",
   "execution_count": 8,
   "outputs": [
    {
     "data": {
      "text/plain": "   year                 authors                            journal  \\\n0  2011              Bos et al.            Political Communication   \n1  2019         Blassnig et al.            Political Communication   \n2  2017                Caramani  American Political Science Review   \n3  2020  Wuttke,Schimpf, Schoen  American Political Science Review   \n4  2014                   Treib  Journal of European Public Policy   \n\n                                               title     type pdf? keywords  \\\n0  How the Media Shape Perceptions of Right-Wing ...  article    y        y   \n1  Hitting a Nerve: Populist News Articles Lead t...  article    y        y   \n2  Will vs. Reason: The Populist and Technocratic...  article    y        y   \n3  When the Whole Is Greater than the Sum of Its ...  article    y        y   \n4  The voter says no, but nobody listens: causes ...  article    y        y   \n\n  keywords_online? notes                                           filepath  \\\n0                y  None  [Political Communication/2011 - Bos et al. - H...   \n1                y  None  [Political Communication/2019 - Blassing et al...   \n2             None  None  [American Political Science Review/2017 - Cara...   \n3             None  None  [American Political Science Review/2020 - Wutt...   \n4             None  None  [Journal of European Public Policy/2014 - Trei...   \n\n   pop_id  \n0       0  \n1       1  \n2       2  \n3       3  \n4       4  ",
      "text/html": "<div>\n<style scoped>\n    .dataframe tbody tr th:only-of-type {\n        vertical-align: middle;\n    }\n\n    .dataframe tbody tr th {\n        vertical-align: top;\n    }\n\n    .dataframe thead th {\n        text-align: right;\n    }\n</style>\n<table border=\"1\" class=\"dataframe\">\n  <thead>\n    <tr style=\"text-align: right;\">\n      <th></th>\n      <th>year</th>\n      <th>authors</th>\n      <th>journal</th>\n      <th>title</th>\n      <th>type</th>\n      <th>pdf?</th>\n      <th>keywords</th>\n      <th>keywords_online?</th>\n      <th>notes</th>\n      <th>filepath</th>\n      <th>pop_id</th>\n    </tr>\n  </thead>\n  <tbody>\n    <tr>\n      <th>0</th>\n      <td>2011</td>\n      <td>Bos et al.</td>\n      <td>Political Communication</td>\n      <td>How the Media Shape Perceptions of Right-Wing ...</td>\n      <td>article</td>\n      <td>y</td>\n      <td>y</td>\n      <td>y</td>\n      <td>None</td>\n      <td>[Political Communication/2011 - Bos et al. - H...</td>\n      <td>0</td>\n    </tr>\n    <tr>\n      <th>1</th>\n      <td>2019</td>\n      <td>Blassnig et al.</td>\n      <td>Political Communication</td>\n      <td>Hitting a Nerve: Populist News Articles Lead t...</td>\n      <td>article</td>\n      <td>y</td>\n      <td>y</td>\n      <td>y</td>\n      <td>None</td>\n      <td>[Political Communication/2019 - Blassing et al...</td>\n      <td>1</td>\n    </tr>\n    <tr>\n      <th>2</th>\n      <td>2017</td>\n      <td>Caramani</td>\n      <td>American Political Science Review</td>\n      <td>Will vs. Reason: The Populist and Technocratic...</td>\n      <td>article</td>\n      <td>y</td>\n      <td>y</td>\n      <td>None</td>\n      <td>None</td>\n      <td>[American Political Science Review/2017 - Cara...</td>\n      <td>2</td>\n    </tr>\n    <tr>\n      <th>3</th>\n      <td>2020</td>\n      <td>Wuttke,Schimpf, Schoen</td>\n      <td>American Political Science Review</td>\n      <td>When the Whole Is Greater than the Sum of Its ...</td>\n      <td>article</td>\n      <td>y</td>\n      <td>y</td>\n      <td>None</td>\n      <td>None</td>\n      <td>[American Political Science Review/2020 - Wutt...</td>\n      <td>3</td>\n    </tr>\n    <tr>\n      <th>4</th>\n      <td>2014</td>\n      <td>Treib</td>\n      <td>Journal of European Public Policy</td>\n      <td>The voter says no, but nobody listens: causes ...</td>\n      <td>article</td>\n      <td>y</td>\n      <td>y</td>\n      <td>None</td>\n      <td>None</td>\n      <td>[Journal of European Public Policy/2014 - Trei...</td>\n      <td>4</td>\n    </tr>\n  </tbody>\n</table>\n</div>"
     },
     "execution_count": 8,
     "metadata": {},
     "output_type": "execute_result"
    }
   ],
   "source": [
    "articles_metadata.head(5)"
   ],
   "metadata": {
    "collapsed": false
   }
  },
  {
   "cell_type": "code",
   "execution_count": 9,
   "outputs": [],
   "source": [
    "pop_id = 423"
   ],
   "metadata": {
    "collapsed": false
   }
  },
  {
   "cell_type": "code",
   "execution_count": 10,
   "outputs": [],
   "source": [
    "path = \"../data/large_data/articles_lemmata_min/\"\n",
    "filename = \"lemmata_pop_id_{}.txt\".format(str(pop_id))\n",
    "filepath = path + filename\n",
    "with open(filepath, \"r\") as f:\n",
    "    lemmatized_sentences = f.readlines()"
   ],
   "metadata": {
    "collapsed": false
   }
  },
  {
   "cell_type": "code",
   "execution_count": 11,
   "outputs": [
    {
     "data": {
      "text/plain": "['cite article\\n',\n 'left-wing populism european periphery case -\\n',\n 'ABSTRACT electoral performance general election previously unknown greek political formation radical left gain unprecedented visibility european public sphere\\n',\n 'strong showing political message articulate interpret\\n',\n 'utilize discursive methodology paper put test assumption predominate available analysis articulate populist rhetoric constitute predominantly populist force give near-exclusive association populism extreme right-wing movement constitute populist danger\\n']"
     },
     "execution_count": 11,
     "metadata": {},
     "output_type": "execute_result"
    }
   ],
   "source": [
    "lemmatized_sentences[:5]"
   ],
   "metadata": {
    "collapsed": false
   }
  },
  {
   "cell_type": "code",
   "execution_count": 12,
   "outputs": [
    {
     "data": {
      "text/plain": "<re.Match object; span=(48, 56), match=' populis'>"
     },
     "execution_count": 12,
     "metadata": {},
     "output_type": "execute_result"
    }
   ],
   "source": [
    "sent = \"cxcxpopulis agree dichotomy progressive national populist\"\n",
    "re.search(r\"^populis|\\spopulis\", sent)"
   ],
   "metadata": {
    "collapsed": false
   }
  },
  {
   "cell_type": "code",
   "execution_count": 13,
   "outputs": [
    {
     "data": {
      "text/plain": "['left-wing populism european periphery case -\\n',\n 'utilize discursive methodology paper put test assumption predominate available analysis articulate populist rhetoric constitute predominantly populist force give near-exclusive association populism extreme right-wing movement constitute populist danger\\n',\n 'analysis conclude discourse distinct articulation left-wing populism\\n',\n 'case mainstream research orientation study european populism review\\n',\n 'view predominate journalistic academic inside outside constitute populist movement articulate populist rhetoric\\n',\n 'reporter leader unabashed similar vein magazine follow trajectory anti-austerity maintain populist tendency suggest keen student\\n',\n 'populist characterization predominate academic commentator\\n',\n 'culture especially deep-rooted economically vulnerable fear international competition ripe populist leadership\\n',\n 'give near-exclusive association populism far-right anti-european economico-politically irresponsible extremist movement european context diagnosis populism extend demonization present challenge neoliberal austerity policy populist danger\\n',\n 'wonder reserve prominent place dangerous politician precisely ground subtitle indicate overarch criterion dangerousness today reveal reckless populist\\n',\n 'give populism ofﬁcially declare main enemy establishment\\n',\n 'answer articulate line probably rise populist movement extreme political spectrum\\n',\n 'drive similar concern highlight lack clarity purpose mark populist leadership worried ask comment possibility take power come afraid expectation\\n',\n 'essay attempt test prevail journalistic academic assumption accord constitute populist force\\n',\n 'issue adequately discuss consistent verdict reach clear formulation criterion rigorous theory populism\\n',\n 'available account journalistic academic label populist apply manner take meaning grant fail provide concrete persuasive justiﬁcation use\\n',\n 'case regard systemic feature public debate populism internationally\\n',\n 'scholar journalist policy maker use word populist describe movement observer clarify meaning term apply\\n',\n 'claim discourse theory analysis populism initiate so-called locate methodologically consistent theoretically support formulation criterion result utilize series discourse-theoretical tool conduct analysis\\n',\n 'include especially study populist discourse\\n',\n 'work advanced provide descriptive material need create well deﬁnition measurement populism\\n',\n 'main argument forward substantiate paper utilize discursive framework discourse populist discourse distinct articulation left-wing populism\\n',\n 'means vindicate second prevail wisdom virtual equation extreme right-wing populism portrayal dangerous evil force put risk fundamental european value\\n',\n 'important perspective term isolated assessment greek political party course defence fall outside scope analytical intervention important case mainstream research orientation study european populism review urgently\\n',\n 'theorize populism minimal criterion revisit exist literature quickly lead realization populism notoriously elusive slippery concept\\n',\n 'pessimistic begin inﬂuential article publish summarize research strategy develop study populism time ask possible ﬁnd reasonably solid core agree meaning use category\\n',\n 'thirty year later introduce edited volume point period number scholar populism increase manifold probably deﬁnitional consensus scholarly community\\n',\n 'ironically express admiration theory populism subsequently dismiss marginal reason\\n',\n 'case purport forward minimal deﬁnition populism end close especially exclude adjective embellish initial formulation political discursive logic consider society ultimately separate group people elite argue politic expression people\\n',\n 'discursive approach emerge underlying marginalize kernel minimal deﬁnition populism position claim consistently occupy decade\\n',\n 'interestingly populism main analytical focus discourse analysis approach populism elaborate discursive framework inﬂuence contribute operational criterion promise resolve aforementioned deﬁnitional analytical impasse\\n',\n 'obviously need sufﬁciently stress indication need present discourse movement classiﬁe populist useful differential classiﬁcation emerge extent far political discourse associate course populist\\n',\n 'process populist discourse articulated typically involve establishment linkage series initially heterogeneous unsatisﬁed demand enter relation equivalence form collective identity people leadership represent\\n',\n 'result populist discursive articulation acquire hegemonic appeal process affective investment\\n',\n 'utilization relatively formal criterion discursive orientation offer possibility develop rigorous typology populist movement identity discourse\\n',\n 'articulatory nature populist discourse ﬂexibility populist ideological articulation underline discourse theorist illuminate paradox antinomic formulation populist ideology socialist-populist hybrid find contemporary populist movement european periphery paradoxical elitist populism characteristic extreme right-wing movement\\n',\n 'ﬂexible rigorous conception populism illuminate remain major point contention ongoing debate ambiguous relation populism democracy\\n',\n 'hand particular way populist movement articulate claim represent charismatic leader fuel resentment virtually bypass institutional framework representative democracy contain illiberal anti-right nationalist need take seriously account\\n',\n 'picture exhaust immense variety populist articulation\\n',\n 'represent exclude group put forward egalitarian agenda type formal populist core legacy radical democratic see integral democratic politic source renewal democratic institution\\n',\n 'point view western democracy turn despotic oligarchic form governance populism likely ﬁgure suitable vehicle sought redemocratization\\n',\n 'historical political background populism post-authoritarian having establish provisional theoretical basis endow sufﬁciently ﬂexible set minimal criterion research populism turn case study\\n',\n 'obviously stranger populism\\n',\n 'country recent history follow democratic transition mark end seven-year military dictatorship mark populist movement kind range popular-democratic left religious far-right\\n',\n 'late early political stage dominate archetypal populism put forward demand so-called social justice popular sovereignty national independence establishment accuse monopolize political access economic privilege way end help external power initially\\n',\n 'pasok gradually turn anti-populist leadership modernizer mark remarkable shift populism modernization\\n',\n 'follow gradual radical mutation sensitivity discourse populist ﬂag migrate left right\\n',\n 'year see major populist incident\\n',\n 'newly elect lead campaign oppose decision articulate discourse mark clearly populist proﬁle\\n',\n 'second major populist incident come month dust settle mobilization associate newly form party\\n',\n 'today re-emergence populism come completely new context indicate new swing pendulum left\\n',\n 'claim stigmatize party support austerity outrageously populist unattainable unthinkable policy certainly lead country altogether economic social hell\\n',\n 'rate unexpected electoral result achieve need oppose radically explain mainstream medium party support government form election recourse populist message message suppose dangerous mesmerize\\n',\n 'formal criterion outline early accept populist characterization dominate academic account domestically internationally\\n',\n 'try determine discourse constitute populist discourse shall utilize discursive criterion formulate early\\n',\n 'line inquiry main research question follow discourse articulate recently leader populist discourse\\n',\n 'typical populist moment perform virtual self-vanishing gesture present neutral multipli popular power people vote vote strengthen people lead mirroring dialectic\\n',\n 'people seize noteworthy speech reactivate memory populist speak non-privileged\\n',\n 'mh-pronomioύxoi utilize highly charge signiﬁer main synecdoche people discourse year populist hegemony\\n',\n 'see populism typically represent social dichotomic term\\n',\n 'sense open-ended chain equivalence avoid limitation typical right-wing populism\\n',\n 'sense populism describe inclusionary populism deﬁne\\n',\n 'short analysis utilize minimal criterion formulate previously substantiate populist characterization discourse\\n',\n 'course mean accept label populist\\n',\n 'contrary reluctant positively embrace populism anxious return characterization political opponent\\n',\n 'obviously like reasonable thing country populism associate demagogy irrationalism clientelism corruption virtually exist political pathology\\n',\n 'country populism carry stigma heavy negative historical connotation likely politician embrace populism directly\\n',\n 'tell denounce populist hesitate respond populist\\n',\n 'research european see discourse-theoretical orientation remedy lack establish deﬁnitional criterion bring fore substantiate implicit consensus span year research populism\\n',\n 'utilize criterion reach informed conclusion proﬁle discourse constitute populist discourse distinct articulation left-wing populism\\n',\n 'justify virtual equation extreme right-wing populism portrayal dangerous evil force pose risk democracy\\n',\n 'age crisis populism anti-populism divide mark new twist left-wing politic actively endorse populist path articulate type populist discourse different extreme right-wing variant\\n',\n 'clearly antithetical political orientation equally dangerous anti-democratic populism share\\n',\n 'analysis populism conduct european context suffer exclusive eurocentric analytical focus equate populism extreme right\\n',\n 'today evidence mount picture seriously outdate mainstream research orientation study european populism review\\n',\n 'fact case use category populism describe extreme right ultimately misleading\\n',\n 'populism anti-populism crisis\\n',\n 'association period crisis development populist reaction document literature\\n',\n 'particular context new european picture develop resist austerity agenda discredit denounce irresponsible populist\\n',\n 'highlight populism convenient denunciation discrediting alternative legitimize claim economic political elite govern people govern politic\\n',\n 'greek experience illuminate respect lately emerge central discursive ideological cleavage greek politic exaggeration opposition populist anti-populist tendency accusation populism discredit political force resist austerity measure defend democratic social right especially syriza reference people rejection hegemonic solution crisis\\n',\n 'portray context dangerously populist defender drachma lobby anti-eu anti-nato party ﬂirt violence foment ultra-leftist short picture paint political force incompatible political stability important hostile european democratic value\\n',\n 'demonization challenge basis antithetical political orientation left authoritarian extreme right standard answer behalf go theory extreme equally dangerous democracy extremist populism share\\n',\n 'furthermore far constitute greek peculiarity strong association populism extremism formulate basis european extreme dominate european public sphere political academic\\n',\n 'greek declare allow appearance extremist populist\\n',\n 'fact commonplace study populism extremism\\n',\n 'case distinct fusion extremist populism extremist populist party case populism extremism clearly differentiate degree crossover remain issue\\n',\n 'rate having establish naturalize essential link extremism populism step apply political actor common extremism far right nonetheless treat dangerous\\n',\n 'comparison gradually emerge convenient banner populism austerity policy promote facilitate electoral rise leftist populism rightist populism golden case\\n',\n 'antithesis clear meaning caption obvious contrast type populism different interpellation people future-oriented active inclusive democratic emancipatory second passive anti-democratic authoritarian\\n',\n 'point view populist proﬁle destabilize neat geographical differentiation introduce latin american european populism basis predominantly inclusionary character exclusionary character second\\n',\n 'contrast left-wing extreme right-wing populism touch broad question need debate urgently\\n',\n 'simply main fear exist analysis suffer certain euro-centrism reduce conceptual spectrum cover category populism global use particular european experience extreme right-wing xenophobic movement essentialize result association overextend application contingent european meaning elevate universal trans-historical criterion\\n',\n 'time seriously account complexity political variability progressive democratic potential potential visibly present aspect contemporary slow dynamic emergence left-wing populism s context european crisis articulate\\n',\n 'populism ﬁxed constellation series discursive resource different use\\n',\n 'cite conclude idea accord populism represent stable coherent trend typical new radical right want defend idea political family dimension discursive normative register adopt political actor\\n',\n 'immense plurality populist hybrid global environment democratic anti-democratic institutional anti-institutional reﬁned vulgar agonistic antagonistic street power etc\\n',\n 'consideration doubt exclusive association populism extreme right dominate european approach association carefully re-examined\\n',\n 'category populism suitable way conceptualize extreme right\\n',\n 'currently face pan-european rise nationalist xenophobic exclusionary violent extreme right concept populism proper theoretico-political instrument problem perceive categorize debate\\n',\n 'fall victim aforementioned overextension past european experience representation use category populism describe political force actor discourse role people secondary peripheral case reference simply opportunistic\\n',\n 'example euphemism obey certain type pro-european political use populist refer force outright racist chauvinist fascist like\\n',\n 'aim european right-wing populism defend reassert nation race maybe deal primarily nationalist racist discourse reference people peripheral secondary\\n',\n 'fact addition peripheral importance people extreme right particular type create considerable distance global populist canon\\n',\n 'prognosis return power people advocate exclusive heroic elite miss mainstream euro-centric analysis populism\\n',\n 'clearly point tension conceptualization populism apply extreme right\\n',\n 'addition radical nationalist radical right force brand populist\\n',\n 'particular try test common assumption find journalistic academic analysis performance domestically internationally constitute populist force appeal populist discourse secondly give exclusive association populism extreme right-wing movement european context pose populist danger european value\\n',\n 'obviously impossible research seriously allege populist character reach conclusion issue clear formulation criterion sophisticated operational theory populism\\n',\n 'take account diachronic underestimated tendency exist literature adopt minimal criterion forward discursive theory populism\\n',\n 'frame recent economic political event predominantly populist political culture post-authoritarian era embark detailed examination discourse election\\n',\n 'count consistently conclude discourse populist\\n',\n 'virtual equation extreme right-wing populism portrayal dangerous political force threaten democracy\\n',\n 'clearly antithetical political orientation common populism espouse\\n',\n 'registering require change perspective exclusive analytical focus equate populism extreme right\\n',\n 'hand mount body evidence suggest old picture need review persuasively argue populism appropriate conceptual tool conceptualize political movement outright nationalist racist fascist\\n',\n 'available wd rise greek political star foe austerity put edge available lunch rise star available emphasis add available radical conservatism year populism destroy evolution populist potential european politic new right radicalism antisystem populism\\n',\n 'populism face democracy\\n',\n 'populist rupture discourse\\n',\n 'antinomy formalism theory populism lesson religious populism religion populism contemporary\\n',\n 'paradoxically late reformulation theory shift position far criterion concern populism synonymous politic signiﬁer potentially nodal point populist discourse\\n',\n 'word risk loose conceptual particularity operationality populism tool concrete political analysis antinomy formalism weaken empirical applicability approach op\\n',\n 'rise sacralisation consensus rise right-wing populism\\n',\n 'power populism greek case\\n',\n 'religious populism political culture greek case antinomy formalism religion\\n',\n 'populism op\\n',\n 'inclusionary populism compare contemporary\\n',\n 'recently observe leader accuse populist\\n',\n 'right-wing populism adversary identiﬁed immigrant adversary left-wing populist movement constitute conﬁguration force sustain neo-liberal hegemony\\n',\n 'right-wing populism\\n',\n 'course mean populism manifest time crisis merely existence systemic crisis usually favour rise\\n',\n 'word association crisis populism rough tendency correlation deﬁnitional requirement essential criterion populism neo-populism especially de la\\n',\n 'extremist populist available http://www.protothema.gr/news-in-english/article/319690/samaras-from-brussels-against-extremists-andpopulists/\\n',\n 'ideology far left populism advance online version available http://onlinelibrary.wiley.com/doi/10./1467-9248\\n',\n 'european leader wary rise eurosceptic populism leave right available\\n',\n 'populism opposite contentious relationship democracy available ism-itsopposites-and-its-contentious-relationsh\\n',\n 'fact case increasingly fertile soil rise leftist inclusionary populist force european country severely hit current economic crisis so-called chance equally case european country avoid bad\\n',\n 'respect wave populism\\n',\n 'guarantee argument left-wing populism inevitably positive impact democracy impact negative positive predetermine advance certainly priori dismiss negative\\n',\n 'recent critique populism competitive authoritarian tendency populism competitive authoritarianism\\n',\n 'needless virtually progressive legacy populist politic conﬁne surface variety geographical historical context include\\n',\n 'rise populism available dangerous path available op\\n',\n 'elitist populism extreme right\\n',\n 'populism twenty-ﬁrst century\\n',\n 'justiﬁcation lump banner extremist populism turn unfounded respect kick\\n',\n 'anti-politics post-democracy available research require relationship populist-nationalist party anel political party create literary overnight achieve consecutive election\\n',\n 'overall return opening paragraph essay eventually prove incompetent irresponsible dangerous likely result populism']"
     },
     "execution_count": 13,
     "metadata": {},
     "output_type": "execute_result"
    }
   ],
   "source": [
    "[sent for sent in lemmatized_sentences if re.search(r\"^populis|\\spopulis\", sent)]"
   ],
   "metadata": {
    "collapsed": false
   }
  },
  {
   "cell_type": "code",
   "execution_count": 14,
   "outputs": [],
   "source": [
    "def read_lemmatized_sents(pop_id):\n",
    "    path = \"../data/large_data/articles_lemmata_min/\"\n",
    "    filename = \"lemmata_pop_id_{}.txt\".format(str(pop_id))\n",
    "    filepath = path + filename\n",
    "    with open(filepath, \"r\") as f:\n",
    "        lemmatized_sentences = f.readlines()\n",
    "    return lemmatized_sentences"
   ],
   "metadata": {
    "collapsed": false
   }
  },
  {
   "cell_type": "code",
   "execution_count": 14,
   "outputs": [],
   "source": [],
   "metadata": {
    "collapsed": false
   }
  },
  {
   "cell_type": "code",
   "execution_count": 15,
   "outputs": [],
   "source": [
    "def extract_populis_sents(pop_id):\n",
    "    lemmatized_sentences = read_lemmatized_sents(pop_id)\n",
    "    populis_sents = [sent for sent in lemmatized_sentences if re.search(r\"^populis|\\spopulis\", sent)]\n",
    "    return populis_sents"
   ],
   "metadata": {
    "collapsed": false
   }
  },
  {
   "cell_type": "code",
   "execution_count": 16,
   "outputs": [
    {
     "data": {
      "text/plain": "['victory far-right leader runoff french presidency global symbol democratic resilience face populism promise political renewal\\n',\n 'compare contemporary populist movement\\n',\n 'crisis erupt long historic presidential election bring unprecedented political change massively reject populist option offer\\n',\n 'distrust fuel rise populist party drive voter abstention unprecedented level especially challenge new globalized economy\\n',\n 'displacement traditional right-versus-left cleavage divide separate merged center-right center-left populist far right major sociological implication\\n',\n 'importantly discredit movement discredit opposition economic liberalization cultural liberalism immigration attempt reframe entire crisis illustration divide populist\\n',\n 'crisis accelerate bipolarization french politic elitist center populist far right underlying sociological divide grow deep\\n',\n 'agreed-upon dichotomy progressive national populist reflection sociological ideological realignment underway french politic\\n',\n 'elite populism\\n',\n 'populist protest movement emerge suddenly spectacularly eighteen month decisive electoral victory\\n',\n 'severe defeat interpret defeat populism\\n',\n 'fact public mood hostile political establishment candidate resort populist rhetoric demagogic promise\\n',\n 'novice politic found political movement carry revolution position antiestablishment candidate instigator main beneficiary populist wave roll\\n',\n 'antidote populism embody populism elite concept popular pollster\\n',\n 'appear populist response perceive elitism\\n',\n 'having rise putative antidote populism instead enabler\\n',\n 'populism evoke mixture socialist nationalist theme mild expression patriotism bear little resemblance aggressive nationalism extremism espouse far-right league\\n',\n 'display similarity populist movement recently spring singularity\\n',\n 'populist uprising lead permanent political organization political party\\n']"
     },
     "execution_count": 16,
     "metadata": {},
     "output_type": "execute_result"
    }
   ],
   "source": [
    "extract_populis_sents(62)"
   ],
   "metadata": {
    "collapsed": false
   }
  },
  {
   "cell_type": "code",
   "execution_count": 17,
   "outputs": [],
   "source": [
    "def freq_dict_from_sents(lemmatized_sentences):\n",
    "    sents_tokenized = [sent.split() for sent in lemmatized_sentences]\n",
    "    flat_lemmata = [t for sent in sents_tokenized for t in sent]\n",
    "    freq_dict = dict(nltk.FreqDist(flat_lemmata).most_common())\n",
    "    return freq_dict"
   ],
   "metadata": {
    "collapsed": false
   }
  },
  {
   "cell_type": "code",
   "execution_count": 18,
   "outputs": [
    {
     "data": {
      "text/plain": "{'populist': 13,\n 'populism': 7,\n 'political': 6,\n 'movement': 5,\n 'french': 3,\n 'crisis': 3,\n 'divide': 3,\n 'sociological': 3,\n 'politic': 3,\n 'victory': 2,\n 'far-right': 2,\n 'promise': 2,\n 'unprecedented': 2,\n 'rise': 2,\n 'party': 2,\n 'far': 2,\n 'right': 2,\n 'discredit': 2,\n 'elite': 2,\n 'defeat': 2,\n 'candidate': 2,\n 'antidote': 2,\n 'leader': 1,\n 'runoff': 1,\n 'presidency': 1,\n 'global': 1,\n 'symbol': 1,\n 'democratic': 1,\n 'resilience': 1,\n 'face': 1,\n 'renewal': 1,\n 'compare': 1,\n 'contemporary': 1,\n 'erupt': 1,\n 'long': 1,\n 'historic': 1,\n 'presidential': 1,\n 'election': 1,\n 'bring': 1,\n 'change': 1,\n 'massively': 1,\n 'reject': 1,\n 'option': 1,\n 'offer': 1,\n 'distrust': 1,\n 'fuel': 1,\n 'drive': 1,\n 'voter': 1,\n 'abstention': 1,\n 'level': 1,\n 'especially': 1,\n 'challenge': 1,\n 'new': 1,\n 'globalized': 1,\n 'economy': 1,\n 'displacement': 1,\n 'traditional': 1,\n 'right-versus-left': 1,\n 'cleavage': 1,\n 'separate': 1,\n 'merged': 1,\n 'center-right': 1,\n 'center-left': 1,\n 'major': 1,\n 'implication': 1,\n 'importantly': 1,\n 'opposition': 1,\n 'economic': 1,\n 'liberalization': 1,\n 'cultural': 1,\n 'liberalism': 1,\n 'immigration': 1,\n 'attempt': 1,\n 'reframe': 1,\n 'entire': 1,\n 'illustration': 1,\n 'accelerate': 1,\n 'bipolarization': 1,\n 'elitist': 1,\n 'center': 1,\n 'underlying': 1,\n 'grow': 1,\n 'deep': 1,\n 'agreed-upon': 1,\n 'dichotomy': 1,\n 'progressive': 1,\n 'national': 1,\n 'reflection': 1,\n 'ideological': 1,\n 'realignment': 1,\n 'underway': 1,\n 'protest': 1,\n 'emerge': 1,\n 'suddenly': 1,\n 'spectacularly': 1,\n 'eighteen': 1,\n 'month': 1,\n 'decisive': 1,\n 'electoral': 1,\n 'severe': 1,\n 'interpret': 1,\n 'fact': 1,\n 'public': 1,\n 'mood': 1,\n 'hostile': 1,\n 'establishment': 1,\n 'resort': 1,\n 'rhetoric': 1,\n 'demagogic': 1,\n 'novice': 1,\n 'found': 1,\n 'carry': 1,\n 'revolution': 1,\n 'position': 1,\n 'antiestablishment': 1,\n 'instigator': 1,\n 'main': 1,\n 'beneficiary': 1,\n 'wave': 1,\n 'roll': 1,\n 'embody': 1,\n 'concept': 1,\n 'popular': 1,\n 'pollster': 1,\n 'appear': 1,\n 'response': 1,\n 'perceive': 1,\n 'elitism': 1,\n 'having': 1,\n 'putative': 1,\n 'instead': 1,\n 'enabler': 1,\n 'evoke': 1,\n 'mixture': 1,\n 'socialist': 1,\n 'nationalist': 1,\n 'theme': 1,\n 'mild': 1,\n 'expression': 1,\n 'patriotism': 1,\n 'bear': 1,\n 'little': 1,\n 'resemblance': 1,\n 'aggressive': 1,\n 'nationalism': 1,\n 'extremism': 1,\n 'espouse': 1,\n 'league': 1,\n 'display': 1,\n 'similarity': 1,\n 'recently': 1,\n 'spring': 1,\n 'singularity': 1,\n 'uprising': 1,\n 'lead': 1,\n 'permanent': 1,\n 'organization': 1}"
     },
     "execution_count": 18,
     "metadata": {},
     "output_type": "execute_result"
    }
   ],
   "source": [
    "freq_dict_from_sents(extract_populis_sents(62))"
   ],
   "metadata": {
    "collapsed": false
   }
  },
  {
   "cell_type": "markdown",
   "source": [
    "# extract populis* sentences"
   ],
   "metadata": {
    "collapsed": false
   }
  },
  {
   "cell_type": "code",
   "execution_count": 19,
   "outputs": [],
   "source": [
    "destpath = \"../data/large_data/populis_sents_min/\"\n",
    "try:\n",
    "    os.mkdir(destpath)\n",
    "except:\n",
    "    pass\n",
    "sourcepath = \"../data/large_data/articles_lemmata_min/\"\n",
    "for filename in os.listdir(sourcepath):\n",
    "    if \".txt\" in filename:\n",
    "        filepath = sourcepath + filename\n",
    "        with open(filepath, \"r\") as f:\n",
    "            lemmatized_sentences = f.readlines()\n",
    "        populis_sents = [sent for sent in lemmatized_sentences if re.search(r\"^populis|\\spopulis\", sent)]\n",
    "        with open(destpath + filename.replace(\"lemmata\", \"populis_sents\"), \"w\") as f:\n",
    "            f.writelines(populis_sents)"
   ],
   "metadata": {
    "collapsed": false
   }
  },
  {
   "cell_type": "markdown",
   "source": [
    "# extract concordances"
   ],
   "metadata": {
    "collapsed": false
   }
  },
  {
   "cell_type": "code",
   "execution_count": 17,
   "outputs": [],
   "source": [
    "def read_flat_lemmata(pop_id):\n",
    "    path = \"../data/large_data/articles_lemmata_min/\"\n",
    "    filename = \"lemmata_pop_id_{}.txt\".format(str(pop_id))\n",
    "    filepath = path + filename\n",
    "    with open(filepath, \"r\") as f:\n",
    "        lemmata= f.read()\n",
    "    lemmata_list = lemmata.split()\n",
    "    return lemmata_list"
   ],
   "metadata": {
    "collapsed": false
   }
  },
  {
   "cell_type": "code",
   "execution_count": 18,
   "outputs": [
    {
     "data": {
      "text/plain": "['cite',\n 'article',\n 'left-wing',\n 'populism',\n 'european',\n 'periphery',\n 'case',\n '-',\n 'ABSTRACT',\n 'electoral',\n 'performance',\n 'general',\n 'election',\n 'previously',\n 'unknown',\n 'greek',\n 'political',\n 'formation',\n 'radical',\n 'left']"
     },
     "execution_count": 18,
     "metadata": {},
     "output_type": "execute_result"
    }
   ],
   "source": [
    "lemmata_list = read_flat_lemmata(423)\n",
    "lemmata_list[:20]"
   ],
   "metadata": {
    "collapsed": false
   }
  },
  {
   "cell_type": "code",
   "execution_count": 19,
   "outputs": [
    {
     "data": {
      "text/plain": "4531"
     },
     "execution_count": 19,
     "metadata": {},
     "output_type": "execute_result"
    }
   ],
   "source": [
    "len(lemmata_list)"
   ],
   "metadata": {
    "collapsed": false
   }
  },
  {
   "cell_type": "code",
   "execution_count": 20,
   "outputs": [
    {
     "data": {
      "text/plain": "[3, 43, 47, 52, 57, 65, 84, 159, 162, 174]"
     },
     "execution_count": 20,
     "metadata": {},
     "output_type": "execute_result"
    }
   ],
   "source": [
    "inxs = [t[0] for t in enumerate(lemmata_list) if re.search(\"populis\", t[1], re.IGNORECASE)]\n",
    "inxs[:10]"
   ],
   "metadata": {
    "collapsed": false
   }
  },
  {
   "cell_type": "code",
   "execution_count": 22,
   "outputs": [],
   "source": [
    "def conc_margin_sensitive(lemmata_list, i, left, right):\n",
    "    left_i = i - left\n",
    "    right_i = i + right + 1\n",
    "    if left_i < 0:\n",
    "        left_i = 0\n",
    "    if right_i > len(lemmata_list) - 1:\n",
    "        right_i = len(lemmata_list) - 1\n",
    "    return \" \".join(lemmata_list[left_i: right_i])\n",
    "\n",
    "\n",
    "def get_concordance(lemmata_list, inxs, left=1, right=1):\n",
    "    conc_data = [conc_margin_sensitive(lemmata_list, i, left, right) for i in inxs]\n",
    "    # conc_data = [\" \".join(lemmata_list[i-left: i+right+1]) for i in inxs]\n",
    "    return conc_data"
   ],
   "metadata": {
    "collapsed": false
   }
  },
  {
   "cell_type": "code",
   "execution_count": 23,
   "outputs": [
    {
     "data": {
      "text/plain": "['theoretical framework explain current surge populism article argue populist resurgence indicative',\n 'current surge populism article argue populist resurgence indicative profound legitimation crisis',\n 'article argue prominent rival account populist resurgence suffer inattention specific ideational',\n 'suffer inattention specific ideational content populism reaction form elite political rule',\n 'finally article offer integrative account populism tend focus immigration economic issue',\n 'economic issue keyword legitimation crisis populism welfare state capitalism globalization accept',\n 'introduction western political life find populist conjuncture far-reaching political institutional consequence',\n 'political institutional consequence present surge populism inspire thrive literature political theory',\n 'theory political science question conceptualize populism policy conduct populist party threat',\n 'question conceptualize populism policy conduct populist party threat possibility pose populism']"
     },
     "execution_count": 23,
     "metadata": {},
     "output_type": "execute_result"
    }
   ],
   "source": [
    "conc_data = get_concordance(lemmata_list, inxs[:10], 5,5)\n",
    "conc_data"
   ],
   "metadata": {
    "collapsed": false
   }
  },
  {
   "cell_type": "code",
   "execution_count": 24,
   "outputs": [
    {
     "data": {
      "text/plain": "['2022 dsdsd dsdsd fsfsds', '2022 dsdsd dsdsds dsdsd']"
     },
     "execution_count": 24,
     "metadata": {},
     "output_type": "execute_result"
    }
   ],
   "source": [
    "# Define the year variable\n",
    "year = 2022\n",
    "\n",
    "# Define the conc_data list\n",
    "conc_data = [\"dsdsd dsdsd fsfsds\", \"dsdsd dsdsds dsdsd\"]\n",
    "\n",
    "# Add the year to each string in the conc_data list\n",
    "conc_data = [str(year) + \" \" + conc for conc in conc_data]\n",
    "conc_data"
   ],
   "metadata": {
    "collapsed": false
   }
  },
  {
   "cell_type": "code",
   "execution_count": 25,
   "outputs": [],
   "source": [
    "destpath = \"../data/large_data/populis_conc5_min/\"\n",
    "try:\n",
    "    os.mkdir(destpath)\n",
    "except:\n",
    "    pass\n",
    "sourcepath = \"../data/large_data/articles_lemmata_min/\"\n",
    "for filename in os.listdir(sourcepath):\n",
    "    if \".txt\" in filename:\n",
    "        filepath = sourcepath + filename\n",
    "        with open(filepath, \"r\") as f:\n",
    "            lemmata = f.read()\n",
    "        lemmata_list = lemmata.split()\n",
    "        inxs = [t[0] for t in enumerate(lemmata_list) if re.search(\"populis\", t[1], re.IGNORECASE)]\n",
    "        conc_data = get_concordance(lemmata_list, inxs, 5,5)\n",
    "        with open(destpath + filename.replace(\"lemmata\", \"populis_conc5\"), \"w\") as f:\n",
    "            f.writelines(\"\\n\".join(conc_data))"
   ],
   "metadata": {
    "collapsed": false
   }
  },
  {
   "cell_type": "code",
   "execution_count": 26,
   "outputs": [],
   "source": [
    "destpath = \"../data/large_data/populis_conc10_min/\"\n",
    "try:\n",
    "    os.mkdir(destpath)\n",
    "except:\n",
    "    pass\n",
    "sourcepath = \"../data/large_data/articles_lemmata_min/\"\n",
    "for filename in os.listdir(sourcepath):\n",
    "    if \".txt\" in filename:\n",
    "        pop_id = int(re.search(\"\\d+\", filename)[0])\n",
    "        year = popid_year_dict[pop_id]\n",
    "        filepath = sourcepath + filename\n",
    "        with open(filepath, \"r\") as f:\n",
    "            lemmata = f.read()\n",
    "        lemmata_list = lemmata.split()\n",
    "        inxs = [t[0] for t in enumerate(lemmata_list) if re.search(\"populis\", t[1], re.IGNORECASE)]\n",
    "        conc_data = get_concordance(lemmata_list, inxs, 10,10)\n",
    "        #conc_data = [str(year) + \" \" + conc for conc in conc_data] # this is postponed to the next script\n",
    "        with open(destpath + filename.replace(\"lemmata\", \"populis_conc10\"), \"w\") as f:\n",
    "            f.writelines(\"\\n\".join(conc_data))"
   ],
   "metadata": {
    "collapsed": false
   }
  },
  {
   "cell_type": "code",
   "execution_count": 25,
   "outputs": [],
   "source": [],
   "metadata": {
    "collapsed": false
   }
  },
  {
   "cell_type": "markdown",
   "source": [
    " # Extract populis* types"
   ],
   "metadata": {
    "collapsed": false
   }
  },
  {
   "cell_type": "code",
   "execution_count": 27,
   "outputs": [],
   "source": [
    "# all in one\n",
    "populism_types_raw = []\n",
    "sourcepath = \"../data/large_data/articles_lemmata_min/\"\n",
    "for filename in os.listdir(sourcepath):\n",
    "    if \".txt\" in filename:\n",
    "        filepath = sourcepath + filename\n",
    "        with open(filepath, \"r\") as f:\n",
    "            lemmata = f.read()\n",
    "        lemmata_list = lemmata.split()\n",
    "        inxs = [t[0] for t in enumerate(lemmata_list) if re.search(\"populis\", t[1], re.IGNORECASE)]\n",
    "        conc_data = get_concordance(lemmata_list, inxs, 1,-1)\n",
    "    populism_types_raw.extend(conc_data)"
   ],
   "metadata": {
    "collapsed": false
   }
  },
  {
   "cell_type": "code",
   "execution_count": 28,
   "outputs": [
    {
     "data": {
      "text/plain": "['surge', 'argue', 'account', 'content', 'account']"
     },
     "execution_count": 28,
     "metadata": {},
     "output_type": "execute_result"
    }
   ],
   "source": [
    "populism_types_raw[:5]"
   ],
   "metadata": {
    "collapsed": false
   }
  },
  {
   "cell_type": "code",
   "execution_count": 29,
   "outputs": [
    {
     "data": {
      "text/plain": "38422"
     },
     "execution_count": 29,
     "metadata": {},
     "output_type": "execute_result"
    }
   ],
   "source": [
    "len(populism_types_raw)"
   ],
   "metadata": {
    "collapsed": false
   }
  },
  {
   "cell_type": "code",
   "execution_count": 30,
   "outputs": [],
   "source": [
    "poptypes_freqs_raw = nltk.FreqDist(populism_types_raw).most_common()"
   ],
   "metadata": {
    "collapsed": false
   }
  },
  {
   "cell_type": "code",
   "execution_count": 31,
   "outputs": [
    {
     "data": {
      "text/plain": "[('right-wing', 1508),\n ('support', 501),\n ('rise', 401),\n ('party', 400),\n ('left-wing', 355),\n ('vote', 316),\n ('right', 305),\n ('populism', 285),\n ('effect', 262),\n ('study', 259),\n ('argue', 230),\n ('relationship', 222),\n ('populist', 219),\n ('level', 219),\n ('concept', 215),\n ('success', 208),\n ('form', 205),\n ('degree', 205),\n ('use', 203),\n ('case', 202),\n ('american', 194),\n ('people', 188),\n ('measure', 184),\n ('element', 176),\n ('democracy', 165),\n ('type', 165),\n ('new', 161),\n ('feature', 161),\n ('analysis', 160),\n ('literature', 158),\n ('deﬁnition', 152),\n ('theory', 143),\n ('term', 142),\n ('definition', 136),\n ('contemporary', 135),\n ('consider', 134),\n ('approach', 128),\n ('ideology', 119),\n ('european', 117),\n ('left', 115),\n ('understand', 113),\n ('research', 113),\n ('suggest', 109),\n ('rightwe', 109),\n ('power', 109),\n ('explain', 107),\n ('show', 106),\n ('politic', 106),\n ('view', 106),\n ('elite', 101),\n ('nature', 101),\n ('component', 101),\n ('efficacy', 101),\n ('strong', 100),\n ('keyword', 99),\n ('link', 98),\n ('emergence', 98),\n ('radical', 97),\n ('impact', 95),\n ('authoritarian', 94),\n ('mean', 90),\n ('label', 90),\n ('aspect', 90),\n ('include', 89),\n ('successful', 87),\n ('characteristic', 87),\n ('deﬁne', 87),\n ('nationalism', 87),\n ('define', 87),\n ('dimension', 86),\n ('way', 85),\n ('associate', 85),\n ('policy', 85),\n ('identify', 85),\n ('exclusionary', 84),\n ('class', 83),\n ('voting', 82),\n ('find', 81),\n ('example', 80),\n ('understanding', 78),\n ('debate', 78),\n ('extent', 78),\n ('focus', 77),\n ('expect', 76),\n ('claim', 75),\n ('election', 75),\n ('distinguish', 75),\n ('country', 74),\n ('discourse', 74),\n ('leave', 73),\n ('presence', 71),\n ('elect', 71),\n ('time', 70),\n ('context', 69),\n ('content', 68),\n ('idea', 68),\n ('nationalist', 68),\n ('fact', 67),\n ('demand', 67),\n ('challenge', 67)]"
     },
     "execution_count": 31,
     "metadata": {},
     "output_type": "execute_result"
    }
   ],
   "source": [
    "poptypes_freqs_raw[:100]"
   ],
   "metadata": {
    "collapsed": false
   }
  },
  {
   "cell_type": "code",
   "execution_count": 32,
   "outputs": [
    {
     "data": {
      "text/plain": "['right-wing',\n 'right',\n 'rightwe',\n 'radical-right',\n 'far-right',\n 'rightist',\n 'rights-oriented',\n 'right-leaning',\n 'rightwing',\n 'extreme-right',\n 'radicalright',\n 'rights-based',\n 'farright',\n 'left-right',\n 'right-',\n 'radical-right-wing']"
     },
     "execution_count": 32,
     "metadata": {},
     "output_type": "execute_result"
    }
   ],
   "source": [
    "[tup[0] for tup in poptypes_freqs_raw if (re.search(r\"right\", tup[0])) and (tup[1]>1)]"
   ],
   "metadata": {
    "collapsed": false
   }
  },
  {
   "cell_type": "code",
   "execution_count": 33,
   "outputs": [],
   "source": [
    "poptypes_dict = {\"right-wing\" :\n",
    "                     ['right-wing', 'right', 'right-','rightwe', 'radical-right', 'radical-right-wing', 'far-right', 'rightist', 'right-leaning', 'radicalright', 'rightwing', 'extreme-right', 'farright'],\n",
    "                 \"left-wing\":\n",
    "                    ['left-wing', 'left', 'left-', 'leftist', 'radical-left', 'leftwing', 'left-leaning', 'leftwe', 'leftism', 'center-left', 'radicalleft'],\n",
    "                      #'left-libertarian',\n",
    "                      #'center-left',\n",
    "                 \"nationalist\" :\n",
    "                     ['nationalism', 'nationalist', 'national', 'nation', 'ethno-nationalist','nationalistic', 'neo-nationalism', 'nationalisms'],\n",
    "                 #\"ethno\" :\n",
    "                     # ['ethno', 'ethno-nationalist', 'ethnoregionalist'],\n",
    "                 \"nativist\" :\n",
    "                     ['nativism', 'nativist'],\n",
    "                 \"radical\" :\n",
    "                     ['radical',  'radicalism', 'radically'],\n",
    "                     # 'radical-democratic'\n",
    "                 \"moderate\" :\n",
    "                     [\"moderate\", \"moderately\"],\n",
    "                 \"authoritatian\" :\n",
    "                     ['authoritarian', 'authoritarianism'],\n",
    "                 \"inclusive\" :\n",
    "                     ['inclusionary', 'inclusive', 'inclusion'],\n",
    "                 \"exclusive\" :\n",
    "                     ['exclusionary', 'exclusion', 'exclusive', 'exclusively', 'exclusionist'],\n",
    "                 \"neoliberal\" :\n",
    "                     ['neoliberal', 'neo-liberal', 'Neoliberalism', 'neoliberalism', 'Neoliberal']\n",
    "                 }"
   ],
   "metadata": {
    "collapsed": false
   }
  },
  {
   "cell_type": "code",
   "execution_count": 34,
   "outputs": [],
   "source": [
    "poptypes_counts = []\n",
    "for key in poptypes_dict.keys():\n",
    "    poptypes_counts.append([key, sum([tup[1] for tup in poptypes_freqs_raw if tup[0] in poptypes_dict[key]])])"
   ],
   "metadata": {
    "collapsed": false
   }
  },
  {
   "cell_type": "code",
   "execution_count": 35,
   "outputs": [
    {
     "data": {
      "text/plain": "38422"
     },
     "execution_count": 35,
     "metadata": {},
     "output_type": "execute_result"
    }
   ],
   "source": [
    "sum([tup[1] for tup in poptypes_freqs_raw])"
   ],
   "metadata": {
    "collapsed": false
   }
  },
  {
   "cell_type": "code",
   "execution_count": 36,
   "outputs": [
    {
     "data": {
      "text/plain": "         poptype  count\n0     right-wing   2044\n1      left-wing    611\n2    nationalist    213\n3       nativist     72\n4        radical    105\n5       moderate     42\n6  authoritatian    156\n7      inclusive     67\n8      exclusive    110\n9     neoliberal     62",
      "text/html": "<div>\n<style scoped>\n    .dataframe tbody tr th:only-of-type {\n        vertical-align: middle;\n    }\n\n    .dataframe tbody tr th {\n        vertical-align: top;\n    }\n\n    .dataframe thead th {\n        text-align: right;\n    }\n</style>\n<table border=\"1\" class=\"dataframe\">\n  <thead>\n    <tr style=\"text-align: right;\">\n      <th></th>\n      <th>poptype</th>\n      <th>count</th>\n    </tr>\n  </thead>\n  <tbody>\n    <tr>\n      <th>0</th>\n      <td>right-wing</td>\n      <td>2044</td>\n    </tr>\n    <tr>\n      <th>1</th>\n      <td>left-wing</td>\n      <td>611</td>\n    </tr>\n    <tr>\n      <th>2</th>\n      <td>nationalist</td>\n      <td>213</td>\n    </tr>\n    <tr>\n      <th>3</th>\n      <td>nativist</td>\n      <td>72</td>\n    </tr>\n    <tr>\n      <th>4</th>\n      <td>radical</td>\n      <td>105</td>\n    </tr>\n    <tr>\n      <th>5</th>\n      <td>moderate</td>\n      <td>42</td>\n    </tr>\n    <tr>\n      <th>6</th>\n      <td>authoritatian</td>\n      <td>156</td>\n    </tr>\n    <tr>\n      <th>7</th>\n      <td>inclusive</td>\n      <td>67</td>\n    </tr>\n    <tr>\n      <th>8</th>\n      <td>exclusive</td>\n      <td>110</td>\n    </tr>\n    <tr>\n      <th>9</th>\n      <td>neoliberal</td>\n      <td>62</td>\n    </tr>\n  </tbody>\n</table>\n</div>"
     },
     "execution_count": 36,
     "metadata": {},
     "output_type": "execute_result"
    }
   ],
   "source": [
    "poptypes_df = pd.DataFrame(poptypes_counts, columns=[\"poptype\", \"count\"])\n",
    "poptypes_df"
   ],
   "metadata": {
    "collapsed": false
   }
  },
  {
   "cell_type": "code",
   "execution_count": 37,
   "outputs": [
    {
     "data": {
      "text/plain": "         poptype  count  proportion_pct\n0     right-wing   2044        5.319869\n1      left-wing    611        1.590235\n2    nationalist    213        0.554370\n3       nativist     72        0.187393\n4        radical    105        0.273281\n5       moderate     42        0.109312\n6  authoritatian    156        0.406017\n7      inclusive     67        0.174379\n8      exclusive    110        0.286294\n9     neoliberal     62        0.161366",
      "text/html": "<div>\n<style scoped>\n    .dataframe tbody tr th:only-of-type {\n        vertical-align: middle;\n    }\n\n    .dataframe tbody tr th {\n        vertical-align: top;\n    }\n\n    .dataframe thead th {\n        text-align: right;\n    }\n</style>\n<table border=\"1\" class=\"dataframe\">\n  <thead>\n    <tr style=\"text-align: right;\">\n      <th></th>\n      <th>poptype</th>\n      <th>count</th>\n      <th>proportion_pct</th>\n    </tr>\n  </thead>\n  <tbody>\n    <tr>\n      <th>0</th>\n      <td>right-wing</td>\n      <td>2044</td>\n      <td>5.319869</td>\n    </tr>\n    <tr>\n      <th>1</th>\n      <td>left-wing</td>\n      <td>611</td>\n      <td>1.590235</td>\n    </tr>\n    <tr>\n      <th>2</th>\n      <td>nationalist</td>\n      <td>213</td>\n      <td>0.554370</td>\n    </tr>\n    <tr>\n      <th>3</th>\n      <td>nativist</td>\n      <td>72</td>\n      <td>0.187393</td>\n    </tr>\n    <tr>\n      <th>4</th>\n      <td>radical</td>\n      <td>105</td>\n      <td>0.273281</td>\n    </tr>\n    <tr>\n      <th>5</th>\n      <td>moderate</td>\n      <td>42</td>\n      <td>0.109312</td>\n    </tr>\n    <tr>\n      <th>6</th>\n      <td>authoritatian</td>\n      <td>156</td>\n      <td>0.406017</td>\n    </tr>\n    <tr>\n      <th>7</th>\n      <td>inclusive</td>\n      <td>67</td>\n      <td>0.174379</td>\n    </tr>\n    <tr>\n      <th>8</th>\n      <td>exclusive</td>\n      <td>110</td>\n      <td>0.286294</td>\n    </tr>\n    <tr>\n      <th>9</th>\n      <td>neoliberal</td>\n      <td>62</td>\n      <td>0.161366</td>\n    </tr>\n  </tbody>\n</table>\n</div>"
     },
     "execution_count": 37,
     "metadata": {},
     "output_type": "execute_result"
    }
   ],
   "source": [
    "poptypes_df[\"proportion_pct\"] = (poptypes_df[\"count\"] / sum([tup[1] for tup in poptypes_freqs_raw]) * 100)\n",
    "poptypes_df"
   ],
   "metadata": {
    "collapsed": false
   }
  },
  {
   "cell_type": "code",
   "execution_count": 38,
   "outputs": [
    {
     "data": {
      "text/plain": "         poptype  count  proportion_pct\n0     right-wing   2044       58.701895\n1      left-wing    611       17.547387\n2    nationalist    213        6.117174\n3       nativist     72        2.067777\n4        radical    105        3.015508\n5       moderate     42        1.206203\n6  authoritatian    156        4.480184\n7      inclusive     67        1.924182\n8      exclusive    110        3.159104\n9     neoliberal     62        1.780586",
      "text/html": "<div>\n<style scoped>\n    .dataframe tbody tr th:only-of-type {\n        vertical-align: middle;\n    }\n\n    .dataframe tbody tr th {\n        vertical-align: top;\n    }\n\n    .dataframe thead th {\n        text-align: right;\n    }\n</style>\n<table border=\"1\" class=\"dataframe\">\n  <thead>\n    <tr style=\"text-align: right;\">\n      <th></th>\n      <th>poptype</th>\n      <th>count</th>\n      <th>proportion_pct</th>\n    </tr>\n  </thead>\n  <tbody>\n    <tr>\n      <th>0</th>\n      <td>right-wing</td>\n      <td>2044</td>\n      <td>58.701895</td>\n    </tr>\n    <tr>\n      <th>1</th>\n      <td>left-wing</td>\n      <td>611</td>\n      <td>17.547387</td>\n    </tr>\n    <tr>\n      <th>2</th>\n      <td>nationalist</td>\n      <td>213</td>\n      <td>6.117174</td>\n    </tr>\n    <tr>\n      <th>3</th>\n      <td>nativist</td>\n      <td>72</td>\n      <td>2.067777</td>\n    </tr>\n    <tr>\n      <th>4</th>\n      <td>radical</td>\n      <td>105</td>\n      <td>3.015508</td>\n    </tr>\n    <tr>\n      <th>5</th>\n      <td>moderate</td>\n      <td>42</td>\n      <td>1.206203</td>\n    </tr>\n    <tr>\n      <th>6</th>\n      <td>authoritatian</td>\n      <td>156</td>\n      <td>4.480184</td>\n    </tr>\n    <tr>\n      <th>7</th>\n      <td>inclusive</td>\n      <td>67</td>\n      <td>1.924182</td>\n    </tr>\n    <tr>\n      <th>8</th>\n      <td>exclusive</td>\n      <td>110</td>\n      <td>3.159104</td>\n    </tr>\n    <tr>\n      <th>9</th>\n      <td>neoliberal</td>\n      <td>62</td>\n      <td>1.780586</td>\n    </tr>\n  </tbody>\n</table>\n</div>"
     },
     "execution_count": 38,
     "metadata": {},
     "output_type": "execute_result"
    }
   ],
   "source": [
    "poptypes_df[\"proportion_pct\"] = (poptypes_df[\"count\"] / poptypes_df[\"count\"].sum() * 100)\n",
    "poptypes_df"
   ],
   "metadata": {
    "collapsed": false
   }
  },
  {
   "cell_type": "code",
   "execution_count": 39,
   "outputs": [
    {
     "data": {
      "text/plain": "         poptype  count  proportion_pct  \\\n0     right-wing   2044       58.701895   \n1      left-wing    611       17.547387   \n2    nationalist    213        6.117174   \n3       nativist     72        2.067777   \n4        radical    105        3.015508   \n5       moderate     42        1.206203   \n6  authoritatian    156        4.480184   \n7      inclusive     67        1.924182   \n8      exclusive    110        3.159104   \n9     neoliberal     62        1.780586   \n\n                                               words  \n0  [right-wing, right, right-, rightwe, radical-r...  \n1  [left-wing, left, left-, leftist, radical-left...  \n2  [nationalism, nationalist, national, nation, e...  \n3                               [nativism, nativist]  \n4                   [radical, radicalism, radically]  \n5                             [moderate, moderately]  \n6                  [authoritarian, authoritarianism]  \n7               [inclusionary, inclusive, inclusion]  \n8  [exclusionary, exclusion, exclusive, exclusive...  \n9  [neoliberal, neo-liberal, Neoliberalism, neoli...  ",
      "text/html": "<div>\n<style scoped>\n    .dataframe tbody tr th:only-of-type {\n        vertical-align: middle;\n    }\n\n    .dataframe tbody tr th {\n        vertical-align: top;\n    }\n\n    .dataframe thead th {\n        text-align: right;\n    }\n</style>\n<table border=\"1\" class=\"dataframe\">\n  <thead>\n    <tr style=\"text-align: right;\">\n      <th></th>\n      <th>poptype</th>\n      <th>count</th>\n      <th>proportion_pct</th>\n      <th>words</th>\n    </tr>\n  </thead>\n  <tbody>\n    <tr>\n      <th>0</th>\n      <td>right-wing</td>\n      <td>2044</td>\n      <td>58.701895</td>\n      <td>[right-wing, right, right-, rightwe, radical-r...</td>\n    </tr>\n    <tr>\n      <th>1</th>\n      <td>left-wing</td>\n      <td>611</td>\n      <td>17.547387</td>\n      <td>[left-wing, left, left-, leftist, radical-left...</td>\n    </tr>\n    <tr>\n      <th>2</th>\n      <td>nationalist</td>\n      <td>213</td>\n      <td>6.117174</td>\n      <td>[nationalism, nationalist, national, nation, e...</td>\n    </tr>\n    <tr>\n      <th>3</th>\n      <td>nativist</td>\n      <td>72</td>\n      <td>2.067777</td>\n      <td>[nativism, nativist]</td>\n    </tr>\n    <tr>\n      <th>4</th>\n      <td>radical</td>\n      <td>105</td>\n      <td>3.015508</td>\n      <td>[radical, radicalism, radically]</td>\n    </tr>\n    <tr>\n      <th>5</th>\n      <td>moderate</td>\n      <td>42</td>\n      <td>1.206203</td>\n      <td>[moderate, moderately]</td>\n    </tr>\n    <tr>\n      <th>6</th>\n      <td>authoritatian</td>\n      <td>156</td>\n      <td>4.480184</td>\n      <td>[authoritarian, authoritarianism]</td>\n    </tr>\n    <tr>\n      <th>7</th>\n      <td>inclusive</td>\n      <td>67</td>\n      <td>1.924182</td>\n      <td>[inclusionary, inclusive, inclusion]</td>\n    </tr>\n    <tr>\n      <th>8</th>\n      <td>exclusive</td>\n      <td>110</td>\n      <td>3.159104</td>\n      <td>[exclusionary, exclusion, exclusive, exclusive...</td>\n    </tr>\n    <tr>\n      <th>9</th>\n      <td>neoliberal</td>\n      <td>62</td>\n      <td>1.780586</td>\n      <td>[neoliberal, neo-liberal, Neoliberalism, neoli...</td>\n    </tr>\n  </tbody>\n</table>\n</div>"
     },
     "execution_count": 39,
     "metadata": {},
     "output_type": "execute_result"
    }
   ],
   "source": [
    "poptypes_df[\"words\"] = poptypes_df[\"poptype\"].apply(lambda x: poptypes_dict[x])\n",
    "poptypes_df"
   ],
   "metadata": {
    "collapsed": false
   }
  },
  {
   "cell_type": "code",
   "execution_count": 40,
   "outputs": [],
   "source": [
    "poptypes_df.to_csv(\"../data/poptypes_df.csv\")"
   ],
   "metadata": {
    "collapsed": false
   }
  },
  {
   "cell_type": "code",
   "execution_count": null,
   "outputs": [],
   "source": [],
   "metadata": {
    "collapsed": false
   }
  }
 ],
 "metadata": {
  "kernelspec": {
   "name": "conda_base",
   "language": "python",
   "display_name": "conda_base"
  },
  "language_info": {
   "codemirror_mode": {
    "name": "ipython",
    "version": 2
   },
   "file_extension": ".py",
   "mimetype": "text/x-python",
   "name": "python",
   "nbconvert_exporter": "python",
   "pygments_lexer": "ipython2",
   "version": "2.7.6"
  }
 },
 "nbformat": 4,
 "nbformat_minor": 0
}
